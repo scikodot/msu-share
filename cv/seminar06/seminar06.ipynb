{
 "cells": [
  {
   "cell_type": "markdown",
   "metadata": {},
   "source": [
    "## Imports"
   ]
  },
  {
   "cell_type": "code",
   "execution_count": 1,
   "metadata": {},
   "outputs": [],
   "source": [
    "import numpy as np\n",
    "import pandas as pd\n",
    "from matplotlib import pyplot as plt"
   ]
  },
  {
   "cell_type": "markdown",
   "metadata": {},
   "source": [
    "## Input"
   ]
  },
  {
   "cell_type": "code",
   "execution_count": 2,
   "metadata": {},
   "outputs": [
    {
     "data": {
      "text/html": [
       "<div>\n",
       "<style scoped>\n",
       "    .dataframe tbody tr th:only-of-type {\n",
       "        vertical-align: middle;\n",
       "    }\n",
       "\n",
       "    .dataframe tbody tr th {\n",
       "        vertical-align: top;\n",
       "    }\n",
       "\n",
       "    .dataframe thead th {\n",
       "        text-align: right;\n",
       "    }\n",
       "</style>\n",
       "<table border=\"1\" class=\"dataframe\">\n",
       "  <thead>\n",
       "    <tr style=\"text-align: right;\">\n",
       "      <th></th>\n",
       "      <th>x</th>\n",
       "      <th>y</th>\n",
       "      <th>w</th>\n",
       "      <th>h</th>\n",
       "      <th>c</th>\n",
       "    </tr>\n",
       "  </thead>\n",
       "  <tbody>\n",
       "    <tr>\n",
       "      <th>0</th>\n",
       "      <td>10</td>\n",
       "      <td>0</td>\n",
       "      <td>100</td>\n",
       "      <td>100</td>\n",
       "      <td>1</td>\n",
       "    </tr>\n",
       "    <tr>\n",
       "      <th>1</th>\n",
       "      <td>200</td>\n",
       "      <td>300</td>\n",
       "      <td>95</td>\n",
       "      <td>200</td>\n",
       "      <td>1</td>\n",
       "    </tr>\n",
       "    <tr>\n",
       "      <th>2</th>\n",
       "      <td>1000</td>\n",
       "      <td>500</td>\n",
       "      <td>250</td>\n",
       "      <td>300</td>\n",
       "      <td>1</td>\n",
       "    </tr>\n",
       "    <tr>\n",
       "      <th>3</th>\n",
       "      <td>700</td>\n",
       "      <td>500</td>\n",
       "      <td>98</td>\n",
       "      <td>112</td>\n",
       "      <td>1</td>\n",
       "    </tr>\n",
       "    <tr>\n",
       "      <th>4</th>\n",
       "      <td>690</td>\n",
       "      <td>212</td>\n",
       "      <td>102</td>\n",
       "      <td>108</td>\n",
       "      <td>1</td>\n",
       "    </tr>\n",
       "  </tbody>\n",
       "</table>\n",
       "</div>"
      ],
      "text/plain": [
       "      x    y    w    h  c\n",
       "0    10    0  100  100  1\n",
       "1   200  300   95  200  1\n",
       "2  1000  500  250  300  1\n",
       "3   700  500   98  112  1\n",
       "4   690  212  102  108  1"
      ]
     },
     "execution_count": 2,
     "metadata": {},
     "output_type": "execute_result"
    }
   ],
   "source": [
    "gt = pd.read_csv(\"input/gt.csv\")\n",
    "gt"
   ]
  },
  {
   "cell_type": "code",
   "execution_count": 3,
   "metadata": {},
   "outputs": [
    {
     "data": {
      "text/html": [
       "<div>\n",
       "<style scoped>\n",
       "    .dataframe tbody tr th:only-of-type {\n",
       "        vertical-align: middle;\n",
       "    }\n",
       "\n",
       "    .dataframe tbody tr th {\n",
       "        vertical-align: top;\n",
       "    }\n",
       "\n",
       "    .dataframe thead th {\n",
       "        text-align: right;\n",
       "    }\n",
       "</style>\n",
       "<table border=\"1\" class=\"dataframe\">\n",
       "  <thead>\n",
       "    <tr style=\"text-align: right;\">\n",
       "      <th></th>\n",
       "      <th>x</th>\n",
       "      <th>y</th>\n",
       "      <th>w</th>\n",
       "      <th>h</th>\n",
       "      <th>c</th>\n",
       "      <th>conf</th>\n",
       "    </tr>\n",
       "  </thead>\n",
       "  <tbody>\n",
       "    <tr>\n",
       "      <th>0</th>\n",
       "      <td>710</td>\n",
       "      <td>530</td>\n",
       "      <td>83</td>\n",
       "      <td>92</td>\n",
       "      <td>1</td>\n",
       "      <td>0.4</td>\n",
       "    </tr>\n",
       "    <tr>\n",
       "      <th>1</th>\n",
       "      <td>653</td>\n",
       "      <td>250</td>\n",
       "      <td>79</td>\n",
       "      <td>94</td>\n",
       "      <td>1</td>\n",
       "      <td>0.6</td>\n",
       "    </tr>\n",
       "    <tr>\n",
       "      <th>2</th>\n",
       "      <td>205</td>\n",
       "      <td>310</td>\n",
       "      <td>100</td>\n",
       "      <td>196</td>\n",
       "      <td>1</td>\n",
       "      <td>0.7</td>\n",
       "    </tr>\n",
       "    <tr>\n",
       "      <th>3</th>\n",
       "      <td>1020</td>\n",
       "      <td>490</td>\n",
       "      <td>200</td>\n",
       "      <td>312</td>\n",
       "      <td>1</td>\n",
       "      <td>0.5</td>\n",
       "    </tr>\n",
       "    <tr>\n",
       "      <th>4</th>\n",
       "      <td>123</td>\n",
       "      <td>463</td>\n",
       "      <td>335</td>\n",
       "      <td>1023</td>\n",
       "      <td>1</td>\n",
       "      <td>0.8</td>\n",
       "    </tr>\n",
       "    <tr>\n",
       "      <th>5</th>\n",
       "      <td>463</td>\n",
       "      <td>230</td>\n",
       "      <td>1020</td>\n",
       "      <td>350</td>\n",
       "      <td>1</td>\n",
       "      <td>0.3</td>\n",
       "    </tr>\n",
       "    <tr>\n",
       "      <th>6</th>\n",
       "      <td>5</td>\n",
       "      <td>7</td>\n",
       "      <td>101</td>\n",
       "      <td>103</td>\n",
       "      <td>1</td>\n",
       "      <td>0.9</td>\n",
       "    </tr>\n",
       "  </tbody>\n",
       "</table>\n",
       "</div>"
      ],
      "text/plain": [
       "      x    y     w     h  c  conf\n",
       "0   710  530    83    92  1   0.4\n",
       "1   653  250    79    94  1   0.6\n",
       "2   205  310   100   196  1   0.7\n",
       "3  1020  490   200   312  1   0.5\n",
       "4   123  463   335  1023  1   0.8\n",
       "5   463  230  1020   350  1   0.3\n",
       "6     5    7   101   103  1   0.9"
      ]
     },
     "execution_count": 3,
     "metadata": {},
     "output_type": "execute_result"
    }
   ],
   "source": [
    "pred = pd.read_csv(\"input/pred.csv\")\n",
    "pred"
   ]
  },
  {
   "cell_type": "code",
   "execution_count": 4,
   "metadata": {},
   "outputs": [
    {
     "data": {
      "text/html": [
       "<div>\n",
       "<style scoped>\n",
       "    .dataframe tbody tr th:only-of-type {\n",
       "        vertical-align: middle;\n",
       "    }\n",
       "\n",
       "    .dataframe tbody tr th {\n",
       "        vertical-align: top;\n",
       "    }\n",
       "\n",
       "    .dataframe thead th {\n",
       "        text-align: right;\n",
       "    }\n",
       "</style>\n",
       "<table border=\"1\" class=\"dataframe\">\n",
       "  <thead>\n",
       "    <tr style=\"text-align: right;\">\n",
       "      <th></th>\n",
       "      <th>x</th>\n",
       "      <th>y</th>\n",
       "      <th>w</th>\n",
       "      <th>h</th>\n",
       "      <th>c</th>\n",
       "      <th>conf</th>\n",
       "    </tr>\n",
       "  </thead>\n",
       "  <tbody>\n",
       "    <tr>\n",
       "      <th>6</th>\n",
       "      <td>5</td>\n",
       "      <td>7</td>\n",
       "      <td>101</td>\n",
       "      <td>103</td>\n",
       "      <td>1</td>\n",
       "      <td>0.9</td>\n",
       "    </tr>\n",
       "    <tr>\n",
       "      <th>4</th>\n",
       "      <td>123</td>\n",
       "      <td>463</td>\n",
       "      <td>335</td>\n",
       "      <td>1023</td>\n",
       "      <td>1</td>\n",
       "      <td>0.8</td>\n",
       "    </tr>\n",
       "    <tr>\n",
       "      <th>2</th>\n",
       "      <td>205</td>\n",
       "      <td>310</td>\n",
       "      <td>100</td>\n",
       "      <td>196</td>\n",
       "      <td>1</td>\n",
       "      <td>0.7</td>\n",
       "    </tr>\n",
       "    <tr>\n",
       "      <th>1</th>\n",
       "      <td>653</td>\n",
       "      <td>250</td>\n",
       "      <td>79</td>\n",
       "      <td>94</td>\n",
       "      <td>1</td>\n",
       "      <td>0.6</td>\n",
       "    </tr>\n",
       "    <tr>\n",
       "      <th>3</th>\n",
       "      <td>1020</td>\n",
       "      <td>490</td>\n",
       "      <td>200</td>\n",
       "      <td>312</td>\n",
       "      <td>1</td>\n",
       "      <td>0.5</td>\n",
       "    </tr>\n",
       "    <tr>\n",
       "      <th>0</th>\n",
       "      <td>710</td>\n",
       "      <td>530</td>\n",
       "      <td>83</td>\n",
       "      <td>92</td>\n",
       "      <td>1</td>\n",
       "      <td>0.4</td>\n",
       "    </tr>\n",
       "    <tr>\n",
       "      <th>5</th>\n",
       "      <td>463</td>\n",
       "      <td>230</td>\n",
       "      <td>1020</td>\n",
       "      <td>350</td>\n",
       "      <td>1</td>\n",
       "      <td>0.3</td>\n",
       "    </tr>\n",
       "  </tbody>\n",
       "</table>\n",
       "</div>"
      ],
      "text/plain": [
       "      x    y     w     h  c  conf\n",
       "6     5    7   101   103  1   0.9\n",
       "4   123  463   335  1023  1   0.8\n",
       "2   205  310   100   196  1   0.7\n",
       "1   653  250    79    94  1   0.6\n",
       "3  1020  490   200   312  1   0.5\n",
       "0   710  530    83    92  1   0.4\n",
       "5   463  230  1020   350  1   0.3"
      ]
     },
     "execution_count": 4,
     "metadata": {},
     "output_type": "execute_result"
    }
   ],
   "source": [
    "pred = pred.sort_values('conf', ascending=False)\n",
    "pred"
   ]
  },
  {
   "cell_type": "code",
   "execution_count": 5,
   "metadata": {},
   "outputs": [],
   "source": [
    "def get_segments(df):\n",
    "    x_segments = [df['x'], df['x'] + df['w']]\n",
    "    y_segments = [df['y'], df['y'] + df['h']]\n",
    "    return np.array([x_segments, y_segments]).transpose(0, 2, 1)"
   ]
  },
  {
   "cell_type": "code",
   "execution_count": 6,
   "metadata": {},
   "outputs": [
    {
     "data": {
      "text/plain": [
       "array([[[   5,  106],\n",
       "        [ 123,  458],\n",
       "        [ 205,  305],\n",
       "        [ 653,  732],\n",
       "        [1020, 1220],\n",
       "        [ 710,  793],\n",
       "        [ 463, 1483]],\n",
       "\n",
       "       [[   7,  110],\n",
       "        [ 463, 1486],\n",
       "        [ 310,  506],\n",
       "        [ 250,  344],\n",
       "        [ 490,  802],\n",
       "        [ 530,  622],\n",
       "        [ 230,  580]]], dtype=int64)"
      ]
     },
     "execution_count": 6,
     "metadata": {},
     "output_type": "execute_result"
    }
   ],
   "source": [
    "get_segments(pred)"
   ]
  },
  {
   "cell_type": "code",
   "execution_count": 7,
   "metadata": {},
   "outputs": [
    {
     "data": {
      "text/plain": [
       "array([[[  10,  110],\n",
       "        [ 200,  295],\n",
       "        [1000, 1250],\n",
       "        [ 700,  798],\n",
       "        [ 690,  792]],\n",
       "\n",
       "       [[   0,  100],\n",
       "        [ 300,  500],\n",
       "        [ 500,  800],\n",
       "        [ 500,  612],\n",
       "        [ 212,  320]]], dtype=int64)"
      ]
     },
     "execution_count": 7,
     "metadata": {},
     "output_type": "execute_result"
    }
   ],
   "source": [
    "get_segments(gt)"
   ]
  },
  {
   "cell_type": "code",
   "execution_count": 8,
   "metadata": {},
   "outputs": [],
   "source": [
    "def get_intersection(source, target):\n",
    "    # Horizontal segments intersection\n",
    "    x_intersection = get_segment_intersection(source[0], target[0])\n",
    "\n",
    "    # Vertical segments intersection\n",
    "    y_intersection = get_segment_intersection(source[1], target[1])\n",
    "\n",
    "    return x_intersection * y_intersection\n",
    "\n",
    "def get_segment_intersection(source, target):\n",
    "    source_exp = np.expand_dims(source, axis=1).repeat(len(target), axis=1)\n",
    "    target_exp = np.expand_dims(target, axis=0).repeat(len(source), axis=0)\n",
    "\n",
    "    # Get the Cartesian product of input segments (each with each)\n",
    "    pairs = np.array([source_exp, target_exp])\n",
    "    pairs = pairs.transpose(1, 2, 0, 3)\n",
    "\n",
    "    # Left and right limits of each pair\n",
    "    l, r = pairs[..., 0], pairs[..., 1]\n",
    "\n",
    "    return np.clip(np.min(r, axis=2) - np.max(l, axis=2), 0, None)"
   ]
  },
  {
   "cell_type": "code",
   "execution_count": 9,
   "metadata": {},
   "outputs": [
    {
     "data": {
      "text/plain": [
       "array([[ 8928,     0,     0,     0,     0],\n",
       "       [    0,  3515,     0,     0,     0],\n",
       "       [    0, 17100,     0,     0,     0],\n",
       "       [    0,     0,     0,     0,  2940],\n",
       "       [    0,     0, 60000,     0,     0],\n",
       "       [    0,     0,     0,  6806,     0],\n",
       "       [    0,     0, 20000,  7840,  9180]], dtype=int64)"
      ]
     },
     "execution_count": 9,
     "metadata": {},
     "output_type": "execute_result"
    }
   ],
   "source": [
    "get_intersection(get_segments(pred), get_segments(gt))"
   ]
  },
  {
   "cell_type": "code",
   "execution_count": 10,
   "metadata": {},
   "outputs": [],
   "source": [
    "def get_areas(df):\n",
    "    return np.array(df['w'] * df['h'])"
   ]
  },
  {
   "cell_type": "code",
   "execution_count": 11,
   "metadata": {},
   "outputs": [
    {
     "data": {
      "text/plain": [
       "array([ 10403, 342705,  19600,   7426,  62400,   7636, 357000],\n",
       "      dtype=int64)"
      ]
     },
     "execution_count": 11,
     "metadata": {},
     "output_type": "execute_result"
    }
   ],
   "source": [
    "get_areas(pred)"
   ]
  },
  {
   "cell_type": "code",
   "execution_count": 12,
   "metadata": {},
   "outputs": [
    {
     "data": {
      "text/plain": [
       "array([10000, 19000, 75000, 10976, 11016], dtype=int64)"
      ]
     },
     "execution_count": 12,
     "metadata": {},
     "output_type": "execute_result"
    }
   ],
   "source": [
    "get_areas(gt)"
   ]
  },
  {
   "cell_type": "code",
   "execution_count": 13,
   "metadata": {},
   "outputs": [],
   "source": [
    "def get_union(source, target, intersection):\n",
    "    source_exp = np.expand_dims(source, axis=1).repeat(len(target), axis=1)\n",
    "    target_exp = np.expand_dims(target, axis=0).repeat(len(source), axis=0)\n",
    "    return target_exp + source_exp - intersection"
   ]
  },
  {
   "cell_type": "code",
   "execution_count": 14,
   "metadata": {},
   "outputs": [],
   "source": [
    "def get_ious(source, target):\n",
    "    # Get intersection areas\n",
    "    source_segments = get_segments(source)\n",
    "    target_segments = get_segments(target)\n",
    "    intersection = get_intersection(source_segments, target_segments)\n",
    "\n",
    "    # Get union areas\n",
    "    source_areas = get_areas(source)\n",
    "    target_areas = get_areas(target)\n",
    "    union = get_union(source_areas, target_areas, intersection)\n",
    "\n",
    "    return intersection / union.astype('float32')"
   ]
  },
  {
   "cell_type": "code",
   "execution_count": 15,
   "metadata": {},
   "outputs": [
    {
     "data": {
      "text/plain": [
       "array([[0.77803922, 0.        , 0.        , 0.        , 0.        ],\n",
       "       [0.        , 0.00981323, 0.        , 0.        , 0.        ],\n",
       "       [0.        , 0.79534884, 0.        , 0.        , 0.        ],\n",
       "       [0.        , 0.        , 0.        , 0.        , 0.18965295],\n",
       "       [0.        , 0.        , 0.7751938 , 0.        , 0.        ],\n",
       "       [0.        , 0.        , 0.        , 0.57648653, 0.        ],\n",
       "       [0.        , 0.        , 0.04854369, 0.02176955, 0.02558272]])"
      ]
     },
     "execution_count": 15,
     "metadata": {},
     "output_type": "execute_result"
    }
   ],
   "source": [
    "ious = get_ious(pred, gt)\n",
    "ious"
   ]
  },
  {
   "cell_type": "code",
   "execution_count": 16,
   "metadata": {},
   "outputs": [
    {
     "data": {
      "text/html": [
       "<div>\n",
       "<style scoped>\n",
       "    .dataframe tbody tr th:only-of-type {\n",
       "        vertical-align: middle;\n",
       "    }\n",
       "\n",
       "    .dataframe tbody tr th {\n",
       "        vertical-align: top;\n",
       "    }\n",
       "\n",
       "    .dataframe thead th {\n",
       "        text-align: right;\n",
       "    }\n",
       "</style>\n",
       "<table border=\"1\" class=\"dataframe\">\n",
       "  <thead>\n",
       "    <tr style=\"text-align: right;\">\n",
       "      <th></th>\n",
       "      <th>conf</th>\n",
       "      <th>gt</th>\n",
       "      <th>iou</th>\n",
       "      <th>dup</th>\n",
       "    </tr>\n",
       "  </thead>\n",
       "  <tbody>\n",
       "    <tr>\n",
       "      <th>6</th>\n",
       "      <td>0.9</td>\n",
       "      <td>0</td>\n",
       "      <td>0.778039</td>\n",
       "      <td>False</td>\n",
       "    </tr>\n",
       "    <tr>\n",
       "      <th>4</th>\n",
       "      <td>0.8</td>\n",
       "      <td>1</td>\n",
       "      <td>0.009813</td>\n",
       "      <td>False</td>\n",
       "    </tr>\n",
       "    <tr>\n",
       "      <th>2</th>\n",
       "      <td>0.7</td>\n",
       "      <td>1</td>\n",
       "      <td>0.795349</td>\n",
       "      <td>True</td>\n",
       "    </tr>\n",
       "    <tr>\n",
       "      <th>1</th>\n",
       "      <td>0.6</td>\n",
       "      <td>4</td>\n",
       "      <td>0.189653</td>\n",
       "      <td>False</td>\n",
       "    </tr>\n",
       "    <tr>\n",
       "      <th>3</th>\n",
       "      <td>0.5</td>\n",
       "      <td>2</td>\n",
       "      <td>0.775194</td>\n",
       "      <td>False</td>\n",
       "    </tr>\n",
       "    <tr>\n",
       "      <th>0</th>\n",
       "      <td>0.4</td>\n",
       "      <td>3</td>\n",
       "      <td>0.576487</td>\n",
       "      <td>False</td>\n",
       "    </tr>\n",
       "    <tr>\n",
       "      <th>5</th>\n",
       "      <td>0.3</td>\n",
       "      <td>2</td>\n",
       "      <td>0.048544</td>\n",
       "      <td>True</td>\n",
       "    </tr>\n",
       "  </tbody>\n",
       "</table>\n",
       "</div>"
      ],
      "text/plain": [
       "   conf  gt       iou    dup\n",
       "6   0.9   0  0.778039  False\n",
       "4   0.8   1  0.009813  False\n",
       "2   0.7   1  0.795349   True\n",
       "1   0.6   4  0.189653  False\n",
       "3   0.5   2  0.775194  False\n",
       "0   0.4   3  0.576487  False\n",
       "5   0.3   2  0.048544   True"
      ]
     },
     "execution_count": 16,
     "metadata": {},
     "output_type": "execute_result"
    }
   ],
   "source": [
    "df = pred[['conf']].copy()\n",
    "df['gt'] = np.argmax(ious, axis=1)\n",
    "df['iou'] = np.max(ious, axis=1)\n",
    "df['dup'] = df.duplicated('gt')\n",
    "df"
   ]
  },
  {
   "cell_type": "code",
   "execution_count": 30,
   "metadata": {},
   "outputs": [],
   "source": [
    "def evaluate(df, gt, iou_threshold):\n",
    "    df_res = df.copy()\n",
    "\n",
    "    positive = (df_res['iou'] > iou_threshold) & ~df_res['dup']\n",
    "    df_res['positive'] = positive\n",
    "\n",
    "    positive_cumsum = df_res['positive'].cumsum()\n",
    "    df_res['precision'] = positive_cumsum / np.arange(1, len(df_res) + 1)\n",
    "    df_res['recall'] = positive_cumsum / len(gt)\n",
    "\n",
    "    return df_res.reset_index()"
   ]
  },
  {
   "cell_type": "code",
   "execution_count": 81,
   "metadata": {},
   "outputs": [],
   "source": [
    "def draw_pr_curve(df, gt):\n",
    "    x = list(df['recall'])\n",
    "    y = list(df['precision'])\n",
    "    start, stop = 0, len(x)\n",
    "\n",
    "    # Left continuation\n",
    "    if df['positive'].iloc[0]:\n",
    "        x = [0.0] + x\n",
    "        y = [1.0] + y\n",
    "        start += 1\n",
    "\n",
    "    # Right continuation\n",
    "    x_last = df['recall'].iloc[-1]\n",
    "    if x_last < 1.0:\n",
    "        x_right = [x_last, 1.0]\n",
    "        y_right = [0.0, 0.0]\n",
    "        x += x_right\n",
    "        y += y_right\n",
    "        stop += 1\n",
    "\n",
    "    plt.figure(figsize=(10, 10))\n",
    "    plt.plot(x, y, '-go', markevery=range(start, stop), linewidth=2.0)\n",
    "    plt.grid()\n",
    "    plt.title('PR curve', fontsize=20)\n",
    "    plt.xlabel('Recall', fontsize=16)\n",
    "    plt.ylabel('Precision', fontsize=16)\n",
    "    plt.show()"
   ]
  },
  {
   "cell_type": "markdown",
   "metadata": {},
   "source": [
    "## $AP_{0.5}$"
   ]
  },
  {
   "cell_type": "code",
   "execution_count": 41,
   "metadata": {},
   "outputs": [
    {
     "data": {
      "text/html": [
       "<div>\n",
       "<style scoped>\n",
       "    .dataframe tbody tr th:only-of-type {\n",
       "        vertical-align: middle;\n",
       "    }\n",
       "\n",
       "    .dataframe tbody tr th {\n",
       "        vertical-align: top;\n",
       "    }\n",
       "\n",
       "    .dataframe thead th {\n",
       "        text-align: right;\n",
       "    }\n",
       "</style>\n",
       "<table border=\"1\" class=\"dataframe\">\n",
       "  <thead>\n",
       "    <tr style=\"text-align: right;\">\n",
       "      <th></th>\n",
       "      <th>index</th>\n",
       "      <th>conf</th>\n",
       "      <th>gt</th>\n",
       "      <th>iou</th>\n",
       "      <th>dup</th>\n",
       "      <th>positive</th>\n",
       "      <th>precision</th>\n",
       "      <th>recall</th>\n",
       "    </tr>\n",
       "  </thead>\n",
       "  <tbody>\n",
       "    <tr>\n",
       "      <th>0</th>\n",
       "      <td>6</td>\n",
       "      <td>0.9</td>\n",
       "      <td>0</td>\n",
       "      <td>0.778039</td>\n",
       "      <td>False</td>\n",
       "      <td>True</td>\n",
       "      <td>1.000000</td>\n",
       "      <td>0.2</td>\n",
       "    </tr>\n",
       "    <tr>\n",
       "      <th>1</th>\n",
       "      <td>4</td>\n",
       "      <td>0.8</td>\n",
       "      <td>1</td>\n",
       "      <td>0.009813</td>\n",
       "      <td>False</td>\n",
       "      <td>False</td>\n",
       "      <td>0.500000</td>\n",
       "      <td>0.2</td>\n",
       "    </tr>\n",
       "    <tr>\n",
       "      <th>2</th>\n",
       "      <td>2</td>\n",
       "      <td>0.7</td>\n",
       "      <td>1</td>\n",
       "      <td>0.795349</td>\n",
       "      <td>True</td>\n",
       "      <td>False</td>\n",
       "      <td>0.333333</td>\n",
       "      <td>0.2</td>\n",
       "    </tr>\n",
       "    <tr>\n",
       "      <th>3</th>\n",
       "      <td>1</td>\n",
       "      <td>0.6</td>\n",
       "      <td>4</td>\n",
       "      <td>0.189653</td>\n",
       "      <td>False</td>\n",
       "      <td>False</td>\n",
       "      <td>0.250000</td>\n",
       "      <td>0.2</td>\n",
       "    </tr>\n",
       "    <tr>\n",
       "      <th>4</th>\n",
       "      <td>3</td>\n",
       "      <td>0.5</td>\n",
       "      <td>2</td>\n",
       "      <td>0.775194</td>\n",
       "      <td>False</td>\n",
       "      <td>True</td>\n",
       "      <td>0.400000</td>\n",
       "      <td>0.4</td>\n",
       "    </tr>\n",
       "    <tr>\n",
       "      <th>5</th>\n",
       "      <td>0</td>\n",
       "      <td>0.4</td>\n",
       "      <td>3</td>\n",
       "      <td>0.576487</td>\n",
       "      <td>False</td>\n",
       "      <td>True</td>\n",
       "      <td>0.500000</td>\n",
       "      <td>0.6</td>\n",
       "    </tr>\n",
       "    <tr>\n",
       "      <th>6</th>\n",
       "      <td>5</td>\n",
       "      <td>0.3</td>\n",
       "      <td>2</td>\n",
       "      <td>0.048544</td>\n",
       "      <td>True</td>\n",
       "      <td>False</td>\n",
       "      <td>0.428571</td>\n",
       "      <td>0.6</td>\n",
       "    </tr>\n",
       "  </tbody>\n",
       "</table>\n",
       "</div>"
      ],
      "text/plain": [
       "   index  conf  gt       iou    dup  positive  precision  recall\n",
       "0      6   0.9   0  0.778039  False      True   1.000000     0.2\n",
       "1      4   0.8   1  0.009813  False     False   0.500000     0.2\n",
       "2      2   0.7   1  0.795349   True     False   0.333333     0.2\n",
       "3      1   0.6   4  0.189653  False     False   0.250000     0.2\n",
       "4      3   0.5   2  0.775194  False      True   0.400000     0.4\n",
       "5      0   0.4   3  0.576487  False      True   0.500000     0.6\n",
       "6      5   0.3   2  0.048544   True     False   0.428571     0.6"
      ]
     },
     "execution_count": 41,
     "metadata": {},
     "output_type": "execute_result"
    }
   ],
   "source": [
    "df_05 = evaluate(df, gt, 0.5)\n",
    "df_05"
   ]
  },
  {
   "cell_type": "code",
   "execution_count": 82,
   "metadata": {},
   "outputs": [
    {
     "data": {
      "image/png": "[encoded data removed]",
      "text/plain": [
       "<Figure size 720x720 with 1 Axes>"
      ]
     },
     "metadata": {
      "needs_background": "light"
     },
     "output_type": "display_data"
    }
   ],
   "source": [
    "draw_pr_curve(df_05, gt)"
   ]
  },
  {
   "cell_type": "code",
   "execution_count": null,
   "metadata": {},
   "outputs": [],
   "source": []
  }
 ],
 "metadata": {
  "interpreter": {
   "hash": "08185bf09d066e6467fc310b9bcfbc112bb9f55e576060cbccac4f7aed0eafad"
  },
  "kernelspec": {
   "display_name": "Python 3.8.10 64-bit",
   "language": "python",
   "name": "python3"
  },
  "language_info": {
   "codemirror_mode": {
    "name": "ipython",
    "version": 3
   },
   "file_extension": ".py",
   "mimetype": "text/x-python",
   "name": "python",
   "nbconvert_exporter": "python",
   "pygments_lexer": "ipython3",
   "version": "3.8.10"
  },
  "orig_nbformat": 4
 },
 "nbformat": 4,
 "nbformat_minor": 2
}
