{
 "cells": [
  {
   "cell_type": "markdown",
   "metadata": {},
   "source": [
    "## Imports"
   ]
  },
  {
   "cell_type": "code",
   "execution_count": 1,
   "metadata": {},
   "outputs": [],
   "source": [
    "import numpy as np\n",
    "import pandas as pd\n",
    "from matplotlib import pyplot as plt"
   ]
  },
  {
   "cell_type": "markdown",
   "metadata": {},
   "source": [
    "## Input"
   ]
  },
  {
   "cell_type": "code",
   "execution_count": 2,
   "metadata": {},
   "outputs": [
    {
     "data": {
      "text/html": [
       "<div>\n",
       "<style scoped>\n",
       "    .dataframe tbody tr th:only-of-type {\n",
       "        vertical-align: middle;\n",
       "    }\n",
       "\n",
       "    .dataframe tbody tr th {\n",
       "        vertical-align: top;\n",
       "    }\n",
       "\n",
       "    .dataframe thead th {\n",
       "        text-align: right;\n",
       "    }\n",
       "</style>\n",
       "<table border=\"1\" class=\"dataframe\">\n",
       "  <thead>\n",
       "    <tr style=\"text-align: right;\">\n",
       "      <th></th>\n",
       "      <th>x</th>\n",
       "      <th>y</th>\n",
       "      <th>w</th>\n",
       "      <th>h</th>\n",
       "      <th>c</th>\n",
       "    </tr>\n",
       "  </thead>\n",
       "  <tbody>\n",
       "    <tr>\n",
       "      <th>0</th>\n",
       "      <td>10</td>\n",
       "      <td>0</td>\n",
       "      <td>100</td>\n",
       "      <td>100</td>\n",
       "      <td>1</td>\n",
       "    </tr>\n",
       "    <tr>\n",
       "      <th>1</th>\n",
       "      <td>200</td>\n",
       "      <td>300</td>\n",
       "      <td>95</td>\n",
       "      <td>200</td>\n",
       "      <td>1</td>\n",
       "    </tr>\n",
       "    <tr>\n",
       "      <th>2</th>\n",
       "      <td>1000</td>\n",
       "      <td>500</td>\n",
       "      <td>250</td>\n",
       "      <td>300</td>\n",
       "      <td>1</td>\n",
       "    </tr>\n",
       "    <tr>\n",
       "      <th>3</th>\n",
       "      <td>700</td>\n",
       "      <td>500</td>\n",
       "      <td>98</td>\n",
       "      <td>112</td>\n",
       "      <td>1</td>\n",
       "    </tr>\n",
       "    <tr>\n",
       "      <th>4</th>\n",
       "      <td>690</td>\n",
       "      <td>212</td>\n",
       "      <td>102</td>\n",
       "      <td>108</td>\n",
       "      <td>1</td>\n",
       "    </tr>\n",
       "  </tbody>\n",
       "</table>\n",
       "</div>"
      ],
      "text/plain": [
       "      x    y    w    h  c\n",
       "0    10    0  100  100  1\n",
       "1   200  300   95  200  1\n",
       "2  1000  500  250  300  1\n",
       "3   700  500   98  112  1\n",
       "4   690  212  102  108  1"
      ]
     },
     "execution_count": 2,
     "metadata": {},
     "output_type": "execute_result"
    }
   ],
   "source": [
    "gt = pd.read_csv(\"input/gt.csv\")\n",
    "gt"
   ]
  },
  {
   "cell_type": "code",
   "execution_count": 3,
   "metadata": {},
   "outputs": [
    {
     "data": {
      "text/html": [
       "<div>\n",
       "<style scoped>\n",
       "    .dataframe tbody tr th:only-of-type {\n",
       "        vertical-align: middle;\n",
       "    }\n",
       "\n",
       "    .dataframe tbody tr th {\n",
       "        vertical-align: top;\n",
       "    }\n",
       "\n",
       "    .dataframe thead th {\n",
       "        text-align: right;\n",
       "    }\n",
       "</style>\n",
       "<table border=\"1\" class=\"dataframe\">\n",
       "  <thead>\n",
       "    <tr style=\"text-align: right;\">\n",
       "      <th></th>\n",
       "      <th>x</th>\n",
       "      <th>y</th>\n",
       "      <th>w</th>\n",
       "      <th>h</th>\n",
       "      <th>c</th>\n",
       "      <th>conf</th>\n",
       "    </tr>\n",
       "  </thead>\n",
       "  <tbody>\n",
       "    <tr>\n",
       "      <th>0</th>\n",
       "      <td>710</td>\n",
       "      <td>530</td>\n",
       "      <td>83</td>\n",
       "      <td>92</td>\n",
       "      <td>1</td>\n",
       "      <td>0.4</td>\n",
       "    </tr>\n",
       "    <tr>\n",
       "      <th>1</th>\n",
       "      <td>653</td>\n",
       "      <td>250</td>\n",
       "      <td>79</td>\n",
       "      <td>94</td>\n",
       "      <td>1</td>\n",
       "      <td>0.6</td>\n",
       "    </tr>\n",
       "    <tr>\n",
       "      <th>2</th>\n",
       "      <td>205</td>\n",
       "      <td>310</td>\n",
       "      <td>100</td>\n",
       "      <td>196</td>\n",
       "      <td>1</td>\n",
       "      <td>0.7</td>\n",
       "    </tr>\n",
       "    <tr>\n",
       "      <th>3</th>\n",
       "      <td>1020</td>\n",
       "      <td>490</td>\n",
       "      <td>200</td>\n",
       "      <td>312</td>\n",
       "      <td>1</td>\n",
       "      <td>0.5</td>\n",
       "    </tr>\n",
       "    <tr>\n",
       "      <th>4</th>\n",
       "      <td>123</td>\n",
       "      <td>463</td>\n",
       "      <td>335</td>\n",
       "      <td>1023</td>\n",
       "      <td>1</td>\n",
       "      <td>0.8</td>\n",
       "    </tr>\n",
       "    <tr>\n",
       "      <th>5</th>\n",
       "      <td>463</td>\n",
       "      <td>230</td>\n",
       "      <td>1020</td>\n",
       "      <td>350</td>\n",
       "      <td>1</td>\n",
       "      <td>0.3</td>\n",
       "    </tr>\n",
       "    <tr>\n",
       "      <th>6</th>\n",
       "      <td>5</td>\n",
       "      <td>7</td>\n",
       "      <td>101</td>\n",
       "      <td>103</td>\n",
       "      <td>1</td>\n",
       "      <td>0.9</td>\n",
       "    </tr>\n",
       "  </tbody>\n",
       "</table>\n",
       "</div>"
      ],
      "text/plain": [
       "      x    y     w     h  c  conf\n",
       "0   710  530    83    92  1   0.4\n",
       "1   653  250    79    94  1   0.6\n",
       "2   205  310   100   196  1   0.7\n",
       "3  1020  490   200   312  1   0.5\n",
       "4   123  463   335  1023  1   0.8\n",
       "5   463  230  1020   350  1   0.3\n",
       "6     5    7   101   103  1   0.9"
      ]
     },
     "execution_count": 3,
     "metadata": {},
     "output_type": "execute_result"
    }
   ],
   "source": [
    "pred = pd.read_csv(\"input/pred.csv\")\n",
    "pred"
   ]
  },
  {
   "cell_type": "code",
   "execution_count": 40,
   "metadata": {},
   "outputs": [],
   "source": [
    "def get_segments(df):\n",
    "    x_segments = [df['x'], df['x'] + df['w']]\n",
    "    y_segments = [df['y'], df['y'] + df['h']]\n",
    "    return np.array([x_segments, y_segments]).transpose(0, 2, 1)"
   ]
  },
  {
   "cell_type": "code",
   "execution_count": 76,
   "metadata": {},
   "outputs": [],
   "source": [
    "def get_intersection(source, target):\n",
    "    # Horizontal segments intersection\n",
    "    x_intersection = get_segment_intersection(source[0], target[0])\n",
    "\n",
    "    # Vertical segments intersection\n",
    "    y_intersection = get_segment_intersection(source[1], target[1])\n",
    "\n",
    "    return x_intersection * y_intersection\n",
    "\n",
    "def get_segment_intersection(seg1, seg2):\n",
    "    seg1_exp = np.expand_dims(seg1, axis=1).repeat(len(seg2), axis=1)\n",
    "    seg2_exp = np.expand_dims(seg2, axis=0).repeat(len(seg1), axis=0)\n",
    "\n",
    "    # Get the Cartesian product of input segments (each with each)\n",
    "    pairs = np.array([seg1_exp, seg2_exp])\n",
    "    pairs = pairs.transpose(1, 2, 0, 3)\n",
    "\n",
    "    # Left and right limits of each pair\n",
    "    l, r = pairs[..., 0], pairs[..., 1]\n",
    "\n",
    "    return np.clip(np.min(r, axis=2) - np.max(l, axis=2), 0, None)"
   ]
  },
  {
   "cell_type": "code",
   "execution_count": 77,
   "metadata": {},
   "outputs": [
    {
     "data": {
      "text/plain": [
       "array([[[ 710,  793],\n",
       "        [ 653,  732],\n",
       "        [ 205,  305],\n",
       "        [1020, 1220],\n",
       "        [ 123,  458],\n",
       "        [ 463, 1483],\n",
       "        [   5,  106]],\n",
       "\n",
       "       [[ 530,  622],\n",
       "        [ 250,  344],\n",
       "        [ 310,  506],\n",
       "        [ 490,  802],\n",
       "        [ 463, 1486],\n",
       "        [ 230,  580],\n",
       "        [   7,  110]]], dtype=int64)"
      ]
     },
     "execution_count": 77,
     "metadata": {},
     "output_type": "execute_result"
    }
   ],
   "source": [
    "get_segments(pred)"
   ]
  },
  {
   "cell_type": "code",
   "execution_count": 78,
   "metadata": {},
   "outputs": [
    {
     "data": {
      "text/plain": [
       "array([[[  10,  110],\n",
       "        [ 200,  295],\n",
       "        [1000, 1250],\n",
       "        [ 700,  798],\n",
       "        [ 690,  792]],\n",
       "\n",
       "       [[   0,  100],\n",
       "        [ 300,  500],\n",
       "        [ 500,  800],\n",
       "        [ 500,  612],\n",
       "        [ 212,  320]]], dtype=int64)"
      ]
     },
     "execution_count": 78,
     "metadata": {},
     "output_type": "execute_result"
    }
   ],
   "source": [
    "get_segments(gt)"
   ]
  },
  {
   "cell_type": "code",
   "execution_count": 79,
   "metadata": {},
   "outputs": [
    {
     "data": {
      "text/plain": [
       "array([[    0,     0,     0,  6806,     0],\n",
       "       [    0,     0,     0,     0,  2940],\n",
       "       [    0, 17100,     0,     0,     0],\n",
       "       [    0,     0, 60000,     0,     0],\n",
       "       [    0,  3515,     0,     0,     0],\n",
       "       [    0,     0, 20000,  7840,  9180],\n",
       "       [ 8928,     0,     0,     0,     0]], dtype=int64)"
      ]
     },
     "execution_count": 79,
     "metadata": {},
     "output_type": "execute_result"
    }
   ],
   "source": [
    "get_intersection(get_segments(pred), get_segments(gt))"
   ]
  },
  {
   "cell_type": "code",
   "execution_count": null,
   "metadata": {},
   "outputs": [],
   "source": []
  }
 ],
 "metadata": {
  "interpreter": {
   "hash": "08185bf09d066e6467fc310b9bcfbc112bb9f55e576060cbccac4f7aed0eafad"
  },
  "kernelspec": {
   "display_name": "Python 3.8.10 64-bit",
   "language": "python",
   "name": "python3"
  },
  "language_info": {
   "codemirror_mode": {
    "name": "ipython",
    "version": 3
   },
   "file_extension": ".py",
   "mimetype": "text/x-python",
   "name": "python",
   "nbconvert_exporter": "python",
   "pygments_lexer": "ipython3",
   "version": "3.6.7"
  },
  "orig_nbformat": 4
 },
 "nbformat": 4,
 "nbformat_minor": 2
}
