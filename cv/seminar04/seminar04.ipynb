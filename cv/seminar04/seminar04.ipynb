{
 "cells": [
  {
   "cell_type": "markdown",
   "metadata": {},
   "source": [
    "# Практическое задание\n",
    "\n",
    "## Данные о студенте\n",
    "\n",
    "1. **ФИО**: Денисов Даниил Михайлович\n",
    "2. **Факультет**: Механико-математический\n",
    "3. **Курс**: 2 (магистратура)\n",
    "4. **Группа**: М2\n",
    "\n",
    "## Замечания\n",
    "\n",
    "* Заполненный ноутбук необходимо сдать боту\n",
    "* Соблюдаем кодекс чести (по нулям и списавшему, и давшему списать)\n",
    "* Можно (и нужно!) применять для реализации только библиотеку **Numpy**\n",
    "* Ничего, крому Numpy, нельзя использовать для реализации \n",
    "* **Keras** используется только для тестирования Вашей реализации\n",
    "* Если какой-то из классов не проходит приведенные тесты, то соответствующее задание не оценивается\n",
    "* Возможно использование дополнительных (приватных) тестов\n",
    " "
   ]
  },
  {
   "cell_type": "markdown",
   "metadata": {},
   "source": [
    "## Реализация собственного нейросетевого пакета для запуска и обучения нейронных сетей"
   ]
  },
  {
   "cell_type": "markdown",
   "metadata": {},
   "source": [
    "Задание состоит из трёх частей:\n",
    "1. Реализация прямого вывода нейронной сети (5 баллов)\n",
    "2. Реализация градиентов по входу и распространения градиента по сети (5 баллов)\n",
    "3. Реализация градиентов по параметрам и метода обратного распространения ошибки с обновлением парметров сети (10 баллов)\n",
    "\n",
    "Дополнительные баллы можно получить при реализации обучения сети со свёрточными слоями (10 баллов), с транспонированной свёрткой (10 баллов), дополнительного оптимизатора (5 баллов). "
   ]
  },
  {
   "cell_type": "markdown",
   "metadata": {},
   "source": [
    "###  1. Реализация вывода собственной нейронной сети"
   ]
  },
  {
   "cell_type": "markdown",
   "metadata": {},
   "source": [
    "1.1 Внимательно ознакомьтесь с интерфейсом слоя. Любой слой должен содержать как минимум три метода:\n",
    "- конструктор\n",
    "- прямой вывод \n",
    "- обратный вывод, производные по входу и по параметрам"
   ]
  },
  {
   "cell_type": "code",
   "execution_count": 1,
   "metadata": {},
   "outputs": [],
   "source": [
    "class Layer(object):\n",
    "    def __init__(self):\n",
    "        self.name = 'Layer'\n",
    "    \n",
    "    def forward(self, input_data):\n",
    "        pass\n",
    "\n",
    "    def backward(self, input_data):\n",
    "        return [self.grad_x(input_data), self.grad_param(input_data)]\n",
    "    \n",
    "    def grad_x(self, input_data):\n",
    "        pass\n",
    "\n",
    "    def grad_param(self, input_data):\n",
    "        return []\n",
    "    \n",
    "    def update_param(self, grads, learning_rate):\n",
    "        pass"
   ]
  },
  {
   "cell_type": "markdown",
   "metadata": {},
   "source": [
    "1.2 Ниже предствален интерфейс класса  Network. Обратите внимание на реализацию метода predict, который последовательно обрабатывает входные данные слой за слоем."
   ]
  },
  {
   "cell_type": "code",
   "execution_count": 2,
   "metadata": {},
   "outputs": [],
   "source": [
    "import numpy as np\n",
    "from sklearn.model_selection import train_test_split\n",
    "from tqdm import tqdm\n",
    "\n",
    "class Network(object):\n",
    "    def __init__(self, layers, loss=None):\n",
    "        self.name = 'Network'\n",
    "        self.layers = layers\n",
    "        self.loss = loss\n",
    "    \n",
    "    def forward(self, input_data):\n",
    "        return self.predict(input_data)\n",
    "    \n",
    "    def grad_x(self, input_data, labels):\n",
    "        # Intermediary gradients (forward pass)\n",
    "        grads_inter = []\n",
    "        current_input = input_data\n",
    "        for layer in self.layers:\n",
    "            grads_inter.append(layer.grad_x(current_input))\n",
    "            current_input = layer.forward(current_input)\n",
    "\n",
    "        # Target gradient (backward pass)\n",
    "        grad = self.loss.grad_x(current_input, labels)\n",
    "        for layer_grad in reversed(grads_inter):\n",
    "            grad = np.einsum('bi,bij->bj', grad, layer_grad)\n",
    "\n",
    "        return grad\n",
    "    \n",
    "    def grad_param(self, input_data, labels):\n",
    "        # Intermediary gradients (forward pass)\n",
    "        grads_inter = []\n",
    "        current_input = input_data\n",
    "        for layer in self.layers:\n",
    "            grads_inter.append(layer.backward(current_input))\n",
    "            current_input = layer.forward(current_input)\n",
    "        \n",
    "        # Target gradients (backward pass)\n",
    "        grads_targ = []\n",
    "        grad = self.loss.grad_x(current_input, labels)\n",
    "        for layer_grad_x, layer_grad_param in reversed(grads_inter):\n",
    "            grads_targ.append([np.einsum('bi,bij->bj', grad, grad_param) \n",
    "                               for grad_param in layer_grad_param])\n",
    "            grad = np.einsum('bi,bij->bj', grad, layer_grad_x)\n",
    "\n",
    "        return grads_targ[::-1]\n",
    "\n",
    "    def update(self, grads, learning_rate):\n",
    "        for layer, grad in zip(self.layers, grads):\n",
    "            layer.update_param(grad, learning_rate)\n",
    "    \n",
    "    def predict(self, input_data):\n",
    "        current_input = input_data\n",
    "        for layer in self.layers:\n",
    "            current_input = layer.forward(current_input)\n",
    "        return current_input\n",
    "    \n",
    "    def calculate_loss(self, input_data, labels):\n",
    "        return self.loss.forward(self.predict(input_data), labels)\n",
    "    \n",
    "    def train_step(self, input_data, labels, learning_rate=0.001):\n",
    "        grads = self.grad_param(input_data, labels)\n",
    "        self.update(grads, learning_rate)\n",
    "    \n",
    "    def fit(self, trainX, trainY, validation_split=0.25, \n",
    "            batch_size=1, nb_epoch=1, learning_rate=0.01):\n",
    "        \n",
    "        train_x, val_x, train_y, val_y = train_test_split(trainX, trainY, \n",
    "                                                          test_size=validation_split,\n",
    "                                                          random_state=42)\n",
    "        \n",
    "        for epoch in range(nb_epoch):\n",
    "            for i in tqdm(range(int(len(train_x)/batch_size))):\n",
    "                batch_x = train_x[i*batch_size: (i+1)*batch_size]\n",
    "                batch_y = train_y[i*batch_size: (i+1)*batch_size]\n",
    "                self.train_step(batch_x, batch_y, learning_rate)\n",
    "            \n",
    "            print('%d epoch: val %.2f' %(epoch + 1, self.evaluate(val_x, val_y)))\n",
    "            \n",
    "    def evaluate(self, testX, testY):\n",
    "        y_pred = np.argmax(self.predict(testX), axis=1)\n",
    "        y_true = np.argmax(testY, axis=1)\n",
    "        return np.sum(y_pred == y_true) / len(y_true)"
   ]
  },
  {
   "cell_type": "markdown",
   "metadata": {},
   "source": [
    "#### 1.1 Необходимо реализовать метод forward для вычисления следующих слоёв:\n",
    "\n",
    "- DenseLayer\n",
    "- ReLU\n",
    "- Softmax\n",
    "- FlattenLayer"
   ]
  },
  {
   "cell_type": "code",
   "execution_count": 3,
   "metadata": {},
   "outputs": [],
   "source": [
    "import numpy as np"
   ]
  },
  {
   "cell_type": "code",
   "execution_count": 4,
   "metadata": {},
   "outputs": [],
   "source": [
    "class DenseLayer(Layer):\n",
    "    def __init__(self, input_dim, output_dim, W_init=None, b_init=None):\n",
    "        self.name = 'Dense'\n",
    "        self.input_dim = input_dim\n",
    "        self.output_dim = output_dim\n",
    "\n",
    "        # Use He initialization by default\n",
    "        inputs = input_dim\n",
    "        self.W = W_init if W_init is not None \\\n",
    "                 else np.random.normal(0, np.sqrt(2 / inputs), \n",
    "                                       size=(input_dim, output_dim))\n",
    "        self.b = b_init if b_init is not None \\\n",
    "                 else np.zeros(output_dim, dtype='float32')\n",
    "    \n",
    "    def forward(self, input_data):\n",
    "        return np.einsum('bi,ij->bj', input_data, self.W) + self.b\n",
    "\n",
    "    def grad_x(self, input_data):\n",
    "        # dy/dx = W^T\n",
    "        return np.tile(self.W.T, reps=(len(input_data), 1, 1))\n",
    "\n",
    "    def grad_W(self, input_data):\n",
    "        # dy/dW = (x_1 * I ... x_n * I)\n",
    "        W_rows, W_cols = self.W.shape\n",
    "        grad = np.zeros((len(input_data), W_rows, W_cols, W_cols))\n",
    "        diag = np.einsum('bijj->bij', grad)\n",
    "        diag[:] = input_data[..., None]\n",
    "        return grad.transpose(0, 2, 1, 3).reshape(len(input_data), W_cols, -1)\n",
    "\n",
    "    def grad_b(self, input_data):\n",
    "        # dy/db = I\n",
    "        return np.tile(np.eye(len(self.b)), reps=(len(input_data), 1, 1))\n",
    "\n",
    "    def grad_param(self, input_data):\n",
    "        return [self.grad_W(input_data), self.grad_b(input_data)]\n",
    "    \n",
    "    def update_W(self, grad, learning_rate):\n",
    "        self.W -= learning_rate * np.mean(grad, axis=0).reshape(self.W.shape)\n",
    "    \n",
    "    def update_b(self, grad, learning_rate):\n",
    "        self.b -= learning_rate * np.mean(grad, axis=0)\n",
    "        \n",
    "    def update_param(self, grads, learning_rate):\n",
    "        self.update_W(grads[0], learning_rate)\n",
    "        self.update_b(grads[1], learning_rate)"
   ]
  },
  {
   "cell_type": "code",
   "execution_count": 5,
   "metadata": {},
   "outputs": [],
   "source": [
    "class ReLU(Layer):\n",
    "    def __init__(self):\n",
    "        self.name = 'ReLU'\n",
    "    \n",
    "    def forward(self, input_data):\n",
    "        return np.clip(input_data, 0, None)\n",
    "\n",
    "    def grad_x(self, input_data):\n",
    "        batch, *dims = input_data.shape\n",
    "        size = np.prod(dims)\n",
    "        grad = np.zeros((batch, size, size))\n",
    "        diag = np.einsum('bii->bi', grad)\n",
    "        diag[:] = np.ceil(np.clip(input_data, 0, 1)).reshape(batch, -1)\n",
    "        return grad"
   ]
  },
  {
   "cell_type": "code",
   "execution_count": 6,
   "metadata": {},
   "outputs": [],
   "source": [
    "class Softmax(Layer):\n",
    "    def __init__(self):\n",
    "        self.name = 'Softmax'\n",
    "    \n",
    "    def forward(self, input_data):\n",
    "        exps = np.e ** input_data\n",
    "        return exps / np.sum(exps, axis=1, keepdims=True)\n",
    "    \n",
    "    def grad_x(self, input_data):\n",
    "        # dy/dx = diag(e^x/S) - (e^x/S)^T * (e^x/S)\n",
    "        forward = self.forward(input_data)\n",
    "        grad = -np.einsum('bi,bj->bij', forward, forward)\n",
    "        diag = np.einsum('bii->bi', grad)\n",
    "        diag[:] = forward + diag\n",
    "        return grad"
   ]
  },
  {
   "cell_type": "code",
   "execution_count": 7,
   "metadata": {},
   "outputs": [],
   "source": [
    "class FlattenLayer(Layer):\n",
    "    def __init__(self):\n",
    "        self.name = 'Flatten'\n",
    "        \n",
    "    def forward(self, input_data):\n",
    "        return input_data.reshape(len(input_data), -1)\n",
    "    \n",
    "    def grad_x(self, input_data):\n",
    "        batch, *dims = input_data.shape\n",
    "        size = np.prod(dims)\n",
    "        return np.tile(np.eye(size), reps=(batch, 1, 1))"
   ]
  },
  {
   "cell_type": "markdown",
   "metadata": {},
   "source": [
    "#### 1.2 Реализуйте теперь свёрточный слой и транспонированную свёртку  (опционально)"
   ]
  },
  {
   "cell_type": "code",
   "execution_count": 8,
   "metadata": {},
   "outputs": [],
   "source": [
    "class Conv2DLayer(Layer):\n",
    "    def __init__(self, kernel_size=3, input_channels=2, output_channels=3, \n",
    "                 padding='same', stride=1, K_init=None, b_init=None):\n",
    "        # padding: 'same' или 'valid'\n",
    "        # Работаем с квадратными ядрами, поэтому kernel_size - одно число\n",
    "        # Работаем с единообразным сдвигом, поэтому stride - одно число\n",
    "        # Фильтр размерности [kernel_size, kernel_size, input_channels, output_channels]\n",
    "        self.name = 'Conv2D'\n",
    "        self.kernel_size = kernel_size\n",
    "        self.input_channels = input_channels\n",
    "        self.output_channels = output_channels\n",
    "\n",
    "        # Use He initialization by default\n",
    "        inputs = input_channels * kernel_size ** 2\n",
    "        self.kernel = K_init if K_init is not None \\\n",
    "                      else np.random.normal(0, np.sqrt(2 / inputs), \n",
    "                                            size=(kernel_size, kernel_size, \n",
    "                                                  input_channels, output_channels))\n",
    "        self.bias = b_init if b_init is not None \\\n",
    "                    else np.zeros(output_channels, dtype='float32')\n",
    "        self.padding = padding        \n",
    "        self.stride = stride\n",
    "    \n",
    "    def forward(self, input_data):\n",
    "        # На входе - четырехмерный тензор вида [batch, input_channels, height, width]\n",
    "        # Вначале нужно проверить на согласование размерностей входных данных и ядра!\n",
    "        # Нужно заполнить Numpy-тензор out\n",
    "\n",
    "        # Consistency check\n",
    "        self.check_input(input_data)\n",
    "\n",
    "        # Apply padding if needed\n",
    "        if self.padding == 'same':\n",
    "            input_data = self.pad(input_data, self.get_pads())\n",
    "\n",
    "        b, c_in, h_in, w_in = input_data.shape\n",
    "        c_out, h_out, w_out = self.output_channels, *self.get_output_shape((h_in, w_in))\n",
    "        \n",
    "        # Get patches\n",
    "        patches = self.get_patches(input_data, (h_out, w_out))\n",
    "\n",
    "        # Apply convolution w/ bias\n",
    "        conv = np.tensordot(patches, self.kernel, axes=([3, 4, 5], [0, 1, 2])) + self.bias\n",
    "\n",
    "        return conv.transpose(0, 3, 1, 2)\n",
    "\n",
    "    def grad_x(self, input_data):\n",
    "        # Consistency check\n",
    "        self.check_input(input_data)\n",
    "\n",
    "        # Apply padding if needed\n",
    "        if self.padding == 'same':\n",
    "            pad_l, pad_r = self.get_pads()  # used later\n",
    "            input_data = self.pad(input_data, (pad_l, pad_r))\n",
    "\n",
    "        k, s = self.kernel_size, self.stride\n",
    "        b, c_in, h_in, w_in = input_data.shape\n",
    "        c_out, h_out, w_out = self.output_channels, *self.get_output_shape((h_in, w_in))\n",
    "\n",
    "        # Input height indexer\n",
    "        indh_in = np.arange(k) + s * np.arange(h_out).reshape(h_out, 1).repeat(k, axis=1)\n",
    "        indh_in = indh_in.reshape(h_out, 1, k, 1)\n",
    "\n",
    "        # Input width indexer\n",
    "        indw_in = np.arange(k) + s * np.arange(w_out).reshape(w_out, 1).repeat(k, axis=1)\n",
    "        indw_in = indh_in.reshape(1, w_out, 1, k)\n",
    "\n",
    "        # Output height/width indexers\n",
    "        indh_out = np.arange(h_out).reshape(h_out, 1, 1, 1)\n",
    "        indw_out = np.arange(w_out).reshape(1, w_out, 1, 1)\n",
    "\n",
    "        # Get the gradient\n",
    "        grad = np.zeros((b, h_out, w_out, h_in, w_in, c_in, c_out))\n",
    "        grad[..., indh_out, indw_out, indh_in, indw_in, :, :] = self.kernel\n",
    "\n",
    "        # Remove padding if needed\n",
    "        if self.padding == 'same':\n",
    "            pad = pad_l + pad_r\n",
    "            h_in -= pad\n",
    "            w_in -= pad\n",
    "            grad = grad[..., pad_l:h_in+pad_l, pad_l:w_in+pad_l, :, :]\n",
    "\n",
    "        grad = grad.transpose(0, 6, 1, 2, 5, 3, 4)\n",
    "        grad = grad.reshape(b, c_out * h_out * w_out, c_in * h_in * w_in)\n",
    "\n",
    "        return grad\n",
    "    \n",
    "    def grad_kernel(self, input_data):\n",
    "        # Consistency check\n",
    "        self.check_input(input_data)\n",
    "\n",
    "        # Apply padding if needed\n",
    "        if self.padding == 'same':\n",
    "            input_data = self.pad(input_data, self.get_pads())\n",
    "\n",
    "        k = self.kernel_size\n",
    "        b, c_in, h_in, w_in = input_data.shape\n",
    "        c_out, h_out, w_out = self.output_channels, *self.get_output_shape((h_in, w_in))\n",
    "        \n",
    "        # Get patches\n",
    "        patches = self.get_patches(input_data, (h_out, w_out))\n",
    "\n",
    "        # Get the gradient\n",
    "        grad = np.tile(np.eye(c_out), reps=(b, h_out, w_out, k, k, c_in, 1, 1))\n",
    "        diag = np.einsum('bijklmnn->bijklmn', grad)\n",
    "        diag[:] = patches[..., None]\n",
    "\n",
    "        grad = grad.transpose(0, 6, 1, 2, 3, 4, 5, 7)\n",
    "        grad = grad.reshape(b, c_out * h_out * w_out, k * k * c_in * c_out)\n",
    "\n",
    "        return grad\n",
    "\n",
    "    def grad_param(self, input_data):\n",
    "        return [self.grad_kernel(input_data)]\n",
    "\n",
    "    def update_kernel(self, grad, learning_rate):\n",
    "        self.kernel -= learning_rate * np.mean(grad, axis=0).reshape(self.kernel.shape)\n",
    "        \n",
    "    def update_param(self, grads, learning_rate):\n",
    "        self.update_kernel(grads[0], learning_rate)\n",
    "\n",
    "    def check_input(self, input_data):\n",
    "        b, c, h, w = input_data.shape\n",
    "        if c != self.input_channels:\n",
    "            raise ValueError(f\"Input channels mismatch: \\\n",
    "                               got {c}, expected {self.input_channels}\")\n",
    "        if h < self.kernel_size or w < self.kernel_size:\n",
    "            raise ValueError(f\"Dimensions mismatch: \\\n",
    "                               got {h, w}, expected at least {self.kernel_size, self.kernel_size}\")\n",
    "\n",
    "    def get_output_shape(self, input_shape):\n",
    "        return (np.array(input_shape) - self.kernel_size) // self.stride + 1\n",
    "\n",
    "    def get_pads(self):\n",
    "        pad = self.kernel_size - 1\n",
    "        pad_l = pad // 2\n",
    "        pad_r = pad - pad_l\n",
    "        return pad_l, pad_r\n",
    "\n",
    "    def pad(self, data, pads):\n",
    "        return np.pad(data, ((0, 0), (0, 0), pads, pads))\n",
    "\n",
    "    def get_patches(self, input_data, output_shape):\n",
    "        k, s = self.kernel_size, self.stride\n",
    "        h_out, w_out = output_shape\n",
    "\n",
    "        # Height indexer\n",
    "        indh = np.arange(k) + s * np.arange(h_out).reshape(h_out, 1).repeat(k, axis=1)\n",
    "        indh = indh.reshape(h_out, 1, k, 1).repeat(w_out, axis=1)\n",
    "\n",
    "        # Width indexer\n",
    "        indw = np.arange(k) + s * np.arange(w_out).reshape(w_out, 1).repeat(k, axis=1)\n",
    "        indw = np.tile(indw.reshape(1, w_out, 1, k), reps=(h_out, 1, 1, 1))\n",
    "\n",
    "        # Extract patches; keep batch and channels\n",
    "        patches = input_data[..., indh, indw]\n",
    "\n",
    "        return patches.transpose(0, 2, 3, 4, 5, 1)"
   ]
  },
  {
   "cell_type": "code",
   "execution_count": 9,
   "metadata": {},
   "outputs": [],
   "source": [
    "class Conv2DTrLayer(Layer):\n",
    "    def __init__(self, kernel_size=3, input_channels=2, output_channels=3, \n",
    "                 padding=0, stride=1, K_init=None, b_init=None):      \n",
    "        # padding: число (сколько отрезать от модифицированной входной карты)\n",
    "        # Работаем с квадратными ядрами, поэтому kernel_size - одно число\n",
    "        # stride - одно число (коэффициент расширения)\n",
    "        # Фильтр размерности [kernel_size, kernel_size, input_channels, output_channels]\n",
    "        self.name = 'Conv2DTr'\n",
    "        self.kernel_size = kernel_size\n",
    "        self.input_channels = input_channels\n",
    "        self.output_channels = output_channels\n",
    "        \n",
    "        # Use He initialization by default\n",
    "        inputs = input_channels * kernel_size ** 2\n",
    "        self.kernel = K_init if K_init is not None \\\n",
    "                      else np.random.normal(0, np.sqrt(2 / inputs), \n",
    "                                            size=(kernel_size, kernel_size, \n",
    "                                                  input_channels, output_channels))\n",
    "        self.bias = b_init if b_init is not None \\\n",
    "                    else np.zeros(output_channels, dtype='float32')\n",
    "        self.padding = padding\n",
    "        self.stride = stride\n",
    "    \n",
    "    def forward(self, input_data):\n",
    "        # На входе - четырехмерный тензор вида [batch, input_channels, height, width]\n",
    "        # Вначале нужно проверить на согласование размерностей входных данных и ядра!\n",
    "        # Нужно заполнить Numpy-тензор out \n",
    "        \n",
    "        # Consistency check\n",
    "        self.check_input(input_data)\n",
    "\n",
    "        # Inflate and pad with zeros\n",
    "        input_data = self.inflate(input_data)\n",
    "\n",
    "        b, c_in, h_in, w_in = input_data.shape\n",
    "        c_out, h_out, w_out = self.output_channels, *self.get_output_shape((h_in, w_in))\n",
    "        \n",
    "        # Get patches\n",
    "        patches = self.get_patches(input_data, (h_out, w_out))\n",
    "\n",
    "        # Apply convolution w/ bias\n",
    "        conv = np.tensordot(patches, self.kernel, axes=([3, 4, 5], [0, 1, 2])) + self.bias\n",
    "\n",
    "        return conv.transpose(0, 3, 1, 2)\n",
    "    \n",
    "    def grad_x(self, input_data):\n",
    "        # Consistency check\n",
    "        self.check_input(input_data)\n",
    "\n",
    "        # Inflate and pad with zeros\n",
    "        input_data = self.inflate(input_data)\n",
    "\n",
    "        k = self.kernel_size\n",
    "        b, c_in, h_in, w_in = input_data.shape\n",
    "        c_out, h_out, w_out = self.output_channels, *self.get_output_shape((h_in, w_in))\n",
    "\n",
    "        # Input height indexer\n",
    "        indh_in = np.arange(k) + np.arange(h_out).reshape(h_out, 1).repeat(k, axis=1)\n",
    "        indh_in = indh_in.reshape(h_out, 1, k, 1)\n",
    "\n",
    "        # Input width indexer\n",
    "        indw_in = np.arange(k) + np.arange(w_out).reshape(w_out, 1).repeat(k, axis=1)\n",
    "        indw_in = indh_in.reshape(1, w_out, 1, k)\n",
    "\n",
    "        # Output height/width indexers\n",
    "        indh_out = np.arange(h_out).reshape(h_out, 1, 1, 1)\n",
    "        indw_out = np.arange(w_out).reshape(1, w_out, 1, 1)\n",
    "\n",
    "        # Get the gradient\n",
    "        grad = np.zeros((b, h_out, w_out, h_in, w_in, c_in, c_out))\n",
    "        grad[..., indh_out, indw_out, indh_in, indw_in, :, :] = self.kernel\n",
    "\n",
    "        grad = grad.transpose(0, 6, 1, 2, 5, 3, 4)\n",
    "\n",
    "        # Deflate to the original input\n",
    "        grad = self.deflate(grad)\n",
    "        \n",
    "        grad = grad.reshape(b, c_out * h_out * w_out, -1)\n",
    "\n",
    "        return grad\n",
    "    \n",
    "    def grad_kernel(self, input_data):\n",
    "        # Consistency check\n",
    "        self.check_input(input_data)\n",
    "\n",
    "        # Inflate and pad with zeros\n",
    "        input_data = self.inflate(input_data)\n",
    "\n",
    "        k = self.kernel_size\n",
    "        b, c_in, h_in, w_in = input_data.shape\n",
    "        c_out, h_out, w_out = self.output_channels, *self.get_output_shape((h_in, w_in))\n",
    "        \n",
    "        # Get patches\n",
    "        patches = self.get_patches(input_data, (h_out, w_out))\n",
    "\n",
    "        # Get the gradient\n",
    "        grad = np.tile(np.eye(c_out), reps=(b, h_out, w_out, k, k, c_in, 1, 1))\n",
    "        diag = np.einsum('bijklmnn->bijklmn', grad)\n",
    "        diag[:] = patches[..., None]\n",
    "\n",
    "        grad = grad.transpose(0, 6, 1, 2, 3, 4, 5, 7)\n",
    "        grad = grad.reshape(b, c_out * h_out * w_out, k * k * c_in * c_out)\n",
    "\n",
    "        return grad\n",
    "\n",
    "    def grad_param(self, input_data):\n",
    "        return [self.grad_kernel(input_data)]\n",
    "\n",
    "    def update_kernel(self, grad, learning_rate):\n",
    "        self.kernel -= learning_rate * np.mean(grad, axis=0).reshape(self.kernel.shape)\n",
    "        \n",
    "    def update_param(self, grads, learning_rate):\n",
    "        self.update_kernel(grads[0], learning_rate)\n",
    "\n",
    "    def check_input(self, input_data):\n",
    "        b, c, h, w = input_data.shape\n",
    "        if c != self.input_channels:\n",
    "            raise ValueError(f\"Input channels mismatch: \\\n",
    "                               got {c}, expected {self.input_channels}\")\n",
    "        if h < self.kernel_size or w < self.kernel_size:\n",
    "            raise ValueError(f\"Dimensions mismatch: \\\n",
    "                               got {h, w}, expected at least {self.kernel_size, self.kernel_size}\")\n",
    "\n",
    "    def inflate(self, data):\n",
    "        s, p = self.stride, self.kernel_size - self.padding - 1\n",
    "        h, w = data.shape[-2:]\n",
    "        \n",
    "        # Determine the target data dimensions\n",
    "        h_target = h + (h - 1) * (s - 1) + 2 * p\n",
    "        w_target = w + (w - 1) * (s - 1) + 2 * p\n",
    "\n",
    "        # Define the inflated array\n",
    "        inflated = np.zeros(data.shape[:-2] + (h_target, w_target))\n",
    "\n",
    "        # Height/width indexers\n",
    "        indh = p + s * np.arange(h).reshape(h, 1)\n",
    "        indw = p + s * np.arange(w).reshape(1, w)\n",
    "\n",
    "        # Write data to the inflated array\n",
    "        inflated[..., indh, indw] = data\n",
    "\n",
    "        return inflated\n",
    "\n",
    "    def deflate(self, data):\n",
    "        s, p = self.stride, self.kernel_size - self.padding - 1\n",
    "        h, w = data.shape[-2:]\n",
    "\n",
    "        # Determine the source data dimensions\n",
    "        h_source = (h - 2 * p - 1) // s + 1\n",
    "        w_source = (w - 2 * p - 1) // s + 1\n",
    "\n",
    "        # Height/width indexers\n",
    "        indh = p + s * np.arange(h_source).reshape(h_source, 1)\n",
    "        indw = p + s * np.arange(w_source).reshape(1, w_source)\n",
    "\n",
    "        return data[..., indh, indw]\n",
    "\n",
    "    def get_output_shape(self, input_shape):\n",
    "        return np.array(input_shape) - self.kernel_size + 1\n",
    "\n",
    "    def get_patches(self, input_data, output_shape):\n",
    "        k = self.kernel_size\n",
    "        h_out, w_out = output_shape\n",
    "\n",
    "        # Height indexer\n",
    "        indh = np.arange(k) + np.arange(h_out).reshape(h_out, 1).repeat(k, axis=1)\n",
    "        indh = indh.reshape(h_out, 1, k, 1).repeat(w_out, axis=1)\n",
    "\n",
    "        # Width indexer\n",
    "        indw = np.arange(k) + np.arange(w_out).reshape(w_out, 1).repeat(k, axis=1)\n",
    "        indw = np.tile(indw.reshape(1, w_out, 1, k), reps=(h_out, 1, 1, 1))\n",
    "\n",
    "        # Extract patches; keep batch and channels\n",
    "        patches = input_data[..., indh, indw]\n",
    "\n",
    "        return patches.transpose(0, 2, 3, 4, 5, 1)"
   ]
  },
  {
   "cell_type": "markdown",
   "metadata": {},
   "source": [
    "#### 1.4 Теперь настало время теста. \n",
    "#### Если вы всё сделали правильно, то запустив следующие ячейки у вас должна появиться надпись: Test PASSED\n",
    "\n",
    "Переходить к дальнейшим заданиям не имеем никакого смысла, пока вы не добьётесь прохождение теста\n",
    "    "
   ]
  },
  {
   "cell_type": "markdown",
   "metadata": {},
   "source": [
    "#### Чтение данных"
   ]
  },
  {
   "cell_type": "code",
   "execution_count": 10,
   "metadata": {},
   "outputs": [
    {
     "name": "stderr",
     "output_type": "stream",
     "text": [
      "Using TensorFlow backend.\n",
      "C:\\Users\\Dan\\AppData\\Local\\Programs\\Python\\Python36\\lib\\site-packages\\tensorflow\\python\\framework\\dtypes.py:526: FutureWarning: Passing (type, 1) or '1type' as a synonym of type is deprecated; in a future version of numpy, it will be understood as (type, (1,)) / '(1,)type'.\n",
      "  _np_qint8 = np.dtype([(\"qint8\", np.int8, 1)])\n",
      "C:\\Users\\Dan\\AppData\\Local\\Programs\\Python\\Python36\\lib\\site-packages\\tensorflow\\python\\framework\\dtypes.py:527: FutureWarning: Passing (type, 1) or '1type' as a synonym of type is deprecated; in a future version of numpy, it will be understood as (type, (1,)) / '(1,)type'.\n",
      "  _np_quint8 = np.dtype([(\"quint8\", np.uint8, 1)])\n",
      "C:\\Users\\Dan\\AppData\\Local\\Programs\\Python\\Python36\\lib\\site-packages\\tensorflow\\python\\framework\\dtypes.py:528: FutureWarning: Passing (type, 1) or '1type' as a synonym of type is deprecated; in a future version of numpy, it will be understood as (type, (1,)) / '(1,)type'.\n",
      "  _np_qint16 = np.dtype([(\"qint16\", np.int16, 1)])\n",
      "C:\\Users\\Dan\\AppData\\Local\\Programs\\Python\\Python36\\lib\\site-packages\\tensorflow\\python\\framework\\dtypes.py:529: FutureWarning: Passing (type, 1) or '1type' as a synonym of type is deprecated; in a future version of numpy, it will be understood as (type, (1,)) / '(1,)type'.\n",
      "  _np_quint16 = np.dtype([(\"quint16\", np.uint16, 1)])\n",
      "C:\\Users\\Dan\\AppData\\Local\\Programs\\Python\\Python36\\lib\\site-packages\\tensorflow\\python\\framework\\dtypes.py:530: FutureWarning: Passing (type, 1) or '1type' as a synonym of type is deprecated; in a future version of numpy, it will be understood as (type, (1,)) / '(1,)type'.\n",
      "  _np_qint32 = np.dtype([(\"qint32\", np.int32, 1)])\n",
      "C:\\Users\\Dan\\AppData\\Local\\Programs\\Python\\Python36\\lib\\site-packages\\tensorflow\\python\\framework\\dtypes.py:535: FutureWarning: Passing (type, 1) or '1type' as a synonym of type is deprecated; in a future version of numpy, it will be understood as (type, (1,)) / '(1,)type'.\n",
      "  np_resource = np.dtype([(\"resource\", np.ubyte, 1)])\n"
     ]
    },
    {
     "name": "stdout",
     "output_type": "stream",
     "text": [
      "(60000, 1, 28, 28) (60000, 10) (10000, 1, 28, 28) (10000, 10)\n"
     ]
    }
   ],
   "source": [
    "import numpy as np\n",
    "from keras.utils import np_utils\n",
    "from keras.datasets import mnist\n",
    "\n",
    "np.random.seed(42)\n",
    " \n",
    "(X_train, y_train), (X_test, y_test) = mnist.load_data()\n",
    "\n",
    "X_train = X_train.reshape(X_train.shape[0], 1, 28, 28).astype('float32') / 255\n",
    "X_test = X_test.reshape(X_test.shape[0], 1, 28, 28).astype('float32') / 255\n",
    "\n",
    "Y_train = np_utils.to_categorical(y_train, 10)\n",
    "Y_test = np_utils.to_categorical(y_test, 10)\n",
    "\n",
    "print(X_train.shape, Y_train.shape, X_test.shape, Y_test.shape)"
   ]
  },
  {
   "cell_type": "markdown",
   "metadata": {},
   "source": [
    "#### Подготовка моделей"
   ]
  },
  {
   "cell_type": "code",
   "execution_count": 11,
   "metadata": {},
   "outputs": [
    {
     "name": "stdout",
     "output_type": "stream",
     "text": [
      "2.2.4\n"
     ]
    }
   ],
   "source": [
    "import keras\n",
    "from keras.models import Model\n",
    "from keras.layers import Input, Conv2D, Flatten, Dense\n",
    "from keras.optimizers import SGD\n",
    "\n",
    "print(keras.__version__)\n",
    "\n",
    "def get_keras_model():\n",
    "    input_image = Input(shape=(1, 28, 28))\n",
    "    conv = Conv2D(1, 3, padding='same', data_format='channels_first', activation='relu')(input_image)\n",
    "    flatten = Flatten()(conv)\n",
    "    dense = Dense(10, activation='softmax')(flatten)\n",
    "    model = Model(inputs=input_image, outputs=dense)\n",
    "    model.get_weights()\n",
    "\n",
    "    sgd = SGD(lr=0.01, momentum=0.9, nesterov=True)\n",
    "    model.compile(loss='categorical_crossentropy',\n",
    "                  optimizer=sgd,\n",
    "                  metrics=['accuracy'])\n",
    "\n",
    "    history = model.fit(X_train, Y_train, validation_split=0.25, \n",
    "                        batch_size=32, nb_epoch=2, verbose=1)\n",
    "    return model"
   ]
  },
  {
   "cell_type": "code",
   "execution_count": 12,
   "metadata": {},
   "outputs": [
    {
     "name": "stdout",
     "output_type": "stream",
     "text": [
      "WARNING:tensorflow:From C:\\Users\\Dan\\AppData\\Local\\Programs\\Python\\Python36\\lib\\site-packages\\tensorflow\\python\\framework\\op_def_library.py:263: colocate_with (from tensorflow.python.framework.ops) is deprecated and will be removed in a future version.\n",
      "Instructions for updating:\n",
      "Colocations handled automatically by placer.\n",
      "WARNING:tensorflow:From C:\\Users\\Dan\\AppData\\Local\\Programs\\Python\\Python36\\lib\\site-packages\\tensorflow\\python\\ops\\math_ops.py:3066: to_int32 (from tensorflow.python.ops.math_ops) is deprecated and will be removed in a future version.\n",
      "Instructions for updating:\n",
      "Use tf.cast instead.\n"
     ]
    },
    {
     "name": "stderr",
     "output_type": "stream",
     "text": [
      "C:\\Users\\Dan\\AppData\\Local\\Programs\\Python\\Python36\\lib\\site-packages\\ipykernel_launcher.py:22: UserWarning: The `nb_epoch` argument in `fit` has been renamed `epochs`.\n"
     ]
    },
    {
     "name": "stdout",
     "output_type": "stream",
     "text": [
      "Train on 45000 samples, validate on 15000 samples\n",
      "Epoch 1/2\n",
      "45000/45000 [==============================] - 7s 145us/step - loss: 0.3938 - acc: 0.8859 - val_loss: 0.3328 - val_acc: 0.9063\n",
      "Epoch 2/2\n",
      "45000/45000 [==============================] - 6s 144us/step - loss: 0.3224 - acc: 0.9092 - val_loss: 0.3149 - val_acc: 0.9135\n"
     ]
    }
   ],
   "source": [
    "keras_model = get_keras_model()"
   ]
  },
  {
   "cell_type": "code",
   "execution_count": 13,
   "metadata": {},
   "outputs": [
    {
     "name": "stdout",
     "output_type": "stream",
     "text": [
      "(3, 3, 1, 1)\n",
      "(1,)\n",
      "(784, 10)\n",
      "(10,)\n"
     ]
    }
   ],
   "source": [
    "for weights in keras_model.get_weights():\n",
    "    print(weights.shape)"
   ]
  },
  {
   "cell_type": "code",
   "execution_count": 14,
   "metadata": {},
   "outputs": [],
   "source": [
    "def get_our_model(keras_model):\n",
    "    W_conv, b_conv, W_dense, b_dense = keras_model.get_weights()\n",
    "    conv = Conv2DLayer(3, 1, 1, padding='same', K_init=W_conv, b_init=b_conv)\n",
    "    relu = ReLU()\n",
    "    flatten = FlattenLayer()\n",
    "    dense = DenseLayer(784, 10, W_init=W_dense, b_init=b_dense)\n",
    "    softmax = Softmax()\n",
    "    return Network([conv, relu, flatten, dense, softmax])"
   ]
  },
  {
   "cell_type": "code",
   "execution_count": 15,
   "metadata": {},
   "outputs": [],
   "source": [
    "our_model = get_our_model(keras_model)"
   ]
  },
  {
   "cell_type": "code",
   "execution_count": 16,
   "metadata": {},
   "outputs": [
    {
     "name": "stdout",
     "output_type": "stream",
     "text": [
      "Test PASSED\n"
     ]
    }
   ],
   "source": [
    "keras_pred = keras_model.predict(X_test)\n",
    "our_pred = our_model.predict(X_test)\n",
    "if np.sum(np.abs(keras_pred - our_pred)) < 0.01:\n",
    "    print('Test PASSED')\n",
    "else:\n",
    "    print('Something went wrong!')"
   ]
  },
  {
   "cell_type": "markdown",
   "metadata": {},
   "source": [
    "### 2. Вычисление производных по входу для слоёв нейронной сети"
   ]
  },
  {
   "cell_type": "markdown",
   "metadata": {},
   "source": [
    "В данном задании запрещено использовать численные формулы для вычисления производных."
   ]
  },
  {
   "cell_type": "markdown",
   "metadata": {},
   "source": [
    "#### 2.1  Реализуйте метод forward для класса CrossEntropy\n",
    "Напоминание: $$ crossentropy = L(p, y) =  - \\sum\\limits_i y_i log p_i, $$\n",
    "где вектор $(p_1, ..., p_k) $ -  выход классификационного алгоритма, а $(y_1,..., y_k)$ - правильные метки класса в унарной кодировке (one-hot encoding)"
   ]
  },
  {
   "cell_type": "code",
   "execution_count": 17,
   "metadata": {},
   "outputs": [],
   "source": [
    "class CrossEntropy(object):\n",
    "    def __init__(self):\n",
    "        self.name = 'CrossEntropy'\n",
    "    \n",
    "    def forward(self, input_data, labels):\n",
    "        return -np.sum(labels * np.log(input_data), axis=1)\n",
    "    \n",
    "    def grad_x(self, input_data, labels):\n",
    "        return -labels / input_data"
   ]
  },
  {
   "cell_type": "markdown",
   "metadata": {},
   "source": [
    "#### 2.2  Реализуйте метод grad_x класса CrossEntropy, который возвращает $\\frac{\\partial L}{\\partial p}$"
   ]
  },
  {
   "cell_type": "markdown",
   "metadata": {},
   "source": [
    "Проверить работоспособность кода поможет следующий тест:"
   ]
  },
  {
   "cell_type": "code",
   "execution_count": 18,
   "metadata": {},
   "outputs": [],
   "source": [
    "def check_grad(source, target):\n",
    "    if np.sum(np.abs(target - source)) < 0.01:\n",
    "        print('Test PASSED')\n",
    "    else:\n",
    "        print('Something went wrong!')\n",
    "        print('Target grad is')\n",
    "        print(target)\n",
    "        print('Source grad is')\n",
    "        print(source)"
   ]
  },
  {
   "cell_type": "code",
   "execution_count": 19,
   "metadata": {},
   "outputs": [],
   "source": [
    "def numerical_diff_loss(loss, x, labels):\n",
    "    eps = 0.00001\n",
    "    right_answer = []\n",
    "    for i in range(len(x[0])):\n",
    "        delta = np.zeros(len(x[0]))\n",
    "        delta[i] = eps\n",
    "        diff = (loss.forward(x + delta, labels) - loss.forward(x - delta, labels)) / (2 * eps)\n",
    "        right_answer.append(diff)\n",
    "    \n",
    "    return np.array(right_answer).T\n",
    "\n",
    "def test_loss(loss, x, labels):    \n",
    "    num_grad = numerical_diff_loss(loss, x, labels)\n",
    "    grad = loss.grad_x(x, labels)\n",
    "    check_grad(grad, num_grad)"
   ]
  },
  {
   "cell_type": "code",
   "execution_count": 20,
   "metadata": {},
   "outputs": [
    {
     "name": "stdout",
     "output_type": "stream",
     "text": [
      "Test PASSED\n"
     ]
    }
   ],
   "source": [
    "loss = CrossEntropy()\n",
    "x = np.array([[0.3, 0.2, 0.5], [0.3, 0.2, 0.5]])\n",
    "labels = np.array([[1, 2, 3], [2, 3, 4]])\n",
    "test_loss(loss, x, labels)"
   ]
  },
  {
   "cell_type": "markdown",
   "metadata": {},
   "source": [
    "#### 2.3  Реализуйте метод grad_x класса Softmax, который возвращает $\\frac{\\partial Softmax}{\\partial x}$"
   ]
  },
  {
   "cell_type": "markdown",
   "metadata": {},
   "source": [
    "Проверить работоспособность кода поможет следующий тест:"
   ]
  },
  {
   "cell_type": "code",
   "execution_count": 21,
   "metadata": {},
   "outputs": [],
   "source": [
    "def numerical_diff_layer(layer, x):\n",
    "    eps = 0.00001\n",
    "    right_answer = []\n",
    "    size, shape = x[0].size, x[0].shape\n",
    "    for i in range(size):\n",
    "        delta = np.zeros(size)\n",
    "        delta[i] = eps\n",
    "        delta = delta.reshape(shape)\n",
    "        diff = (layer.forward(x + delta) - layer.forward(x - delta)) / (2 * eps)\n",
    "        right_answer.append(diff.reshape(len(x), -1).T)\n",
    "    \n",
    "    return np.array(right_answer).T\n",
    "\n",
    "def test_layer(layer, x):\n",
    "    num_grad = numerical_diff_layer(layer, x)\n",
    "    grad = layer.grad_x(x)\n",
    "    check_grad(grad, num_grad)"
   ]
  },
  {
   "cell_type": "code",
   "execution_count": 22,
   "metadata": {},
   "outputs": [
    {
     "name": "stdout",
     "output_type": "stream",
     "text": [
      "Test PASSED\n"
     ]
    }
   ],
   "source": [
    "layer = Softmax()\n",
    "x = np.array([[1, 2, 3], [2, -3, 4]])\n",
    "test_layer(layer, x)"
   ]
  },
  {
   "cell_type": "markdown",
   "metadata": {},
   "source": [
    "#### 2.4  Реализуйте метод grad_x для классов ReLU и DenseLayer"
   ]
  },
  {
   "cell_type": "code",
   "execution_count": 23,
   "metadata": {},
   "outputs": [
    {
     "name": "stdout",
     "output_type": "stream",
     "text": [
      "Test PASSED\n"
     ]
    }
   ],
   "source": [
    "layer = ReLU()\n",
    "x = np.array([[1, 2, 3], [2, -3, 4]])\n",
    "test_layer(layer, x)"
   ]
  },
  {
   "cell_type": "code",
   "execution_count": 24,
   "metadata": {},
   "outputs": [
    {
     "name": "stdout",
     "output_type": "stream",
     "text": [
      "Test PASSED\n"
     ]
    }
   ],
   "source": [
    "layer = DenseLayer(3, 4)\n",
    "x = np.array([[1, 2, 3], [2, -3, 4]])\n",
    "test_layer(layer, x)"
   ]
  },
  {
   "cell_type": "markdown",
   "metadata": {},
   "source": [
    "#### Conv2D test"
   ]
  },
  {
   "cell_type": "code",
   "execution_count": 25,
   "metadata": {},
   "outputs": [
    {
     "name": "stdout",
     "output_type": "stream",
     "text": [
      "Test PASSED\n"
     ]
    }
   ],
   "source": [
    "b, c_in, h_in, w_in, c_out = 5, 5, 5, 5, 5\n",
    "k, s = 3, 2\n",
    "layer = Conv2DLayer(k, c_in, c_out, padding='same', stride=s)\n",
    "x = np.arange(b * c_in * h_in * w_in).reshape(b, c_in, h_in, w_in)\n",
    "test_layer(layer, x)"
   ]
  },
  {
   "cell_type": "markdown",
   "metadata": {},
   "source": [
    "#### Conv2DTr test"
   ]
  },
  {
   "cell_type": "code",
   "execution_count": 26,
   "metadata": {},
   "outputs": [
    {
     "name": "stdout",
     "output_type": "stream",
     "text": [
      "Test PASSED\n"
     ]
    }
   ],
   "source": [
    "b, c_in, h_in, w_in, c_out = 5, 5, 5, 5, 5\n",
    "k, p, s = 3, 1, 2\n",
    "layer = Conv2DTrLayer(k, c_in, c_out, padding=p, stride=s)\n",
    "x = np.arange(b * c_in * h_in * w_in).reshape(b, c_in, h_in, w_in)\n",
    "test_layer(layer, x)"
   ]
  },
  {
   "cell_type": "markdown",
   "metadata": {},
   "source": [
    "#### 2.5 (4 балла) Для класса Network реализуйте метод grad_x, который должен реализовывать взятие производной от лосса по входу"
   ]
  },
  {
   "cell_type": "code",
   "execution_count": 27,
   "metadata": {},
   "outputs": [],
   "source": [
    "def numerical_diff_net(net, x, labels):\n",
    "    eps = 0.00001\n",
    "    right_answer = []\n",
    "    size, shape = x[0].size, x[0].shape\n",
    "    for i in range(size):\n",
    "        delta = np.zeros(size)\n",
    "        delta[i] = eps\n",
    "        delta = delta.reshape(shape)\n",
    "        diff = (net.calculate_loss(x + delta, labels) - net.calculate_loss(x - delta, labels)) / (2 * eps)\n",
    "        right_answer.append(diff)\n",
    "    \n",
    "    return np.array(right_answer).T\n",
    "\n",
    "def test_net(net, x, labels):\n",
    "    num_grad = numerical_diff_net(net, x, labels)\n",
    "    grad = net.grad_x(x, labels)\n",
    "    check_grad(grad, num_grad)"
   ]
  },
  {
   "cell_type": "code",
   "execution_count": 28,
   "metadata": {},
   "outputs": [
    {
     "name": "stdout",
     "output_type": "stream",
     "text": [
      "Test PASSED\n"
     ]
    }
   ],
   "source": [
    "b, c_in, h_in, w_in, c_out = 2, 5, 5, 5, 5\n",
    "k, s = 3, 2\n",
    "net = Network([Conv2DLayer(k, c_in, c_out, padding='same', stride=s), ReLU(), \n",
    "               FlattenLayer(), DenseLayer(45, 3), Softmax()], loss=CrossEntropy())\n",
    "x = np.arange(b * c_in * h_in * w_in).reshape(b, c_in, h_in, w_in)\n",
    "labels = np.array([[1, 2, 3], [2, 3, 4]])\n",
    "test_net(net, x, labels)"
   ]
  },
  {
   "cell_type": "markdown",
   "metadata": {},
   "source": [
    "### 3. Реализация градиентов по параметрам и метода обратного распространения ошибки с обновлением парметров сети"
   ]
  },
  {
   "cell_type": "markdown",
   "metadata": {},
   "source": [
    "#### 3.1  Реализуйте функции grad_b и grad_W. При подготовке теста grad_W предполагается, что W является отномерным вектором."
   ]
  },
  {
   "cell_type": "code",
   "execution_count": 29,
   "metadata": {},
   "outputs": [],
   "source": [
    "def numerical_grad_b(input_size, output_size, W_init, b_init, x):\n",
    "    eps = 0.00001\n",
    "    right_answer = []\n",
    "    for i in range(len(b_init)):\n",
    "        delta = np.zeros(b_init.shape)\n",
    "        delta[i] = eps\n",
    "        dense1 = DenseLayer(input_size, output_size, W_init, b_init+delta)\n",
    "        dense2 = DenseLayer(input_size, output_size, W_init, b_init-delta)\n",
    "        diff = (dense1.forward(x) - dense2.forward(x)) / (2 * eps)\n",
    "        right_answer.append(diff.T)\n",
    "    \n",
    "    return np.array(right_answer).T\n",
    "\n",
    "def test_grad_b():\n",
    "    b, input_size, output_size = 2, 3, 4 \n",
    "    W_init = np.random.random((input_size, output_size))\n",
    "    b_init = np.random.random(output_size)\n",
    "    x = np.random.random((b, input_size))\n",
    "\n",
    "    num_grad = numerical_grad_b(input_size, output_size, W_init, b_init, x)\n",
    "    layer = DenseLayer(input_size, output_size, W_init, b_init)\n",
    "    grad = layer.grad_b(x)\n",
    "    check_grad(grad, num_grad)"
   ]
  },
  {
   "cell_type": "code",
   "execution_count": 30,
   "metadata": {},
   "outputs": [
    {
     "name": "stdout",
     "output_type": "stream",
     "text": [
      "Test PASSED\n"
     ]
    }
   ],
   "source": [
    "test_grad_b()"
   ]
  },
  {
   "cell_type": "code",
   "execution_count": 31,
   "metadata": {},
   "outputs": [],
   "source": [
    "def numerical_grad_W(input_size, output_size, W_init, b_init, x):\n",
    "    eps = 0.00001\n",
    "    right_answer = []\n",
    "    size, shape = W_init.size, W_init.shape\n",
    "    for i in range(size):\n",
    "        delta = np.zeros(size)\n",
    "        delta[i] = eps\n",
    "        delta = delta.reshape(shape)\n",
    "        dense1 = DenseLayer(input_size, output_size, W_init+delta, b_init)\n",
    "        dense2 = DenseLayer(input_size, output_size, W_init-delta, b_init)\n",
    "        diff = (dense1.forward(x) - dense2.forward(x)) / (2 * eps)\n",
    "        right_answer.append(diff.T)\n",
    "    \n",
    "    return np.array(right_answer).T\n",
    "\n",
    "def test_grad_W():\n",
    "    b, input_size, output_size = 2, 3, 4\n",
    "    W_init = np.random.random((input_size, output_size))\n",
    "    b_init = np.random.random(output_size)\n",
    "    x = np.random.random((b, input_size))\n",
    "    \n",
    "    num_grad = numerical_grad_W(input_size, output_size, W_init, b_init, x)\n",
    "    layer = DenseLayer(input_size, output_size, W_init, b_init)\n",
    "    grad = layer.grad_W(x)\n",
    "    check_grad(grad, num_grad)"
   ]
  },
  {
   "cell_type": "code",
   "execution_count": 32,
   "metadata": {},
   "outputs": [
    {
     "name": "stdout",
     "output_type": "stream",
     "text": [
      "Test PASSED\n"
     ]
    }
   ],
   "source": [
    "test_grad_W()"
   ]
  },
  {
   "cell_type": "markdown",
   "metadata": {},
   "source": [
    "#### Conv2D grad_kernel test"
   ]
  },
  {
   "cell_type": "code",
   "execution_count": 33,
   "metadata": {},
   "outputs": [],
   "source": [
    "def numerical_grad_kernel_conv2d(kernel_size, input_channels, output_channels, \n",
    "                                 padding, stride, K_init, b_init, x):\n",
    "    eps = 0.00001\n",
    "    right_answer = []\n",
    "    size, shape = K_init.size, K_init.shape\n",
    "    for i in range(size):\n",
    "        delta = np.zeros(size)\n",
    "        delta[i] = eps\n",
    "        delta = delta.reshape(shape)\n",
    "        conv1 = Conv2DLayer(kernel_size, input_channels, output_channels, \n",
    "                            padding, stride, K_init+delta, b_init)\n",
    "        conv2 = Conv2DLayer(kernel_size, input_channels, output_channels, \n",
    "                            padding, stride, K_init-delta, b_init)\n",
    "        diff = (conv1.forward(x) - conv2.forward(x)) / (2 * eps)\n",
    "        right_answer.append(diff.reshape(len(x), -1).T)\n",
    "            \n",
    "    return np.array(right_answer).T\n",
    "\n",
    "def test_grad_kernel_conv2d():\n",
    "    b, c_in, h_in, w_in, c_out = 5, 5, 5, 5, 5\n",
    "    k, p, s = 3, 'same', 2\n",
    "    K_init = np.random.random((k, k, c_in, c_out))\n",
    "    b_init = np.random.random(c_out)\n",
    "    x = np.random.random((b, c_in, h_in, w_in))\n",
    "    \n",
    "    num_grad = numerical_grad_kernel_conv2d(k, c_in, c_out, p, s, K_init, b_init, x)\n",
    "    layer = Conv2DLayer(k, c_in, c_out, 'same', s, K_init, b_init)\n",
    "    grad = layer.grad_kernel(x)\n",
    "    check_grad(grad, num_grad)"
   ]
  },
  {
   "cell_type": "code",
   "execution_count": 34,
   "metadata": {},
   "outputs": [
    {
     "name": "stdout",
     "output_type": "stream",
     "text": [
      "Test PASSED\n"
     ]
    }
   ],
   "source": [
    "test_grad_kernel_conv2d()"
   ]
  },
  {
   "cell_type": "markdown",
   "metadata": {},
   "source": [
    "#### Conv2DTr grad_kernel test"
   ]
  },
  {
   "cell_type": "code",
   "execution_count": 35,
   "metadata": {},
   "outputs": [],
   "source": [
    "def numerical_grad_kernel_conv2dtr(kernel_size, input_channels, output_channels, \n",
    "                                   padding, stride, K_init, b_init, x):\n",
    "    eps = 0.00001\n",
    "    right_answer = []\n",
    "    size, shape = K_init.size, K_init.shape\n",
    "    for i in range(size):\n",
    "        delta = np.zeros(size)\n",
    "        delta[i] = eps\n",
    "        delta = delta.reshape(shape)\n",
    "        conv1 = Conv2DTrLayer(kernel_size, input_channels, output_channels, \n",
    "                              padding, stride, K_init+delta, b_init)\n",
    "        conv2 = Conv2DTrLayer(kernel_size, input_channels, output_channels, \n",
    "                              padding, stride, K_init-delta, b_init)\n",
    "        diff = (conv1.forward(x) - conv2.forward(x)) / (2 * eps)\n",
    "        right_answer.append(diff.reshape(len(x), -1).T)\n",
    "            \n",
    "    return np.array(right_answer).T\n",
    "\n",
    "def test_grad_kernel_conv2dtr():\n",
    "    b, c_in, h_in, w_in, c_out = 5, 5, 5, 5, 5\n",
    "    k, p, s = 3, 1, 2\n",
    "    K_init = np.random.random((k, k, c_in, c_out))\n",
    "    b_init = np.random.random(c_out)\n",
    "    x = np.random.random((b, c_in, h_in, w_in))\n",
    "    \n",
    "    num_grad = numerical_grad_kernel_conv2dtr(k, c_in, c_out, p, s, K_init, b_init, x)\n",
    "    layer = Conv2DTrLayer(k, c_in, c_out, p, s, K_init, b_init)\n",
    "    grad = layer.grad_kernel(x)\n",
    "    check_grad(grad, num_grad)"
   ]
  },
  {
   "cell_type": "code",
   "execution_count": 36,
   "metadata": {},
   "outputs": [
    {
     "name": "stdout",
     "output_type": "stream",
     "text": [
      "Test PASSED\n"
     ]
    }
   ],
   "source": [
    "test_grad_kernel_conv2dtr()"
   ]
  },
  {
   "cell_type": "markdown",
   "metadata": {},
   "source": [
    "#### 3.2 Полностью реализуйте метод обратного распространения ошибки в функции train_step класса Network\n"
   ]
  },
  {
   "cell_type": "markdown",
   "metadata": {},
   "source": [
    "Рекомендуем реализовать сначала функцию Network.grad_param(), которая возвращает список длиной в количество слоёв и элементом которого является список градиентов по параметрам.\n",
    "После чего, имея список градиентов, написать функцию обновления параметров для каждого слоя. \n",
    "\n",
    "Совет: рекомендуем написать тест для кода подсчета градиента по параметрам, чтобы быть уверенным в том, что градиент через всю сеть считается правильно\n",
    "    "
   ]
  },
  {
   "cell_type": "code",
   "execution_count": 37,
   "metadata": {},
   "outputs": [],
   "source": [
    "def numerical_grad_param(net, x, labels):\n",
    "    eps = 0.00001\n",
    "    right_answer = []\n",
    "    conv = net.layers[0]\n",
    "    k, c_in, c_out, p, s, kernel, bias = \\\n",
    "        conv.kernel_size, conv.input_channels, conv.output_channels, \\\n",
    "        conv.padding, conv.stride, conv.kernel, conv.bias\n",
    "    size, shape = conv.kernel.size, conv.kernel.shape\n",
    "    for i in range(size):\n",
    "        delta = np.zeros(size)\n",
    "        delta[i] = eps\n",
    "        delta = delta.reshape(shape)\n",
    "        layer1 = Conv2DLayer(k, c_in, c_out, p, s, kernel+delta, bias)\n",
    "        layer2 = Conv2DLayer(k, c_in, c_out, p, s, kernel-delta, bias)\n",
    "        net1 = Network([layer1] + net.layers[1:], loss=net.loss)\n",
    "        net2 = Network([layer2] + net.layers[1:], loss=net.loss)\n",
    "        diff = (net1.calculate_loss(x, labels) - net2.calculate_loss(x, labels)) / (2 * eps)\n",
    "        right_answer.append(diff)\n",
    "    \n",
    "    return np.array(right_answer).T\n",
    "\n",
    "def test_grad_param():\n",
    "    b, c_in, h_in, w_in, c_out = 2, 5, 5, 5, 5\n",
    "    k, p, s = 3, 'same', 2\n",
    "    net = Network([Conv2DLayer(k, c_in, c_out, p, s), ReLU(), \n",
    "                   FlattenLayer(), DenseLayer(45, 3), Softmax()], loss=CrossEntropy())\n",
    "    x = np.random.random((b, c_in, h_in, w_in))\n",
    "    labels = np.array([[1, 2, 3], [2, 3, 4]])\n",
    "\n",
    "    num_grad = numerical_grad_param(net, x, labels)\n",
    "    grad = net.grad_param(x, labels)[0][0]\n",
    "    check_grad(grad, num_grad)"
   ]
  },
  {
   "cell_type": "code",
   "execution_count": 38,
   "metadata": {},
   "outputs": [
    {
     "name": "stdout",
     "output_type": "stream",
     "text": [
      "Test PASSED\n"
     ]
    }
   ],
   "source": [
    "test_grad_param()"
   ]
  },
  {
   "cell_type": "markdown",
   "metadata": {},
   "source": [
    "#### 3.3 Ознакомьтесь с реализацией функции fit класса Network. Запустите обучение модели. Если всё работает правильно, то точность на валидации должна будет возрастать"
   ]
  },
  {
   "cell_type": "code",
   "execution_count": 39,
   "metadata": {},
   "outputs": [
    {
     "name": "stderr",
     "output_type": "stream",
     "text": [
      "100%|██████████| 937/937 [00:08<00:00, 115.78it/s]\n"
     ]
    },
    {
     "name": "stdout",
     "output_type": "stream",
     "text": [
      "1 epoch: val 0.84\n"
     ]
    },
    {
     "name": "stderr",
     "output_type": "stream",
     "text": [
      "100%|██████████| 937/937 [00:08<00:00, 115.38it/s]\n"
     ]
    },
    {
     "name": "stdout",
     "output_type": "stream",
     "text": [
      "2 epoch: val 0.87\n"
     ]
    },
    {
     "name": "stderr",
     "output_type": "stream",
     "text": [
      "100%|██████████| 937/937 [00:08<00:00, 116.40it/s]\n"
     ]
    },
    {
     "name": "stdout",
     "output_type": "stream",
     "text": [
      "3 epoch: val 0.88\n"
     ]
    },
    {
     "name": "stderr",
     "output_type": "stream",
     "text": [
      "100%|██████████| 937/937 [00:08<00:00, 114.52it/s]\n"
     ]
    },
    {
     "name": "stdout",
     "output_type": "stream",
     "text": [
      "4 epoch: val 0.88\n"
     ]
    },
    {
     "name": "stderr",
     "output_type": "stream",
     "text": [
      "100%|██████████| 937/937 [00:08<00:00, 115.79it/s]\n"
     ]
    },
    {
     "name": "stdout",
     "output_type": "stream",
     "text": [
      "5 epoch: val 0.89\n"
     ]
    }
   ],
   "source": [
    "np.random.seed(42)\n",
    "\n",
    "net = Network([DenseLayer(784, 10), Softmax()], loss=CrossEntropy())\n",
    "trainX = X_train.reshape(len(X_train), -1)\n",
    "net.fit(trainX[::3], Y_train[::3], validation_split=0.25, \n",
    "        batch_size=16, nb_epoch=5, learning_rate=0.01)"
   ]
  },
  {
   "cell_type": "code",
   "execution_count": 40,
   "metadata": {},
   "outputs": [
    {
     "name": "stderr",
     "output_type": "stream",
     "text": [
      "100%|██████████| 468/468 [00:15<00:00, 30.14it/s]\n"
     ]
    },
    {
     "name": "stdout",
     "output_type": "stream",
     "text": [
      "1 epoch: val 0.27\n"
     ]
    },
    {
     "name": "stderr",
     "output_type": "stream",
     "text": [
      "100%|██████████| 468/468 [00:15<00:00, 30.00it/s]\n"
     ]
    },
    {
     "name": "stdout",
     "output_type": "stream",
     "text": [
      "2 epoch: val 0.46\n"
     ]
    },
    {
     "name": "stderr",
     "output_type": "stream",
     "text": [
      "100%|██████████| 468/468 [00:15<00:00, 30.05it/s]\n"
     ]
    },
    {
     "name": "stdout",
     "output_type": "stream",
     "text": [
      "3 epoch: val 0.56\n"
     ]
    },
    {
     "name": "stderr",
     "output_type": "stream",
     "text": [
      "100%|██████████| 468/468 [00:15<00:00, 30.34it/s]\n"
     ]
    },
    {
     "name": "stdout",
     "output_type": "stream",
     "text": [
      "4 epoch: val 0.63\n"
     ]
    },
    {
     "name": "stderr",
     "output_type": "stream",
     "text": [
      "100%|██████████| 468/468 [00:15<00:00, 30.03it/s]"
     ]
    },
    {
     "name": "stdout",
     "output_type": "stream",
     "text": [
      "5 epoch: val 0.70\n"
     ]
    },
    {
     "name": "stderr",
     "output_type": "stream",
     "text": [
      "\n"
     ]
    }
   ],
   "source": [
    "np.random.seed(42)\n",
    "\n",
    "net = Network([DenseLayer(784, 20), ReLU(), DenseLayer(20, 10), Softmax()], loss=CrossEntropy())\n",
    "trainX = X_train.reshape(len(X_train), -1)\n",
    "net.fit(trainX[::6], Y_train[::6], validation_split=0.25, \n",
    "        batch_size=16, nb_epoch=5, learning_rate=0.001)"
   ]
  },
  {
   "cell_type": "code",
   "execution_count": 41,
   "metadata": {},
   "outputs": [
    {
     "name": "stderr",
     "output_type": "stream",
     "text": [
      "100%|██████████| 468/468 [00:41<00:00, 11.41it/s]\n"
     ]
    },
    {
     "name": "stdout",
     "output_type": "stream",
     "text": [
      "1 epoch: val 0.15\n"
     ]
    },
    {
     "name": "stderr",
     "output_type": "stream",
     "text": [
      "100%|██████████| 468/468 [00:40<00:00, 11.67it/s]\n"
     ]
    },
    {
     "name": "stdout",
     "output_type": "stream",
     "text": [
      "2 epoch: val 0.29\n"
     ]
    },
    {
     "name": "stderr",
     "output_type": "stream",
     "text": [
      "100%|██████████| 468/468 [00:40<00:00, 11.50it/s]\n"
     ]
    },
    {
     "name": "stdout",
     "output_type": "stream",
     "text": [
      "3 epoch: val 0.49\n"
     ]
    },
    {
     "name": "stderr",
     "output_type": "stream",
     "text": [
      "100%|██████████| 468/468 [00:41<00:00, 11.37it/s]\n"
     ]
    },
    {
     "name": "stdout",
     "output_type": "stream",
     "text": [
      "4 epoch: val 0.62\n"
     ]
    },
    {
     "name": "stderr",
     "output_type": "stream",
     "text": [
      "100%|██████████| 468/468 [00:41<00:00, 11.32it/s]\n"
     ]
    },
    {
     "name": "stdout",
     "output_type": "stream",
     "text": [
      "5 epoch: val 0.70\n"
     ]
    }
   ],
   "source": [
    "np.random.seed(42)\n",
    "\n",
    "convs = [Conv2DLayer(kernel_size=5, input_channels=1, output_channels=1, padding='valid', stride=1), ReLU()]\n",
    "denses = [DenseLayer(576, 10)]\n",
    "net = Network(convs + [FlattenLayer()] + denses + [Softmax()], loss=CrossEntropy())\n",
    "net.fit(X_train[::6], Y_train[::6], validation_split=0.25, \n",
    "        batch_size=16, nb_epoch=5, learning_rate=0.001)"
   ]
  },
  {
   "cell_type": "markdown",
   "metadata": {},
   "source": [
    "#### 3.5 Продемонстрируйте, что ваша реализация позволяет обучать более глубокие нейронные сети "
   ]
  },
  {
   "cell_type": "code",
   "execution_count": 42,
   "metadata": {},
   "outputs": [
    {
     "name": "stderr",
     "output_type": "stream",
     "text": [
      "100%|██████████| 281/281 [00:43<00:00,  6.42it/s]\n"
     ]
    },
    {
     "name": "stdout",
     "output_type": "stream",
     "text": [
      "1 epoch: val 0.16\n"
     ]
    },
    {
     "name": "stderr",
     "output_type": "stream",
     "text": [
      "100%|██████████| 281/281 [00:43<00:00,  6.48it/s]\n"
     ]
    },
    {
     "name": "stdout",
     "output_type": "stream",
     "text": [
      "2 epoch: val 0.25\n"
     ]
    },
    {
     "name": "stderr",
     "output_type": "stream",
     "text": [
      "100%|██████████| 281/281 [00:43<00:00,  6.43it/s]\n"
     ]
    },
    {
     "name": "stdout",
     "output_type": "stream",
     "text": [
      "3 epoch: val 0.35\n"
     ]
    },
    {
     "name": "stderr",
     "output_type": "stream",
     "text": [
      "100%|██████████| 281/281 [00:43<00:00,  6.52it/s]\n"
     ]
    },
    {
     "name": "stdout",
     "output_type": "stream",
     "text": [
      "4 epoch: val 0.46\n"
     ]
    },
    {
     "name": "stderr",
     "output_type": "stream",
     "text": [
      "100%|██████████| 281/281 [00:43<00:00,  6.49it/s]\n"
     ]
    },
    {
     "name": "stdout",
     "output_type": "stream",
     "text": [
      "5 epoch: val 0.56\n"
     ]
    }
   ],
   "source": [
    "np.random.seed(42)\n",
    "\n",
    "convs = [Conv2DLayer(kernel_size=3, input_channels=1, output_channels=1, padding='same', stride=1),\n",
    "         Conv2DLayer(kernel_size=5, input_channels=1, output_channels=1, padding='valid', stride=1),\n",
    "         Conv2DLayer(kernel_size=5, input_channels=1, output_channels=1, padding='valid', stride=1),\n",
    "         Conv2DLayer(kernel_size=5, input_channels=1, output_channels=1, padding='valid', stride=1),\n",
    "         Conv2DLayer(kernel_size=5, input_channels=1, output_channels=1, padding='valid', stride=1), ReLU()]\n",
    "denses = [DenseLayer(144, 10)]\n",
    "net = Network(convs + [FlattenLayer()] + denses + [Softmax()], loss=CrossEntropy())\n",
    "net.fit(X_train[::10], Y_train[::10], validation_split=0.25, \n",
    "        batch_size=16, nb_epoch=5, learning_rate=0.001)"
   ]
  },
  {
   "cell_type": "code",
   "execution_count": 48,
   "metadata": {},
   "outputs": [
    {
     "name": "stderr",
     "output_type": "stream",
     "text": [
      "100%|██████████| 281/281 [00:46<00:00,  6.03it/s]\n"
     ]
    },
    {
     "name": "stdout",
     "output_type": "stream",
     "text": [
      "1 epoch: val 0.15\n"
     ]
    },
    {
     "name": "stderr",
     "output_type": "stream",
     "text": [
      "100%|██████████| 281/281 [00:46<00:00,  6.06it/s]\n"
     ]
    },
    {
     "name": "stdout",
     "output_type": "stream",
     "text": [
      "2 epoch: val 0.21\n"
     ]
    },
    {
     "name": "stderr",
     "output_type": "stream",
     "text": [
      "100%|██████████| 281/281 [00:46<00:00,  6.07it/s]\n"
     ]
    },
    {
     "name": "stdout",
     "output_type": "stream",
     "text": [
      "3 epoch: val 0.24\n"
     ]
    },
    {
     "name": "stderr",
     "output_type": "stream",
     "text": [
      "100%|██████████| 281/281 [00:46<00:00,  6.08it/s]\n"
     ]
    },
    {
     "name": "stdout",
     "output_type": "stream",
     "text": [
      "4 epoch: val 0.33\n"
     ]
    },
    {
     "name": "stderr",
     "output_type": "stream",
     "text": [
      "100%|██████████| 281/281 [00:46<00:00,  6.05it/s]\n"
     ]
    },
    {
     "name": "stdout",
     "output_type": "stream",
     "text": [
      "5 epoch: val 0.41\n"
     ]
    }
   ],
   "source": [
    "np.random.seed(42)\n",
    "\n",
    "convs = [Conv2DLayer(kernel_size=3, input_channels=1, output_channels=1, padding='same', stride=1),\n",
    "         Conv2DLayer(kernel_size=5, input_channels=1, output_channels=1, padding='valid', stride=1),\n",
    "         Conv2DLayer(kernel_size=5, input_channels=1, output_channels=1, padding='valid', stride=1),\n",
    "         Conv2DLayer(kernel_size=5, input_channels=1, output_channels=1, padding='valid', stride=1),\n",
    "         Conv2DLayer(kernel_size=5, input_channels=1, output_channels=1, padding='valid', stride=1),\n",
    "         Conv2DLayer(kernel_size=5, input_channels=1, output_channels=1, padding='valid', stride=1),\n",
    "         Conv2DTrLayer(kernel_size=3, input_channels=1, output_channels=1, padding=0, stride=2), \n",
    "         Conv2DLayer(kernel_size=5, input_channels=1, output_channels=1, padding='valid', stride=1), \n",
    "         Conv2DLayer(kernel_size=5, input_channels=1, output_channels=1, padding='valid', stride=1), ReLU()]\n",
    "denses = [DenseLayer(81, 10)]\n",
    "net = Network(convs + [FlattenLayer()] + denses + [Softmax()], loss=CrossEntropy())\n",
    "net.fit(X_train[::10], Y_train[::10], validation_split=0.25, \n",
    "        batch_size=16, nb_epoch=5, learning_rate=0.001)"
   ]
  },
  {
   "cell_type": "code",
   "execution_count": null,
   "metadata": {},
   "outputs": [],
   "source": []
  }
 ],
 "metadata": {
  "kernelspec": {
   "display_name": "Python 3",
   "language": "python",
   "name": "python3"
  },
  "language_info": {
   "codemirror_mode": {
    "name": "ipython",
    "version": 3
   },
   "file_extension": ".py",
   "mimetype": "text/x-python",
   "name": "python",
   "nbconvert_exporter": "python",
   "pygments_lexer": "ipython3",
   "version": "3.6.7"
  }
 },
 "nbformat": 4,
 "nbformat_minor": 2
}
