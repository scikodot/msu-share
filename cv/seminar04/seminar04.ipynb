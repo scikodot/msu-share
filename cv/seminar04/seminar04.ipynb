{
 "cells": [
  {
   "cell_type": "markdown",
   "metadata": {},
   "source": [
    "# Практическое задание\n",
    "\n",
    "## Данные о студенте\n",
    "\n",
    "1. **ФИО**: Денисов Даниил Михайлович\n",
    "2. **Факультет**: Механико-математический\n",
    "3. **Курс**: 2 (магистратура)\n",
    "4. **Группа**: М2\n",
    "\n",
    "## Замечания\n",
    "\n",
    "* Заполненный ноутбук необходимо сдать боту\n",
    "* Соблюдаем кодекс чести (по нулям и списавшему, и давшему списать)\n",
    "* Можно (и нужно!) применять для реализации только библиотеку **Numpy**\n",
    "* Ничего, крому Numpy, нельзя использовать для реализации \n",
    "* **Keras** используется только для тестирования Вашей реализации\n",
    "* Если какой-то из классов не проходит приведенные тесты, то соответствующее задание не оценивается\n",
    "* Возможно использование дополнительных (приватных) тестов\n",
    " "
   ]
  },
  {
   "cell_type": "markdown",
   "metadata": {},
   "source": [
    "## Реализация собственного нейросетевого пакета для запуска и обучения нейронных сетей"
   ]
  },
  {
   "cell_type": "markdown",
   "metadata": {},
   "source": [
    "Задание состоит из трёх частей:\n",
    "1. Реализация прямого вывода нейронной сети (5 баллов)\n",
    "2. Реализация градиентов по входу и распространения градиента по сети (5 баллов)\n",
    "3. Реализация градиентов по параметрам и метода обратного распространения ошибки с обновлением парметров сети (10 баллов)\n",
    "\n",
    "Дополнительные баллы можно получить при реализации обучения сети со свёрточными слоями (10 баллов), с транспонированной свёрткой (10 баллов), дополнительного оптимизатора (5 баллов). "
   ]
  },
  {
   "cell_type": "markdown",
   "metadata": {},
   "source": [
    "###  1. Реализация вывода собственной нейронной сети"
   ]
  },
  {
   "cell_type": "markdown",
   "metadata": {},
   "source": [
    "1.1 Внимательно ознакомьтесь с интерфейсом слоя. Любой слой должен содержать как минимум три метода:\n",
    "- конструктор\n",
    "- прямой вывод \n",
    "- обратный вывод, производные по входу и по параметрам"
   ]
  },
  {
   "cell_type": "code",
   "execution_count": 1,
   "metadata": {},
   "outputs": [],
   "source": [
    "class Layer(object):\n",
    "    def __init__(self):\n",
    "        self.name = 'Layer'\n",
    "    \n",
    "    def forward(self, input_data):\n",
    "        pass\n",
    "\n",
    "    def backward(self, input_data):\n",
    "        return [self.grad_x(input_data), self.grad_param(input_data)]\n",
    "    \n",
    "    def grad_x(self, input_data):\n",
    "        pass\n",
    "\n",
    "    def grad_param(self, input_data):\n",
    "        return []\n",
    "    \n",
    "    def update_param(self, grads, learning_rate):\n",
    "        pass"
   ]
  },
  {
   "cell_type": "markdown",
   "metadata": {},
   "source": [
    "1.2 Ниже предствален интерфейс класса  Network. Обратите внимание на реализацию метода predict, который последовательно обрабатывает входные данные слой за слоем."
   ]
  },
  {
   "cell_type": "code",
   "execution_count": 2,
   "metadata": {},
   "outputs": [],
   "source": [
    "import numpy as np\n",
    "from sklearn.model_selection import train_test_split\n",
    "from tqdm import tqdm\n",
    "\n",
    "class Network(object):\n",
    "    def __init__(self, layers, loss=None):\n",
    "        self.name = 'Network'\n",
    "        self.layers = layers\n",
    "        self.loss = loss\n",
    "    \n",
    "    def forward(self, input_data):\n",
    "        return self.predict(input_data)\n",
    "    \n",
    "    def grad_x(self, input_data, labels):\n",
    "        pass\n",
    "    \n",
    "    def grad_param(self, input_data, labels):\n",
    "        pass\n",
    "\n",
    "    def update(self, grad_list, learning_rate):\n",
    "        pass\n",
    "    \n",
    "    def predict(self, input_data):\n",
    "        current_input = input_data\n",
    "        for layer in self.layers:\n",
    "            current_input = layer.forward(current_input)     \n",
    "        return current_input\n",
    "    \n",
    "    def calculate_loss(self, input_data, labels):\n",
    "        return self.loss.forward(self.predict(input_data), labels)\n",
    "    \n",
    "    def train_step(self, input_data, labels, learning_rate=0.001):\n",
    "        grad_list = self.grad_param(input_data, labels)\n",
    "        self.update(grad_list, learning_rate)\n",
    "    \n",
    "    def fit(self, trainX, trainY, validation_split=0.25, \n",
    "            batch_size=1, nb_epoch=1, learning_rate=0.01):\n",
    "        \n",
    "        train_x, val_x, train_y, val_y = train_test_split(trainX, trainY, \n",
    "                                                          test_size=validation_split,\n",
    "                                                          random_state=42)\n",
    "        for epoch in range(nb_epoch):\n",
    "            #train one epoch\n",
    "            for i in tqdm(range(int(len(train_x)/batch_size))):\n",
    "                batch_x = train_x[i*batch_size: (i+1)*batch_size]\n",
    "                batch_y = train_y[i*batch_size: (i+1)*batch_size]\n",
    "                self.train_step(batch_x, batch_y, learning_rate)\n",
    "            #validate\n",
    "            val_accuracy = self.evaluate(val_x, val_y)\n",
    "            print('%d epoch: val %.2f' %(epoch+1, val_accuracy))\n",
    "            \n",
    "    def evaluate(self, testX, testY):\n",
    "        y_pred = np.argmax(self.predict(testX), axis=1)            \n",
    "        y_true = np.argmax(testY, axis=1)\n",
    "        val_accuracy = np.sum((y_pred == y_true))/(len(y_true))\n",
    "        return val_accuracy"
   ]
  },
  {
   "cell_type": "markdown",
   "metadata": {},
   "source": [
    "#### 1.1 Необходимо реализовать метод forward для вычисления следующих слоёв:\n",
    "\n",
    "- DenseLayer\n",
    "- ReLU\n",
    "- Softmax\n",
    "- FlattenLayer\n",
    "- MaxPooling"
   ]
  },
  {
   "cell_type": "code",
   "execution_count": 3,
   "metadata": {},
   "outputs": [],
   "source": [
    "import numpy as np"
   ]
  },
  {
   "cell_type": "code",
   "execution_count": 33,
   "metadata": {},
   "outputs": [],
   "source": [
    "class DenseLayer(Layer):\n",
    "    def __init__(self, input_dim, output_dim, W_init=None, b_init=None):\n",
    "        self.name = 'Dense'\n",
    "        self.input_dim = input_dim\n",
    "        self.output_dim = output_dim\n",
    "        self.W = W_init if W_init is not None else np.random.random((input_dim, output_dim))\n",
    "        self.b = b_init if b_init is not None else np.zeros(output_dim, 'float32')\n",
    "    \n",
    "    def forward(self, input_data):\n",
    "        return input_data @ self.W + self.b\n",
    "\n",
    "    def grad_x(self, input_data):\n",
    "        pass\n",
    "\n",
    "    def grad_b(self, input_data):\n",
    "        pass\n",
    "\n",
    "    def grad_W(self, input_data):\n",
    "        pass\n",
    "    \n",
    "    def update_W(self, grad, learning_rate):\n",
    "        self.W -= learning_rate * np.mean(grad, axis=0).reshape(self.W.shape)\n",
    "    \n",
    "    def update_b(self, grad,  learning_rate):\n",
    "        self.b -= learning_rate * np.mean(grad, axis=0)\n",
    "        \n",
    "    def update_param(self, params_grad, learning_rate):\n",
    "        self.update_W(params_grad[0], learning_rate)\n",
    "        self.update_b(params_grad[1], learning_rate)\n",
    "    \n",
    "    def grad_param(self, input_data):\n",
    "        return [self.grad_W(input_data), self.grad_b(input_data)]"
   ]
  },
  {
   "cell_type": "code",
   "execution_count": 34,
   "metadata": {},
   "outputs": [],
   "source": [
    "class ReLU(Layer):\n",
    "    def __init__(self):\n",
    "        self.name = 'ReLU'\n",
    "    \n",
    "    def forward(self, input_data):\n",
    "        return np.clip(input_data, 0, None)\n",
    "\n",
    "    def grad_x(self, input_data):\n",
    "        pass"
   ]
  },
  {
   "cell_type": "code",
   "execution_count": 35,
   "metadata": {},
   "outputs": [],
   "source": [
    "class Softmax(Layer):\n",
    "    def __init__(self):\n",
    "        self.name = 'Softmax'\n",
    "    \n",
    "    def forward(self, input_data):\n",
    "        exps = np.e ** input_data\n",
    "        return exps / np.sum(exps, axis=1, keepdims=True)\n",
    "    \n",
    "    def grad_x(self, input_data):\n",
    "        pass"
   ]
  },
  {
   "cell_type": "code",
   "execution_count": 36,
   "metadata": {},
   "outputs": [],
   "source": [
    "class FlattenLayer(Layer):\n",
    "    def __init__(self):\n",
    "        self.name = 'Flatten'\n",
    "        \n",
    "    def forward(self, input_data):\n",
    "        return input_data.reshape((input_data.shape[0], -1))\n",
    "    \n",
    "    def grad_x(self):\n",
    "        pass"
   ]
  },
  {
   "cell_type": "markdown",
   "metadata": {},
   "source": [
    "#### 1.2 Реализуйте теперь свёрточный слой и транспонированную свёртку  (опционально)"
   ]
  },
  {
   "cell_type": "code",
   "execution_count": 37,
   "metadata": {},
   "outputs": [],
   "source": [
    "class Conv2DLayer(Layer):\n",
    "    def __init__(self, kernel_size=3, input_channels=2, output_channels=3, \n",
    "                 padding='same', stride=1, K_init=None, b_init=None):\n",
    "        # padding: 'same' или 'valid'\n",
    "        # Работаем с квадратными ядрами, поэтому kernel_size - одно число\n",
    "        # Работаем с единообразным сдвигом, поэтому stride - одно число\n",
    "        # Фильтр размерности [kernel_size, kernel_size, input_channels, output_channels]\n",
    "        self.name = 'Conv2D'\n",
    "        self.kernel_size = kernel_size\n",
    "        self.input_channels = input_channels\n",
    "        self.output_channels = output_channels\n",
    "        self.kernel = K_init if K_init else np.random.random((kernel_size, \n",
    "                                                              kernel_size, \n",
    "                                                              input_channels, \n",
    "                                                              output_channels))\n",
    "        self.bias = b_init if b_init else np.zeros(output_channels)\n",
    "        self.padding = padding\n",
    "        self.stride = stride\n",
    "    def forward(self, input_data):\n",
    "        # На входе - четырехмерный тензор вида [batch, input_channels, height, width]\n",
    "        # Вначале нужно проверить на согласование размерностей входных данных и ядра!\n",
    "        # Нужно заполнить Numpy-тензор out\n",
    "        N, C_in, H_in, W_in = input_data.shape\n",
    "        if C_in != self.input_channels:\n",
    "            raise ValueError(\"Input channels mismatch.\")\n",
    "        if H_in < self.kernel_size or W_in < self.kernel_size:\n",
    "            raise ValueError(\"Dimensions mismatch.\")\n",
    "        \n",
    "        k, s, C_out = self.kernel_size, self.stride, self.output_channels\n",
    "        if self.padding == 'same':\n",
    "            H_out, W_out = H_in, W_in\n",
    "            H_pad = np.ceil((k + s * (H_in - 1) - H_in) / 2)\n",
    "            W_pad = np.ceil((k + s * (W_in - 1) - W_in) / 2)\n",
    "            source = np.pad(input_data, ((0,), (0,), (H_pad,), (W_pad,)))\n",
    "        elif self.padding == 'valid':\n",
    "            H_out = (H_in - k) // s + 1\n",
    "            W_out = (W_in - k) // s + 1\n",
    "            source = input_data\n",
    "        \n",
    "        bias = self.bias[None, :].repeat(N, 0)\n",
    "        out = np.empty((N, C_out, H_out, W_out))\n",
    "        for i in range(H_out):\n",
    "            for j in range(W_out):\n",
    "                out[:, :, i, j] = np.tensordot(source[:, :, i*s:i*s+k, j*s:j*s+k], \n",
    "                                               self.kernel, axes=([1, 2, 3], [2, 0, 1])) + bias\n",
    "        \n",
    "        return out\n",
    "        # return np.array([np.tensordot(input_data[:, :, i*s:i*s+k, j*s:j*s+k], \n",
    "        #                              self.kernel, axes=([1, 2, 3], [2, 0, 1])) \n",
    "        #                  for i in range(H_out) \n",
    "        #                  for j in range(W_out)]) \\\n",
    "        #       .swapaxes(0, 1).swapaxes(1, 2).reshape((N, C_out, H_out, W_out))\n",
    "        # out += self.bias[None, :, None, None].repeat(W_out, 3).repeat(H_out, 2).repeat(N, 0)\n",
    "            \n",
    "    def forward(self, input_data):\n",
    "        pass\n",
    "    def grad_x(self):\n",
    "        pass\n",
    "    def grad_kernel(self):\n",
    "        pass"
   ]
  },
  {
   "cell_type": "code",
   "execution_count": 38,
   "metadata": {},
   "outputs": [],
   "source": [
    "class Conv2DTrLayer(Layer):\n",
    "    def __init__(self, kernel_size=3, input_channels=2, output_channels=3, \n",
    "                 padding=0, stride=1, K_init=None, b_init=None):      \n",
    "        # padding: число (сколько отрезать от модифицированной входной карты)\n",
    "        # Работаем с квадратными ядрами, поэтому kernel_size - одно число\n",
    "        # stride - одно число (коэффициент расширения)\n",
    "        # Фильтр размерности [kernel_size, kernel_size, input_channels, output_channels]\n",
    "        self.name = 'Conv2DTr'\n",
    "        self.kernel_size = kernel_size\n",
    "        self.input_channels = input_channels\n",
    "        self.output_channels = output_channels\n",
    "        self.kernel = K_init\n",
    "        self.bias = b_init\n",
    "        self.padding = padding\n",
    "        self.stride = stride\n",
    "    def forward(self, input_data):\n",
    "        # На входе - четырехмерный тензор вида [batch, input_channels, height, width]\n",
    "        # Вначале нужно проверить на согласование размерностей входных данных и ядра!\n",
    "        # Нужно заполнить Numpy-тензор out \n",
    "        out = np.empty([])\n",
    "        return out\n",
    "\n",
    "    def forward(self, input_data):\n",
    "        pass\n",
    "    def grad_x(self):\n",
    "        pass\n",
    "    def grad_kernel(self):\n",
    "        pass"
   ]
  },
  {
   "cell_type": "markdown",
   "metadata": {},
   "source": [
    "#### 1.4 Теперь настало время теста. \n",
    "#### Если вы всё сделали правильно, то запустив следующие ячейки у вас должна появиться надпись: Test PASSED\n",
    "\n",
    "Переходить к дальнейшим заданиям не имеем никакого смысла, пока вы не добьётесь прохождение теста\n",
    "    "
   ]
  },
  {
   "cell_type": "markdown",
   "metadata": {},
   "source": [
    "#### Чтение данных"
   ]
  },
  {
   "cell_type": "code",
   "execution_count": 39,
   "metadata": {},
   "outputs": [
    {
     "name": "stdout",
     "output_type": "stream",
     "text": [
      "(60000, 1, 28, 28) (60000, 10) (10000, 1, 28, 28) (10000, 10)\n"
     ]
    }
   ],
   "source": [
    "import numpy as np\n",
    "np.random.seed(123)  # for reproducibility\n",
    "from keras.utils import np_utils\n",
    "from keras.datasets import mnist\n",
    " \n",
    "(X_train, y_train), (X_test, y_test) = mnist.load_data()\n",
    "\n",
    "X_train = X_train.reshape(X_train.shape[0], 1, 28, 28)\n",
    "X_test = X_test.reshape(X_test.shape[0], 1, 28, 28)\n",
    "X_train = X_train.astype('float32')\n",
    "X_test = X_test.astype('float32')\n",
    "X_train /= 255\n",
    "X_test /= 255\n",
    " \n",
    "\n",
    "Y_train = np_utils.to_categorical(y_train, 10)\n",
    "Y_test = np_utils.to_categorical(y_test, 10)\n",
    "print(X_train.shape, Y_train.shape, X_test.shape, Y_test.shape)"
   ]
  },
  {
   "cell_type": "markdown",
   "metadata": {},
   "source": [
    "#### Подготовка моделей"
   ]
  },
  {
   "cell_type": "code",
   "execution_count": 40,
   "metadata": {},
   "outputs": [
    {
     "name": "stdout",
     "output_type": "stream",
     "text": [
      "2.2.4\n"
     ]
    }
   ],
   "source": [
    "import keras\n",
    "from keras.models import Sequential, Model\n",
    "from keras.layers import Dense, Dropout, Activation, Flatten, Input\n",
    "from keras.layers import Convolution2D, Conv2D, MaxPooling2D\n",
    "\n",
    "print(keras.__version__)\n",
    "\n",
    "def get_keras_model():\n",
    "    input_image = Input(shape=(1, 28, 28))\n",
    "    #pool1 = MaxPooling2D(pool_size=(2,2), data_format='channels_first')(input_image)\n",
    "    flatten = Flatten()(input_image)#(pool1)\n",
    "    dense1 = Dense(10, activation='softmax')(flatten)\n",
    "    model = Model(inputs=input_image, outputs=dense1)\n",
    "\n",
    "    from keras.optimizers import Adam, SGD\n",
    "    sgd = SGD(lr=0.01, momentum=0.9, nesterov=True)\n",
    "    model.compile(loss='categorical_crossentropy',\n",
    "                  optimizer=sgd,\n",
    "                  metrics=['accuracy'])\n",
    "\n",
    "    history = model.fit(X_train, Y_train, validation_split=0.25, \n",
    "                        batch_size=32, nb_epoch=2, verbose=1)\n",
    "    return model"
   ]
  },
  {
   "cell_type": "code",
   "execution_count": 41,
   "metadata": {},
   "outputs": [],
   "source": [
    "def get_our_model(keras_model):\n",
    "    flatten = FlattenLayer()\n",
    "    dense = DenseLayer(784, 10, W_init=keras_model.get_weights()[0],\n",
    "                       b_init=keras_model.get_weights()[1])\n",
    "    softmax = Softmax()\n",
    "    net = Network([flatten, dense, softmax])\n",
    "    return net"
   ]
  },
  {
   "cell_type": "code",
   "execution_count": 42,
   "metadata": {},
   "outputs": [
    {
     "name": "stderr",
     "output_type": "stream",
     "text": [
      "C:\\Users\\Dan\\AppData\\Local\\Programs\\Python\\Python36\\lib\\site-packages\\ipykernel_launcher.py:22: UserWarning: The `nb_epoch` argument in `fit` has been renamed `epochs`.\n"
     ]
    },
    {
     "name": "stdout",
     "output_type": "stream",
     "text": [
      "Train on 45000 samples, validate on 15000 samples\n",
      "Epoch 1/2\n",
      "45000/45000 [==============================] - 2s 34us/step - loss: 0.4483 - acc: 0.8756 - val_loss: 0.3339 - val_acc: 0.9081\n",
      "Epoch 2/2\n",
      "45000/45000 [==============================] - 1s 29us/step - loss: 0.3253 - acc: 0.9076 - val_loss: 0.3074 - val_acc: 0.9143\n"
     ]
    }
   ],
   "source": [
    "keras_model = get_keras_model()\n",
    "our_model = get_our_model(keras_model)"
   ]
  },
  {
   "cell_type": "code",
   "execution_count": 43,
   "metadata": {},
   "outputs": [],
   "source": [
    "keras_prediction = keras_model.predict(X_test)\n",
    "our_model_prediction = our_model.predict(X_test)"
   ]
  },
  {
   "cell_type": "code",
   "execution_count": 44,
   "metadata": {},
   "outputs": [
    {
     "name": "stdout",
     "output_type": "stream",
     "text": [
      "Test PASSED\n"
     ]
    }
   ],
   "source": [
    "if np.sum(np.abs(keras_prediction - our_model_prediction)) < 0.01:\n",
    "    print('Test PASSED')\n",
    "else:\n",
    "    print('Something went wrong!')"
   ]
  },
  {
   "cell_type": "code",
   "execution_count": 45,
   "metadata": {},
   "outputs": [
    {
     "data": {
      "text/plain": [
       "array([[6.5986853e-05, 3.5040184e-08, 1.3397371e-04, ..., 9.9603361e-01,\n",
       "        5.6336732e-05, 7.5281662e-04],\n",
       "       [5.2282056e-03, 7.9819503e-05, 9.3680310e-01, ..., 2.0458288e-09,\n",
       "        3.0752625e-03, 1.8099666e-07],\n",
       "       [4.3745604e-05, 9.6726036e-01, 1.2606661e-02, ..., 3.6366370e-03,\n",
       "        6.1757974e-03, 7.9398998e-04],\n",
       "       ...,\n",
       "       [4.5487201e-07, 1.5079540e-06, 1.7412989e-05, ..., 1.6137816e-03,\n",
       "        8.9453962e-03, 1.4994933e-02],\n",
       "       [6.1573606e-04, 1.2219773e-03, 2.4567344e-04, ..., 1.1512309e-04,\n",
       "        2.3235774e-01, 1.8561781e-04],\n",
       "       [2.7255375e-05, 3.0724670e-10, 2.2453093e-04, ..., 1.9096322e-09,\n",
       "        8.7272440e-07, 4.5077574e-08]], dtype=float32)"
      ]
     },
     "execution_count": 45,
     "metadata": {},
     "output_type": "execute_result"
    }
   ],
   "source": [
    "keras_prediction"
   ]
  },
  {
   "cell_type": "code",
   "execution_count": 46,
   "metadata": {},
   "outputs": [
    {
     "data": {
      "text/plain": [
       "array([[6.59869329e-05, 3.50401983e-08, 1.33973866e-04, ...,\n",
       "        9.96033549e-01, 5.63368230e-05, 7.52818363e-04],\n",
       "       [5.22820139e-03, 7.98194378e-05, 9.36803162e-01, ...,\n",
       "        2.04582440e-09, 3.07525950e-03, 1.80996494e-07],\n",
       "       [4.37456583e-05, 9.67260301e-01, 1.26066618e-02, ...,\n",
       "        3.63663747e-03, 6.17579510e-03, 7.93989806e-04],\n",
       "       ...,\n",
       "       [4.54871156e-07, 1.50795404e-06, 1.74129964e-05, ...,\n",
       "        1.61378004e-03, 8.94539338e-03, 1.49949035e-02],\n",
       "       [6.15736237e-04, 1.22197764e-03, 2.45673378e-04, ...,\n",
       "        1.15123199e-04, 2.32357815e-01, 1.85617930e-04],\n",
       "       [2.72553916e-05, 3.07246867e-10, 2.24531716e-04, ...,\n",
       "        1.90963578e-09, 8.72726218e-07, 4.50776554e-08]], dtype=float32)"
      ]
     },
     "execution_count": 46,
     "metadata": {},
     "output_type": "execute_result"
    }
   ],
   "source": [
    "our_model_prediction"
   ]
  },
  {
   "cell_type": "markdown",
   "metadata": {},
   "source": [
    "### 2. Вычисление производных по входу для слоёв нейронной сети"
   ]
  },
  {
   "cell_type": "markdown",
   "metadata": {},
   "source": [
    "В данном задании запрещено использовать численные формулы для вычисления производных."
   ]
  },
  {
   "cell_type": "markdown",
   "metadata": {},
   "source": [
    "#### 2.1  Реализуйте метод forward для класса CrossEntropy\n",
    "Напоминание: $$ crossentropy = L(p, y) =  - \\sum\\limits_i y_i log p_i, $$\n",
    "где вектор $(p_1, ..., p_k) $ -  выход классификационного алгоритма, а $(y_1,..., y_k)$ - правильные метки класса в унарной кодировке (one-hot encoding)"
   ]
  },
  {
   "cell_type": "code",
   "execution_count": 13,
   "metadata": {},
   "outputs": [],
   "source": [
    "class CrossEntropy(object):\n",
    "    def __init__(self, eps=0.00001):\n",
    "        self.name = 'CrossEntropy'\n",
    "        self.eps = eps\n",
    "    \n",
    "    def forward(self, input_data, labels):\n",
    "        pass\n",
    "    \n",
    "    def calculate_loss(self,input_data, labels):\n",
    "        return self.forward(input_data, labels)\n",
    "    \n",
    "    def grad_x(self, input_data, lables):\n",
    "        pass"
   ]
  },
  {
   "cell_type": "markdown",
   "metadata": {},
   "source": [
    "#### 2.2  Реализуйте метод grad_x класса CrossEntropy, который возвращает $\\frac{\\partial L}{\\partial p}$"
   ]
  },
  {
   "cell_type": "markdown",
   "metadata": {},
   "source": [
    "Проверить работоспособность кода поможет следующий тест:"
   ]
  },
  {
   "cell_type": "code",
   "execution_count": 14,
   "metadata": {},
   "outputs": [
    {
     "name": "stdout",
     "output_type": "stream",
     "text": [
      "Test PASSED\n"
     ]
    }
   ],
   "source": [
    "def numerical_diff_net(net, x, labels):\n",
    "    eps = 0.00001\n",
    "    right_answer = []\n",
    "    for i in range(len(x[0])):\n",
    "        delta = np.zeros(len(x[0]))\n",
    "        delta[i] = eps\n",
    "        diff = (net.calculate_loss(x + delta, labels) - net.calculate_loss(x-delta, labels)) / (2*eps)\n",
    "        right_answer.append(diff)\n",
    "    return np.array(right_answer).T\n",
    "\n",
    "def test_net(net):\n",
    "    x = np.array([[1, 2, 3], [2, 3, 4]])\n",
    "    labels = np.array([[0.3, 0.2, 0.5], [0.3, 0.2, 0.5]])\n",
    "    num_grad = numerical_diff_net(net, x, labels)\n",
    "    grad = net.grad_x(x, labels)\n",
    "    if np.sum(np.abs(num_grad - grad)) < 0.01:\n",
    "        print('Test PASSED')\n",
    "    else:\n",
    "        print('Something went wrong!')\n",
    "        print('Numerical grad is')\n",
    "        print(num_grad)\n",
    "        print('Your gradiend is ')\n",
    "        print(grad)\n",
    "        \n",
    "loss = CrossEntropy()\n",
    "test_net(loss)"
   ]
  },
  {
   "cell_type": "markdown",
   "metadata": {},
   "source": [
    "#### 2.3  Реализуйте метод grad_x класса Softmax, который возвращает $\\frac{\\partial Softmax}{\\partial x}$"
   ]
  },
  {
   "cell_type": "markdown",
   "metadata": {},
   "source": [
    "Проверить работоспособность кода поможет следующий тест:"
   ]
  },
  {
   "cell_type": "code",
   "execution_count": 15,
   "metadata": {},
   "outputs": [
    {
     "name": "stdout",
     "output_type": "stream",
     "text": [
      "Test PASSED\n"
     ]
    }
   ],
   "source": [
    "def numerical_diff_layer(layer, x):\n",
    "    eps = 0.00001\n",
    "    right_answer = []\n",
    "    for i in range(len(x[0])):\n",
    "        delta = np.zeros(len(x[0]))\n",
    "        delta[i] = eps\n",
    "        diff = (layer.forward(x + delta) - layer.forward(x-delta)) / (2*eps)\n",
    "        right_answer.append(diff.T)\n",
    "    return np.array(right_answer).T\n",
    "\n",
    "def test_layer(layer):\n",
    "    x = np.array([[1, 2, 3], [2, -3, 4]])\n",
    "    num_grad = numerical_diff_layer(layer, x)\n",
    "    grad = layer.grad_x(x)\n",
    "    if np.sum(np.abs(num_grad - grad)) < 0.01:\n",
    "        print('Test PASSED')\n",
    "    else:\n",
    "        print('Something went wrong!')\n",
    "        print('Numerical grad is')\n",
    "        print(num_grad)\n",
    "        print('Your gradiend is ')\n",
    "        print(grad)\n",
    "        \n",
    "layer = Softmax()\n",
    "test_layer(layer)"
   ]
  },
  {
   "cell_type": "markdown",
   "metadata": {},
   "source": [
    "#### 2.4  Реализуйте метод grad_x для классов ReLU и DenseLayer"
   ]
  },
  {
   "cell_type": "code",
   "execution_count": 16,
   "metadata": {},
   "outputs": [
    {
     "name": "stdout",
     "output_type": "stream",
     "text": [
      "Test PASSED\n"
     ]
    }
   ],
   "source": [
    "layer = ReLU()\n",
    "test_layer(layer)"
   ]
  },
  {
   "cell_type": "code",
   "execution_count": 17,
   "metadata": {},
   "outputs": [
    {
     "name": "stdout",
     "output_type": "stream",
     "text": [
      "Test PASSED\n"
     ]
    }
   ],
   "source": [
    "layer = DenseLayer(3,4)\n",
    "test_layer(layer)"
   ]
  },
  {
   "cell_type": "markdown",
   "metadata": {},
   "source": [
    "#### 2.5 (4 балла) Для класса Network реализуйте метод grad_x, который должен реализовывать взятие производной от лосса по входу"
   ]
  },
  {
   "cell_type": "code",
   "execution_count": 18,
   "metadata": {},
   "outputs": [
    {
     "name": "stdout",
     "output_type": "stream",
     "text": [
      "Test PASSED\n"
     ]
    }
   ],
   "source": [
    "net = Network([DenseLayer(3, 10), ReLU(), DenseLayer(10, 3), Softmax()], loss=CrossEntropy())\n",
    "test_net(net)"
   ]
  },
  {
   "cell_type": "markdown",
   "metadata": {},
   "source": [
    "### 3. Реализация градиентов по параметрам и метода обратного распространения ошибки с обновлением парметров сети"
   ]
  },
  {
   "cell_type": "markdown",
   "metadata": {},
   "source": [
    "#### 3.1  Реализуйте функции grad_b и grad_W. При подготовке теста grad_W предполагается, что W является отномерным вектором."
   ]
  },
  {
   "cell_type": "code",
   "execution_count": 19,
   "metadata": {},
   "outputs": [
    {
     "name": "stdout",
     "output_type": "stream",
     "text": [
      "Test PASSED\n"
     ]
    }
   ],
   "source": [
    "def numerical_grad_b(input_size, output_size, b, W, x):\n",
    "    eps = 0.00001\n",
    "    right_answer = []\n",
    "    for i in range(len(b)):\n",
    "        delta = np.zeros(b.shape)\n",
    "        delta[i] = eps\n",
    "        dense1 = DenseLayer(input_size, output_size, W_init=W, b_init=b+delta)\n",
    "        dense2 = DenseLayer(input_size, output_size, W_init=W, b_init=b-delta)\n",
    "        diff = (dense1.forward(x) - dense2.forward(x)) / (2*eps)\n",
    "        right_answer.append(diff.T)\n",
    "    return np.array(right_answer).T\n",
    "\n",
    "def test_grad_b():\n",
    "    input_size = 3\n",
    "    output_size = 4 \n",
    "    W_init = np.random.random((input_size, output_size))\n",
    "    b_init = np.random.random((output_size,))\n",
    "    x = np.random.random((2, input_size))\n",
    "    \n",
    "    dense = DenseLayer(input_size, output_size, W_init, b_init)\n",
    "    grad = dense.grad_b(x)\n",
    "\n",
    "    num_grad = numerical_grad_b(input_size, output_size, b_init, W_init, x)\n",
    "    if np.sum(np.abs(num_grad - grad)) < 0.01:\n",
    "        print('Test PASSED')\n",
    "    else:\n",
    "        print('Something went wrong!')\n",
    "        print('Numerical grad is')\n",
    "        print(num_grad)\n",
    "        print('Your gradiend is ')\n",
    "        print(grad)\n",
    "\n",
    "test_grad_b()"
   ]
  },
  {
   "cell_type": "code",
   "execution_count": 20,
   "metadata": {},
   "outputs": [
    {
     "name": "stdout",
     "output_type": "stream",
     "text": [
      "Test PASSED\n"
     ]
    }
   ],
   "source": [
    "def numerical_grad_W(input_size, output_size, b, W, x):\n",
    "    eps = 0.00001\n",
    "    right_answer = []\n",
    "    for i in range(W.shape[0]):\n",
    "        for j in range(W.shape[1]):\n",
    "            delta = np.zeros(W.shape)\n",
    "            delta[i, j] = eps\n",
    "            dense1 = DenseLayer(input_size, output_size, W_init=W+delta, b_init=b)\n",
    "            dense2 = DenseLayer(input_size, output_size, W_init=W-delta, b_init=b)\n",
    "            diff = (dense1.forward(x) - dense2.forward(x)) / (2*eps)\n",
    "            right_answer.append(diff.T)\n",
    "    return np.array(right_answer).T\n",
    "\n",
    "def test_grad_W():\n",
    "    input_size = 3\n",
    "    output_size = 4 \n",
    "    W_init = np.random.random((input_size, output_size))\n",
    "    b_init = np.random.random((4,))\n",
    "    x = np.random.random((2, input_size))\n",
    "        \n",
    "    dense = DenseLayer(input_size, output_size, W_init, b_init)\n",
    "    grad = dense.grad_W(x)\n",
    "\n",
    "    num_grad = numerical_grad_W(input_size, output_size, b_init, W_init, x)\n",
    "    if np.sum(np.abs(num_grad - grad)) < 0.01:\n",
    "        print('Test PASSED')\n",
    "    else:\n",
    "        print('Something went wrong!')\n",
    "        print('Numerical grad is')\n",
    "        print(num_grad)\n",
    "        print('Your gradiend is ')\n",
    "        print(grad)\n",
    "\n",
    "test_grad_W()"
   ]
  },
  {
   "cell_type": "markdown",
   "metadata": {},
   "source": [
    "#### 3.2 Полностью реализуйте метод обратного распространения ошибки в функции train_step класса Network\n"
   ]
  },
  {
   "cell_type": "markdown",
   "metadata": {},
   "source": [
    "Рекомендуем реализовать сначала функцию Network.grad_param(), которая возвращает список длиной в количество слоёв и элементом которого является список градиентов по параметрам.\n",
    "После чего, имея список градиентов, написать функцию обновления параметров для каждого слоя. \n",
    "\n",
    "Совет: рекомендуем написать тест для кода подсчета градиента по параметрам, чтобы быть уверенным в том, что градиент через всю сеть считается правильно\n",
    "    "
   ]
  },
  {
   "cell_type": "markdown",
   "metadata": {},
   "source": [
    "#### 3.3 Ознакомьтесь с реализацией функции fit класса Network. Запустите обучение модели. Если всё работает правильно, то точность на валидации должна будет возрастать"
   ]
  },
  {
   "cell_type": "code",
   "execution_count": 21,
   "metadata": {},
   "outputs": [
    {
     "name": "stderr",
     "output_type": "stream",
     "text": [
      "100%|████████████████████████████████████████████████████████████████████████████████| 937/937 [01:30<00:00, 10.32it/s]\n"
     ]
    },
    {
     "name": "stdout",
     "output_type": "stream",
     "text": [
      "1 epoch: val 0.72\n"
     ]
    },
    {
     "name": "stderr",
     "output_type": "stream",
     "text": [
      "100%|████████████████████████████████████████████████████████████████████████████████| 937/937 [01:30<00:00, 10.30it/s]\n"
     ]
    },
    {
     "name": "stdout",
     "output_type": "stream",
     "text": [
      "2 epoch: val 0.80\n"
     ]
    },
    {
     "name": "stderr",
     "output_type": "stream",
     "text": [
      "100%|████████████████████████████████████████████████████████████████████████████████| 937/937 [01:31<00:00,  9.95it/s]\n"
     ]
    },
    {
     "name": "stdout",
     "output_type": "stream",
     "text": [
      "3 epoch: val 0.83\n"
     ]
    },
    {
     "name": "stderr",
     "output_type": "stream",
     "text": [
      "100%|████████████████████████████████████████████████████████████████████████████████| 937/937 [01:34<00:00,  9.94it/s]\n"
     ]
    },
    {
     "name": "stdout",
     "output_type": "stream",
     "text": [
      "4 epoch: val 0.84\n"
     ]
    },
    {
     "name": "stderr",
     "output_type": "stream",
     "text": [
      "100%|████████████████████████████████████████████████████████████████████████████████| 937/937 [01:33<00:00, 10.14it/s]\n"
     ]
    },
    {
     "name": "stdout",
     "output_type": "stream",
     "text": [
      "5 epoch: val 0.86\n"
     ]
    }
   ],
   "source": [
    "net = Network([DenseLayer(784, 10), Softmax()], loss=CrossEntropy())\n",
    "trainX = X_train.reshape(len(X_train), -1)\n",
    "net.fit(trainX[::3], Y_train[::3], validation_split=0.25, \n",
    "            batch_size=16, nb_epoch=5, learning_rate=0.01)"
   ]
  },
  {
   "cell_type": "code",
   "execution_count": null,
   "metadata": {},
   "outputs": [],
   "source": [
    "net = Network([DenseLayer(784, 20), ReLU(), DenseLayer(20, 10), Softmax()], loss=CrossEntropy())\n",
    "trainX = X_train.reshape(len(X_train), -1)\n",
    "net.fit(trainX[::6], Y_train[::6], validation_split=0.25, \n",
    "            batch_size=16, nb_epoch=5, learning_rate=0.001)    "
   ]
  },
  {
   "cell_type": "markdown",
   "metadata": {},
   "source": [
    "#### 3.5 Продемонстрируйте, что ваша реализация позволяет обучать более глубокие нейронные сети "
   ]
  },
  {
   "cell_type": "code",
   "execution_count": null,
   "metadata": {},
   "outputs": [],
   "source": []
  }
 ],
 "metadata": {
  "kernelspec": {
   "display_name": "Python 3",
   "language": "python",
   "name": "python3"
  },
  "language_info": {
   "codemirror_mode": {
    "name": "ipython",
    "version": 3
   },
   "file_extension": ".py",
   "mimetype": "text/x-python",
   "name": "python",
   "nbconvert_exporter": "python",
   "pygments_lexer": "ipython3",
   "version": "3.6.7"
  }
 },
 "nbformat": 4,
 "nbformat_minor": 2
}
