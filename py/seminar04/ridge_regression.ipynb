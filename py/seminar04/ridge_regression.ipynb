{
 "cells": [
  {
   "cell_type": "markdown",
   "metadata": {},
   "source": [
    "### Задание"
   ]
  },
  {
   "cell_type": "markdown",
   "metadata": {},
   "source": [
    "Реализуйте алгоритм гребневой регрессии.\n",
    "\n",
    "Требования к коду:\n",
    "* Код должен быть хорошо структурирован\n",
    "* Код должен быть эффективен\n",
    "* Имплементация должна быть максимально векторизованной (с использованием библиотеки numpy) и не использовать циклы\n",
    "\n",
    "Необходимо реализовать класс RidgeAnalyticalRegressor, с реализацией прототипа, представленного ниже.\n",
    "\n",
    "В качестве входного файла необходимо использовать файл \"regr_data_XXX.npy\", полученный от бота командой /get seminar04\n",
    "\n",
    "В качестве решения необходимо отправить боту, указав seminar04 в поле caption, следующие файлы:\n",
    "* ridge_regression.ipynb - этот ноутбук\n",
    "* ridge_results.npy - файл с результатами тестов, который можно будет сгенерировать с помощью этого ноутбука\n",
    "\n",
    "Для проверки решения после отправки необходимо отправить боту следующую команду:\n",
    "/check seminar04\n",
    "\n",
    "В случае возникновения вопросов по интерфейсу смотрите детали реализации класса sklearn.linear_model.Ridge\n",
    "https://scikit-learn.org/stable/modules/generated/sklearn.linear_model.Ridge.html#sklearn.linear_model.Ridge"
   ]
  },
  {
   "cell_type": "code",
   "execution_count": 2,
   "metadata": {},
   "outputs": [],
   "source": [
    "import numpy as np"
   ]
  },
  {
   "cell_type": "code",
   "execution_count": 28,
   "metadata": {},
   "outputs": [
    {
     "name": "stdout",
     "output_type": "stream",
     "text": [
      "[10 12]\n",
      "[[5]\n",
      " [6]]\n",
      "[[ 33.]\n",
      " [ 77.]\n",
      " [121.]]\n"
     ]
    }
   ],
   "source": [
    "arr1 = np.array([[1, 2], [3, 4], [5, 6]])\n",
    "arr2 = np.array([5, 6])\n",
    "print(2 * arr2)\n",
    "arr2 = np.reshape(arr2, (2, 1))\n",
    "print(arr2)\n",
    "print(arr1 @ np.ones((2, 2)) @ arr2)"
   ]
  },
  {
   "cell_type": "code",
   "execution_count": 38,
   "metadata": {},
   "outputs": [
    {
     "name": "stdout",
     "output_type": "stream",
     "text": [
      "[[1 2 7]\n",
      " [3 4 8]\n",
      " [5 6 9]]\n"
     ]
    }
   ],
   "source": [
    "arr1 = np.array([[1, 2], [3, 4], [5, 6]])\n",
    "arr2 = np.array([7, 8, 9])\n",
    "arr = np.concatenate((arr1, arr2.reshape(3, 1)), axis=1)\n",
    "print(arr)"
   ]
  },
  {
   "cell_type": "code",
   "execution_count": 39,
   "metadata": {},
   "outputs": [
    {
     "name": "stdout",
     "output_type": "stream",
     "text": [
      "[23 53 83]\n"
     ]
    }
   ],
   "source": [
    "arr1 = arr1 = np.array([[1, 2], [3, 4], [5, 6]])\n",
    "arr2 = np.array([7, 8])\n",
    "print(np.dot(arr1, arr2))"
   ]
  },
  {
   "cell_type": "code",
   "execution_count": 42,
   "metadata": {},
   "outputs": [
    {
     "name": "stdout",
     "output_type": "stream",
     "text": [
      "[[1.]\n",
      " [1.]\n",
      " [1.]]\n"
     ]
    }
   ],
   "source": [
    "print(np.ones((3, 1)))"
   ]
  },
  {
   "cell_type": "code",
   "execution_count": 43,
   "metadata": {},
   "outputs": [
    {
     "name": "stdout",
     "output_type": "stream",
     "text": [
      "[4 9]\n"
     ]
    }
   ],
   "source": [
    "print(np.array([2, 3]) ** 2)"
   ]
  },
  {
   "cell_type": "code",
   "execution_count": null,
   "metadata": {},
   "outputs": [],
   "source": [
    "class RidgeAnalyticalRegressor(object):\n",
    "    '''Класс для предсказания действительно-значного выхода по входу - вектору из R^n. \n",
    "    Используется линейная регрессия, то есть если вход X \\in R^n, вектор весов W \\in R^{n+1},\n",
    "    то значение регрессии - это [X' 1] * W, то есть y = x1*w1 + x2*w2 + xn*wn + wn+1.\n",
    "    Обучение - подгонка весов W - будет вестись на парах (x, y).\n",
    "    \n",
    "    Параметры\n",
    "    ----------\n",
    "    l2_coef    : коэффициент l2 регуляризации  \n",
    "    \n",
    "    !!! Внимание: вектор весов W должен быть обязательно объявлен как поле класса RidgeAnalyticalRegressor.coef_ !!!\n",
    "    '''\n",
    "    def __init__(self, l2_coef=100.0):\n",
    "        self.coef_ = None\n",
    "        self.l2_coef = l2_coef\n",
    "    \n",
    "    def fit(self, X, y):\n",
    "        '''Обучение модели.\n",
    "        \n",
    "        Параметры\n",
    "        ----------\n",
    "        X : двумерный массив признаков размера n_samples x n_features\n",
    "        y : массив/список правильных значений размера n_samples\n",
    "        \n",
    "        Выход\n",
    "        -------\n",
    "        Метод обучает веса W\n",
    "        '''\n",
    "        # Append ones\n",
    "        ones = np.ones((X.shape[0], 1))\n",
    "        X1 = np.concatenate((X, ones), axis=1)\n",
    "\n",
    "        # Apply least squares method\n",
    "        X1T = np.transpose(X1)\n",
    "        aI = self.l2_coef * np.eye(X1.shape[0])\n",
    "        self.coef_ = np.linalg.inv(X1T @ X1 + aI) @ X1T @ y\n",
    "        \n",
    "    def predict(self, X):\n",
    "        \"\"\" Предсказание выходного значения для входных векторов\n",
    "        \n",
    "        Параметры\n",
    "        ----------\n",
    "        X : двумерный массив признаков размера n_samples x n_features\n",
    "        \n",
    "        Выход\n",
    "        -------\n",
    "        y : Массив размера n_samples\n",
    "        \"\"\"\n",
    "        # Append ones\n",
    "        ones = np.ones((X.shape[0], 1))\n",
    "        X1 = np.concatenate((X, ones), axis=1)\n",
    "        \n",
    "        return np.dot(X1, self.coef_)\n",
    "        \n",
    "    def score(self, y_gt, y_pred):\n",
    "        \"\"\"Возвращает точность регрессии в виде (1 - u/v) - т.е. R^2-score, \n",
    "        где u - суммарный квадрат расхождения y_gt с y_pred,\n",
    "        v - суммарный квадрат расхождения y_gt с матожиданием y_gt\n",
    "        \n",
    "        Параметры\n",
    "        ----------\n",
    "        y_gt : массив/список правильных значений размера n_samples\n",
    "        y_pred : массив/список предсказанных значений размера n_samples\n",
    "        \n",
    "        Выход\n",
    "        -------\n",
    "        accuracy - точность регрессии\n",
    "        \"\"\"\n",
    "        return 1 - (np.linalg.norm(y_gt - y_pred) / np.linalg.norm(y_gt - np.mean(y_gt))) ** 2"
   ]
  },
  {
   "cell_type": "code",
   "execution_count": null,
   "metadata": {},
   "outputs": [],
   "source": [
    "def load_file(filename):\n",
    "    \"\"\"\n",
    "    TODO: Необходимо загрузить файл задания и вернуть словарь с ключами \"X_train\", \"X_test\", \"y_train\", \"y_test\", данные которых содержатся в файле\n",
    "    X_train - входные значения обучающей выборки размера (Ntrain, K)\n",
    "    y_train - выходные значения обучающей выборки размера Ntrain\n",
    "    X_test - входные значения тестовой выборки размера (Ntest, K)\n",
    "    y_test - выходные значения тестовой выборки размера Ntest\n",
    "    \"\"\"\n",
    "    pass"
   ]
  },
  {
   "cell_type": "code",
   "execution_count": null,
   "metadata": {},
   "outputs": [],
   "source": [
    "input_filename = \"\" #TODO задать путь к входному файлу\n",
    "data_dict = load_file(input_filename)"
   ]
  },
  {
   "cell_type": "code",
   "execution_count": null,
   "metadata": {},
   "outputs": [],
   "source": [
    "model = RidgeAnalyticalRegressor(l2_coef=1.0)\n",
    "model.fit(data_dict[\"X_train\"], data_dict[\"y_train\"])\n",
    "y_predict = model.predict(data_dict[\"X_test\"])\n",
    "test_score = model.score(data_dict[\"y_test\"], y_predict)"
   ]
  },
  {
   "cell_type": "code",
   "execution_count": null,
   "metadata": {},
   "outputs": [],
   "source": [
    "output_filename = \"ridge_results.npy\"\n",
    "result_dict = {\n",
    "    \"input_filename\": input_filename,\n",
    "    \"test_score\": test_score,\n",
    "    \"coef\": model.coef_\n",
    "}\n",
    "np.save(output_filename, result_dict)"
   ]
  }
 ],
 "metadata": {
  "interpreter": {
   "hash": "966f6ba3965b08eb5941c0fab8996b029005990ffce8550831c119a9f36d5935"
  },
  "kernelspec": {
   "display_name": "Python 3.6.7 64-bit",
   "name": "python3"
  },
  "language_info": {
   "codemirror_mode": {
    "name": "ipython",
    "version": 3
   },
   "file_extension": ".py",
   "mimetype": "text/x-python",
   "name": "python",
   "nbconvert_exporter": "python",
   "pygments_lexer": "ipython3",
   "version": "3.6.7"
  }
 },
 "nbformat": 4,
 "nbformat_minor": 4
}
