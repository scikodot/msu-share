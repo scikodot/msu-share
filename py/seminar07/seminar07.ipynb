{
 "cells": [
  {
   "cell_type": "markdown",
   "metadata": {},
   "source": [
    "# Input data"
   ]
  },
  {
   "cell_type": "code",
   "execution_count": 8,
   "metadata": {},
   "outputs": [],
   "source": [
    "speed_limit = 40\n",
    "violation_threshold = 1"
   ]
  },
  {
   "cell_type": "markdown",
   "metadata": {},
   "source": [
    "# Classic approach"
   ]
  },
  {
   "cell_type": "code",
   "execution_count": 9,
   "metadata": {},
   "outputs": [],
   "source": [
    "# Dictionary {I: [V, C, T, X, Y]}\n",
    "# I - object ID\n",
    "# V - determines whether the objects is a violator\n",
    "# C - violation time counter\n",
    "# T - previos timestamp\n",
    "# X - previous X coordinate\n",
    "# Y - previos Y coordinate\n",
    "ids = {}\n",
    "\n",
    "with open(\"input/data.csv\", 'r', newline='') as csvfile:\n",
    "    next(csvfile)\n",
    "    for line in csvfile:\n",
    "        # Read line\n",
    "        vals = line.split(',')\n",
    "        i = vals[1]\n",
    "        t, x, y = float(vals[0]), float(vals[3]), float(vals[4])\n",
    "\n",
    "        # Add object if not present\n",
    "        if i not in ids:\n",
    "            ids[i] = [False, 0, t, x, y]\n",
    "            continue\n",
    "        \n",
    "        # Skip object if it's a violator\n",
    "        if ids[i][0]:\n",
    "            continue\n",
    "\n",
    "        # Calculate statistics\n",
    "        dt = t - ids[i][2]\n",
    "        dx = x - ids[i][3]\n",
    "        dy = y - ids[i][4]\n",
    "        s = (dx**2 + dy**2)**0.5\n",
    "        v = s / dt * 3.6\n",
    "\n",
    "        # Determine speed limit violation\n",
    "        if v > speed_limit:\n",
    "            ids[i][1] += dt\n",
    "        else:\n",
    "            ids[i][1] = 0\n",
    "\n",
    "        # Determine counter exceeding\n",
    "        if ids[i][1] >= violation_threshold:\n",
    "            ids[i][0] = True\n",
    "        \n",
    "        # Update data\n",
    "        ids[i][2] = t\n",
    "        ids[i][3] = x\n",
    "        ids[i][4] = y"
   ]
  },
  {
   "cell_type": "code",
   "execution_count": 10,
   "metadata": {},
   "outputs": [
    {
     "name": "stdout",
     "output_type": "stream",
     "text": [
      "00000000-0000-0000-0000-000000006508\n",
      "00000000-0000-0000-0000-000000006629\n",
      "00000000-0000-0000-0000-000000006467\n",
      "00000000-0000-0000-0000-000000006647\n",
      "00000000-0000-0000-0000-000000006605\n",
      "00000000-0000-0000-0000-000000006660\n"
     ]
    }
   ],
   "source": [
    "vs = [v[0] for v in ids.values()]\n",
    "vs_ids = [k for k, v in zip(ids.keys(), vs) if v]\n",
    "for v in vs_ids:\n",
    "    print(v)"
   ]
  },
  {
   "cell_type": "markdown",
   "metadata": {},
   "source": [
    "# Using generators"
   ]
  },
  {
   "cell_type": "code",
   "execution_count": 11,
   "metadata": {},
   "outputs": [],
   "source": [
    "def trace():\n",
    "    violation_time = 0\n",
    "    t_prev, x_prev, y_prev = 0, 0, 0\n",
    "    while True:\n",
    "        t, x, y = yield\n",
    "\n",
    "        if t_prev != 0:\n",
    "            dt = t - t_prev\n",
    "            dx = x - x_prev\n",
    "            dy = y - y_prev\n",
    "\n",
    "            distance = (dx**2 + dy**2)**0.5\n",
    "            speed = distance / dt * 3.6\n",
    "            \n",
    "            if speed > speed_limit:\n",
    "                violation_time += dt\n",
    "            else:\n",
    "                violation_time = 0\n",
    "\n",
    "        yield violation_time >= violation_threshold\n",
    "        t_prev, x_prev, y_prev = t, x, y"
   ]
  },
  {
   "cell_type": "code",
   "execution_count": 12,
   "metadata": {},
   "outputs": [],
   "source": [
    "def violators(file):\n",
    "    traces = {}\n",
    "    with open(file, 'r', newline='') as csvfile:\n",
    "        next(csvfile)\n",
    "        for line in csvfile:\n",
    "            # Read and parse line\n",
    "            vals = line.split(',')\n",
    "            id = vals[1]\n",
    "            t, x, y = float(vals[0]), float(vals[3]), float(vals[4])\n",
    "\n",
    "            # Add new trace\n",
    "            if id not in traces:\n",
    "                tr = trace(); next(tr)\n",
    "                traces[id] = tr\n",
    "\n",
    "            tr = traces[id]\n",
    "\n",
    "            # Skip violators\n",
    "            if not tr:\n",
    "                continue\n",
    "            \n",
    "            violator = tr.send((t, x, y))\n",
    "            next(tr)\n",
    "            \n",
    "            if violator:\n",
    "                # Invalidate trace\n",
    "                traces[id] = False\n",
    "                yield id"
   ]
  },
  {
   "cell_type": "code",
   "execution_count": 13,
   "metadata": {},
   "outputs": [
    {
     "name": "stdout",
     "output_type": "stream",
     "text": [
      "00000000-0000-0000-0000-000000006467\n",
      "00000000-0000-0000-0000-000000006647\n",
      "00000000-0000-0000-0000-000000006605\n",
      "00000000-0000-0000-0000-000000006629\n",
      "00000000-0000-0000-0000-000000006508\n",
      "00000000-0000-0000-0000-000000006660\n"
     ]
    }
   ],
   "source": [
    "for v in violators(\"input/data.csv\"):\n",
    "    print(v)"
   ]
  },
  {
   "cell_type": "markdown",
   "metadata": {},
   "source": [
    "# Assert"
   ]
  },
  {
   "cell_type": "code",
   "execution_count": 14,
   "metadata": {},
   "outputs": [
    {
     "data": {
      "text/plain": [
       "True"
      ]
     },
     "execution_count": 14,
     "metadata": {},
     "output_type": "execute_result"
    }
   ],
   "source": [
    "set(vs_ids) == set(violators(\"input/data.csv\"))"
   ]
  },
  {
   "cell_type": "code",
   "execution_count": null,
   "metadata": {},
   "outputs": [],
   "source": []
  }
 ],
 "metadata": {
  "interpreter": {
   "hash": "2ae97ccd1aa9812768a8d80e7067289dd53f769df70e9e3743d77556f7b1a40a"
  },
  "kernelspec": {
   "display_name": "Python 3 (ipykernel)",
   "language": "python",
   "name": "python3"
  },
  "language_info": {
   "codemirror_mode": {
    "name": "ipython",
    "version": 3
   },
   "file_extension": ".py",
   "mimetype": "text/x-python",
   "name": "python",
   "nbconvert_exporter": "python",
   "pygments_lexer": "ipython3",
   "version": "3.8.10"
  }
 },
 "nbformat": 4,
 "nbformat_minor": 2
}
