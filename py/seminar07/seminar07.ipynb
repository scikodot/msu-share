{
 "cells": [
  {
   "cell_type": "markdown",
   "metadata": {},
   "source": [
    "# Input data"
   ]
  },
  {
   "cell_type": "code",
   "execution_count": 1,
   "metadata": {},
   "outputs": [],
   "source": [
    "speed_limit = 40\n",
    "violation_threshold = 1"
   ]
  },
  {
   "cell_type": "markdown",
   "metadata": {},
   "source": [
    "# Classic approach"
   ]
  },
  {
   "cell_type": "code",
   "execution_count": 2,
   "metadata": {},
   "outputs": [],
   "source": [
    "# Dictionary {I: [V, C, T, X, Y]}\n",
    "# I - object ID\n",
    "# V - determines whether the objects is a violator\n",
    "# C - violation time counter\n",
    "# T - previos timestamp\n",
    "# X - previous X coordinate\n",
    "# Y - previos Y coordinate\n",
    "ids = {}\n",
    "\n",
    "with open(\"input/data.csv\", 'r', newline='') as csvfile:\n",
    "    next(csvfile)\n",
    "    for line in csvfile:\n",
    "        # Read line\n",
    "        vals = line.split(',')\n",
    "        i = vals[1]\n",
    "        t, x, y = float(vals[0]), float(vals[3]), float(vals[4])\n",
    "\n",
    "        # Add object if not present\n",
    "        if i not in ids:\n",
    "            ids[i] = [False, 0, t, x, y]\n",
    "            continue\n",
    "        \n",
    "        # Skip object if it's a violator\n",
    "        if ids[i][0]:\n",
    "            continue\n",
    "\n",
    "        # Calculate statistics\n",
    "        dt = t - ids[i][2]\n",
    "        dx = x - ids[i][3]\n",
    "        dy = y - ids[i][4]\n",
    "        s = (dx**2 + dy**2)**0.5\n",
    "        v = s / dt * 3.6\n",
    "\n",
    "        # Determine speed limit violation\n",
    "        if v > speed_limit:\n",
    "            ids[i][1] += dt\n",
    "        else:\n",
    "            ids[i][1] = 0\n",
    "\n",
    "        # Determine counter exceeding\n",
    "        if ids[i][1] >= violation_threshold:\n",
    "            ids[i][0] = True\n",
    "        \n",
    "        # Update data\n",
    "        ids[i][2] = t\n",
    "        ids[i][3] = x\n",
    "        ids[i][4] = y"
   ]
  },
  {
   "cell_type": "code",
   "execution_count": 3,
   "metadata": {},
   "outputs": [
    {
     "name": "stdout",
     "output_type": "stream",
     "text": [
      "00000000-0000-0000-0000-000000006508\n",
      "00000000-0000-0000-0000-000000006629\n",
      "00000000-0000-0000-0000-000000006467\n",
      "00000000-0000-0000-0000-000000006647\n",
      "00000000-0000-0000-0000-000000006605\n",
      "00000000-0000-0000-0000-000000006660\n"
     ]
    }
   ],
   "source": [
    "vs = [v[0] for v in ids.values()]\n",
    "vs_ids = [k for k, v in zip(ids.keys(), vs) if v]\n",
    "for v in vs_ids:\n",
    "    print(v)"
   ]
  },
  {
   "cell_type": "markdown",
   "metadata": {},
   "source": [
    "# Using pandas"
   ]
  },
  {
   "cell_type": "code",
   "execution_count": 4,
   "metadata": {},
   "outputs": [],
   "source": [
    "import pandas as pd\n",
    "\n",
    "df = pd.read_csv(\"input/data.csv\", index_col=False)"
   ]
  },
  {
   "cell_type": "code",
   "execution_count": 5,
   "metadata": {},
   "outputs": [
    {
     "data": {
      "text/html": [
       "<div>\n",
       "<style scoped>\n",
       "    .dataframe tbody tr th:only-of-type {\n",
       "        vertical-align: middle;\n",
       "    }\n",
       "\n",
       "    .dataframe tbody tr th {\n",
       "        vertical-align: top;\n",
       "    }\n",
       "\n",
       "    .dataframe thead th {\n",
       "        text-align: right;\n",
       "    }\n",
       "</style>\n",
       "<table border=\"1\" class=\"dataframe\">\n",
       "  <thead>\n",
       "    <tr style=\"text-align: right;\">\n",
       "      <th></th>\n",
       "      <th>TIMESTAMP</th>\n",
       "      <th>TRACK_ID</th>\n",
       "      <th>OBJECT_TYPE</th>\n",
       "      <th>X</th>\n",
       "      <th>Y</th>\n",
       "      <th>CITY_NAME</th>\n",
       "    </tr>\n",
       "  </thead>\n",
       "  <tbody>\n",
       "    <tr>\n",
       "      <th>0</th>\n",
       "      <td>3.159672e+08</td>\n",
       "      <td>00000000-0000-0000-0000-000000000000</td>\n",
       "      <td>AV</td>\n",
       "      <td>2183.412276</td>\n",
       "      <td>724.388351</td>\n",
       "      <td>PIT</td>\n",
       "    </tr>\n",
       "    <tr>\n",
       "      <th>1</th>\n",
       "      <td>3.159672e+08</td>\n",
       "      <td>00000000-0000-0000-0000-000000006508</td>\n",
       "      <td>OTHERS</td>\n",
       "      <td>2159.402694</td>\n",
       "      <td>711.473119</td>\n",
       "      <td>PIT</td>\n",
       "    </tr>\n",
       "    <tr>\n",
       "      <th>2</th>\n",
       "      <td>3.159672e+08</td>\n",
       "      <td>00000000-0000-0000-0000-000000006293</td>\n",
       "      <td>OTHERS</td>\n",
       "      <td>2229.611668</td>\n",
       "      <td>762.482721</td>\n",
       "      <td>PIT</td>\n",
       "    </tr>\n",
       "    <tr>\n",
       "      <th>3</th>\n",
       "      <td>3.159672e+08</td>\n",
       "      <td>00000000-0000-0000-0000-000000006566</td>\n",
       "      <td>OTHERS</td>\n",
       "      <td>2240.571538</td>\n",
       "      <td>768.533941</td>\n",
       "      <td>PIT</td>\n",
       "    </tr>\n",
       "    <tr>\n",
       "      <th>4</th>\n",
       "      <td>3.159672e+08</td>\n",
       "      <td>00000000-0000-0000-0000-000000006585</td>\n",
       "      <td>OTHERS</td>\n",
       "      <td>2190.728600</td>\n",
       "      <td>730.459119</td>\n",
       "      <td>PIT</td>\n",
       "    </tr>\n",
       "    <tr>\n",
       "      <th>...</th>\n",
       "      <td>...</td>\n",
       "      <td>...</td>\n",
       "      <td>...</td>\n",
       "      <td>...</td>\n",
       "      <td>...</td>\n",
       "      <td>...</td>\n",
       "    </tr>\n",
       "    <tr>\n",
       "      <th>786</th>\n",
       "      <td>3.159672e+08</td>\n",
       "      <td>00000000-0000-0000-0000-000000006684</td>\n",
       "      <td>OTHERS</td>\n",
       "      <td>2161.384583</td>\n",
       "      <td>701.669894</td>\n",
       "      <td>PIT</td>\n",
       "    </tr>\n",
       "    <tr>\n",
       "      <th>787</th>\n",
       "      <td>3.159672e+08</td>\n",
       "      <td>00000000-0000-0000-0000-000000006508</td>\n",
       "      <td>OTHERS</td>\n",
       "      <td>2112.931861</td>\n",
       "      <td>673.248816</td>\n",
       "      <td>PIT</td>\n",
       "    </tr>\n",
       "    <tr>\n",
       "      <th>788</th>\n",
       "      <td>3.159672e+08</td>\n",
       "      <td>00000000-0000-0000-0000-000000006661</td>\n",
       "      <td>OTHERS</td>\n",
       "      <td>2251.211259</td>\n",
       "      <td>789.101345</td>\n",
       "      <td>PIT</td>\n",
       "    </tr>\n",
       "    <tr>\n",
       "      <th>789</th>\n",
       "      <td>3.159672e+08</td>\n",
       "      <td>00000000-0000-0000-0000-000000006681</td>\n",
       "      <td>OTHERS</td>\n",
       "      <td>2173.064191</td>\n",
       "      <td>712.178570</td>\n",
       "      <td>PIT</td>\n",
       "    </tr>\n",
       "    <tr>\n",
       "      <th>790</th>\n",
       "      <td>3.159672e+08</td>\n",
       "      <td>00000000-0000-0000-0000-000000006676</td>\n",
       "      <td>OTHERS</td>\n",
       "      <td>2206.813988</td>\n",
       "      <td>751.345232</td>\n",
       "      <td>PIT</td>\n",
       "    </tr>\n",
       "  </tbody>\n",
       "</table>\n",
       "<p>791 rows × 6 columns</p>\n",
       "</div>"
      ],
      "text/plain": [
       "        TIMESTAMP                              TRACK_ID OBJECT_TYPE  \\\n",
       "0    3.159672e+08  00000000-0000-0000-0000-000000000000          AV   \n",
       "1    3.159672e+08  00000000-0000-0000-0000-000000006508      OTHERS   \n",
       "2    3.159672e+08  00000000-0000-0000-0000-000000006293      OTHERS   \n",
       "3    3.159672e+08  00000000-0000-0000-0000-000000006566      OTHERS   \n",
       "4    3.159672e+08  00000000-0000-0000-0000-000000006585      OTHERS   \n",
       "..            ...                                   ...         ...   \n",
       "786  3.159672e+08  00000000-0000-0000-0000-000000006684      OTHERS   \n",
       "787  3.159672e+08  00000000-0000-0000-0000-000000006508      OTHERS   \n",
       "788  3.159672e+08  00000000-0000-0000-0000-000000006661      OTHERS   \n",
       "789  3.159672e+08  00000000-0000-0000-0000-000000006681      OTHERS   \n",
       "790  3.159672e+08  00000000-0000-0000-0000-000000006676      OTHERS   \n",
       "\n",
       "               X           Y CITY_NAME  \n",
       "0    2183.412276  724.388351       PIT  \n",
       "1    2159.402694  711.473119       PIT  \n",
       "2    2229.611668  762.482721       PIT  \n",
       "3    2240.571538  768.533941       PIT  \n",
       "4    2190.728600  730.459119       PIT  \n",
       "..           ...         ...       ...  \n",
       "786  2161.384583  701.669894       PIT  \n",
       "787  2112.931861  673.248816       PIT  \n",
       "788  2251.211259  789.101345       PIT  \n",
       "789  2173.064191  712.178570       PIT  \n",
       "790  2206.813988  751.345232       PIT  \n",
       "\n",
       "[791 rows x 6 columns]"
      ]
     },
     "execution_count": 5,
     "metadata": {},
     "output_type": "execute_result"
    }
   ],
   "source": [
    "df"
   ]
  },
  {
   "cell_type": "code",
   "execution_count": 6,
   "metadata": {},
   "outputs": [],
   "source": [
    "dfs = []\n",
    "df_ids = df['TRACK_ID']\n",
    "for i in set(df_ids):\n",
    "    dfs.append((i, df[df_ids == i]))"
   ]
  },
  {
   "cell_type": "code",
   "execution_count": 7,
   "metadata": {},
   "outputs": [
    {
     "data": {
      "text/plain": [
       "('00000000-0000-0000-0000-000000006467',\n",
       "         TIMESTAMP                              TRACK_ID OBJECT_TYPE  \\\n",
       " 10   3.159672e+08  00000000-0000-0000-0000-000000006467      OTHERS   \n",
       " 25   3.159672e+08  00000000-0000-0000-0000-000000006467      OTHERS   \n",
       " 40   3.159672e+08  00000000-0000-0000-0000-000000006467      OTHERS   \n",
       " 56   3.159672e+08  00000000-0000-0000-0000-000000006467      OTHERS   \n",
       " 72   3.159672e+08  00000000-0000-0000-0000-000000006467      OTHERS   \n",
       " 90   3.159672e+08  00000000-0000-0000-0000-000000006467      OTHERS   \n",
       " 106  3.159672e+08  00000000-0000-0000-0000-000000006467      OTHERS   \n",
       " 119  3.159672e+08  00000000-0000-0000-0000-000000006467      OTHERS   \n",
       " 134  3.159672e+08  00000000-0000-0000-0000-000000006467      OTHERS   \n",
       " 149  3.159672e+08  00000000-0000-0000-0000-000000006467      OTHERS   \n",
       " 164  3.159672e+08  00000000-0000-0000-0000-000000006467      OTHERS   \n",
       " 179  3.159672e+08  00000000-0000-0000-0000-000000006467      OTHERS   \n",
       " 195  3.159672e+08  00000000-0000-0000-0000-000000006467      OTHERS   \n",
       " 210  3.159672e+08  00000000-0000-0000-0000-000000006467      OTHERS   \n",
       " 226  3.159672e+08  00000000-0000-0000-0000-000000006467      OTHERS   \n",
       " 242  3.159672e+08  00000000-0000-0000-0000-000000006467      OTHERS   \n",
       " 254  3.159672e+08  00000000-0000-0000-0000-000000006467      OTHERS   \n",
       " 270  3.159672e+08  00000000-0000-0000-0000-000000006467      OTHERS   \n",
       " 285  3.159672e+08  00000000-0000-0000-0000-000000006467      OTHERS   \n",
       " 300  3.159672e+08  00000000-0000-0000-0000-000000006467      OTHERS   \n",
       " 315  3.159672e+08  00000000-0000-0000-0000-000000006467      OTHERS   \n",
       " 331  3.159672e+08  00000000-0000-0000-0000-000000006467      OTHERS   \n",
       " 347  3.159672e+08  00000000-0000-0000-0000-000000006467      OTHERS   \n",
       " 367  3.159672e+08  00000000-0000-0000-0000-000000006467      OTHERS   \n",
       " 375  3.159672e+08  00000000-0000-0000-0000-000000006467      OTHERS   \n",
       " 391  3.159672e+08  00000000-0000-0000-0000-000000006467      OTHERS   \n",
       " 407  3.159672e+08  00000000-0000-0000-0000-000000006467      OTHERS   \n",
       " 423  3.159672e+08  00000000-0000-0000-0000-000000006467      OTHERS   \n",
       " 449  3.159672e+08  00000000-0000-0000-0000-000000006467      OTHERS   \n",
       " 457  3.159672e+08  00000000-0000-0000-0000-000000006467      OTHERS   \n",
       " 473  3.159672e+08  00000000-0000-0000-0000-000000006467      OTHERS   \n",
       " 491  3.159672e+08  00000000-0000-0000-0000-000000006467      OTHERS   \n",
       " 507  3.159672e+08  00000000-0000-0000-0000-000000006467      OTHERS   \n",
       " 522  3.159672e+08  00000000-0000-0000-0000-000000006467      OTHERS   \n",
       " 540  3.159672e+08  00000000-0000-0000-0000-000000006467      OTHERS   \n",
       " 550  3.159672e+08  00000000-0000-0000-0000-000000006467      OTHERS   \n",
       " 566  3.159672e+08  00000000-0000-0000-0000-000000006467      OTHERS   \n",
       " 582  3.159672e+08  00000000-0000-0000-0000-000000006467      OTHERS   \n",
       " 608  3.159672e+08  00000000-0000-0000-0000-000000006467      OTHERS   \n",
       " 618  3.159672e+08  00000000-0000-0000-0000-000000006467      OTHERS   \n",
       " 636  3.159672e+08  00000000-0000-0000-0000-000000006467      OTHERS   \n",
       " 655  3.159672e+08  00000000-0000-0000-0000-000000006467      OTHERS   \n",
       " 671  3.159672e+08  00000000-0000-0000-0000-000000006467      OTHERS   \n",
       " 687  3.159672e+08  00000000-0000-0000-0000-000000006467      OTHERS   \n",
       " 698  3.159672e+08  00000000-0000-0000-0000-000000006467      OTHERS   \n",
       " 714  3.159672e+08  00000000-0000-0000-0000-000000006467      OTHERS   \n",
       " 730  3.159672e+08  00000000-0000-0000-0000-000000006467      OTHERS   \n",
       " 746  3.159672e+08  00000000-0000-0000-0000-000000006467      OTHERS   \n",
       " 762  3.159672e+08  00000000-0000-0000-0000-000000006467      OTHERS   \n",
       " 778  3.159672e+08  00000000-0000-0000-0000-000000006467      OTHERS   \n",
       " \n",
       "                X           Y CITY_NAME  \n",
       " 10   2215.553739  747.296654       PIT  \n",
       " 25   2216.524718  748.102550       PIT  \n",
       " 40   2217.550071  748.862534       PIT  \n",
       " 56   2218.595788  749.763150       PIT  \n",
       " 72   2219.592392  750.606620       PIT  \n",
       " 90   2220.610920  751.474679       PIT  \n",
       " 106  2221.674220  752.390820       PIT  \n",
       " 119  2222.657640  753.118834       PIT  \n",
       " 134  2223.666919  753.975381       PIT  \n",
       " 149  2224.715207  754.923602       PIT  \n",
       " 164  2225.818322  755.769332       PIT  \n",
       " 179  2226.804452  756.700521       PIT  \n",
       " 195  2227.758824  757.389293       PIT  \n",
       " 210  2228.659458  758.297316       PIT  \n",
       " 226  2229.663477  759.097945       PIT  \n",
       " 242  2230.671586  759.929627       PIT  \n",
       " 254  2231.597481  760.686879       PIT  \n",
       " 270  2232.614756  761.530128       PIT  \n",
       " 285  2233.572462  762.398619       PIT  \n",
       " 300  2234.687897  763.546836       PIT  \n",
       " 315  2234.687897  763.546836       PIT  \n",
       " 331  2236.264986  765.307506       PIT  \n",
       " 347  2237.482830  766.070038       PIT  \n",
       " 367  2238.385811  766.849695       PIT  \n",
       " 375  2239.564575  767.674599       PIT  \n",
       " 391  2240.554169  768.367572       PIT  \n",
       " 407  2241.712034  769.133976       PIT  \n",
       " 423  2242.534155  769.941553       PIT  \n",
       " 449  2243.657183  770.563714       PIT  \n",
       " 457  2244.483510  771.333760       PIT  \n",
       " 473  2245.395312  772.183922       PIT  \n",
       " 491  2246.447434  772.920689       PIT  \n",
       " 507  2247.435689  773.707882       PIT  \n",
       " 522  2248.341306  774.594655       PIT  \n",
       " 540  2249.352865  775.365022       PIT  \n",
       " 550  2250.361415  776.458033       PIT  \n",
       " 566  2251.240508  777.182748       PIT  \n",
       " 582  2252.121474  777.873021       PIT  \n",
       " 608  2253.065936  778.714200       PIT  \n",
       " 618  2254.036175  779.495796       PIT  \n",
       " 636  2254.889859  780.415478       PIT  \n",
       " 655  2255.957277  781.110004       PIT  \n",
       " 671  2256.811465  781.931163       PIT  \n",
       " 687  2257.820532  782.682726       PIT  \n",
       " 698  2258.742137  783.444360       PIT  \n",
       " 714  2259.675427  784.230797       PIT  \n",
       " 730  2260.556957  785.104914       PIT  \n",
       " 746  2261.460253  785.815444       PIT  \n",
       " 762  2262.479965  786.665396       PIT  \n",
       " 778  2263.447121  787.309601       PIT  )"
      ]
     },
     "execution_count": 7,
     "metadata": {},
     "output_type": "execute_result"
    }
   ],
   "source": [
    "dfs[0]"
   ]
  },
  {
   "cell_type": "code",
   "execution_count": 8,
   "metadata": {},
   "outputs": [],
   "source": [
    "viols = []\n",
    "for i, d in dfs:\n",
    "    diff = d[['TIMESTAMP', 'X', 'Y']].diff()\n",
    "    diff['S'] = (diff['X']**2 + diff['Y']**2)**0.5\n",
    "    diff['V'] = diff['S'] / diff['TIMESTAMP'] * 3.6\n",
    "    \n",
    "    mask = diff['V'] > 40\n",
    "    group = mask.ne(mask.shift()).cumsum()\n",
    "    groups = diff[mask].groupby(group)\n",
    "\n",
    "    overflow = groups['TIMESTAMP'].agg('sum') >= 1\n",
    "    if overflow.any():\n",
    "        viols.append(i)"
   ]
  },
  {
   "cell_type": "code",
   "execution_count": 9,
   "metadata": {},
   "outputs": [
    {
     "data": {
      "text/plain": [
       "['00000000-0000-0000-0000-000000006467',\n",
       " '00000000-0000-0000-0000-000000006605',\n",
       " '00000000-0000-0000-0000-000000006647',\n",
       " '00000000-0000-0000-0000-000000006660',\n",
       " '00000000-0000-0000-0000-000000006629',\n",
       " '00000000-0000-0000-0000-000000006508']"
      ]
     },
     "execution_count": 9,
     "metadata": {},
     "output_type": "execute_result"
    }
   ],
   "source": [
    "viols"
   ]
  },
  {
   "cell_type": "markdown",
   "metadata": {},
   "source": [
    "# Using generators"
   ]
  },
  {
   "cell_type": "code",
   "execution_count": 10,
   "metadata": {},
   "outputs": [],
   "source": [
    "def trace():\n",
    "    violation_time = 0\n",
    "    t_prev, x_prev, y_prev = 0, 0, 0\n",
    "    while True:\n",
    "        t, x, y = yield\n",
    "\n",
    "        if t_prev != 0:\n",
    "            dt = t - t_prev\n",
    "            dx = x - x_prev\n",
    "            dy = y - y_prev\n",
    "\n",
    "            distance = (dx**2 + dy**2)**0.5\n",
    "            speed = distance / dt * 3.6\n",
    "            \n",
    "            if speed > speed_limit:\n",
    "                violation_time += dt\n",
    "            else:\n",
    "                violation_time = 0\n",
    "\n",
    "        yield violation_time >= violation_threshold\n",
    "        t_prev, x_prev, y_prev = t, x, y"
   ]
  },
  {
   "cell_type": "code",
   "execution_count": 11,
   "metadata": {},
   "outputs": [],
   "source": [
    "def violators(file):\n",
    "    traces = {}\n",
    "    with open(file, 'r', newline='') as csvfile:\n",
    "        next(csvfile)\n",
    "        for line in csvfile:\n",
    "            # Read and parse line\n",
    "            vals = line.split(',')\n",
    "            id = vals[1]\n",
    "            t, x, y = float(vals[0]), float(vals[3]), float(vals[4])\n",
    "\n",
    "            # Add new trace\n",
    "            if id not in traces:\n",
    "                tr = trace(); next(tr)\n",
    "                traces[id] = tr\n",
    "\n",
    "            tr = traces[id]\n",
    "\n",
    "            # Skip violators\n",
    "            if not tr:\n",
    "                continue\n",
    "            \n",
    "            violator = tr.send((t, x, y))\n",
    "            next(tr)\n",
    "            \n",
    "            if violator:\n",
    "                # Invalidate trace\n",
    "                traces[id] = False\n",
    "                yield id"
   ]
  },
  {
   "cell_type": "code",
   "execution_count": 12,
   "metadata": {},
   "outputs": [
    {
     "name": "stdout",
     "output_type": "stream",
     "text": [
      "00000000-0000-0000-0000-000000006467\n",
      "00000000-0000-0000-0000-000000006647\n",
      "00000000-0000-0000-0000-000000006605\n",
      "00000000-0000-0000-0000-000000006629\n",
      "00000000-0000-0000-0000-000000006508\n",
      "00000000-0000-0000-0000-000000006660\n"
     ]
    }
   ],
   "source": [
    "for v in violators(\"input/data.csv\"):\n",
    "    print(v)"
   ]
  },
  {
   "cell_type": "markdown",
   "metadata": {},
   "source": [
    "# Assert"
   ]
  },
  {
   "cell_type": "code",
   "execution_count": 13,
   "metadata": {},
   "outputs": [
    {
     "data": {
      "text/plain": [
       "True"
      ]
     },
     "execution_count": 13,
     "metadata": {},
     "output_type": "execute_result"
    }
   ],
   "source": [
    "set(vs_ids) == set(violators(\"input/data.csv\"))"
   ]
  },
  {
   "cell_type": "code",
   "execution_count": null,
   "metadata": {},
   "outputs": [],
   "source": []
  }
 ],
 "metadata": {
  "interpreter": {
   "hash": "2ae97ccd1aa9812768a8d80e7067289dd53f769df70e9e3743d77556f7b1a40a"
  },
  "kernelspec": {
   "display_name": "Python 3 (ipykernel)",
   "language": "python",
   "name": "python3"
  },
  "language_info": {
   "codemirror_mode": {
    "name": "ipython",
    "version": 3
   },
   "file_extension": ".py",
   "mimetype": "text/x-python",
   "name": "python",
   "nbconvert_exporter": "python",
   "pygments_lexer": "ipython3",
   "version": "3.8.10"
  }
 },
 "nbformat": 4,
 "nbformat_minor": 2
}
