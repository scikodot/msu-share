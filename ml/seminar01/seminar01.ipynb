{
 "cells": [
  {
   "cell_type": "markdown",
   "metadata": {},
   "source": [
    "# Imports"
   ]
  },
  {
   "cell_type": "code",
   "execution_count": 23,
   "metadata": {},
   "outputs": [],
   "source": [
    "import pandas as pd\n",
    "import numpy as np\n",
    "import shutil\n",
    "from zipfile import ZipFile"
   ]
  },
  {
   "cell_type": "markdown",
   "metadata": {},
   "source": [
    "# Perform 3-fold cross-validation on the input data"
   ]
  },
  {
   "cell_type": "code",
   "execution_count": 41,
   "metadata": {},
   "outputs": [],
   "source": [
    "# Set folding param\n",
    "k = 3\n",
    "\n",
    "# Read input .csv and shuffle\n",
    "df = pd.read_csv(\"input/train.csv\").sample(frac=1, random_state=3927).reset_index(drop=True)\n",
    "\n",
    "# Split input into folds\n",
    "dfs = np.array_split(df, k)\n",
    "\n",
    "# Write folds to output\n",
    "shutil.make_archive(\"output/output\", 'zip')\n",
    "with ZipFile(\"output/output.zip\", 'w') as zf:\n",
    "    for i in range(k):\n",
    "        # Validation fold\n",
    "        val = dfs[i]\n",
    "        with zf.open(f\"val_{i + 1}.csv\", 'w') as f:\n",
    "            f.write(val.to_csv(index=False).encode('utf-8'))\n",
    "\n",
    "        # Training fold\n",
    "        train = pd.concat(dfs[:i] + dfs[i+1:])\n",
    "        with zf.open(f\"train_{i + 1}.csv\", 'w') as f:\n",
    "            f.write(train.to_csv(index=False).encode('utf-8'))"
   ]
  },
  {
   "cell_type": "code",
   "execution_count": null,
   "metadata": {},
   "outputs": [],
   "source": []
  }
 ],
 "metadata": {
  "language_info": {
   "name": "python"
  },
  "orig_nbformat": 4
 },
 "nbformat": 4,
 "nbformat_minor": 2
}
