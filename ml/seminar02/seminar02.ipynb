{
 "cells": [
  {
   "cell_type": "markdown",
   "metadata": {},
   "source": [
    "# Imports"
   ]
  },
  {
   "cell_type": "code",
   "execution_count": 18,
   "metadata": {},
   "outputs": [],
   "source": [
    "import math\n",
    "import numpy as np\n",
    "import matplotlib.pyplot as plt"
   ]
  },
  {
   "cell_type": "markdown",
   "metadata": {},
   "source": [
    "# Task 1"
   ]
  },
  {
   "cell_type": "markdown",
   "metadata": {},
   "source": [
    "## Input data"
   ]
  },
  {
   "cell_type": "code",
   "execution_count": 65,
   "metadata": {},
   "outputs": [
    {
     "name": "stdout",
     "output_type": "stream",
     "text": [
      "0.0\n"
     ]
    }
   ],
   "source": [
    "# Distributions\n",
    "pxy1 = lambda x : 1 / (math.pi * (1 + x**2))  # Cauchy(0, 1)\n",
    "pxy2 = lambda x : 1 / 3 if 0 <= x <= 3 else 0.  # U[0, 3]\n",
    "\n",
    "# Loss function scales\n",
    "l1, l2 = 2, 1\n",
    "\n",
    "# A priori probs\n",
    "py1, py2 = 0.4, 0.6\n",
    "print(pxy2(-0.5))"
   ]
  },
  {
   "cell_type": "code",
   "execution_count": 98,
   "metadata": {},
   "outputs": [
    {
     "data": {
      "image/png": "[encoded data removed]",
      "text/plain": [
       "<Figure size 576x432 with 1 Axes>"
      ]
     },
     "metadata": {
      "needs_background": "light"
     },
     "output_type": "display_data"
    }
   ],
   "source": [
    "plt.figure(figsize=(8, 6))\n",
    "\n",
    "# Setup distributions\n",
    "x = np.linspace(-5, 5, 200)\n",
    "dist1 = pxy1(x)\n",
    "dist2 = np.vectorize(pxy2)(x)\n",
    "\n",
    "# Plot first distribution\n",
    "plt.plot(x, dist1, 'b')\n",
    "\n",
    "# Setup mask for vertical jumps\n",
    "mask = np.diff(dist2)\n",
    "mask = np.append(mask, 0.)\n",
    "mask = abs(mask) > 0\n",
    "\n",
    "# Plot dashed jumps\n",
    "for i in np.argwhere(mask).flatten():\n",
    "    plt.plot(x[i : i + 2], dist2[i : i + 2], 'r--')\n",
    "\n",
    "# Mask initial jumps and plot second distribution\n",
    "dist2[mask] = np.nan\n",
    "plt.plot(x, dist2, 'r')\n",
    "\n",
    "plt.show()"
   ]
  },
  {
   "cell_type": "markdown",
   "metadata": {},
   "source": [
    "## 1. Find an optimal Bayes classifier"
   ]
  },
  {
   "cell_type": "code",
   "execution_count": 99,
   "metadata": {},
   "outputs": [],
   "source": [
    "def a1(x):\n",
    "    return 1 if 0 <= x <= 3 else -1"
   ]
  },
  {
   "cell_type": "markdown",
   "metadata": {},
   "source": [
    "## 2. Evaluate a mean risk"
   ]
  },
  {
   "cell_type": "code",
   "execution_count": null,
   "metadata": {},
   "outputs": [],
   "source": [
    "def R():\n",
    "    pass"
   ]
  }
 ],
 "metadata": {
  "interpreter": {
   "hash": "966f6ba3965b08eb5941c0fab8996b029005990ffce8550831c119a9f36d5935"
  },
  "kernelspec": {
   "display_name": "Python 3.6.7 64-bit",
   "name": "python3"
  },
  "language_info": {
   "codemirror_mode": {
    "name": "ipython",
    "version": 3
   },
   "file_extension": ".py",
   "mimetype": "text/x-python",
   "name": "python",
   "nbconvert_exporter": "python",
   "pygments_lexer": "ipython3",
   "version": "3.6.7"
  },
  "orig_nbformat": 4
 },
 "nbformat": 4,
 "nbformat_minor": 2
}
