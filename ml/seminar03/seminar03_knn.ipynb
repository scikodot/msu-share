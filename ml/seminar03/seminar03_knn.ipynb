{
 "cells": [
  {
   "cell_type": "code",
   "execution_count": 1,
   "metadata": {},
   "outputs": [],
   "source": [
    "import numpy as np\n",
    "import matplotlib.pyplot as plt\n",
    "import pickle"
   ]
  },
  {
   "cell_type": "code",
   "execution_count": 2,
   "metadata": {},
   "outputs": [
    {
     "name": "stdout",
     "output_type": "stream",
     "text": [
      "(60000, 28, 28) (60000,)\n"
     ]
    }
   ],
   "source": [
    "with np.load('input/mnist.npz', allow_pickle=True) as f: \n",
    "    train_x, train_y = f['x_train'], f['y_train']\n",
    "    test_x, test_y = f['x_test'], f['y_test']\n",
    "print(train_x.shape, train_y.shape)"
   ]
  },
  {
   "cell_type": "code",
   "execution_count": 3,
   "metadata": {},
   "outputs": [
    {
     "name": "stdout",
     "output_type": "stream",
     "text": [
      "label is 4\n"
     ]
    },
    {
     "data": {
      "image/png": "[encoded data removed]",
      "text/plain": [
       "<Figure size 432x288 with 1 Axes>"
      ]
     },
     "metadata": {
      "needs_background": "light"
     },
     "output_type": "display_data"
    }
   ],
   "source": [
    "index = 3457\n",
    "print('label is %d' % train_y[index])\n",
    "plt.imshow(train_x[index])\n",
    "plt.show()"
   ]
  },
  {
   "cell_type": "code",
   "execution_count": 4,
   "metadata": {},
   "outputs": [
    {
     "data": {
      "text/plain": [
       "(0, 255, 19.855867346938776)"
      ]
     },
     "execution_count": 4,
     "metadata": {},
     "output_type": "execute_result"
    }
   ],
   "source": [
    "np.min(train_x[index]), np.max(train_x[index]), np.mean(train_x[index])"
   ]
  },
  {
   "cell_type": "code",
   "execution_count": 5,
   "metadata": {},
   "outputs": [
    {
     "name": "stdout",
     "output_type": "stream",
     "text": [
      "(60000, 784)\n",
      "(10000, 784)\n"
     ]
    }
   ],
   "source": [
    "train_x_1 = train_x.reshape(len(train_x), -1)\n",
    "print(train_x_1.shape)\n",
    "\n",
    "test_x_1 = test_x.reshape(len(test_x), -1)\n",
    "print(test_x_1.shape)"
   ]
  },
  {
   "cell_type": "code",
   "execution_count": null,
   "metadata": {},
   "outputs": [],
   "source": [
    "class DummyClassifier(object):\n",
    "    def __init__(self):\n",
    "        self.name = 'Dummy'\n",
    "    def fit(self, train_x, train_y):\n",
    "        pass\n",
    "    def predict(self, test_x):\n",
    "        return np.random.randint(low=0, high=10, size=len(test_x))"
   ]
  },
  {
   "cell_type": "code",
   "execution_count": null,
   "metadata": {},
   "outputs": [],
   "source": [
    "classifier = DummyClassifier()\n",
    "classifier.fit(train_x_1, train_y)\n",
    "pred = classifier.predict(test_x_1)"
   ]
  },
  {
   "cell_type": "code",
   "execution_count": null,
   "metadata": {},
   "outputs": [],
   "source": [
    "def accuracy(pred, gt):\n",
    "    return np.sum(pred == gt)/len(gt)"
   ]
  },
  {
   "cell_type": "code",
   "execution_count": null,
   "metadata": {},
   "outputs": [],
   "source": [
    "acc = accuracy(pred, test_y)\n",
    "print(acc)"
   ]
  },
  {
   "cell_type": "code",
   "execution_count": null,
   "metadata": {},
   "outputs": [],
   "source": [
    "from sklearn.metrics import accuracy_score"
   ]
  },
  {
   "cell_type": "code",
   "execution_count": null,
   "metadata": {},
   "outputs": [],
   "source": [
    "accuracy_score(pred, test_y)"
   ]
  },
  {
   "cell_type": "code",
   "execution_count": null,
   "metadata": {},
   "outputs": [],
   "source": [
    "from sklearn.neighbors import KNeighborsClassifier"
   ]
  },
  {
   "cell_type": "code",
   "execution_count": null,
   "metadata": {},
   "outputs": [],
   "source": [
    "results = []\n",
    "for k in range(1,10, 2):\n",
    "    classifier = KNeighborsClassifier(n_neighbors=k)\n",
    "    classifier.fit(train_x_1[:2000], train_y[:2000])\n",
    "    pred = classifier.predict(test_x_1[:100])\n",
    "    acc = accuracy_score(pred, test_y[:100])\n",
    "    results.append(acc)\n",
    "    print(k, acc)"
   ]
  },
  {
   "cell_type": "code",
   "execution_count": null,
   "metadata": {},
   "outputs": [],
   "source": [
    "results = []\n",
    "for k in range(1,10, 2):\n",
    "    classifier = KNeighborsClassifier(n_neighbors=k)\n",
    "    classifier.fit(train_x_1[:3000], train_y[:3000])\n",
    "    pred = classifier.predict(test_x_1[:100])\n",
    "    acc = accuracy_score(pred, test_y[:100])\n",
    "    results.append(acc)\n",
    "    print(k, acc)"
   ]
  },
  {
   "cell_type": "code",
   "execution_count": null,
   "metadata": {},
   "outputs": [],
   "source": [
    "results = []\n",
    "for k in range(1,10, 2):\n",
    "    classifier = KNeighborsClassifier(n_neighbors=k)\n",
    "    classifier.fit(train_x_1[:10000], train_y[:10000])\n",
    "    pred = classifier.predict(test_x_1[:100])\n",
    "    acc = accuracy_score(pred, test_y[:100])\n",
    "    results.append(acc)\n",
    "    print(k, acc)"
   ]
  },
  {
   "cell_type": "code",
   "execution_count": null,
   "metadata": {},
   "outputs": [],
   "source": [
    "from sklearn.cluster import KMeans"
   ]
  },
  {
   "cell_type": "code",
   "execution_count": null,
   "metadata": {},
   "outputs": [],
   "source": [
    "km = KMeans(n_clusters=20)\n",
    "km.fit(train_x_1[:10000])"
   ]
  },
  {
   "cell_type": "code",
   "execution_count": null,
   "metadata": {
    "scrolled": false
   },
   "outputs": [],
   "source": [
    "for cluster in km.cluster_centers_:\n",
    "    plt.imshow(cluster.reshape(28,28))\n",
    "    plt.show()"
   ]
  },
  {
   "cell_type": "markdown",
   "metadata": {},
   "source": [
    "#### Задача 1"
   ]
  },
  {
   "cell_type": "markdown",
   "metadata": {},
   "source": [
    "Подобрать оптимальные параметры для KNeighborsClassifier.\n",
    "В качестве решения необходимо отправить код подбора параметров в этом ноутбуке seminar03_knn.ipynb и параметры лучшего классификатора knn_best_params.pkl"
   ]
  },
  {
   "cell_type": "markdown",
   "metadata": {},
   "source": [
    "#### Задача 2"
   ]
  },
  {
   "cell_type": "markdown",
   "metadata": {},
   "source": [
    "Найти 10 эталонов, чтобы качество классификации было максимальным. (Преодолеть 70%)\n",
    "\n",
    "В качестве решения необходимо отправить код поиска эталонов в этом ноутбуке seminar03_knn.ipynb и файл с 10 эталонами knn_10_best.npy\n"
   ]
  },
  {
   "cell_type": "markdown",
   "metadata": {},
   "source": [
    "#### Задача 3*"
   ]
  },
  {
   "cell_type": "markdown",
   "metadata": {},
   "source": [
    "Сколько эталонов нужно, чтобы преодолеть 90% точность?\n",
    "Задача не является обязательной, в качестве решения необходимо предоставить код с решением"
   ]
  },
  {
   "cell_type": "markdown",
   "metadata": {},
   "source": [
    "#### Ноутбук с решением необходимо сдать отправить боту @ml2021sharebot c пометкой seminar03"
   ]
  },
  {
   "cell_type": "markdown",
   "metadata": {},
   "source": [
    "### Решение задачи 1"
   ]
  },
  {
   "cell_type": "code",
   "execution_count": null,
   "metadata": {},
   "outputs": [],
   "source": [
    "from sklearn.neighbors import KNeighborsClassifier\n",
    "from sklearn.model_selection import GridSearchCV"
   ]
  },
  {
   "cell_type": "code",
   "execution_count": null,
   "metadata": {},
   "outputs": [],
   "source": [
    "# Setup classifier\n",
    "classifier = KNeighborsClassifier()"
   ]
  },
  {
   "cell_type": "code",
   "execution_count": null,
   "metadata": {},
   "outputs": [],
   "source": [
    "# Setup params search\n",
    "params_grid = { 'n_neighbors': list(range(1, 10, 2)), \\\n",
    "                'weights': ['distance'], \\\n",
    "                'algorithm': ['kd_tree', 'ball_tree'] }\n",
    "res = GridSearchCV(classifier, params_grid, cv=3, refit=True)"
   ]
  },
  {
   "cell_type": "code",
   "execution_count": null,
   "metadata": {},
   "outputs": [],
   "source": [
    "# Fit\n",
    "frac = len(train_x) // 10\n",
    "res.fit(train_x_1[:frac], train_y[:frac])"
   ]
  },
  {
   "cell_type": "code",
   "execution_count": null,
   "metadata": {},
   "outputs": [],
   "source": [
    "# Score\n",
    "res.score(test_x_1, test_y)"
   ]
  },
  {
   "cell_type": "code",
   "execution_count": null,
   "metadata": {},
   "outputs": [],
   "source": [
    "# Save best params\n",
    "with open(\"output/knn_best_params.pkl\", \"wb\") as f:\n",
    "    pickle.dump(res.best_estimator_.get_params(), f)"
   ]
  },
  {
   "cell_type": "markdown",
   "metadata": {},
   "source": [
    "### Решение задачи 2"
   ]
  },
  {
   "cell_type": "code",
   "execution_count": 11,
   "metadata": {},
   "outputs": [],
   "source": [
    "from sklearn.neighbors import KNeighborsClassifier\n",
    "from sklearn.metrics import accuracy_score"
   ]
  },
  {
   "cell_type": "code",
   "execution_count": 7,
   "metadata": {},
   "outputs": [],
   "source": [
    "# Show method\n",
    "def show(samples, classes=None):\n",
    "    for i in range(len(samples)):\n",
    "        if classes is not None:\n",
    "            print('Class', classes[i])\n",
    "        plt.imshow(samples[i].reshape(28, 28))\n",
    "        plt.show()"
   ]
  },
  {
   "cell_type": "code",
   "execution_count": 8,
   "metadata": {},
   "outputs": [],
   "source": [
    "# Centroids\n",
    "centroids = np.zeros((10, 784))\n",
    "for i in range(10):\n",
    "    mask = (train_y == i)\n",
    "    centroids[i] = np.mean(train_x_1[mask], axis=0)\n",
    "\n",
    "# Centroids' classes\n",
    "classes = np.array(range(10))"
   ]
  },
  {
   "cell_type": "code",
   "execution_count": 9,
   "metadata": {},
   "outputs": [
    {
     "name": "stdout",
     "output_type": "stream",
     "text": [
      "(10, 784)\n",
      "Class 0\n"
     ]
    },
    {
     "data": {
      "image/png": "[encoded data removed]",
      "text/plain": [
       "<Figure size 432x288 with 1 Axes>"
      ]
     },
     "metadata": {
      "needs_background": "light"
     },
     "output_type": "display_data"
    },
    {
     "name": "stdout",
     "output_type": "stream",
     "text": [
      "Class 1\n"
     ]
    },
    {
     "data": {
      "image/png": "[encoded data removed]",
      "text/plain": [
       "<Figure size 432x288 with 1 Axes>"
      ]
     },
     "metadata": {
      "needs_background": "light"
     },
     "output_type": "display_data"
    },
    {
     "name": "stdout",
     "output_type": "stream",
     "text": [
      "Class 2\n"
     ]
    },
    {
     "data": {
      "image/png": "[encoded data removed]",
      "text/plain": [
       "<Figure size 432x288 with 1 Axes>"
      ]
     },
     "metadata": {
      "needs_background": "light"
     },
     "output_type": "display_data"
    },
    {
     "name": "stdout",
     "output_type": "stream",
     "text": [
      "Class 3\n"
     ]
    },
    {
     "data": {
      "image/png": "[encoded data removed]",
      "text/plain": [
       "<Figure size 432x288 with 1 Axes>"
      ]
     },
     "metadata": {
      "needs_background": "light"
     },
     "output_type": "display_data"
    },
    {
     "name": "stdout",
     "output_type": "stream",
     "text": [
      "Class 4\n"
     ]
    },
    {
     "data": {
      "image/png": "[encoded data removed]",
      "text/plain": [
       "<Figure size 432x288 with 1 Axes>"
      ]
     },
     "metadata": {
      "needs_background": "light"
     },
     "output_type": "display_data"
    },
    {
     "name": "stdout",
     "output_type": "stream",
     "text": [
      "Class 5\n"
     ]
    },
    {
     "data": {
      "image/png": "[encoded data removed]",
      "text/plain": [
       "<Figure size 432x288 with 1 Axes>"
      ]
     },
     "metadata": {
      "needs_background": "light"
     },
     "output_type": "display_data"
    },
    {
     "name": "stdout",
     "output_type": "stream",
     "text": [
      "Class 6\n"
     ]
    },
    {
     "data": {
      "image/png": "[encoded data removed]",
      "text/plain": [
       "<Figure size 432x288 with 1 Axes>"
      ]
     },
     "metadata": {
      "needs_background": "light"
     },
     "output_type": "display_data"
    },
    {
     "name": "stdout",
     "output_type": "stream",
     "text": [
      "Class 7\n"
     ]
    },
    {
     "data": {
      "image/png": "[encoded data removed]",
      "text/plain": [
       "<Figure size 432x288 with 1 Axes>"
      ]
     },
     "metadata": {
      "needs_background": "light"
     },
     "output_type": "display_data"
    },
    {
     "name": "stdout",
     "output_type": "stream",
     "text": [
      "Class 8\n"
     ]
    },
    {
     "data": {
      "image/png": "[encoded data removed]",
      "text/plain": [
       "<Figure size 432x288 with 1 Axes>"
      ]
     },
     "metadata": {
      "needs_background": "light"
     },
     "output_type": "display_data"
    },
    {
     "name": "stdout",
     "output_type": "stream",
     "text": [
      "Class 9\n"
     ]
    },
    {
     "data": {
      "image/png": "[encoded data removed]",
      "text/plain": [
       "<Figure size 432x288 with 1 Axes>"
      ]
     },
     "metadata": {
      "needs_background": "light"
     },
     "output_type": "display_data"
    }
   ],
   "source": [
    "# Show cluster centers\n",
    "print(centroids.shape)\n",
    "show(centroids, classes)"
   ]
  },
  {
   "cell_type": "code",
   "execution_count": 14,
   "metadata": {},
   "outputs": [
    {
     "name": "stdout",
     "output_type": "stream",
     "text": [
      "0.8203\n"
     ]
    }
   ],
   "source": [
    "# Setup classifier\n",
    "classifier = KNeighborsClassifier(n_neighbors=1)\n",
    "\n",
    "# Fit\n",
    "classifier.fit(centroids, classes)\n",
    "\n",
    "# Score\n",
    "pred = classifier.predict(test_x_1)\n",
    "acc = accuracy_score(pred, test_y)\n",
    "print(acc)"
   ]
  },
  {
   "cell_type": "code",
   "execution_count": 15,
   "metadata": {},
   "outputs": [],
   "source": [
    "# Save best refs\n",
    "refs_10 = centroids\n",
    "np.save('output/knn_10_best', refs_10)"
   ]
  },
  {
   "cell_type": "markdown",
   "metadata": {},
   "source": [
    "### Решение задачи 3"
   ]
  },
  {
   "cell_type": "code",
   "execution_count": null,
   "metadata": {},
   "outputs": [],
   "source": [
    "# ваше решение задачи 3"
   ]
  },
  {
   "cell_type": "code",
   "execution_count": null,
   "metadata": {},
   "outputs": [],
   "source": []
  },
  {
   "cell_type": "markdown",
   "metadata": {},
   "source": [
    "# MISC"
   ]
  },
  {
   "cell_type": "code",
   "execution_count": null,
   "metadata": {},
   "outputs": [],
   "source": [
    "from sklearn.cluster import KMeans\n",
    "from sklearn.neighbors import KNeighborsClassifier\n",
    "from sklearn.metrics import accuracy_score\n",
    "from scipy.stats import mode"
   ]
  },
  {
   "cell_type": "code",
   "execution_count": null,
   "metadata": {},
   "outputs": [],
   "source": [
    "# Normalize data\n",
    "train_x_1 = train_x_1.astype(np.float32)\n",
    "test_x_1 = test_x_1.astype(np.float32)\n",
    "\n",
    "train_x_1 /= 255.\n",
    "test_x_1 /= 255."
   ]
  },
  {
   "cell_type": "code",
   "execution_count": null,
   "metadata": {},
   "outputs": [],
   "source": [
    "# Training set fraction\n",
    "def train_set(samples_num):\n",
    "    np.random.seed(123)\n",
    "    train_x_2 = np.empty((0, 784), dtype='uint8')\n",
    "    train_y_2 = np.empty(0, dtype='int')\n",
    "    for i in range(10):\n",
    "        indices_ = np.argwhere(train_y == i).flatten()\n",
    "        indices = np.random.choice(indices_, samples_num // 10)\n",
    "        train_x_2 = np.concatenate((train_x_2, train_x_1[indices]))\n",
    "        train_y_2 = np.concatenate((train_y_2, train_y[indices]))\n",
    "\n",
    "    return (train_x_2, train_y_2)\n",
    "\n",
    "# Quality measure\n",
    "def score(clusters, centers):\n",
    "    V = 0\n",
    "    for i in range(len(centers)):\n",
    "        for j in range(len(clusters[i])):\n",
    "            v1, v2 = clusters[i][j], centers[i]\n",
    "            norm = np.linalg.norm(v1 / np.max(v1) - v2 / np.max(v2))\n",
    "            # print(norm)\n",
    "            V += norm\n",
    "\n",
    "    return V\n",
    "\n",
    "# Assign cluster classes\n",
    "def classes(predict, target):\n",
    "    classes = []\n",
    "    for i in range(10):\n",
    "        mask = (predict == i)\n",
    "\n",
    "        # Get number of occurrences\n",
    "        count = np.bincount(target[mask], minlength=10)\n",
    "\n",
    "        # Nullify already used classes\n",
    "        count[classes] = 0\n",
    "\n",
    "        # Get index (i.e. class) of max value\n",
    "        class_ = np.argmax(count)\n",
    "\n",
    "        # Store class of i-th cluster\n",
    "        classes.append(class_)\n",
    "\n",
    "    return classes"
   ]
  },
  {
   "cell_type": "code",
   "execution_count": null,
   "metadata": {},
   "outputs": [],
   "source": [
    "data, target = train_x_1[:10000], train_y[:10000]  # train_set(len(train_x_1))\n",
    "k, sc = 200, -1\n",
    "cluster_centers = np.zeros((k, 784))\n",
    "cluster_classes = np.zeros(k, dtype='int')\n",
    "for i in range(100):\n",
    "    # Setup\n",
    "    km = KMeans(n_clusters=k)\n",
    "\n",
    "    # Train\n",
    "    km.fit(data)\n",
    "\n",
    "    # Get clusters\n",
    "    clusters = []\n",
    "    for j in range(k):\n",
    "        mask = (km.labels_ == j)\n",
    "        clusters.append(data[mask])\n",
    "\n",
    "    # Get score\n",
    "    sc_ = score(clusters, km.cluster_centers_)\n",
    "\n",
    "    # if sc == -1 or sc_ < sc:\n",
    "    #     sc = sc_\n",
    "    #     print('Best score:', sc)\n",
    "\n",
    "    #     # Save cluster centers\n",
    "    #     cluster_centers = km.cluster_centers_\n",
    "\n",
    "    #     # Save cluster classes\n",
    "    #     # cluster_classes = classes(km.labels_, target)\n",
    "\n",
    "    #     cluster_classes = np.zeros(k, dtype='int')\n",
    "    #     for i in range(k):\n",
    "    #         mask = (km.labels_ == i)\n",
    "    #         cluster_classes[i] = mode(target[mask])[0]\n",
    "\n",
    "    print('Step:', i, end='\\t')\n",
    "    print('k:', k, end='\\t')\n",
    "    print('Score:', sc_, end='\\n')\n",
    "\n",
    "    # Save cluster centers\n",
    "    cluster_centers = km.cluster_centers_\n",
    "\n",
    "    # Save cluster classes\n",
    "    cluster_classes = np.zeros(k, dtype='int')\n",
    "    for j in range(k):\n",
    "        mask = (km.labels_ == j)\n",
    "        cluster_classes[j] = mode(target[mask])[0]\n",
    "\n",
    "    # Update\n",
    "    if k == 10:\n",
    "        break\n",
    "\n",
    "    k -= 20\n",
    "\n",
    "    if k < 20:\n",
    "        k = 10\n",
    "    data, target = cluster_centers, cluster_classes"
   ]
  },
  {
   "cell_type": "code",
   "execution_count": null,
   "metadata": {},
   "outputs": [],
   "source": [
    "# Show cluster centers\n",
    "print(cluster_centers.shape)\n",
    "show(cluster_centers, cluster_classes)"
   ]
  },
  {
   "cell_type": "code",
   "execution_count": null,
   "metadata": {},
   "outputs": [],
   "source": [
    "# Setup classifier\n",
    "classifier = KNeighborsClassifier(n_neighbors=1)\n",
    "\n",
    "# Fit\n",
    "classifier.fit(cluster_centers, cluster_classes)\n",
    "\n",
    "# Score\n",
    "pred = classifier.predict(test_x_1)\n",
    "acc = accuracy_score(pred, test_y)\n",
    "print(acc)"
   ]
  }
 ],
 "metadata": {
  "interpreter": {
   "hash": "966f6ba3965b08eb5941c0fab8996b029005990ffce8550831c119a9f36d5935"
  },
  "kernelspec": {
   "display_name": "Python 3.6.7 64-bit",
   "name": "python3"
  },
  "language_info": {
   "codemirror_mode": {
    "name": "ipython",
    "version": 3
   },
   "file_extension": ".py",
   "mimetype": "text/x-python",
   "name": "python",
   "nbconvert_exporter": "python",
   "pygments_lexer": "ipython3",
   "version": "3.6.7"
  }
 },
 "nbformat": 4,
 "nbformat_minor": 2
}
