{
 "cells": [
  {
   "cell_type": "markdown",
   "metadata": {},
   "source": [
    "# Imports"
   ]
  },
  {
   "cell_type": "code",
   "execution_count": 26,
   "metadata": {},
   "outputs": [],
   "source": [
    "import csv\n",
    "import random\n",
    "import numpy as np\n",
    "from sklearn.neighbors import KNeighborsClassifier\n",
    "from sklearn.model_selection import GridSearchCV\n",
    "from sklearn.impute import KNNImputer"
   ]
  },
  {
   "cell_type": "code",
   "execution_count": 33,
   "metadata": {},
   "outputs": [],
   "source": [
    "random.seed(3927)"
   ]
  },
  {
   "cell_type": "markdown",
   "metadata": {},
   "source": [
    "# Input"
   ]
  },
  {
   "cell_type": "code",
   "execution_count": 14,
   "metadata": {},
   "outputs": [],
   "source": [
    "# Train\n",
    "X_train, y_train = [], []\n",
    "with open(\"input/train.csv\") as csvfile:\n",
    "    reader = csv.reader(csvfile, delimiter=',')\n",
    "    next(reader)\n",
    "    for row in reader:\n",
    "        sample = [f if f != '' else np.nan for f in row[1:-1]]\n",
    "        X_train.append(sample)\n",
    "        y_train.append(row[-1])\n",
    "X_train = np.array(X_train, dtype='float')\n",
    "y_train = np.array(y_train, dtype='int')"
   ]
  },
  {
   "cell_type": "code",
   "execution_count": 15,
   "metadata": {},
   "outputs": [],
   "source": [
    "# Test\n",
    "X_test = []\n",
    "with open(\"input/test.csv\") as csvfile:\n",
    "    reader = csv.reader(csvfile, delimiter=',')\n",
    "    next(reader)\n",
    "    for row in reader:\n",
    "        sample = [f if f != '' else np.nan for f in row[1:]]\n",
    "        X_test.append(sample)\n",
    "X_test = np.array(X_test, dtype='float')"
   ]
  },
  {
   "cell_type": "code",
   "execution_count": 65,
   "metadata": {},
   "outputs": [
    {
     "name": "stdout",
     "output_type": "stream",
     "text": [
      "[  -4.18782175  -13.97884594 -246.34682666  143.77128452           nan\n",
      "           nan  229.36080373   42.7291799    68.08876577  -14.35422206\n",
      "  379.53492634   41.19237186  -89.71246617   91.03940423           nan\n",
      " -248.25915654   43.75840381  -40.15463248   -6.52880772 -176.74953079\n",
      "   61.8727004   -89.54816069   32.41485189 -140.23182148  101.05476121\n",
      "  -66.80018827   -5.89607964  -18.33249994  148.83052828 -112.41496457\n",
      "   54.72238505  -66.32006108  157.46149586 -442.09197832   43.22645042\n",
      "  -34.06027759   81.55610722 -229.44176268  234.65191099  -22.79971451\n",
      " -104.71116142   53.57580542  -46.05744368  -90.01054161 -155.88275903\n",
      "  -99.35183224  -17.22170544   29.77794043  -52.29519064   86.38233725\n",
      "    5.38248447  -47.87198572   -8.33688219    2.3098171    48.31420518\n",
      "  101.67060799  -36.93306478  -89.90533254    9.08032462 -164.99263115\n",
      "   -9.79146639   -1.72402732  -70.50777472 -274.41528558  -21.89281345\n",
      "  110.34424102  -95.92101794   58.71223592  -51.03686555   31.53084503\n",
      "  119.19425205   29.57852537  111.12496588  -20.99731108   40.46468985\n",
      "  154.28703565  -46.45166002 -187.42913539 -203.77347279  225.60314235\n",
      "  830.14165897 -151.48268131    7.21805172 -423.33860035  284.85670869\n",
      " -156.06058911 -200.95999761   92.7644123   -12.27741642 -162.87150991\n",
      "  -50.16631464   20.66867204   44.86467535    9.41740044 -107.14690922\n",
      "  296.53805859   13.18425086  111.08820391   59.297607    -34.57816571\n",
      "  327.18181875  -61.48653912  -62.61552571  -67.8408954    23.5926802\n",
      "  124.80953773  -23.07720144    3.19031071  158.66038527  -83.84856107] 110 0\n"
     ]
    }
   ],
   "source": [
    "print(X_train[0], len(X_train[0]), y_train[0])"
   ]
  },
  {
   "cell_type": "code",
   "execution_count": 66,
   "metadata": {},
   "outputs": [
    {
     "name": "stdout",
     "output_type": "stream",
     "text": [
      "[          nan  -53.72676379           nan  -38.5621528  -138.35115709\n",
      "           nan   -0.94232273   41.17679205  -68.50197728   75.3381127\n",
      "  151.28076053           nan   86.35470457   61.98910919  -82.17675297\n",
      "  347.94990132  -20.65991763   50.67431442 -169.08435797  -21.5484204\n",
      "   36.7010437    17.36768281   71.37129652 -114.22083116 -120.35301608\n",
      "   85.43642352  -49.59181472  -86.53730854   23.82818363   19.59957773\n",
      "   13.15223138   58.21813062  -87.6321296   156.20635593   -7.99511485\n",
      "   63.58110861 -263.75929575 -144.56802354 -141.14883643   -6.81317708\n",
      " -107.76701598  -32.11995905   48.27804174 -102.16205616 -324.3721731\n",
      " -105.39509451   17.81982518   27.92826896  -81.89390493  -23.0515522\n",
      "   44.60344144   -5.88051479   97.00822487   29.37705413  -48.88012564\n",
      "   44.36204444  -87.01140815 -473.60999537  -71.46052784  188.72237556\n",
      "   25.96248948 -544.76717004  251.32125113  -49.53800268  119.05681115\n",
      "  -57.65147648  150.21279358 -233.41991507  191.3249957   -36.45332242\n",
      "   28.71150766  114.67754356   -9.77019165  151.11310803  103.13869684\n",
      "  -22.74034701   67.34361025 -222.15854212  -39.85205777   78.01126197\n",
      "  384.51062379   80.68435526  -83.94226174   70.93834303 -168.96860983\n",
      "  228.87375258  299.94340122 -113.01612054  -32.71060934  101.49742754\n",
      " -454.60865152   12.44275842  -49.46188869    6.95477568 -296.07146048\n",
      "  -36.86258101  -45.57239279  -95.72808081  -80.50026277  -42.6281099\n",
      " -402.4012896   -29.08870776  -78.80705275  -16.86201481  161.80516707\n",
      "  -50.5438576    -1.98935268   57.15566731  349.34650124 -143.96661618] 110\n"
     ]
    }
   ],
   "source": [
    "print(X_test[0], len(X_test[0]))"
   ]
  },
  {
   "cell_type": "markdown",
   "metadata": {},
   "source": [
    "# Impute missing values"
   ]
  },
  {
   "cell_type": "code",
   "execution_count": 17,
   "metadata": {},
   "outputs": [],
   "source": [
    "# Setup imputer\n",
    "imp = KNNImputer(weights='distance')"
   ]
  },
  {
   "cell_type": "code",
   "execution_count": 18,
   "metadata": {},
   "outputs": [],
   "source": [
    "# Train\n",
    "X_train_imp = imp.fit_transform(X_train)"
   ]
  },
  {
   "cell_type": "code",
   "execution_count": 19,
   "metadata": {},
   "outputs": [
    {
     "name": "stdout",
     "output_type": "stream",
     "text": [
      "[  -4.18782175  -13.97884594 -246.34682666  143.77128452   -1.01831486\n",
      "   57.27210684  229.36080373   42.7291799    68.08876577  -14.35422206\n",
      "  379.53492634   41.19237186  -89.71246617   91.03940423   -8.35974451\n",
      " -248.25915654   43.75840381  -40.15463248   -6.52880772 -176.74953079\n",
      "   61.8727004   -89.54816069   32.41485189 -140.23182148  101.05476121\n",
      "  -66.80018827   -5.89607964  -18.33249994  148.83052828 -112.41496457\n",
      "   54.72238505  -66.32006108  157.46149586 -442.09197832   43.22645042\n",
      "  -34.06027759   81.55610722 -229.44176268  234.65191099  -22.79971451\n",
      " -104.71116142   53.57580542  -46.05744368  -90.01054161 -155.88275903\n",
      "  -99.35183224  -17.22170544   29.77794043  -52.29519064   86.38233725\n",
      "    5.38248447  -47.87198572   -8.33688219    2.3098171    48.31420518\n",
      "  101.67060799  -36.93306478  -89.90533254    9.08032462 -164.99263115\n",
      "   -9.79146639   -1.72402732  -70.50777472 -274.41528558  -21.89281345\n",
      "  110.34424102  -95.92101794   58.71223592  -51.03686555   31.53084503\n",
      "  119.19425205   29.57852537  111.12496588  -20.99731108   40.46468985\n",
      "  154.28703565  -46.45166002 -187.42913539 -203.77347279  225.60314235\n",
      "  830.14165897 -151.48268131    7.21805172 -423.33860035  284.85670869\n",
      " -156.06058911 -200.95999761   92.7644123   -12.27741642 -162.87150991\n",
      "  -50.16631464   20.66867204   44.86467535    9.41740044 -107.14690922\n",
      "  296.53805859   13.18425086  111.08820391   59.297607    -34.57816571\n",
      "  327.18181875  -61.48653912  -62.61552571  -67.8408954    23.5926802\n",
      "  124.80953773  -23.07720144    3.19031071  158.66038527  -83.84856107] 110 0\n"
     ]
    }
   ],
   "source": [
    "print(X_train_imp[0], len(X_train_imp[0]), y_train[0])"
   ]
  },
  {
   "cell_type": "code",
   "execution_count": 20,
   "metadata": {},
   "outputs": [],
   "source": [
    "# Test\n",
    "X_test_imp = imp.fit_transform(X_test)"
   ]
  },
  {
   "cell_type": "code",
   "execution_count": 21,
   "metadata": {},
   "outputs": [
    {
     "name": "stdout",
     "output_type": "stream",
     "text": [
      "[  51.18136768  -53.72676379  130.12401065  -38.5621528  -138.35115709\n",
      "  153.03350057   -0.94232273   41.17679205  -68.50197728   75.3381127\n",
      "  151.28076053   35.84814657   86.35470457   61.98910919  -82.17675297\n",
      "  347.94990132  -20.65991763   50.67431442 -169.08435797  -21.5484204\n",
      "   36.7010437    17.36768281   71.37129652 -114.22083116 -120.35301608\n",
      "   85.43642352  -49.59181472  -86.53730854   23.82818363   19.59957773\n",
      "   13.15223138   58.21813062  -87.6321296   156.20635593   -7.99511485\n",
      "   63.58110861 -263.75929575 -144.56802354 -141.14883643   -6.81317708\n",
      " -107.76701598  -32.11995905   48.27804174 -102.16205616 -324.3721731\n",
      " -105.39509451   17.81982518   27.92826896  -81.89390493  -23.0515522\n",
      "   44.60344144   -5.88051479   97.00822487   29.37705413  -48.88012564\n",
      "   44.36204444  -87.01140815 -473.60999537  -71.46052784  188.72237556\n",
      "   25.96248948 -544.76717004  251.32125113  -49.53800268  119.05681115\n",
      "  -57.65147648  150.21279358 -233.41991507  191.3249957   -36.45332242\n",
      "   28.71150766  114.67754356   -9.77019165  151.11310803  103.13869684\n",
      "  -22.74034701   67.34361025 -222.15854212  -39.85205777   78.01126197\n",
      "  384.51062379   80.68435526  -83.94226174   70.93834303 -168.96860983\n",
      "  228.87375258  299.94340122 -113.01612054  -32.71060934  101.49742754\n",
      " -454.60865152   12.44275842  -49.46188869    6.95477568 -296.07146048\n",
      "  -36.86258101  -45.57239279  -95.72808081  -80.50026277  -42.6281099\n",
      " -402.4012896   -29.08870776  -78.80705275  -16.86201481  161.80516707\n",
      "  -50.5438576    -1.98935268   57.15566731  349.34650124 -143.96661618] 110\n"
     ]
    }
   ],
   "source": [
    "print(X_test_imp[0], len(X_test_imp[0]))"
   ]
  },
  {
   "cell_type": "markdown",
   "metadata": {},
   "source": [
    "# Perform cross-validation for KNN"
   ]
  },
  {
   "cell_type": "code",
   "execution_count": 36,
   "metadata": {},
   "outputs": [],
   "source": [
    "# Setup classifier\n",
    "classifier = KNeighborsClassifier()"
   ]
  },
  {
   "cell_type": "markdown",
   "metadata": {},
   "source": [
    "## Attempt \\#1"
   ]
  },
  {
   "cell_type": "code",
   "execution_count": 37,
   "metadata": {},
   "outputs": [],
   "source": [
    "# Setup params search\n",
    "params_grid = { 'n_neighbors': list(range(1, 10, 2)), \\\n",
    "                'weights': ['distance'], \\\n",
    "                'algorithm': ['kd_tree', 'ball_tree'] }\n",
    "res = GridSearchCV(classifier, params_grid, cv=5, refit=True)"
   ]
  },
  {
   "cell_type": "code",
   "execution_count": 38,
   "metadata": {},
   "outputs": [
    {
     "data": {
      "text/plain": [
       "GridSearchCV(cv=5, estimator=KNeighborsClassifier(),\n",
       "             param_grid={'algorithm': ['kd_tree', 'ball_tree'],\n",
       "                         'n_neighbors': [1, 3, 5, 7, 9],\n",
       "                         'weights': ['distance']})"
      ]
     },
     "execution_count": 38,
     "metadata": {},
     "output_type": "execute_result"
    }
   ],
   "source": [
    "# Fit\n",
    "count = len(X_train_imp)\n",
    "samples = random.sample(range(count), count // 10)\n",
    "res.fit(X_train_imp[samples], y_train[samples])"
   ]
  },
  {
   "cell_type": "code",
   "execution_count": 39,
   "metadata": {},
   "outputs": [
    {
     "name": "stdout",
     "output_type": "stream",
     "text": [
      "{'algorithm': 'kd_tree', 'leaf_size': 30, 'metric': 'minkowski', 'metric_params': None, 'n_jobs': None, 'n_neighbors': 9, 'p': 2, 'weights': 'distance'}\n"
     ]
    }
   ],
   "source": [
    "print(res.best_estimator_.get_params())"
   ]
  },
  {
   "cell_type": "markdown",
   "metadata": {},
   "source": [
    "## Attempt \\#2"
   ]
  },
  {
   "cell_type": "code",
   "execution_count": 41,
   "metadata": {},
   "outputs": [],
   "source": [
    "# Setup params search\n",
    "params_grid = { 'n_neighbors': list(range(1, 21)), \\\n",
    "                'weights': ['distance'], \\\n",
    "                'algorithm': ['kd_tree', 'ball_tree'] }\n",
    "res = GridSearchCV(classifier, params_grid, cv=5, refit=True)"
   ]
  },
  {
   "cell_type": "code",
   "execution_count": 42,
   "metadata": {},
   "outputs": [
    {
     "data": {
      "text/plain": [
       "GridSearchCV(cv=5, estimator=KNeighborsClassifier(),\n",
       "             param_grid={'algorithm': ['kd_tree', 'ball_tree'],\n",
       "                         'n_neighbors': [1, 2, 3, 4, 5, 6, 7, 8, 9, 10, 11, 12,\n",
       "                                         13, 14, 15, 16, 17, 18, 19, 20],\n",
       "                         'weights': ['distance']})"
      ]
     },
     "execution_count": 42,
     "metadata": {},
     "output_type": "execute_result"
    }
   ],
   "source": [
    "# Fit\n",
    "count = len(X_train_imp)\n",
    "samples = random.sample(range(count), count // 10)\n",
    "res.fit(X_train_imp[samples], y_train[samples])"
   ]
  },
  {
   "cell_type": "code",
   "execution_count": 43,
   "metadata": {},
   "outputs": [
    {
     "name": "stdout",
     "output_type": "stream",
     "text": [
      "{'algorithm': 'kd_tree', 'leaf_size': 30, 'metric': 'minkowski', 'metric_params': None, 'n_jobs': None, 'n_neighbors': 13, 'p': 2, 'weights': 'distance'}\n"
     ]
    }
   ],
   "source": [
    "print(res.best_estimator_.get_params())"
   ]
  },
  {
   "cell_type": "markdown",
   "metadata": {},
   "source": [
    "# Fit"
   ]
  },
  {
   "cell_type": "code",
   "execution_count": 60,
   "metadata": {},
   "outputs": [
    {
     "data": {
      "text/plain": [
       "KNeighborsClassifier(algorithm='kd_tree', n_neighbors=13, weights='distance')"
      ]
     },
     "execution_count": 60,
     "metadata": {},
     "output_type": "execute_result"
    }
   ],
   "source": [
    "classifier = KNeighborsClassifier(**res.best_estimator_.get_params())\n",
    "classifier.fit(X_train_imp, y_train)"
   ]
  },
  {
   "cell_type": "markdown",
   "metadata": {},
   "source": [
    "# Predict"
   ]
  },
  {
   "cell_type": "code",
   "execution_count": 62,
   "metadata": {},
   "outputs": [],
   "source": [
    "y_pred = classifier.predict(X_test_imp)"
   ]
  },
  {
   "cell_type": "code",
   "execution_count": 63,
   "metadata": {},
   "outputs": [
    {
     "name": "stdout",
     "output_type": "stream",
     "text": [
      "[4 7 3 4 9 5 5 5 1 2 7 8 6 5 4 1 7 0 7 1 3 8 7 1 1 9 4 6 3 9 3 6 3 4 5 6 7\n",
      " 6 8 8 1 5 1 5 3 6 1 6 1 6 2 1 3 9 7 6 8 0 2 3 6 3 0 9 9 0 8 9 2 3 6 3 6 1\n",
      " 2 1 2 2 7 9 4 3 5 8 1 9 6 1 7 9 9 8 7 4 4 6 6 9 2 4]\n"
     ]
    }
   ],
   "source": [
    "print(y_pred[:100])"
   ]
  },
  {
   "cell_type": "markdown",
   "metadata": {},
   "source": [
    "# Output"
   ]
  },
  {
   "cell_type": "code",
   "execution_count": 64,
   "metadata": {},
   "outputs": [],
   "source": [
    "with open(\"output/pred.csv\", 'w', newline='') as csvfile:\n",
    "    writer = csv.writer(csvfile, delimiter=',')\n",
    "    writer.writerow(('id', 'label'))\n",
    "    writer.writerows(zip(range(len(y_pred)), y_pred))"
   ]
  },
  {
   "cell_type": "code",
   "execution_count": null,
   "metadata": {},
   "outputs": [],
   "source": []
  }
 ],
 "metadata": {
  "interpreter": {
   "hash": "966f6ba3965b08eb5941c0fab8996b029005990ffce8550831c119a9f36d5935"
  },
  "kernelspec": {
   "display_name": "Python 3.6.7 64-bit",
   "name": "python3"
  },
  "language_info": {
   "codemirror_mode": {
    "name": "ipython",
    "version": 3
   },
   "file_extension": ".py",
   "mimetype": "text/x-python",
   "name": "python",
   "nbconvert_exporter": "python",
   "pygments_lexer": "ipython3",
   "version": "3.6.7"
  }
 },
 "nbformat": 4,
 "nbformat_minor": 2
}
