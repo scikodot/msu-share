{
 "cells": [
  {
   "cell_type": "code",
   "execution_count": 2,
   "metadata": {},
   "outputs": [],
   "source": [
    "df = pd.read_csv(\"input/train.csv\", index_col=False)"
   ]
  },
  {
   "cell_type": "code",
   "execution_count": 3,
   "metadata": {},
   "outputs": [
    {
     "data": {
      "text/html": [
       "<div>\n",
       "<style scoped>\n",
       "    .dataframe tbody tr th:only-of-type {\n",
       "        vertical-align: middle;\n",
       "    }\n",
       "\n",
       "    .dataframe tbody tr th {\n",
       "        vertical-align: top;\n",
       "    }\n",
       "\n",
       "    .dataframe thead th {\n",
       "        text-align: right;\n",
       "    }\n",
       "</style>\n",
       "<table border=\"1\" class=\"dataframe\">\n",
       "  <thead>\n",
       "    <tr style=\"text-align: right;\">\n",
       "      <th></th>\n",
       "      <th>id</th>\n",
       "      <th>f1</th>\n",
       "      <th>f2</th>\n",
       "      <th>f3</th>\n",
       "      <th>f4</th>\n",
       "      <th>f5</th>\n",
       "      <th>f6</th>\n",
       "      <th>f7</th>\n",
       "      <th>f8</th>\n",
       "      <th>f9</th>\n",
       "      <th>...</th>\n",
       "      <th>f282</th>\n",
       "      <th>f283</th>\n",
       "      <th>f284</th>\n",
       "      <th>f285</th>\n",
       "      <th>f286</th>\n",
       "      <th>f287</th>\n",
       "      <th>f288</th>\n",
       "      <th>f289</th>\n",
       "      <th>f290</th>\n",
       "      <th>target</th>\n",
       "    </tr>\n",
       "  </thead>\n",
       "  <tbody>\n",
       "    <tr>\n",
       "      <th>0</th>\n",
       "      <td>1</td>\n",
       "      <td>2014-01-29</td>\n",
       "      <td>69</td>\n",
       "      <td>38.0</td>\n",
       "      <td>7.0</td>\n",
       "      <td>10.0</td>\n",
       "      <td>1.0</td>\n",
       "      <td>2001.0</td>\n",
       "      <td>2.0</td>\n",
       "      <td>11.0</td>\n",
       "      <td>...</td>\n",
       "      <td>1</td>\n",
       "      <td>0</td>\n",
       "      <td>0</td>\n",
       "      <td>2</td>\n",
       "      <td>8</td>\n",
       "      <td>1</td>\n",
       "      <td>0</td>\n",
       "      <td>19</td>\n",
       "      <td>2</td>\n",
       "      <td>9500000</td>\n",
       "    </tr>\n",
       "    <tr>\n",
       "      <th>1</th>\n",
       "      <td>2</td>\n",
       "      <td>2014-04-07</td>\n",
       "      <td>55</td>\n",
       "      <td>NaN</td>\n",
       "      <td>2.0</td>\n",
       "      <td>1.0</td>\n",
       "      <td>4.0</td>\n",
       "      <td>NaN</td>\n",
       "      <td>2.0</td>\n",
       "      <td>10.0</td>\n",
       "      <td>...</td>\n",
       "      <td>0</td>\n",
       "      <td>0</td>\n",
       "      <td>0</td>\n",
       "      <td>0</td>\n",
       "      <td>4</td>\n",
       "      <td>0</td>\n",
       "      <td>0</td>\n",
       "      <td>2</td>\n",
       "      <td>0</td>\n",
       "      <td>3837949</td>\n",
       "    </tr>\n",
       "    <tr>\n",
       "      <th>2</th>\n",
       "      <td>3</td>\n",
       "      <td>2012-05-18</td>\n",
       "      <td>30</td>\n",
       "      <td>16.0</td>\n",
       "      <td>2.0</td>\n",
       "      <td>NaN</td>\n",
       "      <td>NaN</td>\n",
       "      <td>NaN</td>\n",
       "      <td>NaN</td>\n",
       "      <td>NaN</td>\n",
       "      <td>...</td>\n",
       "      <td>46</td>\n",
       "      <td>9</td>\n",
       "      <td>2</td>\n",
       "      <td>11</td>\n",
       "      <td>38</td>\n",
       "      <td>1</td>\n",
       "      <td>8</td>\n",
       "      <td>97</td>\n",
       "      <td>11</td>\n",
       "      <td>6250000</td>\n",
       "    </tr>\n",
       "    <tr>\n",
       "      <th>3</th>\n",
       "      <td>4</td>\n",
       "      <td>2013-02-08</td>\n",
       "      <td>44</td>\n",
       "      <td>43.0</td>\n",
       "      <td>1.0</td>\n",
       "      <td>NaN</td>\n",
       "      <td>NaN</td>\n",
       "      <td>NaN</td>\n",
       "      <td>NaN</td>\n",
       "      <td>NaN</td>\n",
       "      <td>...</td>\n",
       "      <td>17</td>\n",
       "      <td>4</td>\n",
       "      <td>1</td>\n",
       "      <td>12</td>\n",
       "      <td>12</td>\n",
       "      <td>0</td>\n",
       "      <td>1</td>\n",
       "      <td>55</td>\n",
       "      <td>7</td>\n",
       "      <td>2000000</td>\n",
       "    </tr>\n",
       "    <tr>\n",
       "      <th>4</th>\n",
       "      <td>5</td>\n",
       "      <td>2014-01-10</td>\n",
       "      <td>45</td>\n",
       "      <td>28.0</td>\n",
       "      <td>3.0</td>\n",
       "      <td>5.0</td>\n",
       "      <td>2.0</td>\n",
       "      <td>1960.0</td>\n",
       "      <td>2.0</td>\n",
       "      <td>5.0</td>\n",
       "      <td>...</td>\n",
       "      <td>20</td>\n",
       "      <td>2</td>\n",
       "      <td>0</td>\n",
       "      <td>4</td>\n",
       "      <td>16</td>\n",
       "      <td>1</td>\n",
       "      <td>4</td>\n",
       "      <td>47</td>\n",
       "      <td>5</td>\n",
       "      <td>6700000</td>\n",
       "    </tr>\n",
       "  </tbody>\n",
       "</table>\n",
       "<p>5 rows × 292 columns</p>\n",
       "</div>"
      ],
      "text/plain": [
       "   id          f1  f2    f3   f4    f5   f6      f7   f8    f9  ...  f282  \\\n",
       "0   1  2014-01-29  69  38.0  7.0  10.0  1.0  2001.0  2.0  11.0  ...     1   \n",
       "1   2  2014-04-07  55   NaN  2.0   1.0  4.0     NaN  2.0  10.0  ...     0   \n",
       "2   3  2012-05-18  30  16.0  2.0   NaN  NaN     NaN  NaN   NaN  ...    46   \n",
       "3   4  2013-02-08  44  43.0  1.0   NaN  NaN     NaN  NaN   NaN  ...    17   \n",
       "4   5  2014-01-10  45  28.0  3.0   5.0  2.0  1960.0  2.0   5.0  ...    20   \n",
       "\n",
       "  f283 f284  f285  f286  f287  f288  f289  f290   target  \n",
       "0    0    0     2     8     1     0    19     2  9500000  \n",
       "1    0    0     0     4     0     0     2     0  3837949  \n",
       "2    9    2    11    38     1     8    97    11  6250000  \n",
       "3    4    1    12    12     0     1    55     7  2000000  \n",
       "4    2    0     4    16     1     4    47     5  6700000  \n",
       "\n",
       "[5 rows x 292 columns]"
      ]
     },
     "execution_count": 3,
     "metadata": {},
     "output_type": "execute_result"
    }
   ],
   "source": [
    "df.head()"
   ]
  },
  {
   "cell_type": "code",
   "execution_count": 4,
   "metadata": {},
   "outputs": [
    {
     "data": {
      "text/plain": [
       "(24376, 292)"
      ]
     },
     "execution_count": 4,
     "metadata": {},
     "output_type": "execute_result"
    }
   ],
   "source": [
    "df.shape"
   ]
  },
  {
   "cell_type": "markdown",
   "metadata": {},
   "source": [
    "# Preprocessing"
   ]
  },
  {
   "cell_type": "markdown",
   "metadata": {},
   "source": [
    "## Check types"
   ]
  },
  {
   "cell_type": "code",
   "execution_count": 5,
   "metadata": {},
   "outputs": [
    {
     "data": {
      "text/plain": [
       "int64      157\n",
       "float64    119\n",
       "object      16\n",
       "dtype: int64"
      ]
     },
     "execution_count": 5,
     "metadata": {},
     "output_type": "execute_result"
    }
   ],
   "source": [
    "df.dtypes.value_counts()"
   ]
  },
  {
   "cell_type": "markdown",
   "metadata": {},
   "source": [
    "## Get notnums w/ indices"
   ]
  },
  {
   "cell_type": "code",
   "execution_count": 6,
   "metadata": {},
   "outputs": [
    {
     "data": {
      "text/plain": [
       "f1      object\n",
       "f11     object\n",
       "f12     object\n",
       "f29     object\n",
       "f33     object\n",
       "f34     object\n",
       "f35     object\n",
       "f36     object\n",
       "f37     object\n",
       "f38     object\n",
       "f39     object\n",
       "f40     object\n",
       "f106    object\n",
       "f114    object\n",
       "f118    object\n",
       "f152    object\n",
       "dtype: object"
      ]
     },
     "execution_count": 6,
     "metadata": {},
     "output_type": "execute_result"
    }
   ],
   "source": [
    "notnum = df.dtypes[df.dtypes == type(object)]\n",
    "notnum"
   ]
  },
  {
   "cell_type": "code",
   "execution_count": 7,
   "metadata": {},
   "outputs": [
    {
     "name": "stdout",
     "output_type": "stream",
     "text": [
      "['f1', 'f11', 'f12', 'f29', 'f33', 'f34', 'f35', 'f36', 'f37', 'f38', 'f39', 'f40', 'f106', 'f114', 'f118', 'f152']\n"
     ]
    }
   ],
   "source": [
    "notnum_index = list(notnum.index)\n",
    "print(notnum_index)"
   ]
  },
  {
   "cell_type": "code",
   "execution_count": 8,
   "metadata": {},
   "outputs": [
    {
     "data": {
      "text/html": [
       "<div>\n",
       "<style scoped>\n",
       "    .dataframe tbody tr th:only-of-type {\n",
       "        vertical-align: middle;\n",
       "    }\n",
       "\n",
       "    .dataframe tbody tr th {\n",
       "        vertical-align: top;\n",
       "    }\n",
       "\n",
       "    .dataframe thead th {\n",
       "        text-align: right;\n",
       "    }\n",
       "</style>\n",
       "<table border=\"1\" class=\"dataframe\">\n",
       "  <thead>\n",
       "    <tr style=\"text-align: right;\">\n",
       "      <th></th>\n",
       "      <th>f1</th>\n",
       "      <th>f11</th>\n",
       "      <th>f12</th>\n",
       "      <th>f29</th>\n",
       "      <th>f33</th>\n",
       "      <th>f34</th>\n",
       "      <th>f35</th>\n",
       "      <th>f36</th>\n",
       "      <th>f37</th>\n",
       "      <th>f38</th>\n",
       "      <th>f39</th>\n",
       "      <th>f40</th>\n",
       "      <th>f106</th>\n",
       "      <th>f114</th>\n",
       "      <th>f118</th>\n",
       "      <th>f152</th>\n",
       "    </tr>\n",
       "  </thead>\n",
       "  <tbody>\n",
       "    <tr>\n",
       "      <th>0</th>\n",
       "      <td>2014-01-29</td>\n",
       "      <td>Investment</td>\n",
       "      <td>Juzhnoe Butovo</td>\n",
       "      <td>no</td>\n",
       "      <td>no</td>\n",
       "      <td>no</td>\n",
       "      <td>no</td>\n",
       "      <td>no</td>\n",
       "      <td>no</td>\n",
       "      <td>no</td>\n",
       "      <td>no</td>\n",
       "      <td>no</td>\n",
       "      <td>no</td>\n",
       "      <td>no</td>\n",
       "      <td>no</td>\n",
       "      <td>good</td>\n",
       "    </tr>\n",
       "    <tr>\n",
       "      <th>1</th>\n",
       "      <td>2014-04-07</td>\n",
       "      <td>OwnerOccupier</td>\n",
       "      <td>Poselenie Filimonkovskoe</td>\n",
       "      <td>no</td>\n",
       "      <td>no</td>\n",
       "      <td>no</td>\n",
       "      <td>no</td>\n",
       "      <td>no</td>\n",
       "      <td>no</td>\n",
       "      <td>no</td>\n",
       "      <td>no</td>\n",
       "      <td>no</td>\n",
       "      <td>no</td>\n",
       "      <td>no</td>\n",
       "      <td>no</td>\n",
       "      <td>no data</td>\n",
       "    </tr>\n",
       "    <tr>\n",
       "      <th>2</th>\n",
       "      <td>2012-05-18</td>\n",
       "      <td>Investment</td>\n",
       "      <td>Lomonosovskoe</td>\n",
       "      <td>no</td>\n",
       "      <td>no</td>\n",
       "      <td>no</td>\n",
       "      <td>no</td>\n",
       "      <td>no</td>\n",
       "      <td>no</td>\n",
       "      <td>no</td>\n",
       "      <td>no</td>\n",
       "      <td>no</td>\n",
       "      <td>no</td>\n",
       "      <td>no</td>\n",
       "      <td>no</td>\n",
       "      <td>satisfactory</td>\n",
       "    </tr>\n",
       "    <tr>\n",
       "      <th>3</th>\n",
       "      <td>2013-02-08</td>\n",
       "      <td>Investment</td>\n",
       "      <td>Juzhnoe Tushino</td>\n",
       "      <td>no</td>\n",
       "      <td>no</td>\n",
       "      <td>no</td>\n",
       "      <td>no</td>\n",
       "      <td>no</td>\n",
       "      <td>no</td>\n",
       "      <td>no</td>\n",
       "      <td>no</td>\n",
       "      <td>no</td>\n",
       "      <td>no</td>\n",
       "      <td>no</td>\n",
       "      <td>no</td>\n",
       "      <td>poor</td>\n",
       "    </tr>\n",
       "    <tr>\n",
       "      <th>4</th>\n",
       "      <td>2014-01-10</td>\n",
       "      <td>Investment</td>\n",
       "      <td>Ochakovo-Matveevskoe</td>\n",
       "      <td>no</td>\n",
       "      <td>yes</td>\n",
       "      <td>no</td>\n",
       "      <td>no</td>\n",
       "      <td>no</td>\n",
       "      <td>no</td>\n",
       "      <td>no</td>\n",
       "      <td>no</td>\n",
       "      <td>no</td>\n",
       "      <td>no</td>\n",
       "      <td>no</td>\n",
       "      <td>no</td>\n",
       "      <td>satisfactory</td>\n",
       "    </tr>\n",
       "  </tbody>\n",
       "</table>\n",
       "</div>"
      ],
      "text/plain": [
       "           f1            f11                       f12 f29  f33 f34 f35 f36  \\\n",
       "0  2014-01-29     Investment            Juzhnoe Butovo  no   no  no  no  no   \n",
       "1  2014-04-07  OwnerOccupier  Poselenie Filimonkovskoe  no   no  no  no  no   \n",
       "2  2012-05-18     Investment             Lomonosovskoe  no   no  no  no  no   \n",
       "3  2013-02-08     Investment           Juzhnoe Tushino  no   no  no  no  no   \n",
       "4  2014-01-10     Investment      Ochakovo-Matveevskoe  no  yes  no  no  no   \n",
       "\n",
       "  f37 f38 f39 f40 f106 f114 f118          f152  \n",
       "0  no  no  no  no   no   no   no          good  \n",
       "1  no  no  no  no   no   no   no       no data  \n",
       "2  no  no  no  no   no   no   no  satisfactory  \n",
       "3  no  no  no  no   no   no   no          poor  \n",
       "4  no  no  no  no   no   no   no  satisfactory  "
      ]
     },
     "execution_count": 8,
     "metadata": {},
     "output_type": "execute_result"
    }
   ],
   "source": [
    "df[notnum_index].head()"
   ]
  },
  {
   "cell_type": "markdown",
   "metadata": {},
   "source": [
    "## Process f1"
   ]
  },
  {
   "cell_type": "code",
   "execution_count": 9,
   "metadata": {},
   "outputs": [
    {
     "data": {
      "text/html": [
       "<div>\n",
       "<style scoped>\n",
       "    .dataframe tbody tr th:only-of-type {\n",
       "        vertical-align: middle;\n",
       "    }\n",
       "\n",
       "    .dataframe tbody tr th {\n",
       "        vertical-align: top;\n",
       "    }\n",
       "\n",
       "    .dataframe thead th {\n",
       "        text-align: right;\n",
       "    }\n",
       "</style>\n",
       "<table border=\"1\" class=\"dataframe\">\n",
       "  <thead>\n",
       "    <tr style=\"text-align: right;\">\n",
       "      <th></th>\n",
       "      <th>f1y</th>\n",
       "      <th>f1m</th>\n",
       "      <th>f1d</th>\n",
       "    </tr>\n",
       "  </thead>\n",
       "  <tbody>\n",
       "    <tr>\n",
       "      <th>0</th>\n",
       "      <td>2014</td>\n",
       "      <td>1</td>\n",
       "      <td>29</td>\n",
       "    </tr>\n",
       "    <tr>\n",
       "      <th>1</th>\n",
       "      <td>2014</td>\n",
       "      <td>4</td>\n",
       "      <td>7</td>\n",
       "    </tr>\n",
       "    <tr>\n",
       "      <th>2</th>\n",
       "      <td>2012</td>\n",
       "      <td>5</td>\n",
       "      <td>18</td>\n",
       "    </tr>\n",
       "    <tr>\n",
       "      <th>3</th>\n",
       "      <td>2013</td>\n",
       "      <td>2</td>\n",
       "      <td>8</td>\n",
       "    </tr>\n",
       "    <tr>\n",
       "      <th>4</th>\n",
       "      <td>2014</td>\n",
       "      <td>1</td>\n",
       "      <td>10</td>\n",
       "    </tr>\n",
       "    <tr>\n",
       "      <th>...</th>\n",
       "      <td>...</td>\n",
       "      <td>...</td>\n",
       "      <td>...</td>\n",
       "    </tr>\n",
       "    <tr>\n",
       "      <th>24371</th>\n",
       "      <td>2014</td>\n",
       "      <td>12</td>\n",
       "      <td>21</td>\n",
       "    </tr>\n",
       "    <tr>\n",
       "      <th>24372</th>\n",
       "      <td>2012</td>\n",
       "      <td>5</td>\n",
       "      <td>10</td>\n",
       "    </tr>\n",
       "    <tr>\n",
       "      <th>24373</th>\n",
       "      <td>2013</td>\n",
       "      <td>12</td>\n",
       "      <td>18</td>\n",
       "    </tr>\n",
       "    <tr>\n",
       "      <th>24374</th>\n",
       "      <td>2014</td>\n",
       "      <td>12</td>\n",
       "      <td>8</td>\n",
       "    </tr>\n",
       "    <tr>\n",
       "      <th>24375</th>\n",
       "      <td>2015</td>\n",
       "      <td>4</td>\n",
       "      <td>30</td>\n",
       "    </tr>\n",
       "  </tbody>\n",
       "</table>\n",
       "<p>24376 rows × 3 columns</p>\n",
       "</div>"
      ],
      "text/plain": [
       "        f1y  f1m  f1d\n",
       "0      2014    1   29\n",
       "1      2014    4    7\n",
       "2      2012    5   18\n",
       "3      2013    2    8\n",
       "4      2014    1   10\n",
       "...     ...  ...  ...\n",
       "24371  2014   12   21\n",
       "24372  2012    5   10\n",
       "24373  2013   12   18\n",
       "24374  2014   12    8\n",
       "24375  2015    4   30\n",
       "\n",
       "[24376 rows x 3 columns]"
      ]
     },
     "execution_count": 9,
     "metadata": {},
     "output_type": "execute_result"
    }
   ],
   "source": [
    "ymd = df['f1'].str.split('-', expand=True).astype('int64').rename(columns={0: 'f1y', 1: 'f1m', 2: 'f1d'})\n",
    "ymd"
   ]
  },
  {
   "cell_type": "code",
   "execution_count": 10,
   "metadata": {},
   "outputs": [],
   "source": [
    "df_f1 = df.drop(['f1'], axis=1)\n",
    "df_f1.insert(1, 'f1y', ymd['f1y'])\n",
    "df_f1.insert(2, 'f1m', ymd['f1m'])\n",
    "df_f1.insert(3, 'f1d', ymd['f1d'])"
   ]
  },
  {
   "cell_type": "code",
   "execution_count": 11,
   "metadata": {},
   "outputs": [
    {
     "name": "stdout",
     "output_type": "stream",
     "text": [
      "['f1y', 'f1m', 'f1d', 'f11', 'f12', 'f29', 'f33', 'f34', 'f35', 'f36', 'f37', 'f38', 'f39', 'f40', 'f106', 'f114', 'f118', 'f152']\n"
     ]
    }
   ],
   "source": [
    "notnum_index = ['f1y', 'f1m', 'f1d'] + notnum_index[1:]\n",
    "print(notnum_index)"
   ]
  },
  {
   "cell_type": "code",
   "execution_count": 12,
   "metadata": {},
   "outputs": [
    {
     "data": {
      "text/html": [
       "<div>\n",
       "<style scoped>\n",
       "    .dataframe tbody tr th:only-of-type {\n",
       "        vertical-align: middle;\n",
       "    }\n",
       "\n",
       "    .dataframe tbody tr th {\n",
       "        vertical-align: top;\n",
       "    }\n",
       "\n",
       "    .dataframe thead th {\n",
       "        text-align: right;\n",
       "    }\n",
       "</style>\n",
       "<table border=\"1\" class=\"dataframe\">\n",
       "  <thead>\n",
       "    <tr style=\"text-align: right;\">\n",
       "      <th></th>\n",
       "      <th>f1y</th>\n",
       "      <th>f1m</th>\n",
       "      <th>f1d</th>\n",
       "      <th>f11</th>\n",
       "      <th>f12</th>\n",
       "      <th>f29</th>\n",
       "      <th>f33</th>\n",
       "      <th>f34</th>\n",
       "      <th>f35</th>\n",
       "      <th>f36</th>\n",
       "      <th>f37</th>\n",
       "      <th>f38</th>\n",
       "      <th>f39</th>\n",
       "      <th>f40</th>\n",
       "      <th>f106</th>\n",
       "      <th>f114</th>\n",
       "      <th>f118</th>\n",
       "      <th>f152</th>\n",
       "    </tr>\n",
       "  </thead>\n",
       "  <tbody>\n",
       "    <tr>\n",
       "      <th>0</th>\n",
       "      <td>2014</td>\n",
       "      <td>1</td>\n",
       "      <td>29</td>\n",
       "      <td>Investment</td>\n",
       "      <td>Juzhnoe Butovo</td>\n",
       "      <td>no</td>\n",
       "      <td>no</td>\n",
       "      <td>no</td>\n",
       "      <td>no</td>\n",
       "      <td>no</td>\n",
       "      <td>no</td>\n",
       "      <td>no</td>\n",
       "      <td>no</td>\n",
       "      <td>no</td>\n",
       "      <td>no</td>\n",
       "      <td>no</td>\n",
       "      <td>no</td>\n",
       "      <td>good</td>\n",
       "    </tr>\n",
       "    <tr>\n",
       "      <th>1</th>\n",
       "      <td>2014</td>\n",
       "      <td>4</td>\n",
       "      <td>7</td>\n",
       "      <td>OwnerOccupier</td>\n",
       "      <td>Poselenie Filimonkovskoe</td>\n",
       "      <td>no</td>\n",
       "      <td>no</td>\n",
       "      <td>no</td>\n",
       "      <td>no</td>\n",
       "      <td>no</td>\n",
       "      <td>no</td>\n",
       "      <td>no</td>\n",
       "      <td>no</td>\n",
       "      <td>no</td>\n",
       "      <td>no</td>\n",
       "      <td>no</td>\n",
       "      <td>no</td>\n",
       "      <td>no data</td>\n",
       "    </tr>\n",
       "    <tr>\n",
       "      <th>2</th>\n",
       "      <td>2012</td>\n",
       "      <td>5</td>\n",
       "      <td>18</td>\n",
       "      <td>Investment</td>\n",
       "      <td>Lomonosovskoe</td>\n",
       "      <td>no</td>\n",
       "      <td>no</td>\n",
       "      <td>no</td>\n",
       "      <td>no</td>\n",
       "      <td>no</td>\n",
       "      <td>no</td>\n",
       "      <td>no</td>\n",
       "      <td>no</td>\n",
       "      <td>no</td>\n",
       "      <td>no</td>\n",
       "      <td>no</td>\n",
       "      <td>no</td>\n",
       "      <td>satisfactory</td>\n",
       "    </tr>\n",
       "    <tr>\n",
       "      <th>3</th>\n",
       "      <td>2013</td>\n",
       "      <td>2</td>\n",
       "      <td>8</td>\n",
       "      <td>Investment</td>\n",
       "      <td>Juzhnoe Tushino</td>\n",
       "      <td>no</td>\n",
       "      <td>no</td>\n",
       "      <td>no</td>\n",
       "      <td>no</td>\n",
       "      <td>no</td>\n",
       "      <td>no</td>\n",
       "      <td>no</td>\n",
       "      <td>no</td>\n",
       "      <td>no</td>\n",
       "      <td>no</td>\n",
       "      <td>no</td>\n",
       "      <td>no</td>\n",
       "      <td>poor</td>\n",
       "    </tr>\n",
       "    <tr>\n",
       "      <th>4</th>\n",
       "      <td>2014</td>\n",
       "      <td>1</td>\n",
       "      <td>10</td>\n",
       "      <td>Investment</td>\n",
       "      <td>Ochakovo-Matveevskoe</td>\n",
       "      <td>no</td>\n",
       "      <td>yes</td>\n",
       "      <td>no</td>\n",
       "      <td>no</td>\n",
       "      <td>no</td>\n",
       "      <td>no</td>\n",
       "      <td>no</td>\n",
       "      <td>no</td>\n",
       "      <td>no</td>\n",
       "      <td>no</td>\n",
       "      <td>no</td>\n",
       "      <td>no</td>\n",
       "      <td>satisfactory</td>\n",
       "    </tr>\n",
       "  </tbody>\n",
       "</table>\n",
       "</div>"
      ],
      "text/plain": [
       "    f1y  f1m  f1d            f11                       f12 f29  f33 f34 f35  \\\n",
       "0  2014    1   29     Investment            Juzhnoe Butovo  no   no  no  no   \n",
       "1  2014    4    7  OwnerOccupier  Poselenie Filimonkovskoe  no   no  no  no   \n",
       "2  2012    5   18     Investment             Lomonosovskoe  no   no  no  no   \n",
       "3  2013    2    8     Investment           Juzhnoe Tushino  no   no  no  no   \n",
       "4  2014    1   10     Investment      Ochakovo-Matveevskoe  no  yes  no  no   \n",
       "\n",
       "  f36 f37 f38 f39 f40 f106 f114 f118          f152  \n",
       "0  no  no  no  no  no   no   no   no          good  \n",
       "1  no  no  no  no  no   no   no   no       no data  \n",
       "2  no  no  no  no  no   no   no   no  satisfactory  \n",
       "3  no  no  no  no  no   no   no   no          poor  \n",
       "4  no  no  no  no  no   no   no   no  satisfactory  "
      ]
     },
     "execution_count": 12,
     "metadata": {},
     "output_type": "execute_result"
    }
   ],
   "source": [
    "df_f1[notnum_index].head()"
   ]
  },
  {
   "cell_type": "markdown",
   "metadata": {},
   "source": [
    "## Process f11"
   ]
  },
  {
   "cell_type": "code",
   "execution_count": 13,
   "metadata": {},
   "outputs": [
    {
     "data": {
      "text/plain": [
       "array(['Investment', 'OwnerOccupier'], dtype=object)"
      ]
     },
     "execution_count": 13,
     "metadata": {},
     "output_type": "execute_result"
    }
   ],
   "source": [
    "f11_unique = df_f1['f11'].unique()\n",
    "f11_unique"
   ]
  },
  {
   "cell_type": "code",
   "execution_count": 14,
   "metadata": {},
   "outputs": [
    {
     "data": {
      "text/plain": [
       "{'Investment': 0, 'OwnerOccupier': 1}"
      ]
     },
     "execution_count": 14,
     "metadata": {},
     "output_type": "execute_result"
    }
   ],
   "source": [
    "f11_encode = dict(zip(f11_unique, range(len(f11_unique))))\n",
    "f11_encode"
   ]
  },
  {
   "cell_type": "code",
   "execution_count": 15,
   "metadata": {},
   "outputs": [
    {
     "data": {
      "text/html": [
       "<div>\n",
       "<style scoped>\n",
       "    .dataframe tbody tr th:only-of-type {\n",
       "        vertical-align: middle;\n",
       "    }\n",
       "\n",
       "    .dataframe tbody tr th {\n",
       "        vertical-align: top;\n",
       "    }\n",
       "\n",
       "    .dataframe thead th {\n",
       "        text-align: right;\n",
       "    }\n",
       "</style>\n",
       "<table border=\"1\" class=\"dataframe\">\n",
       "  <thead>\n",
       "    <tr style=\"text-align: right;\">\n",
       "      <th></th>\n",
       "      <th>f1y</th>\n",
       "      <th>f1m</th>\n",
       "      <th>f1d</th>\n",
       "      <th>f11</th>\n",
       "      <th>f12</th>\n",
       "      <th>f29</th>\n",
       "      <th>f33</th>\n",
       "      <th>f34</th>\n",
       "      <th>f35</th>\n",
       "      <th>f36</th>\n",
       "      <th>f37</th>\n",
       "      <th>f38</th>\n",
       "      <th>f39</th>\n",
       "      <th>f40</th>\n",
       "      <th>f106</th>\n",
       "      <th>f114</th>\n",
       "      <th>f118</th>\n",
       "      <th>f152</th>\n",
       "    </tr>\n",
       "  </thead>\n",
       "  <tbody>\n",
       "    <tr>\n",
       "      <th>0</th>\n",
       "      <td>2014</td>\n",
       "      <td>1</td>\n",
       "      <td>29</td>\n",
       "      <td>0</td>\n",
       "      <td>Juzhnoe Butovo</td>\n",
       "      <td>no</td>\n",
       "      <td>no</td>\n",
       "      <td>no</td>\n",
       "      <td>no</td>\n",
       "      <td>no</td>\n",
       "      <td>no</td>\n",
       "      <td>no</td>\n",
       "      <td>no</td>\n",
       "      <td>no</td>\n",
       "      <td>no</td>\n",
       "      <td>no</td>\n",
       "      <td>no</td>\n",
       "      <td>good</td>\n",
       "    </tr>\n",
       "    <tr>\n",
       "      <th>1</th>\n",
       "      <td>2014</td>\n",
       "      <td>4</td>\n",
       "      <td>7</td>\n",
       "      <td>1</td>\n",
       "      <td>Poselenie Filimonkovskoe</td>\n",
       "      <td>no</td>\n",
       "      <td>no</td>\n",
       "      <td>no</td>\n",
       "      <td>no</td>\n",
       "      <td>no</td>\n",
       "      <td>no</td>\n",
       "      <td>no</td>\n",
       "      <td>no</td>\n",
       "      <td>no</td>\n",
       "      <td>no</td>\n",
       "      <td>no</td>\n",
       "      <td>no</td>\n",
       "      <td>no data</td>\n",
       "    </tr>\n",
       "    <tr>\n",
       "      <th>2</th>\n",
       "      <td>2012</td>\n",
       "      <td>5</td>\n",
       "      <td>18</td>\n",
       "      <td>0</td>\n",
       "      <td>Lomonosovskoe</td>\n",
       "      <td>no</td>\n",
       "      <td>no</td>\n",
       "      <td>no</td>\n",
       "      <td>no</td>\n",
       "      <td>no</td>\n",
       "      <td>no</td>\n",
       "      <td>no</td>\n",
       "      <td>no</td>\n",
       "      <td>no</td>\n",
       "      <td>no</td>\n",
       "      <td>no</td>\n",
       "      <td>no</td>\n",
       "      <td>satisfactory</td>\n",
       "    </tr>\n",
       "    <tr>\n",
       "      <th>3</th>\n",
       "      <td>2013</td>\n",
       "      <td>2</td>\n",
       "      <td>8</td>\n",
       "      <td>0</td>\n",
       "      <td>Juzhnoe Tushino</td>\n",
       "      <td>no</td>\n",
       "      <td>no</td>\n",
       "      <td>no</td>\n",
       "      <td>no</td>\n",
       "      <td>no</td>\n",
       "      <td>no</td>\n",
       "      <td>no</td>\n",
       "      <td>no</td>\n",
       "      <td>no</td>\n",
       "      <td>no</td>\n",
       "      <td>no</td>\n",
       "      <td>no</td>\n",
       "      <td>poor</td>\n",
       "    </tr>\n",
       "    <tr>\n",
       "      <th>4</th>\n",
       "      <td>2014</td>\n",
       "      <td>1</td>\n",
       "      <td>10</td>\n",
       "      <td>0</td>\n",
       "      <td>Ochakovo-Matveevskoe</td>\n",
       "      <td>no</td>\n",
       "      <td>yes</td>\n",
       "      <td>no</td>\n",
       "      <td>no</td>\n",
       "      <td>no</td>\n",
       "      <td>no</td>\n",
       "      <td>no</td>\n",
       "      <td>no</td>\n",
       "      <td>no</td>\n",
       "      <td>no</td>\n",
       "      <td>no</td>\n",
       "      <td>no</td>\n",
       "      <td>satisfactory</td>\n",
       "    </tr>\n",
       "  </tbody>\n",
       "</table>\n",
       "</div>"
      ],
      "text/plain": [
       "    f1y  f1m  f1d  f11                       f12 f29  f33 f34 f35 f36 f37 f38  \\\n",
       "0  2014    1   29    0            Juzhnoe Butovo  no   no  no  no  no  no  no   \n",
       "1  2014    4    7    1  Poselenie Filimonkovskoe  no   no  no  no  no  no  no   \n",
       "2  2012    5   18    0             Lomonosovskoe  no   no  no  no  no  no  no   \n",
       "3  2013    2    8    0           Juzhnoe Tushino  no   no  no  no  no  no  no   \n",
       "4  2014    1   10    0      Ochakovo-Matveevskoe  no  yes  no  no  no  no  no   \n",
       "\n",
       "  f39 f40 f106 f114 f118          f152  \n",
       "0  no  no   no   no   no          good  \n",
       "1  no  no   no   no   no       no data  \n",
       "2  no  no   no   no   no  satisfactory  \n",
       "3  no  no   no   no   no          poor  \n",
       "4  no  no   no   no   no  satisfactory  "
      ]
     },
     "execution_count": 15,
     "metadata": {},
     "output_type": "execute_result"
    }
   ],
   "source": [
    "df_f11 = df_f1.replace({'f11': f11_encode})\n",
    "df_f11[notnum_index].head()"
   ]
  },
  {
   "cell_type": "markdown",
   "metadata": {},
   "source": [
    "## Process f12"
   ]
  },
  {
   "cell_type": "code",
   "execution_count": 16,
   "metadata": {},
   "outputs": [
    {
     "data": {
      "text/plain": [
       "array(['Juzhnoe Butovo', 'Poselenie Filimonkovskoe', 'Lomonosovskoe',\n",
       "       'Juzhnoe Tushino', 'Ochakovo-Matveevskoe', 'Poselenie Sosenskoe',\n",
       "       'Orehovo-Borisovo Juzhnoe', 'Hovrino', 'Sokol',\n",
       "       'Nagatinskij Zaton', \"Kon'kovo\", 'Obruchevskoe',\n",
       "       'Poselenie Vnukovskoe', 'Preobrazhenskoe', 'Poselenie Moskovskij',\n",
       "       'Bibirevo', 'Jasenevo', 'Mitino', 'Birjulevo Vostochnoe',\n",
       "       'Koptevo', 'Beskudnikovskoe', 'Butyrskoe', 'Losinoostrovskoe',\n",
       "       'Novo-Peredelkino', 'Caricyno', 'Veshnjaki', 'Tverskoe', 'Perovo',\n",
       "       'Jaroslavskoe', 'Strogino', 'Nekrasovka', 'Horoshevo-Mnevniki',\n",
       "       'Filevskij Park', 'Bogorodskoe', 'Savelki',\n",
       "       'Poselenie Desjonovskoe', \"Chertanovo Central'noe\",\n",
       "       'Timirjazevskoe', 'Zapadnoe Degunino', 'Pokrovskoe Streshnevo',\n",
       "       'Severnoe Butovo', 'Kapotnja', 'Sviblovo', 'Danilovskoe',\n",
       "       'Sokolinaja Gora', 'Vostochnoe Izmajlovo', 'Matushkino',\n",
       "       'Krjukovo', \"Krasnosel'skoe\", 'Ajeroport', 'Taganskoe',\n",
       "       'Cheremushki', 'Krylatskoe', 'Rostokino',\n",
       "       'Poselenie Novofedorovskoe', 'Brateevo', 'Novogireevo', 'Solncevo',\n",
       "       'Troparevo-Nikulino', 'Poselenie Shherbinka', 'Mozhajskoe',\n",
       "       'Nagatino-Sadovniki', 'Babushkinskoe', 'Poselenie Voskresenskoe',\n",
       "       'Presnenskoe', 'Fili Davydkovo', 'Kotlovka', 'Severnoe Tushino',\n",
       "       'Levoberezhnoe', 'Metrogorodok', 'Severnoe Izmajlovo', 'Jakimanka',\n",
       "       'Ramenki', 'Golovinskoe', \"Gol'janovo\", 'Novokosino',\n",
       "       'Chertanovo Juzhnoe', 'Vnukovo', \"Tekstil'shhiki\", \"Kuz'minki\",\n",
       "       'Poselenie Shhapovskoe', 'Pechatniki', 'Juzhnoe Medvedkovo',\n",
       "       'Akademicheskoe', 'Poselenie Mosrentgen', 'Izmajlovo', \"Mar'ino\",\n",
       "       'Ljublino', 'Dmitrovskoe', 'Meshhanskoe',\n",
       "       'Orehovo-Borisovo Severnoe', 'Alekseevskoe',\n",
       "       'Prospekt Vernadskogo', 'Shhukino', 'Basmannoe', 'Troickij okrug',\n",
       "       'Vojkovskoe', 'Horoshevskoe', 'Chertanovo Severnoe', 'Zjablikovo',\n",
       "       'Hamovniki', 'Marfino', 'Savelovskoe', 'Teplyj Stan', 'Otradnoe',\n",
       "       'Vyhino-Zhulebino', 'Silino', 'Ivanovskoe', 'Poselenie Rogovskoe',\n",
       "       'Kuncevo', 'Severnoe Medvedkovo', 'Rjazanskij',\n",
       "       'Poselenie Pervomajskoe', 'Zjuzino', 'Juzhnoportovoe', 'Nagornoe',\n",
       "       'Poselenie Krasnopahorskoe', \"Sokol'niki\", \"Altuf'evskoe\",\n",
       "       'Kosino-Uhtomskoe', 'Nizhegorodskoe', 'Dorogomilovo',\n",
       "       'Vostochnoe Degunino', 'Lianozovo', \"Mar'ina Roshha\",\n",
       "       'Gagarinskoe', 'Lefortovo', 'Staroe Krjukovo', 'Arbat',\n",
       "       \"Zamoskvorech'e\", 'Kurkino', \"Moskvorech'e-Saburovo\", 'Begovoe',\n",
       "       'Donskoe', 'Poselenie Marushkinskoe', 'Birjulevo Zapadnoe',\n",
       "       'Ostankinskoe', 'Poselenie Kokoshkino', 'Poselenie Rjazanovskoe',\n",
       "       'Poselenie Klenovskoe', 'Poselenie Voronovskoe', 'Severnoe',\n",
       "       'Vostochnoe', 'Poselenie Kievskij', 'Molzhaninovskoe',\n",
       "       'Poselenie Mihajlovo-Jarcevskoe'], dtype=object)"
      ]
     },
     "execution_count": 16,
     "metadata": {},
     "output_type": "execute_result"
    }
   ],
   "source": [
    "f12_unique = df_f11['f12'].unique()\n",
    "f12_unique"
   ]
  },
  {
   "cell_type": "code",
   "execution_count": 17,
   "metadata": {},
   "outputs": [
    {
     "data": {
      "text/plain": [
       "{'Juzhnoe Butovo': 0,\n",
       " 'Poselenie Filimonkovskoe': 1,\n",
       " 'Lomonosovskoe': 2,\n",
       " 'Juzhnoe Tushino': 3,\n",
       " 'Ochakovo-Matveevskoe': 4,\n",
       " 'Poselenie Sosenskoe': 5,\n",
       " 'Orehovo-Borisovo Juzhnoe': 6,\n",
       " 'Hovrino': 7,\n",
       " 'Sokol': 8,\n",
       " 'Nagatinskij Zaton': 9,\n",
       " \"Kon'kovo\": 10,\n",
       " 'Obruchevskoe': 11,\n",
       " 'Poselenie Vnukovskoe': 12,\n",
       " 'Preobrazhenskoe': 13,\n",
       " 'Poselenie Moskovskij': 14,\n",
       " 'Bibirevo': 15,\n",
       " 'Jasenevo': 16,\n",
       " 'Mitino': 17,\n",
       " 'Birjulevo Vostochnoe': 18,\n",
       " 'Koptevo': 19,\n",
       " 'Beskudnikovskoe': 20,\n",
       " 'Butyrskoe': 21,\n",
       " 'Losinoostrovskoe': 22,\n",
       " 'Novo-Peredelkino': 23,\n",
       " 'Caricyno': 24,\n",
       " 'Veshnjaki': 25,\n",
       " 'Tverskoe': 26,\n",
       " 'Perovo': 27,\n",
       " 'Jaroslavskoe': 28,\n",
       " 'Strogino': 29,\n",
       " 'Nekrasovka': 30,\n",
       " 'Horoshevo-Mnevniki': 31,\n",
       " 'Filevskij Park': 32,\n",
       " 'Bogorodskoe': 33,\n",
       " 'Savelki': 34,\n",
       " 'Poselenie Desjonovskoe': 35,\n",
       " \"Chertanovo Central'noe\": 36,\n",
       " 'Timirjazevskoe': 37,\n",
       " 'Zapadnoe Degunino': 38,\n",
       " 'Pokrovskoe Streshnevo': 39,\n",
       " 'Severnoe Butovo': 40,\n",
       " 'Kapotnja': 41,\n",
       " 'Sviblovo': 42,\n",
       " 'Danilovskoe': 43,\n",
       " 'Sokolinaja Gora': 44,\n",
       " 'Vostochnoe Izmajlovo': 45,\n",
       " 'Matushkino': 46,\n",
       " 'Krjukovo': 47,\n",
       " \"Krasnosel'skoe\": 48,\n",
       " 'Ajeroport': 49,\n",
       " 'Taganskoe': 50,\n",
       " 'Cheremushki': 51,\n",
       " 'Krylatskoe': 52,\n",
       " 'Rostokino': 53,\n",
       " 'Poselenie Novofedorovskoe': 54,\n",
       " 'Brateevo': 55,\n",
       " 'Novogireevo': 56,\n",
       " 'Solncevo': 57,\n",
       " 'Troparevo-Nikulino': 58,\n",
       " 'Poselenie Shherbinka': 59,\n",
       " 'Mozhajskoe': 60,\n",
       " 'Nagatino-Sadovniki': 61,\n",
       " 'Babushkinskoe': 62,\n",
       " 'Poselenie Voskresenskoe': 63,\n",
       " 'Presnenskoe': 64,\n",
       " 'Fili Davydkovo': 65,\n",
       " 'Kotlovka': 66,\n",
       " 'Severnoe Tushino': 67,\n",
       " 'Levoberezhnoe': 68,\n",
       " 'Metrogorodok': 69,\n",
       " 'Severnoe Izmajlovo': 70,\n",
       " 'Jakimanka': 71,\n",
       " 'Ramenki': 72,\n",
       " 'Golovinskoe': 73,\n",
       " \"Gol'janovo\": 74,\n",
       " 'Novokosino': 75,\n",
       " 'Chertanovo Juzhnoe': 76,\n",
       " 'Vnukovo': 77,\n",
       " \"Tekstil'shhiki\": 78,\n",
       " \"Kuz'minki\": 79,\n",
       " 'Poselenie Shhapovskoe': 80,\n",
       " 'Pechatniki': 81,\n",
       " 'Juzhnoe Medvedkovo': 82,\n",
       " 'Akademicheskoe': 83,\n",
       " 'Poselenie Mosrentgen': 84,\n",
       " 'Izmajlovo': 85,\n",
       " \"Mar'ino\": 86,\n",
       " 'Ljublino': 87,\n",
       " 'Dmitrovskoe': 88,\n",
       " 'Meshhanskoe': 89,\n",
       " 'Orehovo-Borisovo Severnoe': 90,\n",
       " 'Alekseevskoe': 91,\n",
       " 'Prospekt Vernadskogo': 92,\n",
       " 'Shhukino': 93,\n",
       " 'Basmannoe': 94,\n",
       " 'Troickij okrug': 95,\n",
       " 'Vojkovskoe': 96,\n",
       " 'Horoshevskoe': 97,\n",
       " 'Chertanovo Severnoe': 98,\n",
       " 'Zjablikovo': 99,\n",
       " 'Hamovniki': 100,\n",
       " 'Marfino': 101,\n",
       " 'Savelovskoe': 102,\n",
       " 'Teplyj Stan': 103,\n",
       " 'Otradnoe': 104,\n",
       " 'Vyhino-Zhulebino': 105,\n",
       " 'Silino': 106,\n",
       " 'Ivanovskoe': 107,\n",
       " 'Poselenie Rogovskoe': 108,\n",
       " 'Kuncevo': 109,\n",
       " 'Severnoe Medvedkovo': 110,\n",
       " 'Rjazanskij': 111,\n",
       " 'Poselenie Pervomajskoe': 112,\n",
       " 'Zjuzino': 113,\n",
       " 'Juzhnoportovoe': 114,\n",
       " 'Nagornoe': 115,\n",
       " 'Poselenie Krasnopahorskoe': 116,\n",
       " \"Sokol'niki\": 117,\n",
       " \"Altuf'evskoe\": 118,\n",
       " 'Kosino-Uhtomskoe': 119,\n",
       " 'Nizhegorodskoe': 120,\n",
       " 'Dorogomilovo': 121,\n",
       " 'Vostochnoe Degunino': 122,\n",
       " 'Lianozovo': 123,\n",
       " \"Mar'ina Roshha\": 124,\n",
       " 'Gagarinskoe': 125,\n",
       " 'Lefortovo': 126,\n",
       " 'Staroe Krjukovo': 127,\n",
       " 'Arbat': 128,\n",
       " \"Zamoskvorech'e\": 129,\n",
       " 'Kurkino': 130,\n",
       " \"Moskvorech'e-Saburovo\": 131,\n",
       " 'Begovoe': 132,\n",
       " 'Donskoe': 133,\n",
       " 'Poselenie Marushkinskoe': 134,\n",
       " 'Birjulevo Zapadnoe': 135,\n",
       " 'Ostankinskoe': 136,\n",
       " 'Poselenie Kokoshkino': 137,\n",
       " 'Poselenie Rjazanovskoe': 138,\n",
       " 'Poselenie Klenovskoe': 139,\n",
       " 'Poselenie Voronovskoe': 140,\n",
       " 'Severnoe': 141,\n",
       " 'Vostochnoe': 142,\n",
       " 'Poselenie Kievskij': 143,\n",
       " 'Molzhaninovskoe': 144,\n",
       " 'Poselenie Mihajlovo-Jarcevskoe': 145}"
      ]
     },
     "execution_count": 17,
     "metadata": {},
     "output_type": "execute_result"
    }
   ],
   "source": [
    "f12_encode = dict(zip(f12_unique, range(len(f12_unique))))\n",
    "f12_encode"
   ]
  },
  {
   "cell_type": "code",
   "execution_count": 18,
   "metadata": {},
   "outputs": [
    {
     "data": {
      "text/html": [
       "<div>\n",
       "<style scoped>\n",
       "    .dataframe tbody tr th:only-of-type {\n",
       "        vertical-align: middle;\n",
       "    }\n",
       "\n",
       "    .dataframe tbody tr th {\n",
       "        vertical-align: top;\n",
       "    }\n",
       "\n",
       "    .dataframe thead th {\n",
       "        text-align: right;\n",
       "    }\n",
       "</style>\n",
       "<table border=\"1\" class=\"dataframe\">\n",
       "  <thead>\n",
       "    <tr style=\"text-align: right;\">\n",
       "      <th></th>\n",
       "      <th>f1y</th>\n",
       "      <th>f1m</th>\n",
       "      <th>f1d</th>\n",
       "      <th>f11</th>\n",
       "      <th>f12</th>\n",
       "      <th>f29</th>\n",
       "      <th>f33</th>\n",
       "      <th>f34</th>\n",
       "      <th>f35</th>\n",
       "      <th>f36</th>\n",
       "      <th>f37</th>\n",
       "      <th>f38</th>\n",
       "      <th>f39</th>\n",
       "      <th>f40</th>\n",
       "      <th>f106</th>\n",
       "      <th>f114</th>\n",
       "      <th>f118</th>\n",
       "      <th>f152</th>\n",
       "    </tr>\n",
       "  </thead>\n",
       "  <tbody>\n",
       "    <tr>\n",
       "      <th>0</th>\n",
       "      <td>2014</td>\n",
       "      <td>1</td>\n",
       "      <td>29</td>\n",
       "      <td>0</td>\n",
       "      <td>0</td>\n",
       "      <td>no</td>\n",
       "      <td>no</td>\n",
       "      <td>no</td>\n",
       "      <td>no</td>\n",
       "      <td>no</td>\n",
       "      <td>no</td>\n",
       "      <td>no</td>\n",
       "      <td>no</td>\n",
       "      <td>no</td>\n",
       "      <td>no</td>\n",
       "      <td>no</td>\n",
       "      <td>no</td>\n",
       "      <td>good</td>\n",
       "    </tr>\n",
       "    <tr>\n",
       "      <th>1</th>\n",
       "      <td>2014</td>\n",
       "      <td>4</td>\n",
       "      <td>7</td>\n",
       "      <td>1</td>\n",
       "      <td>1</td>\n",
       "      <td>no</td>\n",
       "      <td>no</td>\n",
       "      <td>no</td>\n",
       "      <td>no</td>\n",
       "      <td>no</td>\n",
       "      <td>no</td>\n",
       "      <td>no</td>\n",
       "      <td>no</td>\n",
       "      <td>no</td>\n",
       "      <td>no</td>\n",
       "      <td>no</td>\n",
       "      <td>no</td>\n",
       "      <td>no data</td>\n",
       "    </tr>\n",
       "    <tr>\n",
       "      <th>2</th>\n",
       "      <td>2012</td>\n",
       "      <td>5</td>\n",
       "      <td>18</td>\n",
       "      <td>0</td>\n",
       "      <td>2</td>\n",
       "      <td>no</td>\n",
       "      <td>no</td>\n",
       "      <td>no</td>\n",
       "      <td>no</td>\n",
       "      <td>no</td>\n",
       "      <td>no</td>\n",
       "      <td>no</td>\n",
       "      <td>no</td>\n",
       "      <td>no</td>\n",
       "      <td>no</td>\n",
       "      <td>no</td>\n",
       "      <td>no</td>\n",
       "      <td>satisfactory</td>\n",
       "    </tr>\n",
       "    <tr>\n",
       "      <th>3</th>\n",
       "      <td>2013</td>\n",
       "      <td>2</td>\n",
       "      <td>8</td>\n",
       "      <td>0</td>\n",
       "      <td>3</td>\n",
       "      <td>no</td>\n",
       "      <td>no</td>\n",
       "      <td>no</td>\n",
       "      <td>no</td>\n",
       "      <td>no</td>\n",
       "      <td>no</td>\n",
       "      <td>no</td>\n",
       "      <td>no</td>\n",
       "      <td>no</td>\n",
       "      <td>no</td>\n",
       "      <td>no</td>\n",
       "      <td>no</td>\n",
       "      <td>poor</td>\n",
       "    </tr>\n",
       "    <tr>\n",
       "      <th>4</th>\n",
       "      <td>2014</td>\n",
       "      <td>1</td>\n",
       "      <td>10</td>\n",
       "      <td>0</td>\n",
       "      <td>4</td>\n",
       "      <td>no</td>\n",
       "      <td>yes</td>\n",
       "      <td>no</td>\n",
       "      <td>no</td>\n",
       "      <td>no</td>\n",
       "      <td>no</td>\n",
       "      <td>no</td>\n",
       "      <td>no</td>\n",
       "      <td>no</td>\n",
       "      <td>no</td>\n",
       "      <td>no</td>\n",
       "      <td>no</td>\n",
       "      <td>satisfactory</td>\n",
       "    </tr>\n",
       "  </tbody>\n",
       "</table>\n",
       "</div>"
      ],
      "text/plain": [
       "    f1y  f1m  f1d  f11  f12 f29  f33 f34 f35 f36 f37 f38 f39 f40 f106 f114  \\\n",
       "0  2014    1   29    0    0  no   no  no  no  no  no  no  no  no   no   no   \n",
       "1  2014    4    7    1    1  no   no  no  no  no  no  no  no  no   no   no   \n",
       "2  2012    5   18    0    2  no   no  no  no  no  no  no  no  no   no   no   \n",
       "3  2013    2    8    0    3  no   no  no  no  no  no  no  no  no   no   no   \n",
       "4  2014    1   10    0    4  no  yes  no  no  no  no  no  no  no   no   no   \n",
       "\n",
       "  f118          f152  \n",
       "0   no          good  \n",
       "1   no       no data  \n",
       "2   no  satisfactory  \n",
       "3   no          poor  \n",
       "4   no  satisfactory  "
      ]
     },
     "execution_count": 18,
     "metadata": {},
     "output_type": "execute_result"
    }
   ],
   "source": [
    "df_f12 = df_f11.replace({'f12': f12_encode})\n",
    "df_f12[notnum_index].head()"
   ]
  },
  {
   "cell_type": "markdown",
   "metadata": {},
   "source": [
    "## Process f29 - f118"
   ]
  },
  {
   "cell_type": "code",
   "execution_count": 19,
   "metadata": {},
   "outputs": [
    {
     "name": "stdout",
     "output_type": "stream",
     "text": [
      "['f29', 'f33', 'f34', 'f35', 'f36', 'f37', 'f38', 'f39', 'f40', 'f106', 'f114', 'f118']\n"
     ]
    }
   ],
   "source": [
    "notnum_bools = notnum_index[5:-1]\n",
    "print(notnum_bools)"
   ]
  },
  {
   "cell_type": "code",
   "execution_count": 20,
   "metadata": {},
   "outputs": [
    {
     "data": {
      "text/plain": [
       "{'no', 'yes'}"
      ]
     },
     "execution_count": 20,
     "metadata": {},
     "output_type": "execute_result"
    }
   ],
   "source": [
    "bools_unique = set(np.array([df_f12[col].unique() for col in notnum_bools]).flatten())\n",
    "bools_unique"
   ]
  },
  {
   "cell_type": "code",
   "execution_count": 21,
   "metadata": {},
   "outputs": [
    {
     "data": {
      "text/plain": [
       "{'yes': 0, 'no': 1}"
      ]
     },
     "execution_count": 21,
     "metadata": {},
     "output_type": "execute_result"
    }
   ],
   "source": [
    "bools_encode = dict(zip(bools_unique, range(len(bools_unique))))\n",
    "bools_encode"
   ]
  },
  {
   "cell_type": "code",
   "execution_count": 22,
   "metadata": {},
   "outputs": [
    {
     "data": {
      "text/html": [
       "<div>\n",
       "<style scoped>\n",
       "    .dataframe tbody tr th:only-of-type {\n",
       "        vertical-align: middle;\n",
       "    }\n",
       "\n",
       "    .dataframe tbody tr th {\n",
       "        vertical-align: top;\n",
       "    }\n",
       "\n",
       "    .dataframe thead th {\n",
       "        text-align: right;\n",
       "    }\n",
       "</style>\n",
       "<table border=\"1\" class=\"dataframe\">\n",
       "  <thead>\n",
       "    <tr style=\"text-align: right;\">\n",
       "      <th></th>\n",
       "      <th>f1y</th>\n",
       "      <th>f1m</th>\n",
       "      <th>f1d</th>\n",
       "      <th>f11</th>\n",
       "      <th>f12</th>\n",
       "      <th>f29</th>\n",
       "      <th>f33</th>\n",
       "      <th>f34</th>\n",
       "      <th>f35</th>\n",
       "      <th>f36</th>\n",
       "      <th>f37</th>\n",
       "      <th>f38</th>\n",
       "      <th>f39</th>\n",
       "      <th>f40</th>\n",
       "      <th>f106</th>\n",
       "      <th>f114</th>\n",
       "      <th>f118</th>\n",
       "      <th>f152</th>\n",
       "    </tr>\n",
       "  </thead>\n",
       "  <tbody>\n",
       "    <tr>\n",
       "      <th>0</th>\n",
       "      <td>2014</td>\n",
       "      <td>1</td>\n",
       "      <td>29</td>\n",
       "      <td>0</td>\n",
       "      <td>0</td>\n",
       "      <td>1</td>\n",
       "      <td>1</td>\n",
       "      <td>1</td>\n",
       "      <td>1</td>\n",
       "      <td>1</td>\n",
       "      <td>1</td>\n",
       "      <td>1</td>\n",
       "      <td>1</td>\n",
       "      <td>1</td>\n",
       "      <td>1</td>\n",
       "      <td>1</td>\n",
       "      <td>1</td>\n",
       "      <td>good</td>\n",
       "    </tr>\n",
       "    <tr>\n",
       "      <th>1</th>\n",
       "      <td>2014</td>\n",
       "      <td>4</td>\n",
       "      <td>7</td>\n",
       "      <td>1</td>\n",
       "      <td>1</td>\n",
       "      <td>1</td>\n",
       "      <td>1</td>\n",
       "      <td>1</td>\n",
       "      <td>1</td>\n",
       "      <td>1</td>\n",
       "      <td>1</td>\n",
       "      <td>1</td>\n",
       "      <td>1</td>\n",
       "      <td>1</td>\n",
       "      <td>1</td>\n",
       "      <td>1</td>\n",
       "      <td>1</td>\n",
       "      <td>no data</td>\n",
       "    </tr>\n",
       "    <tr>\n",
       "      <th>2</th>\n",
       "      <td>2012</td>\n",
       "      <td>5</td>\n",
       "      <td>18</td>\n",
       "      <td>0</td>\n",
       "      <td>2</td>\n",
       "      <td>1</td>\n",
       "      <td>1</td>\n",
       "      <td>1</td>\n",
       "      <td>1</td>\n",
       "      <td>1</td>\n",
       "      <td>1</td>\n",
       "      <td>1</td>\n",
       "      <td>1</td>\n",
       "      <td>1</td>\n",
       "      <td>1</td>\n",
       "      <td>1</td>\n",
       "      <td>1</td>\n",
       "      <td>satisfactory</td>\n",
       "    </tr>\n",
       "    <tr>\n",
       "      <th>3</th>\n",
       "      <td>2013</td>\n",
       "      <td>2</td>\n",
       "      <td>8</td>\n",
       "      <td>0</td>\n",
       "      <td>3</td>\n",
       "      <td>1</td>\n",
       "      <td>1</td>\n",
       "      <td>1</td>\n",
       "      <td>1</td>\n",
       "      <td>1</td>\n",
       "      <td>1</td>\n",
       "      <td>1</td>\n",
       "      <td>1</td>\n",
       "      <td>1</td>\n",
       "      <td>1</td>\n",
       "      <td>1</td>\n",
       "      <td>1</td>\n",
       "      <td>poor</td>\n",
       "    </tr>\n",
       "    <tr>\n",
       "      <th>4</th>\n",
       "      <td>2014</td>\n",
       "      <td>1</td>\n",
       "      <td>10</td>\n",
       "      <td>0</td>\n",
       "      <td>4</td>\n",
       "      <td>1</td>\n",
       "      <td>0</td>\n",
       "      <td>1</td>\n",
       "      <td>1</td>\n",
       "      <td>1</td>\n",
       "      <td>1</td>\n",
       "      <td>1</td>\n",
       "      <td>1</td>\n",
       "      <td>1</td>\n",
       "      <td>1</td>\n",
       "      <td>1</td>\n",
       "      <td>1</td>\n",
       "      <td>satisfactory</td>\n",
       "    </tr>\n",
       "  </tbody>\n",
       "</table>\n",
       "</div>"
      ],
      "text/plain": [
       "    f1y  f1m  f1d  f11  f12  f29  f33  f34  f35  f36  f37  f38  f39  f40  \\\n",
       "0  2014    1   29    0    0    1    1    1    1    1    1    1    1    1   \n",
       "1  2014    4    7    1    1    1    1    1    1    1    1    1    1    1   \n",
       "2  2012    5   18    0    2    1    1    1    1    1    1    1    1    1   \n",
       "3  2013    2    8    0    3    1    1    1    1    1    1    1    1    1   \n",
       "4  2014    1   10    0    4    1    0    1    1    1    1    1    1    1   \n",
       "\n",
       "   f106  f114  f118          f152  \n",
       "0     1     1     1          good  \n",
       "1     1     1     1       no data  \n",
       "2     1     1     1  satisfactory  \n",
       "3     1     1     1          poor  \n",
       "4     1     1     1  satisfactory  "
      ]
     },
     "execution_count": 22,
     "metadata": {},
     "output_type": "execute_result"
    }
   ],
   "source": [
    "df_bools = df_f12.replace(dict.fromkeys(notnum_bools, bools_encode))\n",
    "df_bools[notnum_index].head()"
   ]
  },
  {
   "cell_type": "markdown",
   "metadata": {},
   "source": [
    "## Process f152"
   ]
  },
  {
   "cell_type": "code",
   "execution_count": 23,
   "metadata": {},
   "outputs": [
    {
     "data": {
      "text/plain": [
       "array(['good', 'no data', 'satisfactory', 'poor', 'excellent'],\n",
       "      dtype=object)"
      ]
     },
     "execution_count": 23,
     "metadata": {},
     "output_type": "execute_result"
    }
   ],
   "source": [
    "f152_unique = df_bools['f152'].unique()\n",
    "f152_unique"
   ]
  },
  {
   "cell_type": "code",
   "execution_count": 24,
   "metadata": {},
   "outputs": [
    {
     "data": {
      "text/plain": [
       "{'no data': 0, 'poor': 1, 'satisfactory': 2, 'good': 3, 'excellent': 4}"
      ]
     },
     "execution_count": 24,
     "metadata": {},
     "output_type": "execute_result"
    }
   ],
   "source": [
    "f152_encode = dict(zip(['no data', 'poor', 'satisfactory', 'good', 'excellent'], range(5)))\n",
    "f152_encode"
   ]
  },
  {
   "cell_type": "code",
   "execution_count": 25,
   "metadata": {},
   "outputs": [
    {
     "data": {
      "text/html": [
       "<div>\n",
       "<style scoped>\n",
       "    .dataframe tbody tr th:only-of-type {\n",
       "        vertical-align: middle;\n",
       "    }\n",
       "\n",
       "    .dataframe tbody tr th {\n",
       "        vertical-align: top;\n",
       "    }\n",
       "\n",
       "    .dataframe thead th {\n",
       "        text-align: right;\n",
       "    }\n",
       "</style>\n",
       "<table border=\"1\" class=\"dataframe\">\n",
       "  <thead>\n",
       "    <tr style=\"text-align: right;\">\n",
       "      <th></th>\n",
       "      <th>f1y</th>\n",
       "      <th>f1m</th>\n",
       "      <th>f1d</th>\n",
       "      <th>f11</th>\n",
       "      <th>f12</th>\n",
       "      <th>f29</th>\n",
       "      <th>f33</th>\n",
       "      <th>f34</th>\n",
       "      <th>f35</th>\n",
       "      <th>f36</th>\n",
       "      <th>f37</th>\n",
       "      <th>f38</th>\n",
       "      <th>f39</th>\n",
       "      <th>f40</th>\n",
       "      <th>f106</th>\n",
       "      <th>f114</th>\n",
       "      <th>f118</th>\n",
       "      <th>f152</th>\n",
       "    </tr>\n",
       "  </thead>\n",
       "  <tbody>\n",
       "    <tr>\n",
       "      <th>0</th>\n",
       "      <td>2014</td>\n",
       "      <td>1</td>\n",
       "      <td>29</td>\n",
       "      <td>0</td>\n",
       "      <td>0</td>\n",
       "      <td>1</td>\n",
       "      <td>1</td>\n",
       "      <td>1</td>\n",
       "      <td>1</td>\n",
       "      <td>1</td>\n",
       "      <td>1</td>\n",
       "      <td>1</td>\n",
       "      <td>1</td>\n",
       "      <td>1</td>\n",
       "      <td>1</td>\n",
       "      <td>1</td>\n",
       "      <td>1</td>\n",
       "      <td>3</td>\n",
       "    </tr>\n",
       "    <tr>\n",
       "      <th>1</th>\n",
       "      <td>2014</td>\n",
       "      <td>4</td>\n",
       "      <td>7</td>\n",
       "      <td>1</td>\n",
       "      <td>1</td>\n",
       "      <td>1</td>\n",
       "      <td>1</td>\n",
       "      <td>1</td>\n",
       "      <td>1</td>\n",
       "      <td>1</td>\n",
       "      <td>1</td>\n",
       "      <td>1</td>\n",
       "      <td>1</td>\n",
       "      <td>1</td>\n",
       "      <td>1</td>\n",
       "      <td>1</td>\n",
       "      <td>1</td>\n",
       "      <td>0</td>\n",
       "    </tr>\n",
       "    <tr>\n",
       "      <th>2</th>\n",
       "      <td>2012</td>\n",
       "      <td>5</td>\n",
       "      <td>18</td>\n",
       "      <td>0</td>\n",
       "      <td>2</td>\n",
       "      <td>1</td>\n",
       "      <td>1</td>\n",
       "      <td>1</td>\n",
       "      <td>1</td>\n",
       "      <td>1</td>\n",
       "      <td>1</td>\n",
       "      <td>1</td>\n",
       "      <td>1</td>\n",
       "      <td>1</td>\n",
       "      <td>1</td>\n",
       "      <td>1</td>\n",
       "      <td>1</td>\n",
       "      <td>2</td>\n",
       "    </tr>\n",
       "    <tr>\n",
       "      <th>3</th>\n",
       "      <td>2013</td>\n",
       "      <td>2</td>\n",
       "      <td>8</td>\n",
       "      <td>0</td>\n",
       "      <td>3</td>\n",
       "      <td>1</td>\n",
       "      <td>1</td>\n",
       "      <td>1</td>\n",
       "      <td>1</td>\n",
       "      <td>1</td>\n",
       "      <td>1</td>\n",
       "      <td>1</td>\n",
       "      <td>1</td>\n",
       "      <td>1</td>\n",
       "      <td>1</td>\n",
       "      <td>1</td>\n",
       "      <td>1</td>\n",
       "      <td>1</td>\n",
       "    </tr>\n",
       "    <tr>\n",
       "      <th>4</th>\n",
       "      <td>2014</td>\n",
       "      <td>1</td>\n",
       "      <td>10</td>\n",
       "      <td>0</td>\n",
       "      <td>4</td>\n",
       "      <td>1</td>\n",
       "      <td>0</td>\n",
       "      <td>1</td>\n",
       "      <td>1</td>\n",
       "      <td>1</td>\n",
       "      <td>1</td>\n",
       "      <td>1</td>\n",
       "      <td>1</td>\n",
       "      <td>1</td>\n",
       "      <td>1</td>\n",
       "      <td>1</td>\n",
       "      <td>1</td>\n",
       "      <td>2</td>\n",
       "    </tr>\n",
       "  </tbody>\n",
       "</table>\n",
       "</div>"
      ],
      "text/plain": [
       "    f1y  f1m  f1d  f11  f12  f29  f33  f34  f35  f36  f37  f38  f39  f40  \\\n",
       "0  2014    1   29    0    0    1    1    1    1    1    1    1    1    1   \n",
       "1  2014    4    7    1    1    1    1    1    1    1    1    1    1    1   \n",
       "2  2012    5   18    0    2    1    1    1    1    1    1    1    1    1   \n",
       "3  2013    2    8    0    3    1    1    1    1    1    1    1    1    1   \n",
       "4  2014    1   10    0    4    1    0    1    1    1    1    1    1    1   \n",
       "\n",
       "   f106  f114  f118  f152  \n",
       "0     1     1     1     3  \n",
       "1     1     1     1     0  \n",
       "2     1     1     1     2  \n",
       "3     1     1     1     1  \n",
       "4     1     1     1     2  "
      ]
     },
     "execution_count": 25,
     "metadata": {},
     "output_type": "execute_result"
    }
   ],
   "source": [
    "df_f152 = df_bools.replace({'f152': f152_encode})\n",
    "df_f152[notnum_index].head()"
   ]
  },
  {
   "cell_type": "markdown",
   "metadata": {},
   "source": [
    "## Obtain result"
   ]
  },
  {
   "cell_type": "code",
   "execution_count": 26,
   "metadata": {},
   "outputs": [
    {
     "data": {
      "text/html": [
       "<div>\n",
       "<style scoped>\n",
       "    .dataframe tbody tr th:only-of-type {\n",
       "        vertical-align: middle;\n",
       "    }\n",
       "\n",
       "    .dataframe tbody tr th {\n",
       "        vertical-align: top;\n",
       "    }\n",
       "\n",
       "    .dataframe thead th {\n",
       "        text-align: right;\n",
       "    }\n",
       "</style>\n",
       "<table border=\"1\" class=\"dataframe\">\n",
       "  <thead>\n",
       "    <tr style=\"text-align: right;\">\n",
       "      <th></th>\n",
       "      <th>id</th>\n",
       "      <th>f1y</th>\n",
       "      <th>f1m</th>\n",
       "      <th>f1d</th>\n",
       "      <th>f2</th>\n",
       "      <th>f3</th>\n",
       "      <th>f4</th>\n",
       "      <th>f5</th>\n",
       "      <th>f6</th>\n",
       "      <th>f7</th>\n",
       "      <th>...</th>\n",
       "      <th>f282</th>\n",
       "      <th>f283</th>\n",
       "      <th>f284</th>\n",
       "      <th>f285</th>\n",
       "      <th>f286</th>\n",
       "      <th>f287</th>\n",
       "      <th>f288</th>\n",
       "      <th>f289</th>\n",
       "      <th>f290</th>\n",
       "      <th>target</th>\n",
       "    </tr>\n",
       "  </thead>\n",
       "  <tbody>\n",
       "    <tr>\n",
       "      <th>0</th>\n",
       "      <td>1</td>\n",
       "      <td>2014</td>\n",
       "      <td>1</td>\n",
       "      <td>29</td>\n",
       "      <td>69</td>\n",
       "      <td>38.0</td>\n",
       "      <td>7.0</td>\n",
       "      <td>10.0</td>\n",
       "      <td>1.0</td>\n",
       "      <td>2001.0</td>\n",
       "      <td>...</td>\n",
       "      <td>1</td>\n",
       "      <td>0</td>\n",
       "      <td>0</td>\n",
       "      <td>2</td>\n",
       "      <td>8</td>\n",
       "      <td>1</td>\n",
       "      <td>0</td>\n",
       "      <td>19</td>\n",
       "      <td>2</td>\n",
       "      <td>9500000</td>\n",
       "    </tr>\n",
       "    <tr>\n",
       "      <th>1</th>\n",
       "      <td>2</td>\n",
       "      <td>2014</td>\n",
       "      <td>4</td>\n",
       "      <td>7</td>\n",
       "      <td>55</td>\n",
       "      <td>NaN</td>\n",
       "      <td>2.0</td>\n",
       "      <td>1.0</td>\n",
       "      <td>4.0</td>\n",
       "      <td>NaN</td>\n",
       "      <td>...</td>\n",
       "      <td>0</td>\n",
       "      <td>0</td>\n",
       "      <td>0</td>\n",
       "      <td>0</td>\n",
       "      <td>4</td>\n",
       "      <td>0</td>\n",
       "      <td>0</td>\n",
       "      <td>2</td>\n",
       "      <td>0</td>\n",
       "      <td>3837949</td>\n",
       "    </tr>\n",
       "    <tr>\n",
       "      <th>2</th>\n",
       "      <td>3</td>\n",
       "      <td>2012</td>\n",
       "      <td>5</td>\n",
       "      <td>18</td>\n",
       "      <td>30</td>\n",
       "      <td>16.0</td>\n",
       "      <td>2.0</td>\n",
       "      <td>NaN</td>\n",
       "      <td>NaN</td>\n",
       "      <td>NaN</td>\n",
       "      <td>...</td>\n",
       "      <td>46</td>\n",
       "      <td>9</td>\n",
       "      <td>2</td>\n",
       "      <td>11</td>\n",
       "      <td>38</td>\n",
       "      <td>1</td>\n",
       "      <td>8</td>\n",
       "      <td>97</td>\n",
       "      <td>11</td>\n",
       "      <td>6250000</td>\n",
       "    </tr>\n",
       "    <tr>\n",
       "      <th>3</th>\n",
       "      <td>4</td>\n",
       "      <td>2013</td>\n",
       "      <td>2</td>\n",
       "      <td>8</td>\n",
       "      <td>44</td>\n",
       "      <td>43.0</td>\n",
       "      <td>1.0</td>\n",
       "      <td>NaN</td>\n",
       "      <td>NaN</td>\n",
       "      <td>NaN</td>\n",
       "      <td>...</td>\n",
       "      <td>17</td>\n",
       "      <td>4</td>\n",
       "      <td>1</td>\n",
       "      <td>12</td>\n",
       "      <td>12</td>\n",
       "      <td>0</td>\n",
       "      <td>1</td>\n",
       "      <td>55</td>\n",
       "      <td>7</td>\n",
       "      <td>2000000</td>\n",
       "    </tr>\n",
       "    <tr>\n",
       "      <th>4</th>\n",
       "      <td>5</td>\n",
       "      <td>2014</td>\n",
       "      <td>1</td>\n",
       "      <td>10</td>\n",
       "      <td>45</td>\n",
       "      <td>28.0</td>\n",
       "      <td>3.0</td>\n",
       "      <td>5.0</td>\n",
       "      <td>2.0</td>\n",
       "      <td>1960.0</td>\n",
       "      <td>...</td>\n",
       "      <td>20</td>\n",
       "      <td>2</td>\n",
       "      <td>0</td>\n",
       "      <td>4</td>\n",
       "      <td>16</td>\n",
       "      <td>1</td>\n",
       "      <td>4</td>\n",
       "      <td>47</td>\n",
       "      <td>5</td>\n",
       "      <td>6700000</td>\n",
       "    </tr>\n",
       "  </tbody>\n",
       "</table>\n",
       "<p>5 rows × 294 columns</p>\n",
       "</div>"
      ],
      "text/plain": [
       "   id   f1y  f1m  f1d  f2    f3   f4    f5   f6      f7  ...  f282  f283  \\\n",
       "0   1  2014    1   29  69  38.0  7.0  10.0  1.0  2001.0  ...     1     0   \n",
       "1   2  2014    4    7  55   NaN  2.0   1.0  4.0     NaN  ...     0     0   \n",
       "2   3  2012    5   18  30  16.0  2.0   NaN  NaN     NaN  ...    46     9   \n",
       "3   4  2013    2    8  44  43.0  1.0   NaN  NaN     NaN  ...    17     4   \n",
       "4   5  2014    1   10  45  28.0  3.0   5.0  2.0  1960.0  ...    20     2   \n",
       "\n",
       "   f284  f285  f286  f287  f288  f289  f290   target  \n",
       "0     0     2     8     1     0    19     2  9500000  \n",
       "1     0     0     4     0     0     2     0  3837949  \n",
       "2     2    11    38     1     8    97    11  6250000  \n",
       "3     1    12    12     0     1    55     7  2000000  \n",
       "4     0     4    16     1     4    47     5  6700000  \n",
       "\n",
       "[5 rows x 294 columns]"
      ]
     },
     "execution_count": 26,
     "metadata": {},
     "output_type": "execute_result"
    }
   ],
   "source": [
    "df_final = df_f152.copy()\n",
    "df_final.head()"
   ]
  },
  {
   "cell_type": "markdown",
   "metadata": {},
   "source": [
    "## Check NaNs"
   ]
  },
  {
   "cell_type": "code",
   "execution_count": 27,
   "metadata": {},
   "outputs": [
    {
     "data": {
      "text/plain": [
       "51"
      ]
     },
     "execution_count": 27,
     "metadata": {},
     "output_type": "execute_result"
    }
   ],
   "source": [
    "nans_cols = df_final.isna().sum()\n",
    "nans_cols[nans_cols > 0].count()"
   ]
  },
  {
   "cell_type": "code",
   "execution_count": 28,
   "metadata": {},
   "outputs": [
    {
     "data": {
      "text/plain": [
       "array([dtype('float64')], dtype=object)"
      ]
     },
     "execution_count": 28,
     "metadata": {},
     "output_type": "execute_result"
    }
   ],
   "source": [
    "df_final[nans_cols[nans_cols > 0].index].dtypes.unique()"
   ]
  },
  {
   "cell_type": "code",
   "execution_count": 29,
   "metadata": {},
   "outputs": [
    {
     "data": {
      "text/plain": [
       "172      40\n",
       "554      40\n",
       "785      40\n",
       "1052     40\n",
       "1359     40\n",
       "         ..\n",
       "22921    40\n",
       "23466    40\n",
       "23550    40\n",
       "24236    40\n",
       "24316    41\n",
       "Length: 155, dtype: int64"
      ]
     },
     "execution_count": 29,
     "metadata": {},
     "output_type": "execute_result"
    }
   ],
   "source": [
    "nans_rows = df_final.isna().sum(axis=1)\n",
    "nans_rows[nans_rows >= 40]"
   ]
  },
  {
   "cell_type": "code",
   "execution_count": 30,
   "metadata": {},
   "outputs": [
    {
     "name": "stdout",
     "output_type": "stream",
     "text": [
      "[172, 554, 785, 1052, 1359, 1495, 1646, 1812, 1997, 2133, 2249, 2302, 2529, 2542, 2678, 2684, 2781, 2801, 2861, 3251, 3254, 3699, 3904, 3959, 4208, 4365, 4544, 4656, 4834, 4929, 4941, 5151, 5159, 5277, 5474, 5621, 5634, 5691, 5805, 6092, 6191, 6256, 6347, 6388, 6524, 6862, 6876, 7066, 7202, 7259, 7506, 7508, 7575, 7618, 7625, 7694, 7796, 7980, 8119, 8184, 8484, 8673, 8834, 9290, 9632, 9693, 9786, 10247, 10427, 10572, 10639, 11016, 11281, 11394, 11648, 11857, 12249, 12556, 12625, 13322, 13330, 13498, 13592, 13696, 13772, 13911, 13996, 14014, 14062, 14331, 14345, 14518, 14925, 14999, 15026, 15086, 15313, 15359, 15493, 15679, 15812, 15916, 16036, 16129, 16532, 16820, 16965, 17116, 17534, 17574, 17971, 18011, 18037, 18053, 18256, 18311, 18334, 18429, 18475, 18532, 18630, 18632, 18691, 19155, 19187, 19253, 19429, 19523, 19792, 20051, 20087, 20279, 20435, 20650, 20927, 21346, 21410, 21508, 21570, 21735, 22029, 22096, 22195, 22210, 22235, 22258, 22324, 22356, 22477, 22608, 22921, 23466, 23550, 24236, 24316]\n"
     ]
    }
   ],
   "source": [
    "print(list(nans_rows[nans_rows >= 40].index))"
   ]
  },
  {
   "cell_type": "markdown",
   "metadata": {},
   "source": [
    "## Remove too dirty entries"
   ]
  },
  {
   "cell_type": "code",
   "execution_count": 31,
   "metadata": {},
   "outputs": [
    {
     "data": {
      "text/plain": [
       "(24221, 294)"
      ]
     },
     "execution_count": 31,
     "metadata": {},
     "output_type": "execute_result"
    }
   ],
   "source": [
    "df_nans = df_final.drop(list(nans_rows[nans_rows >= 40].index))\n",
    "df_nans.shape"
   ]
  },
  {
   "cell_type": "markdown",
   "metadata": {},
   "source": [
    "## Impute missing values with KNN"
   ]
  },
  {
   "cell_type": "code",
   "execution_count": 32,
   "metadata": {},
   "outputs": [],
   "source": [
    "from sklearn.impute import KNNImputer\n",
    "\n",
    "imputer = KNNImputer(weights='distance')"
   ]
  },
  {
   "cell_type": "code",
   "execution_count": 33,
   "metadata": {},
   "outputs": [],
   "source": [
    "df_imp = imputer.fit_transform(df_nans)"
   ]
  },
  {
   "cell_type": "code",
   "execution_count": 34,
   "metadata": {},
   "outputs": [
    {
     "data": {
      "text/html": [
       "<div>\n",
       "<style scoped>\n",
       "    .dataframe tbody tr th:only-of-type {\n",
       "        vertical-align: middle;\n",
       "    }\n",
       "\n",
       "    .dataframe tbody tr th {\n",
       "        vertical-align: top;\n",
       "    }\n",
       "\n",
       "    .dataframe thead th {\n",
       "        text-align: right;\n",
       "    }\n",
       "</style>\n",
       "<table border=\"1\" class=\"dataframe\">\n",
       "  <thead>\n",
       "    <tr style=\"text-align: right;\">\n",
       "      <th></th>\n",
       "      <th>id</th>\n",
       "      <th>f1y</th>\n",
       "      <th>f1m</th>\n",
       "      <th>f1d</th>\n",
       "      <th>f2</th>\n",
       "      <th>f3</th>\n",
       "      <th>f4</th>\n",
       "      <th>f5</th>\n",
       "      <th>f6</th>\n",
       "      <th>f7</th>\n",
       "      <th>...</th>\n",
       "      <th>f282</th>\n",
       "      <th>f283</th>\n",
       "      <th>f284</th>\n",
       "      <th>f285</th>\n",
       "      <th>f286</th>\n",
       "      <th>f287</th>\n",
       "      <th>f288</th>\n",
       "      <th>f289</th>\n",
       "      <th>f290</th>\n",
       "      <th>target</th>\n",
       "    </tr>\n",
       "  </thead>\n",
       "  <tbody>\n",
       "    <tr>\n",
       "      <th>0</th>\n",
       "      <td>1.0</td>\n",
       "      <td>2014.0</td>\n",
       "      <td>1.0</td>\n",
       "      <td>29.0</td>\n",
       "      <td>69.0</td>\n",
       "      <td>38.00000</td>\n",
       "      <td>7.0</td>\n",
       "      <td>10.00000</td>\n",
       "      <td>1.000000</td>\n",
       "      <td>2001.000000</td>\n",
       "      <td>...</td>\n",
       "      <td>1.0</td>\n",
       "      <td>0.0</td>\n",
       "      <td>0.0</td>\n",
       "      <td>2.0</td>\n",
       "      <td>8.0</td>\n",
       "      <td>1.0</td>\n",
       "      <td>0.0</td>\n",
       "      <td>19.0</td>\n",
       "      <td>2.0</td>\n",
       "      <td>9500000.0</td>\n",
       "    </tr>\n",
       "    <tr>\n",
       "      <th>1</th>\n",
       "      <td>2.0</td>\n",
       "      <td>2014.0</td>\n",
       "      <td>4.0</td>\n",
       "      <td>7.0</td>\n",
       "      <td>55.0</td>\n",
       "      <td>48.13174</td>\n",
       "      <td>2.0</td>\n",
       "      <td>1.00000</td>\n",
       "      <td>4.000000</td>\n",
       "      <td>1591.150833</td>\n",
       "      <td>...</td>\n",
       "      <td>0.0</td>\n",
       "      <td>0.0</td>\n",
       "      <td>0.0</td>\n",
       "      <td>0.0</td>\n",
       "      <td>4.0</td>\n",
       "      <td>0.0</td>\n",
       "      <td>0.0</td>\n",
       "      <td>2.0</td>\n",
       "      <td>0.0</td>\n",
       "      <td>3837949.0</td>\n",
       "    </tr>\n",
       "    <tr>\n",
       "      <th>2</th>\n",
       "      <td>3.0</td>\n",
       "      <td>2012.0</td>\n",
       "      <td>5.0</td>\n",
       "      <td>18.0</td>\n",
       "      <td>30.0</td>\n",
       "      <td>16.00000</td>\n",
       "      <td>2.0</td>\n",
       "      <td>7.29370</td>\n",
       "      <td>3.732457</td>\n",
       "      <td>1961.927529</td>\n",
       "      <td>...</td>\n",
       "      <td>46.0</td>\n",
       "      <td>9.0</td>\n",
       "      <td>2.0</td>\n",
       "      <td>11.0</td>\n",
       "      <td>38.0</td>\n",
       "      <td>1.0</td>\n",
       "      <td>8.0</td>\n",
       "      <td>97.0</td>\n",
       "      <td>11.0</td>\n",
       "      <td>6250000.0</td>\n",
       "    </tr>\n",
       "    <tr>\n",
       "      <th>3</th>\n",
       "      <td>4.0</td>\n",
       "      <td>2013.0</td>\n",
       "      <td>2.0</td>\n",
       "      <td>8.0</td>\n",
       "      <td>44.0</td>\n",
       "      <td>43.00000</td>\n",
       "      <td>1.0</td>\n",
       "      <td>8.78533</td>\n",
       "      <td>1.428214</td>\n",
       "      <td>1970.661667</td>\n",
       "      <td>...</td>\n",
       "      <td>17.0</td>\n",
       "      <td>4.0</td>\n",
       "      <td>1.0</td>\n",
       "      <td>12.0</td>\n",
       "      <td>12.0</td>\n",
       "      <td>0.0</td>\n",
       "      <td>1.0</td>\n",
       "      <td>55.0</td>\n",
       "      <td>7.0</td>\n",
       "      <td>2000000.0</td>\n",
       "    </tr>\n",
       "    <tr>\n",
       "      <th>4</th>\n",
       "      <td>5.0</td>\n",
       "      <td>2014.0</td>\n",
       "      <td>1.0</td>\n",
       "      <td>10.0</td>\n",
       "      <td>45.0</td>\n",
       "      <td>28.00000</td>\n",
       "      <td>3.0</td>\n",
       "      <td>5.00000</td>\n",
       "      <td>2.000000</td>\n",
       "      <td>1960.000000</td>\n",
       "      <td>...</td>\n",
       "      <td>20.0</td>\n",
       "      <td>2.0</td>\n",
       "      <td>0.0</td>\n",
       "      <td>4.0</td>\n",
       "      <td>16.0</td>\n",
       "      <td>1.0</td>\n",
       "      <td>4.0</td>\n",
       "      <td>47.0</td>\n",
       "      <td>5.0</td>\n",
       "      <td>6700000.0</td>\n",
       "    </tr>\n",
       "  </tbody>\n",
       "</table>\n",
       "<p>5 rows × 294 columns</p>\n",
       "</div>"
      ],
      "text/plain": [
       "    id     f1y  f1m   f1d    f2        f3   f4        f5        f6  \\\n",
       "0  1.0  2014.0  1.0  29.0  69.0  38.00000  7.0  10.00000  1.000000   \n",
       "1  2.0  2014.0  4.0   7.0  55.0  48.13174  2.0   1.00000  4.000000   \n",
       "2  3.0  2012.0  5.0  18.0  30.0  16.00000  2.0   7.29370  3.732457   \n",
       "3  4.0  2013.0  2.0   8.0  44.0  43.00000  1.0   8.78533  1.428214   \n",
       "4  5.0  2014.0  1.0  10.0  45.0  28.00000  3.0   5.00000  2.000000   \n",
       "\n",
       "            f7  ...  f282  f283  f284  f285  f286  f287  f288  f289  f290  \\\n",
       "0  2001.000000  ...   1.0   0.0   0.0   2.0   8.0   1.0   0.0  19.0   2.0   \n",
       "1  1591.150833  ...   0.0   0.0   0.0   0.0   4.0   0.0   0.0   2.0   0.0   \n",
       "2  1961.927529  ...  46.0   9.0   2.0  11.0  38.0   1.0   8.0  97.0  11.0   \n",
       "3  1970.661667  ...  17.0   4.0   1.0  12.0  12.0   0.0   1.0  55.0   7.0   \n",
       "4  1960.000000  ...  20.0   2.0   0.0   4.0  16.0   1.0   4.0  47.0   5.0   \n",
       "\n",
       "      target  \n",
       "0  9500000.0  \n",
       "1  3837949.0  \n",
       "2  6250000.0  \n",
       "3  2000000.0  \n",
       "4  6700000.0  \n",
       "\n",
       "[5 rows x 294 columns]"
      ]
     },
     "execution_count": 34,
     "metadata": {},
     "output_type": "execute_result"
    }
   ],
   "source": [
    "df_imp2 = pd.DataFrame(df_imp, columns=df_final.columns)\n",
    "df_imp2.head()"
   ]
  },
  {
   "cell_type": "code",
   "execution_count": 35,
   "metadata": {},
   "outputs": [
    {
     "data": {
      "text/html": [
       "<div>\n",
       "<style scoped>\n",
       "    .dataframe tbody tr th:only-of-type {\n",
       "        vertical-align: middle;\n",
       "    }\n",
       "\n",
       "    .dataframe tbody tr th {\n",
       "        vertical-align: top;\n",
       "    }\n",
       "\n",
       "    .dataframe thead th {\n",
       "        text-align: right;\n",
       "    }\n",
       "</style>\n",
       "<table border=\"1\" class=\"dataframe\">\n",
       "  <thead>\n",
       "    <tr style=\"text-align: right;\">\n",
       "      <th></th>\n",
       "      <th>id</th>\n",
       "      <th>f1y</th>\n",
       "      <th>f1m</th>\n",
       "      <th>f1d</th>\n",
       "      <th>f2</th>\n",
       "      <th>f3</th>\n",
       "      <th>f4</th>\n",
       "      <th>f5</th>\n",
       "      <th>f6</th>\n",
       "      <th>f7</th>\n",
       "      <th>...</th>\n",
       "      <th>f282</th>\n",
       "      <th>f283</th>\n",
       "      <th>f284</th>\n",
       "      <th>f285</th>\n",
       "      <th>f286</th>\n",
       "      <th>f287</th>\n",
       "      <th>f288</th>\n",
       "      <th>f289</th>\n",
       "      <th>f290</th>\n",
       "      <th>target</th>\n",
       "    </tr>\n",
       "  </thead>\n",
       "  <tbody>\n",
       "    <tr>\n",
       "      <th>0</th>\n",
       "      <td>1</td>\n",
       "      <td>2014</td>\n",
       "      <td>1</td>\n",
       "      <td>29</td>\n",
       "      <td>69</td>\n",
       "      <td>38.0</td>\n",
       "      <td>7.0</td>\n",
       "      <td>10.0</td>\n",
       "      <td>1.0</td>\n",
       "      <td>2001.0</td>\n",
       "      <td>...</td>\n",
       "      <td>1</td>\n",
       "      <td>0</td>\n",
       "      <td>0</td>\n",
       "      <td>2</td>\n",
       "      <td>8</td>\n",
       "      <td>1</td>\n",
       "      <td>0</td>\n",
       "      <td>19</td>\n",
       "      <td>2</td>\n",
       "      <td>9500000</td>\n",
       "    </tr>\n",
       "    <tr>\n",
       "      <th>1</th>\n",
       "      <td>2</td>\n",
       "      <td>2014</td>\n",
       "      <td>4</td>\n",
       "      <td>7</td>\n",
       "      <td>55</td>\n",
       "      <td>NaN</td>\n",
       "      <td>2.0</td>\n",
       "      <td>1.0</td>\n",
       "      <td>4.0</td>\n",
       "      <td>NaN</td>\n",
       "      <td>...</td>\n",
       "      <td>0</td>\n",
       "      <td>0</td>\n",
       "      <td>0</td>\n",
       "      <td>0</td>\n",
       "      <td>4</td>\n",
       "      <td>0</td>\n",
       "      <td>0</td>\n",
       "      <td>2</td>\n",
       "      <td>0</td>\n",
       "      <td>3837949</td>\n",
       "    </tr>\n",
       "    <tr>\n",
       "      <th>2</th>\n",
       "      <td>3</td>\n",
       "      <td>2012</td>\n",
       "      <td>5</td>\n",
       "      <td>18</td>\n",
       "      <td>30</td>\n",
       "      <td>16.0</td>\n",
       "      <td>2.0</td>\n",
       "      <td>NaN</td>\n",
       "      <td>NaN</td>\n",
       "      <td>NaN</td>\n",
       "      <td>...</td>\n",
       "      <td>46</td>\n",
       "      <td>9</td>\n",
       "      <td>2</td>\n",
       "      <td>11</td>\n",
       "      <td>38</td>\n",
       "      <td>1</td>\n",
       "      <td>8</td>\n",
       "      <td>97</td>\n",
       "      <td>11</td>\n",
       "      <td>6250000</td>\n",
       "    </tr>\n",
       "    <tr>\n",
       "      <th>3</th>\n",
       "      <td>4</td>\n",
       "      <td>2013</td>\n",
       "      <td>2</td>\n",
       "      <td>8</td>\n",
       "      <td>44</td>\n",
       "      <td>43.0</td>\n",
       "      <td>1.0</td>\n",
       "      <td>NaN</td>\n",
       "      <td>NaN</td>\n",
       "      <td>NaN</td>\n",
       "      <td>...</td>\n",
       "      <td>17</td>\n",
       "      <td>4</td>\n",
       "      <td>1</td>\n",
       "      <td>12</td>\n",
       "      <td>12</td>\n",
       "      <td>0</td>\n",
       "      <td>1</td>\n",
       "      <td>55</td>\n",
       "      <td>7</td>\n",
       "      <td>2000000</td>\n",
       "    </tr>\n",
       "    <tr>\n",
       "      <th>4</th>\n",
       "      <td>5</td>\n",
       "      <td>2014</td>\n",
       "      <td>1</td>\n",
       "      <td>10</td>\n",
       "      <td>45</td>\n",
       "      <td>28.0</td>\n",
       "      <td>3.0</td>\n",
       "      <td>5.0</td>\n",
       "      <td>2.0</td>\n",
       "      <td>1960.0</td>\n",
       "      <td>...</td>\n",
       "      <td>20</td>\n",
       "      <td>2</td>\n",
       "      <td>0</td>\n",
       "      <td>4</td>\n",
       "      <td>16</td>\n",
       "      <td>1</td>\n",
       "      <td>4</td>\n",
       "      <td>47</td>\n",
       "      <td>5</td>\n",
       "      <td>6700000</td>\n",
       "    </tr>\n",
       "  </tbody>\n",
       "</table>\n",
       "<p>5 rows × 294 columns</p>\n",
       "</div>"
      ],
      "text/plain": [
       "   id   f1y  f1m  f1d  f2    f3   f4    f5   f6      f7  ...  f282  f283  \\\n",
       "0   1  2014    1   29  69  38.0  7.0  10.0  1.0  2001.0  ...     1     0   \n",
       "1   2  2014    4    7  55   NaN  2.0   1.0  4.0     NaN  ...     0     0   \n",
       "2   3  2012    5   18  30  16.0  2.0   NaN  NaN     NaN  ...    46     9   \n",
       "3   4  2013    2    8  44  43.0  1.0   NaN  NaN     NaN  ...    17     4   \n",
       "4   5  2014    1   10  45  28.0  3.0   5.0  2.0  1960.0  ...    20     2   \n",
       "\n",
       "   f284  f285  f286  f287  f288  f289  f290   target  \n",
       "0     0     2     8     1     0    19     2  9500000  \n",
       "1     0     0     4     0     0     2     0  3837949  \n",
       "2     2    11    38     1     8    97    11  6250000  \n",
       "3     1    12    12     0     1    55     7  2000000  \n",
       "4     0     4    16     1     4    47     5  6700000  \n",
       "\n",
       "[5 rows x 294 columns]"
      ]
     },
     "execution_count": 35,
     "metadata": {},
     "output_type": "execute_result"
    }
   ],
   "source": [
    "imputed = nans_cols[nans_cols > 0]\n",
    "df_full = df_nans.copy()\n",
    "df_full.reset_index(drop=True, inplace=True)\n",
    "df_full.head()"
   ]
  },
  {
   "cell_type": "code",
   "execution_count": 36,
   "metadata": {},
   "outputs": [
    {
     "data": {
      "text/html": [
       "<div>\n",
       "<style scoped>\n",
       "    .dataframe tbody tr th:only-of-type {\n",
       "        vertical-align: middle;\n",
       "    }\n",
       "\n",
       "    .dataframe tbody tr th {\n",
       "        vertical-align: top;\n",
       "    }\n",
       "\n",
       "    .dataframe thead th {\n",
       "        text-align: right;\n",
       "    }\n",
       "</style>\n",
       "<table border=\"1\" class=\"dataframe\">\n",
       "  <thead>\n",
       "    <tr style=\"text-align: right;\">\n",
       "      <th></th>\n",
       "      <th>id</th>\n",
       "      <th>f1y</th>\n",
       "      <th>f1m</th>\n",
       "      <th>f1d</th>\n",
       "      <th>f2</th>\n",
       "      <th>f3</th>\n",
       "      <th>f4</th>\n",
       "      <th>f5</th>\n",
       "      <th>f6</th>\n",
       "      <th>f7</th>\n",
       "      <th>...</th>\n",
       "      <th>f282</th>\n",
       "      <th>f283</th>\n",
       "      <th>f284</th>\n",
       "      <th>f285</th>\n",
       "      <th>f286</th>\n",
       "      <th>f287</th>\n",
       "      <th>f288</th>\n",
       "      <th>f289</th>\n",
       "      <th>f290</th>\n",
       "      <th>target</th>\n",
       "    </tr>\n",
       "  </thead>\n",
       "  <tbody>\n",
       "    <tr>\n",
       "      <th>24218</th>\n",
       "      <td>24374</td>\n",
       "      <td>2013</td>\n",
       "      <td>12</td>\n",
       "      <td>18</td>\n",
       "      <td>85</td>\n",
       "      <td>NaN</td>\n",
       "      <td>16.0</td>\n",
       "      <td>17.0</td>\n",
       "      <td>1.0</td>\n",
       "      <td>1.0</td>\n",
       "      <td>...</td>\n",
       "      <td>3</td>\n",
       "      <td>1</td>\n",
       "      <td>0</td>\n",
       "      <td>3</td>\n",
       "      <td>9</td>\n",
       "      <td>0</td>\n",
       "      <td>1</td>\n",
       "      <td>10</td>\n",
       "      <td>2</td>\n",
       "      <td>9609180</td>\n",
       "    </tr>\n",
       "    <tr>\n",
       "      <th>24219</th>\n",
       "      <td>24375</td>\n",
       "      <td>2014</td>\n",
       "      <td>12</td>\n",
       "      <td>8</td>\n",
       "      <td>47</td>\n",
       "      <td>27.0</td>\n",
       "      <td>2.0</td>\n",
       "      <td>10.0</td>\n",
       "      <td>2.0</td>\n",
       "      <td>1958.0</td>\n",
       "      <td>...</td>\n",
       "      <td>217</td>\n",
       "      <td>86</td>\n",
       "      <td>11</td>\n",
       "      <td>118</td>\n",
       "      <td>176</td>\n",
       "      <td>1</td>\n",
       "      <td>64</td>\n",
       "      <td>146</td>\n",
       "      <td>13</td>\n",
       "      <td>12900000</td>\n",
       "    </tr>\n",
       "    <tr>\n",
       "      <th>24220</th>\n",
       "      <td>24376</td>\n",
       "      <td>2015</td>\n",
       "      <td>4</td>\n",
       "      <td>30</td>\n",
       "      <td>85</td>\n",
       "      <td>60.0</td>\n",
       "      <td>10.0</td>\n",
       "      <td>22.0</td>\n",
       "      <td>4.0</td>\n",
       "      <td>2015.0</td>\n",
       "      <td>...</td>\n",
       "      <td>1</td>\n",
       "      <td>1</td>\n",
       "      <td>0</td>\n",
       "      <td>2</td>\n",
       "      <td>12</td>\n",
       "      <td>0</td>\n",
       "      <td>0</td>\n",
       "      <td>9</td>\n",
       "      <td>0</td>\n",
       "      <td>10371441</td>\n",
       "    </tr>\n",
       "  </tbody>\n",
       "</table>\n",
       "<p>3 rows × 294 columns</p>\n",
       "</div>"
      ],
      "text/plain": [
       "          id   f1y  f1m  f1d  f2    f3    f4    f5   f6      f7  ...  f282  \\\n",
       "24218  24374  2013   12   18  85   NaN  16.0  17.0  1.0     1.0  ...     3   \n",
       "24219  24375  2014   12    8  47  27.0   2.0  10.0  2.0  1958.0  ...   217   \n",
       "24220  24376  2015    4   30  85  60.0  10.0  22.0  4.0  2015.0  ...     1   \n",
       "\n",
       "       f283  f284  f285  f286  f287  f288  f289  f290    target  \n",
       "24218     1     0     3     9     0     1    10     2   9609180  \n",
       "24219    86    11   118   176     1    64   146    13  12900000  \n",
       "24220     1     0     2    12     0     0     9     0  10371441  \n",
       "\n",
       "[3 rows x 294 columns]"
      ]
     },
     "execution_count": 36,
     "metadata": {},
     "output_type": "execute_result"
    }
   ],
   "source": [
    "df_full[-3:]"
   ]
  },
  {
   "cell_type": "code",
   "execution_count": 37,
   "metadata": {},
   "outputs": [
    {
     "data": {
      "text/html": [
       "<div>\n",
       "<style scoped>\n",
       "    .dataframe tbody tr th:only-of-type {\n",
       "        vertical-align: middle;\n",
       "    }\n",
       "\n",
       "    .dataframe tbody tr th {\n",
       "        vertical-align: top;\n",
       "    }\n",
       "\n",
       "    .dataframe thead th {\n",
       "        text-align: right;\n",
       "    }\n",
       "</style>\n",
       "<table border=\"1\" class=\"dataframe\">\n",
       "  <thead>\n",
       "    <tr style=\"text-align: right;\">\n",
       "      <th></th>\n",
       "      <th>id</th>\n",
       "      <th>f1y</th>\n",
       "      <th>f1m</th>\n",
       "      <th>f1d</th>\n",
       "      <th>f2</th>\n",
       "      <th>f3</th>\n",
       "      <th>f4</th>\n",
       "      <th>f5</th>\n",
       "      <th>f6</th>\n",
       "      <th>f7</th>\n",
       "      <th>...</th>\n",
       "      <th>f282</th>\n",
       "      <th>f283</th>\n",
       "      <th>f284</th>\n",
       "      <th>f285</th>\n",
       "      <th>f286</th>\n",
       "      <th>f287</th>\n",
       "      <th>f288</th>\n",
       "      <th>f289</th>\n",
       "      <th>f290</th>\n",
       "      <th>target</th>\n",
       "    </tr>\n",
       "  </thead>\n",
       "  <tbody>\n",
       "    <tr>\n",
       "      <th>0</th>\n",
       "      <td>1</td>\n",
       "      <td>2014</td>\n",
       "      <td>1</td>\n",
       "      <td>29</td>\n",
       "      <td>69</td>\n",
       "      <td>38.00000</td>\n",
       "      <td>7.0</td>\n",
       "      <td>10.00000</td>\n",
       "      <td>1.000000</td>\n",
       "      <td>2001.000000</td>\n",
       "      <td>...</td>\n",
       "      <td>1</td>\n",
       "      <td>0</td>\n",
       "      <td>0</td>\n",
       "      <td>2</td>\n",
       "      <td>8</td>\n",
       "      <td>1</td>\n",
       "      <td>0</td>\n",
       "      <td>19</td>\n",
       "      <td>2</td>\n",
       "      <td>9500000</td>\n",
       "    </tr>\n",
       "    <tr>\n",
       "      <th>1</th>\n",
       "      <td>2</td>\n",
       "      <td>2014</td>\n",
       "      <td>4</td>\n",
       "      <td>7</td>\n",
       "      <td>55</td>\n",
       "      <td>48.13174</td>\n",
       "      <td>2.0</td>\n",
       "      <td>1.00000</td>\n",
       "      <td>4.000000</td>\n",
       "      <td>1591.150833</td>\n",
       "      <td>...</td>\n",
       "      <td>0</td>\n",
       "      <td>0</td>\n",
       "      <td>0</td>\n",
       "      <td>0</td>\n",
       "      <td>4</td>\n",
       "      <td>0</td>\n",
       "      <td>0</td>\n",
       "      <td>2</td>\n",
       "      <td>0</td>\n",
       "      <td>3837949</td>\n",
       "    </tr>\n",
       "    <tr>\n",
       "      <th>2</th>\n",
       "      <td>3</td>\n",
       "      <td>2012</td>\n",
       "      <td>5</td>\n",
       "      <td>18</td>\n",
       "      <td>30</td>\n",
       "      <td>16.00000</td>\n",
       "      <td>2.0</td>\n",
       "      <td>7.29370</td>\n",
       "      <td>3.732457</td>\n",
       "      <td>1961.927529</td>\n",
       "      <td>...</td>\n",
       "      <td>46</td>\n",
       "      <td>9</td>\n",
       "      <td>2</td>\n",
       "      <td>11</td>\n",
       "      <td>38</td>\n",
       "      <td>1</td>\n",
       "      <td>8</td>\n",
       "      <td>97</td>\n",
       "      <td>11</td>\n",
       "      <td>6250000</td>\n",
       "    </tr>\n",
       "    <tr>\n",
       "      <th>3</th>\n",
       "      <td>4</td>\n",
       "      <td>2013</td>\n",
       "      <td>2</td>\n",
       "      <td>8</td>\n",
       "      <td>44</td>\n",
       "      <td>43.00000</td>\n",
       "      <td>1.0</td>\n",
       "      <td>8.78533</td>\n",
       "      <td>1.428214</td>\n",
       "      <td>1970.661667</td>\n",
       "      <td>...</td>\n",
       "      <td>17</td>\n",
       "      <td>4</td>\n",
       "      <td>1</td>\n",
       "      <td>12</td>\n",
       "      <td>12</td>\n",
       "      <td>0</td>\n",
       "      <td>1</td>\n",
       "      <td>55</td>\n",
       "      <td>7</td>\n",
       "      <td>2000000</td>\n",
       "    </tr>\n",
       "    <tr>\n",
       "      <th>4</th>\n",
       "      <td>5</td>\n",
       "      <td>2014</td>\n",
       "      <td>1</td>\n",
       "      <td>10</td>\n",
       "      <td>45</td>\n",
       "      <td>28.00000</td>\n",
       "      <td>3.0</td>\n",
       "      <td>5.00000</td>\n",
       "      <td>2.000000</td>\n",
       "      <td>1960.000000</td>\n",
       "      <td>...</td>\n",
       "      <td>20</td>\n",
       "      <td>2</td>\n",
       "      <td>0</td>\n",
       "      <td>4</td>\n",
       "      <td>16</td>\n",
       "      <td>1</td>\n",
       "      <td>4</td>\n",
       "      <td>47</td>\n",
       "      <td>5</td>\n",
       "      <td>6700000</td>\n",
       "    </tr>\n",
       "  </tbody>\n",
       "</table>\n",
       "<p>5 rows × 294 columns</p>\n",
       "</div>"
      ],
      "text/plain": [
       "   id   f1y  f1m  f1d  f2        f3   f4        f5        f6           f7  \\\n",
       "0   1  2014    1   29  69  38.00000  7.0  10.00000  1.000000  2001.000000   \n",
       "1   2  2014    4    7  55  48.13174  2.0   1.00000  4.000000  1591.150833   \n",
       "2   3  2012    5   18  30  16.00000  2.0   7.29370  3.732457  1961.927529   \n",
       "3   4  2013    2    8  44  43.00000  1.0   8.78533  1.428214  1970.661667   \n",
       "4   5  2014    1   10  45  28.00000  3.0   5.00000  2.000000  1960.000000   \n",
       "\n",
       "   ...  f282  f283  f284  f285  f286  f287  f288  f289  f290   target  \n",
       "0  ...     1     0     0     2     8     1     0    19     2  9500000  \n",
       "1  ...     0     0     0     0     4     0     0     2     0  3837949  \n",
       "2  ...    46     9     2    11    38     1     8    97    11  6250000  \n",
       "3  ...    17     4     1    12    12     0     1    55     7  2000000  \n",
       "4  ...    20     2     0     4    16     1     4    47     5  6700000  \n",
       "\n",
       "[5 rows x 294 columns]"
      ]
     },
     "execution_count": 37,
     "metadata": {},
     "output_type": "execute_result"
    }
   ],
   "source": [
    "df_full[imputed.index] = df_imp2[imputed.index]\n",
    "df_full.head()"
   ]
  },
  {
   "cell_type": "code",
   "execution_count": 38,
   "metadata": {},
   "outputs": [
    {
     "data": {
      "text/plain": [
       "False"
      ]
     },
     "execution_count": 38,
     "metadata": {},
     "output_type": "execute_result"
    }
   ],
   "source": [
    "True in df_full.isna().values"
   ]
  },
  {
   "cell_type": "code",
   "execution_count": null,
   "metadata": {},
   "outputs": [],
   "source": []
  },
  {
   "cell_type": "markdown",
   "metadata": {},
   "source": [
    "# Imports"
   ]
  },
  {
   "cell_type": "code",
   "execution_count": 1,
   "metadata": {},
   "outputs": [],
   "source": [
    "import pandas as pd\n",
    "import numpy as np"
   ]
  },
  {
   "cell_type": "code",
   "execution_count": 2,
   "metadata": {},
   "outputs": [],
   "source": [
    "np.random.seed(3927)"
   ]
  },
  {
   "cell_type": "code",
   "execution_count": 32,
   "metadata": {},
   "outputs": [
    {
     "data": {
      "text/html": [
       "<div>\n",
       "<style scoped>\n",
       "    .dataframe tbody tr th:only-of-type {\n",
       "        vertical-align: middle;\n",
       "    }\n",
       "\n",
       "    .dataframe tbody tr th {\n",
       "        vertical-align: top;\n",
       "    }\n",
       "\n",
       "    .dataframe thead th {\n",
       "        text-align: right;\n",
       "    }\n",
       "</style>\n",
       "<table border=\"1\" class=\"dataframe\">\n",
       "  <thead>\n",
       "    <tr style=\"text-align: right;\">\n",
       "      <th></th>\n",
       "      <th>f3</th>\n",
       "      <th>f4</th>\n",
       "      <th>f5</th>\n",
       "      <th>f6</th>\n",
       "      <th>f7</th>\n",
       "      <th>f8</th>\n",
       "      <th>f9</th>\n",
       "      <th>f10</th>\n",
       "      <th>f13</th>\n",
       "      <th>f15</th>\n",
       "      <th>...</th>\n",
       "      <th>f245</th>\n",
       "      <th>f246</th>\n",
       "      <th>f252</th>\n",
       "      <th>f253</th>\n",
       "      <th>f254</th>\n",
       "      <th>f268</th>\n",
       "      <th>f269</th>\n",
       "      <th>f275</th>\n",
       "      <th>f276</th>\n",
       "      <th>f277</th>\n",
       "    </tr>\n",
       "  </thead>\n",
       "  <tbody>\n",
       "    <tr>\n",
       "      <th>0</th>\n",
       "      <td>38.0</td>\n",
       "      <td>7.0</td>\n",
       "      <td>10.0</td>\n",
       "      <td>1.0</td>\n",
       "      <td>2001.0</td>\n",
       "      <td>2.0</td>\n",
       "      <td>11.0</td>\n",
       "      <td>2.0</td>\n",
       "      <td>2.615514e+07</td>\n",
       "      <td>0.137846</td>\n",
       "      <td>...</td>\n",
       "      <td>34.32</td>\n",
       "      <td>2.85</td>\n",
       "      <td>776.92</td>\n",
       "      <td>1230.77</td>\n",
       "      <td>1003.85</td>\n",
       "      <td>28.67</td>\n",
       "      <td>4.94</td>\n",
       "      <td>725.00</td>\n",
       "      <td>1175.00</td>\n",
       "      <td>950.00</td>\n",
       "    </tr>\n",
       "    <tr>\n",
       "      <th>1</th>\n",
       "      <td>NaN</td>\n",
       "      <td>2.0</td>\n",
       "      <td>1.0</td>\n",
       "      <td>4.0</td>\n",
       "      <td>NaN</td>\n",
       "      <td>2.0</td>\n",
       "      <td>10.0</td>\n",
       "      <td>NaN</td>\n",
       "      <td>3.574795e+07</td>\n",
       "      <td>0.548992</td>\n",
       "      <td>...</td>\n",
       "      <td>53.08</td>\n",
       "      <td>3.55</td>\n",
       "      <td>NaN</td>\n",
       "      <td>NaN</td>\n",
       "      <td>NaN</td>\n",
       "      <td>47.85</td>\n",
       "      <td>3.54</td>\n",
       "      <td>600.00</td>\n",
       "      <td>1000.00</td>\n",
       "      <td>800.00</td>\n",
       "    </tr>\n",
       "    <tr>\n",
       "      <th>2</th>\n",
       "      <td>16.0</td>\n",
       "      <td>2.0</td>\n",
       "      <td>NaN</td>\n",
       "      <td>NaN</td>\n",
       "      <td>NaN</td>\n",
       "      <td>NaN</td>\n",
       "      <td>NaN</td>\n",
       "      <td>NaN</td>\n",
       "      <td>3.326419e+06</td>\n",
       "      <td>0.051881</td>\n",
       "      <td>...</td>\n",
       "      <td>12.27</td>\n",
       "      <td>4.00</td>\n",
       "      <td>764.97</td>\n",
       "      <td>1271.57</td>\n",
       "      <td>1018.27</td>\n",
       "      <td>15.80</td>\n",
       "      <td>5.81</td>\n",
       "      <td>776.46</td>\n",
       "      <td>1293.67</td>\n",
       "      <td>1035.06</td>\n",
       "    </tr>\n",
       "    <tr>\n",
       "      <th>3</th>\n",
       "      <td>43.0</td>\n",
       "      <td>1.0</td>\n",
       "      <td>NaN</td>\n",
       "      <td>NaN</td>\n",
       "      <td>NaN</td>\n",
       "      <td>NaN</td>\n",
       "      <td>NaN</td>\n",
       "      <td>NaN</td>\n",
       "      <td>7.887684e+06</td>\n",
       "      <td>0.222646</td>\n",
       "      <td>...</td>\n",
       "      <td>17.77</td>\n",
       "      <td>13.01</td>\n",
       "      <td>688.24</td>\n",
       "      <td>1169.12</td>\n",
       "      <td>928.68</td>\n",
       "      <td>21.71</td>\n",
       "      <td>8.68</td>\n",
       "      <td>722.99</td>\n",
       "      <td>1211.23</td>\n",
       "      <td>967.11</td>\n",
       "    </tr>\n",
       "    <tr>\n",
       "      <th>4</th>\n",
       "      <td>28.0</td>\n",
       "      <td>3.0</td>\n",
       "      <td>5.0</td>\n",
       "      <td>2.0</td>\n",
       "      <td>1960.0</td>\n",
       "      <td>2.0</td>\n",
       "      <td>5.0</td>\n",
       "      <td>NaN</td>\n",
       "      <td>1.752651e+07</td>\n",
       "      <td>0.133373</td>\n",
       "      <td>...</td>\n",
       "      <td>18.50</td>\n",
       "      <td>16.62</td>\n",
       "      <td>811.90</td>\n",
       "      <td>1369.05</td>\n",
       "      <td>1090.48</td>\n",
       "      <td>23.17</td>\n",
       "      <td>11.27</td>\n",
       "      <td>752.08</td>\n",
       "      <td>1260.42</td>\n",
       "      <td>1006.25</td>\n",
       "    </tr>\n",
       "    <tr>\n",
       "      <th>...</th>\n",
       "      <td>...</td>\n",
       "      <td>...</td>\n",
       "      <td>...</td>\n",
       "      <td>...</td>\n",
       "      <td>...</td>\n",
       "      <td>...</td>\n",
       "      <td>...</td>\n",
       "      <td>...</td>\n",
       "      <td>...</td>\n",
       "      <td>...</td>\n",
       "      <td>...</td>\n",
       "      <td>...</td>\n",
       "      <td>...</td>\n",
       "      <td>...</td>\n",
       "      <td>...</td>\n",
       "      <td>...</td>\n",
       "      <td>...</td>\n",
       "      <td>...</td>\n",
       "      <td>...</td>\n",
       "      <td>...</td>\n",
       "      <td>...</td>\n",
       "    </tr>\n",
       "    <tr>\n",
       "      <th>24371</th>\n",
       "      <td>NaN</td>\n",
       "      <td>7.0</td>\n",
       "      <td>17.0</td>\n",
       "      <td>1.0</td>\n",
       "      <td>NaN</td>\n",
       "      <td>2.0</td>\n",
       "      <td>1.0</td>\n",
       "      <td>1.0</td>\n",
       "      <td>2.553630e+07</td>\n",
       "      <td>0.496315</td>\n",
       "      <td>...</td>\n",
       "      <td>44.85</td>\n",
       "      <td>1.97</td>\n",
       "      <td>680.00</td>\n",
       "      <td>1200.00</td>\n",
       "      <td>940.00</td>\n",
       "      <td>35.53</td>\n",
       "      <td>5.77</td>\n",
       "      <td>758.82</td>\n",
       "      <td>1294.12</td>\n",
       "      <td>1026.47</td>\n",
       "    </tr>\n",
       "    <tr>\n",
       "      <th>24372</th>\n",
       "      <td>28.0</td>\n",
       "      <td>2.0</td>\n",
       "      <td>NaN</td>\n",
       "      <td>NaN</td>\n",
       "      <td>NaN</td>\n",
       "      <td>NaN</td>\n",
       "      <td>NaN</td>\n",
       "      <td>NaN</td>\n",
       "      <td>7.887684e+06</td>\n",
       "      <td>0.222646</td>\n",
       "      <td>...</td>\n",
       "      <td>15.90</td>\n",
       "      <td>13.30</td>\n",
       "      <td>876.74</td>\n",
       "      <td>1465.12</td>\n",
       "      <td>1170.93</td>\n",
       "      <td>21.64</td>\n",
       "      <td>6.92</td>\n",
       "      <td>804.55</td>\n",
       "      <td>1344.16</td>\n",
       "      <td>1074.35</td>\n",
       "    </tr>\n",
       "    <tr>\n",
       "      <th>24373</th>\n",
       "      <td>NaN</td>\n",
       "      <td>16.0</td>\n",
       "      <td>17.0</td>\n",
       "      <td>1.0</td>\n",
       "      <td>1.0</td>\n",
       "      <td>3.0</td>\n",
       "      <td>1.0</td>\n",
       "      <td>NaN</td>\n",
       "      <td>8.591335e+06</td>\n",
       "      <td>0.058543</td>\n",
       "      <td>...</td>\n",
       "      <td>31.34</td>\n",
       "      <td>5.79</td>\n",
       "      <td>827.27</td>\n",
       "      <td>1409.09</td>\n",
       "      <td>1118.18</td>\n",
       "      <td>31.26</td>\n",
       "      <td>6.06</td>\n",
       "      <td>836.36</td>\n",
       "      <td>1409.09</td>\n",
       "      <td>1122.73</td>\n",
       "    </tr>\n",
       "    <tr>\n",
       "      <th>24374</th>\n",
       "      <td>27.0</td>\n",
       "      <td>2.0</td>\n",
       "      <td>10.0</td>\n",
       "      <td>2.0</td>\n",
       "      <td>1958.0</td>\n",
       "      <td>2.0</td>\n",
       "      <td>6.0</td>\n",
       "      <td>4.0</td>\n",
       "      <td>1.249544e+07</td>\n",
       "      <td>0.027651</td>\n",
       "      <td>...</td>\n",
       "      <td>8.01</td>\n",
       "      <td>9.04</td>\n",
       "      <td>836.48</td>\n",
       "      <td>1383.20</td>\n",
       "      <td>1109.84</td>\n",
       "      <td>8.54</td>\n",
       "      <td>13.90</td>\n",
       "      <td>875.49</td>\n",
       "      <td>1441.24</td>\n",
       "      <td>1158.36</td>\n",
       "    </tr>\n",
       "    <tr>\n",
       "      <th>24375</th>\n",
       "      <td>60.0</td>\n",
       "      <td>10.0</td>\n",
       "      <td>22.0</td>\n",
       "      <td>4.0</td>\n",
       "      <td>2015.0</td>\n",
       "      <td>3.0</td>\n",
       "      <td>10.0</td>\n",
       "      <td>1.0</td>\n",
       "      <td>2.553630e+07</td>\n",
       "      <td>0.496315</td>\n",
       "      <td>...</td>\n",
       "      <td>44.85</td>\n",
       "      <td>1.97</td>\n",
       "      <td>680.00</td>\n",
       "      <td>1200.00</td>\n",
       "      <td>940.00</td>\n",
       "      <td>35.53</td>\n",
       "      <td>5.77</td>\n",
       "      <td>758.82</td>\n",
       "      <td>1294.12</td>\n",
       "      <td>1026.47</td>\n",
       "    </tr>\n",
       "  </tbody>\n",
       "</table>\n",
       "<p>24376 rows × 119 columns</p>\n",
       "</div>"
      ],
      "text/plain": [
       "         f3    f4    f5   f6      f7   f8    f9  f10           f13       f15  \\\n",
       "0      38.0   7.0  10.0  1.0  2001.0  2.0  11.0  2.0  2.615514e+07  0.137846   \n",
       "1       NaN   2.0   1.0  4.0     NaN  2.0  10.0  NaN  3.574795e+07  0.548992   \n",
       "2      16.0   2.0   NaN  NaN     NaN  NaN   NaN  NaN  3.326419e+06  0.051881   \n",
       "3      43.0   1.0   NaN  NaN     NaN  NaN   NaN  NaN  7.887684e+06  0.222646   \n",
       "4      28.0   3.0   5.0  2.0  1960.0  2.0   5.0  NaN  1.752651e+07  0.133373   \n",
       "...     ...   ...   ...  ...     ...  ...   ...  ...           ...       ...   \n",
       "24371   NaN   7.0  17.0  1.0     NaN  2.0   1.0  1.0  2.553630e+07  0.496315   \n",
       "24372  28.0   2.0   NaN  NaN     NaN  NaN   NaN  NaN  7.887684e+06  0.222646   \n",
       "24373   NaN  16.0  17.0  1.0     1.0  3.0   1.0  NaN  8.591335e+06  0.058543   \n",
       "24374  27.0   2.0  10.0  2.0  1958.0  2.0   6.0  4.0  1.249544e+07  0.027651   \n",
       "24375  60.0  10.0  22.0  4.0  2015.0  3.0  10.0  1.0  2.553630e+07  0.496315   \n",
       "\n",
       "       ...   f245   f246    f252     f253     f254   f268   f269    f275  \\\n",
       "0      ...  34.32   2.85  776.92  1230.77  1003.85  28.67   4.94  725.00   \n",
       "1      ...  53.08   3.55     NaN      NaN      NaN  47.85   3.54  600.00   \n",
       "2      ...  12.27   4.00  764.97  1271.57  1018.27  15.80   5.81  776.46   \n",
       "3      ...  17.77  13.01  688.24  1169.12   928.68  21.71   8.68  722.99   \n",
       "4      ...  18.50  16.62  811.90  1369.05  1090.48  23.17  11.27  752.08   \n",
       "...    ...    ...    ...     ...      ...      ...    ...    ...     ...   \n",
       "24371  ...  44.85   1.97  680.00  1200.00   940.00  35.53   5.77  758.82   \n",
       "24372  ...  15.90  13.30  876.74  1465.12  1170.93  21.64   6.92  804.55   \n",
       "24373  ...  31.34   5.79  827.27  1409.09  1118.18  31.26   6.06  836.36   \n",
       "24374  ...   8.01   9.04  836.48  1383.20  1109.84   8.54  13.90  875.49   \n",
       "24375  ...  44.85   1.97  680.00  1200.00   940.00  35.53   5.77  758.82   \n",
       "\n",
       "          f276     f277  \n",
       "0      1175.00   950.00  \n",
       "1      1000.00   800.00  \n",
       "2      1293.67  1035.06  \n",
       "3      1211.23   967.11  \n",
       "4      1260.42  1006.25  \n",
       "...        ...      ...  \n",
       "24371  1294.12  1026.47  \n",
       "24372  1344.16  1074.35  \n",
       "24373  1409.09  1122.73  \n",
       "24374  1441.24  1158.36  \n",
       "24375  1294.12  1026.47  \n",
       "\n",
       "[24376 rows x 119 columns]"
      ]
     },
     "execution_count": 32,
     "metadata": {},
     "output_type": "execute_result"
    }
   ],
   "source": [
    "nans = df_train.dtypes[df_train.dtypes == 'float64'].index\n",
    "df_train[nans]\n",
    "# ints_nans[ints_nans > 0]"
   ]
  },
  {
   "cell_type": "code",
   "execution_count": 99,
   "metadata": {},
   "outputs": [],
   "source": [
    "nan_columns = df_train.dtypes[df_train.dtypes == 'float64'].index\n",
    "nan_is_int = df_train[nan_columns].replace({np.nan: 0}).applymap(lambda x: x.is_integer()).all()\n",
    "groups = nan_is_int.groupby(nan_is_int).groups\n",
    "# nan_int = nan_is_int[nan_is_int == True].index  # Get true integers\n",
    "# nan_float = nan_is_int[nan_is_int == False].index  # Get true floats"
   ]
  },
  {
   "cell_type": "code",
   "execution_count": 101,
   "metadata": {},
   "outputs": [
    {
     "ename": "TypeError",
     "evalue": "unhashable type: 'list'",
     "output_type": "error",
     "traceback": [
      "\u001b[1;31m---------------------------------------------------------------------------\u001b[0m",
      "\u001b[1;31mTypeError\u001b[0m                                 Traceback (most recent call last)",
      "\u001b[1;32m~\\AppData\\Local\\Temp/ipykernel_19476/2533952136.py\u001b[0m in \u001b[0;36m<module>\u001b[1;34m\u001b[0m\n\u001b[1;32m----> 1\u001b[1;33m \u001b[0mgroups\u001b[0m\u001b[1;33m[\u001b[0m\u001b[1;33m[\u001b[0m\u001b[1;32mFalse\u001b[0m\u001b[1;33m,\u001b[0m \u001b[1;32mTrue\u001b[0m\u001b[1;33m]\u001b[0m\u001b[1;33m]\u001b[0m\u001b[1;33m\u001b[0m\u001b[1;33m\u001b[0m\u001b[0m\n\u001b[0m",
      "\u001b[1;31mTypeError\u001b[0m: unhashable type: 'list'"
     ]
    }
   ],
   "source": []
  },
  {
   "cell_type": "code",
   "execution_count": 78,
   "metadata": {},
   "outputs": [
    {
     "data": {
      "text/plain": [
       "Index(['f3', 'f4', 'f5', 'f6', 'f7', 'f8', 'f9', 'f10', 'f18', 'f21', 'f24',\n",
       "       'f68', 'f69', 'f70', 'f71', 'f72', 'f73', 'f74', 'f75', 'f76', 'f77',\n",
       "       'f78', 'f79', 'f80', 'f81', 'f82', 'f83', 'f99'],\n",
       "      dtype='object')"
      ]
     },
     "execution_count": 78,
     "metadata": {},
     "output_type": "execute_result"
    }
   ],
   "source": [
    "nan_int"
   ]
  },
  {
   "cell_type": "code",
   "execution_count": 79,
   "metadata": {},
   "outputs": [
    {
     "data": {
      "text/plain": [
       "Index(['f13', 'f15', 'f16', 'f85', 'f86', 'f87', 'f88', 'f89', 'f90', 'f91',\n",
       "       'f92', 'f93', 'f94', 'f95', 'f96', 'f97', 'f98', 'f100', 'f101', 'f103',\n",
       "       'f104', 'f105', 'f107', 'f108', 'f109', 'f110', 'f111', 'f112', 'f115',\n",
       "       'f117', 'f119', 'f121', 'f123', 'f124', 'f125', 'f126', 'f127', 'f128',\n",
       "       'f129', 'f130', 'f131', 'f132', 'f133', 'f134', 'f135', 'f136', 'f137',\n",
       "       'f138', 'f139', 'f140', 'f141', 'f142', 'f143', 'f144', 'f145', 'f146',\n",
       "       'f147', 'f148', 'f149', 'f150', 'f151', 'f153', 'f154', 'f160', 'f161',\n",
       "       'f162', 'f176', 'f177', 'f183', 'f184', 'f185', 'f199', 'f200', 'f206',\n",
       "       'f207', 'f208', 'f222', 'f223', 'f229', 'f230', 'f231', 'f245', 'f246',\n",
       "       'f252', 'f253', 'f254', 'f268', 'f269', 'f275', 'f276', 'f277'],\n",
       "      dtype='object')"
      ]
     },
     "execution_count": 79,
     "metadata": {},
     "output_type": "execute_result"
    }
   ],
   "source": [
    "nan_float"
   ]
  },
  {
   "cell_type": "code",
   "execution_count": 87,
   "metadata": {},
   "outputs": [
    {
     "data": {
      "text/plain": [
       "Index(['f3', 'f4', 'f5', 'f6', 'f7', 'f8', 'f9', 'f10', 'f18', 'f21', 'f24',\n",
       "       'f68', 'f69', 'f70', 'f71', 'f72', 'f73', 'f74', 'f75', 'f76', 'f77',\n",
       "       'f78', 'f79', 'f80', 'f81', 'f82', 'f83', 'f99'],\n",
       "      dtype='object')"
      ]
     },
     "execution_count": 87,
     "metadata": {},
     "output_type": "execute_result"
    }
   ],
   "source": [
    "nan_is_int.groupby(nan_is_int).groups[True]"
   ]
  },
  {
   "cell_type": "code",
   "execution_count": 67,
   "metadata": {},
   "outputs": [
    {
     "name": "stdout",
     "output_type": "stream",
     "text": [
      "f3 True 5111\n",
      "f4 True 134\n",
      "f5 True 7650\n",
      "f6 True 7650\n",
      "f7 True 10885\n",
      "f8 True 7650\n",
      "f9 True 7650\n",
      "f10 True 10842\n",
      "f13 False 0\n",
      "f15 False 0\n",
      "f16 False 0\n",
      "f18 True 5331\n",
      "f21 True 5329\n",
      "f24 True 11486\n",
      "f68 True 4009\n",
      "f69 True 4009\n",
      "f70 True 4009\n",
      "f71 True 4009\n",
      "f72 True 4009\n",
      "f73 True 4009\n",
      "f74 True 4009\n",
      "f75 True 4009\n",
      "f76 True 4009\n",
      "f77 True 4009\n",
      "f78 True 4009\n",
      "f79 True 4009\n",
      "f80 True 4009\n",
      "f81 True 4009\n",
      "f82 True 4009\n",
      "f83 True 4009\n",
      "f85 False 0\n",
      "f86 False 0\n",
      "f87 False 22\n",
      "f88 False 22\n",
      "f89 False 0\n",
      "f90 False 0\n",
      "f91 False 0\n",
      "f92 False 0\n",
      "f93 False 0\n",
      "f94 False 0\n",
      "f95 False 0\n",
      "f96 False 0\n",
      "f97 False 22\n",
      "f98 False 22\n",
      "f99 True 22\n",
      "f100 False 0\n",
      "f101 False 0\n",
      "f103 False 0\n",
      "f104 False 0\n",
      "f105 False 0\n",
      "f107 False 0\n",
      "f108 False 0\n",
      "f109 False 0\n",
      "f110 False 0\n",
      "f111 False 0\n",
      "f112 False 0\n",
      "f115 False 0\n",
      "f117 False 0\n",
      "f119 False 0\n",
      "f121 False 0\n",
      "f123 False 0\n",
      "f124 False 0\n",
      "f125 False 0\n",
      "f126 False 0\n",
      "f127 False 0\n",
      "f128 False 0\n",
      "f129 False 0\n",
      "f130 False 0\n",
      "f131 False 0\n",
      "f132 False 0\n",
      "f133 False 0\n",
      "f134 False 0\n",
      "f135 False 0\n",
      "f136 False 0\n",
      "f137 False 0\n",
      "f138 False 0\n",
      "f139 False 0\n",
      "f140 False 0\n",
      "f141 False 0\n",
      "f142 False 0\n",
      "f143 False 0\n",
      "f144 False 0\n",
      "f145 False 0\n",
      "f146 False 0\n",
      "f147 False 0\n",
      "f148 False 0\n",
      "f149 False 0\n",
      "f150 False 0\n",
      "f151 False 0\n",
      "f153 False 0\n",
      "f154 False 0\n",
      "f160 False 10630\n",
      "f161 False 10630\n",
      "f162 False 10630\n",
      "f176 False 0\n",
      "f177 False 0\n",
      "f183 False 5239\n",
      "f184 False 5239\n",
      "f185 False 5239\n",
      "f199 False 0\n",
      "f200 False 0\n",
      "f206 False 3399\n",
      "f207 False 3399\n",
      "f208 False 3399\n",
      "f222 False 0\n",
      "f223 False 0\n",
      "f229 False 1399\n",
      "f230 False 1399\n",
      "f231 False 1399\n",
      "f245 False 0\n",
      "f246 False 0\n",
      "f252 False 801\n",
      "f253 False 801\n",
      "f254 False 801\n",
      "f268 False 0\n",
      "f269 False 144\n",
      "f275 False 247\n",
      "f276 False 247\n",
      "f277 False 247\n"
     ]
    }
   ],
   "source": [
    "nans_ints = df_train[nans].replace({np.nan: 0}).applymap(lambda x: x.is_integer()).all()\n",
    "for k, v1, v2 in zip(nans_ints.index, nans_ints, df_train[nans_ints.index].isna().sum()):\n",
    "    print(k, v1, v2)"
   ]
  },
  {
   "cell_type": "code",
   "execution_count": null,
   "metadata": {},
   "outputs": [],
   "source": [
    "float = df_train.dtypes[df_train.dtypes == 'int64'].index"
   ]
  },
  {
   "cell_type": "code",
   "execution_count": 31,
   "metadata": {},
   "outputs": [
    {
     "name": "stdout",
     "output_type": "stream",
     "text": [
      "f3: True\n",
      "f4: True\n",
      "f5: True\n",
      "f6: True\n",
      "f7: True\n",
      "f8: True\n",
      "f9: True\n",
      "f10: True\n",
      "f13: False\n",
      "f15: False\n",
      "f16: False\n",
      "f18: True\n",
      "f21: True\n",
      "f24: True\n",
      "f68: True\n",
      "f69: True\n",
      "f70: True\n",
      "f71: True\n",
      "f72: True\n",
      "f73: True\n",
      "f74: True\n",
      "f75: True\n",
      "f76: True\n",
      "f77: True\n",
      "f78: True\n",
      "f79: True\n",
      "f80: True\n",
      "f81: True\n",
      "f82: True\n",
      "f83: True\n",
      "f85: False\n",
      "f86: False\n",
      "f87: False\n",
      "f88: False\n",
      "f89: False\n",
      "f90: False\n",
      "f91: False\n",
      "f92: False\n",
      "f93: False\n",
      "f94: False\n",
      "f95: False\n",
      "f96: False\n",
      "f97: False\n",
      "f98: False\n",
      "f99: True\n",
      "f100: False\n",
      "f101: False\n",
      "f103: False\n",
      "f104: False\n",
      "f105: False\n",
      "f107: False\n",
      "f108: False\n",
      "f109: False\n",
      "f110: False\n",
      "f111: False\n",
      "f112: False\n",
      "f115: False\n",
      "f117: False\n",
      "f119: False\n",
      "f121: False\n",
      "f123: False\n",
      "f124: False\n",
      "f125: False\n",
      "f126: False\n",
      "f127: False\n",
      "f128: False\n",
      "f129: False\n",
      "f130: False\n",
      "f131: False\n",
      "f132: False\n",
      "f133: False\n",
      "f134: False\n",
      "f135: False\n",
      "f136: False\n",
      "f137: False\n",
      "f138: False\n",
      "f139: False\n",
      "f140: False\n",
      "f141: False\n",
      "f142: False\n",
      "f143: False\n",
      "f144: False\n",
      "f145: False\n",
      "f146: False\n",
      "f147: False\n",
      "f148: False\n",
      "f149: False\n",
      "f150: False\n",
      "f151: False\n",
      "f153: False\n",
      "f154: False\n",
      "f160: False\n",
      "f161: False\n",
      "f162: False\n",
      "f176: False\n",
      "f177: False\n",
      "f183: False\n",
      "f184: False\n",
      "f185: False\n",
      "f199: False\n",
      "f200: False\n",
      "f206: False\n",
      "f207: False\n",
      "f208: False\n",
      "f222: False\n",
      "f223: False\n",
      "f229: False\n",
      "f230: False\n",
      "f231: False\n",
      "f245: False\n",
      "f246: False\n",
      "f252: False\n",
      "f253: False\n",
      "f254: False\n",
      "f268: False\n",
      "f269: False\n",
      "f275: False\n",
      "f276: False\n",
      "f277: False\n"
     ]
    }
   ],
   "source": [
    "for col in df_train.dtypes[df_train.dtypes == 'float64'].index:\n",
    "    print(f\"{col}: {df_train[col][df_train[col].isna() == False].apply(lambda x: x.is_integer()).all()}\")"
   ]
  },
  {
   "cell_type": "code",
   "execution_count": 19,
   "metadata": {},
   "outputs": [
    {
     "name": "stdout",
     "output_type": "stream",
     "text": [
      "C# is cool\n",
      "Python is not weird\n"
     ]
    }
   ],
   "source": [
    "def func1(s1, s2):\n",
    "    return s1 + ' is', s2 + ' is not'\n",
    "\n",
    "def func2(s1, s2):\n",
    "    print(s1 + ' cool')\n",
    "    print(s2 + ' weird')\n",
    "\n",
    "func2(*func1('C#', 'Python'))"
   ]
  },
  {
   "cell_type": "markdown",
   "metadata": {},
   "source": [
    "# Preprocess"
   ]
  },
  {
   "cell_type": "code",
   "execution_count": 3,
   "metadata": {},
   "outputs": [],
   "source": [
    "def process_f1(df_train, df_test, index):\n",
    "    ymd_train = df_train['f1'].str.split('-', expand=True).astype('int64').rename(columns={0: 'year', 1: 'month', 2: 'day'})\n",
    "    ymd_test = df_test['f1'].str.split('-', expand=True).astype('int64').rename(columns={0: 'year', 1: 'month', 2: 'day'})\n",
    "    return pd.concat([df_train, ymd_train], axis=1).drop(['f1'], axis=1), \\\n",
    "           pd.concat([df_test, ymd_test], axis=1).drop(['f1'], axis=1), \\\n",
    "           index[1:]"
   ]
  },
  {
   "cell_type": "code",
   "execution_count": 4,
   "metadata": {},
   "outputs": [],
   "source": [
    "def process_f11(df_train, df_test, index):\n",
    "    f11_unique = df_train['f11'].unique()\n",
    "    f11_encode = dict(zip(f11_unique, np.eye(len(f11_unique))))\n",
    "    encode_train = pd.DataFrame([np.nan if k == np.nan else f11_encode[k] for k in df_train['f11']], columns=f11_unique)\n",
    "    encode_test = pd.DataFrame([np.nan if k == np.nan else f11_encode[k] for k in df_test['f11']], columns=f11_unique)\n",
    "    return pd.concat([df_train, encode_train], axis=1).drop(['f11'], axis=1), \\\n",
    "           pd.concat([df_test, encode_test], axis=1).drop(['f11'], axis=1), \\\n",
    "           index[1:]"
   ]
  },
  {
   "cell_type": "code",
   "execution_count": 5,
   "metadata": {},
   "outputs": [],
   "source": [
    "def process_f12(df_train, df_test, index):\n",
    "    f12_unique = df_train['f12'].unique()\n",
    "    f12_encode = dict(zip(f12_unique, np.eye(len(f12_unique))))\n",
    "    encode_train = pd.DataFrame([np.nan if k == np.nan else f12_encode[k] for k in df_train['f12']], columns=f12_unique)\n",
    "    encode_test = pd.DataFrame([np.nan if k == np.nan else f12_encode[k] for k in df_test['f12']], columns=f12_unique)\n",
    "    return pd.concat([df_train, encode_train], axis=1).drop(['f12'], axis=1), \\\n",
    "           pd.concat([df_test, encode_test], axis=1).drop(['f12'], axis=1), \\\n",
    "           index[1:]"
   ]
  },
  {
   "cell_type": "code",
   "execution_count": 6,
   "metadata": {},
   "outputs": [],
   "source": [
    "def process_bool(df_train, df_test, index):\n",
    "    bool_index = index[:-1]\n",
    "    bool_encode = {'no': 0, 'yes': 1}\n",
    "    encoding = dict.fromkeys(bool_index, bool_encode)\n",
    "    return df_train.replace(encoding), \\\n",
    "           df_test.replace(encoding), \\\n",
    "           [index[-1]]"
   ]
  },
  {
   "cell_type": "code",
   "execution_count": 7,
   "metadata": {},
   "outputs": [],
   "source": [
    "def process_f152(df_train, df_test, index):\n",
    "    f152_encode = dict(zip(['no data', 'poor', 'satisfactory', 'good', 'excellent'], range(5)))\n",
    "    encoding = {'f152': f152_encode}\n",
    "    return df_train.replace(encoding), \\\n",
    "           df_test.replace(encoding), \\\n",
    "           index"
   ]
  },
  {
   "cell_type": "code",
   "execution_count": 8,
   "metadata": {},
   "outputs": [],
   "source": [
    "def process_categorical(df_train, df_test):\n",
    "    cat = df_train.dtypes[df_train.dtypes == type(object)]\n",
    "    cat_index = list(cat.index)\n",
    "    \n",
    "    df_train_res, df_test_res, cat_index = process_f1(df_train, df_test, cat_index)\n",
    "    df_train_res, df_test_res, cat_index = process_f11(df_train_res, df_test_res, cat_index)\n",
    "    df_train_res, df_test_res, cat_index = process_f12(df_train_res, df_test_res, cat_index)\n",
    "    df_train_res, df_test_res, cat_index = process_bool(df_train_res, df_test_res, cat_index)\n",
    "    df_train_res, df_test_res, cat_index = process_f152(df_train_res, df_test_res, cat_index)\n",
    "    return df_train_res, df_test_res"
   ]
  },
  {
   "cell_type": "code",
   "execution_count": 9,
   "metadata": {},
   "outputs": [],
   "source": [
    "from sklearn.impute import SimpleImputer, KNNImputer\n",
    "\n",
    "def impute(df):\n",
    "    # Setup imputers\n",
    "    imputer_float = KNNImputer(n_neighbors=10, weights='distance')\n",
    "    imputer_int = SimpleImputer(strategy='median')\n",
    "\n",
    "    # Find columns, containing NaN, and split into int/float\n",
    "    nan_columns = df.columns[df.isna().any()].to_list()\n",
    "    nan_is_int= df[nan_columns].replace({np.nan: 0}).applymap(lambda x: x.is_integer()).all()\n",
    "    nan_groups = nan_is_int.groupby(nan_is_int).groups  # Groups of \"true\" integers and floats\n",
    "    df_floats, df_ints = df[nan_groups[False]], df[nan_groups[True]]\n",
    "\n",
    "    # Impute missing values\n",
    "    imp_float = pd.DataFrame(imputer_float.fit_transform(df_floats), columns=df_floats.columns)\n",
    "    imp_int = pd.DataFrame(imputer_int.fit_transform(df_ints), columns=df_ints.columns)\n",
    "\n",
    "    return pd.concat([df.drop(nan_columns, axis=1), imp_float, imp_int], axis=1)\n",
    "\n",
    "def impute_na(df_train, df_test):\n",
    "    return impute(df_train), impute(df_test)"
   ]
  },
  {
   "cell_type": "code",
   "execution_count": 60,
   "metadata": {},
   "outputs": [],
   "source": [
    "from sklearn.preprocessing import MinMaxScaler, StandardScaler, Normalizer\n",
    "\n",
    "def transform(df_train, df_test):\n",
    "    transformer = Normalizer()\n",
    "    return pd.DataFrame(transformer.fit_transform(df_train), columns=df_train.columns), \\\n",
    "           pd.DataFrame(transformer.fit_transform(df_test), columns=df_test.columns)"
   ]
  },
  {
   "cell_type": "code",
   "execution_count": 11,
   "metadata": {},
   "outputs": [],
   "source": [
    "def preprocess(df_train, df_test):\n",
    "    df_train_res, df_test_res = process_categorical(df_train, df_test)\n",
    "    df_train_res, df_test_res = impute_na(df_train_res, df_test_res)\n",
    "    df_train_res, df_test_res = transform(df_train_res, df_test_res)\n",
    "    return df_train_res, df_test_res"
   ]
  },
  {
   "cell_type": "code",
   "execution_count": 12,
   "metadata": {},
   "outputs": [],
   "source": [
    "def prepare_dataset(df_train, df_test):\n",
    "    return df_train.drop(['id', 'target'], axis=1), \\\n",
    "           df_train['target'], \\\n",
    "           df_test.drop('id', axis=1)"
   ]
  },
  {
   "cell_type": "code",
   "execution_count": 23,
   "metadata": {},
   "outputs": [],
   "source": [
    "def load(train_path, test_path):\n",
    "    df_train = pd.read_csv(train_path, index_col=False)\n",
    "    df_test = pd.read_csv(test_path, index_col=False)\n",
    "    X_train, y_train, X_test = prepare_dataset(df_train, df_test)\n",
    "    X_train, X_test = preprocess(X_train, X_test)\n",
    "    return X_train, y_train, X_test"
   ]
  },
  {
   "cell_type": "code",
   "execution_count": 61,
   "metadata": {},
   "outputs": [],
   "source": [
    "X_train, y_train, X_test = load(\"input/train.csv\", \"input/test.csv\")"
   ]
  },
  {
   "cell_type": "code",
   "execution_count": 62,
   "metadata": {},
   "outputs": [
    {
     "data": {
      "text/html": [
       "<div>\n",
       "<style scoped>\n",
       "    .dataframe tbody tr th:only-of-type {\n",
       "        vertical-align: middle;\n",
       "    }\n",
       "\n",
       "    .dataframe tbody tr th {\n",
       "        vertical-align: top;\n",
       "    }\n",
       "\n",
       "    .dataframe thead th {\n",
       "        text-align: right;\n",
       "    }\n",
       "</style>\n",
       "<table border=\"1\" class=\"dataframe\">\n",
       "  <thead>\n",
       "    <tr style=\"text-align: right;\">\n",
       "      <th></th>\n",
       "      <th>f2</th>\n",
       "      <th>f13</th>\n",
       "      <th>f14</th>\n",
       "      <th>f15</th>\n",
       "      <th>f16</th>\n",
       "      <th>f17</th>\n",
       "      <th>f19</th>\n",
       "      <th>f20</th>\n",
       "      <th>f22</th>\n",
       "      <th>f23</th>\n",
       "      <th>...</th>\n",
       "      <th>f75</th>\n",
       "      <th>f76</th>\n",
       "      <th>f77</th>\n",
       "      <th>f78</th>\n",
       "      <th>f79</th>\n",
       "      <th>f80</th>\n",
       "      <th>f81</th>\n",
       "      <th>f82</th>\n",
       "      <th>f83</th>\n",
       "      <th>f99</th>\n",
       "    </tr>\n",
       "  </thead>\n",
       "  <tbody>\n",
       "    <tr>\n",
       "      <th>0</th>\n",
       "      <td>0.000003</td>\n",
       "      <td>0.999836</td>\n",
       "      <td>0.006815</td>\n",
       "      <td>5.269468e-09</td>\n",
       "      <td>1.571761e-09</td>\n",
       "      <td>0.000538</td>\n",
       "      <td>4.204987e-07</td>\n",
       "      <td>0.000569</td>\n",
       "      <td>4.969530e-07</td>\n",
       "      <td>3.822715e-08</td>\n",
       "      <td>...</td>\n",
       "      <td>3.822715e-08</td>\n",
       "      <td>0.000003</td>\n",
       "      <td>1.911358e-07</td>\n",
       "      <td>0.000064</td>\n",
       "      <td>1.299723e-06</td>\n",
       "      <td>1.142992e-05</td>\n",
       "      <td>0.000017</td>\n",
       "      <td>0.000004</td>\n",
       "      <td>3.054350e-05</td>\n",
       "      <td>1.796676e-06</td>\n",
       "    </tr>\n",
       "    <tr>\n",
       "      <th>1</th>\n",
       "      <td>0.000002</td>\n",
       "      <td>0.999989</td>\n",
       "      <td>0.000071</td>\n",
       "      <td>1.535712e-08</td>\n",
       "      <td>9.694461e-10</td>\n",
       "      <td>0.000005</td>\n",
       "      <td>0.000000e+00</td>\n",
       "      <td>0.000005</td>\n",
       "      <td>0.000000e+00</td>\n",
       "      <td>0.000000e+00</td>\n",
       "      <td>...</td>\n",
       "      <td>0.000000e+00</td>\n",
       "      <td>0.000000</td>\n",
       "      <td>0.000000e+00</td>\n",
       "      <td>0.000008</td>\n",
       "      <td>0.000000e+00</td>\n",
       "      <td>5.594666e-08</td>\n",
       "      <td>0.000004</td>\n",
       "      <td>0.000002</td>\n",
       "      <td>6.713599e-07</td>\n",
       "      <td>6.713599e-07</td>\n",
       "    </tr>\n",
       "    <tr>\n",
       "      <th>2</th>\n",
       "      <td>0.000007</td>\n",
       "      <td>0.776825</td>\n",
       "      <td>0.019580</td>\n",
       "      <td>1.211579e-08</td>\n",
       "      <td>0.000000e+00</td>\n",
       "      <td>0.001095</td>\n",
       "      <td>1.167660e-06</td>\n",
       "      <td>0.001174</td>\n",
       "      <td>1.634724e-06</td>\n",
       "      <td>2.335320e-07</td>\n",
       "      <td>...</td>\n",
       "      <td>0.000000e+00</td>\n",
       "      <td>0.000000</td>\n",
       "      <td>0.000000e+00</td>\n",
       "      <td>0.000049</td>\n",
       "      <td>0.000000e+00</td>\n",
       "      <td>0.000000e+00</td>\n",
       "      <td>0.000036</td>\n",
       "      <td>0.000008</td>\n",
       "      <td>5.604768e-06</td>\n",
       "      <td>9.808343e-06</td>\n",
       "    </tr>\n",
       "    <tr>\n",
       "      <th>3</th>\n",
       "      <td>0.000005</td>\n",
       "      <td>0.960755</td>\n",
       "      <td>0.012721</td>\n",
       "      <td>2.711932e-08</td>\n",
       "      <td>2.299471e-08</td>\n",
       "      <td>0.000729</td>\n",
       "      <td>3.654134e-07</td>\n",
       "      <td>0.000748</td>\n",
       "      <td>4.872179e-07</td>\n",
       "      <td>0.000000e+00</td>\n",
       "      <td>...</td>\n",
       "      <td>0.000000e+00</td>\n",
       "      <td>0.000000</td>\n",
       "      <td>0.000000e+00</td>\n",
       "      <td>0.000040</td>\n",
       "      <td>3.654134e-07</td>\n",
       "      <td>4.872179e-07</td>\n",
       "      <td>0.000026</td>\n",
       "      <td>0.000011</td>\n",
       "      <td>2.436090e-06</td>\n",
       "      <td>4.872179e-07</td>\n",
       "    </tr>\n",
       "    <tr>\n",
       "      <th>4</th>\n",
       "      <td>0.000003</td>\n",
       "      <td>0.997675</td>\n",
       "      <td>0.006765</td>\n",
       "      <td>7.592085e-09</td>\n",
       "      <td>1.761673e-08</td>\n",
       "      <td>0.000424</td>\n",
       "      <td>1.138476e-07</td>\n",
       "      <td>0.000439</td>\n",
       "      <td>1.707714e-07</td>\n",
       "      <td>0.000000e+00</td>\n",
       "      <td>...</td>\n",
       "      <td>0.000000e+00</td>\n",
       "      <td>0.000000</td>\n",
       "      <td>0.000000e+00</td>\n",
       "      <td>0.000017</td>\n",
       "      <td>0.000000e+00</td>\n",
       "      <td>1.138476e-07</td>\n",
       "      <td>0.000008</td>\n",
       "      <td>0.000006</td>\n",
       "      <td>3.244656e-06</td>\n",
       "      <td>1.878485e-06</td>\n",
       "    </tr>\n",
       "  </tbody>\n",
       "</table>\n",
       "<p>5 rows × 438 columns</p>\n",
       "</div>"
      ],
      "text/plain": [
       "         f2       f13       f14           f15           f16       f17  \\\n",
       "0  0.000003  0.999836  0.006815  5.269468e-09  1.571761e-09  0.000538   \n",
       "1  0.000002  0.999989  0.000071  1.535712e-08  9.694461e-10  0.000005   \n",
       "2  0.000007  0.776825  0.019580  1.211579e-08  0.000000e+00  0.001095   \n",
       "3  0.000005  0.960755  0.012721  2.711932e-08  2.299471e-08  0.000729   \n",
       "4  0.000003  0.997675  0.006765  7.592085e-09  1.761673e-08  0.000424   \n",
       "\n",
       "            f19       f20           f22           f23  ...           f75  \\\n",
       "0  4.204987e-07  0.000569  4.969530e-07  3.822715e-08  ...  3.822715e-08   \n",
       "1  0.000000e+00  0.000005  0.000000e+00  0.000000e+00  ...  0.000000e+00   \n",
       "2  1.167660e-06  0.001174  1.634724e-06  2.335320e-07  ...  0.000000e+00   \n",
       "3  3.654134e-07  0.000748  4.872179e-07  0.000000e+00  ...  0.000000e+00   \n",
       "4  1.138476e-07  0.000439  1.707714e-07  0.000000e+00  ...  0.000000e+00   \n",
       "\n",
       "        f76           f77       f78           f79           f80       f81  \\\n",
       "0  0.000003  1.911358e-07  0.000064  1.299723e-06  1.142992e-05  0.000017   \n",
       "1  0.000000  0.000000e+00  0.000008  0.000000e+00  5.594666e-08  0.000004   \n",
       "2  0.000000  0.000000e+00  0.000049  0.000000e+00  0.000000e+00  0.000036   \n",
       "3  0.000000  0.000000e+00  0.000040  3.654134e-07  4.872179e-07  0.000026   \n",
       "4  0.000000  0.000000e+00  0.000017  0.000000e+00  1.138476e-07  0.000008   \n",
       "\n",
       "        f82           f83           f99  \n",
       "0  0.000004  3.054350e-05  1.796676e-06  \n",
       "1  0.000002  6.713599e-07  6.713599e-07  \n",
       "2  0.000008  5.604768e-06  9.808343e-06  \n",
       "3  0.000011  2.436090e-06  4.872179e-07  \n",
       "4  0.000006  3.244656e-06  1.878485e-06  \n",
       "\n",
       "[5 rows x 438 columns]"
      ]
     },
     "execution_count": 62,
     "metadata": {},
     "output_type": "execute_result"
    }
   ],
   "source": [
    "X_train.head()"
   ]
  },
  {
   "cell_type": "code",
   "execution_count": 63,
   "metadata": {},
   "outputs": [
    {
     "data": {
      "text/plain": [
       "False"
      ]
     },
     "execution_count": 63,
     "metadata": {},
     "output_type": "execute_result"
    }
   ],
   "source": [
    "True in X_train.isna().values"
   ]
  },
  {
   "cell_type": "code",
   "execution_count": 64,
   "metadata": {},
   "outputs": [
    {
     "data": {
      "text/plain": [
       "0    9500000\n",
       "1    3837949\n",
       "2    6250000\n",
       "3    2000000\n",
       "4    6700000\n",
       "Name: target, dtype: int64"
      ]
     },
     "execution_count": 64,
     "metadata": {},
     "output_type": "execute_result"
    }
   ],
   "source": [
    "y_train.head()"
   ]
  },
  {
   "cell_type": "code",
   "execution_count": 65,
   "metadata": {},
   "outputs": [
    {
     "data": {
      "text/html": [
       "<div>\n",
       "<style scoped>\n",
       "    .dataframe tbody tr th:only-of-type {\n",
       "        vertical-align: middle;\n",
       "    }\n",
       "\n",
       "    .dataframe tbody tr th {\n",
       "        vertical-align: top;\n",
       "    }\n",
       "\n",
       "    .dataframe thead th {\n",
       "        text-align: right;\n",
       "    }\n",
       "</style>\n",
       "<table border=\"1\" class=\"dataframe\">\n",
       "  <thead>\n",
       "    <tr style=\"text-align: right;\">\n",
       "      <th></th>\n",
       "      <th>f2</th>\n",
       "      <th>f13</th>\n",
       "      <th>f14</th>\n",
       "      <th>f15</th>\n",
       "      <th>f16</th>\n",
       "      <th>f17</th>\n",
       "      <th>f19</th>\n",
       "      <th>f20</th>\n",
       "      <th>f22</th>\n",
       "      <th>f23</th>\n",
       "      <th>...</th>\n",
       "      <th>f75</th>\n",
       "      <th>f76</th>\n",
       "      <th>f77</th>\n",
       "      <th>f78</th>\n",
       "      <th>f79</th>\n",
       "      <th>f80</th>\n",
       "      <th>f81</th>\n",
       "      <th>f82</th>\n",
       "      <th>f83</th>\n",
       "      <th>f99</th>\n",
       "    </tr>\n",
       "  </thead>\n",
       "  <tbody>\n",
       "    <tr>\n",
       "      <th>0</th>\n",
       "      <td>0.000002</td>\n",
       "      <td>0.999957</td>\n",
       "      <td>0.000157</td>\n",
       "      <td>1.943485e-08</td>\n",
       "      <td>2.788976e-10</td>\n",
       "      <td>0.000011</td>\n",
       "      <td>0.000000e+00</td>\n",
       "      <td>0.000010</td>\n",
       "      <td>0.000000e+00</td>\n",
       "      <td>0.000000e+00</td>\n",
       "      <td>...</td>\n",
       "      <td>0.0</td>\n",
       "      <td>0.000000e+00</td>\n",
       "      <td>0.000000e+00</td>\n",
       "      <td>0.000011</td>\n",
       "      <td>0.000000</td>\n",
       "      <td>7.831653e-08</td>\n",
       "      <td>0.000005</td>\n",
       "      <td>0.000003</td>\n",
       "      <td>9.397984e-07</td>\n",
       "      <td>9.397984e-07</td>\n",
       "    </tr>\n",
       "    <tr>\n",
       "      <th>1</th>\n",
       "      <td>0.000003</td>\n",
       "      <td>0.999973</td>\n",
       "      <td>0.000157</td>\n",
       "      <td>1.943516e-08</td>\n",
       "      <td>2.789021e-10</td>\n",
       "      <td>0.000011</td>\n",
       "      <td>0.000000e+00</td>\n",
       "      <td>0.000010</td>\n",
       "      <td>0.000000e+00</td>\n",
       "      <td>0.000000e+00</td>\n",
       "      <td>...</td>\n",
       "      <td>0.0</td>\n",
       "      <td>0.000000e+00</td>\n",
       "      <td>0.000000e+00</td>\n",
       "      <td>0.000011</td>\n",
       "      <td>0.000000</td>\n",
       "      <td>7.831780e-08</td>\n",
       "      <td>0.000005</td>\n",
       "      <td>0.000003</td>\n",
       "      <td>9.398136e-07</td>\n",
       "      <td>9.398136e-07</td>\n",
       "    </tr>\n",
       "    <tr>\n",
       "      <th>2</th>\n",
       "      <td>0.000003</td>\n",
       "      <td>0.511800</td>\n",
       "      <td>0.005279</td>\n",
       "      <td>4.583622e-09</td>\n",
       "      <td>5.473705e-12</td>\n",
       "      <td>0.000297</td>\n",
       "      <td>2.801540e-07</td>\n",
       "      <td>0.000448</td>\n",
       "      <td>2.801540e-07</td>\n",
       "      <td>7.003851e-08</td>\n",
       "      <td>...</td>\n",
       "      <td>0.0</td>\n",
       "      <td>3.501925e-07</td>\n",
       "      <td>7.003851e-08</td>\n",
       "      <td>0.000046</td>\n",
       "      <td>0.000018</td>\n",
       "      <td>7.354043e-06</td>\n",
       "      <td>0.000011</td>\n",
       "      <td>0.000005</td>\n",
       "      <td>3.992195e-06</td>\n",
       "      <td>3.501925e-07</td>\n",
       "    </tr>\n",
       "    <tr>\n",
       "      <th>3</th>\n",
       "      <td>0.000002</td>\n",
       "      <td>0.995239</td>\n",
       "      <td>0.009234</td>\n",
       "      <td>2.009066e-08</td>\n",
       "      <td>2.443350e-09</td>\n",
       "      <td>0.000550</td>\n",
       "      <td>4.753063e-07</td>\n",
       "      <td>0.000565</td>\n",
       "      <td>5.347196e-07</td>\n",
       "      <td>0.000000e+00</td>\n",
       "      <td>...</td>\n",
       "      <td>0.0</td>\n",
       "      <td>6.535462e-07</td>\n",
       "      <td>0.000000e+00</td>\n",
       "      <td>0.000027</td>\n",
       "      <td>0.000003</td>\n",
       "      <td>2.495358e-06</td>\n",
       "      <td>0.000006</td>\n",
       "      <td>0.000010</td>\n",
       "      <td>5.347196e-06</td>\n",
       "      <td>1.544746e-06</td>\n",
       "    </tr>\n",
       "    <tr>\n",
       "      <th>4</th>\n",
       "      <td>0.000025</td>\n",
       "      <td>0.926716</td>\n",
       "      <td>0.012046</td>\n",
       "      <td>5.140045e-08</td>\n",
       "      <td>0.000000e+00</td>\n",
       "      <td>0.000632</td>\n",
       "      <td>9.867259e-07</td>\n",
       "      <td>0.000666</td>\n",
       "      <td>9.867259e-07</td>\n",
       "      <td>0.000000e+00</td>\n",
       "      <td>...</td>\n",
       "      <td>0.0</td>\n",
       "      <td>0.000000e+00</td>\n",
       "      <td>0.000000e+00</td>\n",
       "      <td>0.000043</td>\n",
       "      <td>0.000000</td>\n",
       "      <td>0.000000e+00</td>\n",
       "      <td>0.000028</td>\n",
       "      <td>0.000004</td>\n",
       "      <td>1.065664e-05</td>\n",
       "      <td>6.512391e-06</td>\n",
       "    </tr>\n",
       "  </tbody>\n",
       "</table>\n",
       "<p>5 rows × 438 columns</p>\n",
       "</div>"
      ],
      "text/plain": [
       "         f2       f13       f14           f15           f16       f17  \\\n",
       "0  0.000002  0.999957  0.000157  1.943485e-08  2.788976e-10  0.000011   \n",
       "1  0.000003  0.999973  0.000157  1.943516e-08  2.789021e-10  0.000011   \n",
       "2  0.000003  0.511800  0.005279  4.583622e-09  5.473705e-12  0.000297   \n",
       "3  0.000002  0.995239  0.009234  2.009066e-08  2.443350e-09  0.000550   \n",
       "4  0.000025  0.926716  0.012046  5.140045e-08  0.000000e+00  0.000632   \n",
       "\n",
       "            f19       f20           f22           f23  ...  f75           f76  \\\n",
       "0  0.000000e+00  0.000010  0.000000e+00  0.000000e+00  ...  0.0  0.000000e+00   \n",
       "1  0.000000e+00  0.000010  0.000000e+00  0.000000e+00  ...  0.0  0.000000e+00   \n",
       "2  2.801540e-07  0.000448  2.801540e-07  7.003851e-08  ...  0.0  3.501925e-07   \n",
       "3  4.753063e-07  0.000565  5.347196e-07  0.000000e+00  ...  0.0  6.535462e-07   \n",
       "4  9.867259e-07  0.000666  9.867259e-07  0.000000e+00  ...  0.0  0.000000e+00   \n",
       "\n",
       "            f77       f78       f79           f80       f81       f82  \\\n",
       "0  0.000000e+00  0.000011  0.000000  7.831653e-08  0.000005  0.000003   \n",
       "1  0.000000e+00  0.000011  0.000000  7.831780e-08  0.000005  0.000003   \n",
       "2  7.003851e-08  0.000046  0.000018  7.354043e-06  0.000011  0.000005   \n",
       "3  0.000000e+00  0.000027  0.000003  2.495358e-06  0.000006  0.000010   \n",
       "4  0.000000e+00  0.000043  0.000000  0.000000e+00  0.000028  0.000004   \n",
       "\n",
       "            f83           f99  \n",
       "0  9.397984e-07  9.397984e-07  \n",
       "1  9.398136e-07  9.398136e-07  \n",
       "2  3.992195e-06  3.501925e-07  \n",
       "3  5.347196e-06  1.544746e-06  \n",
       "4  1.065664e-05  6.512391e-06  \n",
       "\n",
       "[5 rows x 438 columns]"
      ]
     },
     "execution_count": 65,
     "metadata": {},
     "output_type": "execute_result"
    }
   ],
   "source": [
    "X_test.head()"
   ]
  },
  {
   "cell_type": "code",
   "execution_count": 66,
   "metadata": {},
   "outputs": [
    {
     "data": {
      "text/plain": [
       "False"
      ]
     },
     "execution_count": 66,
     "metadata": {},
     "output_type": "execute_result"
    }
   ],
   "source": [
    "True in X_test.isna().values"
   ]
  },
  {
   "cell_type": "code",
   "execution_count": 67,
   "metadata": {},
   "outputs": [
    {
     "data": {
      "text/plain": [
       "((24376, 438), (24376,), (6095, 438))"
      ]
     },
     "execution_count": 67,
     "metadata": {},
     "output_type": "execute_result"
    }
   ],
   "source": [
    "X_train.shape, y_train.shape, X_test.shape"
   ]
  },
  {
   "cell_type": "markdown",
   "metadata": {},
   "source": [
    "# Train pipeline"
   ]
  },
  {
   "cell_type": "code",
   "execution_count": 69,
   "metadata": {},
   "outputs": [],
   "source": [
    "from sklearn.metrics import make_scorer\n",
    "\n",
    "def rmsle(y, y_pred, **kwargs):\n",
    "    # Allow negative predictions \n",
    "    # by incorporating prediction sign\n",
    "    terms = [np.sign(pred) * np.log(1 + np.sign(pred) * pred) - np.log(1 + targ) for pred, targ in zip(y_pred, y)]\n",
    "    return np.sqrt(np.sum(np.power(terms, 2.0)) / len(y))\n",
    "\n",
    "rmsle_scorer = make_scorer(rmsle, greater_is_better=False)"
   ]
  },
  {
   "cell_type": "code",
   "execution_count": 70,
   "metadata": {},
   "outputs": [],
   "source": [
    "from sklearn.model_selection import cross_val_score, RandomizedSearchCV\n",
    "\n",
    "def train(model, X, y, score=True, cv=5, tune=False, params=None, n_iter=10):\n",
    "    if tune:\n",
    "        if score:\n",
    "            print(f\"Pre-tune CV scores: {cross_val_score(model, X, y, cv=cv, scoring=rmsle_scorer)}\")\n",
    "        \n",
    "        rscv = RandomizedSearchCV(model, params, n_iter=n_iter, scoring=rmsle_scorer, refit=True, cv=cv, random_state=3927)\n",
    "        rscv.fit(X, y)\n",
    "        print(f\"Best params: {rscv.best_params_}\")\n",
    "        model_tr = rscv.best_estimator_\n",
    "\n",
    "        if score:\n",
    "            print(f\"Post-tune CV scores: {cross_val_score(model_tr, X, y, cv=cv, scoring=rmsle_scorer)}\")\n",
    "    else:\n",
    "        model_tr = model.fit(X, y)\n",
    "    \n",
    "        if score:\n",
    "            print(f\"CV scores: {cross_val_score(model_tr, X, y, cv=cv, scoring=rmsle_scorer)}\")\n",
    "\n",
    "    return model_tr"
   ]
  },
  {
   "cell_type": "markdown",
   "metadata": {},
   "source": [
    "# Test pipeline"
   ]
  },
  {
   "cell_type": "code",
   "execution_count": 71,
   "metadata": {},
   "outputs": [],
   "source": [
    "def test(model, X):\n",
    "    pred = model.predict(X)\n",
    "    data = list(zip(range(1, len(pred) + 1), pred))\n",
    "    return pd.DataFrame(data, columns=['id', 'prediction'])"
   ]
  },
  {
   "cell_type": "markdown",
   "metadata": {},
   "source": [
    "# Setup model"
   ]
  },
  {
   "cell_type": "markdown",
   "metadata": {},
   "source": [
    "## Ridge"
   ]
  },
  {
   "cell_type": "code",
   "execution_count": 72,
   "metadata": {},
   "outputs": [],
   "source": [
    "from sklearn.linear_model import Ridge\n",
    "from scipy.stats import loguniform, uniform"
   ]
  },
  {
   "cell_type": "code",
   "execution_count": 73,
   "metadata": {},
   "outputs": [
    {
     "name": "stdout",
     "output_type": "stream",
     "text": [
      "Pre-tune CV scores: [-0.60000799 -0.60348582 -0.60745596 -0.60441781 -0.62379452]\n",
      "Best params: {'alpha': 1.738157608461319}\n",
      "Post-tune CV scores: [-0.60021189 -0.6031775  -0.60753366 -0.60417195 -0.62365405]\n"
     ]
    },
    {
     "data": {
      "text/plain": [
       "Ridge(alpha=1.738157608461319, random_state=3927)"
      ]
     },
     "execution_count": 73,
     "metadata": {},
     "output_type": "execute_result"
    }
   ],
   "source": [
    "model = Ridge(random_state=3927)\n",
    "params = {'alpha': loguniform(1, 10000)}\n",
    "\n",
    "model = train(model, X_train, y_train, tune=True, params=params, n_iter=100)\n",
    "model"
   ]
  },
  {
   "cell_type": "code",
   "execution_count": 74,
   "metadata": {},
   "outputs": [
    {
     "name": "stdout",
     "output_type": "stream",
     "text": [
      "Pre-tune CV scores: [-0.60000799 -0.60348582 -0.60745596 -0.60441781 -0.62379452]\n",
      "Best params: {'alpha': 0.9653009578533324}\n",
      "Post-tune CV scores: [-0.59999686 -0.60353432 -0.60745569 -0.60444701 -0.62382557]\n"
     ]
    },
    {
     "data": {
      "text/plain": [
       "Ridge(alpha=0.9653009578533324, random_state=3927)"
      ]
     },
     "execution_count": 74,
     "metadata": {},
     "output_type": "execute_result"
    }
   ],
   "source": [
    "model = Ridge(random_state=3927)\n",
    "params = {'alpha': loguniform(0.001, 1)}\n",
    "\n",
    "model = train(model, X_train, y_train, tune=True, params=params, n_iter=100)\n",
    "model"
   ]
  },
  {
   "cell_type": "markdown",
   "metadata": {},
   "source": [
    "## ElasticNet"
   ]
  },
  {
   "cell_type": "code",
   "execution_count": 75,
   "metadata": {},
   "outputs": [],
   "source": [
    "from sklearn.linear_model import ElasticNet\n",
    "from scipy.stats import loguniform, uniform"
   ]
  },
  {
   "cell_type": "code",
   "execution_count": 76,
   "metadata": {},
   "outputs": [
    {
     "name": "stdout",
     "output_type": "stream",
     "text": [
      "Pre-tune CV scores: [-0.61793116 -0.61371143 -0.62756285 -0.62152099 -0.63506551]\n",
      "Best params: {'alpha': 0.034339915870309524, 'l1_ratio': 0.7688000396844558}\n",
      "Post-tune CV scores: [-0.60329539 -0.60547727 -0.61235485 -0.60602077 -0.62584919]\n"
     ]
    },
    {
     "data": {
      "text/plain": [
       "ElasticNet(alpha=0.034339915870309524, l1_ratio=0.7688000396844558,\n",
       "           max_iter=500, random_state=3927, selection='random')"
      ]
     },
     "execution_count": 76,
     "metadata": {},
     "output_type": "execute_result"
    }
   ],
   "source": [
    "model = ElasticNet(max_iter=500, selection='random', random_state=3927)\n",
    "params = {'alpha': loguniform(0.01, 100), 'l1_ratio': uniform(0.1, 0.8)}\n",
    "\n",
    "model = train(model, X_train, y_train, tune=True, params=params, n_iter=10)\n",
    "model"
   ]
  },
  {
   "cell_type": "markdown",
   "metadata": {},
   "source": [
    "## DecisionTree"
   ]
  },
  {
   "cell_type": "code",
   "execution_count": 77,
   "metadata": {},
   "outputs": [],
   "source": [
    "from sklearn.tree import DecisionTreeRegressor"
   ]
  },
  {
   "cell_type": "code",
   "execution_count": 78,
   "metadata": {},
   "outputs": [
    {
     "name": "stdout",
     "output_type": "stream",
     "text": [
      "Pre-tune CV scores: [-0.66235402 -0.66574107 -0.65846784 -0.66679303 -0.66972977]\n",
      "Best params: {'min_weight_fraction_leaf': 0.1, 'min_samples_leaf': 3, 'max_leaf_nodes': 70, 'max_depth': None}\n",
      "Post-tune CV scores: [-0.59148096 -0.59375481 -0.60045088 -0.59816698 -0.61848356]\n"
     ]
    },
    {
     "data": {
      "text/plain": [
       "DecisionTreeRegressor(max_leaf_nodes=70, min_samples_leaf=3,\n",
       "                      min_weight_fraction_leaf=0.1, random_state=3927)"
      ]
     },
     "execution_count": 78,
     "metadata": {},
     "output_type": "execute_result"
    }
   ],
   "source": [
    "model = DecisionTreeRegressor(random_state=3927)\n",
    "params = {\"max_depth\" : [None, 1, 3, 5, 7, 9],\n",
    "          \"min_samples_leaf\": [1, 3, 5, 7, 9],\n",
    "          \"min_weight_fraction_leaf\": [0.1, 0.2, 0.3, 0.4, 0.5],\n",
    "          \"max_leaf_nodes\": [None, 10, 30, 50, 70, 90]}\n",
    "\n",
    "model = train(model, X_train, y_train, tune=True, params=params, n_iter=20)\n",
    "model"
   ]
  },
  {
   "cell_type": "markdown",
   "metadata": {},
   "source": [
    "## SGD"
   ]
  },
  {
   "cell_type": "code",
   "execution_count": 80,
   "metadata": {},
   "outputs": [],
   "source": [
    "from sklearn.linear_model import SGDRegressor\n",
    "from scipy.stats import loguniform, uniform"
   ]
  },
  {
   "cell_type": "code",
   "execution_count": 81,
   "metadata": {},
   "outputs": [
    {
     "name": "stdout",
     "output_type": "stream",
     "text": [
      "Pre-tune CV scores: [-0.60184232 -0.60206038 -0.60952616 -0.60570489 -0.62559363]\n",
      "Best params: {'alpha': 75.64173072984201}\n",
      "Post-tune CV scores: [-0.62324302 -0.61909415 -0.62862468 -0.6263908  -0.63351724]\n"
     ]
    },
    {
     "data": {
      "text/plain": [
       "SGDRegressor(alpha=75.64173072984201, max_iter=5000, random_state=3927)"
      ]
     },
     "execution_count": 81,
     "metadata": {},
     "output_type": "execute_result"
    }
   ],
   "source": [
    "model = SGDRegressor(max_iter=5000, penalty='l2', random_state=3927)\n",
    "params = {'alpha': uniform(0.001, 1000)}\n",
    "\n",
    "model = train(model, X_train, y_train, tune=True, params=params, n_iter=10)\n",
    "model"
   ]
  },
  {
   "cell_type": "code",
   "execution_count": 82,
   "metadata": {},
   "outputs": [
    {
     "name": "stdout",
     "output_type": "stream",
     "text": [
      "Pre-tune CV scores: [-0.6018405  -0.60205898 -0.60952005 -0.60570345 -0.62559216]\n",
      "Best params: {'alpha': 0.005012444501918985, 'l1_ratio': 0.2919813353920865}\n",
      "Post-tune CV scores: [-0.60308389 -0.60236847 -0.60717254 -0.60343441 -0.62382585]\n"
     ]
    },
    {
     "data": {
      "text/plain": [
       "SGDRegressor(alpha=0.005012444501918985, l1_ratio=0.2919813353920865,\n",
       "             max_iter=5000, penalty='elasticnet', random_state=3927)"
      ]
     },
     "execution_count": 82,
     "metadata": {},
     "output_type": "execute_result"
    }
   ],
   "source": [
    "model = SGDRegressor(max_iter=5000, penalty='elasticnet', random_state=3927)\n",
    "params = {'alpha': loguniform(0.001, 1000), 'l1_ratio': uniform(0.1, 0.8)}\n",
    "\n",
    "model = train(model, X_train, y_train, tune=True, params=params, n_iter=10)\n",
    "model"
   ]
  },
  {
   "cell_type": "code",
   "execution_count": 83,
   "metadata": {},
   "outputs": [
    {
     "name": "stdout",
     "output_type": "stream",
     "text": [
      "Pre-tune CV scores: [-0.6018405  -0.60205898 -0.60952005 -0.60570345 -0.62559216]\n",
      "Best params: {'alpha': 0.1340498067109922, 'l1_ratio': 0.7688000396844558}\n",
      "Post-tune CV scores: [-0.60382075 -0.60341686 -0.61697702 -0.60296978 -0.62210577]\n"
     ]
    },
    {
     "data": {
      "text/plain": [
       "SGDRegressor(alpha=0.1340498067109922, l1_ratio=0.7688000396844558,\n",
       "             max_iter=5000, penalty='elasticnet', random_state=3927)"
      ]
     },
     "execution_count": 83,
     "metadata": {},
     "output_type": "execute_result"
    }
   ],
   "source": [
    "model = SGDRegressor(max_iter=5000, penalty='elasticnet', random_state=3927)\n",
    "params = {'alpha': uniform(0.0001, 1), 'l1_ratio': uniform(0.1, 0.8)}\n",
    "\n",
    "model = train(model, X_train, y_train, tune=True, params=params, n_iter=10)\n",
    "model"
   ]
  },
  {
   "cell_type": "code",
   "execution_count": 38,
   "metadata": {},
   "outputs": [
    {
     "name": "stdout",
     "output_type": "stream",
     "text": [
      "Pre-train CV scores: [-0.52058201 -0.80294035 -0.52343453 -0.67453236 -0.66563684]\n",
      "Best params: {'alpha': 0.01169749033554961, 'l1_ratio': 0.7688000396844558}\n",
      "Post-train CV scores: [-0.51815211 -0.53837724 -0.53557793 -0.54162234 -0.56373763]\n"
     ]
    },
    {
     "data": {
      "text/plain": [
       "SGDRegressor(alpha=0.01169749033554961, l1_ratio=0.7688000396844558,\n",
       "             max_iter=5000, penalty='elasticnet', random_state=3927)"
      ]
     },
     "execution_count": 38,
     "metadata": {},
     "output_type": "execute_result"
    }
   ],
   "source": [
    "model = SGDRegressor(max_iter=5000, penalty='elasticnet', random_state=3927)\n",
    "params = {'alpha': uniform(0.005, 0.05), 'l1_ratio': uniform(0.1, 0.8)}\n",
    "\n",
    "model = train(model, X_train, y_train, tune=True, params=params, n_iter=10)\n",
    "model"
   ]
  },
  {
   "cell_type": "markdown",
   "metadata": {},
   "source": [
    "## Stacking"
   ]
  },
  {
   "cell_type": "code",
   "execution_count": 84,
   "metadata": {},
   "outputs": [],
   "source": [
    "from sklearn.linear_model import Ridge\n",
    "from sklearn.linear_model import ElasticNet\n",
    "from sklearn.tree import DecisionTreeRegressor\n",
    "from sklearn.linear_model import SGDRegressor\n",
    "from sklearn.ensemble import StackingRegressor"
   ]
  },
  {
   "cell_type": "code",
   "execution_count": 86,
   "metadata": {},
   "outputs": [
    {
     "name": "stdout",
     "output_type": "stream",
     "text": [
      "CV scores: [-27.28249445 -28.71580287 -15.66973739 -22.25587526 -29.54273279]\n"
     ]
    },
    {
     "data": {
      "text/plain": [
       "StackingRegressor(estimators=[('RIDGE', Ridge(alpha=1, random_state=3927)),\n",
       "                              ('ELNET',\n",
       "                               ElasticNet(alpha=0.01, l1_ratio=0.6,\n",
       "                                          max_iter=500, random_state=3927,\n",
       "                                          selection='random')),\n",
       "                              ('DTREE',\n",
       "                               DecisionTreeRegressor(max_leaf_nodes=70,\n",
       "                                                     min_samples_leaf=3,\n",
       "                                                     min_weight_fraction_leaf=0.1,\n",
       "                                                     random_state=3927)),\n",
       "                              ('SGDR',\n",
       "                               SGDRegressor(alpha=0.01, l1_ratio=0.6,\n",
       "                                            max_iter=5000, penalty='elasticnet',\n",
       "                                            random_state=3927))],\n",
       "                  n_jobs=-1)"
      ]
     },
     "execution_count": 86,
     "metadata": {},
     "output_type": "execute_result"
    }
   ],
   "source": [
    "estimators = [\n",
    "    ('RIDGE', Ridge(alpha=1, random_state=3927)),\n",
    "    ('ELNET', ElasticNet(max_iter=500, alpha=0.01, l1_ratio=0.6, selection='random', random_state=3927)),\n",
    "    ('DTREE', DecisionTreeRegressor(max_leaf_nodes=70, min_samples_leaf=3,\n",
    "                                    min_weight_fraction_leaf=0.1, random_state=3927)),\n",
    "    ('SGDR', SGDRegressor(max_iter=5000, penalty='elasticnet', alpha=0.01, l1_ratio=0.6, random_state=3927))\n",
    "]\n",
    "model = StackingRegressor(estimators, n_jobs=-1)\n",
    "\n",
    "model = train(model, X_train, y_train)\n",
    "model"
   ]
  },
  {
   "cell_type": "code",
   "execution_count": 87,
   "metadata": {},
   "outputs": [
    {
     "name": "stdout",
     "output_type": "stream",
     "text": [
      "CV scores: [-0.59551544 -0.5980722  -0.60405917 -0.60086041 -0.61951078]\n"
     ]
    },
    {
     "data": {
      "text/plain": [
       "StackingRegressor(estimators=[('RIDGE', Ridge(alpha=1, random_state=3927)),\n",
       "                              ('ELNET',\n",
       "                               ElasticNet(alpha=0.01, l1_ratio=0.6,\n",
       "                                          max_iter=500, random_state=3927,\n",
       "                                          selection='random')),\n",
       "                              ('SGDR',\n",
       "                               SGDRegressor(alpha=0.01, l1_ratio=0.6,\n",
       "                                            max_iter=5000, penalty='elasticnet',\n",
       "                                            random_state=3927))],\n",
       "                  final_estimator=DecisionTreeRegressor(max_leaf_nodes=70,\n",
       "                                                        min_samples_leaf=3,\n",
       "                                                        min_weight_fraction_leaf=0.1,\n",
       "                                                        random_state=3927),\n",
       "                  n_jobs=-1)"
      ]
     },
     "execution_count": 87,
     "metadata": {},
     "output_type": "execute_result"
    }
   ],
   "source": [
    "estimators = [\n",
    "    ('RIDGE', Ridge(alpha=1, random_state=3927)),\n",
    "    ('ELNET', ElasticNet(max_iter=500, alpha=0.01, l1_ratio=0.6, selection='random', random_state=3927)),\n",
    "    ('SGDR', SGDRegressor(max_iter=5000, penalty='elasticnet', alpha=0.01, l1_ratio=0.6, random_state=3927))\n",
    "]\n",
    "final = DecisionTreeRegressor(max_leaf_nodes=70, min_samples_leaf=3,\n",
    "                                    min_weight_fraction_leaf=0.1, random_state=3927)\n",
    "model = StackingRegressor(estimators, final_estimator=final, n_jobs=-1)\n",
    "\n",
    "model = train(model, X_train, y_train)\n",
    "model"
   ]
  },
  {
   "cell_type": "markdown",
   "metadata": {},
   "source": [
    "## Bagging"
   ]
  },
  {
   "cell_type": "code",
   "execution_count": 88,
   "metadata": {},
   "outputs": [],
   "source": [
    "from sklearn.ensemble import BaggingRegressor\n",
    "from scipy.stats import randint"
   ]
  },
  {
   "cell_type": "code",
   "execution_count": 102,
   "metadata": {},
   "outputs": [
    {
     "name": "stdout",
     "output_type": "stream",
     "text": [
      "Pre-tune CV scores: [-0.47788705 -0.48441964 -0.49308377 -0.50106005 -0.50426299]\n",
      "Best params: {'max_features': 8, 'max_samples': 96}\n",
      "Post-tune CV scores: [-0.60069901 -0.59479298 -0.60073053 -0.59615137 -0.62399794]\n"
     ]
    },
    {
     "data": {
      "text/plain": [
       "BaggingRegressor(max_features=8, max_samples=96, n_jobs=-1, random_state=3927)"
      ]
     },
     "execution_count": 102,
     "metadata": {},
     "output_type": "execute_result"
    }
   ],
   "source": [
    "model = BaggingRegressor(n_estimators=10, n_jobs=-1, random_state=3927)\n",
    "params = {'max_samples': randint(1, 100), 'max_features': randint(1, 20)}\n",
    "\n",
    "model = train(model, X_train, y_train, tune=True, params=params, n_iter=30)\n",
    "model"
   ]
  },
  {
   "cell_type": "code",
   "execution_count": 110,
   "metadata": {},
   "outputs": [
    {
     "name": "stdout",
     "output_type": "stream",
     "text": [
      "CV scores: [-0.46414895 -0.4710153  -0.48348008 -0.48675993 -0.49328828]\n"
     ]
    },
    {
     "data": {
      "text/plain": [
       "BaggingRegressor(n_estimators=100, n_jobs=-1, random_state=3927)"
      ]
     },
     "execution_count": 110,
     "metadata": {},
     "output_type": "execute_result"
    }
   ],
   "source": [
    "model = BaggingRegressor(n_estimators=100, n_jobs=-1, random_state=3927)\n",
    "\n",
    "model = train(model, X_train, y_train)\n",
    "model"
   ]
  },
  {
   "cell_type": "code",
   "execution_count": 90,
   "metadata": {},
   "outputs": [
    {
     "name": "stdout",
     "output_type": "stream",
     "text": [
      "Pre-tune CV scores: [-0.60038772 -0.60371702 -0.60781098 -0.6049524  -0.62425982]\n",
      "Best params: {'max_features': 17, 'max_samples': 30}\n",
      "Post-tune CV scores: [-0.61641832 -0.62776915 -0.63349879 -0.62867303 -0.63003017]\n"
     ]
    },
    {
     "data": {
      "text/plain": [
       "BaggingRegressor(base_estimator=Ridge(alpha=1, random_state=3927),\n",
       "                 max_features=17, max_samples=30, n_estimators=20, n_jobs=-1,\n",
       "                 random_state=3927)"
      ]
     },
     "execution_count": 90,
     "metadata": {},
     "output_type": "execute_result"
    }
   ],
   "source": [
    "base = Ridge(alpha=1, random_state=3927)\n",
    "model = BaggingRegressor(base_estimator=base, n_estimators=20, n_jobs=-1, random_state=3927)\n",
    "params = {'max_samples': randint(1, 100), 'max_features': randint(1, 20)}\n",
    "\n",
    "model = train(model, X_train, y_train, tune=True, params=params, n_iter=10)\n",
    "model"
   ]
  },
  {
   "cell_type": "code",
   "execution_count": 91,
   "metadata": {},
   "outputs": [
    {
     "name": "stdout",
     "output_type": "stream",
     "text": [
      "Pre-tune CV scores: [-0.60772179 -0.60589377 -0.60805996 -0.60706383 -0.62722213]\n",
      "Best params: {'max_features': 12, 'max_samples': 60}\n",
      "Post-tune CV scores: [-0.61628121 -0.60219481 -0.61696946 -0.62098255 -0.62340703]\n"
     ]
    },
    {
     "data": {
      "text/plain": [
       "BaggingRegressor(base_estimator=SGDRegressor(alpha=0.01, l1_ratio=0.6,\n",
       "                                             max_iter=5000,\n",
       "                                             penalty='elasticnet',\n",
       "                                             random_state=3927),\n",
       "                 max_features=12, max_samples=60, n_estimators=2, n_jobs=-1,\n",
       "                 random_state=3927)"
      ]
     },
     "execution_count": 91,
     "metadata": {},
     "output_type": "execute_result"
    }
   ],
   "source": [
    "base = SGDRegressor(max_iter=5000, alpha=0.01, l1_ratio=0.6, penalty='elasticnet', random_state=3927)\n",
    "model = BaggingRegressor(base_estimator=base, n_estimators=2, n_jobs=-1, random_state=3927)\n",
    "params = {'max_samples': randint(1, 100), 'max_features': randint(1, 20)}\n",
    "\n",
    "model = train(model, X_train, y_train, tune=True, params=params, n_iter=10)\n",
    "model"
   ]
  },
  {
   "cell_type": "markdown",
   "metadata": {},
   "source": [
    "## Boosting"
   ]
  },
  {
   "cell_type": "markdown",
   "metadata": {},
   "source": [
    "### AdaBoost"
   ]
  },
  {
   "cell_type": "code",
   "execution_count": 92,
   "metadata": {},
   "outputs": [],
   "source": [
    "from sklearn.ensemble import AdaBoostRegressor"
   ]
  },
  {
   "cell_type": "code",
   "execution_count": 93,
   "metadata": {},
   "outputs": [
    {
     "name": "stdout",
     "output_type": "stream",
     "text": [
      "CV scores: [-0.62612785 -0.63610368 -0.70419332 -0.68575288 -0.65371367]\n"
     ]
    },
    {
     "data": {
      "text/plain": [
       "AdaBoostRegressor(loss='square', n_estimators=10, random_state=3927)"
      ]
     },
     "execution_count": 93,
     "metadata": {},
     "output_type": "execute_result"
    }
   ],
   "source": [
    "model = AdaBoostRegressor(n_estimators=10, loss='square', random_state=3927)\n",
    "\n",
    "model = train(model, X_train, y_train)\n",
    "model"
   ]
  },
  {
   "cell_type": "code",
   "execution_count": 96,
   "metadata": {},
   "outputs": [
    {
     "name": "stdout",
     "output_type": "stream",
     "text": [
      "CV scores: [-0.59987581 -0.60262106 -0.60742434 -0.6040483  -0.62469991]\n"
     ]
    },
    {
     "data": {
      "text/plain": [
       "AdaBoostRegressor(base_estimator=Ridge(alpha=1, random_state=3927),\n",
       "                  loss='square', n_estimators=2, random_state=3927)"
      ]
     },
     "execution_count": 96,
     "metadata": {},
     "output_type": "execute_result"
    }
   ],
   "source": [
    "base = Ridge(alpha=1, random_state=3927)\n",
    "model = AdaBoostRegressor(base_estimator=base, n_estimators=2, loss='square', random_state=3927)\n",
    "\n",
    "model = train(model, X_train, y_train)\n",
    "model"
   ]
  },
  {
   "cell_type": "code",
   "execution_count": 97,
   "metadata": {},
   "outputs": [
    {
     "name": "stdout",
     "output_type": "stream",
     "text": [
      "CV scores: [-0.5987626  -0.60642201 -0.61348093 -0.60559309 -0.63237204]\n"
     ]
    },
    {
     "data": {
      "text/plain": [
       "AdaBoostRegressor(base_estimator=SGDRegressor(alpha=0.01, l1_ratio=0.6,\n",
       "                                              max_iter=5000,\n",
       "                                              penalty='elasticnet',\n",
       "                                              random_state=3927),\n",
       "                  loss='square', n_estimators=2, random_state=3927)"
      ]
     },
     "execution_count": 97,
     "metadata": {},
     "output_type": "execute_result"
    }
   ],
   "source": [
    "base = SGDRegressor(max_iter=5000, alpha=0.01, l1_ratio=0.6, penalty='elasticnet', random_state=3927)\n",
    "model = AdaBoostRegressor(base_estimator=base, n_estimators=2, loss='square', random_state=3927)\n",
    "\n",
    "model = train(model, X_train, y_train)\n",
    "model"
   ]
  },
  {
   "cell_type": "markdown",
   "metadata": {},
   "source": [
    "### GradientBoosting"
   ]
  },
  {
   "cell_type": "code",
   "execution_count": 98,
   "metadata": {},
   "outputs": [],
   "source": [
    "from sklearn.ensemble import GradientBoostingRegressor"
   ]
  },
  {
   "cell_type": "code",
   "execution_count": 99,
   "metadata": {},
   "outputs": [
    {
     "name": "stdout",
     "output_type": "stream",
     "text": [
      "CV scores: [-0.58158919 -0.57946082 -0.5900043  -0.58762625 -0.6051725 ]\n"
     ]
    },
    {
     "data": {
      "text/plain": [
       "GradientBoostingRegressor(n_estimators=10, random_state=3927)"
      ]
     },
     "execution_count": 99,
     "metadata": {},
     "output_type": "execute_result"
    }
   ],
   "source": [
    "model = GradientBoostingRegressor(n_estimators=10, random_state=3927)\n",
    "\n",
    "model = train(model, X_train, y_train)\n",
    "model"
   ]
  },
  {
   "cell_type": "code",
   "execution_count": 100,
   "metadata": {},
   "outputs": [
    {
     "name": "stdout",
     "output_type": "stream",
     "text": [
      "CV scores: [-0.53934113 -0.53961423 -0.55229335 -0.55318057 -0.56992807]\n"
     ]
    },
    {
     "data": {
      "text/plain": [
       "GradientBoostingRegressor(random_state=3927)"
      ]
     },
     "execution_count": 100,
     "metadata": {},
     "output_type": "execute_result"
    }
   ],
   "source": [
    "model = GradientBoostingRegressor(n_estimators=100, random_state=3927)\n",
    "\n",
    "model = train(model, X_train, y_train)\n",
    "model"
   ]
  },
  {
   "cell_type": "markdown",
   "metadata": {},
   "source": [
    "## Custom"
   ]
  },
  {
   "cell_type": "code",
   "execution_count": 75,
   "metadata": {},
   "outputs": [
    {
     "name": "stdout",
     "output_type": "stream",
     "text": [
      "Warning: Desired error not necessarily achieved due to precision loss.\n",
      "         Current function value: 12.055089\n",
      "         Iterations: 59\n",
      "         Function evaluations: 35574\n",
      "         Gradient evaluations: 121\n",
      "[-5.89652413e+02 -7.01089037e+02 -9.62186457e+02  3.33754164e+02\n",
      "  3.42381794e+02  1.30231496e+03  1.79167827e+03  1.43884259e+03\n",
      " -7.49728366e+01  5.79214141e+01  5.28944642e+02  1.83410402e+02\n",
      "  4.22472647e+02 -4.17908865e+03 -4.98516620e+02 -1.61690452e+00\n",
      "  1.78767081e+03 -1.72826181e+02 -1.18831036e+02  8.27094063e+02\n",
      "  1.01015129e+01 -1.75484736e+02  5.85650009e+02 -1.86386872e+02\n",
      " -2.81608946e+02 -4.88085043e+02  2.36373631e+02 -6.46890542e+02\n",
      " -5.44585001e+02 -7.94931163e+02 -1.52572017e+03 -1.24195282e+03\n",
      " -6.74089905e+02 -1.37164174e+03 -3.09696457e+02 -3.64522345e+02\n",
      "  1.55807784e+03  7.06889666e+02 -9.76006292e+02 -8.33134505e+02\n",
      " -1.16224576e+03 -1.70815689e+03  2.13133270e+03  2.09622797e+03\n",
      "  2.16019188e+03 -1.45156673e+02 -1.12336625e+02 -1.79945344e+02\n",
      " -3.95278263e+01  1.07097226e+02 -1.88264431e+02  1.96235380e+02\n",
      "  3.29597084e+02  1.35864831e+02 -1.18831035e+02 -1.17217041e+02\n",
      " -1.20364658e+02 -1.75484736e+02 -1.29604193e+02 -2.23488518e+02\n",
      " -1.34792768e+02 -1.01839777e+02 -1.69486606e+02  2.22749720e+03\n",
      "  2.17100835e+03  2.27896912e+03 -1.49894330e+02 -1.24798954e+02\n",
      " -1.76154123e+02  4.74765409e+02  1.87801858e+02  7.52975305e+02\n",
      "  1.41180328e+02 -6.74462355e+02  6.52201766e+02  8.12545131e+02\n",
      " -2.03382442e+02  1.28349601e+03  1.07168653e+03  4.76250249e+02\n",
      " -1.55045310e+03  4.14722218e+02  3.04592230e+02  5.72890752e+02\n",
      "  8.84997864e+02 -3.24545115e+02  6.14198087e+02  3.66794828e+02\n",
      "  3.56011106e+02  3.56011107e+02 -8.21370767e+02 -8.62647906e+02\n",
      "  4.04420501e+02 -1.43827985e+03 -4.04501259e+02  9.78936053e+02\n",
      "  1.37751988e+03  5.02950325e+02  2.49430643e+02  2.49430642e+02\n",
      "  5.06565476e+02  6.13157122e+01  4.95645191e+02 -4.20004319e+01\n",
      " -6.40558817e+02 -6.40558815e+02 -6.10738979e+02 -4.33391267e+02\n",
      " -3.69929747e+02  5.02039342e+02  6.01419832e+02  6.41818918e+02\n",
      "  6.42213931e+02 -2.82557778e+01  3.45149378e+02  6.82775826e+02\n",
      " -6.17352062e+02  1.07603148e+03  4.63379596e+01 -3.75868908e+02\n",
      "  4.65849984e+02  5.44837266e+02  7.81580265e+02 -1.23356500e+02\n",
      "  1.49406610e+03  9.26753063e+01  5.50486824e+02  4.40698528e+02\n",
      "  1.73048960e+02 -4.63979463e+02  7.78329573e+02  2.63107597e+02\n",
      " -6.52101068e+02 -8.31765373e+02 -1.29366007e+03 -6.55342881e+02\n",
      " -2.22098504e+02 -4.45157495e+02  6.62143823e+02 -1.04387304e+03\n",
      " -3.33093957e+02  9.63986094e+01 -1.05879921e+03 -5.11000803e+02\n",
      " -2.91377217e+02 -8.46185572e+02 -3.16667577e+02  1.49599375e+03\n",
      "  9.76975732e+02 -3.10095624e+02 -6.04850292e+02 -4.56705607e+02\n",
      " -7.91306874e+02 -5.47345266e+02  1.89790263e+03 -3.34932525e+02\n",
      " -1.32916288e+03 -1.48272957e+03 -1.25926549e+03 -1.00956545e+03\n",
      " -1.36979774e+03 -2.57179784e+02  8.61509739e+01 -4.86824422e+01\n",
      " -1.36804922e+03 -1.21627277e+03 -9.03284017e+02 -1.76013931e+03\n",
      " -1.23488430e+03 -1.32705735e+03 -1.09678612e+03 -1.26561318e+03\n",
      " -1.38686973e+03 -3.76903347e+02  1.63740174e+02 -4.54947108e+02\n",
      " -6.52955757e+01  1.90521666e+03  2.03503933e+02 -1.21379104e+03\n",
      " -1.44169053e+03 -1.25306640e+03 -1.28779261e+03 -1.15220566e+03\n",
      "  3.06904080e+02  4.43861393e+02  3.91610689e+02 -8.62955366e+02\n",
      " -1.14006328e+03 -1.09125333e+03 -1.29044841e+03 -1.10963957e+03\n",
      " -1.04555345e+03 -8.96307102e+02 -1.58095519e+03 -1.46513810e+03\n",
      "  5.04161878e+02 -9.69198088e+02 -1.09259025e+03  5.67546343e+02\n",
      "  1.66633578e+03  3.93380543e+02 -1.22932978e+03 -1.20123054e+03\n",
      " -1.64287041e+03 -1.51818293e+03 -1.17884199e+03 -4.92055195e+02\n",
      " -3.10004119e+02 -3.84958041e+02 -9.69649603e+02 -1.14141829e+03\n",
      " -1.13231628e+03 -1.21534747e+03 -1.27963848e+03 -1.16158609e+03\n",
      " -1.29535464e+03 -1.34030591e+03 -1.31140572e+03 -2.94461748e+02\n",
      " -1.22805244e+03 -2.59533089e+02 -7.51106404e+02  1.63217988e+03\n",
      " -1.03598800e+02 -1.28710675e+03 -9.69552567e+02 -1.41615257e+03\n",
      " -1.17222555e+03 -1.22990848e+03 -1.10753379e+03 -1.06468665e+03\n",
      " -1.08674887e+03 -1.10091494e+03 -1.15899006e+03 -1.18726982e+03\n",
      " -1.29523193e+03 -1.29936169e+03 -1.26036648e+03 -1.38690104e+03\n",
      " -1.31614701e+03 -1.32074407e+03 -1.19449799e+02 -1.21978986e+03\n",
      " -7.55213173e+02 -1.95032563e+02  1.73610171e+03 -9.14222620e+02\n",
      " -1.28969103e+03 -6.89629040e+02 -1.05875161e+03 -1.02928846e+03\n",
      " -1.26952681e+03 -9.64556581e+02 -7.93369611e+02 -8.61391276e+02\n",
      " -1.25766873e+03 -1.18201738e+03 -1.24549785e+03 -1.34265542e+03\n",
      " -1.29864106e+03 -1.27646277e+03 -1.31378098e+03 -1.51797384e+03\n",
      " -1.36342264e+03 -9.34682108e+02 -1.30444874e+03 -6.92083142e+02\n",
      " -1.01029747e+03  1.63583964e+03 -8.28846222e+02 -1.31233070e+03\n",
      " -9.07068641e+02 -9.69682484e+02 -6.55917462e+02 -1.31106987e+03\n",
      " -1.29185003e+03 -1.25072991e+03 -1.26805294e+03 -1.23435041e+03\n",
      " -1.29653214e+03 -1.28276210e+03 -1.34092151e+03 -1.33652550e+03\n",
      " -1.32524719e+03 -1.15501662e+03 -1.61193406e+03 -1.45704137e+03\n",
      " -1.17143374e+03 -1.64350586e+03 -9.33316504e+02 -1.00802099e+03\n",
      "  1.00000000e+00]\n"
     ]
    }
   ],
   "source": [
    "from scipy.optimize import minimize\n",
    "\n",
    "def loss_function(beta, X, Y):\n",
    "    return rmsle(Y, X @ beta)\n",
    "\n",
    "X_train_tr = transform(pd.DataFrame(np.concatenate((X_train, np.ones((X_train.shape[0], 1))), axis=1), columns=list(X_train.columns) + ['intercept']))\n",
    "beta_init = np.array([1] * X_train_tr.shape[1])\n",
    "res = minimize(loss_function, beta_init, args=(X_train_tr[:100], y_train[:100]), options={'maxiter': 100, 'disp': True})\n",
    "print(res.x)"
   ]
  },
  {
   "cell_type": "markdown",
   "metadata": {},
   "source": [
    "# Test"
   ]
  },
  {
   "cell_type": "code",
   "execution_count": 111,
   "metadata": {},
   "outputs": [
    {
     "data": {
      "text/html": [
       "<div>\n",
       "<style scoped>\n",
       "    .dataframe tbody tr th:only-of-type {\n",
       "        vertical-align: middle;\n",
       "    }\n",
       "\n",
       "    .dataframe tbody tr th {\n",
       "        vertical-align: top;\n",
       "    }\n",
       "\n",
       "    .dataframe thead th {\n",
       "        text-align: right;\n",
       "    }\n",
       "</style>\n",
       "<table border=\"1\" class=\"dataframe\">\n",
       "  <thead>\n",
       "    <tr style=\"text-align: right;\">\n",
       "      <th></th>\n",
       "      <th>id</th>\n",
       "      <th>prediction</th>\n",
       "    </tr>\n",
       "  </thead>\n",
       "  <tbody>\n",
       "    <tr>\n",
       "      <th>0</th>\n",
       "      <td>1</td>\n",
       "      <td>6.827153e+06</td>\n",
       "    </tr>\n",
       "    <tr>\n",
       "      <th>1</th>\n",
       "      <td>2</td>\n",
       "      <td>4.969212e+06</td>\n",
       "    </tr>\n",
       "    <tr>\n",
       "      <th>2</th>\n",
       "      <td>3</td>\n",
       "      <td>3.669460e+06</td>\n",
       "    </tr>\n",
       "    <tr>\n",
       "      <th>3</th>\n",
       "      <td>4</td>\n",
       "      <td>7.122908e+06</td>\n",
       "    </tr>\n",
       "    <tr>\n",
       "      <th>4</th>\n",
       "      <td>5</td>\n",
       "      <td>3.680231e+07</td>\n",
       "    </tr>\n",
       "  </tbody>\n",
       "</table>\n",
       "</div>"
      ],
      "text/plain": [
       "   id    prediction\n",
       "0   1  6.827153e+06\n",
       "1   2  4.969212e+06\n",
       "2   3  3.669460e+06\n",
       "3   4  7.122908e+06\n",
       "4   5  3.680231e+07"
      ]
     },
     "execution_count": 111,
     "metadata": {},
     "output_type": "execute_result"
    }
   ],
   "source": [
    "df_pred = test(model, X_test)\n",
    "df_pred.head()"
   ]
  },
  {
   "cell_type": "code",
   "execution_count": 106,
   "metadata": {},
   "outputs": [
    {
     "data": {
      "text/plain": [
       "BaggingRegressor(n_jobs=-1, random_state=3927)"
      ]
     },
     "execution_count": 106,
     "metadata": {},
     "output_type": "execute_result"
    }
   ],
   "source": [
    "model.fit(X_train, y_train)"
   ]
  },
  {
   "cell_type": "code",
   "execution_count": 107,
   "metadata": {},
   "outputs": [
    {
     "data": {
      "text/html": [
       "<div>\n",
       "<style scoped>\n",
       "    .dataframe tbody tr th:only-of-type {\n",
       "        vertical-align: middle;\n",
       "    }\n",
       "\n",
       "    .dataframe tbody tr th {\n",
       "        vertical-align: top;\n",
       "    }\n",
       "\n",
       "    .dataframe thead th {\n",
       "        text-align: right;\n",
       "    }\n",
       "</style>\n",
       "<table border=\"1\" class=\"dataframe\">\n",
       "  <thead>\n",
       "    <tr style=\"text-align: right;\">\n",
       "      <th></th>\n",
       "      <th>id</th>\n",
       "      <th>prediction</th>\n",
       "    </tr>\n",
       "  </thead>\n",
       "  <tbody>\n",
       "    <tr>\n",
       "      <th>0</th>\n",
       "      <td>1</td>\n",
       "      <td>6909428.6</td>\n",
       "    </tr>\n",
       "    <tr>\n",
       "      <th>1</th>\n",
       "      <td>2</td>\n",
       "      <td>4893639.5</td>\n",
       "    </tr>\n",
       "    <tr>\n",
       "      <th>2</th>\n",
       "      <td>3</td>\n",
       "      <td>3537817.5</td>\n",
       "    </tr>\n",
       "    <tr>\n",
       "      <th>3</th>\n",
       "      <td>4</td>\n",
       "      <td>7158078.0</td>\n",
       "    </tr>\n",
       "    <tr>\n",
       "      <th>4</th>\n",
       "      <td>5</td>\n",
       "      <td>33075748.8</td>\n",
       "    </tr>\n",
       "  </tbody>\n",
       "</table>\n",
       "</div>"
      ],
      "text/plain": [
       "   id  prediction\n",
       "0   1   6909428.6\n",
       "1   2   4893639.5\n",
       "2   3   3537817.5\n",
       "3   4   7158078.0\n",
       "4   5  33075748.8"
      ]
     },
     "execution_count": 107,
     "metadata": {},
     "output_type": "execute_result"
    }
   ],
   "source": [
    "df_pred = test(model, X_test)\n",
    "df_pred.head()"
   ]
  },
  {
   "cell_type": "markdown",
   "metadata": {},
   "source": [
    "# Validate"
   ]
  },
  {
   "cell_type": "code",
   "execution_count": 112,
   "metadata": {},
   "outputs": [
    {
     "data": {
      "text/plain": [
       "Series([], Name: prediction, dtype: float64)"
      ]
     },
     "execution_count": 112,
     "metadata": {},
     "output_type": "execute_result"
    }
   ],
   "source": [
    "df_pred['prediction'][df_pred['prediction'] <= 100000]"
   ]
  },
  {
   "cell_type": "markdown",
   "metadata": {},
   "source": [
    "# Export"
   ]
  },
  {
   "cell_type": "code",
   "execution_count": 113,
   "metadata": {},
   "outputs": [],
   "source": [
    "df_pred.to_csv(\"output/submission.csv\", index=False)"
   ]
  },
  {
   "cell_type": "code",
   "execution_count": null,
   "metadata": {},
   "outputs": [],
   "source": []
  }
 ],
 "metadata": {
  "interpreter": {
   "hash": "08185bf09d066e6467fc310b9bcfbc112bb9f55e576060cbccac4f7aed0eafad"
  },
  "kernelspec": {
   "display_name": "Python 3.8.10 64-bit",
   "language": "python",
   "name": "python3"
  },
  "language_info": {
   "codemirror_mode": {
    "name": "ipython",
    "version": 3
   },
   "file_extension": ".py",
   "mimetype": "text/x-python",
   "name": "python",
   "nbconvert_exporter": "python",
   "pygments_lexer": "ipython3",
   "version": "3.8.10"
  },
  "orig_nbformat": 4
 },
 "nbformat": 4,
 "nbformat_minor": 2
}
