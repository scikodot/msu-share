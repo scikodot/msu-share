{
 "cells": [
  {
   "cell_type": "code",
   "execution_count": 2,
   "metadata": {},
   "outputs": [],
   "source": [
    "df = pd.read_csv(\"input/train.csv\", index_col=False)"
   ]
  },
  {
   "cell_type": "code",
   "execution_count": 3,
   "metadata": {},
   "outputs": [
    {
     "data": {
      "text/html": [
       "<div>\n",
       "<style scoped>\n",
       "    .dataframe tbody tr th:only-of-type {\n",
       "        vertical-align: middle;\n",
       "    }\n",
       "\n",
       "    .dataframe tbody tr th {\n",
       "        vertical-align: top;\n",
       "    }\n",
       "\n",
       "    .dataframe thead th {\n",
       "        text-align: right;\n",
       "    }\n",
       "</style>\n",
       "<table border=\"1\" class=\"dataframe\">\n",
       "  <thead>\n",
       "    <tr style=\"text-align: right;\">\n",
       "      <th></th>\n",
       "      <th>id</th>\n",
       "      <th>f1</th>\n",
       "      <th>f2</th>\n",
       "      <th>f3</th>\n",
       "      <th>f4</th>\n",
       "      <th>f5</th>\n",
       "      <th>f6</th>\n",
       "      <th>f7</th>\n",
       "      <th>f8</th>\n",
       "      <th>f9</th>\n",
       "      <th>...</th>\n",
       "      <th>f282</th>\n",
       "      <th>f283</th>\n",
       "      <th>f284</th>\n",
       "      <th>f285</th>\n",
       "      <th>f286</th>\n",
       "      <th>f287</th>\n",
       "      <th>f288</th>\n",
       "      <th>f289</th>\n",
       "      <th>f290</th>\n",
       "      <th>target</th>\n",
       "    </tr>\n",
       "  </thead>\n",
       "  <tbody>\n",
       "    <tr>\n",
       "      <th>0</th>\n",
       "      <td>1</td>\n",
       "      <td>2014-01-29</td>\n",
       "      <td>69</td>\n",
       "      <td>38.0</td>\n",
       "      <td>7.0</td>\n",
       "      <td>10.0</td>\n",
       "      <td>1.0</td>\n",
       "      <td>2001.0</td>\n",
       "      <td>2.0</td>\n",
       "      <td>11.0</td>\n",
       "      <td>...</td>\n",
       "      <td>1</td>\n",
       "      <td>0</td>\n",
       "      <td>0</td>\n",
       "      <td>2</td>\n",
       "      <td>8</td>\n",
       "      <td>1</td>\n",
       "      <td>0</td>\n",
       "      <td>19</td>\n",
       "      <td>2</td>\n",
       "      <td>9500000</td>\n",
       "    </tr>\n",
       "    <tr>\n",
       "      <th>1</th>\n",
       "      <td>2</td>\n",
       "      <td>2014-04-07</td>\n",
       "      <td>55</td>\n",
       "      <td>NaN</td>\n",
       "      <td>2.0</td>\n",
       "      <td>1.0</td>\n",
       "      <td>4.0</td>\n",
       "      <td>NaN</td>\n",
       "      <td>2.0</td>\n",
       "      <td>10.0</td>\n",
       "      <td>...</td>\n",
       "      <td>0</td>\n",
       "      <td>0</td>\n",
       "      <td>0</td>\n",
       "      <td>0</td>\n",
       "      <td>4</td>\n",
       "      <td>0</td>\n",
       "      <td>0</td>\n",
       "      <td>2</td>\n",
       "      <td>0</td>\n",
       "      <td>3837949</td>\n",
       "    </tr>\n",
       "    <tr>\n",
       "      <th>2</th>\n",
       "      <td>3</td>\n",
       "      <td>2012-05-18</td>\n",
       "      <td>30</td>\n",
       "      <td>16.0</td>\n",
       "      <td>2.0</td>\n",
       "      <td>NaN</td>\n",
       "      <td>NaN</td>\n",
       "      <td>NaN</td>\n",
       "      <td>NaN</td>\n",
       "      <td>NaN</td>\n",
       "      <td>...</td>\n",
       "      <td>46</td>\n",
       "      <td>9</td>\n",
       "      <td>2</td>\n",
       "      <td>11</td>\n",
       "      <td>38</td>\n",
       "      <td>1</td>\n",
       "      <td>8</td>\n",
       "      <td>97</td>\n",
       "      <td>11</td>\n",
       "      <td>6250000</td>\n",
       "    </tr>\n",
       "    <tr>\n",
       "      <th>3</th>\n",
       "      <td>4</td>\n",
       "      <td>2013-02-08</td>\n",
       "      <td>44</td>\n",
       "      <td>43.0</td>\n",
       "      <td>1.0</td>\n",
       "      <td>NaN</td>\n",
       "      <td>NaN</td>\n",
       "      <td>NaN</td>\n",
       "      <td>NaN</td>\n",
       "      <td>NaN</td>\n",
       "      <td>...</td>\n",
       "      <td>17</td>\n",
       "      <td>4</td>\n",
       "      <td>1</td>\n",
       "      <td>12</td>\n",
       "      <td>12</td>\n",
       "      <td>0</td>\n",
       "      <td>1</td>\n",
       "      <td>55</td>\n",
       "      <td>7</td>\n",
       "      <td>2000000</td>\n",
       "    </tr>\n",
       "    <tr>\n",
       "      <th>4</th>\n",
       "      <td>5</td>\n",
       "      <td>2014-01-10</td>\n",
       "      <td>45</td>\n",
       "      <td>28.0</td>\n",
       "      <td>3.0</td>\n",
       "      <td>5.0</td>\n",
       "      <td>2.0</td>\n",
       "      <td>1960.0</td>\n",
       "      <td>2.0</td>\n",
       "      <td>5.0</td>\n",
       "      <td>...</td>\n",
       "      <td>20</td>\n",
       "      <td>2</td>\n",
       "      <td>0</td>\n",
       "      <td>4</td>\n",
       "      <td>16</td>\n",
       "      <td>1</td>\n",
       "      <td>4</td>\n",
       "      <td>47</td>\n",
       "      <td>5</td>\n",
       "      <td>6700000</td>\n",
       "    </tr>\n",
       "  </tbody>\n",
       "</table>\n",
       "<p>5 rows × 292 columns</p>\n",
       "</div>"
      ],
      "text/plain": [
       "   id          f1  f2    f3   f4    f5   f6      f7   f8    f9  ...  f282  \\\n",
       "0   1  2014-01-29  69  38.0  7.0  10.0  1.0  2001.0  2.0  11.0  ...     1   \n",
       "1   2  2014-04-07  55   NaN  2.0   1.0  4.0     NaN  2.0  10.0  ...     0   \n",
       "2   3  2012-05-18  30  16.0  2.0   NaN  NaN     NaN  NaN   NaN  ...    46   \n",
       "3   4  2013-02-08  44  43.0  1.0   NaN  NaN     NaN  NaN   NaN  ...    17   \n",
       "4   5  2014-01-10  45  28.0  3.0   5.0  2.0  1960.0  2.0   5.0  ...    20   \n",
       "\n",
       "  f283 f284  f285  f286  f287  f288  f289  f290   target  \n",
       "0    0    0     2     8     1     0    19     2  9500000  \n",
       "1    0    0     0     4     0     0     2     0  3837949  \n",
       "2    9    2    11    38     1     8    97    11  6250000  \n",
       "3    4    1    12    12     0     1    55     7  2000000  \n",
       "4    2    0     4    16     1     4    47     5  6700000  \n",
       "\n",
       "[5 rows x 292 columns]"
      ]
     },
     "execution_count": 3,
     "metadata": {},
     "output_type": "execute_result"
    }
   ],
   "source": [
    "df.head()"
   ]
  },
  {
   "cell_type": "code",
   "execution_count": 4,
   "metadata": {},
   "outputs": [
    {
     "data": {
      "text/plain": [
       "(24376, 292)"
      ]
     },
     "execution_count": 4,
     "metadata": {},
     "output_type": "execute_result"
    }
   ],
   "source": [
    "df.shape"
   ]
  },
  {
   "cell_type": "markdown",
   "metadata": {},
   "source": [
    "# Preprocessing"
   ]
  },
  {
   "cell_type": "markdown",
   "metadata": {},
   "source": [
    "## Check types"
   ]
  },
  {
   "cell_type": "code",
   "execution_count": 5,
   "metadata": {},
   "outputs": [
    {
     "data": {
      "text/plain": [
       "int64      157\n",
       "float64    119\n",
       "object      16\n",
       "dtype: int64"
      ]
     },
     "execution_count": 5,
     "metadata": {},
     "output_type": "execute_result"
    }
   ],
   "source": [
    "df.dtypes.value_counts()"
   ]
  },
  {
   "cell_type": "markdown",
   "metadata": {},
   "source": [
    "## Get notnums w/ indices"
   ]
  },
  {
   "cell_type": "code",
   "execution_count": 6,
   "metadata": {},
   "outputs": [
    {
     "data": {
      "text/plain": [
       "f1      object\n",
       "f11     object\n",
       "f12     object\n",
       "f29     object\n",
       "f33     object\n",
       "f34     object\n",
       "f35     object\n",
       "f36     object\n",
       "f37     object\n",
       "f38     object\n",
       "f39     object\n",
       "f40     object\n",
       "f106    object\n",
       "f114    object\n",
       "f118    object\n",
       "f152    object\n",
       "dtype: object"
      ]
     },
     "execution_count": 6,
     "metadata": {},
     "output_type": "execute_result"
    }
   ],
   "source": [
    "notnum = df.dtypes[df.dtypes == type(object)]\n",
    "notnum"
   ]
  },
  {
   "cell_type": "code",
   "execution_count": 7,
   "metadata": {},
   "outputs": [
    {
     "name": "stdout",
     "output_type": "stream",
     "text": [
      "['f1', 'f11', 'f12', 'f29', 'f33', 'f34', 'f35', 'f36', 'f37', 'f38', 'f39', 'f40', 'f106', 'f114', 'f118', 'f152']\n"
     ]
    }
   ],
   "source": [
    "notnum_index = list(notnum.index)\n",
    "print(notnum_index)"
   ]
  },
  {
   "cell_type": "code",
   "execution_count": 8,
   "metadata": {},
   "outputs": [
    {
     "data": {
      "text/html": [
       "<div>\n",
       "<style scoped>\n",
       "    .dataframe tbody tr th:only-of-type {\n",
       "        vertical-align: middle;\n",
       "    }\n",
       "\n",
       "    .dataframe tbody tr th {\n",
       "        vertical-align: top;\n",
       "    }\n",
       "\n",
       "    .dataframe thead th {\n",
       "        text-align: right;\n",
       "    }\n",
       "</style>\n",
       "<table border=\"1\" class=\"dataframe\">\n",
       "  <thead>\n",
       "    <tr style=\"text-align: right;\">\n",
       "      <th></th>\n",
       "      <th>f1</th>\n",
       "      <th>f11</th>\n",
       "      <th>f12</th>\n",
       "      <th>f29</th>\n",
       "      <th>f33</th>\n",
       "      <th>f34</th>\n",
       "      <th>f35</th>\n",
       "      <th>f36</th>\n",
       "      <th>f37</th>\n",
       "      <th>f38</th>\n",
       "      <th>f39</th>\n",
       "      <th>f40</th>\n",
       "      <th>f106</th>\n",
       "      <th>f114</th>\n",
       "      <th>f118</th>\n",
       "      <th>f152</th>\n",
       "    </tr>\n",
       "  </thead>\n",
       "  <tbody>\n",
       "    <tr>\n",
       "      <th>0</th>\n",
       "      <td>2014-01-29</td>\n",
       "      <td>Investment</td>\n",
       "      <td>Juzhnoe Butovo</td>\n",
       "      <td>no</td>\n",
       "      <td>no</td>\n",
       "      <td>no</td>\n",
       "      <td>no</td>\n",
       "      <td>no</td>\n",
       "      <td>no</td>\n",
       "      <td>no</td>\n",
       "      <td>no</td>\n",
       "      <td>no</td>\n",
       "      <td>no</td>\n",
       "      <td>no</td>\n",
       "      <td>no</td>\n",
       "      <td>good</td>\n",
       "    </tr>\n",
       "    <tr>\n",
       "      <th>1</th>\n",
       "      <td>2014-04-07</td>\n",
       "      <td>OwnerOccupier</td>\n",
       "      <td>Poselenie Filimonkovskoe</td>\n",
       "      <td>no</td>\n",
       "      <td>no</td>\n",
       "      <td>no</td>\n",
       "      <td>no</td>\n",
       "      <td>no</td>\n",
       "      <td>no</td>\n",
       "      <td>no</td>\n",
       "      <td>no</td>\n",
       "      <td>no</td>\n",
       "      <td>no</td>\n",
       "      <td>no</td>\n",
       "      <td>no</td>\n",
       "      <td>no data</td>\n",
       "    </tr>\n",
       "    <tr>\n",
       "      <th>2</th>\n",
       "      <td>2012-05-18</td>\n",
       "      <td>Investment</td>\n",
       "      <td>Lomonosovskoe</td>\n",
       "      <td>no</td>\n",
       "      <td>no</td>\n",
       "      <td>no</td>\n",
       "      <td>no</td>\n",
       "      <td>no</td>\n",
       "      <td>no</td>\n",
       "      <td>no</td>\n",
       "      <td>no</td>\n",
       "      <td>no</td>\n",
       "      <td>no</td>\n",
       "      <td>no</td>\n",
       "      <td>no</td>\n",
       "      <td>satisfactory</td>\n",
       "    </tr>\n",
       "    <tr>\n",
       "      <th>3</th>\n",
       "      <td>2013-02-08</td>\n",
       "      <td>Investment</td>\n",
       "      <td>Juzhnoe Tushino</td>\n",
       "      <td>no</td>\n",
       "      <td>no</td>\n",
       "      <td>no</td>\n",
       "      <td>no</td>\n",
       "      <td>no</td>\n",
       "      <td>no</td>\n",
       "      <td>no</td>\n",
       "      <td>no</td>\n",
       "      <td>no</td>\n",
       "      <td>no</td>\n",
       "      <td>no</td>\n",
       "      <td>no</td>\n",
       "      <td>poor</td>\n",
       "    </tr>\n",
       "    <tr>\n",
       "      <th>4</th>\n",
       "      <td>2014-01-10</td>\n",
       "      <td>Investment</td>\n",
       "      <td>Ochakovo-Matveevskoe</td>\n",
       "      <td>no</td>\n",
       "      <td>yes</td>\n",
       "      <td>no</td>\n",
       "      <td>no</td>\n",
       "      <td>no</td>\n",
       "      <td>no</td>\n",
       "      <td>no</td>\n",
       "      <td>no</td>\n",
       "      <td>no</td>\n",
       "      <td>no</td>\n",
       "      <td>no</td>\n",
       "      <td>no</td>\n",
       "      <td>satisfactory</td>\n",
       "    </tr>\n",
       "  </tbody>\n",
       "</table>\n",
       "</div>"
      ],
      "text/plain": [
       "           f1            f11                       f12 f29  f33 f34 f35 f36  \\\n",
       "0  2014-01-29     Investment            Juzhnoe Butovo  no   no  no  no  no   \n",
       "1  2014-04-07  OwnerOccupier  Poselenie Filimonkovskoe  no   no  no  no  no   \n",
       "2  2012-05-18     Investment             Lomonosovskoe  no   no  no  no  no   \n",
       "3  2013-02-08     Investment           Juzhnoe Tushino  no   no  no  no  no   \n",
       "4  2014-01-10     Investment      Ochakovo-Matveevskoe  no  yes  no  no  no   \n",
       "\n",
       "  f37 f38 f39 f40 f106 f114 f118          f152  \n",
       "0  no  no  no  no   no   no   no          good  \n",
       "1  no  no  no  no   no   no   no       no data  \n",
       "2  no  no  no  no   no   no   no  satisfactory  \n",
       "3  no  no  no  no   no   no   no          poor  \n",
       "4  no  no  no  no   no   no   no  satisfactory  "
      ]
     },
     "execution_count": 8,
     "metadata": {},
     "output_type": "execute_result"
    }
   ],
   "source": [
    "df[notnum_index].head()"
   ]
  },
  {
   "cell_type": "markdown",
   "metadata": {},
   "source": [
    "## Process f1"
   ]
  },
  {
   "cell_type": "code",
   "execution_count": 9,
   "metadata": {},
   "outputs": [
    {
     "data": {
      "text/html": [
       "<div>\n",
       "<style scoped>\n",
       "    .dataframe tbody tr th:only-of-type {\n",
       "        vertical-align: middle;\n",
       "    }\n",
       "\n",
       "    .dataframe tbody tr th {\n",
       "        vertical-align: top;\n",
       "    }\n",
       "\n",
       "    .dataframe thead th {\n",
       "        text-align: right;\n",
       "    }\n",
       "</style>\n",
       "<table border=\"1\" class=\"dataframe\">\n",
       "  <thead>\n",
       "    <tr style=\"text-align: right;\">\n",
       "      <th></th>\n",
       "      <th>f1y</th>\n",
       "      <th>f1m</th>\n",
       "      <th>f1d</th>\n",
       "    </tr>\n",
       "  </thead>\n",
       "  <tbody>\n",
       "    <tr>\n",
       "      <th>0</th>\n",
       "      <td>2014</td>\n",
       "      <td>1</td>\n",
       "      <td>29</td>\n",
       "    </tr>\n",
       "    <tr>\n",
       "      <th>1</th>\n",
       "      <td>2014</td>\n",
       "      <td>4</td>\n",
       "      <td>7</td>\n",
       "    </tr>\n",
       "    <tr>\n",
       "      <th>2</th>\n",
       "      <td>2012</td>\n",
       "      <td>5</td>\n",
       "      <td>18</td>\n",
       "    </tr>\n",
       "    <tr>\n",
       "      <th>3</th>\n",
       "      <td>2013</td>\n",
       "      <td>2</td>\n",
       "      <td>8</td>\n",
       "    </tr>\n",
       "    <tr>\n",
       "      <th>4</th>\n",
       "      <td>2014</td>\n",
       "      <td>1</td>\n",
       "      <td>10</td>\n",
       "    </tr>\n",
       "    <tr>\n",
       "      <th>...</th>\n",
       "      <td>...</td>\n",
       "      <td>...</td>\n",
       "      <td>...</td>\n",
       "    </tr>\n",
       "    <tr>\n",
       "      <th>24371</th>\n",
       "      <td>2014</td>\n",
       "      <td>12</td>\n",
       "      <td>21</td>\n",
       "    </tr>\n",
       "    <tr>\n",
       "      <th>24372</th>\n",
       "      <td>2012</td>\n",
       "      <td>5</td>\n",
       "      <td>10</td>\n",
       "    </tr>\n",
       "    <tr>\n",
       "      <th>24373</th>\n",
       "      <td>2013</td>\n",
       "      <td>12</td>\n",
       "      <td>18</td>\n",
       "    </tr>\n",
       "    <tr>\n",
       "      <th>24374</th>\n",
       "      <td>2014</td>\n",
       "      <td>12</td>\n",
       "      <td>8</td>\n",
       "    </tr>\n",
       "    <tr>\n",
       "      <th>24375</th>\n",
       "      <td>2015</td>\n",
       "      <td>4</td>\n",
       "      <td>30</td>\n",
       "    </tr>\n",
       "  </tbody>\n",
       "</table>\n",
       "<p>24376 rows × 3 columns</p>\n",
       "</div>"
      ],
      "text/plain": [
       "        f1y  f1m  f1d\n",
       "0      2014    1   29\n",
       "1      2014    4    7\n",
       "2      2012    5   18\n",
       "3      2013    2    8\n",
       "4      2014    1   10\n",
       "...     ...  ...  ...\n",
       "24371  2014   12   21\n",
       "24372  2012    5   10\n",
       "24373  2013   12   18\n",
       "24374  2014   12    8\n",
       "24375  2015    4   30\n",
       "\n",
       "[24376 rows x 3 columns]"
      ]
     },
     "execution_count": 9,
     "metadata": {},
     "output_type": "execute_result"
    }
   ],
   "source": [
    "ymd = df['f1'].str.split('-', expand=True).astype('int64').rename(columns={0: 'f1y', 1: 'f1m', 2: 'f1d'})\n",
    "ymd"
   ]
  },
  {
   "cell_type": "code",
   "execution_count": 10,
   "metadata": {},
   "outputs": [],
   "source": [
    "df_f1 = df.drop(['f1'], axis=1)\n",
    "df_f1.insert(1, 'f1y', ymd['f1y'])\n",
    "df_f1.insert(2, 'f1m', ymd['f1m'])\n",
    "df_f1.insert(3, 'f1d', ymd['f1d'])"
   ]
  },
  {
   "cell_type": "code",
   "execution_count": 11,
   "metadata": {},
   "outputs": [
    {
     "name": "stdout",
     "output_type": "stream",
     "text": [
      "['f1y', 'f1m', 'f1d', 'f11', 'f12', 'f29', 'f33', 'f34', 'f35', 'f36', 'f37', 'f38', 'f39', 'f40', 'f106', 'f114', 'f118', 'f152']\n"
     ]
    }
   ],
   "source": [
    "notnum_index = ['f1y', 'f1m', 'f1d'] + notnum_index[1:]\n",
    "print(notnum_index)"
   ]
  },
  {
   "cell_type": "code",
   "execution_count": 12,
   "metadata": {},
   "outputs": [
    {
     "data": {
      "text/html": [
       "<div>\n",
       "<style scoped>\n",
       "    .dataframe tbody tr th:only-of-type {\n",
       "        vertical-align: middle;\n",
       "    }\n",
       "\n",
       "    .dataframe tbody tr th {\n",
       "        vertical-align: top;\n",
       "    }\n",
       "\n",
       "    .dataframe thead th {\n",
       "        text-align: right;\n",
       "    }\n",
       "</style>\n",
       "<table border=\"1\" class=\"dataframe\">\n",
       "  <thead>\n",
       "    <tr style=\"text-align: right;\">\n",
       "      <th></th>\n",
       "      <th>f1y</th>\n",
       "      <th>f1m</th>\n",
       "      <th>f1d</th>\n",
       "      <th>f11</th>\n",
       "      <th>f12</th>\n",
       "      <th>f29</th>\n",
       "      <th>f33</th>\n",
       "      <th>f34</th>\n",
       "      <th>f35</th>\n",
       "      <th>f36</th>\n",
       "      <th>f37</th>\n",
       "      <th>f38</th>\n",
       "      <th>f39</th>\n",
       "      <th>f40</th>\n",
       "      <th>f106</th>\n",
       "      <th>f114</th>\n",
       "      <th>f118</th>\n",
       "      <th>f152</th>\n",
       "    </tr>\n",
       "  </thead>\n",
       "  <tbody>\n",
       "    <tr>\n",
       "      <th>0</th>\n",
       "      <td>2014</td>\n",
       "      <td>1</td>\n",
       "      <td>29</td>\n",
       "      <td>Investment</td>\n",
       "      <td>Juzhnoe Butovo</td>\n",
       "      <td>no</td>\n",
       "      <td>no</td>\n",
       "      <td>no</td>\n",
       "      <td>no</td>\n",
       "      <td>no</td>\n",
       "      <td>no</td>\n",
       "      <td>no</td>\n",
       "      <td>no</td>\n",
       "      <td>no</td>\n",
       "      <td>no</td>\n",
       "      <td>no</td>\n",
       "      <td>no</td>\n",
       "      <td>good</td>\n",
       "    </tr>\n",
       "    <tr>\n",
       "      <th>1</th>\n",
       "      <td>2014</td>\n",
       "      <td>4</td>\n",
       "      <td>7</td>\n",
       "      <td>OwnerOccupier</td>\n",
       "      <td>Poselenie Filimonkovskoe</td>\n",
       "      <td>no</td>\n",
       "      <td>no</td>\n",
       "      <td>no</td>\n",
       "      <td>no</td>\n",
       "      <td>no</td>\n",
       "      <td>no</td>\n",
       "      <td>no</td>\n",
       "      <td>no</td>\n",
       "      <td>no</td>\n",
       "      <td>no</td>\n",
       "      <td>no</td>\n",
       "      <td>no</td>\n",
       "      <td>no data</td>\n",
       "    </tr>\n",
       "    <tr>\n",
       "      <th>2</th>\n",
       "      <td>2012</td>\n",
       "      <td>5</td>\n",
       "      <td>18</td>\n",
       "      <td>Investment</td>\n",
       "      <td>Lomonosovskoe</td>\n",
       "      <td>no</td>\n",
       "      <td>no</td>\n",
       "      <td>no</td>\n",
       "      <td>no</td>\n",
       "      <td>no</td>\n",
       "      <td>no</td>\n",
       "      <td>no</td>\n",
       "      <td>no</td>\n",
       "      <td>no</td>\n",
       "      <td>no</td>\n",
       "      <td>no</td>\n",
       "      <td>no</td>\n",
       "      <td>satisfactory</td>\n",
       "    </tr>\n",
       "    <tr>\n",
       "      <th>3</th>\n",
       "      <td>2013</td>\n",
       "      <td>2</td>\n",
       "      <td>8</td>\n",
       "      <td>Investment</td>\n",
       "      <td>Juzhnoe Tushino</td>\n",
       "      <td>no</td>\n",
       "      <td>no</td>\n",
       "      <td>no</td>\n",
       "      <td>no</td>\n",
       "      <td>no</td>\n",
       "      <td>no</td>\n",
       "      <td>no</td>\n",
       "      <td>no</td>\n",
       "      <td>no</td>\n",
       "      <td>no</td>\n",
       "      <td>no</td>\n",
       "      <td>no</td>\n",
       "      <td>poor</td>\n",
       "    </tr>\n",
       "    <tr>\n",
       "      <th>4</th>\n",
       "      <td>2014</td>\n",
       "      <td>1</td>\n",
       "      <td>10</td>\n",
       "      <td>Investment</td>\n",
       "      <td>Ochakovo-Matveevskoe</td>\n",
       "      <td>no</td>\n",
       "      <td>yes</td>\n",
       "      <td>no</td>\n",
       "      <td>no</td>\n",
       "      <td>no</td>\n",
       "      <td>no</td>\n",
       "      <td>no</td>\n",
       "      <td>no</td>\n",
       "      <td>no</td>\n",
       "      <td>no</td>\n",
       "      <td>no</td>\n",
       "      <td>no</td>\n",
       "      <td>satisfactory</td>\n",
       "    </tr>\n",
       "  </tbody>\n",
       "</table>\n",
       "</div>"
      ],
      "text/plain": [
       "    f1y  f1m  f1d            f11                       f12 f29  f33 f34 f35  \\\n",
       "0  2014    1   29     Investment            Juzhnoe Butovo  no   no  no  no   \n",
       "1  2014    4    7  OwnerOccupier  Poselenie Filimonkovskoe  no   no  no  no   \n",
       "2  2012    5   18     Investment             Lomonosovskoe  no   no  no  no   \n",
       "3  2013    2    8     Investment           Juzhnoe Tushino  no   no  no  no   \n",
       "4  2014    1   10     Investment      Ochakovo-Matveevskoe  no  yes  no  no   \n",
       "\n",
       "  f36 f37 f38 f39 f40 f106 f114 f118          f152  \n",
       "0  no  no  no  no  no   no   no   no          good  \n",
       "1  no  no  no  no  no   no   no   no       no data  \n",
       "2  no  no  no  no  no   no   no   no  satisfactory  \n",
       "3  no  no  no  no  no   no   no   no          poor  \n",
       "4  no  no  no  no  no   no   no   no  satisfactory  "
      ]
     },
     "execution_count": 12,
     "metadata": {},
     "output_type": "execute_result"
    }
   ],
   "source": [
    "df_f1[notnum_index].head()"
   ]
  },
  {
   "cell_type": "markdown",
   "metadata": {},
   "source": [
    "## Process f11"
   ]
  },
  {
   "cell_type": "code",
   "execution_count": 13,
   "metadata": {},
   "outputs": [
    {
     "data": {
      "text/plain": [
       "array(['Investment', 'OwnerOccupier'], dtype=object)"
      ]
     },
     "execution_count": 13,
     "metadata": {},
     "output_type": "execute_result"
    }
   ],
   "source": [
    "f11_unique = df_f1['f11'].unique()\n",
    "f11_unique"
   ]
  },
  {
   "cell_type": "code",
   "execution_count": 14,
   "metadata": {},
   "outputs": [
    {
     "data": {
      "text/plain": [
       "{'Investment': 0, 'OwnerOccupier': 1}"
      ]
     },
     "execution_count": 14,
     "metadata": {},
     "output_type": "execute_result"
    }
   ],
   "source": [
    "f11_encode = dict(zip(f11_unique, range(len(f11_unique))))\n",
    "f11_encode"
   ]
  },
  {
   "cell_type": "code",
   "execution_count": 15,
   "metadata": {},
   "outputs": [
    {
     "data": {
      "text/html": [
       "<div>\n",
       "<style scoped>\n",
       "    .dataframe tbody tr th:only-of-type {\n",
       "        vertical-align: middle;\n",
       "    }\n",
       "\n",
       "    .dataframe tbody tr th {\n",
       "        vertical-align: top;\n",
       "    }\n",
       "\n",
       "    .dataframe thead th {\n",
       "        text-align: right;\n",
       "    }\n",
       "</style>\n",
       "<table border=\"1\" class=\"dataframe\">\n",
       "  <thead>\n",
       "    <tr style=\"text-align: right;\">\n",
       "      <th></th>\n",
       "      <th>f1y</th>\n",
       "      <th>f1m</th>\n",
       "      <th>f1d</th>\n",
       "      <th>f11</th>\n",
       "      <th>f12</th>\n",
       "      <th>f29</th>\n",
       "      <th>f33</th>\n",
       "      <th>f34</th>\n",
       "      <th>f35</th>\n",
       "      <th>f36</th>\n",
       "      <th>f37</th>\n",
       "      <th>f38</th>\n",
       "      <th>f39</th>\n",
       "      <th>f40</th>\n",
       "      <th>f106</th>\n",
       "      <th>f114</th>\n",
       "      <th>f118</th>\n",
       "      <th>f152</th>\n",
       "    </tr>\n",
       "  </thead>\n",
       "  <tbody>\n",
       "    <tr>\n",
       "      <th>0</th>\n",
       "      <td>2014</td>\n",
       "      <td>1</td>\n",
       "      <td>29</td>\n",
       "      <td>0</td>\n",
       "      <td>Juzhnoe Butovo</td>\n",
       "      <td>no</td>\n",
       "      <td>no</td>\n",
       "      <td>no</td>\n",
       "      <td>no</td>\n",
       "      <td>no</td>\n",
       "      <td>no</td>\n",
       "      <td>no</td>\n",
       "      <td>no</td>\n",
       "      <td>no</td>\n",
       "      <td>no</td>\n",
       "      <td>no</td>\n",
       "      <td>no</td>\n",
       "      <td>good</td>\n",
       "    </tr>\n",
       "    <tr>\n",
       "      <th>1</th>\n",
       "      <td>2014</td>\n",
       "      <td>4</td>\n",
       "      <td>7</td>\n",
       "      <td>1</td>\n",
       "      <td>Poselenie Filimonkovskoe</td>\n",
       "      <td>no</td>\n",
       "      <td>no</td>\n",
       "      <td>no</td>\n",
       "      <td>no</td>\n",
       "      <td>no</td>\n",
       "      <td>no</td>\n",
       "      <td>no</td>\n",
       "      <td>no</td>\n",
       "      <td>no</td>\n",
       "      <td>no</td>\n",
       "      <td>no</td>\n",
       "      <td>no</td>\n",
       "      <td>no data</td>\n",
       "    </tr>\n",
       "    <tr>\n",
       "      <th>2</th>\n",
       "      <td>2012</td>\n",
       "      <td>5</td>\n",
       "      <td>18</td>\n",
       "      <td>0</td>\n",
       "      <td>Lomonosovskoe</td>\n",
       "      <td>no</td>\n",
       "      <td>no</td>\n",
       "      <td>no</td>\n",
       "      <td>no</td>\n",
       "      <td>no</td>\n",
       "      <td>no</td>\n",
       "      <td>no</td>\n",
       "      <td>no</td>\n",
       "      <td>no</td>\n",
       "      <td>no</td>\n",
       "      <td>no</td>\n",
       "      <td>no</td>\n",
       "      <td>satisfactory</td>\n",
       "    </tr>\n",
       "    <tr>\n",
       "      <th>3</th>\n",
       "      <td>2013</td>\n",
       "      <td>2</td>\n",
       "      <td>8</td>\n",
       "      <td>0</td>\n",
       "      <td>Juzhnoe Tushino</td>\n",
       "      <td>no</td>\n",
       "      <td>no</td>\n",
       "      <td>no</td>\n",
       "      <td>no</td>\n",
       "      <td>no</td>\n",
       "      <td>no</td>\n",
       "      <td>no</td>\n",
       "      <td>no</td>\n",
       "      <td>no</td>\n",
       "      <td>no</td>\n",
       "      <td>no</td>\n",
       "      <td>no</td>\n",
       "      <td>poor</td>\n",
       "    </tr>\n",
       "    <tr>\n",
       "      <th>4</th>\n",
       "      <td>2014</td>\n",
       "      <td>1</td>\n",
       "      <td>10</td>\n",
       "      <td>0</td>\n",
       "      <td>Ochakovo-Matveevskoe</td>\n",
       "      <td>no</td>\n",
       "      <td>yes</td>\n",
       "      <td>no</td>\n",
       "      <td>no</td>\n",
       "      <td>no</td>\n",
       "      <td>no</td>\n",
       "      <td>no</td>\n",
       "      <td>no</td>\n",
       "      <td>no</td>\n",
       "      <td>no</td>\n",
       "      <td>no</td>\n",
       "      <td>no</td>\n",
       "      <td>satisfactory</td>\n",
       "    </tr>\n",
       "  </tbody>\n",
       "</table>\n",
       "</div>"
      ],
      "text/plain": [
       "    f1y  f1m  f1d  f11                       f12 f29  f33 f34 f35 f36 f37 f38  \\\n",
       "0  2014    1   29    0            Juzhnoe Butovo  no   no  no  no  no  no  no   \n",
       "1  2014    4    7    1  Poselenie Filimonkovskoe  no   no  no  no  no  no  no   \n",
       "2  2012    5   18    0             Lomonosovskoe  no   no  no  no  no  no  no   \n",
       "3  2013    2    8    0           Juzhnoe Tushino  no   no  no  no  no  no  no   \n",
       "4  2014    1   10    0      Ochakovo-Matveevskoe  no  yes  no  no  no  no  no   \n",
       "\n",
       "  f39 f40 f106 f114 f118          f152  \n",
       "0  no  no   no   no   no          good  \n",
       "1  no  no   no   no   no       no data  \n",
       "2  no  no   no   no   no  satisfactory  \n",
       "3  no  no   no   no   no          poor  \n",
       "4  no  no   no   no   no  satisfactory  "
      ]
     },
     "execution_count": 15,
     "metadata": {},
     "output_type": "execute_result"
    }
   ],
   "source": [
    "df_f11 = df_f1.replace({'f11': f11_encode})\n",
    "df_f11[notnum_index].head()"
   ]
  },
  {
   "cell_type": "markdown",
   "metadata": {},
   "source": [
    "## Process f12"
   ]
  },
  {
   "cell_type": "code",
   "execution_count": 16,
   "metadata": {},
   "outputs": [
    {
     "data": {
      "text/plain": [
       "array(['Juzhnoe Butovo', 'Poselenie Filimonkovskoe', 'Lomonosovskoe',\n",
       "       'Juzhnoe Tushino', 'Ochakovo-Matveevskoe', 'Poselenie Sosenskoe',\n",
       "       'Orehovo-Borisovo Juzhnoe', 'Hovrino', 'Sokol',\n",
       "       'Nagatinskij Zaton', \"Kon'kovo\", 'Obruchevskoe',\n",
       "       'Poselenie Vnukovskoe', 'Preobrazhenskoe', 'Poselenie Moskovskij',\n",
       "       'Bibirevo', 'Jasenevo', 'Mitino', 'Birjulevo Vostochnoe',\n",
       "       'Koptevo', 'Beskudnikovskoe', 'Butyrskoe', 'Losinoostrovskoe',\n",
       "       'Novo-Peredelkino', 'Caricyno', 'Veshnjaki', 'Tverskoe', 'Perovo',\n",
       "       'Jaroslavskoe', 'Strogino', 'Nekrasovka', 'Horoshevo-Mnevniki',\n",
       "       'Filevskij Park', 'Bogorodskoe', 'Savelki',\n",
       "       'Poselenie Desjonovskoe', \"Chertanovo Central'noe\",\n",
       "       'Timirjazevskoe', 'Zapadnoe Degunino', 'Pokrovskoe Streshnevo',\n",
       "       'Severnoe Butovo', 'Kapotnja', 'Sviblovo', 'Danilovskoe',\n",
       "       'Sokolinaja Gora', 'Vostochnoe Izmajlovo', 'Matushkino',\n",
       "       'Krjukovo', \"Krasnosel'skoe\", 'Ajeroport', 'Taganskoe',\n",
       "       'Cheremushki', 'Krylatskoe', 'Rostokino',\n",
       "       'Poselenie Novofedorovskoe', 'Brateevo', 'Novogireevo', 'Solncevo',\n",
       "       'Troparevo-Nikulino', 'Poselenie Shherbinka', 'Mozhajskoe',\n",
       "       'Nagatino-Sadovniki', 'Babushkinskoe', 'Poselenie Voskresenskoe',\n",
       "       'Presnenskoe', 'Fili Davydkovo', 'Kotlovka', 'Severnoe Tushino',\n",
       "       'Levoberezhnoe', 'Metrogorodok', 'Severnoe Izmajlovo', 'Jakimanka',\n",
       "       'Ramenki', 'Golovinskoe', \"Gol'janovo\", 'Novokosino',\n",
       "       'Chertanovo Juzhnoe', 'Vnukovo', \"Tekstil'shhiki\", \"Kuz'minki\",\n",
       "       'Poselenie Shhapovskoe', 'Pechatniki', 'Juzhnoe Medvedkovo',\n",
       "       'Akademicheskoe', 'Poselenie Mosrentgen', 'Izmajlovo', \"Mar'ino\",\n",
       "       'Ljublino', 'Dmitrovskoe', 'Meshhanskoe',\n",
       "       'Orehovo-Borisovo Severnoe', 'Alekseevskoe',\n",
       "       'Prospekt Vernadskogo', 'Shhukino', 'Basmannoe', 'Troickij okrug',\n",
       "       'Vojkovskoe', 'Horoshevskoe', 'Chertanovo Severnoe', 'Zjablikovo',\n",
       "       'Hamovniki', 'Marfino', 'Savelovskoe', 'Teplyj Stan', 'Otradnoe',\n",
       "       'Vyhino-Zhulebino', 'Silino', 'Ivanovskoe', 'Poselenie Rogovskoe',\n",
       "       'Kuncevo', 'Severnoe Medvedkovo', 'Rjazanskij',\n",
       "       'Poselenie Pervomajskoe', 'Zjuzino', 'Juzhnoportovoe', 'Nagornoe',\n",
       "       'Poselenie Krasnopahorskoe', \"Sokol'niki\", \"Altuf'evskoe\",\n",
       "       'Kosino-Uhtomskoe', 'Nizhegorodskoe', 'Dorogomilovo',\n",
       "       'Vostochnoe Degunino', 'Lianozovo', \"Mar'ina Roshha\",\n",
       "       'Gagarinskoe', 'Lefortovo', 'Staroe Krjukovo', 'Arbat',\n",
       "       \"Zamoskvorech'e\", 'Kurkino', \"Moskvorech'e-Saburovo\", 'Begovoe',\n",
       "       'Donskoe', 'Poselenie Marushkinskoe', 'Birjulevo Zapadnoe',\n",
       "       'Ostankinskoe', 'Poselenie Kokoshkino', 'Poselenie Rjazanovskoe',\n",
       "       'Poselenie Klenovskoe', 'Poselenie Voronovskoe', 'Severnoe',\n",
       "       'Vostochnoe', 'Poselenie Kievskij', 'Molzhaninovskoe',\n",
       "       'Poselenie Mihajlovo-Jarcevskoe'], dtype=object)"
      ]
     },
     "execution_count": 16,
     "metadata": {},
     "output_type": "execute_result"
    }
   ],
   "source": [
    "f12_unique = df_f11['f12'].unique()\n",
    "f12_unique"
   ]
  },
  {
   "cell_type": "code",
   "execution_count": 17,
   "metadata": {},
   "outputs": [
    {
     "data": {
      "text/plain": [
       "{'Juzhnoe Butovo': 0,\n",
       " 'Poselenie Filimonkovskoe': 1,\n",
       " 'Lomonosovskoe': 2,\n",
       " 'Juzhnoe Tushino': 3,\n",
       " 'Ochakovo-Matveevskoe': 4,\n",
       " 'Poselenie Sosenskoe': 5,\n",
       " 'Orehovo-Borisovo Juzhnoe': 6,\n",
       " 'Hovrino': 7,\n",
       " 'Sokol': 8,\n",
       " 'Nagatinskij Zaton': 9,\n",
       " \"Kon'kovo\": 10,\n",
       " 'Obruchevskoe': 11,\n",
       " 'Poselenie Vnukovskoe': 12,\n",
       " 'Preobrazhenskoe': 13,\n",
       " 'Poselenie Moskovskij': 14,\n",
       " 'Bibirevo': 15,\n",
       " 'Jasenevo': 16,\n",
       " 'Mitino': 17,\n",
       " 'Birjulevo Vostochnoe': 18,\n",
       " 'Koptevo': 19,\n",
       " 'Beskudnikovskoe': 20,\n",
       " 'Butyrskoe': 21,\n",
       " 'Losinoostrovskoe': 22,\n",
       " 'Novo-Peredelkino': 23,\n",
       " 'Caricyno': 24,\n",
       " 'Veshnjaki': 25,\n",
       " 'Tverskoe': 26,\n",
       " 'Perovo': 27,\n",
       " 'Jaroslavskoe': 28,\n",
       " 'Strogino': 29,\n",
       " 'Nekrasovka': 30,\n",
       " 'Horoshevo-Mnevniki': 31,\n",
       " 'Filevskij Park': 32,\n",
       " 'Bogorodskoe': 33,\n",
       " 'Savelki': 34,\n",
       " 'Poselenie Desjonovskoe': 35,\n",
       " \"Chertanovo Central'noe\": 36,\n",
       " 'Timirjazevskoe': 37,\n",
       " 'Zapadnoe Degunino': 38,\n",
       " 'Pokrovskoe Streshnevo': 39,\n",
       " 'Severnoe Butovo': 40,\n",
       " 'Kapotnja': 41,\n",
       " 'Sviblovo': 42,\n",
       " 'Danilovskoe': 43,\n",
       " 'Sokolinaja Gora': 44,\n",
       " 'Vostochnoe Izmajlovo': 45,\n",
       " 'Matushkino': 46,\n",
       " 'Krjukovo': 47,\n",
       " \"Krasnosel'skoe\": 48,\n",
       " 'Ajeroport': 49,\n",
       " 'Taganskoe': 50,\n",
       " 'Cheremushki': 51,\n",
       " 'Krylatskoe': 52,\n",
       " 'Rostokino': 53,\n",
       " 'Poselenie Novofedorovskoe': 54,\n",
       " 'Brateevo': 55,\n",
       " 'Novogireevo': 56,\n",
       " 'Solncevo': 57,\n",
       " 'Troparevo-Nikulino': 58,\n",
       " 'Poselenie Shherbinka': 59,\n",
       " 'Mozhajskoe': 60,\n",
       " 'Nagatino-Sadovniki': 61,\n",
       " 'Babushkinskoe': 62,\n",
       " 'Poselenie Voskresenskoe': 63,\n",
       " 'Presnenskoe': 64,\n",
       " 'Fili Davydkovo': 65,\n",
       " 'Kotlovka': 66,\n",
       " 'Severnoe Tushino': 67,\n",
       " 'Levoberezhnoe': 68,\n",
       " 'Metrogorodok': 69,\n",
       " 'Severnoe Izmajlovo': 70,\n",
       " 'Jakimanka': 71,\n",
       " 'Ramenki': 72,\n",
       " 'Golovinskoe': 73,\n",
       " \"Gol'janovo\": 74,\n",
       " 'Novokosino': 75,\n",
       " 'Chertanovo Juzhnoe': 76,\n",
       " 'Vnukovo': 77,\n",
       " \"Tekstil'shhiki\": 78,\n",
       " \"Kuz'minki\": 79,\n",
       " 'Poselenie Shhapovskoe': 80,\n",
       " 'Pechatniki': 81,\n",
       " 'Juzhnoe Medvedkovo': 82,\n",
       " 'Akademicheskoe': 83,\n",
       " 'Poselenie Mosrentgen': 84,\n",
       " 'Izmajlovo': 85,\n",
       " \"Mar'ino\": 86,\n",
       " 'Ljublino': 87,\n",
       " 'Dmitrovskoe': 88,\n",
       " 'Meshhanskoe': 89,\n",
       " 'Orehovo-Borisovo Severnoe': 90,\n",
       " 'Alekseevskoe': 91,\n",
       " 'Prospekt Vernadskogo': 92,\n",
       " 'Shhukino': 93,\n",
       " 'Basmannoe': 94,\n",
       " 'Troickij okrug': 95,\n",
       " 'Vojkovskoe': 96,\n",
       " 'Horoshevskoe': 97,\n",
       " 'Chertanovo Severnoe': 98,\n",
       " 'Zjablikovo': 99,\n",
       " 'Hamovniki': 100,\n",
       " 'Marfino': 101,\n",
       " 'Savelovskoe': 102,\n",
       " 'Teplyj Stan': 103,\n",
       " 'Otradnoe': 104,\n",
       " 'Vyhino-Zhulebino': 105,\n",
       " 'Silino': 106,\n",
       " 'Ivanovskoe': 107,\n",
       " 'Poselenie Rogovskoe': 108,\n",
       " 'Kuncevo': 109,\n",
       " 'Severnoe Medvedkovo': 110,\n",
       " 'Rjazanskij': 111,\n",
       " 'Poselenie Pervomajskoe': 112,\n",
       " 'Zjuzino': 113,\n",
       " 'Juzhnoportovoe': 114,\n",
       " 'Nagornoe': 115,\n",
       " 'Poselenie Krasnopahorskoe': 116,\n",
       " \"Sokol'niki\": 117,\n",
       " \"Altuf'evskoe\": 118,\n",
       " 'Kosino-Uhtomskoe': 119,\n",
       " 'Nizhegorodskoe': 120,\n",
       " 'Dorogomilovo': 121,\n",
       " 'Vostochnoe Degunino': 122,\n",
       " 'Lianozovo': 123,\n",
       " \"Mar'ina Roshha\": 124,\n",
       " 'Gagarinskoe': 125,\n",
       " 'Lefortovo': 126,\n",
       " 'Staroe Krjukovo': 127,\n",
       " 'Arbat': 128,\n",
       " \"Zamoskvorech'e\": 129,\n",
       " 'Kurkino': 130,\n",
       " \"Moskvorech'e-Saburovo\": 131,\n",
       " 'Begovoe': 132,\n",
       " 'Donskoe': 133,\n",
       " 'Poselenie Marushkinskoe': 134,\n",
       " 'Birjulevo Zapadnoe': 135,\n",
       " 'Ostankinskoe': 136,\n",
       " 'Poselenie Kokoshkino': 137,\n",
       " 'Poselenie Rjazanovskoe': 138,\n",
       " 'Poselenie Klenovskoe': 139,\n",
       " 'Poselenie Voronovskoe': 140,\n",
       " 'Severnoe': 141,\n",
       " 'Vostochnoe': 142,\n",
       " 'Poselenie Kievskij': 143,\n",
       " 'Molzhaninovskoe': 144,\n",
       " 'Poselenie Mihajlovo-Jarcevskoe': 145}"
      ]
     },
     "execution_count": 17,
     "metadata": {},
     "output_type": "execute_result"
    }
   ],
   "source": [
    "f12_encode = dict(zip(f12_unique, range(len(f12_unique))))\n",
    "f12_encode"
   ]
  },
  {
   "cell_type": "code",
   "execution_count": 18,
   "metadata": {},
   "outputs": [
    {
     "data": {
      "text/html": [
       "<div>\n",
       "<style scoped>\n",
       "    .dataframe tbody tr th:only-of-type {\n",
       "        vertical-align: middle;\n",
       "    }\n",
       "\n",
       "    .dataframe tbody tr th {\n",
       "        vertical-align: top;\n",
       "    }\n",
       "\n",
       "    .dataframe thead th {\n",
       "        text-align: right;\n",
       "    }\n",
       "</style>\n",
       "<table border=\"1\" class=\"dataframe\">\n",
       "  <thead>\n",
       "    <tr style=\"text-align: right;\">\n",
       "      <th></th>\n",
       "      <th>f1y</th>\n",
       "      <th>f1m</th>\n",
       "      <th>f1d</th>\n",
       "      <th>f11</th>\n",
       "      <th>f12</th>\n",
       "      <th>f29</th>\n",
       "      <th>f33</th>\n",
       "      <th>f34</th>\n",
       "      <th>f35</th>\n",
       "      <th>f36</th>\n",
       "      <th>f37</th>\n",
       "      <th>f38</th>\n",
       "      <th>f39</th>\n",
       "      <th>f40</th>\n",
       "      <th>f106</th>\n",
       "      <th>f114</th>\n",
       "      <th>f118</th>\n",
       "      <th>f152</th>\n",
       "    </tr>\n",
       "  </thead>\n",
       "  <tbody>\n",
       "    <tr>\n",
       "      <th>0</th>\n",
       "      <td>2014</td>\n",
       "      <td>1</td>\n",
       "      <td>29</td>\n",
       "      <td>0</td>\n",
       "      <td>0</td>\n",
       "      <td>no</td>\n",
       "      <td>no</td>\n",
       "      <td>no</td>\n",
       "      <td>no</td>\n",
       "      <td>no</td>\n",
       "      <td>no</td>\n",
       "      <td>no</td>\n",
       "      <td>no</td>\n",
       "      <td>no</td>\n",
       "      <td>no</td>\n",
       "      <td>no</td>\n",
       "      <td>no</td>\n",
       "      <td>good</td>\n",
       "    </tr>\n",
       "    <tr>\n",
       "      <th>1</th>\n",
       "      <td>2014</td>\n",
       "      <td>4</td>\n",
       "      <td>7</td>\n",
       "      <td>1</td>\n",
       "      <td>1</td>\n",
       "      <td>no</td>\n",
       "      <td>no</td>\n",
       "      <td>no</td>\n",
       "      <td>no</td>\n",
       "      <td>no</td>\n",
       "      <td>no</td>\n",
       "      <td>no</td>\n",
       "      <td>no</td>\n",
       "      <td>no</td>\n",
       "      <td>no</td>\n",
       "      <td>no</td>\n",
       "      <td>no</td>\n",
       "      <td>no data</td>\n",
       "    </tr>\n",
       "    <tr>\n",
       "      <th>2</th>\n",
       "      <td>2012</td>\n",
       "      <td>5</td>\n",
       "      <td>18</td>\n",
       "      <td>0</td>\n",
       "      <td>2</td>\n",
       "      <td>no</td>\n",
       "      <td>no</td>\n",
       "      <td>no</td>\n",
       "      <td>no</td>\n",
       "      <td>no</td>\n",
       "      <td>no</td>\n",
       "      <td>no</td>\n",
       "      <td>no</td>\n",
       "      <td>no</td>\n",
       "      <td>no</td>\n",
       "      <td>no</td>\n",
       "      <td>no</td>\n",
       "      <td>satisfactory</td>\n",
       "    </tr>\n",
       "    <tr>\n",
       "      <th>3</th>\n",
       "      <td>2013</td>\n",
       "      <td>2</td>\n",
       "      <td>8</td>\n",
       "      <td>0</td>\n",
       "      <td>3</td>\n",
       "      <td>no</td>\n",
       "      <td>no</td>\n",
       "      <td>no</td>\n",
       "      <td>no</td>\n",
       "      <td>no</td>\n",
       "      <td>no</td>\n",
       "      <td>no</td>\n",
       "      <td>no</td>\n",
       "      <td>no</td>\n",
       "      <td>no</td>\n",
       "      <td>no</td>\n",
       "      <td>no</td>\n",
       "      <td>poor</td>\n",
       "    </tr>\n",
       "    <tr>\n",
       "      <th>4</th>\n",
       "      <td>2014</td>\n",
       "      <td>1</td>\n",
       "      <td>10</td>\n",
       "      <td>0</td>\n",
       "      <td>4</td>\n",
       "      <td>no</td>\n",
       "      <td>yes</td>\n",
       "      <td>no</td>\n",
       "      <td>no</td>\n",
       "      <td>no</td>\n",
       "      <td>no</td>\n",
       "      <td>no</td>\n",
       "      <td>no</td>\n",
       "      <td>no</td>\n",
       "      <td>no</td>\n",
       "      <td>no</td>\n",
       "      <td>no</td>\n",
       "      <td>satisfactory</td>\n",
       "    </tr>\n",
       "  </tbody>\n",
       "</table>\n",
       "</div>"
      ],
      "text/plain": [
       "    f1y  f1m  f1d  f11  f12 f29  f33 f34 f35 f36 f37 f38 f39 f40 f106 f114  \\\n",
       "0  2014    1   29    0    0  no   no  no  no  no  no  no  no  no   no   no   \n",
       "1  2014    4    7    1    1  no   no  no  no  no  no  no  no  no   no   no   \n",
       "2  2012    5   18    0    2  no   no  no  no  no  no  no  no  no   no   no   \n",
       "3  2013    2    8    0    3  no   no  no  no  no  no  no  no  no   no   no   \n",
       "4  2014    1   10    0    4  no  yes  no  no  no  no  no  no  no   no   no   \n",
       "\n",
       "  f118          f152  \n",
       "0   no          good  \n",
       "1   no       no data  \n",
       "2   no  satisfactory  \n",
       "3   no          poor  \n",
       "4   no  satisfactory  "
      ]
     },
     "execution_count": 18,
     "metadata": {},
     "output_type": "execute_result"
    }
   ],
   "source": [
    "df_f12 = df_f11.replace({'f12': f12_encode})\n",
    "df_f12[notnum_index].head()"
   ]
  },
  {
   "cell_type": "markdown",
   "metadata": {},
   "source": [
    "## Process f29 - f118"
   ]
  },
  {
   "cell_type": "code",
   "execution_count": 19,
   "metadata": {},
   "outputs": [
    {
     "name": "stdout",
     "output_type": "stream",
     "text": [
      "['f29', 'f33', 'f34', 'f35', 'f36', 'f37', 'f38', 'f39', 'f40', 'f106', 'f114', 'f118']\n"
     ]
    }
   ],
   "source": [
    "notnum_bools = notnum_index[5:-1]\n",
    "print(notnum_bools)"
   ]
  },
  {
   "cell_type": "code",
   "execution_count": 20,
   "metadata": {},
   "outputs": [
    {
     "data": {
      "text/plain": [
       "{'no', 'yes'}"
      ]
     },
     "execution_count": 20,
     "metadata": {},
     "output_type": "execute_result"
    }
   ],
   "source": [
    "bools_unique = set(np.array([df_f12[col].unique() for col in notnum_bools]).flatten())\n",
    "bools_unique"
   ]
  },
  {
   "cell_type": "code",
   "execution_count": 21,
   "metadata": {},
   "outputs": [
    {
     "data": {
      "text/plain": [
       "{'yes': 0, 'no': 1}"
      ]
     },
     "execution_count": 21,
     "metadata": {},
     "output_type": "execute_result"
    }
   ],
   "source": [
    "bools_encode = dict(zip(bools_unique, range(len(bools_unique))))\n",
    "bools_encode"
   ]
  },
  {
   "cell_type": "code",
   "execution_count": 22,
   "metadata": {},
   "outputs": [
    {
     "data": {
      "text/html": [
       "<div>\n",
       "<style scoped>\n",
       "    .dataframe tbody tr th:only-of-type {\n",
       "        vertical-align: middle;\n",
       "    }\n",
       "\n",
       "    .dataframe tbody tr th {\n",
       "        vertical-align: top;\n",
       "    }\n",
       "\n",
       "    .dataframe thead th {\n",
       "        text-align: right;\n",
       "    }\n",
       "</style>\n",
       "<table border=\"1\" class=\"dataframe\">\n",
       "  <thead>\n",
       "    <tr style=\"text-align: right;\">\n",
       "      <th></th>\n",
       "      <th>f1y</th>\n",
       "      <th>f1m</th>\n",
       "      <th>f1d</th>\n",
       "      <th>f11</th>\n",
       "      <th>f12</th>\n",
       "      <th>f29</th>\n",
       "      <th>f33</th>\n",
       "      <th>f34</th>\n",
       "      <th>f35</th>\n",
       "      <th>f36</th>\n",
       "      <th>f37</th>\n",
       "      <th>f38</th>\n",
       "      <th>f39</th>\n",
       "      <th>f40</th>\n",
       "      <th>f106</th>\n",
       "      <th>f114</th>\n",
       "      <th>f118</th>\n",
       "      <th>f152</th>\n",
       "    </tr>\n",
       "  </thead>\n",
       "  <tbody>\n",
       "    <tr>\n",
       "      <th>0</th>\n",
       "      <td>2014</td>\n",
       "      <td>1</td>\n",
       "      <td>29</td>\n",
       "      <td>0</td>\n",
       "      <td>0</td>\n",
       "      <td>1</td>\n",
       "      <td>1</td>\n",
       "      <td>1</td>\n",
       "      <td>1</td>\n",
       "      <td>1</td>\n",
       "      <td>1</td>\n",
       "      <td>1</td>\n",
       "      <td>1</td>\n",
       "      <td>1</td>\n",
       "      <td>1</td>\n",
       "      <td>1</td>\n",
       "      <td>1</td>\n",
       "      <td>good</td>\n",
       "    </tr>\n",
       "    <tr>\n",
       "      <th>1</th>\n",
       "      <td>2014</td>\n",
       "      <td>4</td>\n",
       "      <td>7</td>\n",
       "      <td>1</td>\n",
       "      <td>1</td>\n",
       "      <td>1</td>\n",
       "      <td>1</td>\n",
       "      <td>1</td>\n",
       "      <td>1</td>\n",
       "      <td>1</td>\n",
       "      <td>1</td>\n",
       "      <td>1</td>\n",
       "      <td>1</td>\n",
       "      <td>1</td>\n",
       "      <td>1</td>\n",
       "      <td>1</td>\n",
       "      <td>1</td>\n",
       "      <td>no data</td>\n",
       "    </tr>\n",
       "    <tr>\n",
       "      <th>2</th>\n",
       "      <td>2012</td>\n",
       "      <td>5</td>\n",
       "      <td>18</td>\n",
       "      <td>0</td>\n",
       "      <td>2</td>\n",
       "      <td>1</td>\n",
       "      <td>1</td>\n",
       "      <td>1</td>\n",
       "      <td>1</td>\n",
       "      <td>1</td>\n",
       "      <td>1</td>\n",
       "      <td>1</td>\n",
       "      <td>1</td>\n",
       "      <td>1</td>\n",
       "      <td>1</td>\n",
       "      <td>1</td>\n",
       "      <td>1</td>\n",
       "      <td>satisfactory</td>\n",
       "    </tr>\n",
       "    <tr>\n",
       "      <th>3</th>\n",
       "      <td>2013</td>\n",
       "      <td>2</td>\n",
       "      <td>8</td>\n",
       "      <td>0</td>\n",
       "      <td>3</td>\n",
       "      <td>1</td>\n",
       "      <td>1</td>\n",
       "      <td>1</td>\n",
       "      <td>1</td>\n",
       "      <td>1</td>\n",
       "      <td>1</td>\n",
       "      <td>1</td>\n",
       "      <td>1</td>\n",
       "      <td>1</td>\n",
       "      <td>1</td>\n",
       "      <td>1</td>\n",
       "      <td>1</td>\n",
       "      <td>poor</td>\n",
       "    </tr>\n",
       "    <tr>\n",
       "      <th>4</th>\n",
       "      <td>2014</td>\n",
       "      <td>1</td>\n",
       "      <td>10</td>\n",
       "      <td>0</td>\n",
       "      <td>4</td>\n",
       "      <td>1</td>\n",
       "      <td>0</td>\n",
       "      <td>1</td>\n",
       "      <td>1</td>\n",
       "      <td>1</td>\n",
       "      <td>1</td>\n",
       "      <td>1</td>\n",
       "      <td>1</td>\n",
       "      <td>1</td>\n",
       "      <td>1</td>\n",
       "      <td>1</td>\n",
       "      <td>1</td>\n",
       "      <td>satisfactory</td>\n",
       "    </tr>\n",
       "  </tbody>\n",
       "</table>\n",
       "</div>"
      ],
      "text/plain": [
       "    f1y  f1m  f1d  f11  f12  f29  f33  f34  f35  f36  f37  f38  f39  f40  \\\n",
       "0  2014    1   29    0    0    1    1    1    1    1    1    1    1    1   \n",
       "1  2014    4    7    1    1    1    1    1    1    1    1    1    1    1   \n",
       "2  2012    5   18    0    2    1    1    1    1    1    1    1    1    1   \n",
       "3  2013    2    8    0    3    1    1    1    1    1    1    1    1    1   \n",
       "4  2014    1   10    0    4    1    0    1    1    1    1    1    1    1   \n",
       "\n",
       "   f106  f114  f118          f152  \n",
       "0     1     1     1          good  \n",
       "1     1     1     1       no data  \n",
       "2     1     1     1  satisfactory  \n",
       "3     1     1     1          poor  \n",
       "4     1     1     1  satisfactory  "
      ]
     },
     "execution_count": 22,
     "metadata": {},
     "output_type": "execute_result"
    }
   ],
   "source": [
    "df_bools = df_f12.replace(dict.fromkeys(notnum_bools, bools_encode))\n",
    "df_bools[notnum_index].head()"
   ]
  },
  {
   "cell_type": "markdown",
   "metadata": {},
   "source": [
    "## Process f152"
   ]
  },
  {
   "cell_type": "code",
   "execution_count": 23,
   "metadata": {},
   "outputs": [
    {
     "data": {
      "text/plain": [
       "array(['good', 'no data', 'satisfactory', 'poor', 'excellent'],\n",
       "      dtype=object)"
      ]
     },
     "execution_count": 23,
     "metadata": {},
     "output_type": "execute_result"
    }
   ],
   "source": [
    "f152_unique = df_bools['f152'].unique()\n",
    "f152_unique"
   ]
  },
  {
   "cell_type": "code",
   "execution_count": 24,
   "metadata": {},
   "outputs": [
    {
     "data": {
      "text/plain": [
       "{'no data': 0, 'poor': 1, 'satisfactory': 2, 'good': 3, 'excellent': 4}"
      ]
     },
     "execution_count": 24,
     "metadata": {},
     "output_type": "execute_result"
    }
   ],
   "source": [
    "f152_encode = dict(zip(['no data', 'poor', 'satisfactory', 'good', 'excellent'], range(5)))\n",
    "f152_encode"
   ]
  },
  {
   "cell_type": "code",
   "execution_count": 25,
   "metadata": {},
   "outputs": [
    {
     "data": {
      "text/html": [
       "<div>\n",
       "<style scoped>\n",
       "    .dataframe tbody tr th:only-of-type {\n",
       "        vertical-align: middle;\n",
       "    }\n",
       "\n",
       "    .dataframe tbody tr th {\n",
       "        vertical-align: top;\n",
       "    }\n",
       "\n",
       "    .dataframe thead th {\n",
       "        text-align: right;\n",
       "    }\n",
       "</style>\n",
       "<table border=\"1\" class=\"dataframe\">\n",
       "  <thead>\n",
       "    <tr style=\"text-align: right;\">\n",
       "      <th></th>\n",
       "      <th>f1y</th>\n",
       "      <th>f1m</th>\n",
       "      <th>f1d</th>\n",
       "      <th>f11</th>\n",
       "      <th>f12</th>\n",
       "      <th>f29</th>\n",
       "      <th>f33</th>\n",
       "      <th>f34</th>\n",
       "      <th>f35</th>\n",
       "      <th>f36</th>\n",
       "      <th>f37</th>\n",
       "      <th>f38</th>\n",
       "      <th>f39</th>\n",
       "      <th>f40</th>\n",
       "      <th>f106</th>\n",
       "      <th>f114</th>\n",
       "      <th>f118</th>\n",
       "      <th>f152</th>\n",
       "    </tr>\n",
       "  </thead>\n",
       "  <tbody>\n",
       "    <tr>\n",
       "      <th>0</th>\n",
       "      <td>2014</td>\n",
       "      <td>1</td>\n",
       "      <td>29</td>\n",
       "      <td>0</td>\n",
       "      <td>0</td>\n",
       "      <td>1</td>\n",
       "      <td>1</td>\n",
       "      <td>1</td>\n",
       "      <td>1</td>\n",
       "      <td>1</td>\n",
       "      <td>1</td>\n",
       "      <td>1</td>\n",
       "      <td>1</td>\n",
       "      <td>1</td>\n",
       "      <td>1</td>\n",
       "      <td>1</td>\n",
       "      <td>1</td>\n",
       "      <td>3</td>\n",
       "    </tr>\n",
       "    <tr>\n",
       "      <th>1</th>\n",
       "      <td>2014</td>\n",
       "      <td>4</td>\n",
       "      <td>7</td>\n",
       "      <td>1</td>\n",
       "      <td>1</td>\n",
       "      <td>1</td>\n",
       "      <td>1</td>\n",
       "      <td>1</td>\n",
       "      <td>1</td>\n",
       "      <td>1</td>\n",
       "      <td>1</td>\n",
       "      <td>1</td>\n",
       "      <td>1</td>\n",
       "      <td>1</td>\n",
       "      <td>1</td>\n",
       "      <td>1</td>\n",
       "      <td>1</td>\n",
       "      <td>0</td>\n",
       "    </tr>\n",
       "    <tr>\n",
       "      <th>2</th>\n",
       "      <td>2012</td>\n",
       "      <td>5</td>\n",
       "      <td>18</td>\n",
       "      <td>0</td>\n",
       "      <td>2</td>\n",
       "      <td>1</td>\n",
       "      <td>1</td>\n",
       "      <td>1</td>\n",
       "      <td>1</td>\n",
       "      <td>1</td>\n",
       "      <td>1</td>\n",
       "      <td>1</td>\n",
       "      <td>1</td>\n",
       "      <td>1</td>\n",
       "      <td>1</td>\n",
       "      <td>1</td>\n",
       "      <td>1</td>\n",
       "      <td>2</td>\n",
       "    </tr>\n",
       "    <tr>\n",
       "      <th>3</th>\n",
       "      <td>2013</td>\n",
       "      <td>2</td>\n",
       "      <td>8</td>\n",
       "      <td>0</td>\n",
       "      <td>3</td>\n",
       "      <td>1</td>\n",
       "      <td>1</td>\n",
       "      <td>1</td>\n",
       "      <td>1</td>\n",
       "      <td>1</td>\n",
       "      <td>1</td>\n",
       "      <td>1</td>\n",
       "      <td>1</td>\n",
       "      <td>1</td>\n",
       "      <td>1</td>\n",
       "      <td>1</td>\n",
       "      <td>1</td>\n",
       "      <td>1</td>\n",
       "    </tr>\n",
       "    <tr>\n",
       "      <th>4</th>\n",
       "      <td>2014</td>\n",
       "      <td>1</td>\n",
       "      <td>10</td>\n",
       "      <td>0</td>\n",
       "      <td>4</td>\n",
       "      <td>1</td>\n",
       "      <td>0</td>\n",
       "      <td>1</td>\n",
       "      <td>1</td>\n",
       "      <td>1</td>\n",
       "      <td>1</td>\n",
       "      <td>1</td>\n",
       "      <td>1</td>\n",
       "      <td>1</td>\n",
       "      <td>1</td>\n",
       "      <td>1</td>\n",
       "      <td>1</td>\n",
       "      <td>2</td>\n",
       "    </tr>\n",
       "  </tbody>\n",
       "</table>\n",
       "</div>"
      ],
      "text/plain": [
       "    f1y  f1m  f1d  f11  f12  f29  f33  f34  f35  f36  f37  f38  f39  f40  \\\n",
       "0  2014    1   29    0    0    1    1    1    1    1    1    1    1    1   \n",
       "1  2014    4    7    1    1    1    1    1    1    1    1    1    1    1   \n",
       "2  2012    5   18    0    2    1    1    1    1    1    1    1    1    1   \n",
       "3  2013    2    8    0    3    1    1    1    1    1    1    1    1    1   \n",
       "4  2014    1   10    0    4    1    0    1    1    1    1    1    1    1   \n",
       "\n",
       "   f106  f114  f118  f152  \n",
       "0     1     1     1     3  \n",
       "1     1     1     1     0  \n",
       "2     1     1     1     2  \n",
       "3     1     1     1     1  \n",
       "4     1     1     1     2  "
      ]
     },
     "execution_count": 25,
     "metadata": {},
     "output_type": "execute_result"
    }
   ],
   "source": [
    "df_f152 = df_bools.replace({'f152': f152_encode})\n",
    "df_f152[notnum_index].head()"
   ]
  },
  {
   "cell_type": "markdown",
   "metadata": {},
   "source": [
    "## Obtain result"
   ]
  },
  {
   "cell_type": "code",
   "execution_count": 26,
   "metadata": {},
   "outputs": [
    {
     "data": {
      "text/html": [
       "<div>\n",
       "<style scoped>\n",
       "    .dataframe tbody tr th:only-of-type {\n",
       "        vertical-align: middle;\n",
       "    }\n",
       "\n",
       "    .dataframe tbody tr th {\n",
       "        vertical-align: top;\n",
       "    }\n",
       "\n",
       "    .dataframe thead th {\n",
       "        text-align: right;\n",
       "    }\n",
       "</style>\n",
       "<table border=\"1\" class=\"dataframe\">\n",
       "  <thead>\n",
       "    <tr style=\"text-align: right;\">\n",
       "      <th></th>\n",
       "      <th>id</th>\n",
       "      <th>f1y</th>\n",
       "      <th>f1m</th>\n",
       "      <th>f1d</th>\n",
       "      <th>f2</th>\n",
       "      <th>f3</th>\n",
       "      <th>f4</th>\n",
       "      <th>f5</th>\n",
       "      <th>f6</th>\n",
       "      <th>f7</th>\n",
       "      <th>...</th>\n",
       "      <th>f282</th>\n",
       "      <th>f283</th>\n",
       "      <th>f284</th>\n",
       "      <th>f285</th>\n",
       "      <th>f286</th>\n",
       "      <th>f287</th>\n",
       "      <th>f288</th>\n",
       "      <th>f289</th>\n",
       "      <th>f290</th>\n",
       "      <th>target</th>\n",
       "    </tr>\n",
       "  </thead>\n",
       "  <tbody>\n",
       "    <tr>\n",
       "      <th>0</th>\n",
       "      <td>1</td>\n",
       "      <td>2014</td>\n",
       "      <td>1</td>\n",
       "      <td>29</td>\n",
       "      <td>69</td>\n",
       "      <td>38.0</td>\n",
       "      <td>7.0</td>\n",
       "      <td>10.0</td>\n",
       "      <td>1.0</td>\n",
       "      <td>2001.0</td>\n",
       "      <td>...</td>\n",
       "      <td>1</td>\n",
       "      <td>0</td>\n",
       "      <td>0</td>\n",
       "      <td>2</td>\n",
       "      <td>8</td>\n",
       "      <td>1</td>\n",
       "      <td>0</td>\n",
       "      <td>19</td>\n",
       "      <td>2</td>\n",
       "      <td>9500000</td>\n",
       "    </tr>\n",
       "    <tr>\n",
       "      <th>1</th>\n",
       "      <td>2</td>\n",
       "      <td>2014</td>\n",
       "      <td>4</td>\n",
       "      <td>7</td>\n",
       "      <td>55</td>\n",
       "      <td>NaN</td>\n",
       "      <td>2.0</td>\n",
       "      <td>1.0</td>\n",
       "      <td>4.0</td>\n",
       "      <td>NaN</td>\n",
       "      <td>...</td>\n",
       "      <td>0</td>\n",
       "      <td>0</td>\n",
       "      <td>0</td>\n",
       "      <td>0</td>\n",
       "      <td>4</td>\n",
       "      <td>0</td>\n",
       "      <td>0</td>\n",
       "      <td>2</td>\n",
       "      <td>0</td>\n",
       "      <td>3837949</td>\n",
       "    </tr>\n",
       "    <tr>\n",
       "      <th>2</th>\n",
       "      <td>3</td>\n",
       "      <td>2012</td>\n",
       "      <td>5</td>\n",
       "      <td>18</td>\n",
       "      <td>30</td>\n",
       "      <td>16.0</td>\n",
       "      <td>2.0</td>\n",
       "      <td>NaN</td>\n",
       "      <td>NaN</td>\n",
       "      <td>NaN</td>\n",
       "      <td>...</td>\n",
       "      <td>46</td>\n",
       "      <td>9</td>\n",
       "      <td>2</td>\n",
       "      <td>11</td>\n",
       "      <td>38</td>\n",
       "      <td>1</td>\n",
       "      <td>8</td>\n",
       "      <td>97</td>\n",
       "      <td>11</td>\n",
       "      <td>6250000</td>\n",
       "    </tr>\n",
       "    <tr>\n",
       "      <th>3</th>\n",
       "      <td>4</td>\n",
       "      <td>2013</td>\n",
       "      <td>2</td>\n",
       "      <td>8</td>\n",
       "      <td>44</td>\n",
       "      <td>43.0</td>\n",
       "      <td>1.0</td>\n",
       "      <td>NaN</td>\n",
       "      <td>NaN</td>\n",
       "      <td>NaN</td>\n",
       "      <td>...</td>\n",
       "      <td>17</td>\n",
       "      <td>4</td>\n",
       "      <td>1</td>\n",
       "      <td>12</td>\n",
       "      <td>12</td>\n",
       "      <td>0</td>\n",
       "      <td>1</td>\n",
       "      <td>55</td>\n",
       "      <td>7</td>\n",
       "      <td>2000000</td>\n",
       "    </tr>\n",
       "    <tr>\n",
       "      <th>4</th>\n",
       "      <td>5</td>\n",
       "      <td>2014</td>\n",
       "      <td>1</td>\n",
       "      <td>10</td>\n",
       "      <td>45</td>\n",
       "      <td>28.0</td>\n",
       "      <td>3.0</td>\n",
       "      <td>5.0</td>\n",
       "      <td>2.0</td>\n",
       "      <td>1960.0</td>\n",
       "      <td>...</td>\n",
       "      <td>20</td>\n",
       "      <td>2</td>\n",
       "      <td>0</td>\n",
       "      <td>4</td>\n",
       "      <td>16</td>\n",
       "      <td>1</td>\n",
       "      <td>4</td>\n",
       "      <td>47</td>\n",
       "      <td>5</td>\n",
       "      <td>6700000</td>\n",
       "    </tr>\n",
       "  </tbody>\n",
       "</table>\n",
       "<p>5 rows × 294 columns</p>\n",
       "</div>"
      ],
      "text/plain": [
       "   id   f1y  f1m  f1d  f2    f3   f4    f5   f6      f7  ...  f282  f283  \\\n",
       "0   1  2014    1   29  69  38.0  7.0  10.0  1.0  2001.0  ...     1     0   \n",
       "1   2  2014    4    7  55   NaN  2.0   1.0  4.0     NaN  ...     0     0   \n",
       "2   3  2012    5   18  30  16.0  2.0   NaN  NaN     NaN  ...    46     9   \n",
       "3   4  2013    2    8  44  43.0  1.0   NaN  NaN     NaN  ...    17     4   \n",
       "4   5  2014    1   10  45  28.0  3.0   5.0  2.0  1960.0  ...    20     2   \n",
       "\n",
       "   f284  f285  f286  f287  f288  f289  f290   target  \n",
       "0     0     2     8     1     0    19     2  9500000  \n",
       "1     0     0     4     0     0     2     0  3837949  \n",
       "2     2    11    38     1     8    97    11  6250000  \n",
       "3     1    12    12     0     1    55     7  2000000  \n",
       "4     0     4    16     1     4    47     5  6700000  \n",
       "\n",
       "[5 rows x 294 columns]"
      ]
     },
     "execution_count": 26,
     "metadata": {},
     "output_type": "execute_result"
    }
   ],
   "source": [
    "df_final = df_f152.copy()\n",
    "df_final.head()"
   ]
  },
  {
   "cell_type": "markdown",
   "metadata": {},
   "source": [
    "## Check NaNs"
   ]
  },
  {
   "cell_type": "code",
   "execution_count": 27,
   "metadata": {},
   "outputs": [
    {
     "data": {
      "text/plain": [
       "51"
      ]
     },
     "execution_count": 27,
     "metadata": {},
     "output_type": "execute_result"
    }
   ],
   "source": [
    "nans_cols = df_final.isna().sum()\n",
    "nans_cols[nans_cols > 0].count()"
   ]
  },
  {
   "cell_type": "code",
   "execution_count": 28,
   "metadata": {},
   "outputs": [
    {
     "data": {
      "text/plain": [
       "array([dtype('float64')], dtype=object)"
      ]
     },
     "execution_count": 28,
     "metadata": {},
     "output_type": "execute_result"
    }
   ],
   "source": [
    "df_final[nans_cols[nans_cols > 0].index].dtypes.unique()"
   ]
  },
  {
   "cell_type": "code",
   "execution_count": 29,
   "metadata": {},
   "outputs": [
    {
     "data": {
      "text/plain": [
       "172      40\n",
       "554      40\n",
       "785      40\n",
       "1052     40\n",
       "1359     40\n",
       "         ..\n",
       "22921    40\n",
       "23466    40\n",
       "23550    40\n",
       "24236    40\n",
       "24316    41\n",
       "Length: 155, dtype: int64"
      ]
     },
     "execution_count": 29,
     "metadata": {},
     "output_type": "execute_result"
    }
   ],
   "source": [
    "nans_rows = df_final.isna().sum(axis=1)\n",
    "nans_rows[nans_rows >= 40]"
   ]
  },
  {
   "cell_type": "code",
   "execution_count": 30,
   "metadata": {},
   "outputs": [
    {
     "name": "stdout",
     "output_type": "stream",
     "text": [
      "[172, 554, 785, 1052, 1359, 1495, 1646, 1812, 1997, 2133, 2249, 2302, 2529, 2542, 2678, 2684, 2781, 2801, 2861, 3251, 3254, 3699, 3904, 3959, 4208, 4365, 4544, 4656, 4834, 4929, 4941, 5151, 5159, 5277, 5474, 5621, 5634, 5691, 5805, 6092, 6191, 6256, 6347, 6388, 6524, 6862, 6876, 7066, 7202, 7259, 7506, 7508, 7575, 7618, 7625, 7694, 7796, 7980, 8119, 8184, 8484, 8673, 8834, 9290, 9632, 9693, 9786, 10247, 10427, 10572, 10639, 11016, 11281, 11394, 11648, 11857, 12249, 12556, 12625, 13322, 13330, 13498, 13592, 13696, 13772, 13911, 13996, 14014, 14062, 14331, 14345, 14518, 14925, 14999, 15026, 15086, 15313, 15359, 15493, 15679, 15812, 15916, 16036, 16129, 16532, 16820, 16965, 17116, 17534, 17574, 17971, 18011, 18037, 18053, 18256, 18311, 18334, 18429, 18475, 18532, 18630, 18632, 18691, 19155, 19187, 19253, 19429, 19523, 19792, 20051, 20087, 20279, 20435, 20650, 20927, 21346, 21410, 21508, 21570, 21735, 22029, 22096, 22195, 22210, 22235, 22258, 22324, 22356, 22477, 22608, 22921, 23466, 23550, 24236, 24316]\n"
     ]
    }
   ],
   "source": [
    "print(list(nans_rows[nans_rows >= 40].index))"
   ]
  },
  {
   "cell_type": "markdown",
   "metadata": {},
   "source": [
    "## Remove too dirty entries"
   ]
  },
  {
   "cell_type": "code",
   "execution_count": 31,
   "metadata": {},
   "outputs": [
    {
     "data": {
      "text/plain": [
       "(24221, 294)"
      ]
     },
     "execution_count": 31,
     "metadata": {},
     "output_type": "execute_result"
    }
   ],
   "source": [
    "df_nans = df_final.drop(list(nans_rows[nans_rows >= 40].index))\n",
    "df_nans.shape"
   ]
  },
  {
   "cell_type": "markdown",
   "metadata": {},
   "source": [
    "## Impute missing values with KNN"
   ]
  },
  {
   "cell_type": "code",
   "execution_count": 32,
   "metadata": {},
   "outputs": [],
   "source": [
    "from sklearn.impute import KNNImputer\n",
    "\n",
    "imputer = KNNImputer(weights='distance')"
   ]
  },
  {
   "cell_type": "code",
   "execution_count": 33,
   "metadata": {},
   "outputs": [],
   "source": [
    "df_imp = imputer.fit_transform(df_nans)"
   ]
  },
  {
   "cell_type": "code",
   "execution_count": 34,
   "metadata": {},
   "outputs": [
    {
     "data": {
      "text/html": [
       "<div>\n",
       "<style scoped>\n",
       "    .dataframe tbody tr th:only-of-type {\n",
       "        vertical-align: middle;\n",
       "    }\n",
       "\n",
       "    .dataframe tbody tr th {\n",
       "        vertical-align: top;\n",
       "    }\n",
       "\n",
       "    .dataframe thead th {\n",
       "        text-align: right;\n",
       "    }\n",
       "</style>\n",
       "<table border=\"1\" class=\"dataframe\">\n",
       "  <thead>\n",
       "    <tr style=\"text-align: right;\">\n",
       "      <th></th>\n",
       "      <th>id</th>\n",
       "      <th>f1y</th>\n",
       "      <th>f1m</th>\n",
       "      <th>f1d</th>\n",
       "      <th>f2</th>\n",
       "      <th>f3</th>\n",
       "      <th>f4</th>\n",
       "      <th>f5</th>\n",
       "      <th>f6</th>\n",
       "      <th>f7</th>\n",
       "      <th>...</th>\n",
       "      <th>f282</th>\n",
       "      <th>f283</th>\n",
       "      <th>f284</th>\n",
       "      <th>f285</th>\n",
       "      <th>f286</th>\n",
       "      <th>f287</th>\n",
       "      <th>f288</th>\n",
       "      <th>f289</th>\n",
       "      <th>f290</th>\n",
       "      <th>target</th>\n",
       "    </tr>\n",
       "  </thead>\n",
       "  <tbody>\n",
       "    <tr>\n",
       "      <th>0</th>\n",
       "      <td>1.0</td>\n",
       "      <td>2014.0</td>\n",
       "      <td>1.0</td>\n",
       "      <td>29.0</td>\n",
       "      <td>69.0</td>\n",
       "      <td>38.00000</td>\n",
       "      <td>7.0</td>\n",
       "      <td>10.00000</td>\n",
       "      <td>1.000000</td>\n",
       "      <td>2001.000000</td>\n",
       "      <td>...</td>\n",
       "      <td>1.0</td>\n",
       "      <td>0.0</td>\n",
       "      <td>0.0</td>\n",
       "      <td>2.0</td>\n",
       "      <td>8.0</td>\n",
       "      <td>1.0</td>\n",
       "      <td>0.0</td>\n",
       "      <td>19.0</td>\n",
       "      <td>2.0</td>\n",
       "      <td>9500000.0</td>\n",
       "    </tr>\n",
       "    <tr>\n",
       "      <th>1</th>\n",
       "      <td>2.0</td>\n",
       "      <td>2014.0</td>\n",
       "      <td>4.0</td>\n",
       "      <td>7.0</td>\n",
       "      <td>55.0</td>\n",
       "      <td>48.13174</td>\n",
       "      <td>2.0</td>\n",
       "      <td>1.00000</td>\n",
       "      <td>4.000000</td>\n",
       "      <td>1591.150833</td>\n",
       "      <td>...</td>\n",
       "      <td>0.0</td>\n",
       "      <td>0.0</td>\n",
       "      <td>0.0</td>\n",
       "      <td>0.0</td>\n",
       "      <td>4.0</td>\n",
       "      <td>0.0</td>\n",
       "      <td>0.0</td>\n",
       "      <td>2.0</td>\n",
       "      <td>0.0</td>\n",
       "      <td>3837949.0</td>\n",
       "    </tr>\n",
       "    <tr>\n",
       "      <th>2</th>\n",
       "      <td>3.0</td>\n",
       "      <td>2012.0</td>\n",
       "      <td>5.0</td>\n",
       "      <td>18.0</td>\n",
       "      <td>30.0</td>\n",
       "      <td>16.00000</td>\n",
       "      <td>2.0</td>\n",
       "      <td>7.29370</td>\n",
       "      <td>3.732457</td>\n",
       "      <td>1961.927529</td>\n",
       "      <td>...</td>\n",
       "      <td>46.0</td>\n",
       "      <td>9.0</td>\n",
       "      <td>2.0</td>\n",
       "      <td>11.0</td>\n",
       "      <td>38.0</td>\n",
       "      <td>1.0</td>\n",
       "      <td>8.0</td>\n",
       "      <td>97.0</td>\n",
       "      <td>11.0</td>\n",
       "      <td>6250000.0</td>\n",
       "    </tr>\n",
       "    <tr>\n",
       "      <th>3</th>\n",
       "      <td>4.0</td>\n",
       "      <td>2013.0</td>\n",
       "      <td>2.0</td>\n",
       "      <td>8.0</td>\n",
       "      <td>44.0</td>\n",
       "      <td>43.00000</td>\n",
       "      <td>1.0</td>\n",
       "      <td>8.78533</td>\n",
       "      <td>1.428214</td>\n",
       "      <td>1970.661667</td>\n",
       "      <td>...</td>\n",
       "      <td>17.0</td>\n",
       "      <td>4.0</td>\n",
       "      <td>1.0</td>\n",
       "      <td>12.0</td>\n",
       "      <td>12.0</td>\n",
       "      <td>0.0</td>\n",
       "      <td>1.0</td>\n",
       "      <td>55.0</td>\n",
       "      <td>7.0</td>\n",
       "      <td>2000000.0</td>\n",
       "    </tr>\n",
       "    <tr>\n",
       "      <th>4</th>\n",
       "      <td>5.0</td>\n",
       "      <td>2014.0</td>\n",
       "      <td>1.0</td>\n",
       "      <td>10.0</td>\n",
       "      <td>45.0</td>\n",
       "      <td>28.00000</td>\n",
       "      <td>3.0</td>\n",
       "      <td>5.00000</td>\n",
       "      <td>2.000000</td>\n",
       "      <td>1960.000000</td>\n",
       "      <td>...</td>\n",
       "      <td>20.0</td>\n",
       "      <td>2.0</td>\n",
       "      <td>0.0</td>\n",
       "      <td>4.0</td>\n",
       "      <td>16.0</td>\n",
       "      <td>1.0</td>\n",
       "      <td>4.0</td>\n",
       "      <td>47.0</td>\n",
       "      <td>5.0</td>\n",
       "      <td>6700000.0</td>\n",
       "    </tr>\n",
       "  </tbody>\n",
       "</table>\n",
       "<p>5 rows × 294 columns</p>\n",
       "</div>"
      ],
      "text/plain": [
       "    id     f1y  f1m   f1d    f2        f3   f4        f5        f6  \\\n",
       "0  1.0  2014.0  1.0  29.0  69.0  38.00000  7.0  10.00000  1.000000   \n",
       "1  2.0  2014.0  4.0   7.0  55.0  48.13174  2.0   1.00000  4.000000   \n",
       "2  3.0  2012.0  5.0  18.0  30.0  16.00000  2.0   7.29370  3.732457   \n",
       "3  4.0  2013.0  2.0   8.0  44.0  43.00000  1.0   8.78533  1.428214   \n",
       "4  5.0  2014.0  1.0  10.0  45.0  28.00000  3.0   5.00000  2.000000   \n",
       "\n",
       "            f7  ...  f282  f283  f284  f285  f286  f287  f288  f289  f290  \\\n",
       "0  2001.000000  ...   1.0   0.0   0.0   2.0   8.0   1.0   0.0  19.0   2.0   \n",
       "1  1591.150833  ...   0.0   0.0   0.0   0.0   4.0   0.0   0.0   2.0   0.0   \n",
       "2  1961.927529  ...  46.0   9.0   2.0  11.0  38.0   1.0   8.0  97.0  11.0   \n",
       "3  1970.661667  ...  17.0   4.0   1.0  12.0  12.0   0.0   1.0  55.0   7.0   \n",
       "4  1960.000000  ...  20.0   2.0   0.0   4.0  16.0   1.0   4.0  47.0   5.0   \n",
       "\n",
       "      target  \n",
       "0  9500000.0  \n",
       "1  3837949.0  \n",
       "2  6250000.0  \n",
       "3  2000000.0  \n",
       "4  6700000.0  \n",
       "\n",
       "[5 rows x 294 columns]"
      ]
     },
     "execution_count": 34,
     "metadata": {},
     "output_type": "execute_result"
    }
   ],
   "source": [
    "df_imp2 = pd.DataFrame(df_imp, columns=df_final.columns)\n",
    "df_imp2.head()"
   ]
  },
  {
   "cell_type": "code",
   "execution_count": 35,
   "metadata": {},
   "outputs": [
    {
     "data": {
      "text/html": [
       "<div>\n",
       "<style scoped>\n",
       "    .dataframe tbody tr th:only-of-type {\n",
       "        vertical-align: middle;\n",
       "    }\n",
       "\n",
       "    .dataframe tbody tr th {\n",
       "        vertical-align: top;\n",
       "    }\n",
       "\n",
       "    .dataframe thead th {\n",
       "        text-align: right;\n",
       "    }\n",
       "</style>\n",
       "<table border=\"1\" class=\"dataframe\">\n",
       "  <thead>\n",
       "    <tr style=\"text-align: right;\">\n",
       "      <th></th>\n",
       "      <th>id</th>\n",
       "      <th>f1y</th>\n",
       "      <th>f1m</th>\n",
       "      <th>f1d</th>\n",
       "      <th>f2</th>\n",
       "      <th>f3</th>\n",
       "      <th>f4</th>\n",
       "      <th>f5</th>\n",
       "      <th>f6</th>\n",
       "      <th>f7</th>\n",
       "      <th>...</th>\n",
       "      <th>f282</th>\n",
       "      <th>f283</th>\n",
       "      <th>f284</th>\n",
       "      <th>f285</th>\n",
       "      <th>f286</th>\n",
       "      <th>f287</th>\n",
       "      <th>f288</th>\n",
       "      <th>f289</th>\n",
       "      <th>f290</th>\n",
       "      <th>target</th>\n",
       "    </tr>\n",
       "  </thead>\n",
       "  <tbody>\n",
       "    <tr>\n",
       "      <th>0</th>\n",
       "      <td>1</td>\n",
       "      <td>2014</td>\n",
       "      <td>1</td>\n",
       "      <td>29</td>\n",
       "      <td>69</td>\n",
       "      <td>38.0</td>\n",
       "      <td>7.0</td>\n",
       "      <td>10.0</td>\n",
       "      <td>1.0</td>\n",
       "      <td>2001.0</td>\n",
       "      <td>...</td>\n",
       "      <td>1</td>\n",
       "      <td>0</td>\n",
       "      <td>0</td>\n",
       "      <td>2</td>\n",
       "      <td>8</td>\n",
       "      <td>1</td>\n",
       "      <td>0</td>\n",
       "      <td>19</td>\n",
       "      <td>2</td>\n",
       "      <td>9500000</td>\n",
       "    </tr>\n",
       "    <tr>\n",
       "      <th>1</th>\n",
       "      <td>2</td>\n",
       "      <td>2014</td>\n",
       "      <td>4</td>\n",
       "      <td>7</td>\n",
       "      <td>55</td>\n",
       "      <td>NaN</td>\n",
       "      <td>2.0</td>\n",
       "      <td>1.0</td>\n",
       "      <td>4.0</td>\n",
       "      <td>NaN</td>\n",
       "      <td>...</td>\n",
       "      <td>0</td>\n",
       "      <td>0</td>\n",
       "      <td>0</td>\n",
       "      <td>0</td>\n",
       "      <td>4</td>\n",
       "      <td>0</td>\n",
       "      <td>0</td>\n",
       "      <td>2</td>\n",
       "      <td>0</td>\n",
       "      <td>3837949</td>\n",
       "    </tr>\n",
       "    <tr>\n",
       "      <th>2</th>\n",
       "      <td>3</td>\n",
       "      <td>2012</td>\n",
       "      <td>5</td>\n",
       "      <td>18</td>\n",
       "      <td>30</td>\n",
       "      <td>16.0</td>\n",
       "      <td>2.0</td>\n",
       "      <td>NaN</td>\n",
       "      <td>NaN</td>\n",
       "      <td>NaN</td>\n",
       "      <td>...</td>\n",
       "      <td>46</td>\n",
       "      <td>9</td>\n",
       "      <td>2</td>\n",
       "      <td>11</td>\n",
       "      <td>38</td>\n",
       "      <td>1</td>\n",
       "      <td>8</td>\n",
       "      <td>97</td>\n",
       "      <td>11</td>\n",
       "      <td>6250000</td>\n",
       "    </tr>\n",
       "    <tr>\n",
       "      <th>3</th>\n",
       "      <td>4</td>\n",
       "      <td>2013</td>\n",
       "      <td>2</td>\n",
       "      <td>8</td>\n",
       "      <td>44</td>\n",
       "      <td>43.0</td>\n",
       "      <td>1.0</td>\n",
       "      <td>NaN</td>\n",
       "      <td>NaN</td>\n",
       "      <td>NaN</td>\n",
       "      <td>...</td>\n",
       "      <td>17</td>\n",
       "      <td>4</td>\n",
       "      <td>1</td>\n",
       "      <td>12</td>\n",
       "      <td>12</td>\n",
       "      <td>0</td>\n",
       "      <td>1</td>\n",
       "      <td>55</td>\n",
       "      <td>7</td>\n",
       "      <td>2000000</td>\n",
       "    </tr>\n",
       "    <tr>\n",
       "      <th>4</th>\n",
       "      <td>5</td>\n",
       "      <td>2014</td>\n",
       "      <td>1</td>\n",
       "      <td>10</td>\n",
       "      <td>45</td>\n",
       "      <td>28.0</td>\n",
       "      <td>3.0</td>\n",
       "      <td>5.0</td>\n",
       "      <td>2.0</td>\n",
       "      <td>1960.0</td>\n",
       "      <td>...</td>\n",
       "      <td>20</td>\n",
       "      <td>2</td>\n",
       "      <td>0</td>\n",
       "      <td>4</td>\n",
       "      <td>16</td>\n",
       "      <td>1</td>\n",
       "      <td>4</td>\n",
       "      <td>47</td>\n",
       "      <td>5</td>\n",
       "      <td>6700000</td>\n",
       "    </tr>\n",
       "  </tbody>\n",
       "</table>\n",
       "<p>5 rows × 294 columns</p>\n",
       "</div>"
      ],
      "text/plain": [
       "   id   f1y  f1m  f1d  f2    f3   f4    f5   f6      f7  ...  f282  f283  \\\n",
       "0   1  2014    1   29  69  38.0  7.0  10.0  1.0  2001.0  ...     1     0   \n",
       "1   2  2014    4    7  55   NaN  2.0   1.0  4.0     NaN  ...     0     0   \n",
       "2   3  2012    5   18  30  16.0  2.0   NaN  NaN     NaN  ...    46     9   \n",
       "3   4  2013    2    8  44  43.0  1.0   NaN  NaN     NaN  ...    17     4   \n",
       "4   5  2014    1   10  45  28.0  3.0   5.0  2.0  1960.0  ...    20     2   \n",
       "\n",
       "   f284  f285  f286  f287  f288  f289  f290   target  \n",
       "0     0     2     8     1     0    19     2  9500000  \n",
       "1     0     0     4     0     0     2     0  3837949  \n",
       "2     2    11    38     1     8    97    11  6250000  \n",
       "3     1    12    12     0     1    55     7  2000000  \n",
       "4     0     4    16     1     4    47     5  6700000  \n",
       "\n",
       "[5 rows x 294 columns]"
      ]
     },
     "execution_count": 35,
     "metadata": {},
     "output_type": "execute_result"
    }
   ],
   "source": [
    "imputed = nans_cols[nans_cols > 0]\n",
    "df_full = df_nans.copy()\n",
    "df_full.reset_index(drop=True, inplace=True)\n",
    "df_full.head()"
   ]
  },
  {
   "cell_type": "code",
   "execution_count": 36,
   "metadata": {},
   "outputs": [
    {
     "data": {
      "text/html": [
       "<div>\n",
       "<style scoped>\n",
       "    .dataframe tbody tr th:only-of-type {\n",
       "        vertical-align: middle;\n",
       "    }\n",
       "\n",
       "    .dataframe tbody tr th {\n",
       "        vertical-align: top;\n",
       "    }\n",
       "\n",
       "    .dataframe thead th {\n",
       "        text-align: right;\n",
       "    }\n",
       "</style>\n",
       "<table border=\"1\" class=\"dataframe\">\n",
       "  <thead>\n",
       "    <tr style=\"text-align: right;\">\n",
       "      <th></th>\n",
       "      <th>id</th>\n",
       "      <th>f1y</th>\n",
       "      <th>f1m</th>\n",
       "      <th>f1d</th>\n",
       "      <th>f2</th>\n",
       "      <th>f3</th>\n",
       "      <th>f4</th>\n",
       "      <th>f5</th>\n",
       "      <th>f6</th>\n",
       "      <th>f7</th>\n",
       "      <th>...</th>\n",
       "      <th>f282</th>\n",
       "      <th>f283</th>\n",
       "      <th>f284</th>\n",
       "      <th>f285</th>\n",
       "      <th>f286</th>\n",
       "      <th>f287</th>\n",
       "      <th>f288</th>\n",
       "      <th>f289</th>\n",
       "      <th>f290</th>\n",
       "      <th>target</th>\n",
       "    </tr>\n",
       "  </thead>\n",
       "  <tbody>\n",
       "    <tr>\n",
       "      <th>24218</th>\n",
       "      <td>24374</td>\n",
       "      <td>2013</td>\n",
       "      <td>12</td>\n",
       "      <td>18</td>\n",
       "      <td>85</td>\n",
       "      <td>NaN</td>\n",
       "      <td>16.0</td>\n",
       "      <td>17.0</td>\n",
       "      <td>1.0</td>\n",
       "      <td>1.0</td>\n",
       "      <td>...</td>\n",
       "      <td>3</td>\n",
       "      <td>1</td>\n",
       "      <td>0</td>\n",
       "      <td>3</td>\n",
       "      <td>9</td>\n",
       "      <td>0</td>\n",
       "      <td>1</td>\n",
       "      <td>10</td>\n",
       "      <td>2</td>\n",
       "      <td>9609180</td>\n",
       "    </tr>\n",
       "    <tr>\n",
       "      <th>24219</th>\n",
       "      <td>24375</td>\n",
       "      <td>2014</td>\n",
       "      <td>12</td>\n",
       "      <td>8</td>\n",
       "      <td>47</td>\n",
       "      <td>27.0</td>\n",
       "      <td>2.0</td>\n",
       "      <td>10.0</td>\n",
       "      <td>2.0</td>\n",
       "      <td>1958.0</td>\n",
       "      <td>...</td>\n",
       "      <td>217</td>\n",
       "      <td>86</td>\n",
       "      <td>11</td>\n",
       "      <td>118</td>\n",
       "      <td>176</td>\n",
       "      <td>1</td>\n",
       "      <td>64</td>\n",
       "      <td>146</td>\n",
       "      <td>13</td>\n",
       "      <td>12900000</td>\n",
       "    </tr>\n",
       "    <tr>\n",
       "      <th>24220</th>\n",
       "      <td>24376</td>\n",
       "      <td>2015</td>\n",
       "      <td>4</td>\n",
       "      <td>30</td>\n",
       "      <td>85</td>\n",
       "      <td>60.0</td>\n",
       "      <td>10.0</td>\n",
       "      <td>22.0</td>\n",
       "      <td>4.0</td>\n",
       "      <td>2015.0</td>\n",
       "      <td>...</td>\n",
       "      <td>1</td>\n",
       "      <td>1</td>\n",
       "      <td>0</td>\n",
       "      <td>2</td>\n",
       "      <td>12</td>\n",
       "      <td>0</td>\n",
       "      <td>0</td>\n",
       "      <td>9</td>\n",
       "      <td>0</td>\n",
       "      <td>10371441</td>\n",
       "    </tr>\n",
       "  </tbody>\n",
       "</table>\n",
       "<p>3 rows × 294 columns</p>\n",
       "</div>"
      ],
      "text/plain": [
       "          id   f1y  f1m  f1d  f2    f3    f4    f5   f6      f7  ...  f282  \\\n",
       "24218  24374  2013   12   18  85   NaN  16.0  17.0  1.0     1.0  ...     3   \n",
       "24219  24375  2014   12    8  47  27.0   2.0  10.0  2.0  1958.0  ...   217   \n",
       "24220  24376  2015    4   30  85  60.0  10.0  22.0  4.0  2015.0  ...     1   \n",
       "\n",
       "       f283  f284  f285  f286  f287  f288  f289  f290    target  \n",
       "24218     1     0     3     9     0     1    10     2   9609180  \n",
       "24219    86    11   118   176     1    64   146    13  12900000  \n",
       "24220     1     0     2    12     0     0     9     0  10371441  \n",
       "\n",
       "[3 rows x 294 columns]"
      ]
     },
     "execution_count": 36,
     "metadata": {},
     "output_type": "execute_result"
    }
   ],
   "source": [
    "df_full[-3:]"
   ]
  },
  {
   "cell_type": "code",
   "execution_count": 37,
   "metadata": {},
   "outputs": [
    {
     "data": {
      "text/html": [
       "<div>\n",
       "<style scoped>\n",
       "    .dataframe tbody tr th:only-of-type {\n",
       "        vertical-align: middle;\n",
       "    }\n",
       "\n",
       "    .dataframe tbody tr th {\n",
       "        vertical-align: top;\n",
       "    }\n",
       "\n",
       "    .dataframe thead th {\n",
       "        text-align: right;\n",
       "    }\n",
       "</style>\n",
       "<table border=\"1\" class=\"dataframe\">\n",
       "  <thead>\n",
       "    <tr style=\"text-align: right;\">\n",
       "      <th></th>\n",
       "      <th>id</th>\n",
       "      <th>f1y</th>\n",
       "      <th>f1m</th>\n",
       "      <th>f1d</th>\n",
       "      <th>f2</th>\n",
       "      <th>f3</th>\n",
       "      <th>f4</th>\n",
       "      <th>f5</th>\n",
       "      <th>f6</th>\n",
       "      <th>f7</th>\n",
       "      <th>...</th>\n",
       "      <th>f282</th>\n",
       "      <th>f283</th>\n",
       "      <th>f284</th>\n",
       "      <th>f285</th>\n",
       "      <th>f286</th>\n",
       "      <th>f287</th>\n",
       "      <th>f288</th>\n",
       "      <th>f289</th>\n",
       "      <th>f290</th>\n",
       "      <th>target</th>\n",
       "    </tr>\n",
       "  </thead>\n",
       "  <tbody>\n",
       "    <tr>\n",
       "      <th>0</th>\n",
       "      <td>1</td>\n",
       "      <td>2014</td>\n",
       "      <td>1</td>\n",
       "      <td>29</td>\n",
       "      <td>69</td>\n",
       "      <td>38.00000</td>\n",
       "      <td>7.0</td>\n",
       "      <td>10.00000</td>\n",
       "      <td>1.000000</td>\n",
       "      <td>2001.000000</td>\n",
       "      <td>...</td>\n",
       "      <td>1</td>\n",
       "      <td>0</td>\n",
       "      <td>0</td>\n",
       "      <td>2</td>\n",
       "      <td>8</td>\n",
       "      <td>1</td>\n",
       "      <td>0</td>\n",
       "      <td>19</td>\n",
       "      <td>2</td>\n",
       "      <td>9500000</td>\n",
       "    </tr>\n",
       "    <tr>\n",
       "      <th>1</th>\n",
       "      <td>2</td>\n",
       "      <td>2014</td>\n",
       "      <td>4</td>\n",
       "      <td>7</td>\n",
       "      <td>55</td>\n",
       "      <td>48.13174</td>\n",
       "      <td>2.0</td>\n",
       "      <td>1.00000</td>\n",
       "      <td>4.000000</td>\n",
       "      <td>1591.150833</td>\n",
       "      <td>...</td>\n",
       "      <td>0</td>\n",
       "      <td>0</td>\n",
       "      <td>0</td>\n",
       "      <td>0</td>\n",
       "      <td>4</td>\n",
       "      <td>0</td>\n",
       "      <td>0</td>\n",
       "      <td>2</td>\n",
       "      <td>0</td>\n",
       "      <td>3837949</td>\n",
       "    </tr>\n",
       "    <tr>\n",
       "      <th>2</th>\n",
       "      <td>3</td>\n",
       "      <td>2012</td>\n",
       "      <td>5</td>\n",
       "      <td>18</td>\n",
       "      <td>30</td>\n",
       "      <td>16.00000</td>\n",
       "      <td>2.0</td>\n",
       "      <td>7.29370</td>\n",
       "      <td>3.732457</td>\n",
       "      <td>1961.927529</td>\n",
       "      <td>...</td>\n",
       "      <td>46</td>\n",
       "      <td>9</td>\n",
       "      <td>2</td>\n",
       "      <td>11</td>\n",
       "      <td>38</td>\n",
       "      <td>1</td>\n",
       "      <td>8</td>\n",
       "      <td>97</td>\n",
       "      <td>11</td>\n",
       "      <td>6250000</td>\n",
       "    </tr>\n",
       "    <tr>\n",
       "      <th>3</th>\n",
       "      <td>4</td>\n",
       "      <td>2013</td>\n",
       "      <td>2</td>\n",
       "      <td>8</td>\n",
       "      <td>44</td>\n",
       "      <td>43.00000</td>\n",
       "      <td>1.0</td>\n",
       "      <td>8.78533</td>\n",
       "      <td>1.428214</td>\n",
       "      <td>1970.661667</td>\n",
       "      <td>...</td>\n",
       "      <td>17</td>\n",
       "      <td>4</td>\n",
       "      <td>1</td>\n",
       "      <td>12</td>\n",
       "      <td>12</td>\n",
       "      <td>0</td>\n",
       "      <td>1</td>\n",
       "      <td>55</td>\n",
       "      <td>7</td>\n",
       "      <td>2000000</td>\n",
       "    </tr>\n",
       "    <tr>\n",
       "      <th>4</th>\n",
       "      <td>5</td>\n",
       "      <td>2014</td>\n",
       "      <td>1</td>\n",
       "      <td>10</td>\n",
       "      <td>45</td>\n",
       "      <td>28.00000</td>\n",
       "      <td>3.0</td>\n",
       "      <td>5.00000</td>\n",
       "      <td>2.000000</td>\n",
       "      <td>1960.000000</td>\n",
       "      <td>...</td>\n",
       "      <td>20</td>\n",
       "      <td>2</td>\n",
       "      <td>0</td>\n",
       "      <td>4</td>\n",
       "      <td>16</td>\n",
       "      <td>1</td>\n",
       "      <td>4</td>\n",
       "      <td>47</td>\n",
       "      <td>5</td>\n",
       "      <td>6700000</td>\n",
       "    </tr>\n",
       "  </tbody>\n",
       "</table>\n",
       "<p>5 rows × 294 columns</p>\n",
       "</div>"
      ],
      "text/plain": [
       "   id   f1y  f1m  f1d  f2        f3   f4        f5        f6           f7  \\\n",
       "0   1  2014    1   29  69  38.00000  7.0  10.00000  1.000000  2001.000000   \n",
       "1   2  2014    4    7  55  48.13174  2.0   1.00000  4.000000  1591.150833   \n",
       "2   3  2012    5   18  30  16.00000  2.0   7.29370  3.732457  1961.927529   \n",
       "3   4  2013    2    8  44  43.00000  1.0   8.78533  1.428214  1970.661667   \n",
       "4   5  2014    1   10  45  28.00000  3.0   5.00000  2.000000  1960.000000   \n",
       "\n",
       "   ...  f282  f283  f284  f285  f286  f287  f288  f289  f290   target  \n",
       "0  ...     1     0     0     2     8     1     0    19     2  9500000  \n",
       "1  ...     0     0     0     0     4     0     0     2     0  3837949  \n",
       "2  ...    46     9     2    11    38     1     8    97    11  6250000  \n",
       "3  ...    17     4     1    12    12     0     1    55     7  2000000  \n",
       "4  ...    20     2     0     4    16     1     4    47     5  6700000  \n",
       "\n",
       "[5 rows x 294 columns]"
      ]
     },
     "execution_count": 37,
     "metadata": {},
     "output_type": "execute_result"
    }
   ],
   "source": [
    "df_full[imputed.index] = df_imp2[imputed.index]\n",
    "df_full.head()"
   ]
  },
  {
   "cell_type": "code",
   "execution_count": 38,
   "metadata": {},
   "outputs": [
    {
     "data": {
      "text/plain": [
       "False"
      ]
     },
     "execution_count": 38,
     "metadata": {},
     "output_type": "execute_result"
    }
   ],
   "source": [
    "True in df_full.isna().values"
   ]
  },
  {
   "cell_type": "code",
   "execution_count": null,
   "metadata": {},
   "outputs": [],
   "source": []
  },
  {
   "cell_type": "markdown",
   "metadata": {},
   "source": [
    "# Imports"
   ]
  },
  {
   "cell_type": "code",
   "execution_count": 1,
   "metadata": {},
   "outputs": [],
   "source": [
    "import pandas as pd\n",
    "import numpy as np"
   ]
  },
  {
   "cell_type": "code",
   "execution_count": 2,
   "metadata": {},
   "outputs": [],
   "source": [
    "np.random.seed(3927)"
   ]
  },
  {
   "cell_type": "markdown",
   "metadata": {},
   "source": [
    "# Preprocess"
   ]
  },
  {
   "cell_type": "code",
   "execution_count": 3,
   "metadata": {},
   "outputs": [],
   "source": [
    "def process_f1(df_train, df_test, index):\n",
    "    ymd_train = df_train['f1'].str.split('-', expand=True).astype('int64').rename(columns={0: 'year', 1: 'month', 2: 'day'})\n",
    "    ymd_test = df_test['f1'].str.split('-', expand=True).astype('int64').rename(columns={0: 'year', 1: 'month', 2: 'day'})\n",
    "    return pd.concat([df_train, ymd_train], axis=1).drop(['f1'], axis=1), \\\n",
    "           pd.concat([df_test, ymd_test], axis=1).drop(['f1'], axis=1), \\\n",
    "           index[1:]"
   ]
  },
  {
   "cell_type": "code",
   "execution_count": 4,
   "metadata": {},
   "outputs": [],
   "source": [
    "def process_f11(df_train, df_test, index):\n",
    "    f11_unique = df_train['f11'].unique()\n",
    "    f11_encode = dict(zip(f11_unique, np.eye(len(f11_unique))))\n",
    "    encode_train = pd.DataFrame([np.nan if k == np.nan else f11_encode[k] for k in df_train['f11']], columns=f11_unique)\n",
    "    encode_test = pd.DataFrame([np.nan if k == np.nan else f11_encode[k] for k in df_test['f11']], columns=f11_unique)\n",
    "    return pd.concat([df_train, encode_train], axis=1).drop(['f11'], axis=1), \\\n",
    "           pd.concat([df_test, encode_test], axis=1).drop(['f11'], axis=1), \\\n",
    "           index[1:]"
   ]
  },
  {
   "cell_type": "code",
   "execution_count": 5,
   "metadata": {},
   "outputs": [],
   "source": [
    "def process_f12(df_train, df_test, index):\n",
    "    f12_unique = df_train['f12'].unique()\n",
    "    f12_encode = dict(zip(f12_unique, np.eye(len(f12_unique))))\n",
    "    encode_train = pd.DataFrame([np.nan if k == np.nan else f12_encode[k] for k in df_train['f12']], columns=f12_unique)\n",
    "    encode_test = pd.DataFrame([np.nan if k == np.nan else f12_encode[k] for k in df_test['f12']], columns=f12_unique)\n",
    "    return pd.concat([df_train, encode_train], axis=1).drop(['f12'], axis=1), \\\n",
    "           pd.concat([df_test, encode_test], axis=1).drop(['f12'], axis=1), \\\n",
    "           index[1:]"
   ]
  },
  {
   "cell_type": "code",
   "execution_count": 6,
   "metadata": {},
   "outputs": [],
   "source": [
    "def process_bool(df_train, df_test, index):\n",
    "    bool_index = index[:-1]\n",
    "    bool_encode = {'no': 0, 'yes': 1}\n",
    "    encoding = dict.fromkeys(bool_index, bool_encode)\n",
    "    return df_train.replace(encoding), \\\n",
    "           df_test.replace(encoding), \\\n",
    "           [index[-1]]"
   ]
  },
  {
   "cell_type": "code",
   "execution_count": 7,
   "metadata": {},
   "outputs": [],
   "source": [
    "def process_f152(df_train, df_test, index):\n",
    "    f152_encode = dict(zip(['no data', 'poor', 'satisfactory', 'good', 'excellent'], range(5)))\n",
    "    encoding = {'f152': f152_encode}\n",
    "    return df_train.replace(encoding), \\\n",
    "           df_test.replace(encoding), \\\n",
    "           index"
   ]
  },
  {
   "cell_type": "code",
   "execution_count": 8,
   "metadata": {},
   "outputs": [],
   "source": [
    "def process_categorical(df_train, df_test):\n",
    "    cat = df_train.dtypes[df_train.dtypes == type(object)]\n",
    "    cat_index = list(cat.index)\n",
    "    \n",
    "    df_train_res, df_test_res, cat_index = process_f1(df_train, df_test, cat_index)\n",
    "    df_train_res, df_test_res, cat_index = process_f11(df_train_res, df_test_res, cat_index)\n",
    "    df_train_res, df_test_res, cat_index = process_f12(df_train_res, df_test_res, cat_index)\n",
    "    df_train_res, df_test_res, cat_index = process_bool(df_train_res, df_test_res, cat_index)\n",
    "    df_train_res, df_test_res, cat_index = process_f152(df_train_res, df_test_res, cat_index)\n",
    "    return df_train_res, df_test_res"
   ]
  },
  {
   "cell_type": "code",
   "execution_count": 9,
   "metadata": {},
   "outputs": [],
   "source": [
    "from sklearn.impute import SimpleImputer, KNNImputer\n",
    "\n",
    "def impute(df):\n",
    "    # Setup imputers\n",
    "    imputer_float = KNNImputer(n_neighbors=10, weights='distance')\n",
    "    imputer_int = SimpleImputer(strategy='median')\n",
    "\n",
    "    # Find columns, containing NaN, and split into int/float\n",
    "    nan_columns = df.columns[df.isna().any()].to_list()\n",
    "    nan_is_int= df[nan_columns].replace({np.nan: 0}).applymap(lambda x: x.is_integer()).all()\n",
    "    nan_groups = nan_is_int.groupby(nan_is_int).groups  # Groups of \"true\" integers and floats\n",
    "    df_floats, df_ints = df[nan_groups[False]], df[nan_groups[True]]\n",
    "\n",
    "    # Impute missing values\n",
    "    imp_float = pd.DataFrame(imputer_float.fit_transform(df_floats), columns=df_floats.columns)\n",
    "    imp_int = pd.DataFrame(imputer_int.fit_transform(df_ints), columns=df_ints.columns)\n",
    "\n",
    "    return pd.concat([df.drop(nan_columns, axis=1), imp_float, imp_int], axis=1)\n",
    "\n",
    "def impute_na(df_train, df_test):\n",
    "    return impute(df_train), impute(df_test)"
   ]
  },
  {
   "cell_type": "code",
   "execution_count": 10,
   "metadata": {},
   "outputs": [],
   "source": [
    "from sklearn.preprocessing import Normalizer\n",
    "\n",
    "def transform(df_train, df_test):\n",
    "    transformer = Normalizer()\n",
    "    return pd.DataFrame(transformer.fit_transform(df_train), columns=df_train.columns), \\\n",
    "           pd.DataFrame(transformer.fit_transform(df_test), columns=df_test.columns)"
   ]
  },
  {
   "cell_type": "code",
   "execution_count": 11,
   "metadata": {},
   "outputs": [],
   "source": [
    "def preprocess(df_train, df_test):\n",
    "    df_train_res, df_test_res = process_categorical(df_train, df_test)\n",
    "    df_train_res, df_test_res = impute_na(df_train_res, df_test_res)\n",
    "    df_train_res, df_test_res = transform(df_train_res, df_test_res)\n",
    "    return df_train_res, df_test_res"
   ]
  },
  {
   "cell_type": "code",
   "execution_count": 12,
   "metadata": {},
   "outputs": [],
   "source": [
    "def prepare_dataset(df_train, df_test):\n",
    "    return df_train.drop(['id', 'target'], axis=1), \\\n",
    "           df_train['target'], \\\n",
    "           df_test.drop('id', axis=1)"
   ]
  },
  {
   "cell_type": "code",
   "execution_count": 13,
   "metadata": {},
   "outputs": [],
   "source": [
    "def load(train_path, test_path):\n",
    "    df_train = pd.read_csv(train_path, index_col=False)\n",
    "    df_test = pd.read_csv(test_path, index_col=False)\n",
    "    X_train, y_train, X_test = prepare_dataset(df_train, df_test)\n",
    "    X_train, X_test = preprocess(X_train, X_test)\n",
    "    return X_train, y_train, X_test"
   ]
  },
  {
   "cell_type": "code",
   "execution_count": 14,
   "metadata": {},
   "outputs": [],
   "source": [
    "X_train, y_train, X_test = load(\"input/train.csv\", \"input/test.csv\")"
   ]
  },
  {
   "cell_type": "code",
   "execution_count": 15,
   "metadata": {},
   "outputs": [
    {
     "data": {
      "text/html": [
       "<div>\n",
       "<style scoped>\n",
       "    .dataframe tbody tr th:only-of-type {\n",
       "        vertical-align: middle;\n",
       "    }\n",
       "\n",
       "    .dataframe tbody tr th {\n",
       "        vertical-align: top;\n",
       "    }\n",
       "\n",
       "    .dataframe thead th {\n",
       "        text-align: right;\n",
       "    }\n",
       "</style>\n",
       "<table border=\"1\" class=\"dataframe\">\n",
       "  <thead>\n",
       "    <tr style=\"text-align: right;\">\n",
       "      <th></th>\n",
       "      <th>f2</th>\n",
       "      <th>f13</th>\n",
       "      <th>f14</th>\n",
       "      <th>f15</th>\n",
       "      <th>f16</th>\n",
       "      <th>f17</th>\n",
       "      <th>f19</th>\n",
       "      <th>f20</th>\n",
       "      <th>f22</th>\n",
       "      <th>f23</th>\n",
       "      <th>...</th>\n",
       "      <th>f75</th>\n",
       "      <th>f76</th>\n",
       "      <th>f77</th>\n",
       "      <th>f78</th>\n",
       "      <th>f79</th>\n",
       "      <th>f80</th>\n",
       "      <th>f81</th>\n",
       "      <th>f82</th>\n",
       "      <th>f83</th>\n",
       "      <th>f99</th>\n",
       "    </tr>\n",
       "  </thead>\n",
       "  <tbody>\n",
       "    <tr>\n",
       "      <th>0</th>\n",
       "      <td>0.000003</td>\n",
       "      <td>0.999836</td>\n",
       "      <td>0.006815</td>\n",
       "      <td>5.269468e-09</td>\n",
       "      <td>1.571761e-09</td>\n",
       "      <td>0.000538</td>\n",
       "      <td>4.204987e-07</td>\n",
       "      <td>0.000569</td>\n",
       "      <td>4.969530e-07</td>\n",
       "      <td>3.822715e-08</td>\n",
       "      <td>...</td>\n",
       "      <td>3.822715e-08</td>\n",
       "      <td>0.000003</td>\n",
       "      <td>1.911358e-07</td>\n",
       "      <td>0.000064</td>\n",
       "      <td>1.299723e-06</td>\n",
       "      <td>1.142992e-05</td>\n",
       "      <td>0.000017</td>\n",
       "      <td>0.000004</td>\n",
       "      <td>3.054350e-05</td>\n",
       "      <td>1.796676e-06</td>\n",
       "    </tr>\n",
       "    <tr>\n",
       "      <th>1</th>\n",
       "      <td>0.000002</td>\n",
       "      <td>0.999989</td>\n",
       "      <td>0.000071</td>\n",
       "      <td>1.535712e-08</td>\n",
       "      <td>9.694461e-10</td>\n",
       "      <td>0.000005</td>\n",
       "      <td>0.000000e+00</td>\n",
       "      <td>0.000005</td>\n",
       "      <td>0.000000e+00</td>\n",
       "      <td>0.000000e+00</td>\n",
       "      <td>...</td>\n",
       "      <td>0.000000e+00</td>\n",
       "      <td>0.000000</td>\n",
       "      <td>0.000000e+00</td>\n",
       "      <td>0.000008</td>\n",
       "      <td>0.000000e+00</td>\n",
       "      <td>5.594666e-08</td>\n",
       "      <td>0.000004</td>\n",
       "      <td>0.000002</td>\n",
       "      <td>6.713599e-07</td>\n",
       "      <td>6.713599e-07</td>\n",
       "    </tr>\n",
       "    <tr>\n",
       "      <th>2</th>\n",
       "      <td>0.000007</td>\n",
       "      <td>0.776825</td>\n",
       "      <td>0.019580</td>\n",
       "      <td>1.211579e-08</td>\n",
       "      <td>0.000000e+00</td>\n",
       "      <td>0.001095</td>\n",
       "      <td>1.167660e-06</td>\n",
       "      <td>0.001174</td>\n",
       "      <td>1.634724e-06</td>\n",
       "      <td>2.335320e-07</td>\n",
       "      <td>...</td>\n",
       "      <td>0.000000e+00</td>\n",
       "      <td>0.000000</td>\n",
       "      <td>0.000000e+00</td>\n",
       "      <td>0.000049</td>\n",
       "      <td>0.000000e+00</td>\n",
       "      <td>0.000000e+00</td>\n",
       "      <td>0.000036</td>\n",
       "      <td>0.000008</td>\n",
       "      <td>5.604768e-06</td>\n",
       "      <td>9.808343e-06</td>\n",
       "    </tr>\n",
       "    <tr>\n",
       "      <th>3</th>\n",
       "      <td>0.000005</td>\n",
       "      <td>0.960755</td>\n",
       "      <td>0.012721</td>\n",
       "      <td>2.711932e-08</td>\n",
       "      <td>2.299471e-08</td>\n",
       "      <td>0.000729</td>\n",
       "      <td>3.654134e-07</td>\n",
       "      <td>0.000748</td>\n",
       "      <td>4.872179e-07</td>\n",
       "      <td>0.000000e+00</td>\n",
       "      <td>...</td>\n",
       "      <td>0.000000e+00</td>\n",
       "      <td>0.000000</td>\n",
       "      <td>0.000000e+00</td>\n",
       "      <td>0.000040</td>\n",
       "      <td>3.654134e-07</td>\n",
       "      <td>4.872179e-07</td>\n",
       "      <td>0.000026</td>\n",
       "      <td>0.000011</td>\n",
       "      <td>2.436090e-06</td>\n",
       "      <td>4.872179e-07</td>\n",
       "    </tr>\n",
       "    <tr>\n",
       "      <th>4</th>\n",
       "      <td>0.000003</td>\n",
       "      <td>0.997675</td>\n",
       "      <td>0.006765</td>\n",
       "      <td>7.592085e-09</td>\n",
       "      <td>1.761673e-08</td>\n",
       "      <td>0.000424</td>\n",
       "      <td>1.138476e-07</td>\n",
       "      <td>0.000439</td>\n",
       "      <td>1.707714e-07</td>\n",
       "      <td>0.000000e+00</td>\n",
       "      <td>...</td>\n",
       "      <td>0.000000e+00</td>\n",
       "      <td>0.000000</td>\n",
       "      <td>0.000000e+00</td>\n",
       "      <td>0.000017</td>\n",
       "      <td>0.000000e+00</td>\n",
       "      <td>1.138476e-07</td>\n",
       "      <td>0.000008</td>\n",
       "      <td>0.000006</td>\n",
       "      <td>3.244656e-06</td>\n",
       "      <td>1.878485e-06</td>\n",
       "    </tr>\n",
       "  </tbody>\n",
       "</table>\n",
       "<p>5 rows × 438 columns</p>\n",
       "</div>"
      ],
      "text/plain": [
       "         f2       f13       f14           f15           f16       f17  \\\n",
       "0  0.000003  0.999836  0.006815  5.269468e-09  1.571761e-09  0.000538   \n",
       "1  0.000002  0.999989  0.000071  1.535712e-08  9.694461e-10  0.000005   \n",
       "2  0.000007  0.776825  0.019580  1.211579e-08  0.000000e+00  0.001095   \n",
       "3  0.000005  0.960755  0.012721  2.711932e-08  2.299471e-08  0.000729   \n",
       "4  0.000003  0.997675  0.006765  7.592085e-09  1.761673e-08  0.000424   \n",
       "\n",
       "            f19       f20           f22           f23  ...           f75  \\\n",
       "0  4.204987e-07  0.000569  4.969530e-07  3.822715e-08  ...  3.822715e-08   \n",
       "1  0.000000e+00  0.000005  0.000000e+00  0.000000e+00  ...  0.000000e+00   \n",
       "2  1.167660e-06  0.001174  1.634724e-06  2.335320e-07  ...  0.000000e+00   \n",
       "3  3.654134e-07  0.000748  4.872179e-07  0.000000e+00  ...  0.000000e+00   \n",
       "4  1.138476e-07  0.000439  1.707714e-07  0.000000e+00  ...  0.000000e+00   \n",
       "\n",
       "        f76           f77       f78           f79           f80       f81  \\\n",
       "0  0.000003  1.911358e-07  0.000064  1.299723e-06  1.142992e-05  0.000017   \n",
       "1  0.000000  0.000000e+00  0.000008  0.000000e+00  5.594666e-08  0.000004   \n",
       "2  0.000000  0.000000e+00  0.000049  0.000000e+00  0.000000e+00  0.000036   \n",
       "3  0.000000  0.000000e+00  0.000040  3.654134e-07  4.872179e-07  0.000026   \n",
       "4  0.000000  0.000000e+00  0.000017  0.000000e+00  1.138476e-07  0.000008   \n",
       "\n",
       "        f82           f83           f99  \n",
       "0  0.000004  3.054350e-05  1.796676e-06  \n",
       "1  0.000002  6.713599e-07  6.713599e-07  \n",
       "2  0.000008  5.604768e-06  9.808343e-06  \n",
       "3  0.000011  2.436090e-06  4.872179e-07  \n",
       "4  0.000006  3.244656e-06  1.878485e-06  \n",
       "\n",
       "[5 rows x 438 columns]"
      ]
     },
     "execution_count": 15,
     "metadata": {},
     "output_type": "execute_result"
    }
   ],
   "source": [
    "X_train.head()"
   ]
  },
  {
   "cell_type": "code",
   "execution_count": 16,
   "metadata": {},
   "outputs": [
    {
     "data": {
      "text/plain": [
       "False"
      ]
     },
     "execution_count": 16,
     "metadata": {},
     "output_type": "execute_result"
    }
   ],
   "source": [
    "True in X_train.isna().values"
   ]
  },
  {
   "cell_type": "code",
   "execution_count": 17,
   "metadata": {},
   "outputs": [
    {
     "data": {
      "text/plain": [
       "0    9500000\n",
       "1    3837949\n",
       "2    6250000\n",
       "3    2000000\n",
       "4    6700000\n",
       "Name: target, dtype: int64"
      ]
     },
     "execution_count": 17,
     "metadata": {},
     "output_type": "execute_result"
    }
   ],
   "source": [
    "y_train.head()"
   ]
  },
  {
   "cell_type": "code",
   "execution_count": 18,
   "metadata": {},
   "outputs": [
    {
     "data": {
      "text/html": [
       "<div>\n",
       "<style scoped>\n",
       "    .dataframe tbody tr th:only-of-type {\n",
       "        vertical-align: middle;\n",
       "    }\n",
       "\n",
       "    .dataframe tbody tr th {\n",
       "        vertical-align: top;\n",
       "    }\n",
       "\n",
       "    .dataframe thead th {\n",
       "        text-align: right;\n",
       "    }\n",
       "</style>\n",
       "<table border=\"1\" class=\"dataframe\">\n",
       "  <thead>\n",
       "    <tr style=\"text-align: right;\">\n",
       "      <th></th>\n",
       "      <th>f2</th>\n",
       "      <th>f13</th>\n",
       "      <th>f14</th>\n",
       "      <th>f15</th>\n",
       "      <th>f16</th>\n",
       "      <th>f17</th>\n",
       "      <th>f19</th>\n",
       "      <th>f20</th>\n",
       "      <th>f22</th>\n",
       "      <th>f23</th>\n",
       "      <th>...</th>\n",
       "      <th>f75</th>\n",
       "      <th>f76</th>\n",
       "      <th>f77</th>\n",
       "      <th>f78</th>\n",
       "      <th>f79</th>\n",
       "      <th>f80</th>\n",
       "      <th>f81</th>\n",
       "      <th>f82</th>\n",
       "      <th>f83</th>\n",
       "      <th>f99</th>\n",
       "    </tr>\n",
       "  </thead>\n",
       "  <tbody>\n",
       "    <tr>\n",
       "      <th>0</th>\n",
       "      <td>0.000002</td>\n",
       "      <td>0.999957</td>\n",
       "      <td>0.000157</td>\n",
       "      <td>1.943485e-08</td>\n",
       "      <td>2.788976e-10</td>\n",
       "      <td>0.000011</td>\n",
       "      <td>0.000000e+00</td>\n",
       "      <td>0.000010</td>\n",
       "      <td>0.000000e+00</td>\n",
       "      <td>0.000000e+00</td>\n",
       "      <td>...</td>\n",
       "      <td>0.0</td>\n",
       "      <td>0.000000e+00</td>\n",
       "      <td>0.000000e+00</td>\n",
       "      <td>0.000011</td>\n",
       "      <td>0.000000</td>\n",
       "      <td>7.831653e-08</td>\n",
       "      <td>0.000005</td>\n",
       "      <td>0.000003</td>\n",
       "      <td>9.397984e-07</td>\n",
       "      <td>9.397984e-07</td>\n",
       "    </tr>\n",
       "    <tr>\n",
       "      <th>1</th>\n",
       "      <td>0.000003</td>\n",
       "      <td>0.999973</td>\n",
       "      <td>0.000157</td>\n",
       "      <td>1.943516e-08</td>\n",
       "      <td>2.789021e-10</td>\n",
       "      <td>0.000011</td>\n",
       "      <td>0.000000e+00</td>\n",
       "      <td>0.000010</td>\n",
       "      <td>0.000000e+00</td>\n",
       "      <td>0.000000e+00</td>\n",
       "      <td>...</td>\n",
       "      <td>0.0</td>\n",
       "      <td>0.000000e+00</td>\n",
       "      <td>0.000000e+00</td>\n",
       "      <td>0.000011</td>\n",
       "      <td>0.000000</td>\n",
       "      <td>7.831780e-08</td>\n",
       "      <td>0.000005</td>\n",
       "      <td>0.000003</td>\n",
       "      <td>9.398136e-07</td>\n",
       "      <td>9.398136e-07</td>\n",
       "    </tr>\n",
       "    <tr>\n",
       "      <th>2</th>\n",
       "      <td>0.000003</td>\n",
       "      <td>0.511800</td>\n",
       "      <td>0.005279</td>\n",
       "      <td>4.583622e-09</td>\n",
       "      <td>5.473705e-12</td>\n",
       "      <td>0.000297</td>\n",
       "      <td>2.801540e-07</td>\n",
       "      <td>0.000448</td>\n",
       "      <td>2.801540e-07</td>\n",
       "      <td>7.003851e-08</td>\n",
       "      <td>...</td>\n",
       "      <td>0.0</td>\n",
       "      <td>3.501925e-07</td>\n",
       "      <td>7.003851e-08</td>\n",
       "      <td>0.000046</td>\n",
       "      <td>0.000018</td>\n",
       "      <td>7.354043e-06</td>\n",
       "      <td>0.000011</td>\n",
       "      <td>0.000005</td>\n",
       "      <td>3.992195e-06</td>\n",
       "      <td>3.501925e-07</td>\n",
       "    </tr>\n",
       "    <tr>\n",
       "      <th>3</th>\n",
       "      <td>0.000002</td>\n",
       "      <td>0.995239</td>\n",
       "      <td>0.009234</td>\n",
       "      <td>2.009066e-08</td>\n",
       "      <td>2.443350e-09</td>\n",
       "      <td>0.000550</td>\n",
       "      <td>4.753063e-07</td>\n",
       "      <td>0.000565</td>\n",
       "      <td>5.347196e-07</td>\n",
       "      <td>0.000000e+00</td>\n",
       "      <td>...</td>\n",
       "      <td>0.0</td>\n",
       "      <td>6.535462e-07</td>\n",
       "      <td>0.000000e+00</td>\n",
       "      <td>0.000027</td>\n",
       "      <td>0.000003</td>\n",
       "      <td>2.495358e-06</td>\n",
       "      <td>0.000006</td>\n",
       "      <td>0.000010</td>\n",
       "      <td>5.347196e-06</td>\n",
       "      <td>1.544746e-06</td>\n",
       "    </tr>\n",
       "    <tr>\n",
       "      <th>4</th>\n",
       "      <td>0.000025</td>\n",
       "      <td>0.926716</td>\n",
       "      <td>0.012046</td>\n",
       "      <td>5.140045e-08</td>\n",
       "      <td>0.000000e+00</td>\n",
       "      <td>0.000632</td>\n",
       "      <td>9.867259e-07</td>\n",
       "      <td>0.000666</td>\n",
       "      <td>9.867259e-07</td>\n",
       "      <td>0.000000e+00</td>\n",
       "      <td>...</td>\n",
       "      <td>0.0</td>\n",
       "      <td>0.000000e+00</td>\n",
       "      <td>0.000000e+00</td>\n",
       "      <td>0.000043</td>\n",
       "      <td>0.000000</td>\n",
       "      <td>0.000000e+00</td>\n",
       "      <td>0.000028</td>\n",
       "      <td>0.000004</td>\n",
       "      <td>1.065664e-05</td>\n",
       "      <td>6.512391e-06</td>\n",
       "    </tr>\n",
       "  </tbody>\n",
       "</table>\n",
       "<p>5 rows × 438 columns</p>\n",
       "</div>"
      ],
      "text/plain": [
       "         f2       f13       f14           f15           f16       f17  \\\n",
       "0  0.000002  0.999957  0.000157  1.943485e-08  2.788976e-10  0.000011   \n",
       "1  0.000003  0.999973  0.000157  1.943516e-08  2.789021e-10  0.000011   \n",
       "2  0.000003  0.511800  0.005279  4.583622e-09  5.473705e-12  0.000297   \n",
       "3  0.000002  0.995239  0.009234  2.009066e-08  2.443350e-09  0.000550   \n",
       "4  0.000025  0.926716  0.012046  5.140045e-08  0.000000e+00  0.000632   \n",
       "\n",
       "            f19       f20           f22           f23  ...  f75           f76  \\\n",
       "0  0.000000e+00  0.000010  0.000000e+00  0.000000e+00  ...  0.0  0.000000e+00   \n",
       "1  0.000000e+00  0.000010  0.000000e+00  0.000000e+00  ...  0.0  0.000000e+00   \n",
       "2  2.801540e-07  0.000448  2.801540e-07  7.003851e-08  ...  0.0  3.501925e-07   \n",
       "3  4.753063e-07  0.000565  5.347196e-07  0.000000e+00  ...  0.0  6.535462e-07   \n",
       "4  9.867259e-07  0.000666  9.867259e-07  0.000000e+00  ...  0.0  0.000000e+00   \n",
       "\n",
       "            f77       f78       f79           f80       f81       f82  \\\n",
       "0  0.000000e+00  0.000011  0.000000  7.831653e-08  0.000005  0.000003   \n",
       "1  0.000000e+00  0.000011  0.000000  7.831780e-08  0.000005  0.000003   \n",
       "2  7.003851e-08  0.000046  0.000018  7.354043e-06  0.000011  0.000005   \n",
       "3  0.000000e+00  0.000027  0.000003  2.495358e-06  0.000006  0.000010   \n",
       "4  0.000000e+00  0.000043  0.000000  0.000000e+00  0.000028  0.000004   \n",
       "\n",
       "            f83           f99  \n",
       "0  9.397984e-07  9.397984e-07  \n",
       "1  9.398136e-07  9.398136e-07  \n",
       "2  3.992195e-06  3.501925e-07  \n",
       "3  5.347196e-06  1.544746e-06  \n",
       "4  1.065664e-05  6.512391e-06  \n",
       "\n",
       "[5 rows x 438 columns]"
      ]
     },
     "execution_count": 18,
     "metadata": {},
     "output_type": "execute_result"
    }
   ],
   "source": [
    "X_test.head()"
   ]
  },
  {
   "cell_type": "code",
   "execution_count": 19,
   "metadata": {},
   "outputs": [
    {
     "data": {
      "text/plain": [
       "False"
      ]
     },
     "execution_count": 19,
     "metadata": {},
     "output_type": "execute_result"
    }
   ],
   "source": [
    "True in X_test.isna().values"
   ]
  },
  {
   "cell_type": "code",
   "execution_count": 20,
   "metadata": {},
   "outputs": [
    {
     "data": {
      "text/plain": [
       "((24376, 438), (24376,), (6095, 438))"
      ]
     },
     "execution_count": 20,
     "metadata": {},
     "output_type": "execute_result"
    }
   ],
   "source": [
    "X_train.shape, y_train.shape, X_test.shape"
   ]
  },
  {
   "cell_type": "markdown",
   "metadata": {},
   "source": [
    "# Train pipeline"
   ]
  },
  {
   "cell_type": "code",
   "execution_count": 21,
   "metadata": {},
   "outputs": [],
   "source": [
    "from sklearn.metrics import make_scorer\n",
    "\n",
    "def rmsle(y, y_pred, **kwargs):\n",
    "    # Allow negative predictions by incorporating prediction sign\n",
    "    terms = [np.sign(pred) * np.log(1 + np.sign(pred) * pred) - np.log(1 + targ) for pred, targ in zip(y_pred, y)]\n",
    "    return np.sqrt(np.sum(np.power(terms, 2.0)) / len(y))\n",
    "\n",
    "rmsle_scorer = make_scorer(rmsle, greater_is_better=False)"
   ]
  },
  {
   "cell_type": "code",
   "execution_count": 22,
   "metadata": {},
   "outputs": [],
   "source": [
    "from sklearn.model_selection import cross_val_score, RandomizedSearchCV\n",
    "\n",
    "def train(model, X, y, score=True, cv=5, tune=False, params=None, n_iter=10):\n",
    "    if tune:\n",
    "        if score:\n",
    "            print(f\"Pre-tune CV scores: {cross_val_score(model, X, y, cv=cv, scoring=rmsle_scorer)}\")\n",
    "        \n",
    "        rscv = RandomizedSearchCV(model, params, n_iter=n_iter, scoring=rmsle_scorer, refit=True, cv=cv, random_state=3927)\n",
    "        rscv.fit(X, y)\n",
    "        print(f\"Best params: {rscv.best_params_}\")\n",
    "        model_tr = rscv.best_estimator_\n",
    "\n",
    "        if score:\n",
    "            print(f\"Post-tune CV scores: {cross_val_score(model_tr, X, y, cv=cv, scoring=rmsle_scorer)}\")\n",
    "    else:\n",
    "        model_tr = model.fit(X, y)\n",
    "    \n",
    "        if score:\n",
    "            print(f\"CV scores: {cross_val_score(model_tr, X, y, cv=cv, scoring=rmsle_scorer)}\")\n",
    "\n",
    "    return model_tr"
   ]
  },
  {
   "cell_type": "markdown",
   "metadata": {},
   "source": [
    "# Test pipeline"
   ]
  },
  {
   "cell_type": "code",
   "execution_count": 23,
   "metadata": {},
   "outputs": [],
   "source": [
    "def test(model, X):\n",
    "    pred = model.predict(X)\n",
    "    data = list(zip(range(1, len(pred) + 1), pred))\n",
    "    return pd.DataFrame(data, columns=['id', 'prediction'])"
   ]
  },
  {
   "cell_type": "markdown",
   "metadata": {},
   "source": [
    "# Setup model"
   ]
  },
  {
   "cell_type": "markdown",
   "metadata": {},
   "source": [
    "## Ridge"
   ]
  },
  {
   "cell_type": "code",
   "execution_count": 72,
   "metadata": {},
   "outputs": [],
   "source": [
    "from sklearn.linear_model import Ridge\n",
    "from scipy.stats import loguniform, uniform"
   ]
  },
  {
   "cell_type": "code",
   "execution_count": 73,
   "metadata": {},
   "outputs": [
    {
     "name": "stdout",
     "output_type": "stream",
     "text": [
      "Pre-tune CV scores: [-0.60000799 -0.60348582 -0.60745596 -0.60441781 -0.62379452]\n",
      "Best params: {'alpha': 1.738157608461319}\n",
      "Post-tune CV scores: [-0.60021189 -0.6031775  -0.60753366 -0.60417195 -0.62365405]\n"
     ]
    },
    {
     "data": {
      "text/plain": [
       "Ridge(alpha=1.738157608461319, random_state=3927)"
      ]
     },
     "execution_count": 73,
     "metadata": {},
     "output_type": "execute_result"
    }
   ],
   "source": [
    "model = Ridge(random_state=3927)\n",
    "params = {'alpha': loguniform(1, 10000)}\n",
    "\n",
    "model = train(model, X_train, y_train, tune=True, params=params, n_iter=100)\n",
    "model"
   ]
  },
  {
   "cell_type": "code",
   "execution_count": 74,
   "metadata": {},
   "outputs": [
    {
     "name": "stdout",
     "output_type": "stream",
     "text": [
      "Pre-tune CV scores: [-0.60000799 -0.60348582 -0.60745596 -0.60441781 -0.62379452]\n",
      "Best params: {'alpha': 0.9653009578533324}\n",
      "Post-tune CV scores: [-0.59999686 -0.60353432 -0.60745569 -0.60444701 -0.62382557]\n"
     ]
    },
    {
     "data": {
      "text/plain": [
       "Ridge(alpha=0.9653009578533324, random_state=3927)"
      ]
     },
     "execution_count": 74,
     "metadata": {},
     "output_type": "execute_result"
    }
   ],
   "source": [
    "model = Ridge(random_state=3927)\n",
    "params = {'alpha': loguniform(0.001, 1)}\n",
    "\n",
    "model = train(model, X_train, y_train, tune=True, params=params, n_iter=100)\n",
    "model"
   ]
  },
  {
   "cell_type": "markdown",
   "metadata": {},
   "source": [
    "## ElasticNet"
   ]
  },
  {
   "cell_type": "code",
   "execution_count": 75,
   "metadata": {},
   "outputs": [],
   "source": [
    "from sklearn.linear_model import ElasticNet\n",
    "from scipy.stats import loguniform, uniform"
   ]
  },
  {
   "cell_type": "code",
   "execution_count": 76,
   "metadata": {},
   "outputs": [
    {
     "name": "stdout",
     "output_type": "stream",
     "text": [
      "Pre-tune CV scores: [-0.61793116 -0.61371143 -0.62756285 -0.62152099 -0.63506551]\n",
      "Best params: {'alpha': 0.034339915870309524, 'l1_ratio': 0.7688000396844558}\n",
      "Post-tune CV scores: [-0.60329539 -0.60547727 -0.61235485 -0.60602077 -0.62584919]\n"
     ]
    },
    {
     "data": {
      "text/plain": [
       "ElasticNet(alpha=0.034339915870309524, l1_ratio=0.7688000396844558,\n",
       "           max_iter=500, random_state=3927, selection='random')"
      ]
     },
     "execution_count": 76,
     "metadata": {},
     "output_type": "execute_result"
    }
   ],
   "source": [
    "model = ElasticNet(max_iter=500, selection='random', random_state=3927)\n",
    "params = {'alpha': loguniform(0.01, 100), 'l1_ratio': uniform(0.1, 0.8)}\n",
    "\n",
    "model = train(model, X_train, y_train, tune=True, params=params, n_iter=10)\n",
    "model"
   ]
  },
  {
   "cell_type": "markdown",
   "metadata": {},
   "source": [
    "## DecisionTree"
   ]
  },
  {
   "cell_type": "code",
   "execution_count": 77,
   "metadata": {},
   "outputs": [],
   "source": [
    "from sklearn.tree import DecisionTreeRegressor"
   ]
  },
  {
   "cell_type": "code",
   "execution_count": 78,
   "metadata": {},
   "outputs": [
    {
     "name": "stdout",
     "output_type": "stream",
     "text": [
      "Pre-tune CV scores: [-0.66235402 -0.66574107 -0.65846784 -0.66679303 -0.66972977]\n",
      "Best params: {'min_weight_fraction_leaf': 0.1, 'min_samples_leaf': 3, 'max_leaf_nodes': 70, 'max_depth': None}\n",
      "Post-tune CV scores: [-0.59148096 -0.59375481 -0.60045088 -0.59816698 -0.61848356]\n"
     ]
    },
    {
     "data": {
      "text/plain": [
       "DecisionTreeRegressor(max_leaf_nodes=70, min_samples_leaf=3,\n",
       "                      min_weight_fraction_leaf=0.1, random_state=3927)"
      ]
     },
     "execution_count": 78,
     "metadata": {},
     "output_type": "execute_result"
    }
   ],
   "source": [
    "model = DecisionTreeRegressor(random_state=3927)\n",
    "params = {\"max_depth\" : [None, 1, 3, 5, 7, 9],\n",
    "          \"min_samples_leaf\": [1, 3, 5, 7, 9],\n",
    "          \"min_weight_fraction_leaf\": [0.1, 0.2, 0.3, 0.4, 0.5],\n",
    "          \"max_leaf_nodes\": [None, 10, 30, 50, 70, 90]}\n",
    "\n",
    "model = train(model, X_train, y_train, tune=True, params=params, n_iter=20)\n",
    "model"
   ]
  },
  {
   "cell_type": "markdown",
   "metadata": {},
   "source": [
    "## SGD"
   ]
  },
  {
   "cell_type": "code",
   "execution_count": 80,
   "metadata": {},
   "outputs": [],
   "source": [
    "from sklearn.linear_model import SGDRegressor\n",
    "from scipy.stats import loguniform, uniform"
   ]
  },
  {
   "cell_type": "code",
   "execution_count": 81,
   "metadata": {},
   "outputs": [
    {
     "name": "stdout",
     "output_type": "stream",
     "text": [
      "Pre-tune CV scores: [-0.60184232 -0.60206038 -0.60952616 -0.60570489 -0.62559363]\n",
      "Best params: {'alpha': 75.64173072984201}\n",
      "Post-tune CV scores: [-0.62324302 -0.61909415 -0.62862468 -0.6263908  -0.63351724]\n"
     ]
    },
    {
     "data": {
      "text/plain": [
       "SGDRegressor(alpha=75.64173072984201, max_iter=5000, random_state=3927)"
      ]
     },
     "execution_count": 81,
     "metadata": {},
     "output_type": "execute_result"
    }
   ],
   "source": [
    "model = SGDRegressor(max_iter=5000, penalty='l2', random_state=3927)\n",
    "params = {'alpha': uniform(0.001, 1000)}\n",
    "\n",
    "model = train(model, X_train, y_train, tune=True, params=params, n_iter=10)\n",
    "model"
   ]
  },
  {
   "cell_type": "code",
   "execution_count": 82,
   "metadata": {},
   "outputs": [
    {
     "name": "stdout",
     "output_type": "stream",
     "text": [
      "Pre-tune CV scores: [-0.6018405  -0.60205898 -0.60952005 -0.60570345 -0.62559216]\n",
      "Best params: {'alpha': 0.005012444501918985, 'l1_ratio': 0.2919813353920865}\n",
      "Post-tune CV scores: [-0.60308389 -0.60236847 -0.60717254 -0.60343441 -0.62382585]\n"
     ]
    },
    {
     "data": {
      "text/plain": [
       "SGDRegressor(alpha=0.005012444501918985, l1_ratio=0.2919813353920865,\n",
       "             max_iter=5000, penalty='elasticnet', random_state=3927)"
      ]
     },
     "execution_count": 82,
     "metadata": {},
     "output_type": "execute_result"
    }
   ],
   "source": [
    "model = SGDRegressor(max_iter=5000, penalty='elasticnet', random_state=3927)\n",
    "params = {'alpha': loguniform(0.001, 1000), 'l1_ratio': uniform(0.1, 0.8)}\n",
    "\n",
    "model = train(model, X_train, y_train, tune=True, params=params, n_iter=10)\n",
    "model"
   ]
  },
  {
   "cell_type": "code",
   "execution_count": 83,
   "metadata": {},
   "outputs": [
    {
     "name": "stdout",
     "output_type": "stream",
     "text": [
      "Pre-tune CV scores: [-0.6018405  -0.60205898 -0.60952005 -0.60570345 -0.62559216]\n",
      "Best params: {'alpha': 0.1340498067109922, 'l1_ratio': 0.7688000396844558}\n",
      "Post-tune CV scores: [-0.60382075 -0.60341686 -0.61697702 -0.60296978 -0.62210577]\n"
     ]
    },
    {
     "data": {
      "text/plain": [
       "SGDRegressor(alpha=0.1340498067109922, l1_ratio=0.7688000396844558,\n",
       "             max_iter=5000, penalty='elasticnet', random_state=3927)"
      ]
     },
     "execution_count": 83,
     "metadata": {},
     "output_type": "execute_result"
    }
   ],
   "source": [
    "model = SGDRegressor(max_iter=5000, penalty='elasticnet', random_state=3927)\n",
    "params = {'alpha': uniform(0.0001, 1), 'l1_ratio': uniform(0.1, 0.8)}\n",
    "\n",
    "model = train(model, X_train, y_train, tune=True, params=params, n_iter=10)\n",
    "model"
   ]
  },
  {
   "cell_type": "code",
   "execution_count": 38,
   "metadata": {},
   "outputs": [
    {
     "name": "stdout",
     "output_type": "stream",
     "text": [
      "Pre-train CV scores: [-0.52058201 -0.80294035 -0.52343453 -0.67453236 -0.66563684]\n",
      "Best params: {'alpha': 0.01169749033554961, 'l1_ratio': 0.7688000396844558}\n",
      "Post-train CV scores: [-0.51815211 -0.53837724 -0.53557793 -0.54162234 -0.56373763]\n"
     ]
    },
    {
     "data": {
      "text/plain": [
       "SGDRegressor(alpha=0.01169749033554961, l1_ratio=0.7688000396844558,\n",
       "             max_iter=5000, penalty='elasticnet', random_state=3927)"
      ]
     },
     "execution_count": 38,
     "metadata": {},
     "output_type": "execute_result"
    }
   ],
   "source": [
    "model = SGDRegressor(max_iter=5000, penalty='elasticnet', random_state=3927)\n",
    "params = {'alpha': uniform(0.005, 0.05), 'l1_ratio': uniform(0.1, 0.8)}\n",
    "\n",
    "model = train(model, X_train, y_train, tune=True, params=params, n_iter=10)\n",
    "model"
   ]
  },
  {
   "cell_type": "markdown",
   "metadata": {},
   "source": [
    "## Stacking"
   ]
  },
  {
   "cell_type": "code",
   "execution_count": 84,
   "metadata": {},
   "outputs": [],
   "source": [
    "from sklearn.linear_model import Ridge\n",
    "from sklearn.linear_model import ElasticNet\n",
    "from sklearn.tree import DecisionTreeRegressor\n",
    "from sklearn.linear_model import SGDRegressor\n",
    "from sklearn.ensemble import StackingRegressor"
   ]
  },
  {
   "cell_type": "code",
   "execution_count": 86,
   "metadata": {},
   "outputs": [
    {
     "name": "stdout",
     "output_type": "stream",
     "text": [
      "CV scores: [-27.28249445 -28.71580287 -15.66973739 -22.25587526 -29.54273279]\n"
     ]
    },
    {
     "data": {
      "text/plain": [
       "StackingRegressor(estimators=[('RIDGE', Ridge(alpha=1, random_state=3927)),\n",
       "                              ('ELNET',\n",
       "                               ElasticNet(alpha=0.01, l1_ratio=0.6,\n",
       "                                          max_iter=500, random_state=3927,\n",
       "                                          selection='random')),\n",
       "                              ('DTREE',\n",
       "                               DecisionTreeRegressor(max_leaf_nodes=70,\n",
       "                                                     min_samples_leaf=3,\n",
       "                                                     min_weight_fraction_leaf=0.1,\n",
       "                                                     random_state=3927)),\n",
       "                              ('SGDR',\n",
       "                               SGDRegressor(alpha=0.01, l1_ratio=0.6,\n",
       "                                            max_iter=5000, penalty='elasticnet',\n",
       "                                            random_state=3927))],\n",
       "                  n_jobs=-1)"
      ]
     },
     "execution_count": 86,
     "metadata": {},
     "output_type": "execute_result"
    }
   ],
   "source": [
    "estimators = [\n",
    "    ('RIDGE', Ridge(alpha=1, random_state=3927)),\n",
    "    ('ELNET', ElasticNet(max_iter=500, alpha=0.01, l1_ratio=0.6, selection='random', random_state=3927)),\n",
    "    ('DTREE', DecisionTreeRegressor(max_leaf_nodes=70, min_samples_leaf=3,\n",
    "                                    min_weight_fraction_leaf=0.1, random_state=3927)),\n",
    "    ('SGDR', SGDRegressor(max_iter=5000, penalty='elasticnet', alpha=0.01, l1_ratio=0.6, random_state=3927))\n",
    "]\n",
    "model = StackingRegressor(estimators, n_jobs=-1)\n",
    "\n",
    "model = train(model, X_train, y_train)\n",
    "model"
   ]
  },
  {
   "cell_type": "code",
   "execution_count": 87,
   "metadata": {},
   "outputs": [
    {
     "name": "stdout",
     "output_type": "stream",
     "text": [
      "CV scores: [-0.59551544 -0.5980722  -0.60405917 -0.60086041 -0.61951078]\n"
     ]
    },
    {
     "data": {
      "text/plain": [
       "StackingRegressor(estimators=[('RIDGE', Ridge(alpha=1, random_state=3927)),\n",
       "                              ('ELNET',\n",
       "                               ElasticNet(alpha=0.01, l1_ratio=0.6,\n",
       "                                          max_iter=500, random_state=3927,\n",
       "                                          selection='random')),\n",
       "                              ('SGDR',\n",
       "                               SGDRegressor(alpha=0.01, l1_ratio=0.6,\n",
       "                                            max_iter=5000, penalty='elasticnet',\n",
       "                                            random_state=3927))],\n",
       "                  final_estimator=DecisionTreeRegressor(max_leaf_nodes=70,\n",
       "                                                        min_samples_leaf=3,\n",
       "                                                        min_weight_fraction_leaf=0.1,\n",
       "                                                        random_state=3927),\n",
       "                  n_jobs=-1)"
      ]
     },
     "execution_count": 87,
     "metadata": {},
     "output_type": "execute_result"
    }
   ],
   "source": [
    "estimators = [\n",
    "    ('RIDGE', Ridge(alpha=1, random_state=3927)),\n",
    "    ('ELNET', ElasticNet(max_iter=500, alpha=0.01, l1_ratio=0.6, selection='random', random_state=3927)),\n",
    "    ('SGDR', SGDRegressor(max_iter=5000, penalty='elasticnet', alpha=0.01, l1_ratio=0.6, random_state=3927))\n",
    "]\n",
    "final = DecisionTreeRegressor(max_leaf_nodes=70, min_samples_leaf=3,\n",
    "                                    min_weight_fraction_leaf=0.1, random_state=3927)\n",
    "model = StackingRegressor(estimators, final_estimator=final, n_jobs=-1)\n",
    "\n",
    "model = train(model, X_train, y_train)\n",
    "model"
   ]
  },
  {
   "cell_type": "markdown",
   "metadata": {},
   "source": [
    "## Bagging"
   ]
  },
  {
   "cell_type": "code",
   "execution_count": 24,
   "metadata": {},
   "outputs": [],
   "source": [
    "from sklearn.ensemble import BaggingRegressor\n",
    "from scipy.stats import randint"
   ]
  },
  {
   "cell_type": "code",
   "execution_count": 102,
   "metadata": {},
   "outputs": [
    {
     "name": "stdout",
     "output_type": "stream",
     "text": [
      "Pre-tune CV scores: [-0.47788705 -0.48441964 -0.49308377 -0.50106005 -0.50426299]\n",
      "Best params: {'max_features': 8, 'max_samples': 96}\n",
      "Post-tune CV scores: [-0.60069901 -0.59479298 -0.60073053 -0.59615137 -0.62399794]\n"
     ]
    },
    {
     "data": {
      "text/plain": [
       "BaggingRegressor(max_features=8, max_samples=96, n_jobs=-1, random_state=3927)"
      ]
     },
     "execution_count": 102,
     "metadata": {},
     "output_type": "execute_result"
    }
   ],
   "source": [
    "model = BaggingRegressor(n_estimators=10, n_jobs=-1, random_state=3927)\n",
    "params = {'max_samples': randint(1, 100), 'max_features': randint(1, 20)}\n",
    "\n",
    "model = train(model, X_train, y_train, tune=True, params=params, n_iter=30)\n",
    "model"
   ]
  },
  {
   "cell_type": "code",
   "execution_count": 110,
   "metadata": {},
   "outputs": [
    {
     "name": "stdout",
     "output_type": "stream",
     "text": [
      "CV scores: [-0.46414895 -0.4710153  -0.48348008 -0.48675993 -0.49328828]\n"
     ]
    },
    {
     "data": {
      "text/plain": [
       "BaggingRegressor(n_estimators=100, n_jobs=-1, random_state=3927)"
      ]
     },
     "execution_count": 110,
     "metadata": {},
     "output_type": "execute_result"
    }
   ],
   "source": [
    "model = BaggingRegressor(n_estimators=100, n_jobs=-1, random_state=3927)\n",
    "\n",
    "model = train(model, X_train, y_train)\n",
    "model"
   ]
  },
  {
   "cell_type": "code",
   "execution_count": 25,
   "metadata": {},
   "outputs": [
    {
     "data": {
      "text/plain": [
       "BaggingRegressor(n_estimators=1000, n_jobs=-1, random_state=3927)"
      ]
     },
     "execution_count": 25,
     "metadata": {},
     "output_type": "execute_result"
    }
   ],
   "source": [
    "model = BaggingRegressor(n_estimators=1000, n_jobs=-1, random_state=3927)\n",
    "\n",
    "model = train(model, X_train, y_train, score=False)\n",
    "model"
   ]
  },
  {
   "cell_type": "code",
   "execution_count": 90,
   "metadata": {},
   "outputs": [
    {
     "name": "stdout",
     "output_type": "stream",
     "text": [
      "Pre-tune CV scores: [-0.60038772 -0.60371702 -0.60781098 -0.6049524  -0.62425982]\n",
      "Best params: {'max_features': 17, 'max_samples': 30}\n",
      "Post-tune CV scores: [-0.61641832 -0.62776915 -0.63349879 -0.62867303 -0.63003017]\n"
     ]
    },
    {
     "data": {
      "text/plain": [
       "BaggingRegressor(base_estimator=Ridge(alpha=1, random_state=3927),\n",
       "                 max_features=17, max_samples=30, n_estimators=20, n_jobs=-1,\n",
       "                 random_state=3927)"
      ]
     },
     "execution_count": 90,
     "metadata": {},
     "output_type": "execute_result"
    }
   ],
   "source": [
    "base = Ridge(alpha=1, random_state=3927)\n",
    "model = BaggingRegressor(base_estimator=base, n_estimators=20, n_jobs=-1, random_state=3927)\n",
    "params = {'max_samples': randint(1, 100), 'max_features': randint(1, 20)}\n",
    "\n",
    "model = train(model, X_train, y_train, tune=True, params=params, n_iter=10)\n",
    "model"
   ]
  },
  {
   "cell_type": "code",
   "execution_count": 91,
   "metadata": {},
   "outputs": [
    {
     "name": "stdout",
     "output_type": "stream",
     "text": [
      "Pre-tune CV scores: [-0.60772179 -0.60589377 -0.60805996 -0.60706383 -0.62722213]\n",
      "Best params: {'max_features': 12, 'max_samples': 60}\n",
      "Post-tune CV scores: [-0.61628121 -0.60219481 -0.61696946 -0.62098255 -0.62340703]\n"
     ]
    },
    {
     "data": {
      "text/plain": [
       "BaggingRegressor(base_estimator=SGDRegressor(alpha=0.01, l1_ratio=0.6,\n",
       "                                             max_iter=5000,\n",
       "                                             penalty='elasticnet',\n",
       "                                             random_state=3927),\n",
       "                 max_features=12, max_samples=60, n_estimators=2, n_jobs=-1,\n",
       "                 random_state=3927)"
      ]
     },
     "execution_count": 91,
     "metadata": {},
     "output_type": "execute_result"
    }
   ],
   "source": [
    "base = SGDRegressor(max_iter=5000, alpha=0.01, l1_ratio=0.6, penalty='elasticnet', random_state=3927)\n",
    "model = BaggingRegressor(base_estimator=base, n_estimators=2, n_jobs=-1, random_state=3927)\n",
    "params = {'max_samples': randint(1, 100), 'max_features': randint(1, 20)}\n",
    "\n",
    "model = train(model, X_train, y_train, tune=True, params=params, n_iter=10)\n",
    "model"
   ]
  },
  {
   "cell_type": "markdown",
   "metadata": {},
   "source": [
    "## Boosting"
   ]
  },
  {
   "cell_type": "markdown",
   "metadata": {},
   "source": [
    "### AdaBoost"
   ]
  },
  {
   "cell_type": "code",
   "execution_count": 92,
   "metadata": {},
   "outputs": [],
   "source": [
    "from sklearn.ensemble import AdaBoostRegressor"
   ]
  },
  {
   "cell_type": "code",
   "execution_count": 93,
   "metadata": {},
   "outputs": [
    {
     "name": "stdout",
     "output_type": "stream",
     "text": [
      "CV scores: [-0.62612785 -0.63610368 -0.70419332 -0.68575288 -0.65371367]\n"
     ]
    },
    {
     "data": {
      "text/plain": [
       "AdaBoostRegressor(loss='square', n_estimators=10, random_state=3927)"
      ]
     },
     "execution_count": 93,
     "metadata": {},
     "output_type": "execute_result"
    }
   ],
   "source": [
    "model = AdaBoostRegressor(n_estimators=10, loss='square', random_state=3927)\n",
    "\n",
    "model = train(model, X_train, y_train)\n",
    "model"
   ]
  },
  {
   "cell_type": "code",
   "execution_count": 96,
   "metadata": {},
   "outputs": [
    {
     "name": "stdout",
     "output_type": "stream",
     "text": [
      "CV scores: [-0.59987581 -0.60262106 -0.60742434 -0.6040483  -0.62469991]\n"
     ]
    },
    {
     "data": {
      "text/plain": [
       "AdaBoostRegressor(base_estimator=Ridge(alpha=1, random_state=3927),\n",
       "                  loss='square', n_estimators=2, random_state=3927)"
      ]
     },
     "execution_count": 96,
     "metadata": {},
     "output_type": "execute_result"
    }
   ],
   "source": [
    "base = Ridge(alpha=1, random_state=3927)\n",
    "model = AdaBoostRegressor(base_estimator=base, n_estimators=2, loss='square', random_state=3927)\n",
    "\n",
    "model = train(model, X_train, y_train)\n",
    "model"
   ]
  },
  {
   "cell_type": "code",
   "execution_count": 97,
   "metadata": {},
   "outputs": [
    {
     "name": "stdout",
     "output_type": "stream",
     "text": [
      "CV scores: [-0.5987626  -0.60642201 -0.61348093 -0.60559309 -0.63237204]\n"
     ]
    },
    {
     "data": {
      "text/plain": [
       "AdaBoostRegressor(base_estimator=SGDRegressor(alpha=0.01, l1_ratio=0.6,\n",
       "                                              max_iter=5000,\n",
       "                                              penalty='elasticnet',\n",
       "                                              random_state=3927),\n",
       "                  loss='square', n_estimators=2, random_state=3927)"
      ]
     },
     "execution_count": 97,
     "metadata": {},
     "output_type": "execute_result"
    }
   ],
   "source": [
    "base = SGDRegressor(max_iter=5000, alpha=0.01, l1_ratio=0.6, penalty='elasticnet', random_state=3927)\n",
    "model = AdaBoostRegressor(base_estimator=base, n_estimators=2, loss='square', random_state=3927)\n",
    "\n",
    "model = train(model, X_train, y_train)\n",
    "model"
   ]
  },
  {
   "cell_type": "markdown",
   "metadata": {},
   "source": [
    "### GradientBoosting"
   ]
  },
  {
   "cell_type": "code",
   "execution_count": 98,
   "metadata": {},
   "outputs": [],
   "source": [
    "from sklearn.ensemble import GradientBoostingRegressor"
   ]
  },
  {
   "cell_type": "code",
   "execution_count": 99,
   "metadata": {},
   "outputs": [
    {
     "name": "stdout",
     "output_type": "stream",
     "text": [
      "CV scores: [-0.58158919 -0.57946082 -0.5900043  -0.58762625 -0.6051725 ]\n"
     ]
    },
    {
     "data": {
      "text/plain": [
       "GradientBoostingRegressor(n_estimators=10, random_state=3927)"
      ]
     },
     "execution_count": 99,
     "metadata": {},
     "output_type": "execute_result"
    }
   ],
   "source": [
    "model = GradientBoostingRegressor(n_estimators=10, random_state=3927)\n",
    "\n",
    "model = train(model, X_train, y_train)\n",
    "model"
   ]
  },
  {
   "cell_type": "code",
   "execution_count": 100,
   "metadata": {},
   "outputs": [
    {
     "name": "stdout",
     "output_type": "stream",
     "text": [
      "CV scores: [-0.53934113 -0.53961423 -0.55229335 -0.55318057 -0.56992807]\n"
     ]
    },
    {
     "data": {
      "text/plain": [
       "GradientBoostingRegressor(random_state=3927)"
      ]
     },
     "execution_count": 100,
     "metadata": {},
     "output_type": "execute_result"
    }
   ],
   "source": [
    "model = GradientBoostingRegressor(n_estimators=100, random_state=3927)\n",
    "\n",
    "model = train(model, X_train, y_train)\n",
    "model"
   ]
  },
  {
   "cell_type": "markdown",
   "metadata": {},
   "source": [
    "# Test"
   ]
  },
  {
   "cell_type": "code",
   "execution_count": 26,
   "metadata": {},
   "outputs": [
    {
     "data": {
      "text/html": [
       "<div>\n",
       "<style scoped>\n",
       "    .dataframe tbody tr th:only-of-type {\n",
       "        vertical-align: middle;\n",
       "    }\n",
       "\n",
       "    .dataframe tbody tr th {\n",
       "        vertical-align: top;\n",
       "    }\n",
       "\n",
       "    .dataframe thead th {\n",
       "        text-align: right;\n",
       "    }\n",
       "</style>\n",
       "<table border=\"1\" class=\"dataframe\">\n",
       "  <thead>\n",
       "    <tr style=\"text-align: right;\">\n",
       "      <th></th>\n",
       "      <th>id</th>\n",
       "      <th>prediction</th>\n",
       "    </tr>\n",
       "  </thead>\n",
       "  <tbody>\n",
       "    <tr>\n",
       "      <th>0</th>\n",
       "      <td>1</td>\n",
       "      <td>6.771005e+06</td>\n",
       "    </tr>\n",
       "    <tr>\n",
       "      <th>1</th>\n",
       "      <td>2</td>\n",
       "      <td>4.947073e+06</td>\n",
       "    </tr>\n",
       "    <tr>\n",
       "      <th>2</th>\n",
       "      <td>3</td>\n",
       "      <td>3.652721e+06</td>\n",
       "    </tr>\n",
       "    <tr>\n",
       "      <th>3</th>\n",
       "      <td>4</td>\n",
       "      <td>7.189662e+06</td>\n",
       "    </tr>\n",
       "    <tr>\n",
       "      <th>4</th>\n",
       "      <td>5</td>\n",
       "      <td>3.410794e+07</td>\n",
       "    </tr>\n",
       "  </tbody>\n",
       "</table>\n",
       "</div>"
      ],
      "text/plain": [
       "   id    prediction\n",
       "0   1  6.771005e+06\n",
       "1   2  4.947073e+06\n",
       "2   3  3.652721e+06\n",
       "3   4  7.189662e+06\n",
       "4   5  3.410794e+07"
      ]
     },
     "execution_count": 26,
     "metadata": {},
     "output_type": "execute_result"
    }
   ],
   "source": [
    "df_pred = test(model, X_test)\n",
    "df_pred.head()"
   ]
  },
  {
   "cell_type": "markdown",
   "metadata": {},
   "source": [
    "# Validate"
   ]
  },
  {
   "cell_type": "code",
   "execution_count": 27,
   "metadata": {},
   "outputs": [
    {
     "data": {
      "text/plain": [
       "Series([], Name: prediction, dtype: float64)"
      ]
     },
     "execution_count": 27,
     "metadata": {},
     "output_type": "execute_result"
    }
   ],
   "source": [
    "df_pred['prediction'][df_pred['prediction'] <= 100000]"
   ]
  },
  {
   "cell_type": "markdown",
   "metadata": {},
   "source": [
    "# Export"
   ]
  },
  {
   "cell_type": "code",
   "execution_count": 28,
   "metadata": {},
   "outputs": [],
   "source": [
    "df_pred.to_csv(\"output/submission.csv\", index=False)"
   ]
  },
  {
   "cell_type": "code",
   "execution_count": null,
   "metadata": {},
   "outputs": [],
   "source": []
  }
 ],
 "metadata": {
  "interpreter": {
   "hash": "08185bf09d066e6467fc310b9bcfbc112bb9f55e576060cbccac4f7aed0eafad"
  },
  "kernelspec": {
   "display_name": "Python 3.8.10 64-bit",
   "language": "python",
   "name": "python3"
  },
  "language_info": {
   "codemirror_mode": {
    "name": "ipython",
    "version": 3
   },
   "file_extension": ".py",
   "mimetype": "text/x-python",
   "name": "python",
   "nbconvert_exporter": "python",
   "pygments_lexer": "ipython3",
   "version": "3.8.10"
  },
  "orig_nbformat": 4
 },
 "nbformat": 4,
 "nbformat_minor": 2
}
