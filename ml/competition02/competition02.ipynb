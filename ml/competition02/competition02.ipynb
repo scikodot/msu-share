{
 "cells": [
  {
   "cell_type": "markdown",
   "metadata": {},
   "source": [
    "### Загружаем необходимые модули"
   ]
  },
  {
   "cell_type": "code",
   "execution_count": 1,
   "metadata": {},
   "outputs": [],
   "source": [
    "import pandas as pd\n",
    "import numpy as np"
   ]
  },
  {
   "cell_type": "markdown",
   "metadata": {},
   "source": [
    "### Устанавливаем RNG seed для гарантии воспроизводимости (на всякий случай)"
   ]
  },
  {
   "cell_type": "code",
   "execution_count": 2,
   "metadata": {},
   "outputs": [],
   "source": [
    "np.random.seed(3927)"
   ]
  },
  {
   "cell_type": "markdown",
   "metadata": {},
   "source": [
    "### Загружаем данные"
   ]
  },
  {
   "cell_type": "code",
   "execution_count": 3,
   "metadata": {},
   "outputs": [],
   "source": [
    "df = pd.read_csv(\"input/train.csv\", index_col=False)"
   ]
  },
  {
   "cell_type": "markdown",
   "metadata": {},
   "source": [
    "### Обрабатываем нечисловые (категориальные) признаки"
   ]
  },
  {
   "cell_type": "code",
   "execution_count": 4,
   "metadata": {},
   "outputs": [
    {
     "name": "stdout",
     "output_type": "stream",
     "text": [
      "['f1', 'f11', 'f12', 'f29', 'f33', 'f34', 'f35', 'f36', 'f37', 'f38', 'f39', 'f40', 'f106', 'f114', 'f118', 'f152']\n"
     ]
    }
   ],
   "source": [
    "cat_index = list(df.dtypes[df.dtypes == 'O'].index)\n",
    "print(cat_index)"
   ]
  },
  {
   "cell_type": "code",
   "execution_count": 5,
   "metadata": {},
   "outputs": [
    {
     "data": {
      "text/html": [
       "<div>\n",
       "<style scoped>\n",
       "    .dataframe tbody tr th:only-of-type {\n",
       "        vertical-align: middle;\n",
       "    }\n",
       "\n",
       "    .dataframe tbody tr th {\n",
       "        vertical-align: top;\n",
       "    }\n",
       "\n",
       "    .dataframe thead th {\n",
       "        text-align: right;\n",
       "    }\n",
       "</style>\n",
       "<table border=\"1\" class=\"dataframe\">\n",
       "  <thead>\n",
       "    <tr style=\"text-align: right;\">\n",
       "      <th></th>\n",
       "      <th>f1</th>\n",
       "      <th>f11</th>\n",
       "      <th>f12</th>\n",
       "      <th>f29</th>\n",
       "      <th>f33</th>\n",
       "      <th>f34</th>\n",
       "      <th>f35</th>\n",
       "      <th>f36</th>\n",
       "      <th>f37</th>\n",
       "      <th>f38</th>\n",
       "      <th>f39</th>\n",
       "      <th>f40</th>\n",
       "      <th>f106</th>\n",
       "      <th>f114</th>\n",
       "      <th>f118</th>\n",
       "      <th>f152</th>\n",
       "    </tr>\n",
       "  </thead>\n",
       "  <tbody>\n",
       "    <tr>\n",
       "      <th>0</th>\n",
       "      <td>2014-01-29</td>\n",
       "      <td>Investment</td>\n",
       "      <td>Juzhnoe Butovo</td>\n",
       "      <td>no</td>\n",
       "      <td>no</td>\n",
       "      <td>no</td>\n",
       "      <td>no</td>\n",
       "      <td>no</td>\n",
       "      <td>no</td>\n",
       "      <td>no</td>\n",
       "      <td>no</td>\n",
       "      <td>no</td>\n",
       "      <td>no</td>\n",
       "      <td>no</td>\n",
       "      <td>no</td>\n",
       "      <td>good</td>\n",
       "    </tr>\n",
       "    <tr>\n",
       "      <th>1</th>\n",
       "      <td>2014-04-07</td>\n",
       "      <td>OwnerOccupier</td>\n",
       "      <td>Poselenie Filimonkovskoe</td>\n",
       "      <td>no</td>\n",
       "      <td>no</td>\n",
       "      <td>no</td>\n",
       "      <td>no</td>\n",
       "      <td>no</td>\n",
       "      <td>no</td>\n",
       "      <td>no</td>\n",
       "      <td>no</td>\n",
       "      <td>no</td>\n",
       "      <td>no</td>\n",
       "      <td>no</td>\n",
       "      <td>no</td>\n",
       "      <td>no data</td>\n",
       "    </tr>\n",
       "    <tr>\n",
       "      <th>2</th>\n",
       "      <td>2012-05-18</td>\n",
       "      <td>Investment</td>\n",
       "      <td>Lomonosovskoe</td>\n",
       "      <td>no</td>\n",
       "      <td>no</td>\n",
       "      <td>no</td>\n",
       "      <td>no</td>\n",
       "      <td>no</td>\n",
       "      <td>no</td>\n",
       "      <td>no</td>\n",
       "      <td>no</td>\n",
       "      <td>no</td>\n",
       "      <td>no</td>\n",
       "      <td>no</td>\n",
       "      <td>no</td>\n",
       "      <td>satisfactory</td>\n",
       "    </tr>\n",
       "    <tr>\n",
       "      <th>3</th>\n",
       "      <td>2013-02-08</td>\n",
       "      <td>Investment</td>\n",
       "      <td>Juzhnoe Tushino</td>\n",
       "      <td>no</td>\n",
       "      <td>no</td>\n",
       "      <td>no</td>\n",
       "      <td>no</td>\n",
       "      <td>no</td>\n",
       "      <td>no</td>\n",
       "      <td>no</td>\n",
       "      <td>no</td>\n",
       "      <td>no</td>\n",
       "      <td>no</td>\n",
       "      <td>no</td>\n",
       "      <td>no</td>\n",
       "      <td>poor</td>\n",
       "    </tr>\n",
       "    <tr>\n",
       "      <th>4</th>\n",
       "      <td>2014-01-10</td>\n",
       "      <td>Investment</td>\n",
       "      <td>Ochakovo-Matveevskoe</td>\n",
       "      <td>no</td>\n",
       "      <td>yes</td>\n",
       "      <td>no</td>\n",
       "      <td>no</td>\n",
       "      <td>no</td>\n",
       "      <td>no</td>\n",
       "      <td>no</td>\n",
       "      <td>no</td>\n",
       "      <td>no</td>\n",
       "      <td>no</td>\n",
       "      <td>no</td>\n",
       "      <td>no</td>\n",
       "      <td>satisfactory</td>\n",
       "    </tr>\n",
       "  </tbody>\n",
       "</table>\n",
       "</div>"
      ],
      "text/plain": [
       "           f1            f11                       f12 f29  f33 f34 f35 f36  \\\n",
       "0  2014-01-29     Investment            Juzhnoe Butovo  no   no  no  no  no   \n",
       "1  2014-04-07  OwnerOccupier  Poselenie Filimonkovskoe  no   no  no  no  no   \n",
       "2  2012-05-18     Investment             Lomonosovskoe  no   no  no  no  no   \n",
       "3  2013-02-08     Investment           Juzhnoe Tushino  no   no  no  no  no   \n",
       "4  2014-01-10     Investment      Ochakovo-Matveevskoe  no  yes  no  no  no   \n",
       "\n",
       "  f37 f38 f39 f40 f106 f114 f118          f152  \n",
       "0  no  no  no  no   no   no   no          good  \n",
       "1  no  no  no  no   no   no   no       no data  \n",
       "2  no  no  no  no   no   no   no  satisfactory  \n",
       "3  no  no  no  no   no   no   no          poor  \n",
       "4  no  no  no  no   no   no   no  satisfactory  "
      ]
     },
     "execution_count": 5,
     "metadata": {},
     "output_type": "execute_result"
    }
   ],
   "source": [
    "df[cat_index].head()"
   ]
  },
  {
   "cell_type": "markdown",
   "metadata": {},
   "source": [
    "Признак f1 – дата -> разобьём на три столбца"
   ]
  },
  {
   "cell_type": "code",
   "execution_count": 6,
   "metadata": {},
   "outputs": [],
   "source": [
    "ymd = df['f1'].str.split('-', expand=True).astype('int64').rename(columns={0: 'year', 1: 'month', 2: 'day'})\n",
    "df = pd.concat([df, ymd], axis=1).drop(['f1'], axis=1)\n",
    "cat_index = cat_index[1:] + ['year', 'month', 'day']"
   ]
  },
  {
   "cell_type": "code",
   "execution_count": 7,
   "metadata": {},
   "outputs": [
    {
     "data": {
      "text/html": [
       "<div>\n",
       "<style scoped>\n",
       "    .dataframe tbody tr th:only-of-type {\n",
       "        vertical-align: middle;\n",
       "    }\n",
       "\n",
       "    .dataframe tbody tr th {\n",
       "        vertical-align: top;\n",
       "    }\n",
       "\n",
       "    .dataframe thead th {\n",
       "        text-align: right;\n",
       "    }\n",
       "</style>\n",
       "<table border=\"1\" class=\"dataframe\">\n",
       "  <thead>\n",
       "    <tr style=\"text-align: right;\">\n",
       "      <th></th>\n",
       "      <th>f11</th>\n",
       "      <th>f12</th>\n",
       "      <th>f29</th>\n",
       "      <th>f33</th>\n",
       "      <th>f34</th>\n",
       "      <th>f35</th>\n",
       "      <th>f36</th>\n",
       "      <th>f37</th>\n",
       "      <th>f38</th>\n",
       "      <th>f39</th>\n",
       "      <th>f40</th>\n",
       "      <th>f106</th>\n",
       "      <th>f114</th>\n",
       "      <th>f118</th>\n",
       "      <th>f152</th>\n",
       "      <th>year</th>\n",
       "      <th>month</th>\n",
       "      <th>day</th>\n",
       "    </tr>\n",
       "  </thead>\n",
       "  <tbody>\n",
       "    <tr>\n",
       "      <th>0</th>\n",
       "      <td>Investment</td>\n",
       "      <td>Juzhnoe Butovo</td>\n",
       "      <td>no</td>\n",
       "      <td>no</td>\n",
       "      <td>no</td>\n",
       "      <td>no</td>\n",
       "      <td>no</td>\n",
       "      <td>no</td>\n",
       "      <td>no</td>\n",
       "      <td>no</td>\n",
       "      <td>no</td>\n",
       "      <td>no</td>\n",
       "      <td>no</td>\n",
       "      <td>no</td>\n",
       "      <td>good</td>\n",
       "      <td>2014</td>\n",
       "      <td>1</td>\n",
       "      <td>29</td>\n",
       "    </tr>\n",
       "    <tr>\n",
       "      <th>1</th>\n",
       "      <td>OwnerOccupier</td>\n",
       "      <td>Poselenie Filimonkovskoe</td>\n",
       "      <td>no</td>\n",
       "      <td>no</td>\n",
       "      <td>no</td>\n",
       "      <td>no</td>\n",
       "      <td>no</td>\n",
       "      <td>no</td>\n",
       "      <td>no</td>\n",
       "      <td>no</td>\n",
       "      <td>no</td>\n",
       "      <td>no</td>\n",
       "      <td>no</td>\n",
       "      <td>no</td>\n",
       "      <td>no data</td>\n",
       "      <td>2014</td>\n",
       "      <td>4</td>\n",
       "      <td>7</td>\n",
       "    </tr>\n",
       "    <tr>\n",
       "      <th>2</th>\n",
       "      <td>Investment</td>\n",
       "      <td>Lomonosovskoe</td>\n",
       "      <td>no</td>\n",
       "      <td>no</td>\n",
       "      <td>no</td>\n",
       "      <td>no</td>\n",
       "      <td>no</td>\n",
       "      <td>no</td>\n",
       "      <td>no</td>\n",
       "      <td>no</td>\n",
       "      <td>no</td>\n",
       "      <td>no</td>\n",
       "      <td>no</td>\n",
       "      <td>no</td>\n",
       "      <td>satisfactory</td>\n",
       "      <td>2012</td>\n",
       "      <td>5</td>\n",
       "      <td>18</td>\n",
       "    </tr>\n",
       "    <tr>\n",
       "      <th>3</th>\n",
       "      <td>Investment</td>\n",
       "      <td>Juzhnoe Tushino</td>\n",
       "      <td>no</td>\n",
       "      <td>no</td>\n",
       "      <td>no</td>\n",
       "      <td>no</td>\n",
       "      <td>no</td>\n",
       "      <td>no</td>\n",
       "      <td>no</td>\n",
       "      <td>no</td>\n",
       "      <td>no</td>\n",
       "      <td>no</td>\n",
       "      <td>no</td>\n",
       "      <td>no</td>\n",
       "      <td>poor</td>\n",
       "      <td>2013</td>\n",
       "      <td>2</td>\n",
       "      <td>8</td>\n",
       "    </tr>\n",
       "    <tr>\n",
       "      <th>4</th>\n",
       "      <td>Investment</td>\n",
       "      <td>Ochakovo-Matveevskoe</td>\n",
       "      <td>no</td>\n",
       "      <td>yes</td>\n",
       "      <td>no</td>\n",
       "      <td>no</td>\n",
       "      <td>no</td>\n",
       "      <td>no</td>\n",
       "      <td>no</td>\n",
       "      <td>no</td>\n",
       "      <td>no</td>\n",
       "      <td>no</td>\n",
       "      <td>no</td>\n",
       "      <td>no</td>\n",
       "      <td>satisfactory</td>\n",
       "      <td>2014</td>\n",
       "      <td>1</td>\n",
       "      <td>10</td>\n",
       "    </tr>\n",
       "  </tbody>\n",
       "</table>\n",
       "</div>"
      ],
      "text/plain": [
       "             f11                       f12 f29  f33 f34 f35 f36 f37 f38 f39  \\\n",
       "0     Investment            Juzhnoe Butovo  no   no  no  no  no  no  no  no   \n",
       "1  OwnerOccupier  Poselenie Filimonkovskoe  no   no  no  no  no  no  no  no   \n",
       "2     Investment             Lomonosovskoe  no   no  no  no  no  no  no  no   \n",
       "3     Investment           Juzhnoe Tushino  no   no  no  no  no  no  no  no   \n",
       "4     Investment      Ochakovo-Matveevskoe  no  yes  no  no  no  no  no  no   \n",
       "\n",
       "  f40 f106 f114 f118          f152  year  month  day  \n",
       "0  no   no   no   no          good  2014      1   29  \n",
       "1  no   no   no   no       no data  2014      4    7  \n",
       "2  no   no   no   no  satisfactory  2012      5   18  \n",
       "3  no   no   no   no          poor  2013      2    8  \n",
       "4  no   no   no   no  satisfactory  2014      1   10  "
      ]
     },
     "execution_count": 7,
     "metadata": {},
     "output_type": "execute_result"
    }
   ],
   "source": [
    "df[cat_index].head()"
   ]
  },
  {
   "cell_type": "markdown",
   "metadata": {},
   "source": [
    "Признак f11 – неупорядоченный -> one-hot encoding"
   ]
  },
  {
   "cell_type": "code",
   "execution_count": 8,
   "metadata": {},
   "outputs": [
    {
     "data": {
      "text/plain": [
       "array(['Investment', 'OwnerOccupier'], dtype=object)"
      ]
     },
     "execution_count": 8,
     "metadata": {},
     "output_type": "execute_result"
    }
   ],
   "source": [
    "f11_unique = df['f11'].unique()\n",
    "f11_unique"
   ]
  },
  {
   "cell_type": "code",
   "execution_count": 9,
   "metadata": {},
   "outputs": [],
   "source": [
    "f11_encoding = dict(zip(f11_unique, np.eye(len(f11_unique))))\n",
    "f11_encoded = pd.DataFrame([np.nan if k == np.nan else f11_encoding[k] for k in df['f11']], columns=f11_unique)\n",
    "df = pd.concat([df, f11_encoded], axis=1).drop(['f11'], axis=1)\n",
    "cat_index = cat_index[1:] + list(f11_unique)"
   ]
  },
  {
   "cell_type": "code",
   "execution_count": 10,
   "metadata": {},
   "outputs": [
    {
     "data": {
      "text/html": [
       "<div>\n",
       "<style scoped>\n",
       "    .dataframe tbody tr th:only-of-type {\n",
       "        vertical-align: middle;\n",
       "    }\n",
       "\n",
       "    .dataframe tbody tr th {\n",
       "        vertical-align: top;\n",
       "    }\n",
       "\n",
       "    .dataframe thead th {\n",
       "        text-align: right;\n",
       "    }\n",
       "</style>\n",
       "<table border=\"1\" class=\"dataframe\">\n",
       "  <thead>\n",
       "    <tr style=\"text-align: right;\">\n",
       "      <th></th>\n",
       "      <th>f12</th>\n",
       "      <th>f29</th>\n",
       "      <th>f33</th>\n",
       "      <th>f34</th>\n",
       "      <th>f35</th>\n",
       "      <th>f36</th>\n",
       "      <th>f37</th>\n",
       "      <th>f38</th>\n",
       "      <th>f39</th>\n",
       "      <th>f40</th>\n",
       "      <th>f106</th>\n",
       "      <th>f114</th>\n",
       "      <th>f118</th>\n",
       "      <th>f152</th>\n",
       "      <th>year</th>\n",
       "      <th>month</th>\n",
       "      <th>day</th>\n",
       "      <th>Investment</th>\n",
       "      <th>OwnerOccupier</th>\n",
       "    </tr>\n",
       "  </thead>\n",
       "  <tbody>\n",
       "    <tr>\n",
       "      <th>0</th>\n",
       "      <td>Juzhnoe Butovo</td>\n",
       "      <td>no</td>\n",
       "      <td>no</td>\n",
       "      <td>no</td>\n",
       "      <td>no</td>\n",
       "      <td>no</td>\n",
       "      <td>no</td>\n",
       "      <td>no</td>\n",
       "      <td>no</td>\n",
       "      <td>no</td>\n",
       "      <td>no</td>\n",
       "      <td>no</td>\n",
       "      <td>no</td>\n",
       "      <td>good</td>\n",
       "      <td>2014</td>\n",
       "      <td>1</td>\n",
       "      <td>29</td>\n",
       "      <td>1.0</td>\n",
       "      <td>0.0</td>\n",
       "    </tr>\n",
       "    <tr>\n",
       "      <th>1</th>\n",
       "      <td>Poselenie Filimonkovskoe</td>\n",
       "      <td>no</td>\n",
       "      <td>no</td>\n",
       "      <td>no</td>\n",
       "      <td>no</td>\n",
       "      <td>no</td>\n",
       "      <td>no</td>\n",
       "      <td>no</td>\n",
       "      <td>no</td>\n",
       "      <td>no</td>\n",
       "      <td>no</td>\n",
       "      <td>no</td>\n",
       "      <td>no</td>\n",
       "      <td>no data</td>\n",
       "      <td>2014</td>\n",
       "      <td>4</td>\n",
       "      <td>7</td>\n",
       "      <td>0.0</td>\n",
       "      <td>1.0</td>\n",
       "    </tr>\n",
       "    <tr>\n",
       "      <th>2</th>\n",
       "      <td>Lomonosovskoe</td>\n",
       "      <td>no</td>\n",
       "      <td>no</td>\n",
       "      <td>no</td>\n",
       "      <td>no</td>\n",
       "      <td>no</td>\n",
       "      <td>no</td>\n",
       "      <td>no</td>\n",
       "      <td>no</td>\n",
       "      <td>no</td>\n",
       "      <td>no</td>\n",
       "      <td>no</td>\n",
       "      <td>no</td>\n",
       "      <td>satisfactory</td>\n",
       "      <td>2012</td>\n",
       "      <td>5</td>\n",
       "      <td>18</td>\n",
       "      <td>1.0</td>\n",
       "      <td>0.0</td>\n",
       "    </tr>\n",
       "    <tr>\n",
       "      <th>3</th>\n",
       "      <td>Juzhnoe Tushino</td>\n",
       "      <td>no</td>\n",
       "      <td>no</td>\n",
       "      <td>no</td>\n",
       "      <td>no</td>\n",
       "      <td>no</td>\n",
       "      <td>no</td>\n",
       "      <td>no</td>\n",
       "      <td>no</td>\n",
       "      <td>no</td>\n",
       "      <td>no</td>\n",
       "      <td>no</td>\n",
       "      <td>no</td>\n",
       "      <td>poor</td>\n",
       "      <td>2013</td>\n",
       "      <td>2</td>\n",
       "      <td>8</td>\n",
       "      <td>1.0</td>\n",
       "      <td>0.0</td>\n",
       "    </tr>\n",
       "    <tr>\n",
       "      <th>4</th>\n",
       "      <td>Ochakovo-Matveevskoe</td>\n",
       "      <td>no</td>\n",
       "      <td>yes</td>\n",
       "      <td>no</td>\n",
       "      <td>no</td>\n",
       "      <td>no</td>\n",
       "      <td>no</td>\n",
       "      <td>no</td>\n",
       "      <td>no</td>\n",
       "      <td>no</td>\n",
       "      <td>no</td>\n",
       "      <td>no</td>\n",
       "      <td>no</td>\n",
       "      <td>satisfactory</td>\n",
       "      <td>2014</td>\n",
       "      <td>1</td>\n",
       "      <td>10</td>\n",
       "      <td>1.0</td>\n",
       "      <td>0.0</td>\n",
       "    </tr>\n",
       "  </tbody>\n",
       "</table>\n",
       "</div>"
      ],
      "text/plain": [
       "                        f12 f29  f33 f34 f35 f36 f37 f38 f39 f40 f106 f114  \\\n",
       "0            Juzhnoe Butovo  no   no  no  no  no  no  no  no  no   no   no   \n",
       "1  Poselenie Filimonkovskoe  no   no  no  no  no  no  no  no  no   no   no   \n",
       "2             Lomonosovskoe  no   no  no  no  no  no  no  no  no   no   no   \n",
       "3           Juzhnoe Tushino  no   no  no  no  no  no  no  no  no   no   no   \n",
       "4      Ochakovo-Matveevskoe  no  yes  no  no  no  no  no  no  no   no   no   \n",
       "\n",
       "  f118          f152  year  month  day  Investment  OwnerOccupier  \n",
       "0   no          good  2014      1   29         1.0            0.0  \n",
       "1   no       no data  2014      4    7         0.0            1.0  \n",
       "2   no  satisfactory  2012      5   18         1.0            0.0  \n",
       "3   no          poor  2013      2    8         1.0            0.0  \n",
       "4   no  satisfactory  2014      1   10         1.0            0.0  "
      ]
     },
     "execution_count": 10,
     "metadata": {},
     "output_type": "execute_result"
    }
   ],
   "source": [
    "df[cat_index].head()"
   ]
  },
  {
   "cell_type": "markdown",
   "metadata": {},
   "source": [
    "Признак f12 – неупорядоченный -> one-hot encoding"
   ]
  },
  {
   "cell_type": "code",
   "execution_count": 16,
   "metadata": {},
   "outputs": [
    {
     "data": {
      "text/plain": [
       "(array(['Juzhnoe Butovo', 'Poselenie Filimonkovskoe', 'Lomonosovskoe',\n",
       "        'Juzhnoe Tushino', 'Ochakovo-Matveevskoe'], dtype=object),\n",
       " (146,))"
      ]
     },
     "execution_count": 16,
     "metadata": {},
     "output_type": "execute_result"
    }
   ],
   "source": [
    "f12_unique = df['f12'].unique()\n",
    "f12_unique[:5], f12_unique.shape"
   ]
  },
  {
   "cell_type": "code",
   "execution_count": 17,
   "metadata": {},
   "outputs": [],
   "source": [
    "f12_encoding = dict(zip(f12_unique, np.eye(len(f12_unique))))\n",
    "f12_encoded = pd.DataFrame([np.nan if k == np.nan else f12_encoding[k] for k in df['f12']], columns=f12_unique)\n",
    "df = pd.concat([df, f12_encoded], axis=1).drop(['f12'], axis=1)\n",
    "cat_index = cat_index[1:] + list(f12_unique)"
   ]
  },
  {
   "cell_type": "code",
   "execution_count": 18,
   "metadata": {},
   "outputs": [
    {
     "data": {
      "text/html": [
       "<div>\n",
       "<style scoped>\n",
       "    .dataframe tbody tr th:only-of-type {\n",
       "        vertical-align: middle;\n",
       "    }\n",
       "\n",
       "    .dataframe tbody tr th {\n",
       "        vertical-align: top;\n",
       "    }\n",
       "\n",
       "    .dataframe thead th {\n",
       "        text-align: right;\n",
       "    }\n",
       "</style>\n",
       "<table border=\"1\" class=\"dataframe\">\n",
       "  <thead>\n",
       "    <tr style=\"text-align: right;\">\n",
       "      <th></th>\n",
       "      <th>f29</th>\n",
       "      <th>f33</th>\n",
       "      <th>f34</th>\n",
       "      <th>f35</th>\n",
       "      <th>f36</th>\n",
       "      <th>f37</th>\n",
       "      <th>f38</th>\n",
       "      <th>f39</th>\n",
       "      <th>f40</th>\n",
       "      <th>f106</th>\n",
       "      <th>...</th>\n",
       "      <th>Ostankinskoe</th>\n",
       "      <th>Poselenie Kokoshkino</th>\n",
       "      <th>Poselenie Rjazanovskoe</th>\n",
       "      <th>Poselenie Klenovskoe</th>\n",
       "      <th>Poselenie Voronovskoe</th>\n",
       "      <th>Severnoe</th>\n",
       "      <th>Vostochnoe</th>\n",
       "      <th>Poselenie Kievskij</th>\n",
       "      <th>Molzhaninovskoe</th>\n",
       "      <th>Poselenie Mihajlovo-Jarcevskoe</th>\n",
       "    </tr>\n",
       "  </thead>\n",
       "  <tbody>\n",
       "    <tr>\n",
       "      <th>0</th>\n",
       "      <td>no</td>\n",
       "      <td>no</td>\n",
       "      <td>no</td>\n",
       "      <td>no</td>\n",
       "      <td>no</td>\n",
       "      <td>no</td>\n",
       "      <td>no</td>\n",
       "      <td>no</td>\n",
       "      <td>no</td>\n",
       "      <td>no</td>\n",
       "      <td>...</td>\n",
       "      <td>0.0</td>\n",
       "      <td>0.0</td>\n",
       "      <td>0.0</td>\n",
       "      <td>0.0</td>\n",
       "      <td>0.0</td>\n",
       "      <td>0.0</td>\n",
       "      <td>0.0</td>\n",
       "      <td>0.0</td>\n",
       "      <td>0.0</td>\n",
       "      <td>0.0</td>\n",
       "    </tr>\n",
       "    <tr>\n",
       "      <th>1</th>\n",
       "      <td>no</td>\n",
       "      <td>no</td>\n",
       "      <td>no</td>\n",
       "      <td>no</td>\n",
       "      <td>no</td>\n",
       "      <td>no</td>\n",
       "      <td>no</td>\n",
       "      <td>no</td>\n",
       "      <td>no</td>\n",
       "      <td>no</td>\n",
       "      <td>...</td>\n",
       "      <td>0.0</td>\n",
       "      <td>0.0</td>\n",
       "      <td>0.0</td>\n",
       "      <td>0.0</td>\n",
       "      <td>0.0</td>\n",
       "      <td>0.0</td>\n",
       "      <td>0.0</td>\n",
       "      <td>0.0</td>\n",
       "      <td>0.0</td>\n",
       "      <td>0.0</td>\n",
       "    </tr>\n",
       "    <tr>\n",
       "      <th>2</th>\n",
       "      <td>no</td>\n",
       "      <td>no</td>\n",
       "      <td>no</td>\n",
       "      <td>no</td>\n",
       "      <td>no</td>\n",
       "      <td>no</td>\n",
       "      <td>no</td>\n",
       "      <td>no</td>\n",
       "      <td>no</td>\n",
       "      <td>no</td>\n",
       "      <td>...</td>\n",
       "      <td>0.0</td>\n",
       "      <td>0.0</td>\n",
       "      <td>0.0</td>\n",
       "      <td>0.0</td>\n",
       "      <td>0.0</td>\n",
       "      <td>0.0</td>\n",
       "      <td>0.0</td>\n",
       "      <td>0.0</td>\n",
       "      <td>0.0</td>\n",
       "      <td>0.0</td>\n",
       "    </tr>\n",
       "    <tr>\n",
       "      <th>3</th>\n",
       "      <td>no</td>\n",
       "      <td>no</td>\n",
       "      <td>no</td>\n",
       "      <td>no</td>\n",
       "      <td>no</td>\n",
       "      <td>no</td>\n",
       "      <td>no</td>\n",
       "      <td>no</td>\n",
       "      <td>no</td>\n",
       "      <td>no</td>\n",
       "      <td>...</td>\n",
       "      <td>0.0</td>\n",
       "      <td>0.0</td>\n",
       "      <td>0.0</td>\n",
       "      <td>0.0</td>\n",
       "      <td>0.0</td>\n",
       "      <td>0.0</td>\n",
       "      <td>0.0</td>\n",
       "      <td>0.0</td>\n",
       "      <td>0.0</td>\n",
       "      <td>0.0</td>\n",
       "    </tr>\n",
       "    <tr>\n",
       "      <th>4</th>\n",
       "      <td>no</td>\n",
       "      <td>yes</td>\n",
       "      <td>no</td>\n",
       "      <td>no</td>\n",
       "      <td>no</td>\n",
       "      <td>no</td>\n",
       "      <td>no</td>\n",
       "      <td>no</td>\n",
       "      <td>no</td>\n",
       "      <td>no</td>\n",
       "      <td>...</td>\n",
       "      <td>0.0</td>\n",
       "      <td>0.0</td>\n",
       "      <td>0.0</td>\n",
       "      <td>0.0</td>\n",
       "      <td>0.0</td>\n",
       "      <td>0.0</td>\n",
       "      <td>0.0</td>\n",
       "      <td>0.0</td>\n",
       "      <td>0.0</td>\n",
       "      <td>0.0</td>\n",
       "    </tr>\n",
       "  </tbody>\n",
       "</table>\n",
       "<p>5 rows × 164 columns</p>\n",
       "</div>"
      ],
      "text/plain": [
       "  f29  f33 f34 f35 f36 f37 f38 f39 f40 f106  ... Ostankinskoe  \\\n",
       "0  no   no  no  no  no  no  no  no  no   no  ...          0.0   \n",
       "1  no   no  no  no  no  no  no  no  no   no  ...          0.0   \n",
       "2  no   no  no  no  no  no  no  no  no   no  ...          0.0   \n",
       "3  no   no  no  no  no  no  no  no  no   no  ...          0.0   \n",
       "4  no  yes  no  no  no  no  no  no  no   no  ...          0.0   \n",
       "\n",
       "  Poselenie Kokoshkino Poselenie Rjazanovskoe  Poselenie Klenovskoe  \\\n",
       "0                  0.0                    0.0                   0.0   \n",
       "1                  0.0                    0.0                   0.0   \n",
       "2                  0.0                    0.0                   0.0   \n",
       "3                  0.0                    0.0                   0.0   \n",
       "4                  0.0                    0.0                   0.0   \n",
       "\n",
       "   Poselenie Voronovskoe  Severnoe  Vostochnoe  Poselenie Kievskij  \\\n",
       "0                    0.0       0.0         0.0                 0.0   \n",
       "1                    0.0       0.0         0.0                 0.0   \n",
       "2                    0.0       0.0         0.0                 0.0   \n",
       "3                    0.0       0.0         0.0                 0.0   \n",
       "4                    0.0       0.0         0.0                 0.0   \n",
       "\n",
       "   Molzhaninovskoe  Poselenie Mihajlovo-Jarcevskoe  \n",
       "0              0.0                             0.0  \n",
       "1              0.0                             0.0  \n",
       "2              0.0                             0.0  \n",
       "3              0.0                             0.0  \n",
       "4              0.0                             0.0  \n",
       "\n",
       "[5 rows x 164 columns]"
      ]
     },
     "execution_count": 18,
     "metadata": {},
     "output_type": "execute_result"
    }
   ],
   "source": [
    "df[cat_index].head()"
   ]
  },
  {
   "cell_type": "markdown",
   "metadata": {},
   "source": [
    "Признаки f29-f118 – бинарные -> кодируем как 0 и 1"
   ]
  },
  {
   "cell_type": "code",
   "execution_count": 23,
   "metadata": {},
   "outputs": [
    {
     "data": {
      "text/plain": [
       "array(['no', 'yes'], dtype=object)"
      ]
     },
     "execution_count": 23,
     "metadata": {},
     "output_type": "execute_result"
    }
   ],
   "source": [
    "pd.unique(df[cat_index[:12]].values.flatten())"
   ]
  },
  {
   "cell_type": "code",
   "execution_count": 24,
   "metadata": {},
   "outputs": [],
   "source": [
    "bool_encoding = dict.fromkeys(cat_index[:12], {'no': 0, 'yes': 1})\n",
    "df = df.replace(bool_encoding)\n",
    "cat_index = cat_index[12:] + cat_index[:12]"
   ]
  },
  {
   "cell_type": "code",
   "execution_count": 25,
   "metadata": {},
   "outputs": [
    {
     "data": {
      "text/html": [
       "<div>\n",
       "<style scoped>\n",
       "    .dataframe tbody tr th:only-of-type {\n",
       "        vertical-align: middle;\n",
       "    }\n",
       "\n",
       "    .dataframe tbody tr th {\n",
       "        vertical-align: top;\n",
       "    }\n",
       "\n",
       "    .dataframe thead th {\n",
       "        text-align: right;\n",
       "    }\n",
       "</style>\n",
       "<table border=\"1\" class=\"dataframe\">\n",
       "  <thead>\n",
       "    <tr style=\"text-align: right;\">\n",
       "      <th></th>\n",
       "      <th>f152</th>\n",
       "      <th>year</th>\n",
       "      <th>month</th>\n",
       "      <th>day</th>\n",
       "      <th>Investment</th>\n",
       "      <th>OwnerOccupier</th>\n",
       "      <th>Juzhnoe Butovo</th>\n",
       "      <th>Poselenie Filimonkovskoe</th>\n",
       "      <th>Lomonosovskoe</th>\n",
       "      <th>Juzhnoe Tushino</th>\n",
       "      <th>...</th>\n",
       "      <th>f34</th>\n",
       "      <th>f35</th>\n",
       "      <th>f36</th>\n",
       "      <th>f37</th>\n",
       "      <th>f38</th>\n",
       "      <th>f39</th>\n",
       "      <th>f40</th>\n",
       "      <th>f106</th>\n",
       "      <th>f114</th>\n",
       "      <th>f118</th>\n",
       "    </tr>\n",
       "  </thead>\n",
       "  <tbody>\n",
       "    <tr>\n",
       "      <th>0</th>\n",
       "      <td>good</td>\n",
       "      <td>2014</td>\n",
       "      <td>1</td>\n",
       "      <td>29</td>\n",
       "      <td>1.0</td>\n",
       "      <td>0.0</td>\n",
       "      <td>1.0</td>\n",
       "      <td>0.0</td>\n",
       "      <td>0.0</td>\n",
       "      <td>0.0</td>\n",
       "      <td>...</td>\n",
       "      <td>0</td>\n",
       "      <td>0</td>\n",
       "      <td>0</td>\n",
       "      <td>0</td>\n",
       "      <td>0</td>\n",
       "      <td>0</td>\n",
       "      <td>0</td>\n",
       "      <td>0</td>\n",
       "      <td>0</td>\n",
       "      <td>0</td>\n",
       "    </tr>\n",
       "    <tr>\n",
       "      <th>1</th>\n",
       "      <td>no data</td>\n",
       "      <td>2014</td>\n",
       "      <td>4</td>\n",
       "      <td>7</td>\n",
       "      <td>0.0</td>\n",
       "      <td>1.0</td>\n",
       "      <td>0.0</td>\n",
       "      <td>1.0</td>\n",
       "      <td>0.0</td>\n",
       "      <td>0.0</td>\n",
       "      <td>...</td>\n",
       "      <td>0</td>\n",
       "      <td>0</td>\n",
       "      <td>0</td>\n",
       "      <td>0</td>\n",
       "      <td>0</td>\n",
       "      <td>0</td>\n",
       "      <td>0</td>\n",
       "      <td>0</td>\n",
       "      <td>0</td>\n",
       "      <td>0</td>\n",
       "    </tr>\n",
       "    <tr>\n",
       "      <th>2</th>\n",
       "      <td>satisfactory</td>\n",
       "      <td>2012</td>\n",
       "      <td>5</td>\n",
       "      <td>18</td>\n",
       "      <td>1.0</td>\n",
       "      <td>0.0</td>\n",
       "      <td>0.0</td>\n",
       "      <td>0.0</td>\n",
       "      <td>1.0</td>\n",
       "      <td>0.0</td>\n",
       "      <td>...</td>\n",
       "      <td>0</td>\n",
       "      <td>0</td>\n",
       "      <td>0</td>\n",
       "      <td>0</td>\n",
       "      <td>0</td>\n",
       "      <td>0</td>\n",
       "      <td>0</td>\n",
       "      <td>0</td>\n",
       "      <td>0</td>\n",
       "      <td>0</td>\n",
       "    </tr>\n",
       "    <tr>\n",
       "      <th>3</th>\n",
       "      <td>poor</td>\n",
       "      <td>2013</td>\n",
       "      <td>2</td>\n",
       "      <td>8</td>\n",
       "      <td>1.0</td>\n",
       "      <td>0.0</td>\n",
       "      <td>0.0</td>\n",
       "      <td>0.0</td>\n",
       "      <td>0.0</td>\n",
       "      <td>1.0</td>\n",
       "      <td>...</td>\n",
       "      <td>0</td>\n",
       "      <td>0</td>\n",
       "      <td>0</td>\n",
       "      <td>0</td>\n",
       "      <td>0</td>\n",
       "      <td>0</td>\n",
       "      <td>0</td>\n",
       "      <td>0</td>\n",
       "      <td>0</td>\n",
       "      <td>0</td>\n",
       "    </tr>\n",
       "    <tr>\n",
       "      <th>4</th>\n",
       "      <td>satisfactory</td>\n",
       "      <td>2014</td>\n",
       "      <td>1</td>\n",
       "      <td>10</td>\n",
       "      <td>1.0</td>\n",
       "      <td>0.0</td>\n",
       "      <td>0.0</td>\n",
       "      <td>0.0</td>\n",
       "      <td>0.0</td>\n",
       "      <td>0.0</td>\n",
       "      <td>...</td>\n",
       "      <td>0</td>\n",
       "      <td>0</td>\n",
       "      <td>0</td>\n",
       "      <td>0</td>\n",
       "      <td>0</td>\n",
       "      <td>0</td>\n",
       "      <td>0</td>\n",
       "      <td>0</td>\n",
       "      <td>0</td>\n",
       "      <td>0</td>\n",
       "    </tr>\n",
       "  </tbody>\n",
       "</table>\n",
       "<p>5 rows × 164 columns</p>\n",
       "</div>"
      ],
      "text/plain": [
       "           f152  year  month  day  Investment  OwnerOccupier  Juzhnoe Butovo  \\\n",
       "0          good  2014      1   29         1.0            0.0             1.0   \n",
       "1       no data  2014      4    7         0.0            1.0             0.0   \n",
       "2  satisfactory  2012      5   18         1.0            0.0             0.0   \n",
       "3          poor  2013      2    8         1.0            0.0             0.0   \n",
       "4  satisfactory  2014      1   10         1.0            0.0             0.0   \n",
       "\n",
       "   Poselenie Filimonkovskoe  Lomonosovskoe  Juzhnoe Tushino  ...  f34  f35  \\\n",
       "0                       0.0            0.0              0.0  ...    0    0   \n",
       "1                       1.0            0.0              0.0  ...    0    0   \n",
       "2                       0.0            1.0              0.0  ...    0    0   \n",
       "3                       0.0            0.0              1.0  ...    0    0   \n",
       "4                       0.0            0.0              0.0  ...    0    0   \n",
       "\n",
       "   f36  f37  f38  f39  f40  f106  f114  f118  \n",
       "0    0    0    0    0    0     0     0     0  \n",
       "1    0    0    0    0    0     0     0     0  \n",
       "2    0    0    0    0    0     0     0     0  \n",
       "3    0    0    0    0    0     0     0     0  \n",
       "4    0    0    0    0    0     0     0     0  \n",
       "\n",
       "[5 rows x 164 columns]"
      ]
     },
     "execution_count": 25,
     "metadata": {},
     "output_type": "execute_result"
    }
   ],
   "source": [
    "df[cat_index].head()"
   ]
  },
  {
   "cell_type": "markdown",
   "metadata": {},
   "source": [
    "Признак f152 – упорядоченный -> кодируем с помощью range"
   ]
  },
  {
   "cell_type": "code",
   "execution_count": 26,
   "metadata": {},
   "outputs": [
    {
     "data": {
      "text/plain": [
       "array(['good', 'no data', 'satisfactory', 'poor', 'excellent'],\n",
       "      dtype=object)"
      ]
     },
     "execution_count": 26,
     "metadata": {},
     "output_type": "execute_result"
    }
   ],
   "source": [
    "df['f152'].unique()"
   ]
  },
  {
   "cell_type": "code",
   "execution_count": 27,
   "metadata": {},
   "outputs": [],
   "source": [
    "f152_encoding = {'f152': dict(zip(['no data', 'poor', 'satisfactory', 'good', 'excellent'], range(5)))}\n",
    "df = df.replace(f152_encoding)\n",
    "cat_index = cat_index[1:] + cat_index[:1]"
   ]
  },
  {
   "cell_type": "code",
   "execution_count": 28,
   "metadata": {},
   "outputs": [
    {
     "data": {
      "text/html": [
       "<div>\n",
       "<style scoped>\n",
       "    .dataframe tbody tr th:only-of-type {\n",
       "        vertical-align: middle;\n",
       "    }\n",
       "\n",
       "    .dataframe tbody tr th {\n",
       "        vertical-align: top;\n",
       "    }\n",
       "\n",
       "    .dataframe thead th {\n",
       "        text-align: right;\n",
       "    }\n",
       "</style>\n",
       "<table border=\"1\" class=\"dataframe\">\n",
       "  <thead>\n",
       "    <tr style=\"text-align: right;\">\n",
       "      <th></th>\n",
       "      <th>year</th>\n",
       "      <th>month</th>\n",
       "      <th>day</th>\n",
       "      <th>Investment</th>\n",
       "      <th>OwnerOccupier</th>\n",
       "      <th>Juzhnoe Butovo</th>\n",
       "      <th>Poselenie Filimonkovskoe</th>\n",
       "      <th>Lomonosovskoe</th>\n",
       "      <th>Juzhnoe Tushino</th>\n",
       "      <th>Ochakovo-Matveevskoe</th>\n",
       "      <th>...</th>\n",
       "      <th>f35</th>\n",
       "      <th>f36</th>\n",
       "      <th>f37</th>\n",
       "      <th>f38</th>\n",
       "      <th>f39</th>\n",
       "      <th>f40</th>\n",
       "      <th>f106</th>\n",
       "      <th>f114</th>\n",
       "      <th>f118</th>\n",
       "      <th>f152</th>\n",
       "    </tr>\n",
       "  </thead>\n",
       "  <tbody>\n",
       "    <tr>\n",
       "      <th>0</th>\n",
       "      <td>2014</td>\n",
       "      <td>1</td>\n",
       "      <td>29</td>\n",
       "      <td>1.0</td>\n",
       "      <td>0.0</td>\n",
       "      <td>1.0</td>\n",
       "      <td>0.0</td>\n",
       "      <td>0.0</td>\n",
       "      <td>0.0</td>\n",
       "      <td>0.0</td>\n",
       "      <td>...</td>\n",
       "      <td>0</td>\n",
       "      <td>0</td>\n",
       "      <td>0</td>\n",
       "      <td>0</td>\n",
       "      <td>0</td>\n",
       "      <td>0</td>\n",
       "      <td>0</td>\n",
       "      <td>0</td>\n",
       "      <td>0</td>\n",
       "      <td>3</td>\n",
       "    </tr>\n",
       "    <tr>\n",
       "      <th>1</th>\n",
       "      <td>2014</td>\n",
       "      <td>4</td>\n",
       "      <td>7</td>\n",
       "      <td>0.0</td>\n",
       "      <td>1.0</td>\n",
       "      <td>0.0</td>\n",
       "      <td>1.0</td>\n",
       "      <td>0.0</td>\n",
       "      <td>0.0</td>\n",
       "      <td>0.0</td>\n",
       "      <td>...</td>\n",
       "      <td>0</td>\n",
       "      <td>0</td>\n",
       "      <td>0</td>\n",
       "      <td>0</td>\n",
       "      <td>0</td>\n",
       "      <td>0</td>\n",
       "      <td>0</td>\n",
       "      <td>0</td>\n",
       "      <td>0</td>\n",
       "      <td>0</td>\n",
       "    </tr>\n",
       "    <tr>\n",
       "      <th>2</th>\n",
       "      <td>2012</td>\n",
       "      <td>5</td>\n",
       "      <td>18</td>\n",
       "      <td>1.0</td>\n",
       "      <td>0.0</td>\n",
       "      <td>0.0</td>\n",
       "      <td>0.0</td>\n",
       "      <td>1.0</td>\n",
       "      <td>0.0</td>\n",
       "      <td>0.0</td>\n",
       "      <td>...</td>\n",
       "      <td>0</td>\n",
       "      <td>0</td>\n",
       "      <td>0</td>\n",
       "      <td>0</td>\n",
       "      <td>0</td>\n",
       "      <td>0</td>\n",
       "      <td>0</td>\n",
       "      <td>0</td>\n",
       "      <td>0</td>\n",
       "      <td>2</td>\n",
       "    </tr>\n",
       "    <tr>\n",
       "      <th>3</th>\n",
       "      <td>2013</td>\n",
       "      <td>2</td>\n",
       "      <td>8</td>\n",
       "      <td>1.0</td>\n",
       "      <td>0.0</td>\n",
       "      <td>0.0</td>\n",
       "      <td>0.0</td>\n",
       "      <td>0.0</td>\n",
       "      <td>1.0</td>\n",
       "      <td>0.0</td>\n",
       "      <td>...</td>\n",
       "      <td>0</td>\n",
       "      <td>0</td>\n",
       "      <td>0</td>\n",
       "      <td>0</td>\n",
       "      <td>0</td>\n",
       "      <td>0</td>\n",
       "      <td>0</td>\n",
       "      <td>0</td>\n",
       "      <td>0</td>\n",
       "      <td>1</td>\n",
       "    </tr>\n",
       "    <tr>\n",
       "      <th>4</th>\n",
       "      <td>2014</td>\n",
       "      <td>1</td>\n",
       "      <td>10</td>\n",
       "      <td>1.0</td>\n",
       "      <td>0.0</td>\n",
       "      <td>0.0</td>\n",
       "      <td>0.0</td>\n",
       "      <td>0.0</td>\n",
       "      <td>0.0</td>\n",
       "      <td>1.0</td>\n",
       "      <td>...</td>\n",
       "      <td>0</td>\n",
       "      <td>0</td>\n",
       "      <td>0</td>\n",
       "      <td>0</td>\n",
       "      <td>0</td>\n",
       "      <td>0</td>\n",
       "      <td>0</td>\n",
       "      <td>0</td>\n",
       "      <td>0</td>\n",
       "      <td>2</td>\n",
       "    </tr>\n",
       "  </tbody>\n",
       "</table>\n",
       "<p>5 rows × 164 columns</p>\n",
       "</div>"
      ],
      "text/plain": [
       "   year  month  day  Investment  OwnerOccupier  Juzhnoe Butovo  \\\n",
       "0  2014      1   29         1.0            0.0             1.0   \n",
       "1  2014      4    7         0.0            1.0             0.0   \n",
       "2  2012      5   18         1.0            0.0             0.0   \n",
       "3  2013      2    8         1.0            0.0             0.0   \n",
       "4  2014      1   10         1.0            0.0             0.0   \n",
       "\n",
       "   Poselenie Filimonkovskoe  Lomonosovskoe  Juzhnoe Tushino  \\\n",
       "0                       0.0            0.0              0.0   \n",
       "1                       1.0            0.0              0.0   \n",
       "2                       0.0            1.0              0.0   \n",
       "3                       0.0            0.0              1.0   \n",
       "4                       0.0            0.0              0.0   \n",
       "\n",
       "   Ochakovo-Matveevskoe  ...  f35  f36  f37  f38  f39  f40  f106  f114  f118  \\\n",
       "0                   0.0  ...    0    0    0    0    0    0     0     0     0   \n",
       "1                   0.0  ...    0    0    0    0    0    0     0     0     0   \n",
       "2                   0.0  ...    0    0    0    0    0    0     0     0     0   \n",
       "3                   0.0  ...    0    0    0    0    0    0     0     0     0   \n",
       "4                   1.0  ...    0    0    0    0    0    0     0     0     0   \n",
       "\n",
       "   f152  \n",
       "0     3  \n",
       "1     0  \n",
       "2     2  \n",
       "3     1  \n",
       "4     2  \n",
       "\n",
       "[5 rows x 164 columns]"
      ]
     },
     "execution_count": 28,
     "metadata": {},
     "output_type": "execute_result"
    }
   ],
   "source": [
    "df[cat_index].head()"
   ]
  },
  {
   "cell_type": "markdown",
   "metadata": {},
   "source": [
    "### Обрабатываем пропуски"
   ]
  },
  {
   "cell_type": "markdown",
   "metadata": {},
   "source": [
    "Пропуски могут быть только в столбцах типа 'float' (из-за np.nan), но некоторые из них на самом деле могут содержать только целочисленные значения.\n",
    "\n",
    "Определим такие столбцы."
   ]
  },
  {
   "cell_type": "code",
   "execution_count": 30,
   "metadata": {},
   "outputs": [
    {
     "data": {
      "text/plain": [
       "Index(['f3', 'f4', 'f5', 'f6', 'f7', 'f8', 'f9', 'f10', 'f18', 'f21', 'f24',\n",
       "       'f68', 'f69', 'f70', 'f71', 'f72', 'f73', 'f74', 'f75', 'f76', 'f77',\n",
       "       'f78', 'f79', 'f80', 'f81', 'f82', 'f83', 'f87', 'f88', 'f97', 'f98',\n",
       "       'f99', 'f160', 'f161', 'f162', 'f183', 'f184', 'f185', 'f206', 'f207',\n",
       "       'f208', 'f229', 'f230', 'f231', 'f252', 'f253', 'f254', 'f269', 'f275',\n",
       "       'f276', 'f277'],\n",
       "      dtype='object')"
      ]
     },
     "execution_count": 30,
     "metadata": {},
     "output_type": "execute_result"
    }
   ],
   "source": [
    "nan_columns = df.columns[df.isna().any()]\n",
    "nan_columns"
   ]
  },
  {
   "cell_type": "code",
   "execution_count": 51,
   "metadata": {},
   "outputs": [
    {
     "data": {
      "text/html": [
       "<div>\n",
       "<style scoped>\n",
       "    .dataframe tbody tr th:only-of-type {\n",
       "        vertical-align: middle;\n",
       "    }\n",
       "\n",
       "    .dataframe tbody tr th {\n",
       "        vertical-align: top;\n",
       "    }\n",
       "\n",
       "    .dataframe thead th {\n",
       "        text-align: right;\n",
       "    }\n",
       "</style>\n",
       "<table border=\"1\" class=\"dataframe\">\n",
       "  <thead>\n",
       "    <tr style=\"text-align: right;\">\n",
       "      <th></th>\n",
       "      <th>f3</th>\n",
       "      <th>f4</th>\n",
       "      <th>f5</th>\n",
       "      <th>f6</th>\n",
       "      <th>f7</th>\n",
       "      <th>f8</th>\n",
       "      <th>f9</th>\n",
       "      <th>f10</th>\n",
       "      <th>f18</th>\n",
       "      <th>f21</th>\n",
       "      <th>...</th>\n",
       "      <th>f229</th>\n",
       "      <th>f230</th>\n",
       "      <th>f231</th>\n",
       "      <th>f252</th>\n",
       "      <th>f253</th>\n",
       "      <th>f254</th>\n",
       "      <th>f269</th>\n",
       "      <th>f275</th>\n",
       "      <th>f276</th>\n",
       "      <th>f277</th>\n",
       "    </tr>\n",
       "  </thead>\n",
       "  <tbody>\n",
       "    <tr>\n",
       "      <th>0</th>\n",
       "      <td>38.0</td>\n",
       "      <td>7.0</td>\n",
       "      <td>10.0</td>\n",
       "      <td>1.0</td>\n",
       "      <td>2001.0</td>\n",
       "      <td>2.0</td>\n",
       "      <td>11.0</td>\n",
       "      <td>2.0</td>\n",
       "      <td>11926.0</td>\n",
       "      <td>24750.0</td>\n",
       "      <td>...</td>\n",
       "      <td>776.92</td>\n",
       "      <td>1230.77</td>\n",
       "      <td>1003.85</td>\n",
       "      <td>776.92</td>\n",
       "      <td>1230.77</td>\n",
       "      <td>1003.85</td>\n",
       "      <td>4.94</td>\n",
       "      <td>725.00</td>\n",
       "      <td>1175.00</td>\n",
       "      <td>950.00</td>\n",
       "    </tr>\n",
       "    <tr>\n",
       "      <th>1</th>\n",
       "      <td>NaN</td>\n",
       "      <td>2.0</td>\n",
       "      <td>1.0</td>\n",
       "      <td>4.0</td>\n",
       "      <td>NaN</td>\n",
       "      <td>2.0</td>\n",
       "      <td>10.0</td>\n",
       "      <td>NaN</td>\n",
       "      <td>NaN</td>\n",
       "      <td>NaN</td>\n",
       "      <td>...</td>\n",
       "      <td>NaN</td>\n",
       "      <td>NaN</td>\n",
       "      <td>NaN</td>\n",
       "      <td>NaN</td>\n",
       "      <td>NaN</td>\n",
       "      <td>NaN</td>\n",
       "      <td>3.54</td>\n",
       "      <td>600.00</td>\n",
       "      <td>1000.00</td>\n",
       "      <td>800.00</td>\n",
       "    </tr>\n",
       "    <tr>\n",
       "      <th>2</th>\n",
       "      <td>16.0</td>\n",
       "      <td>2.0</td>\n",
       "      <td>NaN</td>\n",
       "      <td>NaN</td>\n",
       "      <td>NaN</td>\n",
       "      <td>NaN</td>\n",
       "      <td>NaN</td>\n",
       "      <td>NaN</td>\n",
       "      <td>3091.0</td>\n",
       "      <td>8359.0</td>\n",
       "      <td>...</td>\n",
       "      <td>748.31</td>\n",
       "      <td>1245.76</td>\n",
       "      <td>997.03</td>\n",
       "      <td>764.97</td>\n",
       "      <td>1271.57</td>\n",
       "      <td>1018.27</td>\n",
       "      <td>5.81</td>\n",
       "      <td>776.46</td>\n",
       "      <td>1293.67</td>\n",
       "      <td>1035.06</td>\n",
       "    </tr>\n",
       "    <tr>\n",
       "      <th>3</th>\n",
       "      <td>43.0</td>\n",
       "      <td>1.0</td>\n",
       "      <td>NaN</td>\n",
       "      <td>NaN</td>\n",
       "      <td>NaN</td>\n",
       "      <td>NaN</td>\n",
       "      <td>NaN</td>\n",
       "      <td>NaN</td>\n",
       "      <td>2707.0</td>\n",
       "      <td>6340.0</td>\n",
       "      <td>...</td>\n",
       "      <td>725.93</td>\n",
       "      <td>1240.74</td>\n",
       "      <td>983.33</td>\n",
       "      <td>688.24</td>\n",
       "      <td>1169.12</td>\n",
       "      <td>928.68</td>\n",
       "      <td>8.68</td>\n",
       "      <td>722.99</td>\n",
       "      <td>1211.23</td>\n",
       "      <td>967.11</td>\n",
       "    </tr>\n",
       "    <tr>\n",
       "      <th>4</th>\n",
       "      <td>28.0</td>\n",
       "      <td>3.0</td>\n",
       "      <td>5.0</td>\n",
       "      <td>2.0</td>\n",
       "      <td>1960.0</td>\n",
       "      <td>2.0</td>\n",
       "      <td>5.0</td>\n",
       "      <td>NaN</td>\n",
       "      <td>1830.0</td>\n",
       "      <td>6484.0</td>\n",
       "      <td>...</td>\n",
       "      <td>746.15</td>\n",
       "      <td>1230.77</td>\n",
       "      <td>988.46</td>\n",
       "      <td>811.90</td>\n",
       "      <td>1369.05</td>\n",
       "      <td>1090.48</td>\n",
       "      <td>11.27</td>\n",
       "      <td>752.08</td>\n",
       "      <td>1260.42</td>\n",
       "      <td>1006.25</td>\n",
       "    </tr>\n",
       "  </tbody>\n",
       "</table>\n",
       "<p>5 rows × 51 columns</p>\n",
       "</div>"
      ],
      "text/plain": [
       "     f3   f4    f5   f6      f7   f8    f9  f10      f18      f21  ...  \\\n",
       "0  38.0  7.0  10.0  1.0  2001.0  2.0  11.0  2.0  11926.0  24750.0  ...   \n",
       "1   NaN  2.0   1.0  4.0     NaN  2.0  10.0  NaN      NaN      NaN  ...   \n",
       "2  16.0  2.0   NaN  NaN     NaN  NaN   NaN  NaN   3091.0   8359.0  ...   \n",
       "3  43.0  1.0   NaN  NaN     NaN  NaN   NaN  NaN   2707.0   6340.0  ...   \n",
       "4  28.0  3.0   5.0  2.0  1960.0  2.0   5.0  NaN   1830.0   6484.0  ...   \n",
       "\n",
       "     f229     f230     f231    f252     f253     f254   f269    f275     f276  \\\n",
       "0  776.92  1230.77  1003.85  776.92  1230.77  1003.85   4.94  725.00  1175.00   \n",
       "1     NaN      NaN      NaN     NaN      NaN      NaN   3.54  600.00  1000.00   \n",
       "2  748.31  1245.76   997.03  764.97  1271.57  1018.27   5.81  776.46  1293.67   \n",
       "3  725.93  1240.74   983.33  688.24  1169.12   928.68   8.68  722.99  1211.23   \n",
       "4  746.15  1230.77   988.46  811.90  1369.05  1090.48  11.27  752.08  1260.42   \n",
       "\n",
       "      f277  \n",
       "0   950.00  \n",
       "1   800.00  \n",
       "2  1035.06  \n",
       "3   967.11  \n",
       "4  1006.25  \n",
       "\n",
       "[5 rows x 51 columns]"
      ]
     },
     "execution_count": 51,
     "metadata": {},
     "output_type": "execute_result"
    }
   ],
   "source": [
    "df[nan_columns].head()"
   ]
  },
  {
   "cell_type": "code",
   "execution_count": 32,
   "metadata": {},
   "outputs": [
    {
     "data": {
      "text/plain": [
       "(f3    True\n",
       " f4    True\n",
       " f5    True\n",
       " f6    True\n",
       " f7    True\n",
       " dtype: bool,\n",
       " f254    False\n",
       " f269    False\n",
       " f275    False\n",
       " f276    False\n",
       " f277    False\n",
       " dtype: bool)"
      ]
     },
     "execution_count": 32,
     "metadata": {},
     "output_type": "execute_result"
    }
   ],
   "source": [
    "nan_is_int = df[nan_columns].replace({np.nan: 0}).applymap(lambda x: x.is_integer()).all()\n",
    "nan_is_int[:5], nan_is_int[-5:]"
   ]
  },
  {
   "cell_type": "code",
   "execution_count": 46,
   "metadata": {},
   "outputs": [
    {
     "name": "stdout",
     "output_type": "stream",
     "text": [
      "False: Index(['f87', 'f88', 'f97', 'f98', 'f160', 'f161', 'f162', 'f183', 'f184',\n",
      "       'f185', 'f206', 'f207', 'f208', 'f229', 'f230', 'f231', 'f252', 'f253',\n",
      "       'f254', 'f269', 'f275', 'f276', 'f277'],\n",
      "      dtype='object')\n",
      "True: Index(['f3', 'f4', 'f5', 'f6', 'f7', 'f8', 'f9', 'f10', 'f18', 'f21', 'f24',\n",
      "       'f68', 'f69', 'f70', 'f71', 'f72', 'f73', 'f74', 'f75', 'f76', 'f77',\n",
      "       'f78', 'f79', 'f80', 'f81', 'f82', 'f83', 'f99'],\n",
      "      dtype='object')\n"
     ]
    }
   ],
   "source": [
    "nan_groups = nan_is_int.groupby(nan_is_int).groups  # Groups of \"true\" integers and floats\n",
    "for k, v in nan_groups.items():\n",
    "    print(f\"{k}: {v}\")"
   ]
  },
  {
   "cell_type": "code",
   "execution_count": 47,
   "metadata": {},
   "outputs": [],
   "source": [
    "df_floats, df_ints = df[nan_groups[False]], df[nan_groups[True]]"
   ]
  },
  {
   "cell_type": "code",
   "execution_count": 48,
   "metadata": {},
   "outputs": [
    {
     "data": {
      "text/html": [
       "<div>\n",
       "<style scoped>\n",
       "    .dataframe tbody tr th:only-of-type {\n",
       "        vertical-align: middle;\n",
       "    }\n",
       "\n",
       "    .dataframe tbody tr th {\n",
       "        vertical-align: top;\n",
       "    }\n",
       "\n",
       "    .dataframe thead th {\n",
       "        text-align: right;\n",
       "    }\n",
       "</style>\n",
       "<table border=\"1\" class=\"dataframe\">\n",
       "  <thead>\n",
       "    <tr style=\"text-align: right;\">\n",
       "      <th></th>\n",
       "      <th>f87</th>\n",
       "      <th>f88</th>\n",
       "      <th>f97</th>\n",
       "      <th>f98</th>\n",
       "      <th>f160</th>\n",
       "      <th>f161</th>\n",
       "      <th>f162</th>\n",
       "      <th>f183</th>\n",
       "      <th>f184</th>\n",
       "      <th>f185</th>\n",
       "      <th>...</th>\n",
       "      <th>f229</th>\n",
       "      <th>f230</th>\n",
       "      <th>f231</th>\n",
       "      <th>f252</th>\n",
       "      <th>f253</th>\n",
       "      <th>f254</th>\n",
       "      <th>f269</th>\n",
       "      <th>f275</th>\n",
       "      <th>f276</th>\n",
       "      <th>f277</th>\n",
       "    </tr>\n",
       "  </thead>\n",
       "  <tbody>\n",
       "    <tr>\n",
       "      <th>0</th>\n",
       "      <td>10.311668</td>\n",
       "      <td>0.859306</td>\n",
       "      <td>3.547837</td>\n",
       "      <td>42.574042</td>\n",
       "      <td>1000.00</td>\n",
       "      <td>1500.00</td>\n",
       "      <td>1250.0</td>\n",
       "      <td>1000.00</td>\n",
       "      <td>1500.00</td>\n",
       "      <td>1250.00</td>\n",
       "      <td>...</td>\n",
       "      <td>776.92</td>\n",
       "      <td>1230.77</td>\n",
       "      <td>1003.85</td>\n",
       "      <td>776.92</td>\n",
       "      <td>1230.77</td>\n",
       "      <td>1003.85</td>\n",
       "      <td>4.94</td>\n",
       "      <td>725.00</td>\n",
       "      <td>1175.00</td>\n",
       "      <td>950.00</td>\n",
       "    </tr>\n",
       "    <tr>\n",
       "      <th>1</th>\n",
       "      <td>151.852635</td>\n",
       "      <td>12.654386</td>\n",
       "      <td>14.667819</td>\n",
       "      <td>176.013824</td>\n",
       "      <td>NaN</td>\n",
       "      <td>NaN</td>\n",
       "      <td>NaN</td>\n",
       "      <td>NaN</td>\n",
       "      <td>NaN</td>\n",
       "      <td>NaN</td>\n",
       "      <td>...</td>\n",
       "      <td>NaN</td>\n",
       "      <td>NaN</td>\n",
       "      <td>NaN</td>\n",
       "      <td>NaN</td>\n",
       "      <td>NaN</td>\n",
       "      <td>NaN</td>\n",
       "      <td>3.54</td>\n",
       "      <td>600.00</td>\n",
       "      <td>1000.00</td>\n",
       "      <td>800.00</td>\n",
       "    </tr>\n",
       "    <tr>\n",
       "      <th>2</th>\n",
       "      <td>18.847768</td>\n",
       "      <td>1.570647</td>\n",
       "      <td>5.248798</td>\n",
       "      <td>62.985572</td>\n",
       "      <td>883.33</td>\n",
       "      <td>1416.67</td>\n",
       "      <td>1150.0</td>\n",
       "      <td>916.67</td>\n",
       "      <td>1466.67</td>\n",
       "      <td>1191.67</td>\n",
       "      <td>...</td>\n",
       "      <td>748.31</td>\n",
       "      <td>1245.76</td>\n",
       "      <td>997.03</td>\n",
       "      <td>764.97</td>\n",
       "      <td>1271.57</td>\n",
       "      <td>1018.27</td>\n",
       "      <td>5.81</td>\n",
       "      <td>776.46</td>\n",
       "      <td>1293.67</td>\n",
       "      <td>1035.06</td>\n",
       "    </tr>\n",
       "    <tr>\n",
       "      <th>3</th>\n",
       "      <td>10.015733</td>\n",
       "      <td>0.834644</td>\n",
       "      <td>3.701668</td>\n",
       "      <td>44.420019</td>\n",
       "      <td>625.00</td>\n",
       "      <td>1125.00</td>\n",
       "      <td>875.0</td>\n",
       "      <td>645.45</td>\n",
       "      <td>1136.36</td>\n",
       "      <td>890.91</td>\n",
       "      <td>...</td>\n",
       "      <td>725.93</td>\n",
       "      <td>1240.74</td>\n",
       "      <td>983.33</td>\n",
       "      <td>688.24</td>\n",
       "      <td>1169.12</td>\n",
       "      <td>928.68</td>\n",
       "      <td>8.68</td>\n",
       "      <td>722.99</td>\n",
       "      <td>1211.23</td>\n",
       "      <td>967.11</td>\n",
       "    </tr>\n",
       "    <tr>\n",
       "      <th>4</th>\n",
       "      <td>6.794893</td>\n",
       "      <td>0.566241</td>\n",
       "      <td>1.842696</td>\n",
       "      <td>22.112350</td>\n",
       "      <td>NaN</td>\n",
       "      <td>NaN</td>\n",
       "      <td>NaN</td>\n",
       "      <td>NaN</td>\n",
       "      <td>NaN</td>\n",
       "      <td>NaN</td>\n",
       "      <td>...</td>\n",
       "      <td>746.15</td>\n",
       "      <td>1230.77</td>\n",
       "      <td>988.46</td>\n",
       "      <td>811.90</td>\n",
       "      <td>1369.05</td>\n",
       "      <td>1090.48</td>\n",
       "      <td>11.27</td>\n",
       "      <td>752.08</td>\n",
       "      <td>1260.42</td>\n",
       "      <td>1006.25</td>\n",
       "    </tr>\n",
       "  </tbody>\n",
       "</table>\n",
       "<p>5 rows × 23 columns</p>\n",
       "</div>"
      ],
      "text/plain": [
       "          f87        f88        f97         f98     f160     f161    f162  \\\n",
       "0   10.311668   0.859306   3.547837   42.574042  1000.00  1500.00  1250.0   \n",
       "1  151.852635  12.654386  14.667819  176.013824      NaN      NaN     NaN   \n",
       "2   18.847768   1.570647   5.248798   62.985572   883.33  1416.67  1150.0   \n",
       "3   10.015733   0.834644   3.701668   44.420019   625.00  1125.00   875.0   \n",
       "4    6.794893   0.566241   1.842696   22.112350      NaN      NaN     NaN   \n",
       "\n",
       "      f183     f184     f185  ...    f229     f230     f231    f252     f253  \\\n",
       "0  1000.00  1500.00  1250.00  ...  776.92  1230.77  1003.85  776.92  1230.77   \n",
       "1      NaN      NaN      NaN  ...     NaN      NaN      NaN     NaN      NaN   \n",
       "2   916.67  1466.67  1191.67  ...  748.31  1245.76   997.03  764.97  1271.57   \n",
       "3   645.45  1136.36   890.91  ...  725.93  1240.74   983.33  688.24  1169.12   \n",
       "4      NaN      NaN      NaN  ...  746.15  1230.77   988.46  811.90  1369.05   \n",
       "\n",
       "      f254   f269    f275     f276     f277  \n",
       "0  1003.85   4.94  725.00  1175.00   950.00  \n",
       "1      NaN   3.54  600.00  1000.00   800.00  \n",
       "2  1018.27   5.81  776.46  1293.67  1035.06  \n",
       "3   928.68   8.68  722.99  1211.23   967.11  \n",
       "4  1090.48  11.27  752.08  1260.42  1006.25  \n",
       "\n",
       "[5 rows x 23 columns]"
      ]
     },
     "execution_count": 48,
     "metadata": {},
     "output_type": "execute_result"
    }
   ],
   "source": [
    "df_floats.head()"
   ]
  },
  {
   "cell_type": "code",
   "execution_count": 49,
   "metadata": {},
   "outputs": [
    {
     "data": {
      "text/html": [
       "<div>\n",
       "<style scoped>\n",
       "    .dataframe tbody tr th:only-of-type {\n",
       "        vertical-align: middle;\n",
       "    }\n",
       "\n",
       "    .dataframe tbody tr th {\n",
       "        vertical-align: top;\n",
       "    }\n",
       "\n",
       "    .dataframe thead th {\n",
       "        text-align: right;\n",
       "    }\n",
       "</style>\n",
       "<table border=\"1\" class=\"dataframe\">\n",
       "  <thead>\n",
       "    <tr style=\"text-align: right;\">\n",
       "      <th></th>\n",
       "      <th>f3</th>\n",
       "      <th>f4</th>\n",
       "      <th>f5</th>\n",
       "      <th>f6</th>\n",
       "      <th>f7</th>\n",
       "      <th>f8</th>\n",
       "      <th>f9</th>\n",
       "      <th>f10</th>\n",
       "      <th>f18</th>\n",
       "      <th>f21</th>\n",
       "      <th>...</th>\n",
       "      <th>f75</th>\n",
       "      <th>f76</th>\n",
       "      <th>f77</th>\n",
       "      <th>f78</th>\n",
       "      <th>f79</th>\n",
       "      <th>f80</th>\n",
       "      <th>f81</th>\n",
       "      <th>f82</th>\n",
       "      <th>f83</th>\n",
       "      <th>f99</th>\n",
       "    </tr>\n",
       "  </thead>\n",
       "  <tbody>\n",
       "    <tr>\n",
       "      <th>0</th>\n",
       "      <td>38.0</td>\n",
       "      <td>7.0</td>\n",
       "      <td>10.0</td>\n",
       "      <td>1.0</td>\n",
       "      <td>2001.0</td>\n",
       "      <td>2.0</td>\n",
       "      <td>11.0</td>\n",
       "      <td>2.0</td>\n",
       "      <td>11926.0</td>\n",
       "      <td>24750.0</td>\n",
       "      <td>...</td>\n",
       "      <td>1.0</td>\n",
       "      <td>84.0</td>\n",
       "      <td>5.0</td>\n",
       "      <td>1680.0</td>\n",
       "      <td>34.0</td>\n",
       "      <td>299.0</td>\n",
       "      <td>439.0</td>\n",
       "      <td>109.0</td>\n",
       "      <td>799.0</td>\n",
       "      <td>47.0</td>\n",
       "    </tr>\n",
       "    <tr>\n",
       "      <th>1</th>\n",
       "      <td>NaN</td>\n",
       "      <td>2.0</td>\n",
       "      <td>1.0</td>\n",
       "      <td>4.0</td>\n",
       "      <td>NaN</td>\n",
       "      <td>2.0</td>\n",
       "      <td>10.0</td>\n",
       "      <td>NaN</td>\n",
       "      <td>NaN</td>\n",
       "      <td>NaN</td>\n",
       "      <td>...</td>\n",
       "      <td>NaN</td>\n",
       "      <td>NaN</td>\n",
       "      <td>NaN</td>\n",
       "      <td>NaN</td>\n",
       "      <td>NaN</td>\n",
       "      <td>NaN</td>\n",
       "      <td>NaN</td>\n",
       "      <td>NaN</td>\n",
       "      <td>NaN</td>\n",
       "      <td>24.0</td>\n",
       "    </tr>\n",
       "    <tr>\n",
       "      <th>2</th>\n",
       "      <td>16.0</td>\n",
       "      <td>2.0</td>\n",
       "      <td>NaN</td>\n",
       "      <td>NaN</td>\n",
       "      <td>NaN</td>\n",
       "      <td>NaN</td>\n",
       "      <td>NaN</td>\n",
       "      <td>NaN</td>\n",
       "      <td>3091.0</td>\n",
       "      <td>8359.0</td>\n",
       "      <td>...</td>\n",
       "      <td>0.0</td>\n",
       "      <td>0.0</td>\n",
       "      <td>0.0</td>\n",
       "      <td>210.0</td>\n",
       "      <td>0.0</td>\n",
       "      <td>0.0</td>\n",
       "      <td>153.0</td>\n",
       "      <td>33.0</td>\n",
       "      <td>24.0</td>\n",
       "      <td>42.0</td>\n",
       "    </tr>\n",
       "    <tr>\n",
       "      <th>3</th>\n",
       "      <td>43.0</td>\n",
       "      <td>1.0</td>\n",
       "      <td>NaN</td>\n",
       "      <td>NaN</td>\n",
       "      <td>NaN</td>\n",
       "      <td>NaN</td>\n",
       "      <td>NaN</td>\n",
       "      <td>NaN</td>\n",
       "      <td>2707.0</td>\n",
       "      <td>6340.0</td>\n",
       "      <td>...</td>\n",
       "      <td>0.0</td>\n",
       "      <td>0.0</td>\n",
       "      <td>0.0</td>\n",
       "      <td>331.0</td>\n",
       "      <td>3.0</td>\n",
       "      <td>4.0</td>\n",
       "      <td>211.0</td>\n",
       "      <td>93.0</td>\n",
       "      <td>20.0</td>\n",
       "      <td>4.0</td>\n",
       "    </tr>\n",
       "    <tr>\n",
       "      <th>4</th>\n",
       "      <td>28.0</td>\n",
       "      <td>3.0</td>\n",
       "      <td>5.0</td>\n",
       "      <td>2.0</td>\n",
       "      <td>1960.0</td>\n",
       "      <td>2.0</td>\n",
       "      <td>5.0</td>\n",
       "      <td>NaN</td>\n",
       "      <td>1830.0</td>\n",
       "      <td>6484.0</td>\n",
       "      <td>...</td>\n",
       "      <td>0.0</td>\n",
       "      <td>0.0</td>\n",
       "      <td>0.0</td>\n",
       "      <td>299.0</td>\n",
       "      <td>0.0</td>\n",
       "      <td>2.0</td>\n",
       "      <td>134.0</td>\n",
       "      <td>106.0</td>\n",
       "      <td>57.0</td>\n",
       "      <td>33.0</td>\n",
       "    </tr>\n",
       "  </tbody>\n",
       "</table>\n",
       "<p>5 rows × 28 columns</p>\n",
       "</div>"
      ],
      "text/plain": [
       "     f3   f4    f5   f6      f7   f8    f9  f10      f18      f21  ...  f75  \\\n",
       "0  38.0  7.0  10.0  1.0  2001.0  2.0  11.0  2.0  11926.0  24750.0  ...  1.0   \n",
       "1   NaN  2.0   1.0  4.0     NaN  2.0  10.0  NaN      NaN      NaN  ...  NaN   \n",
       "2  16.0  2.0   NaN  NaN     NaN  NaN   NaN  NaN   3091.0   8359.0  ...  0.0   \n",
       "3  43.0  1.0   NaN  NaN     NaN  NaN   NaN  NaN   2707.0   6340.0  ...  0.0   \n",
       "4  28.0  3.0   5.0  2.0  1960.0  2.0   5.0  NaN   1830.0   6484.0  ...  0.0   \n",
       "\n",
       "    f76  f77     f78   f79    f80    f81    f82    f83   f99  \n",
       "0  84.0  5.0  1680.0  34.0  299.0  439.0  109.0  799.0  47.0  \n",
       "1   NaN  NaN     NaN   NaN    NaN    NaN    NaN    NaN  24.0  \n",
       "2   0.0  0.0   210.0   0.0    0.0  153.0   33.0   24.0  42.0  \n",
       "3   0.0  0.0   331.0   3.0    4.0  211.0   93.0   20.0   4.0  \n",
       "4   0.0  0.0   299.0   0.0    2.0  134.0  106.0   57.0  33.0  \n",
       "\n",
       "[5 rows x 28 columns]"
      ]
     },
     "execution_count": 49,
     "metadata": {},
     "output_type": "execute_result"
    }
   ],
   "source": [
    "df_ints.head()"
   ]
  },
  {
   "cell_type": "markdown",
   "metadata": {},
   "source": [
    "Для экономии времени будем восстанавливать пропуски следующим образом:  \n",
    "- 'int' -> median (при KNN получается многократно дольше + нужно приводить обратно к целым значениям)\n",
    "- 'float' -> KNN"
   ]
  },
  {
   "cell_type": "code",
   "execution_count": 50,
   "metadata": {},
   "outputs": [],
   "source": [
    "from sklearn.impute import SimpleImputer, KNNImputer\n",
    "\n",
    "imputer_float = KNNImputer(n_neighbors=10, weights='distance')\n",
    "imputer_int = SimpleImputer(strategy='median')"
   ]
  },
  {
   "cell_type": "code",
   "execution_count": 52,
   "metadata": {},
   "outputs": [],
   "source": [
    "imp_float = pd.DataFrame(imputer_float.fit_transform(df_floats), columns=df_floats.columns)\n",
    "imp_int = pd.DataFrame(imputer_int.fit_transform(df_ints), columns=df_ints.columns)\n",
    "df = pd.concat([df.drop(nan_columns, axis=1), imp_float, imp_int], axis=1)"
   ]
  },
  {
   "cell_type": "code",
   "execution_count": 53,
   "metadata": {},
   "outputs": [
    {
     "data": {
      "text/html": [
       "<div>\n",
       "<style scoped>\n",
       "    .dataframe tbody tr th:only-of-type {\n",
       "        vertical-align: middle;\n",
       "    }\n",
       "\n",
       "    .dataframe tbody tr th {\n",
       "        vertical-align: top;\n",
       "    }\n",
       "\n",
       "    .dataframe thead th {\n",
       "        text-align: right;\n",
       "    }\n",
       "</style>\n",
       "<table border=\"1\" class=\"dataframe\">\n",
       "  <thead>\n",
       "    <tr style=\"text-align: right;\">\n",
       "      <th></th>\n",
       "      <th>f3</th>\n",
       "      <th>f4</th>\n",
       "      <th>f5</th>\n",
       "      <th>f6</th>\n",
       "      <th>f7</th>\n",
       "      <th>f8</th>\n",
       "      <th>f9</th>\n",
       "      <th>f10</th>\n",
       "      <th>f18</th>\n",
       "      <th>f21</th>\n",
       "      <th>...</th>\n",
       "      <th>f229</th>\n",
       "      <th>f230</th>\n",
       "      <th>f231</th>\n",
       "      <th>f252</th>\n",
       "      <th>f253</th>\n",
       "      <th>f254</th>\n",
       "      <th>f269</th>\n",
       "      <th>f275</th>\n",
       "      <th>f276</th>\n",
       "      <th>f277</th>\n",
       "    </tr>\n",
       "  </thead>\n",
       "  <tbody>\n",
       "    <tr>\n",
       "      <th>0</th>\n",
       "      <td>38.0</td>\n",
       "      <td>7.0</td>\n",
       "      <td>10.0</td>\n",
       "      <td>1.0</td>\n",
       "      <td>2001.0</td>\n",
       "      <td>2.0</td>\n",
       "      <td>11.0</td>\n",
       "      <td>2.0</td>\n",
       "      <td>11926.0</td>\n",
       "      <td>24750.0</td>\n",
       "      <td>...</td>\n",
       "      <td>776.920000</td>\n",
       "      <td>1230.770000</td>\n",
       "      <td>1003.850000</td>\n",
       "      <td>776.920000</td>\n",
       "      <td>1230.770000</td>\n",
       "      <td>1003.850000</td>\n",
       "      <td>4.94</td>\n",
       "      <td>725.00</td>\n",
       "      <td>1175.00</td>\n",
       "      <td>950.00</td>\n",
       "    </tr>\n",
       "    <tr>\n",
       "      <th>1</th>\n",
       "      <td>30.0</td>\n",
       "      <td>2.0</td>\n",
       "      <td>1.0</td>\n",
       "      <td>4.0</td>\n",
       "      <td>1979.0</td>\n",
       "      <td>2.0</td>\n",
       "      <td>10.0</td>\n",
       "      <td>2.0</td>\n",
       "      <td>2854.0</td>\n",
       "      <td>7377.0</td>\n",
       "      <td>...</td>\n",
       "      <td>869.547432</td>\n",
       "      <td>1342.790877</td>\n",
       "      <td>1106.168734</td>\n",
       "      <td>621.393832</td>\n",
       "      <td>988.717881</td>\n",
       "      <td>805.056709</td>\n",
       "      <td>3.54</td>\n",
       "      <td>600.00</td>\n",
       "      <td>1000.00</td>\n",
       "      <td>800.00</td>\n",
       "    </tr>\n",
       "    <tr>\n",
       "      <th>2</th>\n",
       "      <td>16.0</td>\n",
       "      <td>2.0</td>\n",
       "      <td>12.0</td>\n",
       "      <td>1.0</td>\n",
       "      <td>1979.0</td>\n",
       "      <td>2.0</td>\n",
       "      <td>6.0</td>\n",
       "      <td>2.0</td>\n",
       "      <td>3091.0</td>\n",
       "      <td>8359.0</td>\n",
       "      <td>...</td>\n",
       "      <td>748.310000</td>\n",
       "      <td>1245.760000</td>\n",
       "      <td>997.030000</td>\n",
       "      <td>764.970000</td>\n",
       "      <td>1271.570000</td>\n",
       "      <td>1018.270000</td>\n",
       "      <td>5.81</td>\n",
       "      <td>776.46</td>\n",
       "      <td>1293.67</td>\n",
       "      <td>1035.06</td>\n",
       "    </tr>\n",
       "    <tr>\n",
       "      <th>3</th>\n",
       "      <td>43.0</td>\n",
       "      <td>1.0</td>\n",
       "      <td>12.0</td>\n",
       "      <td>1.0</td>\n",
       "      <td>1979.0</td>\n",
       "      <td>2.0</td>\n",
       "      <td>6.0</td>\n",
       "      <td>2.0</td>\n",
       "      <td>2707.0</td>\n",
       "      <td>6340.0</td>\n",
       "      <td>...</td>\n",
       "      <td>725.930000</td>\n",
       "      <td>1240.740000</td>\n",
       "      <td>983.330000</td>\n",
       "      <td>688.240000</td>\n",
       "      <td>1169.120000</td>\n",
       "      <td>928.680000</td>\n",
       "      <td>8.68</td>\n",
       "      <td>722.99</td>\n",
       "      <td>1211.23</td>\n",
       "      <td>967.11</td>\n",
       "    </tr>\n",
       "    <tr>\n",
       "      <th>4</th>\n",
       "      <td>28.0</td>\n",
       "      <td>3.0</td>\n",
       "      <td>5.0</td>\n",
       "      <td>2.0</td>\n",
       "      <td>1960.0</td>\n",
       "      <td>2.0</td>\n",
       "      <td>5.0</td>\n",
       "      <td>2.0</td>\n",
       "      <td>1830.0</td>\n",
       "      <td>6484.0</td>\n",
       "      <td>...</td>\n",
       "      <td>746.150000</td>\n",
       "      <td>1230.770000</td>\n",
       "      <td>988.460000</td>\n",
       "      <td>811.900000</td>\n",
       "      <td>1369.050000</td>\n",
       "      <td>1090.480000</td>\n",
       "      <td>11.27</td>\n",
       "      <td>752.08</td>\n",
       "      <td>1260.42</td>\n",
       "      <td>1006.25</td>\n",
       "    </tr>\n",
       "  </tbody>\n",
       "</table>\n",
       "<p>5 rows × 51 columns</p>\n",
       "</div>"
      ],
      "text/plain": [
       "     f3   f4    f5   f6      f7   f8    f9  f10      f18      f21  ...  \\\n",
       "0  38.0  7.0  10.0  1.0  2001.0  2.0  11.0  2.0  11926.0  24750.0  ...   \n",
       "1  30.0  2.0   1.0  4.0  1979.0  2.0  10.0  2.0   2854.0   7377.0  ...   \n",
       "2  16.0  2.0  12.0  1.0  1979.0  2.0   6.0  2.0   3091.0   8359.0  ...   \n",
       "3  43.0  1.0  12.0  1.0  1979.0  2.0   6.0  2.0   2707.0   6340.0  ...   \n",
       "4  28.0  3.0   5.0  2.0  1960.0  2.0   5.0  2.0   1830.0   6484.0  ...   \n",
       "\n",
       "         f229         f230         f231        f252         f253         f254  \\\n",
       "0  776.920000  1230.770000  1003.850000  776.920000  1230.770000  1003.850000   \n",
       "1  869.547432  1342.790877  1106.168734  621.393832   988.717881   805.056709   \n",
       "2  748.310000  1245.760000   997.030000  764.970000  1271.570000  1018.270000   \n",
       "3  725.930000  1240.740000   983.330000  688.240000  1169.120000   928.680000   \n",
       "4  746.150000  1230.770000   988.460000  811.900000  1369.050000  1090.480000   \n",
       "\n",
       "    f269    f275     f276     f277  \n",
       "0   4.94  725.00  1175.00   950.00  \n",
       "1   3.54  600.00  1000.00   800.00  \n",
       "2   5.81  776.46  1293.67  1035.06  \n",
       "3   8.68  722.99  1211.23   967.11  \n",
       "4  11.27  752.08  1260.42  1006.25  \n",
       "\n",
       "[5 rows x 51 columns]"
      ]
     },
     "execution_count": 53,
     "metadata": {},
     "output_type": "execute_result"
    }
   ],
   "source": [
    "df[nan_columns].head()"
   ]
  },
  {
   "cell_type": "markdown",
   "metadata": {},
   "source": [
    "### Трансформируем данные"
   ]
  },
  {
   "cell_type": "markdown",
   "metadata": {},
   "source": [
    "Очевидно, что данные достаточно сильно разнятся по величине – от единиц до десятков тысяч.  \n",
    "Значит, нужно их отнормировать. Для этого используем Normalizer, т.е. отнормируем \"по строкам\"  \n",
    "(при нормировке \"по столбцам\" алгоритмы работали хуже)"
   ]
  },
  {
   "cell_type": "code",
   "execution_count": 62,
   "metadata": {},
   "outputs": [],
   "source": [
    "from sklearn.preprocessing import Normalizer\n",
    "\n",
    "df = pd.DataFrame(Normalizer().fit_transform(df), columns=df.columns)"
   ]
  },
  {
   "cell_type": "code",
   "execution_count": 63,
   "metadata": {},
   "outputs": [
    {
     "data": {
      "text/html": [
       "<div>\n",
       "<style scoped>\n",
       "    .dataframe tbody tr th:only-of-type {\n",
       "        vertical-align: middle;\n",
       "    }\n",
       "\n",
       "    .dataframe tbody tr th {\n",
       "        vertical-align: top;\n",
       "    }\n",
       "\n",
       "    .dataframe thead th {\n",
       "        text-align: right;\n",
       "    }\n",
       "</style>\n",
       "<table border=\"1\" class=\"dataframe\">\n",
       "  <thead>\n",
       "    <tr style=\"text-align: right;\">\n",
       "      <th></th>\n",
       "      <th>id</th>\n",
       "      <th>f2</th>\n",
       "      <th>f13</th>\n",
       "      <th>f14</th>\n",
       "      <th>f15</th>\n",
       "      <th>f16</th>\n",
       "      <th>f17</th>\n",
       "      <th>f19</th>\n",
       "      <th>f20</th>\n",
       "      <th>f22</th>\n",
       "      <th>...</th>\n",
       "      <th>f75</th>\n",
       "      <th>f76</th>\n",
       "      <th>f77</th>\n",
       "      <th>f78</th>\n",
       "      <th>f79</th>\n",
       "      <th>f80</th>\n",
       "      <th>f81</th>\n",
       "      <th>f82</th>\n",
       "      <th>f83</th>\n",
       "      <th>f99</th>\n",
       "    </tr>\n",
       "  </thead>\n",
       "  <tbody>\n",
       "    <tr>\n",
       "      <th>0</th>\n",
       "      <td>3.593114e-08</td>\n",
       "      <td>0.000002</td>\n",
       "      <td>0.939784</td>\n",
       "      <td>0.006405</td>\n",
       "      <td>4.952972e-09</td>\n",
       "      <td>1.477358e-09</td>\n",
       "      <td>0.000506</td>\n",
       "      <td>3.952426e-07</td>\n",
       "      <td>0.000535</td>\n",
       "      <td>4.671049e-07</td>\n",
       "      <td>...</td>\n",
       "      <td>3.593114e-08</td>\n",
       "      <td>0.000003</td>\n",
       "      <td>1.796557e-07</td>\n",
       "      <td>0.000060</td>\n",
       "      <td>1.221659e-06</td>\n",
       "      <td>1.074341e-05</td>\n",
       "      <td>0.000016</td>\n",
       "      <td>0.000004</td>\n",
       "      <td>2.870898e-05</td>\n",
       "      <td>1.688764e-06</td>\n",
       "    </tr>\n",
       "    <tr>\n",
       "      <th>1</th>\n",
       "      <td>5.562700e-08</td>\n",
       "      <td>0.000002</td>\n",
       "      <td>0.994275</td>\n",
       "      <td>0.000071</td>\n",
       "      <td>1.526938e-08</td>\n",
       "      <td>9.639069e-10</td>\n",
       "      <td>0.000005</td>\n",
       "      <td>0.000000e+00</td>\n",
       "      <td>0.000005</td>\n",
       "      <td>0.000000e+00</td>\n",
       "      <td>...</td>\n",
       "      <td>0.000000e+00</td>\n",
       "      <td>0.000000</td>\n",
       "      <td>0.000000e+00</td>\n",
       "      <td>0.000008</td>\n",
       "      <td>0.000000e+00</td>\n",
       "      <td>5.562700e-08</td>\n",
       "      <td>0.000004</td>\n",
       "      <td>0.000002</td>\n",
       "      <td>6.675240e-07</td>\n",
       "      <td>6.675240e-07</td>\n",
       "    </tr>\n",
       "    <tr>\n",
       "      <th>2</th>\n",
       "      <td>3.959775e-07</td>\n",
       "      <td>0.000004</td>\n",
       "      <td>0.439062</td>\n",
       "      <td>0.011067</td>\n",
       "      <td>6.847858e-09</td>\n",
       "      <td>0.000000e+00</td>\n",
       "      <td>0.000619</td>\n",
       "      <td>6.599626e-07</td>\n",
       "      <td>0.000664</td>\n",
       "      <td>9.239476e-07</td>\n",
       "      <td>...</td>\n",
       "      <td>0.000000e+00</td>\n",
       "      <td>0.000000</td>\n",
       "      <td>0.000000e+00</td>\n",
       "      <td>0.000028</td>\n",
       "      <td>0.000000e+00</td>\n",
       "      <td>0.000000e+00</td>\n",
       "      <td>0.000020</td>\n",
       "      <td>0.000004</td>\n",
       "      <td>3.167820e-06</td>\n",
       "      <td>5.543686e-06</td>\n",
       "    </tr>\n",
       "    <tr>\n",
       "      <th>3</th>\n",
       "      <td>4.733741e-07</td>\n",
       "      <td>0.000005</td>\n",
       "      <td>0.933456</td>\n",
       "      <td>0.012359</td>\n",
       "      <td>2.634875e-08</td>\n",
       "      <td>2.234134e-08</td>\n",
       "      <td>0.000709</td>\n",
       "      <td>3.550306e-07</td>\n",
       "      <td>0.000726</td>\n",
       "      <td>4.733741e-07</td>\n",
       "      <td>...</td>\n",
       "      <td>0.000000e+00</td>\n",
       "      <td>0.000000</td>\n",
       "      <td>0.000000e+00</td>\n",
       "      <td>0.000039</td>\n",
       "      <td>3.550306e-07</td>\n",
       "      <td>4.733741e-07</td>\n",
       "      <td>0.000025</td>\n",
       "      <td>0.000011</td>\n",
       "      <td>2.366870e-06</td>\n",
       "      <td>4.733741e-07</td>\n",
       "    </tr>\n",
       "    <tr>\n",
       "      <th>4</th>\n",
       "      <td>2.659342e-07</td>\n",
       "      <td>0.000002</td>\n",
       "      <td>0.932180</td>\n",
       "      <td>0.006321</td>\n",
       "      <td>7.093678e-09</td>\n",
       "      <td>1.646022e-08</td>\n",
       "      <td>0.000396</td>\n",
       "      <td>1.063737e-07</td>\n",
       "      <td>0.000410</td>\n",
       "      <td>1.595605e-07</td>\n",
       "      <td>...</td>\n",
       "      <td>0.000000e+00</td>\n",
       "      <td>0.000000</td>\n",
       "      <td>0.000000e+00</td>\n",
       "      <td>0.000016</td>\n",
       "      <td>0.000000e+00</td>\n",
       "      <td>1.063737e-07</td>\n",
       "      <td>0.000007</td>\n",
       "      <td>0.000006</td>\n",
       "      <td>3.031650e-06</td>\n",
       "      <td>1.755166e-06</td>\n",
       "    </tr>\n",
       "  </tbody>\n",
       "</table>\n",
       "<p>5 rows × 440 columns</p>\n",
       "</div>"
      ],
      "text/plain": [
       "             id        f2       f13       f14           f15           f16  \\\n",
       "0  3.593114e-08  0.000002  0.939784  0.006405  4.952972e-09  1.477358e-09   \n",
       "1  5.562700e-08  0.000002  0.994275  0.000071  1.526938e-08  9.639069e-10   \n",
       "2  3.959775e-07  0.000004  0.439062  0.011067  6.847858e-09  0.000000e+00   \n",
       "3  4.733741e-07  0.000005  0.933456  0.012359  2.634875e-08  2.234134e-08   \n",
       "4  2.659342e-07  0.000002  0.932180  0.006321  7.093678e-09  1.646022e-08   \n",
       "\n",
       "        f17           f19       f20           f22  ...           f75  \\\n",
       "0  0.000506  3.952426e-07  0.000535  4.671049e-07  ...  3.593114e-08   \n",
       "1  0.000005  0.000000e+00  0.000005  0.000000e+00  ...  0.000000e+00   \n",
       "2  0.000619  6.599626e-07  0.000664  9.239476e-07  ...  0.000000e+00   \n",
       "3  0.000709  3.550306e-07  0.000726  4.733741e-07  ...  0.000000e+00   \n",
       "4  0.000396  1.063737e-07  0.000410  1.595605e-07  ...  0.000000e+00   \n",
       "\n",
       "        f76           f77       f78           f79           f80       f81  \\\n",
       "0  0.000003  1.796557e-07  0.000060  1.221659e-06  1.074341e-05  0.000016   \n",
       "1  0.000000  0.000000e+00  0.000008  0.000000e+00  5.562700e-08  0.000004   \n",
       "2  0.000000  0.000000e+00  0.000028  0.000000e+00  0.000000e+00  0.000020   \n",
       "3  0.000000  0.000000e+00  0.000039  3.550306e-07  4.733741e-07  0.000025   \n",
       "4  0.000000  0.000000e+00  0.000016  0.000000e+00  1.063737e-07  0.000007   \n",
       "\n",
       "        f82           f83           f99  \n",
       "0  0.000004  2.870898e-05  1.688764e-06  \n",
       "1  0.000002  6.675240e-07  6.675240e-07  \n",
       "2  0.000004  3.167820e-06  5.543686e-06  \n",
       "3  0.000011  2.366870e-06  4.733741e-07  \n",
       "4  0.000006  3.031650e-06  1.755166e-06  \n",
       "\n",
       "[5 rows x 440 columns]"
      ]
     },
     "execution_count": 63,
     "metadata": {},
     "output_type": "execute_result"
    }
   ],
   "source": [
    "df.head()"
   ]
  },
  {
   "cell_type": "markdown",
   "metadata": {},
   "source": [
    "### Перепишем все рассмотренные выше операции в виде методов"
   ]
  },
  {
   "cell_type": "code",
   "execution_count": 54,
   "metadata": {},
   "outputs": [],
   "source": [
    "def process_f1(df_train, df_test, index):\n",
    "    ymd_train = df_train['f1'].str.split('-', expand=True).astype('int64').rename(columns={0: 'year', 1: 'month', 2: 'day'})\n",
    "    ymd_test = df_test['f1'].str.split('-', expand=True).astype('int64').rename(columns={0: 'year', 1: 'month', 2: 'day'})\n",
    "    return pd.concat([df_train, ymd_train], axis=1).drop(['f1'], axis=1), \\\n",
    "           pd.concat([df_test, ymd_test], axis=1).drop(['f1'], axis=1), \\\n",
    "           index[1:]"
   ]
  },
  {
   "cell_type": "code",
   "execution_count": 55,
   "metadata": {},
   "outputs": [],
   "source": [
    "def process_f11(df_train, df_test, index):\n",
    "    f11_unique = df_train['f11'].unique()\n",
    "    f11_encode = dict(zip(f11_unique, np.eye(len(f11_unique))))\n",
    "    encode_train = pd.DataFrame([np.nan if k == np.nan else f11_encode[k] for k in df_train['f11']], columns=f11_unique)\n",
    "    encode_test = pd.DataFrame([np.nan if k == np.nan else f11_encode[k] for k in df_test['f11']], columns=f11_unique)\n",
    "    return pd.concat([df_train, encode_train], axis=1).drop(['f11'], axis=1), \\\n",
    "           pd.concat([df_test, encode_test], axis=1).drop(['f11'], axis=1), \\\n",
    "           index[1:]"
   ]
  },
  {
   "cell_type": "code",
   "execution_count": 56,
   "metadata": {},
   "outputs": [],
   "source": [
    "def process_f12(df_train, df_test, index):\n",
    "    f12_unique = df_train['f12'].unique()\n",
    "    f12_encode = dict(zip(f12_unique, np.eye(len(f12_unique))))\n",
    "    encode_train = pd.DataFrame([np.nan if k == np.nan else f12_encode[k] for k in df_train['f12']], columns=f12_unique)\n",
    "    encode_test = pd.DataFrame([np.nan if k == np.nan else f12_encode[k] for k in df_test['f12']], columns=f12_unique)\n",
    "    return pd.concat([df_train, encode_train], axis=1).drop(['f12'], axis=1), \\\n",
    "           pd.concat([df_test, encode_test], axis=1).drop(['f12'], axis=1), \\\n",
    "           index[1:]"
   ]
  },
  {
   "cell_type": "code",
   "execution_count": 57,
   "metadata": {},
   "outputs": [],
   "source": [
    "def process_bool(df_train, df_test, index):\n",
    "    bool_index = index[:-1]\n",
    "    bool_encode = {'no': 0, 'yes': 1}\n",
    "    encoding = dict.fromkeys(bool_index, bool_encode)\n",
    "    return df_train.replace(encoding), \\\n",
    "           df_test.replace(encoding), \\\n",
    "           [index[-1]]"
   ]
  },
  {
   "cell_type": "code",
   "execution_count": 58,
   "metadata": {},
   "outputs": [],
   "source": [
    "def process_f152(df_train, df_test, index):\n",
    "    f152_encode = dict(zip(['no data', 'poor', 'satisfactory', 'good', 'excellent'], range(5)))\n",
    "    encoding = {'f152': f152_encode}\n",
    "    return df_train.replace(encoding), \\\n",
    "           df_test.replace(encoding), \\\n",
    "           index"
   ]
  },
  {
   "cell_type": "code",
   "execution_count": 59,
   "metadata": {},
   "outputs": [],
   "source": [
    "def process_categorical(df_train, df_test):\n",
    "    cat = df_train.dtypes[df_train.dtypes == type(object)]\n",
    "    cat_index = list(cat.index)\n",
    "    \n",
    "    df_train_res, df_test_res, cat_index = process_f1(df_train, df_test, cat_index)\n",
    "    df_train_res, df_test_res, cat_index = process_f11(df_train_res, df_test_res, cat_index)\n",
    "    df_train_res, df_test_res, cat_index = process_f12(df_train_res, df_test_res, cat_index)\n",
    "    df_train_res, df_test_res, cat_index = process_bool(df_train_res, df_test_res, cat_index)\n",
    "    df_train_res, df_test_res, cat_index = process_f152(df_train_res, df_test_res, cat_index)\n",
    "    return df_train_res, df_test_res"
   ]
  },
  {
   "cell_type": "code",
   "execution_count": 60,
   "metadata": {},
   "outputs": [],
   "source": [
    "from sklearn.impute import SimpleImputer, KNNImputer\n",
    "\n",
    "def impute(df):\n",
    "    # Setup imputers\n",
    "    imputer_float = KNNImputer(n_neighbors=10, weights='distance')\n",
    "    imputer_int = SimpleImputer(strategy='median')\n",
    "\n",
    "    # Find columns, containing NaN, and split into int/float\n",
    "    nan_columns = df.columns[df.isna().any()].to_list()\n",
    "    nan_is_int= df[nan_columns].replace({np.nan: 0}).applymap(lambda x: x.is_integer()).all()\n",
    "    nan_groups = nan_is_int.groupby(nan_is_int).groups  # Groups of \"true\" integers and floats\n",
    "    df_floats, df_ints = df[nan_groups[False]], df[nan_groups[True]]\n",
    "\n",
    "    # Impute missing values\n",
    "    imp_float = pd.DataFrame(imputer_float.fit_transform(df_floats), columns=df_floats.columns)\n",
    "    imp_int = pd.DataFrame(imputer_int.fit_transform(df_ints), columns=df_ints.columns)\n",
    "\n",
    "    return pd.concat([df.drop(nan_columns, axis=1), imp_float, imp_int], axis=1)\n",
    "\n",
    "def impute_na(df_train, df_test):\n",
    "    return impute(df_train), impute(df_test)"
   ]
  },
  {
   "cell_type": "code",
   "execution_count": 61,
   "metadata": {},
   "outputs": [],
   "source": [
    "from sklearn.preprocessing import Normalizer\n",
    "\n",
    "def transform(df_train, df_test):\n",
    "    transformer = Normalizer()\n",
    "    return pd.DataFrame(transformer.fit_transform(df_train), columns=df_train.columns), \\\n",
    "           pd.DataFrame(transformer.fit_transform(df_test), columns=df_test.columns)"
   ]
  },
  {
   "cell_type": "code",
   "execution_count": 64,
   "metadata": {},
   "outputs": [],
   "source": [
    "def preprocess(df_train, df_test):\n",
    "    df_train_res, df_test_res = process_categorical(df_train, df_test)\n",
    "    df_train_res, df_test_res = impute_na(df_train_res, df_test_res)\n",
    "    df_train_res, df_test_res = transform(df_train_res, df_test_res)\n",
    "    return df_train_res, df_test_res"
   ]
  },
  {
   "cell_type": "code",
   "execution_count": 65,
   "metadata": {},
   "outputs": [],
   "source": [
    "def prepare_dataset(df_train, df_test):\n",
    "    return df_train.drop(['id', 'target'], axis=1), \\\n",
    "           df_train['target'], \\\n",
    "           df_test.drop('id', axis=1)"
   ]
  },
  {
   "cell_type": "code",
   "execution_count": 66,
   "metadata": {},
   "outputs": [],
   "source": [
    "def load(train_path, test_path):\n",
    "    df_train = pd.read_csv(train_path, index_col=False)\n",
    "    df_test = pd.read_csv(test_path, index_col=False)\n",
    "    X_train, y_train, X_test = prepare_dataset(df_train, df_test)\n",
    "    X_train, X_test = preprocess(X_train, X_test)\n",
    "    return X_train, y_train, X_test"
   ]
  },
  {
   "cell_type": "code",
   "execution_count": 67,
   "metadata": {},
   "outputs": [],
   "source": [
    "X_train, y_train, X_test = load(\"input/train.csv\", \"input/test.csv\")"
   ]
  },
  {
   "cell_type": "code",
   "execution_count": 68,
   "metadata": {},
   "outputs": [
    {
     "data": {
      "text/html": [
       "<div>\n",
       "<style scoped>\n",
       "    .dataframe tbody tr th:only-of-type {\n",
       "        vertical-align: middle;\n",
       "    }\n",
       "\n",
       "    .dataframe tbody tr th {\n",
       "        vertical-align: top;\n",
       "    }\n",
       "\n",
       "    .dataframe thead th {\n",
       "        text-align: right;\n",
       "    }\n",
       "</style>\n",
       "<table border=\"1\" class=\"dataframe\">\n",
       "  <thead>\n",
       "    <tr style=\"text-align: right;\">\n",
       "      <th></th>\n",
       "      <th>f2</th>\n",
       "      <th>f13</th>\n",
       "      <th>f14</th>\n",
       "      <th>f15</th>\n",
       "      <th>f16</th>\n",
       "      <th>f17</th>\n",
       "      <th>f19</th>\n",
       "      <th>f20</th>\n",
       "      <th>f22</th>\n",
       "      <th>f23</th>\n",
       "      <th>...</th>\n",
       "      <th>f75</th>\n",
       "      <th>f76</th>\n",
       "      <th>f77</th>\n",
       "      <th>f78</th>\n",
       "      <th>f79</th>\n",
       "      <th>f80</th>\n",
       "      <th>f81</th>\n",
       "      <th>f82</th>\n",
       "      <th>f83</th>\n",
       "      <th>f99</th>\n",
       "    </tr>\n",
       "  </thead>\n",
       "  <tbody>\n",
       "    <tr>\n",
       "      <th>0</th>\n",
       "      <td>0.000003</td>\n",
       "      <td>0.999836</td>\n",
       "      <td>0.006815</td>\n",
       "      <td>5.269468e-09</td>\n",
       "      <td>1.571761e-09</td>\n",
       "      <td>0.000538</td>\n",
       "      <td>4.204987e-07</td>\n",
       "      <td>0.000569</td>\n",
       "      <td>4.969530e-07</td>\n",
       "      <td>3.822715e-08</td>\n",
       "      <td>...</td>\n",
       "      <td>3.822715e-08</td>\n",
       "      <td>0.000003</td>\n",
       "      <td>1.911358e-07</td>\n",
       "      <td>0.000064</td>\n",
       "      <td>1.299723e-06</td>\n",
       "      <td>1.142992e-05</td>\n",
       "      <td>0.000017</td>\n",
       "      <td>0.000004</td>\n",
       "      <td>3.054350e-05</td>\n",
       "      <td>1.796676e-06</td>\n",
       "    </tr>\n",
       "    <tr>\n",
       "      <th>1</th>\n",
       "      <td>0.000002</td>\n",
       "      <td>0.999989</td>\n",
       "      <td>0.000071</td>\n",
       "      <td>1.535712e-08</td>\n",
       "      <td>9.694461e-10</td>\n",
       "      <td>0.000005</td>\n",
       "      <td>0.000000e+00</td>\n",
       "      <td>0.000005</td>\n",
       "      <td>0.000000e+00</td>\n",
       "      <td>0.000000e+00</td>\n",
       "      <td>...</td>\n",
       "      <td>0.000000e+00</td>\n",
       "      <td>0.000000</td>\n",
       "      <td>0.000000e+00</td>\n",
       "      <td>0.000008</td>\n",
       "      <td>0.000000e+00</td>\n",
       "      <td>5.594666e-08</td>\n",
       "      <td>0.000004</td>\n",
       "      <td>0.000002</td>\n",
       "      <td>6.713599e-07</td>\n",
       "      <td>6.713599e-07</td>\n",
       "    </tr>\n",
       "    <tr>\n",
       "      <th>2</th>\n",
       "      <td>0.000007</td>\n",
       "      <td>0.776825</td>\n",
       "      <td>0.019580</td>\n",
       "      <td>1.211579e-08</td>\n",
       "      <td>0.000000e+00</td>\n",
       "      <td>0.001095</td>\n",
       "      <td>1.167660e-06</td>\n",
       "      <td>0.001174</td>\n",
       "      <td>1.634724e-06</td>\n",
       "      <td>2.335320e-07</td>\n",
       "      <td>...</td>\n",
       "      <td>0.000000e+00</td>\n",
       "      <td>0.000000</td>\n",
       "      <td>0.000000e+00</td>\n",
       "      <td>0.000049</td>\n",
       "      <td>0.000000e+00</td>\n",
       "      <td>0.000000e+00</td>\n",
       "      <td>0.000036</td>\n",
       "      <td>0.000008</td>\n",
       "      <td>5.604768e-06</td>\n",
       "      <td>9.808343e-06</td>\n",
       "    </tr>\n",
       "    <tr>\n",
       "      <th>3</th>\n",
       "      <td>0.000005</td>\n",
       "      <td>0.960755</td>\n",
       "      <td>0.012721</td>\n",
       "      <td>2.711932e-08</td>\n",
       "      <td>2.299471e-08</td>\n",
       "      <td>0.000729</td>\n",
       "      <td>3.654134e-07</td>\n",
       "      <td>0.000748</td>\n",
       "      <td>4.872179e-07</td>\n",
       "      <td>0.000000e+00</td>\n",
       "      <td>...</td>\n",
       "      <td>0.000000e+00</td>\n",
       "      <td>0.000000</td>\n",
       "      <td>0.000000e+00</td>\n",
       "      <td>0.000040</td>\n",
       "      <td>3.654134e-07</td>\n",
       "      <td>4.872179e-07</td>\n",
       "      <td>0.000026</td>\n",
       "      <td>0.000011</td>\n",
       "      <td>2.436090e-06</td>\n",
       "      <td>4.872179e-07</td>\n",
       "    </tr>\n",
       "    <tr>\n",
       "      <th>4</th>\n",
       "      <td>0.000003</td>\n",
       "      <td>0.997675</td>\n",
       "      <td>0.006765</td>\n",
       "      <td>7.592085e-09</td>\n",
       "      <td>1.761673e-08</td>\n",
       "      <td>0.000424</td>\n",
       "      <td>1.138476e-07</td>\n",
       "      <td>0.000439</td>\n",
       "      <td>1.707714e-07</td>\n",
       "      <td>0.000000e+00</td>\n",
       "      <td>...</td>\n",
       "      <td>0.000000e+00</td>\n",
       "      <td>0.000000</td>\n",
       "      <td>0.000000e+00</td>\n",
       "      <td>0.000017</td>\n",
       "      <td>0.000000e+00</td>\n",
       "      <td>1.138476e-07</td>\n",
       "      <td>0.000008</td>\n",
       "      <td>0.000006</td>\n",
       "      <td>3.244656e-06</td>\n",
       "      <td>1.878485e-06</td>\n",
       "    </tr>\n",
       "  </tbody>\n",
       "</table>\n",
       "<p>5 rows × 438 columns</p>\n",
       "</div>"
      ],
      "text/plain": [
       "         f2       f13       f14           f15           f16       f17  \\\n",
       "0  0.000003  0.999836  0.006815  5.269468e-09  1.571761e-09  0.000538   \n",
       "1  0.000002  0.999989  0.000071  1.535712e-08  9.694461e-10  0.000005   \n",
       "2  0.000007  0.776825  0.019580  1.211579e-08  0.000000e+00  0.001095   \n",
       "3  0.000005  0.960755  0.012721  2.711932e-08  2.299471e-08  0.000729   \n",
       "4  0.000003  0.997675  0.006765  7.592085e-09  1.761673e-08  0.000424   \n",
       "\n",
       "            f19       f20           f22           f23  ...           f75  \\\n",
       "0  4.204987e-07  0.000569  4.969530e-07  3.822715e-08  ...  3.822715e-08   \n",
       "1  0.000000e+00  0.000005  0.000000e+00  0.000000e+00  ...  0.000000e+00   \n",
       "2  1.167660e-06  0.001174  1.634724e-06  2.335320e-07  ...  0.000000e+00   \n",
       "3  3.654134e-07  0.000748  4.872179e-07  0.000000e+00  ...  0.000000e+00   \n",
       "4  1.138476e-07  0.000439  1.707714e-07  0.000000e+00  ...  0.000000e+00   \n",
       "\n",
       "        f76           f77       f78           f79           f80       f81  \\\n",
       "0  0.000003  1.911358e-07  0.000064  1.299723e-06  1.142992e-05  0.000017   \n",
       "1  0.000000  0.000000e+00  0.000008  0.000000e+00  5.594666e-08  0.000004   \n",
       "2  0.000000  0.000000e+00  0.000049  0.000000e+00  0.000000e+00  0.000036   \n",
       "3  0.000000  0.000000e+00  0.000040  3.654134e-07  4.872179e-07  0.000026   \n",
       "4  0.000000  0.000000e+00  0.000017  0.000000e+00  1.138476e-07  0.000008   \n",
       "\n",
       "        f82           f83           f99  \n",
       "0  0.000004  3.054350e-05  1.796676e-06  \n",
       "1  0.000002  6.713599e-07  6.713599e-07  \n",
       "2  0.000008  5.604768e-06  9.808343e-06  \n",
       "3  0.000011  2.436090e-06  4.872179e-07  \n",
       "4  0.000006  3.244656e-06  1.878485e-06  \n",
       "\n",
       "[5 rows x 438 columns]"
      ]
     },
     "execution_count": 68,
     "metadata": {},
     "output_type": "execute_result"
    }
   ],
   "source": [
    "X_train.head()"
   ]
  },
  {
   "cell_type": "code",
   "execution_count": 69,
   "metadata": {},
   "outputs": [
    {
     "data": {
      "text/plain": [
       "0    9500000\n",
       "1    3837949\n",
       "2    6250000\n",
       "3    2000000\n",
       "4    6700000\n",
       "Name: target, dtype: int64"
      ]
     },
     "execution_count": 69,
     "metadata": {},
     "output_type": "execute_result"
    }
   ],
   "source": [
    "y_train.head()"
   ]
  },
  {
   "cell_type": "code",
   "execution_count": 70,
   "metadata": {},
   "outputs": [
    {
     "data": {
      "text/html": [
       "<div>\n",
       "<style scoped>\n",
       "    .dataframe tbody tr th:only-of-type {\n",
       "        vertical-align: middle;\n",
       "    }\n",
       "\n",
       "    .dataframe tbody tr th {\n",
       "        vertical-align: top;\n",
       "    }\n",
       "\n",
       "    .dataframe thead th {\n",
       "        text-align: right;\n",
       "    }\n",
       "</style>\n",
       "<table border=\"1\" class=\"dataframe\">\n",
       "  <thead>\n",
       "    <tr style=\"text-align: right;\">\n",
       "      <th></th>\n",
       "      <th>f2</th>\n",
       "      <th>f13</th>\n",
       "      <th>f14</th>\n",
       "      <th>f15</th>\n",
       "      <th>f16</th>\n",
       "      <th>f17</th>\n",
       "      <th>f19</th>\n",
       "      <th>f20</th>\n",
       "      <th>f22</th>\n",
       "      <th>f23</th>\n",
       "      <th>...</th>\n",
       "      <th>f75</th>\n",
       "      <th>f76</th>\n",
       "      <th>f77</th>\n",
       "      <th>f78</th>\n",
       "      <th>f79</th>\n",
       "      <th>f80</th>\n",
       "      <th>f81</th>\n",
       "      <th>f82</th>\n",
       "      <th>f83</th>\n",
       "      <th>f99</th>\n",
       "    </tr>\n",
       "  </thead>\n",
       "  <tbody>\n",
       "    <tr>\n",
       "      <th>0</th>\n",
       "      <td>0.000002</td>\n",
       "      <td>0.999957</td>\n",
       "      <td>0.000157</td>\n",
       "      <td>1.943485e-08</td>\n",
       "      <td>2.788976e-10</td>\n",
       "      <td>0.000011</td>\n",
       "      <td>0.000000e+00</td>\n",
       "      <td>0.000010</td>\n",
       "      <td>0.000000e+00</td>\n",
       "      <td>0.000000e+00</td>\n",
       "      <td>...</td>\n",
       "      <td>0.0</td>\n",
       "      <td>0.000000e+00</td>\n",
       "      <td>0.000000e+00</td>\n",
       "      <td>0.000011</td>\n",
       "      <td>0.000000</td>\n",
       "      <td>7.831653e-08</td>\n",
       "      <td>0.000005</td>\n",
       "      <td>0.000003</td>\n",
       "      <td>9.397984e-07</td>\n",
       "      <td>9.397984e-07</td>\n",
       "    </tr>\n",
       "    <tr>\n",
       "      <th>1</th>\n",
       "      <td>0.000003</td>\n",
       "      <td>0.999973</td>\n",
       "      <td>0.000157</td>\n",
       "      <td>1.943516e-08</td>\n",
       "      <td>2.789021e-10</td>\n",
       "      <td>0.000011</td>\n",
       "      <td>0.000000e+00</td>\n",
       "      <td>0.000010</td>\n",
       "      <td>0.000000e+00</td>\n",
       "      <td>0.000000e+00</td>\n",
       "      <td>...</td>\n",
       "      <td>0.0</td>\n",
       "      <td>0.000000e+00</td>\n",
       "      <td>0.000000e+00</td>\n",
       "      <td>0.000011</td>\n",
       "      <td>0.000000</td>\n",
       "      <td>7.831780e-08</td>\n",
       "      <td>0.000005</td>\n",
       "      <td>0.000003</td>\n",
       "      <td>9.398136e-07</td>\n",
       "      <td>9.398136e-07</td>\n",
       "    </tr>\n",
       "    <tr>\n",
       "      <th>2</th>\n",
       "      <td>0.000003</td>\n",
       "      <td>0.511800</td>\n",
       "      <td>0.005279</td>\n",
       "      <td>4.583622e-09</td>\n",
       "      <td>5.473705e-12</td>\n",
       "      <td>0.000297</td>\n",
       "      <td>2.801540e-07</td>\n",
       "      <td>0.000448</td>\n",
       "      <td>2.801540e-07</td>\n",
       "      <td>7.003851e-08</td>\n",
       "      <td>...</td>\n",
       "      <td>0.0</td>\n",
       "      <td>3.501925e-07</td>\n",
       "      <td>7.003851e-08</td>\n",
       "      <td>0.000046</td>\n",
       "      <td>0.000018</td>\n",
       "      <td>7.354043e-06</td>\n",
       "      <td>0.000011</td>\n",
       "      <td>0.000005</td>\n",
       "      <td>3.992195e-06</td>\n",
       "      <td>3.501925e-07</td>\n",
       "    </tr>\n",
       "    <tr>\n",
       "      <th>3</th>\n",
       "      <td>0.000002</td>\n",
       "      <td>0.995239</td>\n",
       "      <td>0.009234</td>\n",
       "      <td>2.009066e-08</td>\n",
       "      <td>2.443350e-09</td>\n",
       "      <td>0.000550</td>\n",
       "      <td>4.753063e-07</td>\n",
       "      <td>0.000565</td>\n",
       "      <td>5.347196e-07</td>\n",
       "      <td>0.000000e+00</td>\n",
       "      <td>...</td>\n",
       "      <td>0.0</td>\n",
       "      <td>6.535462e-07</td>\n",
       "      <td>0.000000e+00</td>\n",
       "      <td>0.000027</td>\n",
       "      <td>0.000003</td>\n",
       "      <td>2.495358e-06</td>\n",
       "      <td>0.000006</td>\n",
       "      <td>0.000010</td>\n",
       "      <td>5.347196e-06</td>\n",
       "      <td>1.544746e-06</td>\n",
       "    </tr>\n",
       "    <tr>\n",
       "      <th>4</th>\n",
       "      <td>0.000025</td>\n",
       "      <td>0.926716</td>\n",
       "      <td>0.012046</td>\n",
       "      <td>5.140045e-08</td>\n",
       "      <td>0.000000e+00</td>\n",
       "      <td>0.000632</td>\n",
       "      <td>9.867259e-07</td>\n",
       "      <td>0.000666</td>\n",
       "      <td>9.867259e-07</td>\n",
       "      <td>0.000000e+00</td>\n",
       "      <td>...</td>\n",
       "      <td>0.0</td>\n",
       "      <td>0.000000e+00</td>\n",
       "      <td>0.000000e+00</td>\n",
       "      <td>0.000043</td>\n",
       "      <td>0.000000</td>\n",
       "      <td>0.000000e+00</td>\n",
       "      <td>0.000028</td>\n",
       "      <td>0.000004</td>\n",
       "      <td>1.065664e-05</td>\n",
       "      <td>6.512391e-06</td>\n",
       "    </tr>\n",
       "  </tbody>\n",
       "</table>\n",
       "<p>5 rows × 438 columns</p>\n",
       "</div>"
      ],
      "text/plain": [
       "         f2       f13       f14           f15           f16       f17  \\\n",
       "0  0.000002  0.999957  0.000157  1.943485e-08  2.788976e-10  0.000011   \n",
       "1  0.000003  0.999973  0.000157  1.943516e-08  2.789021e-10  0.000011   \n",
       "2  0.000003  0.511800  0.005279  4.583622e-09  5.473705e-12  0.000297   \n",
       "3  0.000002  0.995239  0.009234  2.009066e-08  2.443350e-09  0.000550   \n",
       "4  0.000025  0.926716  0.012046  5.140045e-08  0.000000e+00  0.000632   \n",
       "\n",
       "            f19       f20           f22           f23  ...  f75           f76  \\\n",
       "0  0.000000e+00  0.000010  0.000000e+00  0.000000e+00  ...  0.0  0.000000e+00   \n",
       "1  0.000000e+00  0.000010  0.000000e+00  0.000000e+00  ...  0.0  0.000000e+00   \n",
       "2  2.801540e-07  0.000448  2.801540e-07  7.003851e-08  ...  0.0  3.501925e-07   \n",
       "3  4.753063e-07  0.000565  5.347196e-07  0.000000e+00  ...  0.0  6.535462e-07   \n",
       "4  9.867259e-07  0.000666  9.867259e-07  0.000000e+00  ...  0.0  0.000000e+00   \n",
       "\n",
       "            f77       f78       f79           f80       f81       f82  \\\n",
       "0  0.000000e+00  0.000011  0.000000  7.831653e-08  0.000005  0.000003   \n",
       "1  0.000000e+00  0.000011  0.000000  7.831780e-08  0.000005  0.000003   \n",
       "2  7.003851e-08  0.000046  0.000018  7.354043e-06  0.000011  0.000005   \n",
       "3  0.000000e+00  0.000027  0.000003  2.495358e-06  0.000006  0.000010   \n",
       "4  0.000000e+00  0.000043  0.000000  0.000000e+00  0.000028  0.000004   \n",
       "\n",
       "            f83           f99  \n",
       "0  9.397984e-07  9.397984e-07  \n",
       "1  9.398136e-07  9.398136e-07  \n",
       "2  3.992195e-06  3.501925e-07  \n",
       "3  5.347196e-06  1.544746e-06  \n",
       "4  1.065664e-05  6.512391e-06  \n",
       "\n",
       "[5 rows x 438 columns]"
      ]
     },
     "execution_count": 70,
     "metadata": {},
     "output_type": "execute_result"
    }
   ],
   "source": [
    "X_test.head()"
   ]
  },
  {
   "cell_type": "code",
   "execution_count": 73,
   "metadata": {},
   "outputs": [
    {
     "data": {
      "text/plain": [
       "((24376, 438), (24376,), (6095, 438))"
      ]
     },
     "execution_count": 73,
     "metadata": {},
     "output_type": "execute_result"
    }
   ],
   "source": [
    "X_train.shape, y_train.shape, X_test.shape"
   ]
  },
  {
   "cell_type": "markdown",
   "metadata": {},
   "source": [
    "Удостоверимся, что после предобработки все пропуски действительно были восстановлены"
   ]
  },
  {
   "cell_type": "code",
   "execution_count": 71,
   "metadata": {},
   "outputs": [
    {
     "data": {
      "text/plain": [
       "False"
      ]
     },
     "execution_count": 71,
     "metadata": {},
     "output_type": "execute_result"
    }
   ],
   "source": [
    "True in X_train.isna().values"
   ]
  },
  {
   "cell_type": "code",
   "execution_count": 72,
   "metadata": {},
   "outputs": [
    {
     "data": {
      "text/plain": [
       "False"
      ]
     },
     "execution_count": 72,
     "metadata": {},
     "output_type": "execute_result"
    }
   ],
   "source": [
    "True in X_test.isna().values"
   ]
  },
  {
   "cell_type": "markdown",
   "metadata": {},
   "source": [
    "### Определим тренировочный метод"
   ]
  },
  {
   "cell_type": "markdown",
   "metadata": {},
   "source": [
    "Качество работы алгоритма осуществляется по RMSLE -> определим scorer на основе этой ошибки.  \n",
    "По умолчанию, алгоритм может выдавать отрицательные предсказания, но RMSLE не допускает значений < -1.  \n",
    "Значит, необходимо вынести знак \"минус\" (если есть) из-под логарифма"
   ]
  },
  {
   "cell_type": "code",
   "execution_count": 21,
   "metadata": {},
   "outputs": [],
   "source": [
    "from sklearn.metrics import make_scorer\n",
    "\n",
    "def rmsle(y, y_pred, **kwargs):\n",
    "    # Allow negative predictions by incorporating prediction sign\n",
    "    terms = [np.sign(pred) * np.log(1 + np.sign(pred) * pred) - np.log(1 + targ) for pred, targ in zip(y_pred, y)]\n",
    "    return np.sqrt(np.sum(np.power(terms, 2.0)) / len(y))\n",
    "\n",
    "rmsle_scorer = make_scorer(rmsle, greater_is_better=False)"
   ]
  },
  {
   "cell_type": "markdown",
   "metadata": {},
   "source": [
    "В тренировочном методе дополнительно можем определить гиперпараметры модели,  \n",
    "а также оценить качество её работы по 5-fold cross-validation."
   ]
  },
  {
   "cell_type": "code",
   "execution_count": 22,
   "metadata": {},
   "outputs": [],
   "source": [
    "from sklearn.model_selection import cross_val_score, RandomizedSearchCV\n",
    "\n",
    "def train(model, X, y, score=True, cv=5, tune=False, params=None, n_iter=10):\n",
    "    if tune:\n",
    "        if score:\n",
    "            print(f\"Pre-tune CV scores: {cross_val_score(model, X, y, cv=cv, scoring=rmsle_scorer)}\")\n",
    "        \n",
    "        rscv = RandomizedSearchCV(model, params, n_iter=n_iter, scoring=rmsle_scorer, refit=True, cv=cv, random_state=3927)\n",
    "        rscv.fit(X, y)\n",
    "        print(f\"Best params: {rscv.best_params_}\")\n",
    "        model_tr = rscv.best_estimator_\n",
    "\n",
    "        if score:\n",
    "            print(f\"Post-tune CV scores: {cross_val_score(model_tr, X, y, cv=cv, scoring=rmsle_scorer)}\")\n",
    "    else:\n",
    "        model_tr = model.fit(X, y)\n",
    "    \n",
    "        if score:\n",
    "            print(f\"CV scores: {cross_val_score(model_tr, X, y, cv=cv, scoring=rmsle_scorer)}\")\n",
    "\n",
    "    return model_tr"
   ]
  },
  {
   "cell_type": "markdown",
   "metadata": {},
   "source": [
    "### Определим тестировочный метод"
   ]
  },
  {
   "cell_type": "code",
   "execution_count": 23,
   "metadata": {},
   "outputs": [],
   "source": [
    "def test(model, X):\n",
    "    pred = model.predict(X)\n",
    "    data = list(zip(range(1, len(pred) + 1), pred))\n",
    "    return pd.DataFrame(data, columns=['id', 'prediction'])"
   ]
  },
  {
   "cell_type": "markdown",
   "metadata": {},
   "source": [
    "### Выбор модели"
   ]
  },
  {
   "cell_type": "markdown",
   "metadata": {},
   "source": [
    "#### Ridge"
   ]
  },
  {
   "cell_type": "code",
   "execution_count": 72,
   "metadata": {},
   "outputs": [],
   "source": [
    "from sklearn.linear_model import Ridge\n",
    "from scipy.stats import loguniform, uniform"
   ]
  },
  {
   "cell_type": "code",
   "execution_count": 73,
   "metadata": {},
   "outputs": [
    {
     "name": "stdout",
     "output_type": "stream",
     "text": [
      "Pre-tune CV scores: [-0.60000799 -0.60348582 -0.60745596 -0.60441781 -0.62379452]\n",
      "Best params: {'alpha': 1.738157608461319}\n",
      "Post-tune CV scores: [-0.60021189 -0.6031775  -0.60753366 -0.60417195 -0.62365405]\n"
     ]
    },
    {
     "data": {
      "text/plain": [
       "Ridge(alpha=1.738157608461319, random_state=3927)"
      ]
     },
     "execution_count": 73,
     "metadata": {},
     "output_type": "execute_result"
    }
   ],
   "source": [
    "model = Ridge(random_state=3927)\n",
    "params = {'alpha': loguniform(1, 10000)}\n",
    "\n",
    "model = train(model, X_train, y_train, tune=True, params=params, n_iter=100)\n",
    "model"
   ]
  },
  {
   "cell_type": "code",
   "execution_count": 74,
   "metadata": {},
   "outputs": [
    {
     "name": "stdout",
     "output_type": "stream",
     "text": [
      "Pre-tune CV scores: [-0.60000799 -0.60348582 -0.60745596 -0.60441781 -0.62379452]\n",
      "Best params: {'alpha': 0.9653009578533324}\n",
      "Post-tune CV scores: [-0.59999686 -0.60353432 -0.60745569 -0.60444701 -0.62382557]\n"
     ]
    },
    {
     "data": {
      "text/plain": [
       "Ridge(alpha=0.9653009578533324, random_state=3927)"
      ]
     },
     "execution_count": 74,
     "metadata": {},
     "output_type": "execute_result"
    }
   ],
   "source": [
    "model = Ridge(random_state=3927)\n",
    "params = {'alpha': loguniform(0.001, 1)}\n",
    "\n",
    "model = train(model, X_train, y_train, tune=True, params=params, n_iter=100)\n",
    "model"
   ]
  },
  {
   "cell_type": "markdown",
   "metadata": {},
   "source": [
    "#### ElasticNet"
   ]
  },
  {
   "cell_type": "code",
   "execution_count": 75,
   "metadata": {},
   "outputs": [],
   "source": [
    "from sklearn.linear_model import ElasticNet\n",
    "from scipy.stats import loguniform, uniform"
   ]
  },
  {
   "cell_type": "code",
   "execution_count": 76,
   "metadata": {},
   "outputs": [
    {
     "name": "stdout",
     "output_type": "stream",
     "text": [
      "Pre-tune CV scores: [-0.61793116 -0.61371143 -0.62756285 -0.62152099 -0.63506551]\n",
      "Best params: {'alpha': 0.034339915870309524, 'l1_ratio': 0.7688000396844558}\n",
      "Post-tune CV scores: [-0.60329539 -0.60547727 -0.61235485 -0.60602077 -0.62584919]\n"
     ]
    },
    {
     "data": {
      "text/plain": [
       "ElasticNet(alpha=0.034339915870309524, l1_ratio=0.7688000396844558,\n",
       "           max_iter=500, random_state=3927, selection='random')"
      ]
     },
     "execution_count": 76,
     "metadata": {},
     "output_type": "execute_result"
    }
   ],
   "source": [
    "model = ElasticNet(max_iter=500, selection='random', random_state=3927)\n",
    "params = {'alpha': loguniform(0.01, 100), 'l1_ratio': uniform(0.1, 0.8)}\n",
    "\n",
    "model = train(model, X_train, y_train, tune=True, params=params, n_iter=10)\n",
    "model"
   ]
  },
  {
   "cell_type": "markdown",
   "metadata": {},
   "source": [
    "#### DecisionTree"
   ]
  },
  {
   "cell_type": "code",
   "execution_count": 77,
   "metadata": {},
   "outputs": [],
   "source": [
    "from sklearn.tree import DecisionTreeRegressor"
   ]
  },
  {
   "cell_type": "code",
   "execution_count": 78,
   "metadata": {},
   "outputs": [
    {
     "name": "stdout",
     "output_type": "stream",
     "text": [
      "Pre-tune CV scores: [-0.66235402 -0.66574107 -0.65846784 -0.66679303 -0.66972977]\n",
      "Best params: {'min_weight_fraction_leaf': 0.1, 'min_samples_leaf': 3, 'max_leaf_nodes': 70, 'max_depth': None}\n",
      "Post-tune CV scores: [-0.59148096 -0.59375481 -0.60045088 -0.59816698 -0.61848356]\n"
     ]
    },
    {
     "data": {
      "text/plain": [
       "DecisionTreeRegressor(max_leaf_nodes=70, min_samples_leaf=3,\n",
       "                      min_weight_fraction_leaf=0.1, random_state=3927)"
      ]
     },
     "execution_count": 78,
     "metadata": {},
     "output_type": "execute_result"
    }
   ],
   "source": [
    "model = DecisionTreeRegressor(random_state=3927)\n",
    "params = {\"max_depth\" : [None, 1, 3, 5, 7, 9],\n",
    "          \"min_samples_leaf\": [1, 3, 5, 7, 9],\n",
    "          \"min_weight_fraction_leaf\": [0.1, 0.2, 0.3, 0.4, 0.5],\n",
    "          \"max_leaf_nodes\": [None, 10, 30, 50, 70, 90]}\n",
    "\n",
    "model = train(model, X_train, y_train, tune=True, params=params, n_iter=20)\n",
    "model"
   ]
  },
  {
   "cell_type": "markdown",
   "metadata": {},
   "source": [
    "#### SGD"
   ]
  },
  {
   "cell_type": "code",
   "execution_count": 80,
   "metadata": {},
   "outputs": [],
   "source": [
    "from sklearn.linear_model import SGDRegressor\n",
    "from scipy.stats import loguniform, uniform"
   ]
  },
  {
   "cell_type": "code",
   "execution_count": 81,
   "metadata": {},
   "outputs": [
    {
     "name": "stdout",
     "output_type": "stream",
     "text": [
      "Pre-tune CV scores: [-0.60184232 -0.60206038 -0.60952616 -0.60570489 -0.62559363]\n",
      "Best params: {'alpha': 75.64173072984201}\n",
      "Post-tune CV scores: [-0.62324302 -0.61909415 -0.62862468 -0.6263908  -0.63351724]\n"
     ]
    },
    {
     "data": {
      "text/plain": [
       "SGDRegressor(alpha=75.64173072984201, max_iter=5000, random_state=3927)"
      ]
     },
     "execution_count": 81,
     "metadata": {},
     "output_type": "execute_result"
    }
   ],
   "source": [
    "model = SGDRegressor(max_iter=5000, penalty='l2', random_state=3927)\n",
    "params = {'alpha': uniform(0.001, 1000)}\n",
    "\n",
    "model = train(model, X_train, y_train, tune=True, params=params, n_iter=10)\n",
    "model"
   ]
  },
  {
   "cell_type": "code",
   "execution_count": 82,
   "metadata": {},
   "outputs": [
    {
     "name": "stdout",
     "output_type": "stream",
     "text": [
      "Pre-tune CV scores: [-0.6018405  -0.60205898 -0.60952005 -0.60570345 -0.62559216]\n",
      "Best params: {'alpha': 0.005012444501918985, 'l1_ratio': 0.2919813353920865}\n",
      "Post-tune CV scores: [-0.60308389 -0.60236847 -0.60717254 -0.60343441 -0.62382585]\n"
     ]
    },
    {
     "data": {
      "text/plain": [
       "SGDRegressor(alpha=0.005012444501918985, l1_ratio=0.2919813353920865,\n",
       "             max_iter=5000, penalty='elasticnet', random_state=3927)"
      ]
     },
     "execution_count": 82,
     "metadata": {},
     "output_type": "execute_result"
    }
   ],
   "source": [
    "model = SGDRegressor(max_iter=5000, penalty='elasticnet', random_state=3927)\n",
    "params = {'alpha': loguniform(0.001, 1000), 'l1_ratio': uniform(0.1, 0.8)}\n",
    "\n",
    "model = train(model, X_train, y_train, tune=True, params=params, n_iter=10)\n",
    "model"
   ]
  },
  {
   "cell_type": "code",
   "execution_count": 83,
   "metadata": {},
   "outputs": [
    {
     "name": "stdout",
     "output_type": "stream",
     "text": [
      "Pre-tune CV scores: [-0.6018405  -0.60205898 -0.60952005 -0.60570345 -0.62559216]\n",
      "Best params: {'alpha': 0.1340498067109922, 'l1_ratio': 0.7688000396844558}\n",
      "Post-tune CV scores: [-0.60382075 -0.60341686 -0.61697702 -0.60296978 -0.62210577]\n"
     ]
    },
    {
     "data": {
      "text/plain": [
       "SGDRegressor(alpha=0.1340498067109922, l1_ratio=0.7688000396844558,\n",
       "             max_iter=5000, penalty='elasticnet', random_state=3927)"
      ]
     },
     "execution_count": 83,
     "metadata": {},
     "output_type": "execute_result"
    }
   ],
   "source": [
    "model = SGDRegressor(max_iter=5000, penalty='elasticnet', random_state=3927)\n",
    "params = {'alpha': uniform(0.0001, 1), 'l1_ratio': uniform(0.1, 0.8)}\n",
    "\n",
    "model = train(model, X_train, y_train, tune=True, params=params, n_iter=10)\n",
    "model"
   ]
  },
  {
   "cell_type": "code",
   "execution_count": 38,
   "metadata": {},
   "outputs": [
    {
     "name": "stdout",
     "output_type": "stream",
     "text": [
      "Pre-train CV scores: [-0.52058201 -0.80294035 -0.52343453 -0.67453236 -0.66563684]\n",
      "Best params: {'alpha': 0.01169749033554961, 'l1_ratio': 0.7688000396844558}\n",
      "Post-train CV scores: [-0.51815211 -0.53837724 -0.53557793 -0.54162234 -0.56373763]\n"
     ]
    },
    {
     "data": {
      "text/plain": [
       "SGDRegressor(alpha=0.01169749033554961, l1_ratio=0.7688000396844558,\n",
       "             max_iter=5000, penalty='elasticnet', random_state=3927)"
      ]
     },
     "execution_count": 38,
     "metadata": {},
     "output_type": "execute_result"
    }
   ],
   "source": [
    "model = SGDRegressor(max_iter=5000, penalty='elasticnet', random_state=3927)\n",
    "params = {'alpha': uniform(0.005, 0.05), 'l1_ratio': uniform(0.1, 0.8)}\n",
    "\n",
    "model = train(model, X_train, y_train, tune=True, params=params, n_iter=10)\n",
    "model"
   ]
  },
  {
   "cell_type": "markdown",
   "metadata": {},
   "source": [
    "#### Stacking"
   ]
  },
  {
   "cell_type": "code",
   "execution_count": 84,
   "metadata": {},
   "outputs": [],
   "source": [
    "from sklearn.linear_model import Ridge\n",
    "from sklearn.linear_model import ElasticNet\n",
    "from sklearn.tree import DecisionTreeRegressor\n",
    "from sklearn.linear_model import SGDRegressor\n",
    "from sklearn.ensemble import StackingRegressor"
   ]
  },
  {
   "cell_type": "code",
   "execution_count": 86,
   "metadata": {},
   "outputs": [
    {
     "name": "stdout",
     "output_type": "stream",
     "text": [
      "CV scores: [-27.28249445 -28.71580287 -15.66973739 -22.25587526 -29.54273279]\n"
     ]
    },
    {
     "data": {
      "text/plain": [
       "StackingRegressor(estimators=[('RIDGE', Ridge(alpha=1, random_state=3927)),\n",
       "                              ('ELNET',\n",
       "                               ElasticNet(alpha=0.01, l1_ratio=0.6,\n",
       "                                          max_iter=500, random_state=3927,\n",
       "                                          selection='random')),\n",
       "                              ('DTREE',\n",
       "                               DecisionTreeRegressor(max_leaf_nodes=70,\n",
       "                                                     min_samples_leaf=3,\n",
       "                                                     min_weight_fraction_leaf=0.1,\n",
       "                                                     random_state=3927)),\n",
       "                              ('SGDR',\n",
       "                               SGDRegressor(alpha=0.01, l1_ratio=0.6,\n",
       "                                            max_iter=5000, penalty='elasticnet',\n",
       "                                            random_state=3927))],\n",
       "                  n_jobs=-1)"
      ]
     },
     "execution_count": 86,
     "metadata": {},
     "output_type": "execute_result"
    }
   ],
   "source": [
    "estimators = [\n",
    "    ('RIDGE', Ridge(alpha=1, random_state=3927)),\n",
    "    ('ELNET', ElasticNet(max_iter=500, alpha=0.01, l1_ratio=0.6, selection='random', random_state=3927)),\n",
    "    ('DTREE', DecisionTreeRegressor(max_leaf_nodes=70, min_samples_leaf=3,\n",
    "                                    min_weight_fraction_leaf=0.1, random_state=3927)),\n",
    "    ('SGDR', SGDRegressor(max_iter=5000, penalty='elasticnet', alpha=0.01, l1_ratio=0.6, random_state=3927))\n",
    "]\n",
    "model = StackingRegressor(estimators, n_jobs=-1)\n",
    "\n",
    "model = train(model, X_train, y_train)\n",
    "model"
   ]
  },
  {
   "cell_type": "code",
   "execution_count": 87,
   "metadata": {},
   "outputs": [
    {
     "name": "stdout",
     "output_type": "stream",
     "text": [
      "CV scores: [-0.59551544 -0.5980722  -0.60405917 -0.60086041 -0.61951078]\n"
     ]
    },
    {
     "data": {
      "text/plain": [
       "StackingRegressor(estimators=[('RIDGE', Ridge(alpha=1, random_state=3927)),\n",
       "                              ('ELNET',\n",
       "                               ElasticNet(alpha=0.01, l1_ratio=0.6,\n",
       "                                          max_iter=500, random_state=3927,\n",
       "                                          selection='random')),\n",
       "                              ('SGDR',\n",
       "                               SGDRegressor(alpha=0.01, l1_ratio=0.6,\n",
       "                                            max_iter=5000, penalty='elasticnet',\n",
       "                                            random_state=3927))],\n",
       "                  final_estimator=DecisionTreeRegressor(max_leaf_nodes=70,\n",
       "                                                        min_samples_leaf=3,\n",
       "                                                        min_weight_fraction_leaf=0.1,\n",
       "                                                        random_state=3927),\n",
       "                  n_jobs=-1)"
      ]
     },
     "execution_count": 87,
     "metadata": {},
     "output_type": "execute_result"
    }
   ],
   "source": [
    "estimators = [\n",
    "    ('RIDGE', Ridge(alpha=1, random_state=3927)),\n",
    "    ('ELNET', ElasticNet(max_iter=500, alpha=0.01, l1_ratio=0.6, selection='random', random_state=3927)),\n",
    "    ('SGDR', SGDRegressor(max_iter=5000, penalty='elasticnet', alpha=0.01, l1_ratio=0.6, random_state=3927))\n",
    "]\n",
    "final = DecisionTreeRegressor(max_leaf_nodes=70, min_samples_leaf=3,\n",
    "                                    min_weight_fraction_leaf=0.1, random_state=3927)\n",
    "model = StackingRegressor(estimators, final_estimator=final, n_jobs=-1)\n",
    "\n",
    "model = train(model, X_train, y_train)\n",
    "model"
   ]
  },
  {
   "cell_type": "markdown",
   "metadata": {},
   "source": [
    "#### Bagging"
   ]
  },
  {
   "cell_type": "code",
   "execution_count": 24,
   "metadata": {},
   "outputs": [],
   "source": [
    "from sklearn.ensemble import BaggingRegressor\n",
    "from scipy.stats import randint"
   ]
  },
  {
   "cell_type": "code",
   "execution_count": 102,
   "metadata": {},
   "outputs": [
    {
     "name": "stdout",
     "output_type": "stream",
     "text": [
      "Pre-tune CV scores: [-0.47788705 -0.48441964 -0.49308377 -0.50106005 -0.50426299]\n",
      "Best params: {'max_features': 8, 'max_samples': 96}\n",
      "Post-tune CV scores: [-0.60069901 -0.59479298 -0.60073053 -0.59615137 -0.62399794]\n"
     ]
    },
    {
     "data": {
      "text/plain": [
       "BaggingRegressor(max_features=8, max_samples=96, n_jobs=-1, random_state=3927)"
      ]
     },
     "execution_count": 102,
     "metadata": {},
     "output_type": "execute_result"
    }
   ],
   "source": [
    "model = BaggingRegressor(n_estimators=10, n_jobs=-1, random_state=3927)\n",
    "params = {'max_samples': randint(1, 100), 'max_features': randint(1, 20)}\n",
    "\n",
    "model = train(model, X_train, y_train, tune=True, params=params, n_iter=30)\n",
    "model"
   ]
  },
  {
   "cell_type": "code",
   "execution_count": 110,
   "metadata": {},
   "outputs": [
    {
     "name": "stdout",
     "output_type": "stream",
     "text": [
      "CV scores: [-0.46414895 -0.4710153  -0.48348008 -0.48675993 -0.49328828]\n"
     ]
    },
    {
     "data": {
      "text/plain": [
       "BaggingRegressor(n_estimators=100, n_jobs=-1, random_state=3927)"
      ]
     },
     "execution_count": 110,
     "metadata": {},
     "output_type": "execute_result"
    }
   ],
   "source": [
    "model = BaggingRegressor(n_estimators=100, n_jobs=-1, random_state=3927)\n",
    "\n",
    "model = train(model, X_train, y_train)\n",
    "model"
   ]
  },
  {
   "cell_type": "code",
   "execution_count": 25,
   "metadata": {},
   "outputs": [
    {
     "data": {
      "text/plain": [
       "BaggingRegressor(n_estimators=1000, n_jobs=-1, random_state=3927)"
      ]
     },
     "execution_count": 25,
     "metadata": {},
     "output_type": "execute_result"
    }
   ],
   "source": [
    "model = BaggingRegressor(n_estimators=1000, n_jobs=-1, random_state=3927)\n",
    "\n",
    "model = train(model, X_train, y_train, score=False)\n",
    "model"
   ]
  },
  {
   "cell_type": "code",
   "execution_count": 90,
   "metadata": {},
   "outputs": [
    {
     "name": "stdout",
     "output_type": "stream",
     "text": [
      "Pre-tune CV scores: [-0.60038772 -0.60371702 -0.60781098 -0.6049524  -0.62425982]\n",
      "Best params: {'max_features': 17, 'max_samples': 30}\n",
      "Post-tune CV scores: [-0.61641832 -0.62776915 -0.63349879 -0.62867303 -0.63003017]\n"
     ]
    },
    {
     "data": {
      "text/plain": [
       "BaggingRegressor(base_estimator=Ridge(alpha=1, random_state=3927),\n",
       "                 max_features=17, max_samples=30, n_estimators=20, n_jobs=-1,\n",
       "                 random_state=3927)"
      ]
     },
     "execution_count": 90,
     "metadata": {},
     "output_type": "execute_result"
    }
   ],
   "source": [
    "base = Ridge(alpha=1, random_state=3927)\n",
    "model = BaggingRegressor(base_estimator=base, n_estimators=20, n_jobs=-1, random_state=3927)\n",
    "params = {'max_samples': randint(1, 100), 'max_features': randint(1, 20)}\n",
    "\n",
    "model = train(model, X_train, y_train, tune=True, params=params, n_iter=10)\n",
    "model"
   ]
  },
  {
   "cell_type": "code",
   "execution_count": 91,
   "metadata": {},
   "outputs": [
    {
     "name": "stdout",
     "output_type": "stream",
     "text": [
      "Pre-tune CV scores: [-0.60772179 -0.60589377 -0.60805996 -0.60706383 -0.62722213]\n",
      "Best params: {'max_features': 12, 'max_samples': 60}\n",
      "Post-tune CV scores: [-0.61628121 -0.60219481 -0.61696946 -0.62098255 -0.62340703]\n"
     ]
    },
    {
     "data": {
      "text/plain": [
       "BaggingRegressor(base_estimator=SGDRegressor(alpha=0.01, l1_ratio=0.6,\n",
       "                                             max_iter=5000,\n",
       "                                             penalty='elasticnet',\n",
       "                                             random_state=3927),\n",
       "                 max_features=12, max_samples=60, n_estimators=2, n_jobs=-1,\n",
       "                 random_state=3927)"
      ]
     },
     "execution_count": 91,
     "metadata": {},
     "output_type": "execute_result"
    }
   ],
   "source": [
    "base = SGDRegressor(max_iter=5000, alpha=0.01, l1_ratio=0.6, penalty='elasticnet', random_state=3927)\n",
    "model = BaggingRegressor(base_estimator=base, n_estimators=2, n_jobs=-1, random_state=3927)\n",
    "params = {'max_samples': randint(1, 100), 'max_features': randint(1, 20)}\n",
    "\n",
    "model = train(model, X_train, y_train, tune=True, params=params, n_iter=10)\n",
    "model"
   ]
  },
  {
   "cell_type": "markdown",
   "metadata": {},
   "source": [
    "#### AdaBoost"
   ]
  },
  {
   "cell_type": "code",
   "execution_count": 92,
   "metadata": {},
   "outputs": [],
   "source": [
    "from sklearn.ensemble import AdaBoostRegressor"
   ]
  },
  {
   "cell_type": "code",
   "execution_count": 93,
   "metadata": {},
   "outputs": [
    {
     "name": "stdout",
     "output_type": "stream",
     "text": [
      "CV scores: [-0.62612785 -0.63610368 -0.70419332 -0.68575288 -0.65371367]\n"
     ]
    },
    {
     "data": {
      "text/plain": [
       "AdaBoostRegressor(loss='square', n_estimators=10, random_state=3927)"
      ]
     },
     "execution_count": 93,
     "metadata": {},
     "output_type": "execute_result"
    }
   ],
   "source": [
    "model = AdaBoostRegressor(n_estimators=10, loss='square', random_state=3927)\n",
    "\n",
    "model = train(model, X_train, y_train)\n",
    "model"
   ]
  },
  {
   "cell_type": "code",
   "execution_count": 96,
   "metadata": {},
   "outputs": [
    {
     "name": "stdout",
     "output_type": "stream",
     "text": [
      "CV scores: [-0.59987581 -0.60262106 -0.60742434 -0.6040483  -0.62469991]\n"
     ]
    },
    {
     "data": {
      "text/plain": [
       "AdaBoostRegressor(base_estimator=Ridge(alpha=1, random_state=3927),\n",
       "                  loss='square', n_estimators=2, random_state=3927)"
      ]
     },
     "execution_count": 96,
     "metadata": {},
     "output_type": "execute_result"
    }
   ],
   "source": [
    "base = Ridge(alpha=1, random_state=3927)\n",
    "model = AdaBoostRegressor(base_estimator=base, n_estimators=2, loss='square', random_state=3927)\n",
    "\n",
    "model = train(model, X_train, y_train)\n",
    "model"
   ]
  },
  {
   "cell_type": "code",
   "execution_count": 97,
   "metadata": {},
   "outputs": [
    {
     "name": "stdout",
     "output_type": "stream",
     "text": [
      "CV scores: [-0.5987626  -0.60642201 -0.61348093 -0.60559309 -0.63237204]\n"
     ]
    },
    {
     "data": {
      "text/plain": [
       "AdaBoostRegressor(base_estimator=SGDRegressor(alpha=0.01, l1_ratio=0.6,\n",
       "                                              max_iter=5000,\n",
       "                                              penalty='elasticnet',\n",
       "                                              random_state=3927),\n",
       "                  loss='square', n_estimators=2, random_state=3927)"
      ]
     },
     "execution_count": 97,
     "metadata": {},
     "output_type": "execute_result"
    }
   ],
   "source": [
    "base = SGDRegressor(max_iter=5000, alpha=0.01, l1_ratio=0.6, penalty='elasticnet', random_state=3927)\n",
    "model = AdaBoostRegressor(base_estimator=base, n_estimators=2, loss='square', random_state=3927)\n",
    "\n",
    "model = train(model, X_train, y_train)\n",
    "model"
   ]
  },
  {
   "cell_type": "markdown",
   "metadata": {},
   "source": [
    "#### GradientBoosting"
   ]
  },
  {
   "cell_type": "code",
   "execution_count": 98,
   "metadata": {},
   "outputs": [],
   "source": [
    "from sklearn.ensemble import GradientBoostingRegressor"
   ]
  },
  {
   "cell_type": "code",
   "execution_count": 99,
   "metadata": {},
   "outputs": [
    {
     "name": "stdout",
     "output_type": "stream",
     "text": [
      "CV scores: [-0.58158919 -0.57946082 -0.5900043  -0.58762625 -0.6051725 ]\n"
     ]
    },
    {
     "data": {
      "text/plain": [
       "GradientBoostingRegressor(n_estimators=10, random_state=3927)"
      ]
     },
     "execution_count": 99,
     "metadata": {},
     "output_type": "execute_result"
    }
   ],
   "source": [
    "model = GradientBoostingRegressor(n_estimators=10, random_state=3927)\n",
    "\n",
    "model = train(model, X_train, y_train)\n",
    "model"
   ]
  },
  {
   "cell_type": "code",
   "execution_count": 100,
   "metadata": {},
   "outputs": [
    {
     "name": "stdout",
     "output_type": "stream",
     "text": [
      "CV scores: [-0.53934113 -0.53961423 -0.55229335 -0.55318057 -0.56992807]\n"
     ]
    },
    {
     "data": {
      "text/plain": [
       "GradientBoostingRegressor(random_state=3927)"
      ]
     },
     "execution_count": 100,
     "metadata": {},
     "output_type": "execute_result"
    }
   ],
   "source": [
    "model = GradientBoostingRegressor(n_estimators=100, random_state=3927)\n",
    "\n",
    "model = train(model, X_train, y_train)\n",
    "model"
   ]
  },
  {
   "cell_type": "markdown",
   "metadata": {},
   "source": [
    "Выводы:  \n",
    "1. Большинство стандартных моделей показывает примерно одинаковые результаты (score ~ 0.6), кроме SGD (score ~ 0.53)\n",
    "2. Бустинги оказываются даже хуже SGD:\n",
    "    - AdaBoost показывал очень плохие результаты (score > 1) при n_estimators > 2; в противном случае всё равно достигался лишь score ~ 0.6\n",
    "    - GradientBoosting получил score ~ 0.55 (хуже, чем SGD) при тренировке 10 минут (дольше, чем SGD); возможно, стоило понастраивать гиперпараметры\n",
    "3. Bagging показал наилучший результат на public-е, и даже лучше на private-е:\n",
    "    - n_estimators = 10 -> public = 0.51010, private = 0.48320 (time ~ 0.15 m)\n",
    "    - n_estimators = 100 -> public = 0.49475, private = 0.47458 (time ~ 1.5 m)\n",
    "    - n_estimators = 1000 -> public = 0.49411, private = 0.47381 (time ~ 15 m)\n",
    "    \n",
    "    Как видно, при последнем переходе заметного улучшения уже не наблюдается, однако время тренировки возрастает многократно."
   ]
  },
  {
   "cell_type": "markdown",
   "metadata": {},
   "source": [
    "### Постобработка"
   ]
  },
  {
   "cell_type": "markdown",
   "metadata": {},
   "source": [
    "Тестируем"
   ]
  },
  {
   "cell_type": "code",
   "execution_count": 26,
   "metadata": {},
   "outputs": [
    {
     "data": {
      "text/html": [
       "<div>\n",
       "<style scoped>\n",
       "    .dataframe tbody tr th:only-of-type {\n",
       "        vertical-align: middle;\n",
       "    }\n",
       "\n",
       "    .dataframe tbody tr th {\n",
       "        vertical-align: top;\n",
       "    }\n",
       "\n",
       "    .dataframe thead th {\n",
       "        text-align: right;\n",
       "    }\n",
       "</style>\n",
       "<table border=\"1\" class=\"dataframe\">\n",
       "  <thead>\n",
       "    <tr style=\"text-align: right;\">\n",
       "      <th></th>\n",
       "      <th>id</th>\n",
       "      <th>prediction</th>\n",
       "    </tr>\n",
       "  </thead>\n",
       "  <tbody>\n",
       "    <tr>\n",
       "      <th>0</th>\n",
       "      <td>1</td>\n",
       "      <td>6.771005e+06</td>\n",
       "    </tr>\n",
       "    <tr>\n",
       "      <th>1</th>\n",
       "      <td>2</td>\n",
       "      <td>4.947073e+06</td>\n",
       "    </tr>\n",
       "    <tr>\n",
       "      <th>2</th>\n",
       "      <td>3</td>\n",
       "      <td>3.652721e+06</td>\n",
       "    </tr>\n",
       "    <tr>\n",
       "      <th>3</th>\n",
       "      <td>4</td>\n",
       "      <td>7.189662e+06</td>\n",
       "    </tr>\n",
       "    <tr>\n",
       "      <th>4</th>\n",
       "      <td>5</td>\n",
       "      <td>3.410794e+07</td>\n",
       "    </tr>\n",
       "  </tbody>\n",
       "</table>\n",
       "</div>"
      ],
      "text/plain": [
       "   id    prediction\n",
       "0   1  6.771005e+06\n",
       "1   2  4.947073e+06\n",
       "2   3  3.652721e+06\n",
       "3   4  7.189662e+06\n",
       "4   5  3.410794e+07"
      ]
     },
     "execution_count": 26,
     "metadata": {},
     "output_type": "execute_result"
    }
   ],
   "source": [
    "df_pred = test(model, X_test)\n",
    "df_pred.head()"
   ]
  },
  {
   "cell_type": "markdown",
   "metadata": {},
   "source": [
    "Удостоверимся, что нет отрицательных значений (так как в тренировочных метках все значения положительные);  \n",
    "при не очень удачной предобработке такие значения могут появиться."
   ]
  },
  {
   "cell_type": "code",
   "execution_count": 74,
   "metadata": {},
   "outputs": [
    {
     "data": {
      "text/plain": [
       "Series([], Name: target, dtype: int64)"
      ]
     },
     "execution_count": 74,
     "metadata": {},
     "output_type": "execute_result"
    }
   ],
   "source": [
    "y_train[y_train < 0]"
   ]
  },
  {
   "cell_type": "code",
   "execution_count": 27,
   "metadata": {},
   "outputs": [
    {
     "data": {
      "text/plain": [
       "Series([], Name: prediction, dtype: float64)"
      ]
     },
     "execution_count": 27,
     "metadata": {},
     "output_type": "execute_result"
    }
   ],
   "source": [
    "df_pred['prediction'][df_pred['prediction'] <= 100000]"
   ]
  },
  {
   "cell_type": "markdown",
   "metadata": {},
   "source": [
    "Экспортируем"
   ]
  },
  {
   "cell_type": "code",
   "execution_count": 28,
   "metadata": {},
   "outputs": [],
   "source": [
    "df_pred.to_csv(\"output/submission.csv\", index=False)"
   ]
  },
  {
   "cell_type": "code",
   "execution_count": null,
   "metadata": {},
   "outputs": [],
   "source": []
  }
 ],
 "metadata": {
  "interpreter": {
   "hash": "08185bf09d066e6467fc310b9bcfbc112bb9f55e576060cbccac4f7aed0eafad"
  },
  "kernelspec": {
   "display_name": "Python 3.8.10 64-bit",
   "language": "python",
   "name": "python3"
  },
  "language_info": {
   "codemirror_mode": {
    "name": "ipython",
    "version": 3
   },
   "file_extension": ".py",
   "mimetype": "text/x-python",
   "name": "python",
   "nbconvert_exporter": "python",
   "pygments_lexer": "ipython3",
   "version": "3.8.10"
  },
  "orig_nbformat": 4
 },
 "nbformat": 4,
 "nbformat_minor": 2
}
