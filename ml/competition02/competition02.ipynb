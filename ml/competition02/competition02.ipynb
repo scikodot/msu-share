{
 "cells": [
  {
   "cell_type": "code",
   "execution_count": 2,
   "metadata": {},
   "outputs": [],
   "source": [
    "df = pd.read_csv(\"input/train.csv\", index_col=False)"
   ]
  },
  {
   "cell_type": "code",
   "execution_count": 3,
   "metadata": {},
   "outputs": [
    {
     "data": {
      "text/html": [
       "<div>\n",
       "<style scoped>\n",
       "    .dataframe tbody tr th:only-of-type {\n",
       "        vertical-align: middle;\n",
       "    }\n",
       "\n",
       "    .dataframe tbody tr th {\n",
       "        vertical-align: top;\n",
       "    }\n",
       "\n",
       "    .dataframe thead th {\n",
       "        text-align: right;\n",
       "    }\n",
       "</style>\n",
       "<table border=\"1\" class=\"dataframe\">\n",
       "  <thead>\n",
       "    <tr style=\"text-align: right;\">\n",
       "      <th></th>\n",
       "      <th>id</th>\n",
       "      <th>f1</th>\n",
       "      <th>f2</th>\n",
       "      <th>f3</th>\n",
       "      <th>f4</th>\n",
       "      <th>f5</th>\n",
       "      <th>f6</th>\n",
       "      <th>f7</th>\n",
       "      <th>f8</th>\n",
       "      <th>f9</th>\n",
       "      <th>...</th>\n",
       "      <th>f282</th>\n",
       "      <th>f283</th>\n",
       "      <th>f284</th>\n",
       "      <th>f285</th>\n",
       "      <th>f286</th>\n",
       "      <th>f287</th>\n",
       "      <th>f288</th>\n",
       "      <th>f289</th>\n",
       "      <th>f290</th>\n",
       "      <th>target</th>\n",
       "    </tr>\n",
       "  </thead>\n",
       "  <tbody>\n",
       "    <tr>\n",
       "      <th>0</th>\n",
       "      <td>1</td>\n",
       "      <td>2014-01-29</td>\n",
       "      <td>69</td>\n",
       "      <td>38.0</td>\n",
       "      <td>7.0</td>\n",
       "      <td>10.0</td>\n",
       "      <td>1.0</td>\n",
       "      <td>2001.0</td>\n",
       "      <td>2.0</td>\n",
       "      <td>11.0</td>\n",
       "      <td>...</td>\n",
       "      <td>1</td>\n",
       "      <td>0</td>\n",
       "      <td>0</td>\n",
       "      <td>2</td>\n",
       "      <td>8</td>\n",
       "      <td>1</td>\n",
       "      <td>0</td>\n",
       "      <td>19</td>\n",
       "      <td>2</td>\n",
       "      <td>9500000</td>\n",
       "    </tr>\n",
       "    <tr>\n",
       "      <th>1</th>\n",
       "      <td>2</td>\n",
       "      <td>2014-04-07</td>\n",
       "      <td>55</td>\n",
       "      <td>NaN</td>\n",
       "      <td>2.0</td>\n",
       "      <td>1.0</td>\n",
       "      <td>4.0</td>\n",
       "      <td>NaN</td>\n",
       "      <td>2.0</td>\n",
       "      <td>10.0</td>\n",
       "      <td>...</td>\n",
       "      <td>0</td>\n",
       "      <td>0</td>\n",
       "      <td>0</td>\n",
       "      <td>0</td>\n",
       "      <td>4</td>\n",
       "      <td>0</td>\n",
       "      <td>0</td>\n",
       "      <td>2</td>\n",
       "      <td>0</td>\n",
       "      <td>3837949</td>\n",
       "    </tr>\n",
       "    <tr>\n",
       "      <th>2</th>\n",
       "      <td>3</td>\n",
       "      <td>2012-05-18</td>\n",
       "      <td>30</td>\n",
       "      <td>16.0</td>\n",
       "      <td>2.0</td>\n",
       "      <td>NaN</td>\n",
       "      <td>NaN</td>\n",
       "      <td>NaN</td>\n",
       "      <td>NaN</td>\n",
       "      <td>NaN</td>\n",
       "      <td>...</td>\n",
       "      <td>46</td>\n",
       "      <td>9</td>\n",
       "      <td>2</td>\n",
       "      <td>11</td>\n",
       "      <td>38</td>\n",
       "      <td>1</td>\n",
       "      <td>8</td>\n",
       "      <td>97</td>\n",
       "      <td>11</td>\n",
       "      <td>6250000</td>\n",
       "    </tr>\n",
       "    <tr>\n",
       "      <th>3</th>\n",
       "      <td>4</td>\n",
       "      <td>2013-02-08</td>\n",
       "      <td>44</td>\n",
       "      <td>43.0</td>\n",
       "      <td>1.0</td>\n",
       "      <td>NaN</td>\n",
       "      <td>NaN</td>\n",
       "      <td>NaN</td>\n",
       "      <td>NaN</td>\n",
       "      <td>NaN</td>\n",
       "      <td>...</td>\n",
       "      <td>17</td>\n",
       "      <td>4</td>\n",
       "      <td>1</td>\n",
       "      <td>12</td>\n",
       "      <td>12</td>\n",
       "      <td>0</td>\n",
       "      <td>1</td>\n",
       "      <td>55</td>\n",
       "      <td>7</td>\n",
       "      <td>2000000</td>\n",
       "    </tr>\n",
       "    <tr>\n",
       "      <th>4</th>\n",
       "      <td>5</td>\n",
       "      <td>2014-01-10</td>\n",
       "      <td>45</td>\n",
       "      <td>28.0</td>\n",
       "      <td>3.0</td>\n",
       "      <td>5.0</td>\n",
       "      <td>2.0</td>\n",
       "      <td>1960.0</td>\n",
       "      <td>2.0</td>\n",
       "      <td>5.0</td>\n",
       "      <td>...</td>\n",
       "      <td>20</td>\n",
       "      <td>2</td>\n",
       "      <td>0</td>\n",
       "      <td>4</td>\n",
       "      <td>16</td>\n",
       "      <td>1</td>\n",
       "      <td>4</td>\n",
       "      <td>47</td>\n",
       "      <td>5</td>\n",
       "      <td>6700000</td>\n",
       "    </tr>\n",
       "  </tbody>\n",
       "</table>\n",
       "<p>5 rows × 292 columns</p>\n",
       "</div>"
      ],
      "text/plain": [
       "   id          f1  f2    f3   f4    f5   f6      f7   f8    f9  ...  f282  \\\n",
       "0   1  2014-01-29  69  38.0  7.0  10.0  1.0  2001.0  2.0  11.0  ...     1   \n",
       "1   2  2014-04-07  55   NaN  2.0   1.0  4.0     NaN  2.0  10.0  ...     0   \n",
       "2   3  2012-05-18  30  16.0  2.0   NaN  NaN     NaN  NaN   NaN  ...    46   \n",
       "3   4  2013-02-08  44  43.0  1.0   NaN  NaN     NaN  NaN   NaN  ...    17   \n",
       "4   5  2014-01-10  45  28.0  3.0   5.0  2.0  1960.0  2.0   5.0  ...    20   \n",
       "\n",
       "  f283 f284  f285  f286  f287  f288  f289  f290   target  \n",
       "0    0    0     2     8     1     0    19     2  9500000  \n",
       "1    0    0     0     4     0     0     2     0  3837949  \n",
       "2    9    2    11    38     1     8    97    11  6250000  \n",
       "3    4    1    12    12     0     1    55     7  2000000  \n",
       "4    2    0     4    16     1     4    47     5  6700000  \n",
       "\n",
       "[5 rows x 292 columns]"
      ]
     },
     "execution_count": 3,
     "metadata": {},
     "output_type": "execute_result"
    }
   ],
   "source": [
    "df.head()"
   ]
  },
  {
   "cell_type": "code",
   "execution_count": 4,
   "metadata": {},
   "outputs": [
    {
     "data": {
      "text/plain": [
       "(24376, 292)"
      ]
     },
     "execution_count": 4,
     "metadata": {},
     "output_type": "execute_result"
    }
   ],
   "source": [
    "df.shape"
   ]
  },
  {
   "cell_type": "markdown",
   "metadata": {},
   "source": [
    "# Preprocessing"
   ]
  },
  {
   "cell_type": "markdown",
   "metadata": {},
   "source": [
    "## Check types"
   ]
  },
  {
   "cell_type": "code",
   "execution_count": 5,
   "metadata": {},
   "outputs": [
    {
     "data": {
      "text/plain": [
       "int64      157\n",
       "float64    119\n",
       "object      16\n",
       "dtype: int64"
      ]
     },
     "execution_count": 5,
     "metadata": {},
     "output_type": "execute_result"
    }
   ],
   "source": [
    "df.dtypes.value_counts()"
   ]
  },
  {
   "cell_type": "markdown",
   "metadata": {},
   "source": [
    "## Get notnums w/ indices"
   ]
  },
  {
   "cell_type": "code",
   "execution_count": 6,
   "metadata": {},
   "outputs": [
    {
     "data": {
      "text/plain": [
       "f1      object\n",
       "f11     object\n",
       "f12     object\n",
       "f29     object\n",
       "f33     object\n",
       "f34     object\n",
       "f35     object\n",
       "f36     object\n",
       "f37     object\n",
       "f38     object\n",
       "f39     object\n",
       "f40     object\n",
       "f106    object\n",
       "f114    object\n",
       "f118    object\n",
       "f152    object\n",
       "dtype: object"
      ]
     },
     "execution_count": 6,
     "metadata": {},
     "output_type": "execute_result"
    }
   ],
   "source": [
    "notnum = df.dtypes[df.dtypes == type(object)]\n",
    "notnum"
   ]
  },
  {
   "cell_type": "code",
   "execution_count": 7,
   "metadata": {},
   "outputs": [
    {
     "name": "stdout",
     "output_type": "stream",
     "text": [
      "['f1', 'f11', 'f12', 'f29', 'f33', 'f34', 'f35', 'f36', 'f37', 'f38', 'f39', 'f40', 'f106', 'f114', 'f118', 'f152']\n"
     ]
    }
   ],
   "source": [
    "notnum_index = list(notnum.index)\n",
    "print(notnum_index)"
   ]
  },
  {
   "cell_type": "code",
   "execution_count": 8,
   "metadata": {},
   "outputs": [
    {
     "data": {
      "text/html": [
       "<div>\n",
       "<style scoped>\n",
       "    .dataframe tbody tr th:only-of-type {\n",
       "        vertical-align: middle;\n",
       "    }\n",
       "\n",
       "    .dataframe tbody tr th {\n",
       "        vertical-align: top;\n",
       "    }\n",
       "\n",
       "    .dataframe thead th {\n",
       "        text-align: right;\n",
       "    }\n",
       "</style>\n",
       "<table border=\"1\" class=\"dataframe\">\n",
       "  <thead>\n",
       "    <tr style=\"text-align: right;\">\n",
       "      <th></th>\n",
       "      <th>f1</th>\n",
       "      <th>f11</th>\n",
       "      <th>f12</th>\n",
       "      <th>f29</th>\n",
       "      <th>f33</th>\n",
       "      <th>f34</th>\n",
       "      <th>f35</th>\n",
       "      <th>f36</th>\n",
       "      <th>f37</th>\n",
       "      <th>f38</th>\n",
       "      <th>f39</th>\n",
       "      <th>f40</th>\n",
       "      <th>f106</th>\n",
       "      <th>f114</th>\n",
       "      <th>f118</th>\n",
       "      <th>f152</th>\n",
       "    </tr>\n",
       "  </thead>\n",
       "  <tbody>\n",
       "    <tr>\n",
       "      <th>0</th>\n",
       "      <td>2014-01-29</td>\n",
       "      <td>Investment</td>\n",
       "      <td>Juzhnoe Butovo</td>\n",
       "      <td>no</td>\n",
       "      <td>no</td>\n",
       "      <td>no</td>\n",
       "      <td>no</td>\n",
       "      <td>no</td>\n",
       "      <td>no</td>\n",
       "      <td>no</td>\n",
       "      <td>no</td>\n",
       "      <td>no</td>\n",
       "      <td>no</td>\n",
       "      <td>no</td>\n",
       "      <td>no</td>\n",
       "      <td>good</td>\n",
       "    </tr>\n",
       "    <tr>\n",
       "      <th>1</th>\n",
       "      <td>2014-04-07</td>\n",
       "      <td>OwnerOccupier</td>\n",
       "      <td>Poselenie Filimonkovskoe</td>\n",
       "      <td>no</td>\n",
       "      <td>no</td>\n",
       "      <td>no</td>\n",
       "      <td>no</td>\n",
       "      <td>no</td>\n",
       "      <td>no</td>\n",
       "      <td>no</td>\n",
       "      <td>no</td>\n",
       "      <td>no</td>\n",
       "      <td>no</td>\n",
       "      <td>no</td>\n",
       "      <td>no</td>\n",
       "      <td>no data</td>\n",
       "    </tr>\n",
       "    <tr>\n",
       "      <th>2</th>\n",
       "      <td>2012-05-18</td>\n",
       "      <td>Investment</td>\n",
       "      <td>Lomonosovskoe</td>\n",
       "      <td>no</td>\n",
       "      <td>no</td>\n",
       "      <td>no</td>\n",
       "      <td>no</td>\n",
       "      <td>no</td>\n",
       "      <td>no</td>\n",
       "      <td>no</td>\n",
       "      <td>no</td>\n",
       "      <td>no</td>\n",
       "      <td>no</td>\n",
       "      <td>no</td>\n",
       "      <td>no</td>\n",
       "      <td>satisfactory</td>\n",
       "    </tr>\n",
       "    <tr>\n",
       "      <th>3</th>\n",
       "      <td>2013-02-08</td>\n",
       "      <td>Investment</td>\n",
       "      <td>Juzhnoe Tushino</td>\n",
       "      <td>no</td>\n",
       "      <td>no</td>\n",
       "      <td>no</td>\n",
       "      <td>no</td>\n",
       "      <td>no</td>\n",
       "      <td>no</td>\n",
       "      <td>no</td>\n",
       "      <td>no</td>\n",
       "      <td>no</td>\n",
       "      <td>no</td>\n",
       "      <td>no</td>\n",
       "      <td>no</td>\n",
       "      <td>poor</td>\n",
       "    </tr>\n",
       "    <tr>\n",
       "      <th>4</th>\n",
       "      <td>2014-01-10</td>\n",
       "      <td>Investment</td>\n",
       "      <td>Ochakovo-Matveevskoe</td>\n",
       "      <td>no</td>\n",
       "      <td>yes</td>\n",
       "      <td>no</td>\n",
       "      <td>no</td>\n",
       "      <td>no</td>\n",
       "      <td>no</td>\n",
       "      <td>no</td>\n",
       "      <td>no</td>\n",
       "      <td>no</td>\n",
       "      <td>no</td>\n",
       "      <td>no</td>\n",
       "      <td>no</td>\n",
       "      <td>satisfactory</td>\n",
       "    </tr>\n",
       "  </tbody>\n",
       "</table>\n",
       "</div>"
      ],
      "text/plain": [
       "           f1            f11                       f12 f29  f33 f34 f35 f36  \\\n",
       "0  2014-01-29     Investment            Juzhnoe Butovo  no   no  no  no  no   \n",
       "1  2014-04-07  OwnerOccupier  Poselenie Filimonkovskoe  no   no  no  no  no   \n",
       "2  2012-05-18     Investment             Lomonosovskoe  no   no  no  no  no   \n",
       "3  2013-02-08     Investment           Juzhnoe Tushino  no   no  no  no  no   \n",
       "4  2014-01-10     Investment      Ochakovo-Matveevskoe  no  yes  no  no  no   \n",
       "\n",
       "  f37 f38 f39 f40 f106 f114 f118          f152  \n",
       "0  no  no  no  no   no   no   no          good  \n",
       "1  no  no  no  no   no   no   no       no data  \n",
       "2  no  no  no  no   no   no   no  satisfactory  \n",
       "3  no  no  no  no   no   no   no          poor  \n",
       "4  no  no  no  no   no   no   no  satisfactory  "
      ]
     },
     "execution_count": 8,
     "metadata": {},
     "output_type": "execute_result"
    }
   ],
   "source": [
    "df[notnum_index].head()"
   ]
  },
  {
   "cell_type": "markdown",
   "metadata": {},
   "source": [
    "## Process f1"
   ]
  },
  {
   "cell_type": "code",
   "execution_count": 9,
   "metadata": {},
   "outputs": [
    {
     "data": {
      "text/html": [
       "<div>\n",
       "<style scoped>\n",
       "    .dataframe tbody tr th:only-of-type {\n",
       "        vertical-align: middle;\n",
       "    }\n",
       "\n",
       "    .dataframe tbody tr th {\n",
       "        vertical-align: top;\n",
       "    }\n",
       "\n",
       "    .dataframe thead th {\n",
       "        text-align: right;\n",
       "    }\n",
       "</style>\n",
       "<table border=\"1\" class=\"dataframe\">\n",
       "  <thead>\n",
       "    <tr style=\"text-align: right;\">\n",
       "      <th></th>\n",
       "      <th>f1y</th>\n",
       "      <th>f1m</th>\n",
       "      <th>f1d</th>\n",
       "    </tr>\n",
       "  </thead>\n",
       "  <tbody>\n",
       "    <tr>\n",
       "      <th>0</th>\n",
       "      <td>2014</td>\n",
       "      <td>1</td>\n",
       "      <td>29</td>\n",
       "    </tr>\n",
       "    <tr>\n",
       "      <th>1</th>\n",
       "      <td>2014</td>\n",
       "      <td>4</td>\n",
       "      <td>7</td>\n",
       "    </tr>\n",
       "    <tr>\n",
       "      <th>2</th>\n",
       "      <td>2012</td>\n",
       "      <td>5</td>\n",
       "      <td>18</td>\n",
       "    </tr>\n",
       "    <tr>\n",
       "      <th>3</th>\n",
       "      <td>2013</td>\n",
       "      <td>2</td>\n",
       "      <td>8</td>\n",
       "    </tr>\n",
       "    <tr>\n",
       "      <th>4</th>\n",
       "      <td>2014</td>\n",
       "      <td>1</td>\n",
       "      <td>10</td>\n",
       "    </tr>\n",
       "    <tr>\n",
       "      <th>...</th>\n",
       "      <td>...</td>\n",
       "      <td>...</td>\n",
       "      <td>...</td>\n",
       "    </tr>\n",
       "    <tr>\n",
       "      <th>24371</th>\n",
       "      <td>2014</td>\n",
       "      <td>12</td>\n",
       "      <td>21</td>\n",
       "    </tr>\n",
       "    <tr>\n",
       "      <th>24372</th>\n",
       "      <td>2012</td>\n",
       "      <td>5</td>\n",
       "      <td>10</td>\n",
       "    </tr>\n",
       "    <tr>\n",
       "      <th>24373</th>\n",
       "      <td>2013</td>\n",
       "      <td>12</td>\n",
       "      <td>18</td>\n",
       "    </tr>\n",
       "    <tr>\n",
       "      <th>24374</th>\n",
       "      <td>2014</td>\n",
       "      <td>12</td>\n",
       "      <td>8</td>\n",
       "    </tr>\n",
       "    <tr>\n",
       "      <th>24375</th>\n",
       "      <td>2015</td>\n",
       "      <td>4</td>\n",
       "      <td>30</td>\n",
       "    </tr>\n",
       "  </tbody>\n",
       "</table>\n",
       "<p>24376 rows × 3 columns</p>\n",
       "</div>"
      ],
      "text/plain": [
       "        f1y  f1m  f1d\n",
       "0      2014    1   29\n",
       "1      2014    4    7\n",
       "2      2012    5   18\n",
       "3      2013    2    8\n",
       "4      2014    1   10\n",
       "...     ...  ...  ...\n",
       "24371  2014   12   21\n",
       "24372  2012    5   10\n",
       "24373  2013   12   18\n",
       "24374  2014   12    8\n",
       "24375  2015    4   30\n",
       "\n",
       "[24376 rows x 3 columns]"
      ]
     },
     "execution_count": 9,
     "metadata": {},
     "output_type": "execute_result"
    }
   ],
   "source": [
    "ymd = df['f1'].str.split('-', expand=True).astype('int64').rename(columns={0: 'f1y', 1: 'f1m', 2: 'f1d'})\n",
    "ymd"
   ]
  },
  {
   "cell_type": "code",
   "execution_count": 10,
   "metadata": {},
   "outputs": [],
   "source": [
    "df_f1 = df.drop(['f1'], axis=1)\n",
    "df_f1.insert(1, 'f1y', ymd['f1y'])\n",
    "df_f1.insert(2, 'f1m', ymd['f1m'])\n",
    "df_f1.insert(3, 'f1d', ymd['f1d'])"
   ]
  },
  {
   "cell_type": "code",
   "execution_count": 11,
   "metadata": {},
   "outputs": [
    {
     "name": "stdout",
     "output_type": "stream",
     "text": [
      "['f1y', 'f1m', 'f1d', 'f11', 'f12', 'f29', 'f33', 'f34', 'f35', 'f36', 'f37', 'f38', 'f39', 'f40', 'f106', 'f114', 'f118', 'f152']\n"
     ]
    }
   ],
   "source": [
    "notnum_index = ['f1y', 'f1m', 'f1d'] + notnum_index[1:]\n",
    "print(notnum_index)"
   ]
  },
  {
   "cell_type": "code",
   "execution_count": 12,
   "metadata": {},
   "outputs": [
    {
     "data": {
      "text/html": [
       "<div>\n",
       "<style scoped>\n",
       "    .dataframe tbody tr th:only-of-type {\n",
       "        vertical-align: middle;\n",
       "    }\n",
       "\n",
       "    .dataframe tbody tr th {\n",
       "        vertical-align: top;\n",
       "    }\n",
       "\n",
       "    .dataframe thead th {\n",
       "        text-align: right;\n",
       "    }\n",
       "</style>\n",
       "<table border=\"1\" class=\"dataframe\">\n",
       "  <thead>\n",
       "    <tr style=\"text-align: right;\">\n",
       "      <th></th>\n",
       "      <th>f1y</th>\n",
       "      <th>f1m</th>\n",
       "      <th>f1d</th>\n",
       "      <th>f11</th>\n",
       "      <th>f12</th>\n",
       "      <th>f29</th>\n",
       "      <th>f33</th>\n",
       "      <th>f34</th>\n",
       "      <th>f35</th>\n",
       "      <th>f36</th>\n",
       "      <th>f37</th>\n",
       "      <th>f38</th>\n",
       "      <th>f39</th>\n",
       "      <th>f40</th>\n",
       "      <th>f106</th>\n",
       "      <th>f114</th>\n",
       "      <th>f118</th>\n",
       "      <th>f152</th>\n",
       "    </tr>\n",
       "  </thead>\n",
       "  <tbody>\n",
       "    <tr>\n",
       "      <th>0</th>\n",
       "      <td>2014</td>\n",
       "      <td>1</td>\n",
       "      <td>29</td>\n",
       "      <td>Investment</td>\n",
       "      <td>Juzhnoe Butovo</td>\n",
       "      <td>no</td>\n",
       "      <td>no</td>\n",
       "      <td>no</td>\n",
       "      <td>no</td>\n",
       "      <td>no</td>\n",
       "      <td>no</td>\n",
       "      <td>no</td>\n",
       "      <td>no</td>\n",
       "      <td>no</td>\n",
       "      <td>no</td>\n",
       "      <td>no</td>\n",
       "      <td>no</td>\n",
       "      <td>good</td>\n",
       "    </tr>\n",
       "    <tr>\n",
       "      <th>1</th>\n",
       "      <td>2014</td>\n",
       "      <td>4</td>\n",
       "      <td>7</td>\n",
       "      <td>OwnerOccupier</td>\n",
       "      <td>Poselenie Filimonkovskoe</td>\n",
       "      <td>no</td>\n",
       "      <td>no</td>\n",
       "      <td>no</td>\n",
       "      <td>no</td>\n",
       "      <td>no</td>\n",
       "      <td>no</td>\n",
       "      <td>no</td>\n",
       "      <td>no</td>\n",
       "      <td>no</td>\n",
       "      <td>no</td>\n",
       "      <td>no</td>\n",
       "      <td>no</td>\n",
       "      <td>no data</td>\n",
       "    </tr>\n",
       "    <tr>\n",
       "      <th>2</th>\n",
       "      <td>2012</td>\n",
       "      <td>5</td>\n",
       "      <td>18</td>\n",
       "      <td>Investment</td>\n",
       "      <td>Lomonosovskoe</td>\n",
       "      <td>no</td>\n",
       "      <td>no</td>\n",
       "      <td>no</td>\n",
       "      <td>no</td>\n",
       "      <td>no</td>\n",
       "      <td>no</td>\n",
       "      <td>no</td>\n",
       "      <td>no</td>\n",
       "      <td>no</td>\n",
       "      <td>no</td>\n",
       "      <td>no</td>\n",
       "      <td>no</td>\n",
       "      <td>satisfactory</td>\n",
       "    </tr>\n",
       "    <tr>\n",
       "      <th>3</th>\n",
       "      <td>2013</td>\n",
       "      <td>2</td>\n",
       "      <td>8</td>\n",
       "      <td>Investment</td>\n",
       "      <td>Juzhnoe Tushino</td>\n",
       "      <td>no</td>\n",
       "      <td>no</td>\n",
       "      <td>no</td>\n",
       "      <td>no</td>\n",
       "      <td>no</td>\n",
       "      <td>no</td>\n",
       "      <td>no</td>\n",
       "      <td>no</td>\n",
       "      <td>no</td>\n",
       "      <td>no</td>\n",
       "      <td>no</td>\n",
       "      <td>no</td>\n",
       "      <td>poor</td>\n",
       "    </tr>\n",
       "    <tr>\n",
       "      <th>4</th>\n",
       "      <td>2014</td>\n",
       "      <td>1</td>\n",
       "      <td>10</td>\n",
       "      <td>Investment</td>\n",
       "      <td>Ochakovo-Matveevskoe</td>\n",
       "      <td>no</td>\n",
       "      <td>yes</td>\n",
       "      <td>no</td>\n",
       "      <td>no</td>\n",
       "      <td>no</td>\n",
       "      <td>no</td>\n",
       "      <td>no</td>\n",
       "      <td>no</td>\n",
       "      <td>no</td>\n",
       "      <td>no</td>\n",
       "      <td>no</td>\n",
       "      <td>no</td>\n",
       "      <td>satisfactory</td>\n",
       "    </tr>\n",
       "  </tbody>\n",
       "</table>\n",
       "</div>"
      ],
      "text/plain": [
       "    f1y  f1m  f1d            f11                       f12 f29  f33 f34 f35  \\\n",
       "0  2014    1   29     Investment            Juzhnoe Butovo  no   no  no  no   \n",
       "1  2014    4    7  OwnerOccupier  Poselenie Filimonkovskoe  no   no  no  no   \n",
       "2  2012    5   18     Investment             Lomonosovskoe  no   no  no  no   \n",
       "3  2013    2    8     Investment           Juzhnoe Tushino  no   no  no  no   \n",
       "4  2014    1   10     Investment      Ochakovo-Matveevskoe  no  yes  no  no   \n",
       "\n",
       "  f36 f37 f38 f39 f40 f106 f114 f118          f152  \n",
       "0  no  no  no  no  no   no   no   no          good  \n",
       "1  no  no  no  no  no   no   no   no       no data  \n",
       "2  no  no  no  no  no   no   no   no  satisfactory  \n",
       "3  no  no  no  no  no   no   no   no          poor  \n",
       "4  no  no  no  no  no   no   no   no  satisfactory  "
      ]
     },
     "execution_count": 12,
     "metadata": {},
     "output_type": "execute_result"
    }
   ],
   "source": [
    "df_f1[notnum_index].head()"
   ]
  },
  {
   "cell_type": "markdown",
   "metadata": {},
   "source": [
    "## Process f11"
   ]
  },
  {
   "cell_type": "code",
   "execution_count": 13,
   "metadata": {},
   "outputs": [
    {
     "data": {
      "text/plain": [
       "array(['Investment', 'OwnerOccupier'], dtype=object)"
      ]
     },
     "execution_count": 13,
     "metadata": {},
     "output_type": "execute_result"
    }
   ],
   "source": [
    "f11_unique = df_f1['f11'].unique()\n",
    "f11_unique"
   ]
  },
  {
   "cell_type": "code",
   "execution_count": 14,
   "metadata": {},
   "outputs": [
    {
     "data": {
      "text/plain": [
       "{'Investment': 0, 'OwnerOccupier': 1}"
      ]
     },
     "execution_count": 14,
     "metadata": {},
     "output_type": "execute_result"
    }
   ],
   "source": [
    "f11_encode = dict(zip(f11_unique, range(len(f11_unique))))\n",
    "f11_encode"
   ]
  },
  {
   "cell_type": "code",
   "execution_count": 15,
   "metadata": {},
   "outputs": [
    {
     "data": {
      "text/html": [
       "<div>\n",
       "<style scoped>\n",
       "    .dataframe tbody tr th:only-of-type {\n",
       "        vertical-align: middle;\n",
       "    }\n",
       "\n",
       "    .dataframe tbody tr th {\n",
       "        vertical-align: top;\n",
       "    }\n",
       "\n",
       "    .dataframe thead th {\n",
       "        text-align: right;\n",
       "    }\n",
       "</style>\n",
       "<table border=\"1\" class=\"dataframe\">\n",
       "  <thead>\n",
       "    <tr style=\"text-align: right;\">\n",
       "      <th></th>\n",
       "      <th>f1y</th>\n",
       "      <th>f1m</th>\n",
       "      <th>f1d</th>\n",
       "      <th>f11</th>\n",
       "      <th>f12</th>\n",
       "      <th>f29</th>\n",
       "      <th>f33</th>\n",
       "      <th>f34</th>\n",
       "      <th>f35</th>\n",
       "      <th>f36</th>\n",
       "      <th>f37</th>\n",
       "      <th>f38</th>\n",
       "      <th>f39</th>\n",
       "      <th>f40</th>\n",
       "      <th>f106</th>\n",
       "      <th>f114</th>\n",
       "      <th>f118</th>\n",
       "      <th>f152</th>\n",
       "    </tr>\n",
       "  </thead>\n",
       "  <tbody>\n",
       "    <tr>\n",
       "      <th>0</th>\n",
       "      <td>2014</td>\n",
       "      <td>1</td>\n",
       "      <td>29</td>\n",
       "      <td>0</td>\n",
       "      <td>Juzhnoe Butovo</td>\n",
       "      <td>no</td>\n",
       "      <td>no</td>\n",
       "      <td>no</td>\n",
       "      <td>no</td>\n",
       "      <td>no</td>\n",
       "      <td>no</td>\n",
       "      <td>no</td>\n",
       "      <td>no</td>\n",
       "      <td>no</td>\n",
       "      <td>no</td>\n",
       "      <td>no</td>\n",
       "      <td>no</td>\n",
       "      <td>good</td>\n",
       "    </tr>\n",
       "    <tr>\n",
       "      <th>1</th>\n",
       "      <td>2014</td>\n",
       "      <td>4</td>\n",
       "      <td>7</td>\n",
       "      <td>1</td>\n",
       "      <td>Poselenie Filimonkovskoe</td>\n",
       "      <td>no</td>\n",
       "      <td>no</td>\n",
       "      <td>no</td>\n",
       "      <td>no</td>\n",
       "      <td>no</td>\n",
       "      <td>no</td>\n",
       "      <td>no</td>\n",
       "      <td>no</td>\n",
       "      <td>no</td>\n",
       "      <td>no</td>\n",
       "      <td>no</td>\n",
       "      <td>no</td>\n",
       "      <td>no data</td>\n",
       "    </tr>\n",
       "    <tr>\n",
       "      <th>2</th>\n",
       "      <td>2012</td>\n",
       "      <td>5</td>\n",
       "      <td>18</td>\n",
       "      <td>0</td>\n",
       "      <td>Lomonosovskoe</td>\n",
       "      <td>no</td>\n",
       "      <td>no</td>\n",
       "      <td>no</td>\n",
       "      <td>no</td>\n",
       "      <td>no</td>\n",
       "      <td>no</td>\n",
       "      <td>no</td>\n",
       "      <td>no</td>\n",
       "      <td>no</td>\n",
       "      <td>no</td>\n",
       "      <td>no</td>\n",
       "      <td>no</td>\n",
       "      <td>satisfactory</td>\n",
       "    </tr>\n",
       "    <tr>\n",
       "      <th>3</th>\n",
       "      <td>2013</td>\n",
       "      <td>2</td>\n",
       "      <td>8</td>\n",
       "      <td>0</td>\n",
       "      <td>Juzhnoe Tushino</td>\n",
       "      <td>no</td>\n",
       "      <td>no</td>\n",
       "      <td>no</td>\n",
       "      <td>no</td>\n",
       "      <td>no</td>\n",
       "      <td>no</td>\n",
       "      <td>no</td>\n",
       "      <td>no</td>\n",
       "      <td>no</td>\n",
       "      <td>no</td>\n",
       "      <td>no</td>\n",
       "      <td>no</td>\n",
       "      <td>poor</td>\n",
       "    </tr>\n",
       "    <tr>\n",
       "      <th>4</th>\n",
       "      <td>2014</td>\n",
       "      <td>1</td>\n",
       "      <td>10</td>\n",
       "      <td>0</td>\n",
       "      <td>Ochakovo-Matveevskoe</td>\n",
       "      <td>no</td>\n",
       "      <td>yes</td>\n",
       "      <td>no</td>\n",
       "      <td>no</td>\n",
       "      <td>no</td>\n",
       "      <td>no</td>\n",
       "      <td>no</td>\n",
       "      <td>no</td>\n",
       "      <td>no</td>\n",
       "      <td>no</td>\n",
       "      <td>no</td>\n",
       "      <td>no</td>\n",
       "      <td>satisfactory</td>\n",
       "    </tr>\n",
       "  </tbody>\n",
       "</table>\n",
       "</div>"
      ],
      "text/plain": [
       "    f1y  f1m  f1d  f11                       f12 f29  f33 f34 f35 f36 f37 f38  \\\n",
       "0  2014    1   29    0            Juzhnoe Butovo  no   no  no  no  no  no  no   \n",
       "1  2014    4    7    1  Poselenie Filimonkovskoe  no   no  no  no  no  no  no   \n",
       "2  2012    5   18    0             Lomonosovskoe  no   no  no  no  no  no  no   \n",
       "3  2013    2    8    0           Juzhnoe Tushino  no   no  no  no  no  no  no   \n",
       "4  2014    1   10    0      Ochakovo-Matveevskoe  no  yes  no  no  no  no  no   \n",
       "\n",
       "  f39 f40 f106 f114 f118          f152  \n",
       "0  no  no   no   no   no          good  \n",
       "1  no  no   no   no   no       no data  \n",
       "2  no  no   no   no   no  satisfactory  \n",
       "3  no  no   no   no   no          poor  \n",
       "4  no  no   no   no   no  satisfactory  "
      ]
     },
     "execution_count": 15,
     "metadata": {},
     "output_type": "execute_result"
    }
   ],
   "source": [
    "df_f11 = df_f1.replace({'f11': f11_encode})\n",
    "df_f11[notnum_index].head()"
   ]
  },
  {
   "cell_type": "markdown",
   "metadata": {},
   "source": [
    "## Process f12"
   ]
  },
  {
   "cell_type": "code",
   "execution_count": 16,
   "metadata": {},
   "outputs": [
    {
     "data": {
      "text/plain": [
       "array(['Juzhnoe Butovo', 'Poselenie Filimonkovskoe', 'Lomonosovskoe',\n",
       "       'Juzhnoe Tushino', 'Ochakovo-Matveevskoe', 'Poselenie Sosenskoe',\n",
       "       'Orehovo-Borisovo Juzhnoe', 'Hovrino', 'Sokol',\n",
       "       'Nagatinskij Zaton', \"Kon'kovo\", 'Obruchevskoe',\n",
       "       'Poselenie Vnukovskoe', 'Preobrazhenskoe', 'Poselenie Moskovskij',\n",
       "       'Bibirevo', 'Jasenevo', 'Mitino', 'Birjulevo Vostochnoe',\n",
       "       'Koptevo', 'Beskudnikovskoe', 'Butyrskoe', 'Losinoostrovskoe',\n",
       "       'Novo-Peredelkino', 'Caricyno', 'Veshnjaki', 'Tverskoe', 'Perovo',\n",
       "       'Jaroslavskoe', 'Strogino', 'Nekrasovka', 'Horoshevo-Mnevniki',\n",
       "       'Filevskij Park', 'Bogorodskoe', 'Savelki',\n",
       "       'Poselenie Desjonovskoe', \"Chertanovo Central'noe\",\n",
       "       'Timirjazevskoe', 'Zapadnoe Degunino', 'Pokrovskoe Streshnevo',\n",
       "       'Severnoe Butovo', 'Kapotnja', 'Sviblovo', 'Danilovskoe',\n",
       "       'Sokolinaja Gora', 'Vostochnoe Izmajlovo', 'Matushkino',\n",
       "       'Krjukovo', \"Krasnosel'skoe\", 'Ajeroport', 'Taganskoe',\n",
       "       'Cheremushki', 'Krylatskoe', 'Rostokino',\n",
       "       'Poselenie Novofedorovskoe', 'Brateevo', 'Novogireevo', 'Solncevo',\n",
       "       'Troparevo-Nikulino', 'Poselenie Shherbinka', 'Mozhajskoe',\n",
       "       'Nagatino-Sadovniki', 'Babushkinskoe', 'Poselenie Voskresenskoe',\n",
       "       'Presnenskoe', 'Fili Davydkovo', 'Kotlovka', 'Severnoe Tushino',\n",
       "       'Levoberezhnoe', 'Metrogorodok', 'Severnoe Izmajlovo', 'Jakimanka',\n",
       "       'Ramenki', 'Golovinskoe', \"Gol'janovo\", 'Novokosino',\n",
       "       'Chertanovo Juzhnoe', 'Vnukovo', \"Tekstil'shhiki\", \"Kuz'minki\",\n",
       "       'Poselenie Shhapovskoe', 'Pechatniki', 'Juzhnoe Medvedkovo',\n",
       "       'Akademicheskoe', 'Poselenie Mosrentgen', 'Izmajlovo', \"Mar'ino\",\n",
       "       'Ljublino', 'Dmitrovskoe', 'Meshhanskoe',\n",
       "       'Orehovo-Borisovo Severnoe', 'Alekseevskoe',\n",
       "       'Prospekt Vernadskogo', 'Shhukino', 'Basmannoe', 'Troickij okrug',\n",
       "       'Vojkovskoe', 'Horoshevskoe', 'Chertanovo Severnoe', 'Zjablikovo',\n",
       "       'Hamovniki', 'Marfino', 'Savelovskoe', 'Teplyj Stan', 'Otradnoe',\n",
       "       'Vyhino-Zhulebino', 'Silino', 'Ivanovskoe', 'Poselenie Rogovskoe',\n",
       "       'Kuncevo', 'Severnoe Medvedkovo', 'Rjazanskij',\n",
       "       'Poselenie Pervomajskoe', 'Zjuzino', 'Juzhnoportovoe', 'Nagornoe',\n",
       "       'Poselenie Krasnopahorskoe', \"Sokol'niki\", \"Altuf'evskoe\",\n",
       "       'Kosino-Uhtomskoe', 'Nizhegorodskoe', 'Dorogomilovo',\n",
       "       'Vostochnoe Degunino', 'Lianozovo', \"Mar'ina Roshha\",\n",
       "       'Gagarinskoe', 'Lefortovo', 'Staroe Krjukovo', 'Arbat',\n",
       "       \"Zamoskvorech'e\", 'Kurkino', \"Moskvorech'e-Saburovo\", 'Begovoe',\n",
       "       'Donskoe', 'Poselenie Marushkinskoe', 'Birjulevo Zapadnoe',\n",
       "       'Ostankinskoe', 'Poselenie Kokoshkino', 'Poselenie Rjazanovskoe',\n",
       "       'Poselenie Klenovskoe', 'Poselenie Voronovskoe', 'Severnoe',\n",
       "       'Vostochnoe', 'Poselenie Kievskij', 'Molzhaninovskoe',\n",
       "       'Poselenie Mihajlovo-Jarcevskoe'], dtype=object)"
      ]
     },
     "execution_count": 16,
     "metadata": {},
     "output_type": "execute_result"
    }
   ],
   "source": [
    "f12_unique = df_f11['f12'].unique()\n",
    "f12_unique"
   ]
  },
  {
   "cell_type": "code",
   "execution_count": 17,
   "metadata": {},
   "outputs": [
    {
     "data": {
      "text/plain": [
       "{'Juzhnoe Butovo': 0,\n",
       " 'Poselenie Filimonkovskoe': 1,\n",
       " 'Lomonosovskoe': 2,\n",
       " 'Juzhnoe Tushino': 3,\n",
       " 'Ochakovo-Matveevskoe': 4,\n",
       " 'Poselenie Sosenskoe': 5,\n",
       " 'Orehovo-Borisovo Juzhnoe': 6,\n",
       " 'Hovrino': 7,\n",
       " 'Sokol': 8,\n",
       " 'Nagatinskij Zaton': 9,\n",
       " \"Kon'kovo\": 10,\n",
       " 'Obruchevskoe': 11,\n",
       " 'Poselenie Vnukovskoe': 12,\n",
       " 'Preobrazhenskoe': 13,\n",
       " 'Poselenie Moskovskij': 14,\n",
       " 'Bibirevo': 15,\n",
       " 'Jasenevo': 16,\n",
       " 'Mitino': 17,\n",
       " 'Birjulevo Vostochnoe': 18,\n",
       " 'Koptevo': 19,\n",
       " 'Beskudnikovskoe': 20,\n",
       " 'Butyrskoe': 21,\n",
       " 'Losinoostrovskoe': 22,\n",
       " 'Novo-Peredelkino': 23,\n",
       " 'Caricyno': 24,\n",
       " 'Veshnjaki': 25,\n",
       " 'Tverskoe': 26,\n",
       " 'Perovo': 27,\n",
       " 'Jaroslavskoe': 28,\n",
       " 'Strogino': 29,\n",
       " 'Nekrasovka': 30,\n",
       " 'Horoshevo-Mnevniki': 31,\n",
       " 'Filevskij Park': 32,\n",
       " 'Bogorodskoe': 33,\n",
       " 'Savelki': 34,\n",
       " 'Poselenie Desjonovskoe': 35,\n",
       " \"Chertanovo Central'noe\": 36,\n",
       " 'Timirjazevskoe': 37,\n",
       " 'Zapadnoe Degunino': 38,\n",
       " 'Pokrovskoe Streshnevo': 39,\n",
       " 'Severnoe Butovo': 40,\n",
       " 'Kapotnja': 41,\n",
       " 'Sviblovo': 42,\n",
       " 'Danilovskoe': 43,\n",
       " 'Sokolinaja Gora': 44,\n",
       " 'Vostochnoe Izmajlovo': 45,\n",
       " 'Matushkino': 46,\n",
       " 'Krjukovo': 47,\n",
       " \"Krasnosel'skoe\": 48,\n",
       " 'Ajeroport': 49,\n",
       " 'Taganskoe': 50,\n",
       " 'Cheremushki': 51,\n",
       " 'Krylatskoe': 52,\n",
       " 'Rostokino': 53,\n",
       " 'Poselenie Novofedorovskoe': 54,\n",
       " 'Brateevo': 55,\n",
       " 'Novogireevo': 56,\n",
       " 'Solncevo': 57,\n",
       " 'Troparevo-Nikulino': 58,\n",
       " 'Poselenie Shherbinka': 59,\n",
       " 'Mozhajskoe': 60,\n",
       " 'Nagatino-Sadovniki': 61,\n",
       " 'Babushkinskoe': 62,\n",
       " 'Poselenie Voskresenskoe': 63,\n",
       " 'Presnenskoe': 64,\n",
       " 'Fili Davydkovo': 65,\n",
       " 'Kotlovka': 66,\n",
       " 'Severnoe Tushino': 67,\n",
       " 'Levoberezhnoe': 68,\n",
       " 'Metrogorodok': 69,\n",
       " 'Severnoe Izmajlovo': 70,\n",
       " 'Jakimanka': 71,\n",
       " 'Ramenki': 72,\n",
       " 'Golovinskoe': 73,\n",
       " \"Gol'janovo\": 74,\n",
       " 'Novokosino': 75,\n",
       " 'Chertanovo Juzhnoe': 76,\n",
       " 'Vnukovo': 77,\n",
       " \"Tekstil'shhiki\": 78,\n",
       " \"Kuz'minki\": 79,\n",
       " 'Poselenie Shhapovskoe': 80,\n",
       " 'Pechatniki': 81,\n",
       " 'Juzhnoe Medvedkovo': 82,\n",
       " 'Akademicheskoe': 83,\n",
       " 'Poselenie Mosrentgen': 84,\n",
       " 'Izmajlovo': 85,\n",
       " \"Mar'ino\": 86,\n",
       " 'Ljublino': 87,\n",
       " 'Dmitrovskoe': 88,\n",
       " 'Meshhanskoe': 89,\n",
       " 'Orehovo-Borisovo Severnoe': 90,\n",
       " 'Alekseevskoe': 91,\n",
       " 'Prospekt Vernadskogo': 92,\n",
       " 'Shhukino': 93,\n",
       " 'Basmannoe': 94,\n",
       " 'Troickij okrug': 95,\n",
       " 'Vojkovskoe': 96,\n",
       " 'Horoshevskoe': 97,\n",
       " 'Chertanovo Severnoe': 98,\n",
       " 'Zjablikovo': 99,\n",
       " 'Hamovniki': 100,\n",
       " 'Marfino': 101,\n",
       " 'Savelovskoe': 102,\n",
       " 'Teplyj Stan': 103,\n",
       " 'Otradnoe': 104,\n",
       " 'Vyhino-Zhulebino': 105,\n",
       " 'Silino': 106,\n",
       " 'Ivanovskoe': 107,\n",
       " 'Poselenie Rogovskoe': 108,\n",
       " 'Kuncevo': 109,\n",
       " 'Severnoe Medvedkovo': 110,\n",
       " 'Rjazanskij': 111,\n",
       " 'Poselenie Pervomajskoe': 112,\n",
       " 'Zjuzino': 113,\n",
       " 'Juzhnoportovoe': 114,\n",
       " 'Nagornoe': 115,\n",
       " 'Poselenie Krasnopahorskoe': 116,\n",
       " \"Sokol'niki\": 117,\n",
       " \"Altuf'evskoe\": 118,\n",
       " 'Kosino-Uhtomskoe': 119,\n",
       " 'Nizhegorodskoe': 120,\n",
       " 'Dorogomilovo': 121,\n",
       " 'Vostochnoe Degunino': 122,\n",
       " 'Lianozovo': 123,\n",
       " \"Mar'ina Roshha\": 124,\n",
       " 'Gagarinskoe': 125,\n",
       " 'Lefortovo': 126,\n",
       " 'Staroe Krjukovo': 127,\n",
       " 'Arbat': 128,\n",
       " \"Zamoskvorech'e\": 129,\n",
       " 'Kurkino': 130,\n",
       " \"Moskvorech'e-Saburovo\": 131,\n",
       " 'Begovoe': 132,\n",
       " 'Donskoe': 133,\n",
       " 'Poselenie Marushkinskoe': 134,\n",
       " 'Birjulevo Zapadnoe': 135,\n",
       " 'Ostankinskoe': 136,\n",
       " 'Poselenie Kokoshkino': 137,\n",
       " 'Poselenie Rjazanovskoe': 138,\n",
       " 'Poselenie Klenovskoe': 139,\n",
       " 'Poselenie Voronovskoe': 140,\n",
       " 'Severnoe': 141,\n",
       " 'Vostochnoe': 142,\n",
       " 'Poselenie Kievskij': 143,\n",
       " 'Molzhaninovskoe': 144,\n",
       " 'Poselenie Mihajlovo-Jarcevskoe': 145}"
      ]
     },
     "execution_count": 17,
     "metadata": {},
     "output_type": "execute_result"
    }
   ],
   "source": [
    "f12_encode = dict(zip(f12_unique, range(len(f12_unique))))\n",
    "f12_encode"
   ]
  },
  {
   "cell_type": "code",
   "execution_count": 18,
   "metadata": {},
   "outputs": [
    {
     "data": {
      "text/html": [
       "<div>\n",
       "<style scoped>\n",
       "    .dataframe tbody tr th:only-of-type {\n",
       "        vertical-align: middle;\n",
       "    }\n",
       "\n",
       "    .dataframe tbody tr th {\n",
       "        vertical-align: top;\n",
       "    }\n",
       "\n",
       "    .dataframe thead th {\n",
       "        text-align: right;\n",
       "    }\n",
       "</style>\n",
       "<table border=\"1\" class=\"dataframe\">\n",
       "  <thead>\n",
       "    <tr style=\"text-align: right;\">\n",
       "      <th></th>\n",
       "      <th>f1y</th>\n",
       "      <th>f1m</th>\n",
       "      <th>f1d</th>\n",
       "      <th>f11</th>\n",
       "      <th>f12</th>\n",
       "      <th>f29</th>\n",
       "      <th>f33</th>\n",
       "      <th>f34</th>\n",
       "      <th>f35</th>\n",
       "      <th>f36</th>\n",
       "      <th>f37</th>\n",
       "      <th>f38</th>\n",
       "      <th>f39</th>\n",
       "      <th>f40</th>\n",
       "      <th>f106</th>\n",
       "      <th>f114</th>\n",
       "      <th>f118</th>\n",
       "      <th>f152</th>\n",
       "    </tr>\n",
       "  </thead>\n",
       "  <tbody>\n",
       "    <tr>\n",
       "      <th>0</th>\n",
       "      <td>2014</td>\n",
       "      <td>1</td>\n",
       "      <td>29</td>\n",
       "      <td>0</td>\n",
       "      <td>0</td>\n",
       "      <td>no</td>\n",
       "      <td>no</td>\n",
       "      <td>no</td>\n",
       "      <td>no</td>\n",
       "      <td>no</td>\n",
       "      <td>no</td>\n",
       "      <td>no</td>\n",
       "      <td>no</td>\n",
       "      <td>no</td>\n",
       "      <td>no</td>\n",
       "      <td>no</td>\n",
       "      <td>no</td>\n",
       "      <td>good</td>\n",
       "    </tr>\n",
       "    <tr>\n",
       "      <th>1</th>\n",
       "      <td>2014</td>\n",
       "      <td>4</td>\n",
       "      <td>7</td>\n",
       "      <td>1</td>\n",
       "      <td>1</td>\n",
       "      <td>no</td>\n",
       "      <td>no</td>\n",
       "      <td>no</td>\n",
       "      <td>no</td>\n",
       "      <td>no</td>\n",
       "      <td>no</td>\n",
       "      <td>no</td>\n",
       "      <td>no</td>\n",
       "      <td>no</td>\n",
       "      <td>no</td>\n",
       "      <td>no</td>\n",
       "      <td>no</td>\n",
       "      <td>no data</td>\n",
       "    </tr>\n",
       "    <tr>\n",
       "      <th>2</th>\n",
       "      <td>2012</td>\n",
       "      <td>5</td>\n",
       "      <td>18</td>\n",
       "      <td>0</td>\n",
       "      <td>2</td>\n",
       "      <td>no</td>\n",
       "      <td>no</td>\n",
       "      <td>no</td>\n",
       "      <td>no</td>\n",
       "      <td>no</td>\n",
       "      <td>no</td>\n",
       "      <td>no</td>\n",
       "      <td>no</td>\n",
       "      <td>no</td>\n",
       "      <td>no</td>\n",
       "      <td>no</td>\n",
       "      <td>no</td>\n",
       "      <td>satisfactory</td>\n",
       "    </tr>\n",
       "    <tr>\n",
       "      <th>3</th>\n",
       "      <td>2013</td>\n",
       "      <td>2</td>\n",
       "      <td>8</td>\n",
       "      <td>0</td>\n",
       "      <td>3</td>\n",
       "      <td>no</td>\n",
       "      <td>no</td>\n",
       "      <td>no</td>\n",
       "      <td>no</td>\n",
       "      <td>no</td>\n",
       "      <td>no</td>\n",
       "      <td>no</td>\n",
       "      <td>no</td>\n",
       "      <td>no</td>\n",
       "      <td>no</td>\n",
       "      <td>no</td>\n",
       "      <td>no</td>\n",
       "      <td>poor</td>\n",
       "    </tr>\n",
       "    <tr>\n",
       "      <th>4</th>\n",
       "      <td>2014</td>\n",
       "      <td>1</td>\n",
       "      <td>10</td>\n",
       "      <td>0</td>\n",
       "      <td>4</td>\n",
       "      <td>no</td>\n",
       "      <td>yes</td>\n",
       "      <td>no</td>\n",
       "      <td>no</td>\n",
       "      <td>no</td>\n",
       "      <td>no</td>\n",
       "      <td>no</td>\n",
       "      <td>no</td>\n",
       "      <td>no</td>\n",
       "      <td>no</td>\n",
       "      <td>no</td>\n",
       "      <td>no</td>\n",
       "      <td>satisfactory</td>\n",
       "    </tr>\n",
       "  </tbody>\n",
       "</table>\n",
       "</div>"
      ],
      "text/plain": [
       "    f1y  f1m  f1d  f11  f12 f29  f33 f34 f35 f36 f37 f38 f39 f40 f106 f114  \\\n",
       "0  2014    1   29    0    0  no   no  no  no  no  no  no  no  no   no   no   \n",
       "1  2014    4    7    1    1  no   no  no  no  no  no  no  no  no   no   no   \n",
       "2  2012    5   18    0    2  no   no  no  no  no  no  no  no  no   no   no   \n",
       "3  2013    2    8    0    3  no   no  no  no  no  no  no  no  no   no   no   \n",
       "4  2014    1   10    0    4  no  yes  no  no  no  no  no  no  no   no   no   \n",
       "\n",
       "  f118          f152  \n",
       "0   no          good  \n",
       "1   no       no data  \n",
       "2   no  satisfactory  \n",
       "3   no          poor  \n",
       "4   no  satisfactory  "
      ]
     },
     "execution_count": 18,
     "metadata": {},
     "output_type": "execute_result"
    }
   ],
   "source": [
    "df_f12 = df_f11.replace({'f12': f12_encode})\n",
    "df_f12[notnum_index].head()"
   ]
  },
  {
   "cell_type": "markdown",
   "metadata": {},
   "source": [
    "## Process f29 - f118"
   ]
  },
  {
   "cell_type": "code",
   "execution_count": 19,
   "metadata": {},
   "outputs": [
    {
     "name": "stdout",
     "output_type": "stream",
     "text": [
      "['f29', 'f33', 'f34', 'f35', 'f36', 'f37', 'f38', 'f39', 'f40', 'f106', 'f114', 'f118']\n"
     ]
    }
   ],
   "source": [
    "notnum_bools = notnum_index[5:-1]\n",
    "print(notnum_bools)"
   ]
  },
  {
   "cell_type": "code",
   "execution_count": 20,
   "metadata": {},
   "outputs": [
    {
     "data": {
      "text/plain": [
       "{'no', 'yes'}"
      ]
     },
     "execution_count": 20,
     "metadata": {},
     "output_type": "execute_result"
    }
   ],
   "source": [
    "bools_unique = set(np.array([df_f12[col].unique() for col in notnum_bools]).flatten())\n",
    "bools_unique"
   ]
  },
  {
   "cell_type": "code",
   "execution_count": 21,
   "metadata": {},
   "outputs": [
    {
     "data": {
      "text/plain": [
       "{'yes': 0, 'no': 1}"
      ]
     },
     "execution_count": 21,
     "metadata": {},
     "output_type": "execute_result"
    }
   ],
   "source": [
    "bools_encode = dict(zip(bools_unique, range(len(bools_unique))))\n",
    "bools_encode"
   ]
  },
  {
   "cell_type": "code",
   "execution_count": 22,
   "metadata": {},
   "outputs": [
    {
     "data": {
      "text/html": [
       "<div>\n",
       "<style scoped>\n",
       "    .dataframe tbody tr th:only-of-type {\n",
       "        vertical-align: middle;\n",
       "    }\n",
       "\n",
       "    .dataframe tbody tr th {\n",
       "        vertical-align: top;\n",
       "    }\n",
       "\n",
       "    .dataframe thead th {\n",
       "        text-align: right;\n",
       "    }\n",
       "</style>\n",
       "<table border=\"1\" class=\"dataframe\">\n",
       "  <thead>\n",
       "    <tr style=\"text-align: right;\">\n",
       "      <th></th>\n",
       "      <th>f1y</th>\n",
       "      <th>f1m</th>\n",
       "      <th>f1d</th>\n",
       "      <th>f11</th>\n",
       "      <th>f12</th>\n",
       "      <th>f29</th>\n",
       "      <th>f33</th>\n",
       "      <th>f34</th>\n",
       "      <th>f35</th>\n",
       "      <th>f36</th>\n",
       "      <th>f37</th>\n",
       "      <th>f38</th>\n",
       "      <th>f39</th>\n",
       "      <th>f40</th>\n",
       "      <th>f106</th>\n",
       "      <th>f114</th>\n",
       "      <th>f118</th>\n",
       "      <th>f152</th>\n",
       "    </tr>\n",
       "  </thead>\n",
       "  <tbody>\n",
       "    <tr>\n",
       "      <th>0</th>\n",
       "      <td>2014</td>\n",
       "      <td>1</td>\n",
       "      <td>29</td>\n",
       "      <td>0</td>\n",
       "      <td>0</td>\n",
       "      <td>1</td>\n",
       "      <td>1</td>\n",
       "      <td>1</td>\n",
       "      <td>1</td>\n",
       "      <td>1</td>\n",
       "      <td>1</td>\n",
       "      <td>1</td>\n",
       "      <td>1</td>\n",
       "      <td>1</td>\n",
       "      <td>1</td>\n",
       "      <td>1</td>\n",
       "      <td>1</td>\n",
       "      <td>good</td>\n",
       "    </tr>\n",
       "    <tr>\n",
       "      <th>1</th>\n",
       "      <td>2014</td>\n",
       "      <td>4</td>\n",
       "      <td>7</td>\n",
       "      <td>1</td>\n",
       "      <td>1</td>\n",
       "      <td>1</td>\n",
       "      <td>1</td>\n",
       "      <td>1</td>\n",
       "      <td>1</td>\n",
       "      <td>1</td>\n",
       "      <td>1</td>\n",
       "      <td>1</td>\n",
       "      <td>1</td>\n",
       "      <td>1</td>\n",
       "      <td>1</td>\n",
       "      <td>1</td>\n",
       "      <td>1</td>\n",
       "      <td>no data</td>\n",
       "    </tr>\n",
       "    <tr>\n",
       "      <th>2</th>\n",
       "      <td>2012</td>\n",
       "      <td>5</td>\n",
       "      <td>18</td>\n",
       "      <td>0</td>\n",
       "      <td>2</td>\n",
       "      <td>1</td>\n",
       "      <td>1</td>\n",
       "      <td>1</td>\n",
       "      <td>1</td>\n",
       "      <td>1</td>\n",
       "      <td>1</td>\n",
       "      <td>1</td>\n",
       "      <td>1</td>\n",
       "      <td>1</td>\n",
       "      <td>1</td>\n",
       "      <td>1</td>\n",
       "      <td>1</td>\n",
       "      <td>satisfactory</td>\n",
       "    </tr>\n",
       "    <tr>\n",
       "      <th>3</th>\n",
       "      <td>2013</td>\n",
       "      <td>2</td>\n",
       "      <td>8</td>\n",
       "      <td>0</td>\n",
       "      <td>3</td>\n",
       "      <td>1</td>\n",
       "      <td>1</td>\n",
       "      <td>1</td>\n",
       "      <td>1</td>\n",
       "      <td>1</td>\n",
       "      <td>1</td>\n",
       "      <td>1</td>\n",
       "      <td>1</td>\n",
       "      <td>1</td>\n",
       "      <td>1</td>\n",
       "      <td>1</td>\n",
       "      <td>1</td>\n",
       "      <td>poor</td>\n",
       "    </tr>\n",
       "    <tr>\n",
       "      <th>4</th>\n",
       "      <td>2014</td>\n",
       "      <td>1</td>\n",
       "      <td>10</td>\n",
       "      <td>0</td>\n",
       "      <td>4</td>\n",
       "      <td>1</td>\n",
       "      <td>0</td>\n",
       "      <td>1</td>\n",
       "      <td>1</td>\n",
       "      <td>1</td>\n",
       "      <td>1</td>\n",
       "      <td>1</td>\n",
       "      <td>1</td>\n",
       "      <td>1</td>\n",
       "      <td>1</td>\n",
       "      <td>1</td>\n",
       "      <td>1</td>\n",
       "      <td>satisfactory</td>\n",
       "    </tr>\n",
       "  </tbody>\n",
       "</table>\n",
       "</div>"
      ],
      "text/plain": [
       "    f1y  f1m  f1d  f11  f12  f29  f33  f34  f35  f36  f37  f38  f39  f40  \\\n",
       "0  2014    1   29    0    0    1    1    1    1    1    1    1    1    1   \n",
       "1  2014    4    7    1    1    1    1    1    1    1    1    1    1    1   \n",
       "2  2012    5   18    0    2    1    1    1    1    1    1    1    1    1   \n",
       "3  2013    2    8    0    3    1    1    1    1    1    1    1    1    1   \n",
       "4  2014    1   10    0    4    1    0    1    1    1    1    1    1    1   \n",
       "\n",
       "   f106  f114  f118          f152  \n",
       "0     1     1     1          good  \n",
       "1     1     1     1       no data  \n",
       "2     1     1     1  satisfactory  \n",
       "3     1     1     1          poor  \n",
       "4     1     1     1  satisfactory  "
      ]
     },
     "execution_count": 22,
     "metadata": {},
     "output_type": "execute_result"
    }
   ],
   "source": [
    "df_bools = df_f12.replace(dict.fromkeys(notnum_bools, bools_encode))\n",
    "df_bools[notnum_index].head()"
   ]
  },
  {
   "cell_type": "markdown",
   "metadata": {},
   "source": [
    "## Process f152"
   ]
  },
  {
   "cell_type": "code",
   "execution_count": 23,
   "metadata": {},
   "outputs": [
    {
     "data": {
      "text/plain": [
       "array(['good', 'no data', 'satisfactory', 'poor', 'excellent'],\n",
       "      dtype=object)"
      ]
     },
     "execution_count": 23,
     "metadata": {},
     "output_type": "execute_result"
    }
   ],
   "source": [
    "f152_unique = df_bools['f152'].unique()\n",
    "f152_unique"
   ]
  },
  {
   "cell_type": "code",
   "execution_count": 24,
   "metadata": {},
   "outputs": [
    {
     "data": {
      "text/plain": [
       "{'no data': 0, 'poor': 1, 'satisfactory': 2, 'good': 3, 'excellent': 4}"
      ]
     },
     "execution_count": 24,
     "metadata": {},
     "output_type": "execute_result"
    }
   ],
   "source": [
    "f152_encode = dict(zip(['no data', 'poor', 'satisfactory', 'good', 'excellent'], range(5)))\n",
    "f152_encode"
   ]
  },
  {
   "cell_type": "code",
   "execution_count": 25,
   "metadata": {},
   "outputs": [
    {
     "data": {
      "text/html": [
       "<div>\n",
       "<style scoped>\n",
       "    .dataframe tbody tr th:only-of-type {\n",
       "        vertical-align: middle;\n",
       "    }\n",
       "\n",
       "    .dataframe tbody tr th {\n",
       "        vertical-align: top;\n",
       "    }\n",
       "\n",
       "    .dataframe thead th {\n",
       "        text-align: right;\n",
       "    }\n",
       "</style>\n",
       "<table border=\"1\" class=\"dataframe\">\n",
       "  <thead>\n",
       "    <tr style=\"text-align: right;\">\n",
       "      <th></th>\n",
       "      <th>f1y</th>\n",
       "      <th>f1m</th>\n",
       "      <th>f1d</th>\n",
       "      <th>f11</th>\n",
       "      <th>f12</th>\n",
       "      <th>f29</th>\n",
       "      <th>f33</th>\n",
       "      <th>f34</th>\n",
       "      <th>f35</th>\n",
       "      <th>f36</th>\n",
       "      <th>f37</th>\n",
       "      <th>f38</th>\n",
       "      <th>f39</th>\n",
       "      <th>f40</th>\n",
       "      <th>f106</th>\n",
       "      <th>f114</th>\n",
       "      <th>f118</th>\n",
       "      <th>f152</th>\n",
       "    </tr>\n",
       "  </thead>\n",
       "  <tbody>\n",
       "    <tr>\n",
       "      <th>0</th>\n",
       "      <td>2014</td>\n",
       "      <td>1</td>\n",
       "      <td>29</td>\n",
       "      <td>0</td>\n",
       "      <td>0</td>\n",
       "      <td>1</td>\n",
       "      <td>1</td>\n",
       "      <td>1</td>\n",
       "      <td>1</td>\n",
       "      <td>1</td>\n",
       "      <td>1</td>\n",
       "      <td>1</td>\n",
       "      <td>1</td>\n",
       "      <td>1</td>\n",
       "      <td>1</td>\n",
       "      <td>1</td>\n",
       "      <td>1</td>\n",
       "      <td>3</td>\n",
       "    </tr>\n",
       "    <tr>\n",
       "      <th>1</th>\n",
       "      <td>2014</td>\n",
       "      <td>4</td>\n",
       "      <td>7</td>\n",
       "      <td>1</td>\n",
       "      <td>1</td>\n",
       "      <td>1</td>\n",
       "      <td>1</td>\n",
       "      <td>1</td>\n",
       "      <td>1</td>\n",
       "      <td>1</td>\n",
       "      <td>1</td>\n",
       "      <td>1</td>\n",
       "      <td>1</td>\n",
       "      <td>1</td>\n",
       "      <td>1</td>\n",
       "      <td>1</td>\n",
       "      <td>1</td>\n",
       "      <td>0</td>\n",
       "    </tr>\n",
       "    <tr>\n",
       "      <th>2</th>\n",
       "      <td>2012</td>\n",
       "      <td>5</td>\n",
       "      <td>18</td>\n",
       "      <td>0</td>\n",
       "      <td>2</td>\n",
       "      <td>1</td>\n",
       "      <td>1</td>\n",
       "      <td>1</td>\n",
       "      <td>1</td>\n",
       "      <td>1</td>\n",
       "      <td>1</td>\n",
       "      <td>1</td>\n",
       "      <td>1</td>\n",
       "      <td>1</td>\n",
       "      <td>1</td>\n",
       "      <td>1</td>\n",
       "      <td>1</td>\n",
       "      <td>2</td>\n",
       "    </tr>\n",
       "    <tr>\n",
       "      <th>3</th>\n",
       "      <td>2013</td>\n",
       "      <td>2</td>\n",
       "      <td>8</td>\n",
       "      <td>0</td>\n",
       "      <td>3</td>\n",
       "      <td>1</td>\n",
       "      <td>1</td>\n",
       "      <td>1</td>\n",
       "      <td>1</td>\n",
       "      <td>1</td>\n",
       "      <td>1</td>\n",
       "      <td>1</td>\n",
       "      <td>1</td>\n",
       "      <td>1</td>\n",
       "      <td>1</td>\n",
       "      <td>1</td>\n",
       "      <td>1</td>\n",
       "      <td>1</td>\n",
       "    </tr>\n",
       "    <tr>\n",
       "      <th>4</th>\n",
       "      <td>2014</td>\n",
       "      <td>1</td>\n",
       "      <td>10</td>\n",
       "      <td>0</td>\n",
       "      <td>4</td>\n",
       "      <td>1</td>\n",
       "      <td>0</td>\n",
       "      <td>1</td>\n",
       "      <td>1</td>\n",
       "      <td>1</td>\n",
       "      <td>1</td>\n",
       "      <td>1</td>\n",
       "      <td>1</td>\n",
       "      <td>1</td>\n",
       "      <td>1</td>\n",
       "      <td>1</td>\n",
       "      <td>1</td>\n",
       "      <td>2</td>\n",
       "    </tr>\n",
       "  </tbody>\n",
       "</table>\n",
       "</div>"
      ],
      "text/plain": [
       "    f1y  f1m  f1d  f11  f12  f29  f33  f34  f35  f36  f37  f38  f39  f40  \\\n",
       "0  2014    1   29    0    0    1    1    1    1    1    1    1    1    1   \n",
       "1  2014    4    7    1    1    1    1    1    1    1    1    1    1    1   \n",
       "2  2012    5   18    0    2    1    1    1    1    1    1    1    1    1   \n",
       "3  2013    2    8    0    3    1    1    1    1    1    1    1    1    1   \n",
       "4  2014    1   10    0    4    1    0    1    1    1    1    1    1    1   \n",
       "\n",
       "   f106  f114  f118  f152  \n",
       "0     1     1     1     3  \n",
       "1     1     1     1     0  \n",
       "2     1     1     1     2  \n",
       "3     1     1     1     1  \n",
       "4     1     1     1     2  "
      ]
     },
     "execution_count": 25,
     "metadata": {},
     "output_type": "execute_result"
    }
   ],
   "source": [
    "df_f152 = df_bools.replace({'f152': f152_encode})\n",
    "df_f152[notnum_index].head()"
   ]
  },
  {
   "cell_type": "markdown",
   "metadata": {},
   "source": [
    "## Obtain result"
   ]
  },
  {
   "cell_type": "code",
   "execution_count": 26,
   "metadata": {},
   "outputs": [
    {
     "data": {
      "text/html": [
       "<div>\n",
       "<style scoped>\n",
       "    .dataframe tbody tr th:only-of-type {\n",
       "        vertical-align: middle;\n",
       "    }\n",
       "\n",
       "    .dataframe tbody tr th {\n",
       "        vertical-align: top;\n",
       "    }\n",
       "\n",
       "    .dataframe thead th {\n",
       "        text-align: right;\n",
       "    }\n",
       "</style>\n",
       "<table border=\"1\" class=\"dataframe\">\n",
       "  <thead>\n",
       "    <tr style=\"text-align: right;\">\n",
       "      <th></th>\n",
       "      <th>id</th>\n",
       "      <th>f1y</th>\n",
       "      <th>f1m</th>\n",
       "      <th>f1d</th>\n",
       "      <th>f2</th>\n",
       "      <th>f3</th>\n",
       "      <th>f4</th>\n",
       "      <th>f5</th>\n",
       "      <th>f6</th>\n",
       "      <th>f7</th>\n",
       "      <th>...</th>\n",
       "      <th>f282</th>\n",
       "      <th>f283</th>\n",
       "      <th>f284</th>\n",
       "      <th>f285</th>\n",
       "      <th>f286</th>\n",
       "      <th>f287</th>\n",
       "      <th>f288</th>\n",
       "      <th>f289</th>\n",
       "      <th>f290</th>\n",
       "      <th>target</th>\n",
       "    </tr>\n",
       "  </thead>\n",
       "  <tbody>\n",
       "    <tr>\n",
       "      <th>0</th>\n",
       "      <td>1</td>\n",
       "      <td>2014</td>\n",
       "      <td>1</td>\n",
       "      <td>29</td>\n",
       "      <td>69</td>\n",
       "      <td>38.0</td>\n",
       "      <td>7.0</td>\n",
       "      <td>10.0</td>\n",
       "      <td>1.0</td>\n",
       "      <td>2001.0</td>\n",
       "      <td>...</td>\n",
       "      <td>1</td>\n",
       "      <td>0</td>\n",
       "      <td>0</td>\n",
       "      <td>2</td>\n",
       "      <td>8</td>\n",
       "      <td>1</td>\n",
       "      <td>0</td>\n",
       "      <td>19</td>\n",
       "      <td>2</td>\n",
       "      <td>9500000</td>\n",
       "    </tr>\n",
       "    <tr>\n",
       "      <th>1</th>\n",
       "      <td>2</td>\n",
       "      <td>2014</td>\n",
       "      <td>4</td>\n",
       "      <td>7</td>\n",
       "      <td>55</td>\n",
       "      <td>NaN</td>\n",
       "      <td>2.0</td>\n",
       "      <td>1.0</td>\n",
       "      <td>4.0</td>\n",
       "      <td>NaN</td>\n",
       "      <td>...</td>\n",
       "      <td>0</td>\n",
       "      <td>0</td>\n",
       "      <td>0</td>\n",
       "      <td>0</td>\n",
       "      <td>4</td>\n",
       "      <td>0</td>\n",
       "      <td>0</td>\n",
       "      <td>2</td>\n",
       "      <td>0</td>\n",
       "      <td>3837949</td>\n",
       "    </tr>\n",
       "    <tr>\n",
       "      <th>2</th>\n",
       "      <td>3</td>\n",
       "      <td>2012</td>\n",
       "      <td>5</td>\n",
       "      <td>18</td>\n",
       "      <td>30</td>\n",
       "      <td>16.0</td>\n",
       "      <td>2.0</td>\n",
       "      <td>NaN</td>\n",
       "      <td>NaN</td>\n",
       "      <td>NaN</td>\n",
       "      <td>...</td>\n",
       "      <td>46</td>\n",
       "      <td>9</td>\n",
       "      <td>2</td>\n",
       "      <td>11</td>\n",
       "      <td>38</td>\n",
       "      <td>1</td>\n",
       "      <td>8</td>\n",
       "      <td>97</td>\n",
       "      <td>11</td>\n",
       "      <td>6250000</td>\n",
       "    </tr>\n",
       "    <tr>\n",
       "      <th>3</th>\n",
       "      <td>4</td>\n",
       "      <td>2013</td>\n",
       "      <td>2</td>\n",
       "      <td>8</td>\n",
       "      <td>44</td>\n",
       "      <td>43.0</td>\n",
       "      <td>1.0</td>\n",
       "      <td>NaN</td>\n",
       "      <td>NaN</td>\n",
       "      <td>NaN</td>\n",
       "      <td>...</td>\n",
       "      <td>17</td>\n",
       "      <td>4</td>\n",
       "      <td>1</td>\n",
       "      <td>12</td>\n",
       "      <td>12</td>\n",
       "      <td>0</td>\n",
       "      <td>1</td>\n",
       "      <td>55</td>\n",
       "      <td>7</td>\n",
       "      <td>2000000</td>\n",
       "    </tr>\n",
       "    <tr>\n",
       "      <th>4</th>\n",
       "      <td>5</td>\n",
       "      <td>2014</td>\n",
       "      <td>1</td>\n",
       "      <td>10</td>\n",
       "      <td>45</td>\n",
       "      <td>28.0</td>\n",
       "      <td>3.0</td>\n",
       "      <td>5.0</td>\n",
       "      <td>2.0</td>\n",
       "      <td>1960.0</td>\n",
       "      <td>...</td>\n",
       "      <td>20</td>\n",
       "      <td>2</td>\n",
       "      <td>0</td>\n",
       "      <td>4</td>\n",
       "      <td>16</td>\n",
       "      <td>1</td>\n",
       "      <td>4</td>\n",
       "      <td>47</td>\n",
       "      <td>5</td>\n",
       "      <td>6700000</td>\n",
       "    </tr>\n",
       "  </tbody>\n",
       "</table>\n",
       "<p>5 rows × 294 columns</p>\n",
       "</div>"
      ],
      "text/plain": [
       "   id   f1y  f1m  f1d  f2    f3   f4    f5   f6      f7  ...  f282  f283  \\\n",
       "0   1  2014    1   29  69  38.0  7.0  10.0  1.0  2001.0  ...     1     0   \n",
       "1   2  2014    4    7  55   NaN  2.0   1.0  4.0     NaN  ...     0     0   \n",
       "2   3  2012    5   18  30  16.0  2.0   NaN  NaN     NaN  ...    46     9   \n",
       "3   4  2013    2    8  44  43.0  1.0   NaN  NaN     NaN  ...    17     4   \n",
       "4   5  2014    1   10  45  28.0  3.0   5.0  2.0  1960.0  ...    20     2   \n",
       "\n",
       "   f284  f285  f286  f287  f288  f289  f290   target  \n",
       "0     0     2     8     1     0    19     2  9500000  \n",
       "1     0     0     4     0     0     2     0  3837949  \n",
       "2     2    11    38     1     8    97    11  6250000  \n",
       "3     1    12    12     0     1    55     7  2000000  \n",
       "4     0     4    16     1     4    47     5  6700000  \n",
       "\n",
       "[5 rows x 294 columns]"
      ]
     },
     "execution_count": 26,
     "metadata": {},
     "output_type": "execute_result"
    }
   ],
   "source": [
    "df_final = df_f152.copy()\n",
    "df_final.head()"
   ]
  },
  {
   "cell_type": "markdown",
   "metadata": {},
   "source": [
    "## Check NaNs"
   ]
  },
  {
   "cell_type": "code",
   "execution_count": 27,
   "metadata": {},
   "outputs": [
    {
     "data": {
      "text/plain": [
       "51"
      ]
     },
     "execution_count": 27,
     "metadata": {},
     "output_type": "execute_result"
    }
   ],
   "source": [
    "nans_cols = df_final.isna().sum()\n",
    "nans_cols[nans_cols > 0].count()"
   ]
  },
  {
   "cell_type": "code",
   "execution_count": 28,
   "metadata": {},
   "outputs": [
    {
     "data": {
      "text/plain": [
       "array([dtype('float64')], dtype=object)"
      ]
     },
     "execution_count": 28,
     "metadata": {},
     "output_type": "execute_result"
    }
   ],
   "source": [
    "df_final[nans_cols[nans_cols > 0].index].dtypes.unique()"
   ]
  },
  {
   "cell_type": "code",
   "execution_count": 29,
   "metadata": {},
   "outputs": [
    {
     "data": {
      "text/plain": [
       "172      40\n",
       "554      40\n",
       "785      40\n",
       "1052     40\n",
       "1359     40\n",
       "         ..\n",
       "22921    40\n",
       "23466    40\n",
       "23550    40\n",
       "24236    40\n",
       "24316    41\n",
       "Length: 155, dtype: int64"
      ]
     },
     "execution_count": 29,
     "metadata": {},
     "output_type": "execute_result"
    }
   ],
   "source": [
    "nans_rows = df_final.isna().sum(axis=1)\n",
    "nans_rows[nans_rows >= 40]"
   ]
  },
  {
   "cell_type": "code",
   "execution_count": 30,
   "metadata": {},
   "outputs": [
    {
     "name": "stdout",
     "output_type": "stream",
     "text": [
      "[172, 554, 785, 1052, 1359, 1495, 1646, 1812, 1997, 2133, 2249, 2302, 2529, 2542, 2678, 2684, 2781, 2801, 2861, 3251, 3254, 3699, 3904, 3959, 4208, 4365, 4544, 4656, 4834, 4929, 4941, 5151, 5159, 5277, 5474, 5621, 5634, 5691, 5805, 6092, 6191, 6256, 6347, 6388, 6524, 6862, 6876, 7066, 7202, 7259, 7506, 7508, 7575, 7618, 7625, 7694, 7796, 7980, 8119, 8184, 8484, 8673, 8834, 9290, 9632, 9693, 9786, 10247, 10427, 10572, 10639, 11016, 11281, 11394, 11648, 11857, 12249, 12556, 12625, 13322, 13330, 13498, 13592, 13696, 13772, 13911, 13996, 14014, 14062, 14331, 14345, 14518, 14925, 14999, 15026, 15086, 15313, 15359, 15493, 15679, 15812, 15916, 16036, 16129, 16532, 16820, 16965, 17116, 17534, 17574, 17971, 18011, 18037, 18053, 18256, 18311, 18334, 18429, 18475, 18532, 18630, 18632, 18691, 19155, 19187, 19253, 19429, 19523, 19792, 20051, 20087, 20279, 20435, 20650, 20927, 21346, 21410, 21508, 21570, 21735, 22029, 22096, 22195, 22210, 22235, 22258, 22324, 22356, 22477, 22608, 22921, 23466, 23550, 24236, 24316]\n"
     ]
    }
   ],
   "source": [
    "print(list(nans_rows[nans_rows >= 40].index))"
   ]
  },
  {
   "cell_type": "markdown",
   "metadata": {},
   "source": [
    "## Remove too dirty entries"
   ]
  },
  {
   "cell_type": "code",
   "execution_count": 31,
   "metadata": {},
   "outputs": [
    {
     "data": {
      "text/plain": [
       "(24221, 294)"
      ]
     },
     "execution_count": 31,
     "metadata": {},
     "output_type": "execute_result"
    }
   ],
   "source": [
    "df_nans = df_final.drop(list(nans_rows[nans_rows >= 40].index))\n",
    "df_nans.shape"
   ]
  },
  {
   "cell_type": "markdown",
   "metadata": {},
   "source": [
    "## Impute missing values with KNN"
   ]
  },
  {
   "cell_type": "code",
   "execution_count": 32,
   "metadata": {},
   "outputs": [],
   "source": [
    "from sklearn.impute import KNNImputer\n",
    "\n",
    "imputer = KNNImputer(weights='distance')"
   ]
  },
  {
   "cell_type": "code",
   "execution_count": 33,
   "metadata": {},
   "outputs": [],
   "source": [
    "df_imp = imputer.fit_transform(df_nans)"
   ]
  },
  {
   "cell_type": "code",
   "execution_count": 34,
   "metadata": {},
   "outputs": [
    {
     "data": {
      "text/html": [
       "<div>\n",
       "<style scoped>\n",
       "    .dataframe tbody tr th:only-of-type {\n",
       "        vertical-align: middle;\n",
       "    }\n",
       "\n",
       "    .dataframe tbody tr th {\n",
       "        vertical-align: top;\n",
       "    }\n",
       "\n",
       "    .dataframe thead th {\n",
       "        text-align: right;\n",
       "    }\n",
       "</style>\n",
       "<table border=\"1\" class=\"dataframe\">\n",
       "  <thead>\n",
       "    <tr style=\"text-align: right;\">\n",
       "      <th></th>\n",
       "      <th>id</th>\n",
       "      <th>f1y</th>\n",
       "      <th>f1m</th>\n",
       "      <th>f1d</th>\n",
       "      <th>f2</th>\n",
       "      <th>f3</th>\n",
       "      <th>f4</th>\n",
       "      <th>f5</th>\n",
       "      <th>f6</th>\n",
       "      <th>f7</th>\n",
       "      <th>...</th>\n",
       "      <th>f282</th>\n",
       "      <th>f283</th>\n",
       "      <th>f284</th>\n",
       "      <th>f285</th>\n",
       "      <th>f286</th>\n",
       "      <th>f287</th>\n",
       "      <th>f288</th>\n",
       "      <th>f289</th>\n",
       "      <th>f290</th>\n",
       "      <th>target</th>\n",
       "    </tr>\n",
       "  </thead>\n",
       "  <tbody>\n",
       "    <tr>\n",
       "      <th>0</th>\n",
       "      <td>1.0</td>\n",
       "      <td>2014.0</td>\n",
       "      <td>1.0</td>\n",
       "      <td>29.0</td>\n",
       "      <td>69.0</td>\n",
       "      <td>38.00000</td>\n",
       "      <td>7.0</td>\n",
       "      <td>10.00000</td>\n",
       "      <td>1.000000</td>\n",
       "      <td>2001.000000</td>\n",
       "      <td>...</td>\n",
       "      <td>1.0</td>\n",
       "      <td>0.0</td>\n",
       "      <td>0.0</td>\n",
       "      <td>2.0</td>\n",
       "      <td>8.0</td>\n",
       "      <td>1.0</td>\n",
       "      <td>0.0</td>\n",
       "      <td>19.0</td>\n",
       "      <td>2.0</td>\n",
       "      <td>9500000.0</td>\n",
       "    </tr>\n",
       "    <tr>\n",
       "      <th>1</th>\n",
       "      <td>2.0</td>\n",
       "      <td>2014.0</td>\n",
       "      <td>4.0</td>\n",
       "      <td>7.0</td>\n",
       "      <td>55.0</td>\n",
       "      <td>48.13174</td>\n",
       "      <td>2.0</td>\n",
       "      <td>1.00000</td>\n",
       "      <td>4.000000</td>\n",
       "      <td>1591.150833</td>\n",
       "      <td>...</td>\n",
       "      <td>0.0</td>\n",
       "      <td>0.0</td>\n",
       "      <td>0.0</td>\n",
       "      <td>0.0</td>\n",
       "      <td>4.0</td>\n",
       "      <td>0.0</td>\n",
       "      <td>0.0</td>\n",
       "      <td>2.0</td>\n",
       "      <td>0.0</td>\n",
       "      <td>3837949.0</td>\n",
       "    </tr>\n",
       "    <tr>\n",
       "      <th>2</th>\n",
       "      <td>3.0</td>\n",
       "      <td>2012.0</td>\n",
       "      <td>5.0</td>\n",
       "      <td>18.0</td>\n",
       "      <td>30.0</td>\n",
       "      <td>16.00000</td>\n",
       "      <td>2.0</td>\n",
       "      <td>7.29370</td>\n",
       "      <td>3.732457</td>\n",
       "      <td>1961.927529</td>\n",
       "      <td>...</td>\n",
       "      <td>46.0</td>\n",
       "      <td>9.0</td>\n",
       "      <td>2.0</td>\n",
       "      <td>11.0</td>\n",
       "      <td>38.0</td>\n",
       "      <td>1.0</td>\n",
       "      <td>8.0</td>\n",
       "      <td>97.0</td>\n",
       "      <td>11.0</td>\n",
       "      <td>6250000.0</td>\n",
       "    </tr>\n",
       "    <tr>\n",
       "      <th>3</th>\n",
       "      <td>4.0</td>\n",
       "      <td>2013.0</td>\n",
       "      <td>2.0</td>\n",
       "      <td>8.0</td>\n",
       "      <td>44.0</td>\n",
       "      <td>43.00000</td>\n",
       "      <td>1.0</td>\n",
       "      <td>8.78533</td>\n",
       "      <td>1.428214</td>\n",
       "      <td>1970.661667</td>\n",
       "      <td>...</td>\n",
       "      <td>17.0</td>\n",
       "      <td>4.0</td>\n",
       "      <td>1.0</td>\n",
       "      <td>12.0</td>\n",
       "      <td>12.0</td>\n",
       "      <td>0.0</td>\n",
       "      <td>1.0</td>\n",
       "      <td>55.0</td>\n",
       "      <td>7.0</td>\n",
       "      <td>2000000.0</td>\n",
       "    </tr>\n",
       "    <tr>\n",
       "      <th>4</th>\n",
       "      <td>5.0</td>\n",
       "      <td>2014.0</td>\n",
       "      <td>1.0</td>\n",
       "      <td>10.0</td>\n",
       "      <td>45.0</td>\n",
       "      <td>28.00000</td>\n",
       "      <td>3.0</td>\n",
       "      <td>5.00000</td>\n",
       "      <td>2.000000</td>\n",
       "      <td>1960.000000</td>\n",
       "      <td>...</td>\n",
       "      <td>20.0</td>\n",
       "      <td>2.0</td>\n",
       "      <td>0.0</td>\n",
       "      <td>4.0</td>\n",
       "      <td>16.0</td>\n",
       "      <td>1.0</td>\n",
       "      <td>4.0</td>\n",
       "      <td>47.0</td>\n",
       "      <td>5.0</td>\n",
       "      <td>6700000.0</td>\n",
       "    </tr>\n",
       "  </tbody>\n",
       "</table>\n",
       "<p>5 rows × 294 columns</p>\n",
       "</div>"
      ],
      "text/plain": [
       "    id     f1y  f1m   f1d    f2        f3   f4        f5        f6  \\\n",
       "0  1.0  2014.0  1.0  29.0  69.0  38.00000  7.0  10.00000  1.000000   \n",
       "1  2.0  2014.0  4.0   7.0  55.0  48.13174  2.0   1.00000  4.000000   \n",
       "2  3.0  2012.0  5.0  18.0  30.0  16.00000  2.0   7.29370  3.732457   \n",
       "3  4.0  2013.0  2.0   8.0  44.0  43.00000  1.0   8.78533  1.428214   \n",
       "4  5.0  2014.0  1.0  10.0  45.0  28.00000  3.0   5.00000  2.000000   \n",
       "\n",
       "            f7  ...  f282  f283  f284  f285  f286  f287  f288  f289  f290  \\\n",
       "0  2001.000000  ...   1.0   0.0   0.0   2.0   8.0   1.0   0.0  19.0   2.0   \n",
       "1  1591.150833  ...   0.0   0.0   0.0   0.0   4.0   0.0   0.0   2.0   0.0   \n",
       "2  1961.927529  ...  46.0   9.0   2.0  11.0  38.0   1.0   8.0  97.0  11.0   \n",
       "3  1970.661667  ...  17.0   4.0   1.0  12.0  12.0   0.0   1.0  55.0   7.0   \n",
       "4  1960.000000  ...  20.0   2.0   0.0   4.0  16.0   1.0   4.0  47.0   5.0   \n",
       "\n",
       "      target  \n",
       "0  9500000.0  \n",
       "1  3837949.0  \n",
       "2  6250000.0  \n",
       "3  2000000.0  \n",
       "4  6700000.0  \n",
       "\n",
       "[5 rows x 294 columns]"
      ]
     },
     "execution_count": 34,
     "metadata": {},
     "output_type": "execute_result"
    }
   ],
   "source": [
    "df_imp2 = pd.DataFrame(df_imp, columns=df_final.columns)\n",
    "df_imp2.head()"
   ]
  },
  {
   "cell_type": "code",
   "execution_count": 35,
   "metadata": {},
   "outputs": [
    {
     "data": {
      "text/html": [
       "<div>\n",
       "<style scoped>\n",
       "    .dataframe tbody tr th:only-of-type {\n",
       "        vertical-align: middle;\n",
       "    }\n",
       "\n",
       "    .dataframe tbody tr th {\n",
       "        vertical-align: top;\n",
       "    }\n",
       "\n",
       "    .dataframe thead th {\n",
       "        text-align: right;\n",
       "    }\n",
       "</style>\n",
       "<table border=\"1\" class=\"dataframe\">\n",
       "  <thead>\n",
       "    <tr style=\"text-align: right;\">\n",
       "      <th></th>\n",
       "      <th>id</th>\n",
       "      <th>f1y</th>\n",
       "      <th>f1m</th>\n",
       "      <th>f1d</th>\n",
       "      <th>f2</th>\n",
       "      <th>f3</th>\n",
       "      <th>f4</th>\n",
       "      <th>f5</th>\n",
       "      <th>f6</th>\n",
       "      <th>f7</th>\n",
       "      <th>...</th>\n",
       "      <th>f282</th>\n",
       "      <th>f283</th>\n",
       "      <th>f284</th>\n",
       "      <th>f285</th>\n",
       "      <th>f286</th>\n",
       "      <th>f287</th>\n",
       "      <th>f288</th>\n",
       "      <th>f289</th>\n",
       "      <th>f290</th>\n",
       "      <th>target</th>\n",
       "    </tr>\n",
       "  </thead>\n",
       "  <tbody>\n",
       "    <tr>\n",
       "      <th>0</th>\n",
       "      <td>1</td>\n",
       "      <td>2014</td>\n",
       "      <td>1</td>\n",
       "      <td>29</td>\n",
       "      <td>69</td>\n",
       "      <td>38.0</td>\n",
       "      <td>7.0</td>\n",
       "      <td>10.0</td>\n",
       "      <td>1.0</td>\n",
       "      <td>2001.0</td>\n",
       "      <td>...</td>\n",
       "      <td>1</td>\n",
       "      <td>0</td>\n",
       "      <td>0</td>\n",
       "      <td>2</td>\n",
       "      <td>8</td>\n",
       "      <td>1</td>\n",
       "      <td>0</td>\n",
       "      <td>19</td>\n",
       "      <td>2</td>\n",
       "      <td>9500000</td>\n",
       "    </tr>\n",
       "    <tr>\n",
       "      <th>1</th>\n",
       "      <td>2</td>\n",
       "      <td>2014</td>\n",
       "      <td>4</td>\n",
       "      <td>7</td>\n",
       "      <td>55</td>\n",
       "      <td>NaN</td>\n",
       "      <td>2.0</td>\n",
       "      <td>1.0</td>\n",
       "      <td>4.0</td>\n",
       "      <td>NaN</td>\n",
       "      <td>...</td>\n",
       "      <td>0</td>\n",
       "      <td>0</td>\n",
       "      <td>0</td>\n",
       "      <td>0</td>\n",
       "      <td>4</td>\n",
       "      <td>0</td>\n",
       "      <td>0</td>\n",
       "      <td>2</td>\n",
       "      <td>0</td>\n",
       "      <td>3837949</td>\n",
       "    </tr>\n",
       "    <tr>\n",
       "      <th>2</th>\n",
       "      <td>3</td>\n",
       "      <td>2012</td>\n",
       "      <td>5</td>\n",
       "      <td>18</td>\n",
       "      <td>30</td>\n",
       "      <td>16.0</td>\n",
       "      <td>2.0</td>\n",
       "      <td>NaN</td>\n",
       "      <td>NaN</td>\n",
       "      <td>NaN</td>\n",
       "      <td>...</td>\n",
       "      <td>46</td>\n",
       "      <td>9</td>\n",
       "      <td>2</td>\n",
       "      <td>11</td>\n",
       "      <td>38</td>\n",
       "      <td>1</td>\n",
       "      <td>8</td>\n",
       "      <td>97</td>\n",
       "      <td>11</td>\n",
       "      <td>6250000</td>\n",
       "    </tr>\n",
       "    <tr>\n",
       "      <th>3</th>\n",
       "      <td>4</td>\n",
       "      <td>2013</td>\n",
       "      <td>2</td>\n",
       "      <td>8</td>\n",
       "      <td>44</td>\n",
       "      <td>43.0</td>\n",
       "      <td>1.0</td>\n",
       "      <td>NaN</td>\n",
       "      <td>NaN</td>\n",
       "      <td>NaN</td>\n",
       "      <td>...</td>\n",
       "      <td>17</td>\n",
       "      <td>4</td>\n",
       "      <td>1</td>\n",
       "      <td>12</td>\n",
       "      <td>12</td>\n",
       "      <td>0</td>\n",
       "      <td>1</td>\n",
       "      <td>55</td>\n",
       "      <td>7</td>\n",
       "      <td>2000000</td>\n",
       "    </tr>\n",
       "    <tr>\n",
       "      <th>4</th>\n",
       "      <td>5</td>\n",
       "      <td>2014</td>\n",
       "      <td>1</td>\n",
       "      <td>10</td>\n",
       "      <td>45</td>\n",
       "      <td>28.0</td>\n",
       "      <td>3.0</td>\n",
       "      <td>5.0</td>\n",
       "      <td>2.0</td>\n",
       "      <td>1960.0</td>\n",
       "      <td>...</td>\n",
       "      <td>20</td>\n",
       "      <td>2</td>\n",
       "      <td>0</td>\n",
       "      <td>4</td>\n",
       "      <td>16</td>\n",
       "      <td>1</td>\n",
       "      <td>4</td>\n",
       "      <td>47</td>\n",
       "      <td>5</td>\n",
       "      <td>6700000</td>\n",
       "    </tr>\n",
       "  </tbody>\n",
       "</table>\n",
       "<p>5 rows × 294 columns</p>\n",
       "</div>"
      ],
      "text/plain": [
       "   id   f1y  f1m  f1d  f2    f3   f4    f5   f6      f7  ...  f282  f283  \\\n",
       "0   1  2014    1   29  69  38.0  7.0  10.0  1.0  2001.0  ...     1     0   \n",
       "1   2  2014    4    7  55   NaN  2.0   1.0  4.0     NaN  ...     0     0   \n",
       "2   3  2012    5   18  30  16.0  2.0   NaN  NaN     NaN  ...    46     9   \n",
       "3   4  2013    2    8  44  43.0  1.0   NaN  NaN     NaN  ...    17     4   \n",
       "4   5  2014    1   10  45  28.0  3.0   5.0  2.0  1960.0  ...    20     2   \n",
       "\n",
       "   f284  f285  f286  f287  f288  f289  f290   target  \n",
       "0     0     2     8     1     0    19     2  9500000  \n",
       "1     0     0     4     0     0     2     0  3837949  \n",
       "2     2    11    38     1     8    97    11  6250000  \n",
       "3     1    12    12     0     1    55     7  2000000  \n",
       "4     0     4    16     1     4    47     5  6700000  \n",
       "\n",
       "[5 rows x 294 columns]"
      ]
     },
     "execution_count": 35,
     "metadata": {},
     "output_type": "execute_result"
    }
   ],
   "source": [
    "imputed = nans_cols[nans_cols > 0]\n",
    "df_full = df_nans.copy()\n",
    "df_full.reset_index(drop=True, inplace=True)\n",
    "df_full.head()"
   ]
  },
  {
   "cell_type": "code",
   "execution_count": 36,
   "metadata": {},
   "outputs": [
    {
     "data": {
      "text/html": [
       "<div>\n",
       "<style scoped>\n",
       "    .dataframe tbody tr th:only-of-type {\n",
       "        vertical-align: middle;\n",
       "    }\n",
       "\n",
       "    .dataframe tbody tr th {\n",
       "        vertical-align: top;\n",
       "    }\n",
       "\n",
       "    .dataframe thead th {\n",
       "        text-align: right;\n",
       "    }\n",
       "</style>\n",
       "<table border=\"1\" class=\"dataframe\">\n",
       "  <thead>\n",
       "    <tr style=\"text-align: right;\">\n",
       "      <th></th>\n",
       "      <th>id</th>\n",
       "      <th>f1y</th>\n",
       "      <th>f1m</th>\n",
       "      <th>f1d</th>\n",
       "      <th>f2</th>\n",
       "      <th>f3</th>\n",
       "      <th>f4</th>\n",
       "      <th>f5</th>\n",
       "      <th>f6</th>\n",
       "      <th>f7</th>\n",
       "      <th>...</th>\n",
       "      <th>f282</th>\n",
       "      <th>f283</th>\n",
       "      <th>f284</th>\n",
       "      <th>f285</th>\n",
       "      <th>f286</th>\n",
       "      <th>f287</th>\n",
       "      <th>f288</th>\n",
       "      <th>f289</th>\n",
       "      <th>f290</th>\n",
       "      <th>target</th>\n",
       "    </tr>\n",
       "  </thead>\n",
       "  <tbody>\n",
       "    <tr>\n",
       "      <th>24218</th>\n",
       "      <td>24374</td>\n",
       "      <td>2013</td>\n",
       "      <td>12</td>\n",
       "      <td>18</td>\n",
       "      <td>85</td>\n",
       "      <td>NaN</td>\n",
       "      <td>16.0</td>\n",
       "      <td>17.0</td>\n",
       "      <td>1.0</td>\n",
       "      <td>1.0</td>\n",
       "      <td>...</td>\n",
       "      <td>3</td>\n",
       "      <td>1</td>\n",
       "      <td>0</td>\n",
       "      <td>3</td>\n",
       "      <td>9</td>\n",
       "      <td>0</td>\n",
       "      <td>1</td>\n",
       "      <td>10</td>\n",
       "      <td>2</td>\n",
       "      <td>9609180</td>\n",
       "    </tr>\n",
       "    <tr>\n",
       "      <th>24219</th>\n",
       "      <td>24375</td>\n",
       "      <td>2014</td>\n",
       "      <td>12</td>\n",
       "      <td>8</td>\n",
       "      <td>47</td>\n",
       "      <td>27.0</td>\n",
       "      <td>2.0</td>\n",
       "      <td>10.0</td>\n",
       "      <td>2.0</td>\n",
       "      <td>1958.0</td>\n",
       "      <td>...</td>\n",
       "      <td>217</td>\n",
       "      <td>86</td>\n",
       "      <td>11</td>\n",
       "      <td>118</td>\n",
       "      <td>176</td>\n",
       "      <td>1</td>\n",
       "      <td>64</td>\n",
       "      <td>146</td>\n",
       "      <td>13</td>\n",
       "      <td>12900000</td>\n",
       "    </tr>\n",
       "    <tr>\n",
       "      <th>24220</th>\n",
       "      <td>24376</td>\n",
       "      <td>2015</td>\n",
       "      <td>4</td>\n",
       "      <td>30</td>\n",
       "      <td>85</td>\n",
       "      <td>60.0</td>\n",
       "      <td>10.0</td>\n",
       "      <td>22.0</td>\n",
       "      <td>4.0</td>\n",
       "      <td>2015.0</td>\n",
       "      <td>...</td>\n",
       "      <td>1</td>\n",
       "      <td>1</td>\n",
       "      <td>0</td>\n",
       "      <td>2</td>\n",
       "      <td>12</td>\n",
       "      <td>0</td>\n",
       "      <td>0</td>\n",
       "      <td>9</td>\n",
       "      <td>0</td>\n",
       "      <td>10371441</td>\n",
       "    </tr>\n",
       "  </tbody>\n",
       "</table>\n",
       "<p>3 rows × 294 columns</p>\n",
       "</div>"
      ],
      "text/plain": [
       "          id   f1y  f1m  f1d  f2    f3    f4    f5   f6      f7  ...  f282  \\\n",
       "24218  24374  2013   12   18  85   NaN  16.0  17.0  1.0     1.0  ...     3   \n",
       "24219  24375  2014   12    8  47  27.0   2.0  10.0  2.0  1958.0  ...   217   \n",
       "24220  24376  2015    4   30  85  60.0  10.0  22.0  4.0  2015.0  ...     1   \n",
       "\n",
       "       f283  f284  f285  f286  f287  f288  f289  f290    target  \n",
       "24218     1     0     3     9     0     1    10     2   9609180  \n",
       "24219    86    11   118   176     1    64   146    13  12900000  \n",
       "24220     1     0     2    12     0     0     9     0  10371441  \n",
       "\n",
       "[3 rows x 294 columns]"
      ]
     },
     "execution_count": 36,
     "metadata": {},
     "output_type": "execute_result"
    }
   ],
   "source": [
    "df_full[-3:]"
   ]
  },
  {
   "cell_type": "code",
   "execution_count": 37,
   "metadata": {},
   "outputs": [
    {
     "data": {
      "text/html": [
       "<div>\n",
       "<style scoped>\n",
       "    .dataframe tbody tr th:only-of-type {\n",
       "        vertical-align: middle;\n",
       "    }\n",
       "\n",
       "    .dataframe tbody tr th {\n",
       "        vertical-align: top;\n",
       "    }\n",
       "\n",
       "    .dataframe thead th {\n",
       "        text-align: right;\n",
       "    }\n",
       "</style>\n",
       "<table border=\"1\" class=\"dataframe\">\n",
       "  <thead>\n",
       "    <tr style=\"text-align: right;\">\n",
       "      <th></th>\n",
       "      <th>id</th>\n",
       "      <th>f1y</th>\n",
       "      <th>f1m</th>\n",
       "      <th>f1d</th>\n",
       "      <th>f2</th>\n",
       "      <th>f3</th>\n",
       "      <th>f4</th>\n",
       "      <th>f5</th>\n",
       "      <th>f6</th>\n",
       "      <th>f7</th>\n",
       "      <th>...</th>\n",
       "      <th>f282</th>\n",
       "      <th>f283</th>\n",
       "      <th>f284</th>\n",
       "      <th>f285</th>\n",
       "      <th>f286</th>\n",
       "      <th>f287</th>\n",
       "      <th>f288</th>\n",
       "      <th>f289</th>\n",
       "      <th>f290</th>\n",
       "      <th>target</th>\n",
       "    </tr>\n",
       "  </thead>\n",
       "  <tbody>\n",
       "    <tr>\n",
       "      <th>0</th>\n",
       "      <td>1</td>\n",
       "      <td>2014</td>\n",
       "      <td>1</td>\n",
       "      <td>29</td>\n",
       "      <td>69</td>\n",
       "      <td>38.00000</td>\n",
       "      <td>7.0</td>\n",
       "      <td>10.00000</td>\n",
       "      <td>1.000000</td>\n",
       "      <td>2001.000000</td>\n",
       "      <td>...</td>\n",
       "      <td>1</td>\n",
       "      <td>0</td>\n",
       "      <td>0</td>\n",
       "      <td>2</td>\n",
       "      <td>8</td>\n",
       "      <td>1</td>\n",
       "      <td>0</td>\n",
       "      <td>19</td>\n",
       "      <td>2</td>\n",
       "      <td>9500000</td>\n",
       "    </tr>\n",
       "    <tr>\n",
       "      <th>1</th>\n",
       "      <td>2</td>\n",
       "      <td>2014</td>\n",
       "      <td>4</td>\n",
       "      <td>7</td>\n",
       "      <td>55</td>\n",
       "      <td>48.13174</td>\n",
       "      <td>2.0</td>\n",
       "      <td>1.00000</td>\n",
       "      <td>4.000000</td>\n",
       "      <td>1591.150833</td>\n",
       "      <td>...</td>\n",
       "      <td>0</td>\n",
       "      <td>0</td>\n",
       "      <td>0</td>\n",
       "      <td>0</td>\n",
       "      <td>4</td>\n",
       "      <td>0</td>\n",
       "      <td>0</td>\n",
       "      <td>2</td>\n",
       "      <td>0</td>\n",
       "      <td>3837949</td>\n",
       "    </tr>\n",
       "    <tr>\n",
       "      <th>2</th>\n",
       "      <td>3</td>\n",
       "      <td>2012</td>\n",
       "      <td>5</td>\n",
       "      <td>18</td>\n",
       "      <td>30</td>\n",
       "      <td>16.00000</td>\n",
       "      <td>2.0</td>\n",
       "      <td>7.29370</td>\n",
       "      <td>3.732457</td>\n",
       "      <td>1961.927529</td>\n",
       "      <td>...</td>\n",
       "      <td>46</td>\n",
       "      <td>9</td>\n",
       "      <td>2</td>\n",
       "      <td>11</td>\n",
       "      <td>38</td>\n",
       "      <td>1</td>\n",
       "      <td>8</td>\n",
       "      <td>97</td>\n",
       "      <td>11</td>\n",
       "      <td>6250000</td>\n",
       "    </tr>\n",
       "    <tr>\n",
       "      <th>3</th>\n",
       "      <td>4</td>\n",
       "      <td>2013</td>\n",
       "      <td>2</td>\n",
       "      <td>8</td>\n",
       "      <td>44</td>\n",
       "      <td>43.00000</td>\n",
       "      <td>1.0</td>\n",
       "      <td>8.78533</td>\n",
       "      <td>1.428214</td>\n",
       "      <td>1970.661667</td>\n",
       "      <td>...</td>\n",
       "      <td>17</td>\n",
       "      <td>4</td>\n",
       "      <td>1</td>\n",
       "      <td>12</td>\n",
       "      <td>12</td>\n",
       "      <td>0</td>\n",
       "      <td>1</td>\n",
       "      <td>55</td>\n",
       "      <td>7</td>\n",
       "      <td>2000000</td>\n",
       "    </tr>\n",
       "    <tr>\n",
       "      <th>4</th>\n",
       "      <td>5</td>\n",
       "      <td>2014</td>\n",
       "      <td>1</td>\n",
       "      <td>10</td>\n",
       "      <td>45</td>\n",
       "      <td>28.00000</td>\n",
       "      <td>3.0</td>\n",
       "      <td>5.00000</td>\n",
       "      <td>2.000000</td>\n",
       "      <td>1960.000000</td>\n",
       "      <td>...</td>\n",
       "      <td>20</td>\n",
       "      <td>2</td>\n",
       "      <td>0</td>\n",
       "      <td>4</td>\n",
       "      <td>16</td>\n",
       "      <td>1</td>\n",
       "      <td>4</td>\n",
       "      <td>47</td>\n",
       "      <td>5</td>\n",
       "      <td>6700000</td>\n",
       "    </tr>\n",
       "  </tbody>\n",
       "</table>\n",
       "<p>5 rows × 294 columns</p>\n",
       "</div>"
      ],
      "text/plain": [
       "   id   f1y  f1m  f1d  f2        f3   f4        f5        f6           f7  \\\n",
       "0   1  2014    1   29  69  38.00000  7.0  10.00000  1.000000  2001.000000   \n",
       "1   2  2014    4    7  55  48.13174  2.0   1.00000  4.000000  1591.150833   \n",
       "2   3  2012    5   18  30  16.00000  2.0   7.29370  3.732457  1961.927529   \n",
       "3   4  2013    2    8  44  43.00000  1.0   8.78533  1.428214  1970.661667   \n",
       "4   5  2014    1   10  45  28.00000  3.0   5.00000  2.000000  1960.000000   \n",
       "\n",
       "   ...  f282  f283  f284  f285  f286  f287  f288  f289  f290   target  \n",
       "0  ...     1     0     0     2     8     1     0    19     2  9500000  \n",
       "1  ...     0     0     0     0     4     0     0     2     0  3837949  \n",
       "2  ...    46     9     2    11    38     1     8    97    11  6250000  \n",
       "3  ...    17     4     1    12    12     0     1    55     7  2000000  \n",
       "4  ...    20     2     0     4    16     1     4    47     5  6700000  \n",
       "\n",
       "[5 rows x 294 columns]"
      ]
     },
     "execution_count": 37,
     "metadata": {},
     "output_type": "execute_result"
    }
   ],
   "source": [
    "df_full[imputed.index] = df_imp2[imputed.index]\n",
    "df_full.head()"
   ]
  },
  {
   "cell_type": "code",
   "execution_count": 38,
   "metadata": {},
   "outputs": [
    {
     "data": {
      "text/plain": [
       "False"
      ]
     },
     "execution_count": 38,
     "metadata": {},
     "output_type": "execute_result"
    }
   ],
   "source": [
    "True in df_full.isna().values"
   ]
  },
  {
   "cell_type": "code",
   "execution_count": null,
   "metadata": {},
   "outputs": [],
   "source": []
  },
  {
   "cell_type": "markdown",
   "metadata": {},
   "source": [
    "# Imports"
   ]
  },
  {
   "cell_type": "code",
   "execution_count": 1,
   "metadata": {},
   "outputs": [],
   "source": [
    "import pandas as pd\n",
    "import numpy as np"
   ]
  },
  {
   "cell_type": "code",
   "execution_count": 2,
   "metadata": {},
   "outputs": [],
   "source": [
    "np.random.seed(3927)"
   ]
  },
  {
   "cell_type": "markdown",
   "metadata": {},
   "source": [
    "# Input"
   ]
  },
  {
   "cell_type": "code",
   "execution_count": 3,
   "metadata": {},
   "outputs": [],
   "source": [
    "df_train = pd.read_csv(\"input/train.csv\", index_col=False)\n",
    "df_test = pd.read_csv(\"input/test.csv\", index_col=False)"
   ]
  },
  {
   "cell_type": "markdown",
   "metadata": {},
   "source": [
    "# Preprocess"
   ]
  },
  {
   "cell_type": "code",
   "execution_count": 4,
   "metadata": {},
   "outputs": [],
   "source": [
    "def process_f1(df_train, df_test, index):\n",
    "    ymd_train = df_train['f1'].str.split('-', expand=True).astype('int64').rename(columns={0: 'year', 1: 'month', 2: 'day'})\n",
    "    ymd_test = df_test['f1'].str.split('-', expand=True).astype('int64').rename(columns={0: 'year', 1: 'month', 2: 'day'})\n",
    "    return pd.concat([df_train, ymd_train], axis=1).drop(['f1'], axis=1), \\\n",
    "           pd.concat([df_test, ymd_test], axis=1).drop(['f1'], axis=1), \\\n",
    "           index[1:]"
   ]
  },
  {
   "cell_type": "code",
   "execution_count": 5,
   "metadata": {},
   "outputs": [],
   "source": [
    "def process_f11(df_train, df_test, index):\n",
    "    f11_unique = df_train['f11'].unique()\n",
    "    f11_encode = dict(zip(f11_unique, np.eye(len(f11_unique))))\n",
    "    encode_train = pd.DataFrame([np.nan if k == np.nan else f11_encode[k] for k in df_train['f11']], columns=f11_unique)\n",
    "    encode_test = pd.DataFrame([np.nan if k == np.nan else f11_encode[k] for k in df_test['f11']], columns=f11_unique)\n",
    "    return pd.concat([df_train, encode_train], axis=1).drop(['f11'], axis=1), \\\n",
    "           pd.concat([df_test, encode_test], axis=1).drop(['f11'], axis=1), \\\n",
    "           index[1:]"
   ]
  },
  {
   "cell_type": "code",
   "execution_count": 6,
   "metadata": {},
   "outputs": [],
   "source": [
    "def process_f12(df_train, df_test, index):\n",
    "    f12_unique = df_train['f12'].unique()\n",
    "    f12_encode = dict(zip(f12_unique, np.eye(len(f12_unique))))\n",
    "    encode_train = pd.DataFrame([np.nan if k == np.nan else f12_encode[k] for k in df_train['f12']], columns=f12_unique)\n",
    "    encode_test = pd.DataFrame([np.nan if k == np.nan else f12_encode[k] for k in df_test['f12']], columns=f12_unique)\n",
    "    return pd.concat([df_train, encode_train], axis=1).drop(['f12'], axis=1), \\\n",
    "           pd.concat([df_test, encode_test], axis=1).drop(['f12'], axis=1), \\\n",
    "           index[1:]"
   ]
  },
  {
   "cell_type": "code",
   "execution_count": 7,
   "metadata": {},
   "outputs": [],
   "source": [
    "def process_bool(df_train, df_test, index):\n",
    "    bool_index = index[:-1]\n",
    "    bool_encode = {'no': 0, 'yes': 1}\n",
    "    encoding = dict.fromkeys(bool_index, bool_encode)\n",
    "    return df_train.replace(encoding), \\\n",
    "           df_test.replace(encoding), \\\n",
    "           [index[-1]]"
   ]
  },
  {
   "cell_type": "code",
   "execution_count": 8,
   "metadata": {},
   "outputs": [],
   "source": [
    "def process_f152(df_train, df_test, index):\n",
    "    f152_encode = dict(zip(['no data', 'poor', 'satisfactory', 'good', 'excellent'], range(5)))\n",
    "    encoding = {'f152': f152_encode}\n",
    "    return df_train.replace(encoding), \\\n",
    "           df_test.replace(encoding), \\\n",
    "           index"
   ]
  },
  {
   "cell_type": "code",
   "execution_count": 9,
   "metadata": {},
   "outputs": [],
   "source": [
    "def process_categorical(df_train, df_test):\n",
    "    cat = df_train.dtypes[df_train.dtypes == type(object)]\n",
    "    cat_index = list(cat.index)\n",
    "    \n",
    "    df_train_res, df_test_res, cat_index = process_f1(df_train, df_test, cat_index)\n",
    "    df_train_res, df_test_res, cat_index = process_f11(df_train_res, df_test_res, cat_index)\n",
    "    df_train_res, df_test_res, cat_index = process_f12(df_train_res, df_test_res, cat_index)\n",
    "    df_train_res, df_test_res, cat_index = process_bool(df_train_res, df_test_res, cat_index)\n",
    "    df_train_res, df_test_res, cat_index = process_f152(df_train_res, df_test_res, cat_index)\n",
    "    return df_train_res, df_test_res"
   ]
  },
  {
   "cell_type": "code",
   "execution_count": 10,
   "metadata": {},
   "outputs": [],
   "source": [
    "from sklearn.impute import KNNImputer\n",
    "\n",
    "def impute_na(df_train, df_test):\n",
    "    imputer = KNNImputer(n_neighbors=30, weights='distance')    \n",
    "    return pd.DataFrame(imputer.fit_transform(df_train), columns=df_train.columns), \\\n",
    "           pd.DataFrame(imputer.fit_transform(df_test), columns=df_test.columns)"
   ]
  },
  {
   "cell_type": "code",
   "execution_count": 11,
   "metadata": {},
   "outputs": [],
   "source": [
    "def preprocess(df_train, df_test):\n",
    "    df_train_res, df_test_res = process_categorical(df_train, df_test)\n",
    "    df_train_res, df_test_res = impute_na(df_train_res, df_test_res)\n",
    "    return df_train_res, df_test_res"
   ]
  },
  {
   "cell_type": "code",
   "execution_count": 12,
   "metadata": {},
   "outputs": [],
   "source": [
    "df_train_res, df_test_res = preprocess(df_train, df_test)"
   ]
  },
  {
   "cell_type": "code",
   "execution_count": 13,
   "metadata": {},
   "outputs": [
    {
     "data": {
      "text/html": [
       "<div>\n",
       "<style scoped>\n",
       "    .dataframe tbody tr th:only-of-type {\n",
       "        vertical-align: middle;\n",
       "    }\n",
       "\n",
       "    .dataframe tbody tr th {\n",
       "        vertical-align: top;\n",
       "    }\n",
       "\n",
       "    .dataframe thead th {\n",
       "        text-align: right;\n",
       "    }\n",
       "</style>\n",
       "<table border=\"1\" class=\"dataframe\">\n",
       "  <thead>\n",
       "    <tr style=\"text-align: right;\">\n",
       "      <th></th>\n",
       "      <th>id</th>\n",
       "      <th>f2</th>\n",
       "      <th>f3</th>\n",
       "      <th>f4</th>\n",
       "      <th>f5</th>\n",
       "      <th>f6</th>\n",
       "      <th>f7</th>\n",
       "      <th>f8</th>\n",
       "      <th>f9</th>\n",
       "      <th>f10</th>\n",
       "      <th>...</th>\n",
       "      <th>Ostankinskoe</th>\n",
       "      <th>Poselenie Kokoshkino</th>\n",
       "      <th>Poselenie Rjazanovskoe</th>\n",
       "      <th>Poselenie Klenovskoe</th>\n",
       "      <th>Poselenie Voronovskoe</th>\n",
       "      <th>Severnoe</th>\n",
       "      <th>Vostochnoe</th>\n",
       "      <th>Poselenie Kievskij</th>\n",
       "      <th>Molzhaninovskoe</th>\n",
       "      <th>Poselenie Mihajlovo-Jarcevskoe</th>\n",
       "    </tr>\n",
       "  </thead>\n",
       "  <tbody>\n",
       "    <tr>\n",
       "      <th>0</th>\n",
       "      <td>1.0</td>\n",
       "      <td>69.0</td>\n",
       "      <td>38.00000</td>\n",
       "      <td>7.0</td>\n",
       "      <td>10.000000</td>\n",
       "      <td>1.000000</td>\n",
       "      <td>2001.000000</td>\n",
       "      <td>2.000000</td>\n",
       "      <td>11.000000</td>\n",
       "      <td>2.000000</td>\n",
       "      <td>...</td>\n",
       "      <td>0.0</td>\n",
       "      <td>0.0</td>\n",
       "      <td>0.0</td>\n",
       "      <td>0.0</td>\n",
       "      <td>0.0</td>\n",
       "      <td>0.0</td>\n",
       "      <td>0.0</td>\n",
       "      <td>0.0</td>\n",
       "      <td>0.0</td>\n",
       "      <td>0.0</td>\n",
       "    </tr>\n",
       "    <tr>\n",
       "      <th>1</th>\n",
       "      <td>2.0</td>\n",
       "      <td>55.0</td>\n",
       "      <td>52.21082</td>\n",
       "      <td>2.0</td>\n",
       "      <td>1.000000</td>\n",
       "      <td>4.000000</td>\n",
       "      <td>1632.014324</td>\n",
       "      <td>2.000000</td>\n",
       "      <td>10.000000</td>\n",
       "      <td>1.079469</td>\n",
       "      <td>...</td>\n",
       "      <td>0.0</td>\n",
       "      <td>0.0</td>\n",
       "      <td>0.0</td>\n",
       "      <td>0.0</td>\n",
       "      <td>0.0</td>\n",
       "      <td>0.0</td>\n",
       "      <td>0.0</td>\n",
       "      <td>0.0</td>\n",
       "      <td>0.0</td>\n",
       "      <td>0.0</td>\n",
       "    </tr>\n",
       "    <tr>\n",
       "      <th>2</th>\n",
       "      <td>3.0</td>\n",
       "      <td>30.0</td>\n",
       "      <td>16.00000</td>\n",
       "      <td>2.0</td>\n",
       "      <td>10.367332</td>\n",
       "      <td>2.471149</td>\n",
       "      <td>1975.601328</td>\n",
       "      <td>1.378480</td>\n",
       "      <td>6.020559</td>\n",
       "      <td>2.609983</td>\n",
       "      <td>...</td>\n",
       "      <td>0.0</td>\n",
       "      <td>0.0</td>\n",
       "      <td>0.0</td>\n",
       "      <td>0.0</td>\n",
       "      <td>0.0</td>\n",
       "      <td>0.0</td>\n",
       "      <td>0.0</td>\n",
       "      <td>0.0</td>\n",
       "      <td>0.0</td>\n",
       "      <td>0.0</td>\n",
       "    </tr>\n",
       "    <tr>\n",
       "      <th>3</th>\n",
       "      <td>4.0</td>\n",
       "      <td>44.0</td>\n",
       "      <td>43.00000</td>\n",
       "      <td>1.0</td>\n",
       "      <td>9.901171</td>\n",
       "      <td>1.512365</td>\n",
       "      <td>1974.037088</td>\n",
       "      <td>1.846787</td>\n",
       "      <td>6.149361</td>\n",
       "      <td>2.171796</td>\n",
       "      <td>...</td>\n",
       "      <td>0.0</td>\n",
       "      <td>0.0</td>\n",
       "      <td>0.0</td>\n",
       "      <td>0.0</td>\n",
       "      <td>0.0</td>\n",
       "      <td>0.0</td>\n",
       "      <td>0.0</td>\n",
       "      <td>0.0</td>\n",
       "      <td>0.0</td>\n",
       "      <td>0.0</td>\n",
       "    </tr>\n",
       "    <tr>\n",
       "      <th>4</th>\n",
       "      <td>5.0</td>\n",
       "      <td>45.0</td>\n",
       "      <td>28.00000</td>\n",
       "      <td>3.0</td>\n",
       "      <td>5.000000</td>\n",
       "      <td>2.000000</td>\n",
       "      <td>1960.000000</td>\n",
       "      <td>2.000000</td>\n",
       "      <td>5.000000</td>\n",
       "      <td>2.489601</td>\n",
       "      <td>...</td>\n",
       "      <td>0.0</td>\n",
       "      <td>0.0</td>\n",
       "      <td>0.0</td>\n",
       "      <td>0.0</td>\n",
       "      <td>0.0</td>\n",
       "      <td>0.0</td>\n",
       "      <td>0.0</td>\n",
       "      <td>0.0</td>\n",
       "      <td>0.0</td>\n",
       "      <td>0.0</td>\n",
       "    </tr>\n",
       "  </tbody>\n",
       "</table>\n",
       "<p>5 rows × 440 columns</p>\n",
       "</div>"
      ],
      "text/plain": [
       "    id    f2        f3   f4         f5        f6           f7        f8  \\\n",
       "0  1.0  69.0  38.00000  7.0  10.000000  1.000000  2001.000000  2.000000   \n",
       "1  2.0  55.0  52.21082  2.0   1.000000  4.000000  1632.014324  2.000000   \n",
       "2  3.0  30.0  16.00000  2.0  10.367332  2.471149  1975.601328  1.378480   \n",
       "3  4.0  44.0  43.00000  1.0   9.901171  1.512365  1974.037088  1.846787   \n",
       "4  5.0  45.0  28.00000  3.0   5.000000  2.000000  1960.000000  2.000000   \n",
       "\n",
       "          f9       f10  ...  Ostankinskoe  Poselenie Kokoshkino  \\\n",
       "0  11.000000  2.000000  ...           0.0                   0.0   \n",
       "1  10.000000  1.079469  ...           0.0                   0.0   \n",
       "2   6.020559  2.609983  ...           0.0                   0.0   \n",
       "3   6.149361  2.171796  ...           0.0                   0.0   \n",
       "4   5.000000  2.489601  ...           0.0                   0.0   \n",
       "\n",
       "   Poselenie Rjazanovskoe  Poselenie Klenovskoe  Poselenie Voronovskoe  \\\n",
       "0                     0.0                   0.0                    0.0   \n",
       "1                     0.0                   0.0                    0.0   \n",
       "2                     0.0                   0.0                    0.0   \n",
       "3                     0.0                   0.0                    0.0   \n",
       "4                     0.0                   0.0                    0.0   \n",
       "\n",
       "   Severnoe  Vostochnoe  Poselenie Kievskij  Molzhaninovskoe  \\\n",
       "0       0.0         0.0                 0.0              0.0   \n",
       "1       0.0         0.0                 0.0              0.0   \n",
       "2       0.0         0.0                 0.0              0.0   \n",
       "3       0.0         0.0                 0.0              0.0   \n",
       "4       0.0         0.0                 0.0              0.0   \n",
       "\n",
       "   Poselenie Mihajlovo-Jarcevskoe  \n",
       "0                             0.0  \n",
       "1                             0.0  \n",
       "2                             0.0  \n",
       "3                             0.0  \n",
       "4                             0.0  \n",
       "\n",
       "[5 rows x 440 columns]"
      ]
     },
     "execution_count": 13,
     "metadata": {},
     "output_type": "execute_result"
    }
   ],
   "source": [
    "df_train_res.head()"
   ]
  },
  {
   "cell_type": "code",
   "execution_count": 14,
   "metadata": {},
   "outputs": [
    {
     "data": {
      "text/plain": [
       "False"
      ]
     },
     "execution_count": 14,
     "metadata": {},
     "output_type": "execute_result"
    }
   ],
   "source": [
    "True in df_train_res.isna().values"
   ]
  },
  {
   "cell_type": "code",
   "execution_count": 15,
   "metadata": {},
   "outputs": [
    {
     "data": {
      "text/html": [
       "<div>\n",
       "<style scoped>\n",
       "    .dataframe tbody tr th:only-of-type {\n",
       "        vertical-align: middle;\n",
       "    }\n",
       "\n",
       "    .dataframe tbody tr th {\n",
       "        vertical-align: top;\n",
       "    }\n",
       "\n",
       "    .dataframe thead th {\n",
       "        text-align: right;\n",
       "    }\n",
       "</style>\n",
       "<table border=\"1\" class=\"dataframe\">\n",
       "  <thead>\n",
       "    <tr style=\"text-align: right;\">\n",
       "      <th></th>\n",
       "      <th>id</th>\n",
       "      <th>f2</th>\n",
       "      <th>f3</th>\n",
       "      <th>f4</th>\n",
       "      <th>f5</th>\n",
       "      <th>f6</th>\n",
       "      <th>f7</th>\n",
       "      <th>f8</th>\n",
       "      <th>f9</th>\n",
       "      <th>f10</th>\n",
       "      <th>...</th>\n",
       "      <th>Ostankinskoe</th>\n",
       "      <th>Poselenie Kokoshkino</th>\n",
       "      <th>Poselenie Rjazanovskoe</th>\n",
       "      <th>Poselenie Klenovskoe</th>\n",
       "      <th>Poselenie Voronovskoe</th>\n",
       "      <th>Severnoe</th>\n",
       "      <th>Vostochnoe</th>\n",
       "      <th>Poselenie Kievskij</th>\n",
       "      <th>Molzhaninovskoe</th>\n",
       "      <th>Poselenie Mihajlovo-Jarcevskoe</th>\n",
       "    </tr>\n",
       "  </thead>\n",
       "  <tbody>\n",
       "    <tr>\n",
       "      <th>0</th>\n",
       "      <td>1.0</td>\n",
       "      <td>63.0</td>\n",
       "      <td>63.000000</td>\n",
       "      <td>11.0</td>\n",
       "      <td>17.000000</td>\n",
       "      <td>1.000000</td>\n",
       "      <td>1378.518174</td>\n",
       "      <td>2.000000</td>\n",
       "      <td>1.000000</td>\n",
       "      <td>1.858165</td>\n",
       "      <td>...</td>\n",
       "      <td>0.0</td>\n",
       "      <td>0.0</td>\n",
       "      <td>0.0</td>\n",
       "      <td>0.0</td>\n",
       "      <td>0.0</td>\n",
       "      <td>0.0</td>\n",
       "      <td>0.0</td>\n",
       "      <td>0.0</td>\n",
       "      <td>0.0</td>\n",
       "      <td>0.0</td>\n",
       "    </tr>\n",
       "    <tr>\n",
       "      <th>1</th>\n",
       "      <td>2.0</td>\n",
       "      <td>64.0</td>\n",
       "      <td>45.725183</td>\n",
       "      <td>2.0</td>\n",
       "      <td>16.063209</td>\n",
       "      <td>1.365118</td>\n",
       "      <td>312.385500</td>\n",
       "      <td>1.774013</td>\n",
       "      <td>1.211592</td>\n",
       "      <td>1.036679</td>\n",
       "      <td>...</td>\n",
       "      <td>0.0</td>\n",
       "      <td>0.0</td>\n",
       "      <td>0.0</td>\n",
       "      <td>0.0</td>\n",
       "      <td>0.0</td>\n",
       "      <td>0.0</td>\n",
       "      <td>0.0</td>\n",
       "      <td>0.0</td>\n",
       "      <td>0.0</td>\n",
       "      <td>0.0</td>\n",
       "    </tr>\n",
       "    <tr>\n",
       "      <th>2</th>\n",
       "      <td>3.0</td>\n",
       "      <td>40.0</td>\n",
       "      <td>52.765371</td>\n",
       "      <td>4.0</td>\n",
       "      <td>17.000000</td>\n",
       "      <td>1.000000</td>\n",
       "      <td>1678.864905</td>\n",
       "      <td>1.000000</td>\n",
       "      <td>1.000000</td>\n",
       "      <td>1.150219</td>\n",
       "      <td>...</td>\n",
       "      <td>0.0</td>\n",
       "      <td>0.0</td>\n",
       "      <td>0.0</td>\n",
       "      <td>0.0</td>\n",
       "      <td>0.0</td>\n",
       "      <td>0.0</td>\n",
       "      <td>0.0</td>\n",
       "      <td>0.0</td>\n",
       "      <td>0.0</td>\n",
       "      <td>0.0</td>\n",
       "    </tr>\n",
       "    <tr>\n",
       "      <th>3</th>\n",
       "      <td>4.0</td>\n",
       "      <td>37.0</td>\n",
       "      <td>1.000000</td>\n",
       "      <td>25.0</td>\n",
       "      <td>1.000000</td>\n",
       "      <td>1.000000</td>\n",
       "      <td>1.000000</td>\n",
       "      <td>1.000000</td>\n",
       "      <td>1.000000</td>\n",
       "      <td>1.000000</td>\n",
       "      <td>...</td>\n",
       "      <td>0.0</td>\n",
       "      <td>0.0</td>\n",
       "      <td>0.0</td>\n",
       "      <td>0.0</td>\n",
       "      <td>0.0</td>\n",
       "      <td>0.0</td>\n",
       "      <td>0.0</td>\n",
       "      <td>0.0</td>\n",
       "      <td>0.0</td>\n",
       "      <td>0.0</td>\n",
       "    </tr>\n",
       "    <tr>\n",
       "      <th>4</th>\n",
       "      <td>5.0</td>\n",
       "      <td>127.0</td>\n",
       "      <td>58.000000</td>\n",
       "      <td>11.0</td>\n",
       "      <td>20.000000</td>\n",
       "      <td>1.000000</td>\n",
       "      <td>2006.000000</td>\n",
       "      <td>3.000000</td>\n",
       "      <td>33.000000</td>\n",
       "      <td>4.000000</td>\n",
       "      <td>...</td>\n",
       "      <td>0.0</td>\n",
       "      <td>0.0</td>\n",
       "      <td>0.0</td>\n",
       "      <td>0.0</td>\n",
       "      <td>0.0</td>\n",
       "      <td>0.0</td>\n",
       "      <td>0.0</td>\n",
       "      <td>0.0</td>\n",
       "      <td>0.0</td>\n",
       "      <td>0.0</td>\n",
       "    </tr>\n",
       "  </tbody>\n",
       "</table>\n",
       "<p>5 rows × 439 columns</p>\n",
       "</div>"
      ],
      "text/plain": [
       "    id     f2         f3    f4         f5        f6           f7        f8  \\\n",
       "0  1.0   63.0  63.000000  11.0  17.000000  1.000000  1378.518174  2.000000   \n",
       "1  2.0   64.0  45.725183   2.0  16.063209  1.365118   312.385500  1.774013   \n",
       "2  3.0   40.0  52.765371   4.0  17.000000  1.000000  1678.864905  1.000000   \n",
       "3  4.0   37.0   1.000000  25.0   1.000000  1.000000     1.000000  1.000000   \n",
       "4  5.0  127.0  58.000000  11.0  20.000000  1.000000  2006.000000  3.000000   \n",
       "\n",
       "          f9       f10  ...  Ostankinskoe  Poselenie Kokoshkino  \\\n",
       "0   1.000000  1.858165  ...           0.0                   0.0   \n",
       "1   1.211592  1.036679  ...           0.0                   0.0   \n",
       "2   1.000000  1.150219  ...           0.0                   0.0   \n",
       "3   1.000000  1.000000  ...           0.0                   0.0   \n",
       "4  33.000000  4.000000  ...           0.0                   0.0   \n",
       "\n",
       "   Poselenie Rjazanovskoe  Poselenie Klenovskoe  Poselenie Voronovskoe  \\\n",
       "0                     0.0                   0.0                    0.0   \n",
       "1                     0.0                   0.0                    0.0   \n",
       "2                     0.0                   0.0                    0.0   \n",
       "3                     0.0                   0.0                    0.0   \n",
       "4                     0.0                   0.0                    0.0   \n",
       "\n",
       "   Severnoe  Vostochnoe  Poselenie Kievskij  Molzhaninovskoe  \\\n",
       "0       0.0         0.0                 0.0              0.0   \n",
       "1       0.0         0.0                 0.0              0.0   \n",
       "2       0.0         0.0                 0.0              0.0   \n",
       "3       0.0         0.0                 0.0              0.0   \n",
       "4       0.0         0.0                 0.0              0.0   \n",
       "\n",
       "   Poselenie Mihajlovo-Jarcevskoe  \n",
       "0                             0.0  \n",
       "1                             0.0  \n",
       "2                             0.0  \n",
       "3                             0.0  \n",
       "4                             0.0  \n",
       "\n",
       "[5 rows x 439 columns]"
      ]
     },
     "execution_count": 15,
     "metadata": {},
     "output_type": "execute_result"
    }
   ],
   "source": [
    "df_test_res.head()"
   ]
  },
  {
   "cell_type": "code",
   "execution_count": 16,
   "metadata": {},
   "outputs": [
    {
     "data": {
      "text/plain": [
       "False"
      ]
     },
     "execution_count": 16,
     "metadata": {},
     "output_type": "execute_result"
    }
   ],
   "source": [
    "True in df_test_res.isna().values"
   ]
  },
  {
   "cell_type": "markdown",
   "metadata": {},
   "source": [
    "# Prepare train-test sets"
   ]
  },
  {
   "cell_type": "code",
   "execution_count": 17,
   "metadata": {},
   "outputs": [],
   "source": [
    "X_train = df_train_res.drop(['id', 'target'], axis=1)\n",
    "y_train = df_train_res['target']\n",
    "X_test = df_test_res.drop('id', axis=1)"
   ]
  },
  {
   "cell_type": "code",
   "execution_count": 18,
   "metadata": {},
   "outputs": [
    {
     "data": {
      "text/plain": [
       "((24376, 438), (24376,), (6095, 438))"
      ]
     },
     "execution_count": 18,
     "metadata": {},
     "output_type": "execute_result"
    }
   ],
   "source": [
    "X_train.shape, y_train.shape, X_test.shape"
   ]
  },
  {
   "cell_type": "markdown",
   "metadata": {},
   "source": [
    "# Train pipeline"
   ]
  },
  {
   "cell_type": "code",
   "execution_count": 19,
   "metadata": {},
   "outputs": [],
   "source": [
    "from sklearn.preprocessing import MinMaxScaler, StandardScaler, Normalizer\n",
    "\n",
    "def transform(data):\n",
    "    # normalizer = Normalizer()\n",
    "    scaler = MinMaxScaler()\n",
    "    return pd.DataFrame(scaler.fit_transform(data), columns=data.columns)"
   ]
  },
  {
   "cell_type": "code",
   "execution_count": 20,
   "metadata": {},
   "outputs": [],
   "source": [
    "from sklearn.metrics import make_scorer\n",
    "\n",
    "def rmsle(y, y_pred, **kwargs):\n",
    "    # Allow negative predictions \n",
    "    # by incorporating prediction sign\n",
    "    terms = [np.sign(pred) * np.log(1 + np.sign(pred) * pred) - np.log(1 + targ) for pred, targ in zip(y_pred, y)]\n",
    "    return np.sqrt(np.sum(np.power(terms, 2.0)) / len(y))\n",
    "\n",
    "rmsle_scorer = make_scorer(rmsle, greater_is_better=False)"
   ]
  },
  {
   "cell_type": "code",
   "execution_count": 21,
   "metadata": {},
   "outputs": [],
   "source": [
    "from sklearn.model_selection import cross_val_score, RandomizedSearchCV\n",
    "\n",
    "def train(model, X, y, score=True, cv=5, tune=False, params=None, n_iter=10):\n",
    "    X_tr = transform(X)\n",
    "\n",
    "    if tune:\n",
    "        if score:\n",
    "            print(f\"Pre-tune CV scores: {cross_val_score(model, X_tr, y, cv=cv, scoring=rmsle_scorer)}\")\n",
    "        \n",
    "        rscv = RandomizedSearchCV(model, params, n_iter=n_iter, scoring=rmsle_scorer, refit=True, cv=cv, random_state=3927)\n",
    "        rscv.fit(X_tr, y)\n",
    "        print(f\"Best params: {rscv.best_params_}\")\n",
    "        model_tr = rscv.best_estimator_\n",
    "\n",
    "        if score:\n",
    "            print(f\"Post-tune CV scores: {cross_val_score(model_tr, X_tr, y, cv=cv, scoring=rmsle_scorer)}\")\n",
    "    else:\n",
    "        model_tr = model.fit(X_tr, y)\n",
    "    \n",
    "        if score:\n",
    "            print(f\"CV scores: {cross_val_score(model_tr, X_tr, y, cv=cv, scoring=rmsle_scorer)}\")\n",
    "\n",
    "    return model_tr"
   ]
  },
  {
   "cell_type": "markdown",
   "metadata": {},
   "source": [
    "# Test pipeline"
   ]
  },
  {
   "cell_type": "code",
   "execution_count": 22,
   "metadata": {},
   "outputs": [],
   "source": [
    "def test(model, X):\n",
    "    X_tr = transform(X)\n",
    "\n",
    "    pred = model.predict(X_tr)\n",
    "    data = list(zip(range(1, len(pred) + 1), pred))\n",
    "    return pd.DataFrame(data, columns=['id', 'prediction'])"
   ]
  },
  {
   "cell_type": "markdown",
   "metadata": {},
   "source": [
    "# Setup model"
   ]
  },
  {
   "cell_type": "markdown",
   "metadata": {},
   "source": [
    "## Ridge"
   ]
  },
  {
   "cell_type": "code",
   "execution_count": 31,
   "metadata": {},
   "outputs": [],
   "source": [
    "from sklearn.linear_model import Ridge\n",
    "from scipy.stats import loguniform"
   ]
  },
  {
   "cell_type": "code",
   "execution_count": 29,
   "metadata": {},
   "outputs": [
    {
     "name": "stdout",
     "output_type": "stream",
     "text": [
      "Pre-train CV scores: [-0.76793317 -0.80475525 -0.64224988 -0.84887315 -0.66290979]\n",
      "Best params: {'alpha': 61.80777706558883}\n",
      "Post-train CV scores: [-0.51919921 -0.52629284 -0.52775206 -0.53538359 -0.54654726]\n"
     ]
    },
    {
     "data": {
      "text/plain": [
       "Ridge(alpha=61.80777706558883, random_state=3927)"
      ]
     },
     "execution_count": 29,
     "metadata": {},
     "output_type": "execute_result"
    }
   ],
   "source": [
    "model = Ridge(random_state=3927)\n",
    "params = {'alpha': loguniform(0.001, 1000)}\n",
    "\n",
    "model = train(model, X_train, y_train, tune=True, params=params, n_iter=100)\n",
    "model"
   ]
  },
  {
   "cell_type": "code",
   "execution_count": 30,
   "metadata": {},
   "outputs": [
    {
     "name": "stdout",
     "output_type": "stream",
     "text": [
      "Pre-train CV scores: [-0.76793317 -0.80475525 -0.64224988 -0.84887315 -0.66290979]\n",
      "Best params: {'alpha': 50.54988329108238}\n",
      "Post-train CV scores: [-0.51624617 -0.52712394 -0.52483883 -0.53329103 -0.54376421]\n"
     ]
    },
    {
     "data": {
      "text/plain": [
       "Ridge(alpha=50.54988329108238, random_state=3927)"
      ]
     },
     "execution_count": 30,
     "metadata": {},
     "output_type": "execute_result"
    }
   ],
   "source": [
    "model = Ridge(random_state=3927)\n",
    "params = {'alpha': uniform(30, 60)}\n",
    "\n",
    "model = train(model, X_train, y_train, tune=True, params=params, n_iter=100)\n",
    "model"
   ]
  },
  {
   "cell_type": "markdown",
   "metadata": {},
   "source": [
    "## ElasticNet"
   ]
  },
  {
   "cell_type": "code",
   "execution_count": 31,
   "metadata": {},
   "outputs": [],
   "source": [
    "from sklearn.linear_model import ElasticNet\n",
    "from scipy.stats import loguniform, uniform"
   ]
  },
  {
   "cell_type": "code",
   "execution_count": 32,
   "metadata": {},
   "outputs": [
    {
     "name": "stdout",
     "output_type": "stream",
     "text": [
      "Pre-train CV scores: [-0.59307105 -0.59023686 -0.60216332 -0.59788463 -0.61329771]\n",
      "Best params: {'alpha': 0.034339915870309524, 'l1_ratio': 0.7688000396844558}\n",
      "Post-train CV scores: [-0.53471431 -0.5386356  -0.54309276 -0.54873848 -0.56099401]\n"
     ]
    },
    {
     "data": {
      "text/plain": [
       "ElasticNet(alpha=0.034339915870309524, l1_ratio=0.7688000396844558,\n",
       "           max_iter=500, random_state=3927, selection='random')"
      ]
     },
     "execution_count": 32,
     "metadata": {},
     "output_type": "execute_result"
    }
   ],
   "source": [
    "model = ElasticNet(max_iter=500, selection='random', random_state=3927)\n",
    "params = {'alpha': loguniform(0.01, 100), 'l1_ratio': uniform(0.1, 0.8)}\n",
    "\n",
    "model = train(model, X_train, y_train, tune=True, params=params, n_iter=10)\n",
    "model"
   ]
  },
  {
   "cell_type": "markdown",
   "metadata": {},
   "source": [
    "## DecisionTree"
   ]
  },
  {
   "cell_type": "code",
   "execution_count": 33,
   "metadata": {},
   "outputs": [],
   "source": [
    "from sklearn.tree import DecisionTreeRegressor"
   ]
  },
  {
   "cell_type": "code",
   "execution_count": 34,
   "metadata": {},
   "outputs": [
    {
     "name": "stdout",
     "output_type": "stream",
     "text": [
      "Pre-train CV scores: [-0.58373169 -0.5816293  -0.57902527 -0.6197102  -0.62401154]\n",
      "Best params: {'min_weight_fraction_leaf': 0.1, 'min_samples_leaf': 3, 'max_leaf_nodes': 70, 'max_depth': None}\n",
      "Post-train CV scores: [-0.52875864 -0.52792756 -0.53634052 -0.54510319 -0.55090827]\n"
     ]
    },
    {
     "data": {
      "text/plain": [
       "DecisionTreeRegressor(max_leaf_nodes=70, min_samples_leaf=3,\n",
       "                      min_weight_fraction_leaf=0.1, random_state=3927)"
      ]
     },
     "execution_count": 34,
     "metadata": {},
     "output_type": "execute_result"
    }
   ],
   "source": [
    "model = DecisionTreeRegressor(random_state=3927)\n",
    "params = {\"max_depth\" : [None, 1, 3, 5, 7, 9],\n",
    "          \"min_samples_leaf\": [1, 3, 5, 7, 9],\n",
    "          \"min_weight_fraction_leaf\": [0.1, 0.2, 0.3, 0.4, 0.5],\n",
    "          \"max_leaf_nodes\": [None, 10, 30, 50, 70, 90]}\n",
    "\n",
    "model = train(model, X_train, y_train, tune=True, params=params, n_iter=20)\n",
    "model"
   ]
  },
  {
   "cell_type": "markdown",
   "metadata": {},
   "source": [
    "## SGD"
   ]
  },
  {
   "cell_type": "code",
   "execution_count": 35,
   "metadata": {},
   "outputs": [],
   "source": [
    "from sklearn.linear_model import SGDRegressor\n",
    "from scipy.stats import loguniform, uniform"
   ]
  },
  {
   "cell_type": "code",
   "execution_count": 53,
   "metadata": {},
   "outputs": [
    {
     "name": "stdout",
     "output_type": "stream",
     "text": [
      "Pre-tune CV scores: [-0.52000473 -0.8025199  -0.52320905 -0.67421686 -0.66528009]\n",
      "Best params: {'alpha': 375.96342432314395}\n",
      "Post-tune CV scores: [-0.62219392 -0.61346204 -0.62751864 -0.62138989 -0.63336703]\n"
     ]
    },
    {
     "data": {
      "text/plain": [
       "SGDRegressor(alpha=375.96342432314395, max_iter=5000, random_state=3927)"
      ]
     },
     "execution_count": 53,
     "metadata": {},
     "output_type": "execute_result"
    }
   ],
   "source": [
    "model = SGDRegressor(max_iter=5000, penalty='l2', random_state=3927)\n",
    "params = {'alpha': uniform(0.001, 1000)}\n",
    "\n",
    "model = train(model, X_train, y_train, tune=True, params=params, n_iter=10)\n",
    "model"
   ]
  },
  {
   "cell_type": "code",
   "execution_count": 36,
   "metadata": {},
   "outputs": [
    {
     "name": "stdout",
     "output_type": "stream",
     "text": [
      "Pre-train CV scores: [-0.52058201 -0.80294035 -0.52343453 -0.67453236 -0.66563684]\n",
      "Best params: {'alpha': 0.010951283003602989, 'l1_ratio': 0.39457605876595403}\n",
      "Post-train CV scores: [-0.52893169 -0.53256302 -0.53680113 -0.54323188 -0.55348366]\n"
     ]
    },
    {
     "data": {
      "text/plain": [
       "SGDRegressor(alpha=0.010951283003602989, l1_ratio=0.39457605876595403,\n",
       "             max_iter=5000, penalty='elasticnet', random_state=3927)"
      ]
     },
     "execution_count": 36,
     "metadata": {},
     "output_type": "execute_result"
    }
   ],
   "source": [
    "model = SGDRegressor(max_iter=5000, penalty='elasticnet', random_state=3927)\n",
    "params = {'alpha': loguniform(0.001, 1000), 'l1_ratio': uniform(0.1, 0.8)}\n",
    "\n",
    "model = train(model, X_train, y_train, tune=True, params=params, n_iter=10)\n",
    "model"
   ]
  },
  {
   "cell_type": "code",
   "execution_count": 37,
   "metadata": {},
   "outputs": [
    {
     "name": "stdout",
     "output_type": "stream",
     "text": [
      "Pre-train CV scores: [-0.52058201 -0.80294035 -0.52343453 -0.67453236 -0.66563684]\n",
      "Best params: {'alpha': 0.13494980671099222, 'l1_ratio': 0.7688000396844558}\n",
      "Post-train CV scores: [-0.54447039 -0.54486867 -0.56713527 -0.55965897 -0.57757687]\n"
     ]
    },
    {
     "data": {
      "text/plain": [
       "SGDRegressor(alpha=0.13494980671099222, l1_ratio=0.7688000396844558,\n",
       "             max_iter=5000, penalty='elasticnet', random_state=3927)"
      ]
     },
     "execution_count": 37,
     "metadata": {},
     "output_type": "execute_result"
    }
   ],
   "source": [
    "model = SGDRegressor(max_iter=5000, penalty='elasticnet', random_state=3927)\n",
    "params = {'alpha': uniform(0.001, 1), 'l1_ratio': uniform(0.1, 0.8)}\n",
    "\n",
    "model = train(model, X_train, y_train, tune=True, params=params, n_iter=10)\n",
    "model"
   ]
  },
  {
   "cell_type": "code",
   "execution_count": 38,
   "metadata": {},
   "outputs": [
    {
     "name": "stdout",
     "output_type": "stream",
     "text": [
      "Pre-train CV scores: [-0.52058201 -0.80294035 -0.52343453 -0.67453236 -0.66563684]\n",
      "Best params: {'alpha': 0.01169749033554961, 'l1_ratio': 0.7688000396844558}\n",
      "Post-train CV scores: [-0.51815211 -0.53837724 -0.53557793 -0.54162234 -0.56373763]\n"
     ]
    },
    {
     "data": {
      "text/plain": [
       "SGDRegressor(alpha=0.01169749033554961, l1_ratio=0.7688000396844558,\n",
       "             max_iter=5000, penalty='elasticnet', random_state=3927)"
      ]
     },
     "execution_count": 38,
     "metadata": {},
     "output_type": "execute_result"
    }
   ],
   "source": [
    "model = SGDRegressor(max_iter=5000, penalty='elasticnet', random_state=3927)\n",
    "params = {'alpha': uniform(0.005, 0.05), 'l1_ratio': uniform(0.1, 0.8)}\n",
    "\n",
    "model = train(model, X_train, y_train, tune=True, params=params, n_iter=10)\n",
    "model"
   ]
  },
  {
   "cell_type": "markdown",
   "metadata": {},
   "source": [
    "## Stacking"
   ]
  },
  {
   "cell_type": "code",
   "execution_count": 39,
   "metadata": {},
   "outputs": [],
   "source": [
    "from sklearn.linear_model import Ridge\n",
    "from sklearn.linear_model import ElasticNet\n",
    "from sklearn.tree import DecisionTreeRegressor\n",
    "from sklearn.linear_model import SGDRegressor\n",
    "from sklearn.ensemble import StackingRegressor"
   ]
  },
  {
   "cell_type": "code",
   "execution_count": 42,
   "metadata": {},
   "outputs": [
    {
     "name": "stdout",
     "output_type": "stream",
     "text": [
      "CV scores: [-0.52604013 -0.52469718 -0.53491436 -0.54381605 -0.55119607]\n"
     ]
    },
    {
     "data": {
      "text/plain": [
       "StackingRegressor(estimators=[('RIDGE', Ridge(alpha=50, random_state=3927)),\n",
       "                              ('ELNET',\n",
       "                               ElasticNet(alpha=0.05, l1_ratio=0.6,\n",
       "                                          max_iter=500, random_state=3927,\n",
       "                                          selection='random')),\n",
       "                              ('SGDR',\n",
       "                               SGDRegressor(alpha=0.01, l1_ratio=0.6,\n",
       "                                            max_iter=5000, penalty='elasticnet',\n",
       "                                            random_state=3927))],\n",
       "                  final_estimator=DecisionTreeRegressor(max_leaf_nodes=70,\n",
       "                                                        min_samples_leaf=3,\n",
       "                                                        min_weight_fraction_leaf=0.1,\n",
       "                                                        random_state=3927),\n",
       "                  n_jobs=-1)"
      ]
     },
     "execution_count": 42,
     "metadata": {},
     "output_type": "execute_result"
    }
   ],
   "source": [
    "estimators = [\n",
    "    ('RIDGE', Ridge(alpha=50, random_state=3927)),\n",
    "    ('ELNET', ElasticNet(max_iter=500, alpha=0.05, l1_ratio=0.6, selection='random', random_state=3927)),\n",
    "    ('SGDR', SGDRegressor(max_iter=5000, penalty='elasticnet', alpha=0.01, l1_ratio=0.6, random_state=3927))\n",
    "]\n",
    "final = DecisionTreeRegressor(max_leaf_nodes=70, min_samples_leaf=3,\n",
    "                                    min_weight_fraction_leaf=0.1, random_state=3927)\n",
    "model = StackingRegressor(estimators, final_estimator=final, n_jobs=-1)\n",
    "\n",
    "model = train(model, X_train, y_train)\n",
    "model"
   ]
  },
  {
   "cell_type": "markdown",
   "metadata": {},
   "source": [
    "## Bagging"
   ]
  },
  {
   "cell_type": "code",
   "execution_count": 26,
   "metadata": {},
   "outputs": [],
   "source": [
    "from sklearn.ensemble import BaggingRegressor\n",
    "from scipy.stats import randint"
   ]
  },
  {
   "cell_type": "code",
   "execution_count": 29,
   "metadata": {},
   "outputs": [
    {
     "name": "stdout",
     "output_type": "stream",
     "text": [
      "Pre-tune CV scores: [-0.45166694 -0.45426409 -0.46059833 -0.4687825  -0.47241517]\n",
      "Best params: {'max_features': 15, 'max_samples': 53}\n",
      "Post-tune CV scores: [-0.61141405 -0.61218591 -0.62413512 -0.62759376 -0.62476246]\n"
     ]
    },
    {
     "data": {
      "text/plain": [
       "BaggingRegressor(max_features=15, max_samples=53, n_estimators=5, n_jobs=-1,\n",
       "                 random_state=3927)"
      ]
     },
     "execution_count": 29,
     "metadata": {},
     "output_type": "execute_result"
    }
   ],
   "source": [
    "model = BaggingRegressor(n_estimators=5, n_jobs=-1, random_state=3927)\n",
    "params = {'max_samples': randint(1, 100), 'max_features': randint(1, 20)}\n",
    "\n",
    "model = train(model, X_train, y_train, tune=True, params=params, n_iter=30)\n",
    "model"
   ]
  },
  {
   "cell_type": "code",
   "execution_count": 33,
   "metadata": {},
   "outputs": [
    {
     "name": "stdout",
     "output_type": "stream",
     "text": [
      "Pre-tune CV scores: [-0.51639557 -0.52732489 -0.52465283 -0.53375375 -0.54417277]\n",
      "Best params: {'max_features': 17, 'max_samples': 93}\n",
      "Post-tune CV scores: [-0.620283   -0.62007302 -0.62901421 -0.62766516 -0.63624252]\n"
     ]
    },
    {
     "data": {
      "text/plain": [
       "BaggingRegressor(base_estimator=Ridge(alpha=50, random_state=3927),\n",
       "                 max_features=17, max_samples=93, n_estimators=20, n_jobs=-1,\n",
       "                 random_state=3927)"
      ]
     },
     "execution_count": 33,
     "metadata": {},
     "output_type": "execute_result"
    }
   ],
   "source": [
    "base = Ridge(alpha=50, random_state=3927)\n",
    "model = BaggingRegressor(base_estimator=base, n_estimators=20, n_jobs=-1, random_state=3927)\n",
    "params = {'max_samples': randint(1, 100), 'max_features': randint(1, 20)}\n",
    "\n",
    "model = train(model, X_train, y_train, tune=True, params=params, n_iter=10)\n",
    "model"
   ]
  },
  {
   "cell_type": "code",
   "execution_count": 39,
   "metadata": {},
   "outputs": [
    {
     "name": "stdout",
     "output_type": "stream",
     "text": [
      "Pre-tune CV scores: [-0.52665917 -0.52868404 -0.54358468 -0.54431884 -0.54963534]\n",
      "Best params: {'max_features': 17, 'max_samples': 93}\n",
      "Post-tune CV scores: [-0.60621947 -0.59940176 -0.61378721 -0.61133922 -0.61811996]\n"
     ]
    },
    {
     "data": {
      "text/plain": [
       "BaggingRegressor(base_estimator=SGDRegressor(alpha=0.01, l1_ratio=0.6,\n",
       "                                             max_iter=5000,\n",
       "                                             penalty='elasticnet',\n",
       "                                             random_state=3927),\n",
       "                 max_features=17, max_samples=93, n_estimators=2, n_jobs=-1,\n",
       "                 random_state=3927)"
      ]
     },
     "execution_count": 39,
     "metadata": {},
     "output_type": "execute_result"
    }
   ],
   "source": [
    "base = SGDRegressor(max_iter=5000, alpha=0.01, l1_ratio=0.6, penalty='elasticnet', random_state=3927)\n",
    "model = BaggingRegressor(base_estimator=base, n_estimators=2, n_jobs=-1, random_state=3927)\n",
    "params = {'max_samples': randint(1, 100), 'max_features': randint(1, 20)}\n",
    "\n",
    "model = train(model, X_train, y_train, tune=True, params=params, n_iter=10)\n",
    "model"
   ]
  },
  {
   "cell_type": "markdown",
   "metadata": {},
   "source": [
    "## Boosting"
   ]
  },
  {
   "cell_type": "markdown",
   "metadata": {},
   "source": [
    "### AdaBoost"
   ]
  },
  {
   "cell_type": "code",
   "execution_count": 40,
   "metadata": {},
   "outputs": [],
   "source": [
    "from sklearn.ensemble import AdaBoostRegressor"
   ]
  },
  {
   "cell_type": "code",
   "execution_count": 42,
   "metadata": {},
   "outputs": [
    {
     "name": "stdout",
     "output_type": "stream",
     "text": [
      "CV scores: [-0.54204225 -0.52067484 -0.54264759 -0.54824418 -0.56108101]\n"
     ]
    },
    {
     "data": {
      "text/plain": [
       "AdaBoostRegressor(loss='square', n_estimators=10, random_state=3927)"
      ]
     },
     "execution_count": 42,
     "metadata": {},
     "output_type": "execute_result"
    }
   ],
   "source": [
    "model = AdaBoostRegressor(n_estimators=10, loss='square', random_state=3927)\n",
    "\n",
    "model = train(model, X_train, y_train)\n",
    "model"
   ]
  },
  {
   "cell_type": "code",
   "execution_count": 51,
   "metadata": {},
   "outputs": [
    {
     "name": "stdout",
     "output_type": "stream",
     "text": [
      "CV scores: [-0.51693623 -0.71379555 -0.52619165 -0.6600755  -0.54584992]\n"
     ]
    },
    {
     "data": {
      "text/plain": [
       "AdaBoostRegressor(base_estimator=Ridge(alpha=50, random_state=3927),\n",
       "                  loss='square', n_estimators=2, random_state=3927)"
      ]
     },
     "execution_count": 51,
     "metadata": {},
     "output_type": "execute_result"
    }
   ],
   "source": [
    "base = Ridge(alpha=50, random_state=3927)\n",
    "model = AdaBoostRegressor(base_estimator=base, n_estimators=2, loss='square', random_state=3927)\n",
    "\n",
    "model = train(model, X_train, y_train)\n",
    "model"
   ]
  },
  {
   "cell_type": "code",
   "execution_count": 52,
   "metadata": {},
   "outputs": [
    {
     "name": "stdout",
     "output_type": "stream",
     "text": [
      "CV scores: [-0.51972606 -0.65399857 -0.53793218 -0.54556841 -0.5572942 ]\n"
     ]
    },
    {
     "data": {
      "text/plain": [
       "AdaBoostRegressor(base_estimator=SGDRegressor(alpha=0.01, l1_ratio=0.6,\n",
       "                                              max_iter=5000,\n",
       "                                              penalty='elasticnet',\n",
       "                                              random_state=3927),\n",
       "                  loss='square', n_estimators=2, random_state=3927)"
      ]
     },
     "execution_count": 52,
     "metadata": {},
     "output_type": "execute_result"
    }
   ],
   "source": [
    "base = SGDRegressor(max_iter=5000, alpha=0.01, l1_ratio=0.6, penalty='elasticnet', random_state=3927)\n",
    "model = AdaBoostRegressor(base_estimator=base, n_estimators=2, loss='square', random_state=3927)\n",
    "\n",
    "model = train(model, X_train, y_train)\n",
    "model"
   ]
  },
  {
   "cell_type": "markdown",
   "metadata": {},
   "source": [
    "### GradientBoosting"
   ]
  },
  {
   "cell_type": "code",
   "execution_count": 54,
   "metadata": {},
   "outputs": [],
   "source": [
    "from sklearn.ensemble import GradientBoostingRegressor"
   ]
  },
  {
   "cell_type": "code",
   "execution_count": 55,
   "metadata": {},
   "outputs": [
    {
     "name": "stdout",
     "output_type": "stream",
     "text": [
      "CV scores: [-0.5144895  -0.51580978 -0.52648808 -0.52744631 -0.54062705]\n"
     ]
    },
    {
     "data": {
      "text/plain": [
       "GradientBoostingRegressor(n_estimators=10, random_state=3927)"
      ]
     },
     "execution_count": 55,
     "metadata": {},
     "output_type": "execute_result"
    }
   ],
   "source": [
    "model = GradientBoostingRegressor(n_estimators=10, random_state=3927)\n",
    "\n",
    "model = train(model, X_train, y_train)\n",
    "model"
   ]
  },
  {
   "cell_type": "code",
   "execution_count": 56,
   "metadata": {},
   "outputs": [
    {
     "name": "stdout",
     "output_type": "stream",
     "text": [
      "CV scores: [-0.45537377 -0.45971252 -0.46682355 -0.4773608  -0.48815675]\n"
     ]
    },
    {
     "data": {
      "text/plain": [
       "GradientBoostingRegressor(random_state=3927)"
      ]
     },
     "execution_count": 56,
     "metadata": {},
     "output_type": "execute_result"
    }
   ],
   "source": [
    "model = GradientBoostingRegressor(n_estimators=100, random_state=3927)\n",
    "\n",
    "model = train(model, X_train, y_train)\n",
    "model"
   ]
  },
  {
   "cell_type": "markdown",
   "metadata": {},
   "source": [
    "## Custom"
   ]
  },
  {
   "cell_type": "code",
   "execution_count": 75,
   "metadata": {},
   "outputs": [
    {
     "name": "stdout",
     "output_type": "stream",
     "text": [
      "Warning: Desired error not necessarily achieved due to precision loss.\n",
      "         Current function value: 12.055089\n",
      "         Iterations: 59\n",
      "         Function evaluations: 35574\n",
      "         Gradient evaluations: 121\n",
      "[-5.89652413e+02 -7.01089037e+02 -9.62186457e+02  3.33754164e+02\n",
      "  3.42381794e+02  1.30231496e+03  1.79167827e+03  1.43884259e+03\n",
      " -7.49728366e+01  5.79214141e+01  5.28944642e+02  1.83410402e+02\n",
      "  4.22472647e+02 -4.17908865e+03 -4.98516620e+02 -1.61690452e+00\n",
      "  1.78767081e+03 -1.72826181e+02 -1.18831036e+02  8.27094063e+02\n",
      "  1.01015129e+01 -1.75484736e+02  5.85650009e+02 -1.86386872e+02\n",
      " -2.81608946e+02 -4.88085043e+02  2.36373631e+02 -6.46890542e+02\n",
      " -5.44585001e+02 -7.94931163e+02 -1.52572017e+03 -1.24195282e+03\n",
      " -6.74089905e+02 -1.37164174e+03 -3.09696457e+02 -3.64522345e+02\n",
      "  1.55807784e+03  7.06889666e+02 -9.76006292e+02 -8.33134505e+02\n",
      " -1.16224576e+03 -1.70815689e+03  2.13133270e+03  2.09622797e+03\n",
      "  2.16019188e+03 -1.45156673e+02 -1.12336625e+02 -1.79945344e+02\n",
      " -3.95278263e+01  1.07097226e+02 -1.88264431e+02  1.96235380e+02\n",
      "  3.29597084e+02  1.35864831e+02 -1.18831035e+02 -1.17217041e+02\n",
      " -1.20364658e+02 -1.75484736e+02 -1.29604193e+02 -2.23488518e+02\n",
      " -1.34792768e+02 -1.01839777e+02 -1.69486606e+02  2.22749720e+03\n",
      "  2.17100835e+03  2.27896912e+03 -1.49894330e+02 -1.24798954e+02\n",
      " -1.76154123e+02  4.74765409e+02  1.87801858e+02  7.52975305e+02\n",
      "  1.41180328e+02 -6.74462355e+02  6.52201766e+02  8.12545131e+02\n",
      " -2.03382442e+02  1.28349601e+03  1.07168653e+03  4.76250249e+02\n",
      " -1.55045310e+03  4.14722218e+02  3.04592230e+02  5.72890752e+02\n",
      "  8.84997864e+02 -3.24545115e+02  6.14198087e+02  3.66794828e+02\n",
      "  3.56011106e+02  3.56011107e+02 -8.21370767e+02 -8.62647906e+02\n",
      "  4.04420501e+02 -1.43827985e+03 -4.04501259e+02  9.78936053e+02\n",
      "  1.37751988e+03  5.02950325e+02  2.49430643e+02  2.49430642e+02\n",
      "  5.06565476e+02  6.13157122e+01  4.95645191e+02 -4.20004319e+01\n",
      " -6.40558817e+02 -6.40558815e+02 -6.10738979e+02 -4.33391267e+02\n",
      " -3.69929747e+02  5.02039342e+02  6.01419832e+02  6.41818918e+02\n",
      "  6.42213931e+02 -2.82557778e+01  3.45149378e+02  6.82775826e+02\n",
      " -6.17352062e+02  1.07603148e+03  4.63379596e+01 -3.75868908e+02\n",
      "  4.65849984e+02  5.44837266e+02  7.81580265e+02 -1.23356500e+02\n",
      "  1.49406610e+03  9.26753063e+01  5.50486824e+02  4.40698528e+02\n",
      "  1.73048960e+02 -4.63979463e+02  7.78329573e+02  2.63107597e+02\n",
      " -6.52101068e+02 -8.31765373e+02 -1.29366007e+03 -6.55342881e+02\n",
      " -2.22098504e+02 -4.45157495e+02  6.62143823e+02 -1.04387304e+03\n",
      " -3.33093957e+02  9.63986094e+01 -1.05879921e+03 -5.11000803e+02\n",
      " -2.91377217e+02 -8.46185572e+02 -3.16667577e+02  1.49599375e+03\n",
      "  9.76975732e+02 -3.10095624e+02 -6.04850292e+02 -4.56705607e+02\n",
      " -7.91306874e+02 -5.47345266e+02  1.89790263e+03 -3.34932525e+02\n",
      " -1.32916288e+03 -1.48272957e+03 -1.25926549e+03 -1.00956545e+03\n",
      " -1.36979774e+03 -2.57179784e+02  8.61509739e+01 -4.86824422e+01\n",
      " -1.36804922e+03 -1.21627277e+03 -9.03284017e+02 -1.76013931e+03\n",
      " -1.23488430e+03 -1.32705735e+03 -1.09678612e+03 -1.26561318e+03\n",
      " -1.38686973e+03 -3.76903347e+02  1.63740174e+02 -4.54947108e+02\n",
      " -6.52955757e+01  1.90521666e+03  2.03503933e+02 -1.21379104e+03\n",
      " -1.44169053e+03 -1.25306640e+03 -1.28779261e+03 -1.15220566e+03\n",
      "  3.06904080e+02  4.43861393e+02  3.91610689e+02 -8.62955366e+02\n",
      " -1.14006328e+03 -1.09125333e+03 -1.29044841e+03 -1.10963957e+03\n",
      " -1.04555345e+03 -8.96307102e+02 -1.58095519e+03 -1.46513810e+03\n",
      "  5.04161878e+02 -9.69198088e+02 -1.09259025e+03  5.67546343e+02\n",
      "  1.66633578e+03  3.93380543e+02 -1.22932978e+03 -1.20123054e+03\n",
      " -1.64287041e+03 -1.51818293e+03 -1.17884199e+03 -4.92055195e+02\n",
      " -3.10004119e+02 -3.84958041e+02 -9.69649603e+02 -1.14141829e+03\n",
      " -1.13231628e+03 -1.21534747e+03 -1.27963848e+03 -1.16158609e+03\n",
      " -1.29535464e+03 -1.34030591e+03 -1.31140572e+03 -2.94461748e+02\n",
      " -1.22805244e+03 -2.59533089e+02 -7.51106404e+02  1.63217988e+03\n",
      " -1.03598800e+02 -1.28710675e+03 -9.69552567e+02 -1.41615257e+03\n",
      " -1.17222555e+03 -1.22990848e+03 -1.10753379e+03 -1.06468665e+03\n",
      " -1.08674887e+03 -1.10091494e+03 -1.15899006e+03 -1.18726982e+03\n",
      " -1.29523193e+03 -1.29936169e+03 -1.26036648e+03 -1.38690104e+03\n",
      " -1.31614701e+03 -1.32074407e+03 -1.19449799e+02 -1.21978986e+03\n",
      " -7.55213173e+02 -1.95032563e+02  1.73610171e+03 -9.14222620e+02\n",
      " -1.28969103e+03 -6.89629040e+02 -1.05875161e+03 -1.02928846e+03\n",
      " -1.26952681e+03 -9.64556581e+02 -7.93369611e+02 -8.61391276e+02\n",
      " -1.25766873e+03 -1.18201738e+03 -1.24549785e+03 -1.34265542e+03\n",
      " -1.29864106e+03 -1.27646277e+03 -1.31378098e+03 -1.51797384e+03\n",
      " -1.36342264e+03 -9.34682108e+02 -1.30444874e+03 -6.92083142e+02\n",
      " -1.01029747e+03  1.63583964e+03 -8.28846222e+02 -1.31233070e+03\n",
      " -9.07068641e+02 -9.69682484e+02 -6.55917462e+02 -1.31106987e+03\n",
      " -1.29185003e+03 -1.25072991e+03 -1.26805294e+03 -1.23435041e+03\n",
      " -1.29653214e+03 -1.28276210e+03 -1.34092151e+03 -1.33652550e+03\n",
      " -1.32524719e+03 -1.15501662e+03 -1.61193406e+03 -1.45704137e+03\n",
      " -1.17143374e+03 -1.64350586e+03 -9.33316504e+02 -1.00802099e+03\n",
      "  1.00000000e+00]\n"
     ]
    }
   ],
   "source": [
    "from scipy.optimize import minimize\n",
    "\n",
    "def loss_function(beta, X, Y):\n",
    "    return rmsle(Y, X @ beta)\n",
    "\n",
    "X_train_tr = transform(pd.DataFrame(np.concatenate((X_train, np.ones((X_train.shape[0], 1))), axis=1), columns=list(X_train.columns) + ['intercept']))\n",
    "beta_init = np.array([1] * X_train_tr.shape[1])\n",
    "res = minimize(loss_function, beta_init, args=(X_train_tr[:100], y_train[:100]), options={'maxiter': 100, 'disp': True})\n",
    "print(res.x)"
   ]
  },
  {
   "cell_type": "markdown",
   "metadata": {},
   "source": [
    "# Test"
   ]
  },
  {
   "cell_type": "code",
   "execution_count": 57,
   "metadata": {},
   "outputs": [
    {
     "data": {
      "text/html": [
       "<div>\n",
       "<style scoped>\n",
       "    .dataframe tbody tr th:only-of-type {\n",
       "        vertical-align: middle;\n",
       "    }\n",
       "\n",
       "    .dataframe tbody tr th {\n",
       "        vertical-align: top;\n",
       "    }\n",
       "\n",
       "    .dataframe thead th {\n",
       "        text-align: right;\n",
       "    }\n",
       "</style>\n",
       "<table border=\"1\" class=\"dataframe\">\n",
       "  <thead>\n",
       "    <tr style=\"text-align: right;\">\n",
       "      <th></th>\n",
       "      <th>id</th>\n",
       "      <th>prediction</th>\n",
       "    </tr>\n",
       "  </thead>\n",
       "  <tbody>\n",
       "    <tr>\n",
       "      <th>0</th>\n",
       "      <td>1</td>\n",
       "      <td>1.703304e+07</td>\n",
       "    </tr>\n",
       "    <tr>\n",
       "      <th>1</th>\n",
       "      <td>2</td>\n",
       "      <td>5.037466e+06</td>\n",
       "    </tr>\n",
       "    <tr>\n",
       "      <th>2</th>\n",
       "      <td>3</td>\n",
       "      <td>1.396499e+07</td>\n",
       "    </tr>\n",
       "    <tr>\n",
       "      <th>3</th>\n",
       "      <td>4</td>\n",
       "      <td>1.744371e+07</td>\n",
       "    </tr>\n",
       "    <tr>\n",
       "      <th>4</th>\n",
       "      <td>5</td>\n",
       "      <td>5.272219e+07</td>\n",
       "    </tr>\n",
       "  </tbody>\n",
       "</table>\n",
       "</div>"
      ],
      "text/plain": [
       "   id    prediction\n",
       "0   1  1.703304e+07\n",
       "1   2  5.037466e+06\n",
       "2   3  1.396499e+07\n",
       "3   4  1.744371e+07\n",
       "4   5  5.272219e+07"
      ]
     },
     "execution_count": 57,
     "metadata": {},
     "output_type": "execute_result"
    }
   ],
   "source": [
    "df_pred = test(model, X_test)\n",
    "df_pred.head()"
   ]
  },
  {
   "cell_type": "markdown",
   "metadata": {},
   "source": [
    "# Validate"
   ]
  },
  {
   "cell_type": "code",
   "execution_count": 58,
   "metadata": {},
   "outputs": [
    {
     "data": {
      "text/plain": [
       "Series([], Name: prediction, dtype: float64)"
      ]
     },
     "execution_count": 58,
     "metadata": {},
     "output_type": "execute_result"
    }
   ],
   "source": [
    "df_pred['prediction'][df_pred['prediction'] <= 100000]"
   ]
  },
  {
   "cell_type": "markdown",
   "metadata": {},
   "source": [
    "# Export"
   ]
  },
  {
   "cell_type": "code",
   "execution_count": 59,
   "metadata": {},
   "outputs": [],
   "source": [
    "df_pred.to_csv(\"output/submission.csv\", index=False)"
   ]
  },
  {
   "cell_type": "code",
   "execution_count": null,
   "metadata": {},
   "outputs": [],
   "source": []
  }
 ],
 "metadata": {
  "interpreter": {
   "hash": "08185bf09d066e6467fc310b9bcfbc112bb9f55e576060cbccac4f7aed0eafad"
  },
  "kernelspec": {
   "display_name": "Python 3.8.10 64-bit",
   "language": "python",
   "name": "python3"
  },
  "language_info": {
   "codemirror_mode": {
    "name": "ipython",
    "version": 3
   },
   "file_extension": ".py",
   "mimetype": "text/x-python",
   "name": "python",
   "nbconvert_exporter": "python",
   "pygments_lexer": "ipython3",
   "version": "3.10.0"
  },
  "orig_nbformat": 4
 },
 "nbformat": 4,
 "nbformat_minor": 2
}
